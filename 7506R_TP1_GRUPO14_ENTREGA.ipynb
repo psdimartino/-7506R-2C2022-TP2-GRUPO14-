{
 "cells": [
  {
   "cell_type": "markdown",
   "source": [
    "______________________________________\n",
    "# <center>**Trabajo Practico Nº1 para la Materia *Organización de Datos***</center>\n",
    "\n",
    "*Integrantes*:\n",
    "- 103963\tCarolina Di Matteo\tcdimatteo@fi.uba.ar\n",
    "- 101231\tPablo Salvador Dimartino\tpdimartino@fi.uba.ar\n",
    "- 100113\tJuan Sebastian Burgos\tjsburgos@fi.uba.ar\n",
    "- 104415\tValentina Laura Correa\tvcorrea@fi.uba.ar\n",
    "\n",
    "*Grupo*: 14\n",
    "\n",
    "*Repositorio*: [github](https://github.com/valencorrea/7506R-2C2022-GRUPO14)\n",
    "\n",
    "*Curso*: Rodriguez\n",
    "\n",
    "*Cuatrimestre*: 2c2022\n",
    "\n",
    "Datos provistos por [properati](https://www.properati.com.ar).\n",
    "______________________________________\n"
   ],
   "metadata": {
    "collapsed": false
   }
  },
  {
   "cell_type": "code",
   "execution_count": 77,
   "outputs": [],
   "source": [
    "#Importación de librerías\n",
    "\n",
    "import numpy as np\n",
    "import cmath as math\n",
    "import matplotlib.pyplot as plt\n",
    "import seaborn as sns\n",
    "import pandas as pd\n",
    "\n",
    "#Configuración de Warnings\n",
    "import warnings\n",
    "warnings.filterwarnings('ignore')\n",
    "warnings.simplefilter(action='ignore', category=FutureWarning)\n",
    "warnings.simplefilter(action='ignore', category=UserWarning)\n",
    "\n",
    "#Ejecución con Drive\n",
    "if 'google.colab' in str(get_ipython()):\n",
    "    IN_COLAB = True\n",
    "else:\n",
    "    IN_COLAB = False\n",
    "\n",
    "if IN_COLAB :\n",
    "    from google.colab import drive\n",
    "    drive.mount('/content/drive')\n",
    "    properati = pd.read_csv('/content/drive/MyDrive/📔 Organización de Datos (75.06)/TPS/TP1/properati_argentina_2021.csv')\n",
    "    properati_decrip = pd.read_csv('/content/drive/MyDrive/📔 Organización de Datos (75.06)/TPS/TP1/properati_argentina_2021_decrip.csv')\n",
    "else:\n",
    "    properati=pd.read_csv('properati_argentina_2021.csv')\n",
    "    properati_decrip = pd.read_csv('properati_argentina_2021_decrip.csv')"
   ],
   "metadata": {
    "collapsed": false
   }
  },
  {
   "cell_type": "code",
   "execution_count": 78,
   "outputs": [
    {
     "data": {
      "text/plain": "                              id  \\\n0       BZCeiGkJr1WBUi6pKJQwJQ==   \n1       zuHOGgUE0UB71W7m/YCLoA==   \n2       TUL813tXchVBlHUsfaA6DA==   \n3       gn55JPmcjftBV/at1a7fPg==   \n4       qg4m3QHcuo1+wMmyp7kx3Q==   \n...                          ...   \n460149  MbQ4rqEzjp9Jfc3Sywb/YQ==   \n460150  fbuG1ohYC623nxLYPQPBvw==   \n460151  Ry5hMwctFXD7rLoUpzduxQ==   \n460152  xH37f+l+VOP8Vj0T3g+r6g==   \n460153  7XOOIQjoDg0MPUoy9HLzng==   \n\n                                     property_description  \n0       Corredor Responsable: MARIA ALEJANDRA GENOVEVA...  \n1       ¡HERMOSO PH TIPO CASA DE 2 AMBIENTES!<br>APTO ...  \n2       Excelente PH en Núñez 4 amb!!!! Oportunidad !!...  \n3       UNICO PH DE 4 DORMITORIOS EN IMPECABLE ESTADO,...  \n4       Ph 2 Amb. Villa Crespo exclusivo uso profesion...  \n...                                                   ...  \n460149  Corredor Responsable: Hector Garaygorta / Cris...  \n460150  Corredor Responsable: MARIA DEL ROSARIO NEME -...  \n460151  En cumplimiento de las leyes provinciales vige...  \n460152  En cumplimiento de las leyes provinciales vige...  \n460153  CASA EN VENTA EN BARILOCHE – Lomas del Cauquén...  \n\n[460154 rows x 2 columns]",
      "text/html": "<div>\n<style scoped>\n    .dataframe tbody tr th:only-of-type {\n        vertical-align: middle;\n    }\n\n    .dataframe tbody tr th {\n        vertical-align: top;\n    }\n\n    .dataframe thead th {\n        text-align: right;\n    }\n</style>\n<table border=\"1\" class=\"dataframe\">\n  <thead>\n    <tr style=\"text-align: right;\">\n      <th></th>\n      <th>id</th>\n      <th>property_description</th>\n    </tr>\n  </thead>\n  <tbody>\n    <tr>\n      <th>0</th>\n      <td>BZCeiGkJr1WBUi6pKJQwJQ==</td>\n      <td>Corredor Responsable: MARIA ALEJANDRA GENOVEVA...</td>\n    </tr>\n    <tr>\n      <th>1</th>\n      <td>zuHOGgUE0UB71W7m/YCLoA==</td>\n      <td>¡HERMOSO PH TIPO CASA DE 2 AMBIENTES!&lt;br&gt;APTO ...</td>\n    </tr>\n    <tr>\n      <th>2</th>\n      <td>TUL813tXchVBlHUsfaA6DA==</td>\n      <td>Excelente PH en Núñez 4 amb!!!! Oportunidad !!...</td>\n    </tr>\n    <tr>\n      <th>3</th>\n      <td>gn55JPmcjftBV/at1a7fPg==</td>\n      <td>UNICO PH DE 4 DORMITORIOS EN IMPECABLE ESTADO,...</td>\n    </tr>\n    <tr>\n      <th>4</th>\n      <td>qg4m3QHcuo1+wMmyp7kx3Q==</td>\n      <td>Ph 2 Amb. Villa Crespo exclusivo uso profesion...</td>\n    </tr>\n    <tr>\n      <th>...</th>\n      <td>...</td>\n      <td>...</td>\n    </tr>\n    <tr>\n      <th>460149</th>\n      <td>MbQ4rqEzjp9Jfc3Sywb/YQ==</td>\n      <td>Corredor Responsable: Hector Garaygorta / Cris...</td>\n    </tr>\n    <tr>\n      <th>460150</th>\n      <td>fbuG1ohYC623nxLYPQPBvw==</td>\n      <td>Corredor Responsable: MARIA DEL ROSARIO NEME -...</td>\n    </tr>\n    <tr>\n      <th>460151</th>\n      <td>Ry5hMwctFXD7rLoUpzduxQ==</td>\n      <td>En cumplimiento de las leyes provinciales vige...</td>\n    </tr>\n    <tr>\n      <th>460152</th>\n      <td>xH37f+l+VOP8Vj0T3g+r6g==</td>\n      <td>En cumplimiento de las leyes provinciales vige...</td>\n    </tr>\n    <tr>\n      <th>460153</th>\n      <td>7XOOIQjoDg0MPUoy9HLzng==</td>\n      <td>CASA EN VENTA EN BARILOCHE – Lomas del Cauquén...</td>\n    </tr>\n  </tbody>\n</table>\n<p>460154 rows × 2 columns</p>\n</div>"
     },
     "execution_count": 78,
     "metadata": {},
     "output_type": "execute_result"
    }
   ],
   "source": [
    "df_decrip = properati_decrip.head(10000).copy()\n",
    "df_decrip['property_description'].isna().sum()\n",
    "properati_decrip"
   ],
   "metadata": {
    "collapsed": false
   }
  },
  {
   "cell_type": "code",
   "execution_count": 79,
   "outputs": [],
   "source": [
    "df_decrip.dropna(inplace=True)"
   ],
   "metadata": {
    "collapsed": false
   }
  },
  {
   "cell_type": "code",
   "execution_count": 80,
   "outputs": [
    {
     "data": {
      "text/plain": "[('de', 87457),\n ('y', 51602),\n ('con', 44219),\n ('en', 29525),\n ('la', 27091),\n ('a', 23099),\n ('el', 15988),\n ('del', 13754),\n ('por', 12384),\n ('al', 11652),\n ('-', 11217),\n ('que', 10840),\n ('un', 10345),\n ('para', 9347),\n ('los', 9059),\n ('las', 8638),\n ('se', 7161),\n ('una', 6307),\n ('DE', 6104),\n ('2', 6068),\n ('son', 5305),\n ('baño', 4857),\n ('cocina', 4564),\n ('3', 4201),\n ('comedor', 4077),\n ('es', 4042),\n ('dos', 3771),\n ('<br>', 3662),\n ('Y', 3337),\n ('cuenta', 3313),\n ('no', 3290),\n ('CON', 3247),\n ('o', 3218),\n (',', 3209),\n ('x', 3166),\n ('muy', 3136),\n ('EN', 3012),\n ('1', 2974),\n ('living', 2958),\n ('propiedad', 2934),\n ('casa', 2798),\n ('A', 2786),\n ('dormitorios', 2765),\n ('ambientes', 2686),\n ('piso', 2675),\n ('sobre', 2659),\n ('esta', 2613),\n ('encuentra', 2520),\n ('La', 2437),\n ('4', 2398),\n ('medidas', 2372),\n ('El', 2343),\n ('completo', 2321),\n ('dormitorio', 2296),\n ('/', 2294),\n ('planta', 2267),\n ('valor', 2247),\n ('amplio', 2197),\n ('departamento', 2185),\n ('frente', 2180),\n ('vista', 2137),\n ('cuadras', 2102),\n ('su', 2091),\n ('Av.', 2078),\n ('Ley', 2047),\n ('m2', 1966),\n ('salida', 1958),\n ('metros', 1953),\n ('parte', 1915),\n ('balcón', 1866),\n ('pisos', 1813),\n ('gran', 1792),\n ('principal', 1775),\n ('Las', 1765),\n ('inmueble', 1740),\n ('Corredor', 1717),\n ('Los', 1689),\n ('edificio', 1635),\n ('tiene', 1605),\n ('acceso', 1593),\n ('espacio', 1591),\n ('todos', 1582),\n ('Responsable:', 1572),\n ('personas', 1547),\n ('bajo', 1546),\n ('hasta', 1524),\n ('#', 1508),\n ('ID', 1507),\n ('MLS', 1505),\n ('puede', 1471),\n ('calle', 1469),\n ('como', 1469),\n ('excelente', 1452),\n ('tu', 1451),\n ('CUCICBA', 1437),\n ('suite', 1433),\n ('operaciones', 1400),\n ('más', 1399),\n ('zona', 1397),\n ('placard', 1387)]"
     },
     "execution_count": 80,
     "metadata": {},
     "output_type": "execute_result"
    }
   ],
   "source": [
    "from collections import Counter\n",
    "Counter(\" \".join(df_decrip[\"property_description\"]).split()).most_common(100)\n"
   ],
   "metadata": {
    "collapsed": false
   }
  },
  {
   "cell_type": "code",
   "execution_count": 81,
   "outputs": [
    {
     "data": {
      "text/plain": "0       Corredor Responsable: MARIA ALEJANDRA GENOVEVA...\n1       ¡HERMOSO PH TIPO CASA DE 2 AMBIENTES!<br>APTO ...\n2       Excelente PH en Núñez 4 amb!!!! Oportunidad !!...\n3       UNICO PH DE 4 DORMITORIOS EN IMPECABLE ESTADO,...\n4       Ph 2 Amb. Villa Crespo exclusivo uso profesion...\n                              ...                        \n9995    EN VENTA:<br><br>Departamento de 1 Ambiente en...\n9996    Impecable departamento de 3 ambientes, con dos...\n9997    Venta  Departamento 2 ambientes ,Muy luminoso....\n9998    Departamento tipo ph 2 ambientes  A ESTRENAR e...\n9999    Departamento 3 ambientes planta baja por pasil...\nName: property_description, Length: 9994, dtype: object"
     },
     "execution_count": 81,
     "metadata": {},
     "output_type": "execute_result"
    }
   ],
   "source": [
    "df_decrip[\"property_description\"]"
   ],
   "metadata": {
    "collapsed": false
   }
  },
  {
   "cell_type": "code",
   "execution_count": 82,
   "outputs": [],
   "source": [
    "df_decrip[\"property_description\"] = df_decrip[\"property_description\"].apply(lambda line: line.replace(\"<br>\", \" \")) # remover etiqueta de html\n",
    "df_decrip[\"property_description\"] = df_decrip[\"property_description\"].apply(lambda line: line.lower()) # Todo a minúsculas\n",
    "import unidecode\n",
    "df_decrip[\"property_description\"] = df_decrip[\"property_description\"].apply(lambda line: unidecode.unidecode(line)) # Sin tildes por posibles errores de gramática"
   ],
   "metadata": {
    "collapsed": false
   }
  },
  {
   "cell_type": "code",
   "execution_count": 83,
   "outputs": [],
   "source": [
    "import re\n",
    "df_decrip[\"property_description\"] = df_decrip[\"property_description\"].apply(lambda line: re.sub(\"!+\" , \". \", line)) #Remueve signos de exclamación\n",
    "df_decrip[\"property_description\"] = df_decrip[\"property_description\"].apply(lambda line: re.sub(r'[^\\w]', ' ', line)) # remover símbolos"
   ],
   "metadata": {
    "collapsed": false
   }
  },
  {
   "cell_type": "code",
   "execution_count": 84,
   "outputs": [],
   "source": [
    "df_decrip[\"property_description\"] = df_decrip[\"property_description\"].apply(lambda line: re.sub(\"\\s\\s+\" , \" \", line)) # remover multiples espacios para facilitar lectura"
   ],
   "metadata": {
    "collapsed": false
   }
  },
  {
   "cell_type": "code",
   "execution_count": 85,
   "outputs": [],
   "source": [
    "# export = df_decrip[\"property_description\"].head()\n",
    "# np.savetxt('export.txt', export.values, fmt='%s')"
   ],
   "metadata": {
    "collapsed": false
   }
  },
  {
   "cell_type": "code",
   "execution_count": 86,
   "outputs": [
    {
     "data": {
      "text/plain": "0    corredor responsable maria alejandra genoveva ...\n1    hermoso ph tipo casa 2 ambientes apto credito ...\n2    excelente ph nunez 4 amb oportunidad 154 m2 to...\n3    unico ph 4 dormitorios impecable hermoso tranq...\n4    ph 2 amb villa crespo exclusivo profesional ex...\n5    vende ph interno ubicado excelente barrio vill...\n6    propiedad ubicada gobernador alcorta cuadra co...\n7    casa venta calle alejandro magno hermosa vista...\n8    hermosa casa ph ubicado 10 cuadras centro vill...\n9    hermosa casa ph ubicada barrio santa rita barr...\nName: property_description, dtype: object"
     },
     "execution_count": 86,
     "metadata": {},
     "output_type": "execute_result"
    }
   ],
   "source": [
    "df_nostopwords = df_decrip.copy()\n",
    "\n",
    "with open('stopwords') as f:\n",
    "    lines = f.read().splitlines()\n",
    "\n",
    "f = lambda x: ' '.join([item for item in x.split() if item not in lines])\n",
    "df_nostopwords[\"property_description\"] = df_nostopwords[\"property_description\"].apply(f)\n",
    "\n",
    "df_nostopwords[\"property_description\"].head(10)\n"
   ],
   "metadata": {
    "collapsed": false
   }
  },
  {
   "cell_type": "code",
   "execution_count": 87,
   "outputs": [
    {
     "data": {
      "text/plain": "[('cocina', 9743),\n ('bano', 9211),\n ('2', 9101),\n ('comedor', 8234),\n ('living', 6949),\n ('3', 6934),\n ('1', 5772),\n ('dormitorios', 5298),\n ('propiedad', 5293),\n ('piso', 5172),\n ('completo', 5116),\n ('dormitorio', 5044),\n ('ambientes', 5007),\n ('casa', 4928),\n ('balcon', 4757),\n ('departamento', 4652),\n ('planta', 4424),\n ('m2', 4372),\n ('frente', 4365),\n ('4', 4206),\n ('excelente', 4043),\n ('amplio', 3802),\n ('pisos', 3620),\n ('edificio', 3600),\n ('x', 3568),\n ('expensas', 3475),\n ('lavadero', 3449),\n ('medidas', 3446),\n ('venta', 3194),\n ('cochera', 3101),\n ('av', 3003),\n ('ley', 2935),\n ('corredor', 2925),\n ('barrio', 2904),\n ('suite', 2859),\n ('vista', 2816),\n ('placard', 2804),\n ('c', 2770),\n ('mas', 2760),\n ('parrilla', 2747),\n ('inmueble', 2660),\n ('zona', 2615),\n ('alquiler', 2535),\n ('cuadras', 2473),\n ('servicios', 2451),\n ('5', 2434),\n ('metros', 2417),\n ('responsable', 2404),\n ('aire', 2393),\n ('principal', 2367),\n ('ubicacion', 2363),\n ('patio', 2342),\n ('salida', 2296),\n ('terraza', 2269),\n ('acceso', 2259),\n ('baja', 2224),\n ('jardin', 2222),\n ('pileta', 2218),\n ('mesada', 2174),\n ('servicio', 2169),\n ('comercial', 2161),\n ('toilette', 2142),\n ('ubicado', 2139),\n ('inmobiliario', 2082),\n ('espacio', 2081),\n ('calle', 1974),\n ('banos', 1948),\n ('luminoso', 1946),\n ('000', 1908),\n ('n', 1856),\n ('cucicba', 1852),\n ('30', 1849),\n ('mts', 1849),\n ('doble', 1842),\n ('10', 1833),\n ('personas', 1831),\n ('calefaccion', 1771),\n ('independiente', 1762),\n ('agua', 1752),\n ('entrada', 1713),\n ('acondicionado', 1701),\n ('propietario', 1680),\n ('gas', 1671),\n ('alta', 1667),\n ('informacion', 1661),\n ('seguridad', 1633),\n ('24', 1627),\n ('galeria', 1618),\n ('cubierta', 1612),\n ('superficie', 1596),\n ('lote', 1594),\n ('u', 1588),\n ('posee', 1587),\n ('madera', 1578),\n ('vestidor', 1573),\n ('propiedades', 1552),\n ('piscina', 1547),\n ('calidad', 1544),\n ('muebles', 1538),\n ('hall', 1535)]"
     },
     "execution_count": 87,
     "metadata": {},
     "output_type": "execute_result"
    }
   ],
   "source": [
    "from collections import Counter\n",
    "Counter(\" \".join(df_nostopwords[\"property_description\"]).split()).most_common(100)"
   ],
   "metadata": {
    "collapsed": false
   }
  },
  {
   "cell_type": "markdown",
   "source": [
    "Seleccionamos los aspectos que nos parecen relevantes, para luego buscar sus posibles valores"
   ],
   "metadata": {
    "collapsed": false
   }
  },
  {
   "cell_type": "markdown",
   "source": [
    "cocina, piso, balcon, frente, expensas, lavadero, cochera, placard, parrilla, aire, terraza, calefaccion"
   ],
   "metadata": {
    "collapsed": false
   }
  },
  {
   "cell_type": "code",
   "execution_count": 115,
   "outputs": [
    {
     "data": {
      "text/plain": "                          id  \\\n0   BZCeiGkJr1WBUi6pKJQwJQ==   \n1   zuHOGgUE0UB71W7m/YCLoA==   \n2   TUL813tXchVBlHUsfaA6DA==   \n3   gn55JPmcjftBV/at1a7fPg==   \n4   qg4m3QHcuo1+wMmyp7kx3Q==   \n5   XztoBkv1vE+dGuId8GiPyA==   \n6   JEhUB1WqHYnvkmuPWlDgmg==   \n7   ucluEQ4sNKNVbwyKJFnaBw==   \n8   a/LC2bANkFuEJYuHglYSTg==   \n9   XWCMzAub+1YSpvBCuREdPA==   \n10  +9uGr8tPEUkKnpjOef+gUw==   \n11  uH5H+RfQM87Qtrb13+T4hA==   \n12  tto06YVR54II+aQABaJ6ug==   \n13  47t2G764+Gk5EkoUiVc7Qg==   \n14  lUt2hCYvNMqlkurtzvKunQ==   \n15  lRVjhy5UZA9SOOLnfLJ6jA==   \n16  n7NJmavbeNUlyKufoGRr+g==   \n17  tcMlnU1MCgzHwRW+MgZW8Q==   \n18  wx/PtyYHRDBaTmWGGWhPhA==   \n19  tymxNcISFN1TH7Lne+OOlg==   \n\n                                 property_description  \\\n0   corredor responsable maria alejandra genoveva ...   \n1   hermoso ph tipo casa 2 ambientes apto credito ...   \n2   excelente ph nunez 4 amb oportunidad 154 m2 to...   \n3   unico ph 4 dormitorios impecable hermoso tranq...   \n4   ph 2 amb villa crespo exclusivo profesional ex...   \n5   vende ph interno ubicado excelente barrio vill...   \n6   propiedad ubicada gobernador alcorta cuadra co...   \n7   casa venta calle alejandro magno hermosa vista...   \n8   hermosa casa ph ubicado 10 cuadras centro vill...   \n9   hermosa casa ph ubicada barrio santa rita barr...   \n10  vende excelente ph 2 comodos ambientes mas pat...   \n11  venta ph 4 ambientes paternal calido divino am...   \n12  ph 2 ambientes mataderos desarrollado pb inter...   \n13  ph frente super luminoso 1 bano completo cocin...   \n14  venta ph 2 ambientes frente martinez ph desarr...   \n15  permuta ventan ph 4 ambientes asamblea jose ma...   \n16  oportunidad acceso escalera amplio luminoso 3 ...   \n17  casa ph frente lote 10x18 183 m2 aprox techo l...   \n18  duit propiedades ofrece excelente duplex claro...   \n19  retasado impactante casa estilo moderno 3 dorm...   \n\n                                          cocina  \\\n0     completo hidromasaje cocina muebles mesada   \n1          pisos ceramicos cocina semi integrada   \n2            2 habitaciones cocina bano completo   \n3              c extractor cocina comedor diario   \n4               pisos parquet cocina bacha acero   \n5           deposito banos cocina living comedor   \n6             living chico cocina comedor amplio   \n7           completo living cocina comedor nivel   \n8            bano comodo cocina comedor amoblada   \n9    totalmente reciclado cocina integrada barra   \n10                  living comedor cocina 7 00x3   \n11      living comedor cocina independiente bano   \n12            frio calor cocina integrada living   \n13        bano completo cocina completa expensas   \n14             living comedor cocina integrada 1   \n15              patio balcon cocina parrilla gas   \n16             living comedor cocina integrada 2   \n17                                                 \n18    pergolado asador cocina integrada toilette   \n19            living comedor cocina mesada negro   \n\n                                                piso  \\\n0                      aberturas cedro pisos pinotea   \n1                      patio privado pisos ceramicos   \n2                    zona consta piso 2 habitaciones   \n3    desayunadora material piso dormitorio principal   \n4                     ambientes frente pisos parquet   \n5                                                      \n6                                                      \n7                                                      \n8                    subir 1 piso escalera compuesto   \n9                                                      \n10                                                     \n11                               38 m2 pisos pinotea   \n12                                                     \n13                                                     \n14                techo tejas piso pinotea aberturas   \n15           banos2 numero piso unidad2 antiguedad20   \n16                                                     \n17                        techo losa pisos ceramicos   \n18                                                     \n19                                                     \n\n                                          calefaccion  \n0                                                      \n1                                                      \n2                                                      \n3                                                      \n4                                                      \n5                                                      \n6                                                      \n7                                                      \n8                                                      \n9                                                      \n10                                                     \n11                                                     \n12                                                     \n13                                                     \n14                                                     \n15                                                     \n16                                                     \n17                                                     \n18   nivel terminaciones calefaccion central radia...  \n19        linea modena calefaccion central radiadores  ",
      "text/html": "<div>\n<style scoped>\n    .dataframe tbody tr th:only-of-type {\n        vertical-align: middle;\n    }\n\n    .dataframe tbody tr th {\n        vertical-align: top;\n    }\n\n    .dataframe thead th {\n        text-align: right;\n    }\n</style>\n<table border=\"1\" class=\"dataframe\">\n  <thead>\n    <tr style=\"text-align: right;\">\n      <th></th>\n      <th>id</th>\n      <th>property_description</th>\n      <th>cocina</th>\n      <th>piso</th>\n      <th>calefaccion</th>\n    </tr>\n  </thead>\n  <tbody>\n    <tr>\n      <th>0</th>\n      <td>BZCeiGkJr1WBUi6pKJQwJQ==</td>\n      <td>corredor responsable maria alejandra genoveva ...</td>\n      <td>completo hidromasaje cocina muebles mesada</td>\n      <td>aberturas cedro pisos pinotea</td>\n      <td></td>\n    </tr>\n    <tr>\n      <th>1</th>\n      <td>zuHOGgUE0UB71W7m/YCLoA==</td>\n      <td>hermoso ph tipo casa 2 ambientes apto credito ...</td>\n      <td>pisos ceramicos cocina semi integrada</td>\n      <td>patio privado pisos ceramicos</td>\n      <td></td>\n    </tr>\n    <tr>\n      <th>2</th>\n      <td>TUL813tXchVBlHUsfaA6DA==</td>\n      <td>excelente ph nunez 4 amb oportunidad 154 m2 to...</td>\n      <td>2 habitaciones cocina bano completo</td>\n      <td>zona consta piso 2 habitaciones</td>\n      <td></td>\n    </tr>\n    <tr>\n      <th>3</th>\n      <td>gn55JPmcjftBV/at1a7fPg==</td>\n      <td>unico ph 4 dormitorios impecable hermoso tranq...</td>\n      <td>c extractor cocina comedor diario</td>\n      <td>desayunadora material piso dormitorio principal</td>\n      <td></td>\n    </tr>\n    <tr>\n      <th>4</th>\n      <td>qg4m3QHcuo1+wMmyp7kx3Q==</td>\n      <td>ph 2 amb villa crespo exclusivo profesional ex...</td>\n      <td>pisos parquet cocina bacha acero</td>\n      <td>ambientes frente pisos parquet</td>\n      <td></td>\n    </tr>\n    <tr>\n      <th>5</th>\n      <td>XztoBkv1vE+dGuId8GiPyA==</td>\n      <td>vende ph interno ubicado excelente barrio vill...</td>\n      <td>deposito banos cocina living comedor</td>\n      <td></td>\n      <td></td>\n    </tr>\n    <tr>\n      <th>6</th>\n      <td>JEhUB1WqHYnvkmuPWlDgmg==</td>\n      <td>propiedad ubicada gobernador alcorta cuadra co...</td>\n      <td>living chico cocina comedor amplio</td>\n      <td></td>\n      <td></td>\n    </tr>\n    <tr>\n      <th>7</th>\n      <td>ucluEQ4sNKNVbwyKJFnaBw==</td>\n      <td>casa venta calle alejandro magno hermosa vista...</td>\n      <td>completo living cocina comedor nivel</td>\n      <td></td>\n      <td></td>\n    </tr>\n    <tr>\n      <th>8</th>\n      <td>a/LC2bANkFuEJYuHglYSTg==</td>\n      <td>hermosa casa ph ubicado 10 cuadras centro vill...</td>\n      <td>bano comodo cocina comedor amoblada</td>\n      <td>subir 1 piso escalera compuesto</td>\n      <td></td>\n    </tr>\n    <tr>\n      <th>9</th>\n      <td>XWCMzAub+1YSpvBCuREdPA==</td>\n      <td>hermosa casa ph ubicada barrio santa rita barr...</td>\n      <td>totalmente reciclado cocina integrada barra</td>\n      <td></td>\n      <td></td>\n    </tr>\n    <tr>\n      <th>10</th>\n      <td>+9uGr8tPEUkKnpjOef+gUw==</td>\n      <td>vende excelente ph 2 comodos ambientes mas pat...</td>\n      <td>living comedor cocina 7 00x3</td>\n      <td></td>\n      <td></td>\n    </tr>\n    <tr>\n      <th>11</th>\n      <td>uH5H+RfQM87Qtrb13+T4hA==</td>\n      <td>venta ph 4 ambientes paternal calido divino am...</td>\n      <td>living comedor cocina independiente bano</td>\n      <td>38 m2 pisos pinotea</td>\n      <td></td>\n    </tr>\n    <tr>\n      <th>12</th>\n      <td>tto06YVR54II+aQABaJ6ug==</td>\n      <td>ph 2 ambientes mataderos desarrollado pb inter...</td>\n      <td>frio calor cocina integrada living</td>\n      <td></td>\n      <td></td>\n    </tr>\n    <tr>\n      <th>13</th>\n      <td>47t2G764+Gk5EkoUiVc7Qg==</td>\n      <td>ph frente super luminoso 1 bano completo cocin...</td>\n      <td>bano completo cocina completa expensas</td>\n      <td></td>\n      <td></td>\n    </tr>\n    <tr>\n      <th>14</th>\n      <td>lUt2hCYvNMqlkurtzvKunQ==</td>\n      <td>venta ph 2 ambientes frente martinez ph desarr...</td>\n      <td>living comedor cocina integrada 1</td>\n      <td>techo tejas piso pinotea aberturas</td>\n      <td></td>\n    </tr>\n    <tr>\n      <th>15</th>\n      <td>lRVjhy5UZA9SOOLnfLJ6jA==</td>\n      <td>permuta ventan ph 4 ambientes asamblea jose ma...</td>\n      <td>patio balcon cocina parrilla gas</td>\n      <td>banos2 numero piso unidad2 antiguedad20</td>\n      <td></td>\n    </tr>\n    <tr>\n      <th>16</th>\n      <td>n7NJmavbeNUlyKufoGRr+g==</td>\n      <td>oportunidad acceso escalera amplio luminoso 3 ...</td>\n      <td>living comedor cocina integrada 2</td>\n      <td></td>\n      <td></td>\n    </tr>\n    <tr>\n      <th>17</th>\n      <td>tcMlnU1MCgzHwRW+MgZW8Q==</td>\n      <td>casa ph frente lote 10x18 183 m2 aprox techo l...</td>\n      <td></td>\n      <td>techo losa pisos ceramicos</td>\n      <td></td>\n    </tr>\n    <tr>\n      <th>18</th>\n      <td>wx/PtyYHRDBaTmWGGWhPhA==</td>\n      <td>duit propiedades ofrece excelente duplex claro...</td>\n      <td>pergolado asador cocina integrada toilette</td>\n      <td></td>\n      <td>nivel terminaciones calefaccion central radia...</td>\n    </tr>\n    <tr>\n      <th>19</th>\n      <td>tymxNcISFN1TH7Lne+OOlg==</td>\n      <td>retasado impactante casa estilo moderno 3 dorm...</td>\n      <td>living comedor cocina mesada negro</td>\n      <td></td>\n      <td>linea modena calefaccion central radiadores</td>\n    </tr>\n  </tbody>\n</table>\n</div>"
     },
     "execution_count": 115,
     "metadata": {},
     "output_type": "execute_result"
    }
   ],
   "source": [
    "from numpy import NaN\n",
    "from types import NoneType\n",
    "aspectos = ['cocina', 'piso', 'calefaccion']\n",
    "\n",
    "def f(line, word):\n",
    "    format = r\"\\W*([\\w]+)\"\n",
    "    n = 2\n",
    "    x = re.search(r'{}\\W*{}{}'.format(format*n, word, format*n), line)\n",
    "    if not isinstance(x, NoneType):\n",
    "        return x.group()\n",
    "    else:\n",
    "        return \"\"\n",
    "\n",
    "for word in aspectos:\n",
    "    df_nostopwords[word] = df_nostopwords[\"property_description\"].apply(lambda line: f(line, word))\n",
    "\n",
    "df_nostopwords.head(20)"
   ],
   "metadata": {
    "collapsed": false
   }
  },
  {
   "cell_type": "code",
   "execution_count": 111,
   "outputs": [
    {
     "data": {
      "text/plain": "[('cocina', 7423),\n ('comedor', 3618),\n ('living', 1896),\n ('integrada', 1264),\n ('bano', 1082),\n ('lavadero', 658),\n ('separada', 623),\n ('muebles', 565),\n ('diario', 562),\n ('toilette', 531),\n ('balcon', 493),\n ('completo', 476),\n ('amplia', 399),\n ('independiente', 397),\n ('mesada', 338),\n ('2', 334),\n ('completa', 323),\n ('barra', 313),\n ('amplio', 310),\n ('equipada', 308),\n ('dormitorio', 306),\n ('dormitorios', 302),\n ('salida', 275),\n ('semi', 271),\n ('banos', 267),\n ('espacio', 211),\n ('recepcion', 201),\n ('3', 197),\n ('frente', 196),\n ('1', 195)]"
     },
     "execution_count": 111,
     "metadata": {},
     "output_type": "execute_result"
    }
   ],
   "source": [
    "Counter(\" \".join(df_nostopwords[\"cocina\"]).split()).most_common(30)"
   ],
   "metadata": {
    "collapsed": false
   }
  },
  {
   "cell_type": "code",
   "execution_count": 112,
   "outputs": [
    {
     "data": {
      "text/plain": "[('piso', 2772),\n ('pisos', 1811),\n ('frente', 468),\n ('porcelanato', 398),\n ('living', 332),\n ('ambientes', 301),\n ('escalera', 294),\n ('parquet', 287),\n ('comedor', 277),\n ('edificio', 266),\n ('madera', 249),\n ('3', 245),\n ('departamento', 243),\n ('2', 242),\n ('ubicado', 239),\n ('semipiso', 210),\n ('balcon', 193),\n ('cocina', 188),\n ('dormitorios', 178),\n ('bano', 175),\n ('alto', 169),\n ('excelente', 162),\n ('vista', 160),\n ('4', 159),\n ('luminoso', 157),\n ('contrafrente', 153),\n ('dormitorio', 145),\n ('calefaccion', 134),\n ('amplio', 125),\n ('entrepiso', 125)]"
     },
     "execution_count": 112,
     "metadata": {},
     "output_type": "execute_result"
    }
   ],
   "source": [
    "Counter(\" \".join(df_nostopwords[\"piso\"]).split()).most_common(30)"
   ],
   "metadata": {
    "collapsed": false
   }
  },
  {
   "cell_type": "code",
   "execution_count": 90,
   "outputs": [
    {
     "data": {
      "text/plain": "0    corredor responsable maria alejandra genoveva ...\n1    hermoso ph tipo casa 2 ambientes apto credito ...\n2    excelente ph nunez 4 amb oportunidad 154 m2 to...\n3    unico ph 4 dormitorios impecable hermoso tranq...\n4    ph 2 amb villa crespo exclusivo profesional ex...\nName: property_description, dtype: object"
     },
     "execution_count": 90,
     "metadata": {},
     "output_type": "execute_result"
    }
   ],
   "source": [
    "export = df_nostopwords[\"property_description\"].head(5)\n",
    "np.savetxt('export.txt', export.values, fmt='%s')\n",
    "export.head()"
   ],
   "metadata": {
    "collapsed": false
   }
  },
  {
   "cell_type": "code",
   "execution_count": 91,
   "outputs": [],
   "source": [
    "# import nltk\n",
    "# from nltk.collocations import *\n",
    "# bigram_measures = nltk.collocations.BigramAssocMeasures()\n",
    "# trigram_measures = nltk.collocations.TrigramAssocMeasures()\n",
    "#\n",
    "# # change this to read in your data\n",
    "# finder = BigramCollocationFinder.from_words(\n",
    "#     nltk.corpus.genesis.words(df_decrip[\"property_description\"]))\n",
    "#\n",
    "# # only bigrams that appear 3+ times\n",
    "# finder.apply_freq_filter(3)\n",
    "#\n",
    "# # return the 10 n-grams with the highest PMI\n",
    "# finder.nbest(bigram_measures.pmi, 10)"
   ],
   "metadata": {
    "collapsed": false
   }
  }
 ],
 "metadata": {
  "kernelspec": {
   "display_name": "Python 3",
   "language": "python",
   "name": "python3"
  },
  "language_info": {
   "codemirror_mode": {
    "name": "ipython",
    "version": 2
   },
   "file_extension": ".py",
   "mimetype": "text/x-python",
   "name": "python",
   "nbconvert_exporter": "python",
   "pygments_lexer": "ipython2",
   "version": "2.7.6"
  }
 },
 "nbformat": 4,
 "nbformat_minor": 0
}
