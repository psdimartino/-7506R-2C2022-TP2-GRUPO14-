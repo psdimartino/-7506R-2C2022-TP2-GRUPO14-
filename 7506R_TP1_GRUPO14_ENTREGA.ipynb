{
 "cells": [
  {
   "cell_type": "markdown",
   "source": [
    "______________________________________\n",
    "# <center>**Trabajo Practico Nº1 para la Materia *Organización de Datos***</center>\n",
    "\n",
    "*Integrantes*:\n",
    "- 103963\tCarolina Di Matteo\tcdimatteo@fi.uba.ar\n",
    "- 101231\tPablo Salvador Dimartino\tpdimartino@fi.uba.ar\n",
    "- 100113\tJuan Sebastian Burgos\tjsburgos@fi.uba.ar\n",
    "- 104415\tValentina Laura Correa\tvcorrea@fi.uba.ar\n",
    "\n",
    "*Grupo*: 14\n",
    "\n",
    "*Repositorio*: [github](https://github.com/valencorrea/7506R-2C2022-GRUPO14)\n",
    "\n",
    "*Curso*: Rodriguez\n",
    "\n",
    "*Cuatrimestre*: 2c2022\n",
    "\n",
    "Datos provistos por [properati](https://www.properati.com.ar).\n",
    "______________________________________\n"
   ],
   "metadata": {
    "collapsed": false
   }
  },
  {
   "cell_type": "code",
   "execution_count": 1,
   "outputs": [],
   "source": [
    "#Importación de librerías\n",
    "\n",
    "import numpy as np\n",
    "import cmath as math\n",
    "import matplotlib.pyplot as plt\n",
    "import seaborn as sns\n",
    "import pandas as pd\n",
    "\n",
    "#Configuración de Warnings\n",
    "import warnings\n",
    "warnings.filterwarnings('ignore')\n",
    "warnings.simplefilter(action='ignore', category=FutureWarning)\n",
    "warnings.simplefilter(action='ignore', category=UserWarning)\n",
    "\n",
    "#Ejecución con Drive\n",
    "if 'google.colab' in str(get_ipython()):\n",
    "    IN_COLAB = True\n",
    "else:\n",
    "    IN_COLAB = False\n",
    "\n",
    "if IN_COLAB :\n",
    "    from google.colab import drive\n",
    "    drive.mount('/content/drive')\n",
    "    properati = pd.read_csv('/content/drive/MyDrive/📔 Organización de Datos (75.06)/TPS/TP1/properati_argentina_2021.csv')\n",
    "    properati_decrip = pd.read_csv('/content/drive/MyDrive/📔 Organización de Datos (75.06)/TPS/TP1/properati_argentina_2021_decrip.csv')\n",
    "else:\n",
    "    properati=pd.read_csv('properati_argentina_2021.csv')\n",
    "    properati_decrip = pd.read_csv('properati_argentina_2021_decrip.csv')"
   ],
   "metadata": {
    "collapsed": false
   }
  },
  {
   "cell_type": "code",
   "execution_count": 2,
   "outputs": [
    {
     "data": {
      "text/plain": "                              id  \\\n0       BZCeiGkJr1WBUi6pKJQwJQ==   \n1       zuHOGgUE0UB71W7m/YCLoA==   \n2       TUL813tXchVBlHUsfaA6DA==   \n3       gn55JPmcjftBV/at1a7fPg==   \n4       qg4m3QHcuo1+wMmyp7kx3Q==   \n...                          ...   \n460149  MbQ4rqEzjp9Jfc3Sywb/YQ==   \n460150  fbuG1ohYC623nxLYPQPBvw==   \n460151  Ry5hMwctFXD7rLoUpzduxQ==   \n460152  xH37f+l+VOP8Vj0T3g+r6g==   \n460153  7XOOIQjoDg0MPUoy9HLzng==   \n\n                                     property_description  \n0       Corredor Responsable: MARIA ALEJANDRA GENOVEVA...  \n1       ¡HERMOSO PH TIPO CASA DE 2 AMBIENTES!<br>APTO ...  \n2       Excelente PH en Núñez 4 amb!!!! Oportunidad !!...  \n3       UNICO PH DE 4 DORMITORIOS EN IMPECABLE ESTADO,...  \n4       Ph 2 Amb. Villa Crespo exclusivo uso profesion...  \n...                                                   ...  \n460149  Corredor Responsable: Hector Garaygorta / Cris...  \n460150  Corredor Responsable: MARIA DEL ROSARIO NEME -...  \n460151  En cumplimiento de las leyes provinciales vige...  \n460152  En cumplimiento de las leyes provinciales vige...  \n460153  CASA EN VENTA EN BARILOCHE – Lomas del Cauquén...  \n\n[460154 rows x 2 columns]",
      "text/html": "<div>\n<style scoped>\n    .dataframe tbody tr th:only-of-type {\n        vertical-align: middle;\n    }\n\n    .dataframe tbody tr th {\n        vertical-align: top;\n    }\n\n    .dataframe thead th {\n        text-align: right;\n    }\n</style>\n<table border=\"1\" class=\"dataframe\">\n  <thead>\n    <tr style=\"text-align: right;\">\n      <th></th>\n      <th>id</th>\n      <th>property_description</th>\n    </tr>\n  </thead>\n  <tbody>\n    <tr>\n      <th>0</th>\n      <td>BZCeiGkJr1WBUi6pKJQwJQ==</td>\n      <td>Corredor Responsable: MARIA ALEJANDRA GENOVEVA...</td>\n    </tr>\n    <tr>\n      <th>1</th>\n      <td>zuHOGgUE0UB71W7m/YCLoA==</td>\n      <td>¡HERMOSO PH TIPO CASA DE 2 AMBIENTES!&lt;br&gt;APTO ...</td>\n    </tr>\n    <tr>\n      <th>2</th>\n      <td>TUL813tXchVBlHUsfaA6DA==</td>\n      <td>Excelente PH en Núñez 4 amb!!!! Oportunidad !!...</td>\n    </tr>\n    <tr>\n      <th>3</th>\n      <td>gn55JPmcjftBV/at1a7fPg==</td>\n      <td>UNICO PH DE 4 DORMITORIOS EN IMPECABLE ESTADO,...</td>\n    </tr>\n    <tr>\n      <th>4</th>\n      <td>qg4m3QHcuo1+wMmyp7kx3Q==</td>\n      <td>Ph 2 Amb. Villa Crespo exclusivo uso profesion...</td>\n    </tr>\n    <tr>\n      <th>...</th>\n      <td>...</td>\n      <td>...</td>\n    </tr>\n    <tr>\n      <th>460149</th>\n      <td>MbQ4rqEzjp9Jfc3Sywb/YQ==</td>\n      <td>Corredor Responsable: Hector Garaygorta / Cris...</td>\n    </tr>\n    <tr>\n      <th>460150</th>\n      <td>fbuG1ohYC623nxLYPQPBvw==</td>\n      <td>Corredor Responsable: MARIA DEL ROSARIO NEME -...</td>\n    </tr>\n    <tr>\n      <th>460151</th>\n      <td>Ry5hMwctFXD7rLoUpzduxQ==</td>\n      <td>En cumplimiento de las leyes provinciales vige...</td>\n    </tr>\n    <tr>\n      <th>460152</th>\n      <td>xH37f+l+VOP8Vj0T3g+r6g==</td>\n      <td>En cumplimiento de las leyes provinciales vige...</td>\n    </tr>\n    <tr>\n      <th>460153</th>\n      <td>7XOOIQjoDg0MPUoy9HLzng==</td>\n      <td>CASA EN VENTA EN BARILOCHE – Lomas del Cauquén...</td>\n    </tr>\n  </tbody>\n</table>\n<p>460154 rows × 2 columns</p>\n</div>"
     },
     "execution_count": 2,
     "metadata": {},
     "output_type": "execute_result"
    }
   ],
   "source": [
    "df_decrip = properati_decrip.head(10000).copy()\n",
    "df_decrip['property_description'].isna().sum()\n",
    "properati_decrip"
   ],
   "metadata": {
    "collapsed": false
   }
  },
  {
   "cell_type": "code",
   "execution_count": 3,
   "outputs": [],
   "source": [
    "df_decrip.dropna(inplace=True)"
   ],
   "metadata": {
    "collapsed": false
   }
  },
  {
   "cell_type": "code",
   "execution_count": 4,
   "outputs": [
    {
     "data": {
      "text/plain": "[('de', 87457),\n ('y', 51602),\n ('con', 44219),\n ('en', 29525),\n ('la', 27091),\n ('a', 23099),\n ('el', 15988),\n ('del', 13754),\n ('por', 12384),\n ('al', 11652),\n ('-', 11217),\n ('que', 10840),\n ('un', 10345),\n ('para', 9347),\n ('los', 9059),\n ('las', 8638),\n ('se', 7161),\n ('una', 6307),\n ('DE', 6104),\n ('2', 6068),\n ('son', 5305),\n ('baño', 4857),\n ('cocina', 4564),\n ('3', 4201),\n ('comedor', 4077),\n ('es', 4042),\n ('dos', 3771),\n ('<br>', 3662),\n ('Y', 3337),\n ('cuenta', 3313),\n ('no', 3290),\n ('CON', 3247),\n ('o', 3218),\n (',', 3209),\n ('x', 3166),\n ('muy', 3136),\n ('EN', 3012),\n ('1', 2974),\n ('living', 2958),\n ('propiedad', 2934),\n ('casa', 2798),\n ('A', 2786),\n ('dormitorios', 2765),\n ('ambientes', 2686),\n ('piso', 2675),\n ('sobre', 2659),\n ('esta', 2613),\n ('encuentra', 2520),\n ('La', 2437),\n ('4', 2398),\n ('medidas', 2372),\n ('El', 2343),\n ('completo', 2321),\n ('dormitorio', 2296),\n ('/', 2294),\n ('planta', 2267),\n ('valor', 2247),\n ('amplio', 2197),\n ('departamento', 2185),\n ('frente', 2180),\n ('vista', 2137),\n ('cuadras', 2102),\n ('su', 2091),\n ('Av.', 2078),\n ('Ley', 2047),\n ('m2', 1966),\n ('salida', 1958),\n ('metros', 1953),\n ('parte', 1915),\n ('balcón', 1866),\n ('pisos', 1813),\n ('gran', 1792),\n ('principal', 1775),\n ('Las', 1765),\n ('inmueble', 1740),\n ('Corredor', 1717),\n ('Los', 1689),\n ('edificio', 1635),\n ('tiene', 1605),\n ('acceso', 1593),\n ('espacio', 1591),\n ('todos', 1582),\n ('Responsable:', 1572),\n ('personas', 1547),\n ('bajo', 1546),\n ('hasta', 1524),\n ('#', 1508),\n ('ID', 1507),\n ('MLS', 1505),\n ('puede', 1471),\n ('calle', 1469),\n ('como', 1469),\n ('excelente', 1452),\n ('tu', 1451),\n ('CUCICBA', 1437),\n ('suite', 1433),\n ('operaciones', 1400),\n ('más', 1399),\n ('zona', 1397),\n ('placard', 1387)]"
     },
     "execution_count": 4,
     "metadata": {},
     "output_type": "execute_result"
    }
   ],
   "source": [
    "from collections import Counter\n",
    "Counter(\" \".join(df_decrip[\"property_description\"]).split()).most_common(100)\n"
   ],
   "metadata": {
    "collapsed": false
   }
  },
  {
   "cell_type": "code",
   "execution_count": 5,
   "outputs": [
    {
     "data": {
      "text/plain": "0       Corredor Responsable: MARIA ALEJANDRA GENOVEVA...\n1       ¡HERMOSO PH TIPO CASA DE 2 AMBIENTES!<br>APTO ...\n2       Excelente PH en Núñez 4 amb!!!! Oportunidad !!...\n3       UNICO PH DE 4 DORMITORIOS EN IMPECABLE ESTADO,...\n4       Ph 2 Amb. Villa Crespo exclusivo uso profesion...\n                              ...                        \n9995    EN VENTA:<br><br>Departamento de 1 Ambiente en...\n9996    Impecable departamento de 3 ambientes, con dos...\n9997    Venta  Departamento 2 ambientes ,Muy luminoso....\n9998    Departamento tipo ph 2 ambientes  A ESTRENAR e...\n9999    Departamento 3 ambientes planta baja por pasil...\nName: property_description, Length: 9994, dtype: object"
     },
     "execution_count": 5,
     "metadata": {},
     "output_type": "execute_result"
    }
   ],
   "source": [
    "df_decrip[\"property_description\"]"
   ],
   "metadata": {
    "collapsed": false
   }
  },
  {
   "cell_type": "code",
   "execution_count": 6,
   "outputs": [],
   "source": [
    "df_decrip[\"property_description\"] = df_decrip[\"property_description\"].apply(lambda line: line.replace(\"<br>\", \" \")) # remover etiqueta de html\n",
    "df_decrip[\"property_description\"] = df_decrip[\"property_description\"].apply(lambda line: line.lower()) # Todo a minúsculas\n",
    "import unidecode\n",
    "df_decrip[\"property_description\"] = df_decrip[\"property_description\"].apply(lambda line: unidecode.unidecode(line)) # Sin tildes por posibles errores de gramática"
   ],
   "metadata": {
    "collapsed": false
   }
  },
  {
   "cell_type": "code",
   "execution_count": 7,
   "outputs": [],
   "source": [
    "import re\n",
    "# df_decrip[\"property_description\"] = df_decrip[\"property_description\"].apply(lambda line: re.sub(\"[^\\\\w-]+\", \" \", line)) #Remueve simbolos menos el -\n",
    "df_decrip[\"property_description\"] = df_decrip[\"property_description\"].apply(lambda line: re.sub(r'[^\\w]', ' ', line)) # remover símbolos"
   ],
   "metadata": {
    "collapsed": false
   }
  },
  {
   "cell_type": "code",
   "execution_count": 8,
   "outputs": [],
   "source": [
    "df_decrip[\"property_description\"] = df_decrip[\"property_description\"].apply(lambda line: re.sub(\"\\s\\s+\" , \" \", line)) # remover multiples espacios para facilitar lectura"
   ],
   "metadata": {
    "collapsed": false
   }
  },
  {
   "cell_type": "code",
   "execution_count": 9,
   "outputs": [],
   "source": [
    "# export = df_decrip[\"property_description\"].head()\n",
    "# np.savetxt('export.txt', export.values, fmt='%s')"
   ],
   "metadata": {
    "collapsed": false
   }
  },
  {
   "cell_type": "code",
   "execution_count": 10,
   "outputs": [
    {
     "data": {
      "text/plain": "0    corredor responsable maria alejandra genoveva ...\n1    hermoso ph tipo casa 2 ambientes apto credito ...\n2    excelente ph nunez 4 amb oportunidad 154 m2 to...\n3    unico ph 4 dormitorios impecable hermoso tranq...\n4    ph 2 amb villa crespo exclusivo profesional ex...\n5    vende ph interno ubicado excelente barrio vill...\n6    propiedad ubicada gobernador alcorta cuadra co...\n7    casa venta calle alejandro magno hermosa vista...\n8    hermosa casa ph ubicado 10 cuadras centro vill...\n9    hermosa casa ph ubicada barrio santa rita barr...\nName: property_description, dtype: object"
     },
     "execution_count": 10,
     "metadata": {},
     "output_type": "execute_result"
    }
   ],
   "source": [
    "df_nostopwords = df_decrip.copy()\n",
    "\n",
    "with open('stopwords') as f:\n",
    "    lines = f.read().splitlines()\n",
    "\n",
    "f = lambda x: ' '.join([item for item in x.split() if item not in lines]) #remueve stopwords\n",
    "df_nostopwords[\"property_description\"] = df_nostopwords[\"property_description\"].apply(f)\n",
    "\n",
    "df_nostopwords[\"property_description\"].head(10)\n"
   ],
   "metadata": {
    "collapsed": false
   }
  },
  {
   "cell_type": "code",
   "execution_count": 11,
   "outputs": [
    {
     "data": {
      "text/plain": "[('cocina', 9743),\n ('bano', 9211),\n ('2', 9101),\n ('comedor', 8234),\n ('living', 6949),\n ('3', 6934),\n ('1', 5772),\n ('dormitorios', 5298),\n ('propiedad', 5293),\n ('piso', 5172),\n ('completo', 5116),\n ('dormitorio', 5044),\n ('ambientes', 5007),\n ('casa', 4928),\n ('balcon', 4757),\n ('departamento', 4652),\n ('planta', 4424),\n ('m2', 4372),\n ('frente', 4365),\n ('4', 4206),\n ('excelente', 4043),\n ('amplio', 3802),\n ('pisos', 3620),\n ('edificio', 3600),\n ('x', 3568),\n ('expensas', 3475),\n ('lavadero', 3449),\n ('medidas', 3446),\n ('venta', 3194),\n ('cochera', 3101),\n ('av', 3003),\n ('ley', 2935),\n ('corredor', 2925),\n ('barrio', 2904),\n ('suite', 2859),\n ('vista', 2816),\n ('placard', 2804),\n ('c', 2770),\n ('mas', 2760),\n ('parrilla', 2747),\n ('inmueble', 2660),\n ('zona', 2615),\n ('alquiler', 2535),\n ('cuadras', 2473),\n ('servicios', 2451),\n ('5', 2434),\n ('metros', 2417),\n ('responsable', 2404),\n ('aire', 2393),\n ('principal', 2367),\n ('ubicacion', 2363),\n ('patio', 2342),\n ('salida', 2296),\n ('terraza', 2269),\n ('acceso', 2259),\n ('baja', 2224),\n ('jardin', 2222),\n ('pileta', 2218),\n ('mesada', 2174),\n ('servicio', 2169),\n ('comercial', 2161),\n ('toilette', 2142),\n ('ubicado', 2139),\n ('inmobiliario', 2082),\n ('espacio', 2081),\n ('calle', 1974),\n ('banos', 1948),\n ('luminoso', 1946),\n ('000', 1908),\n ('n', 1856),\n ('cucicba', 1852),\n ('30', 1849),\n ('mts', 1849),\n ('doble', 1842),\n ('10', 1833),\n ('personas', 1831),\n ('calefaccion', 1771),\n ('independiente', 1762),\n ('agua', 1752),\n ('entrada', 1713),\n ('acondicionado', 1701),\n ('propietario', 1680),\n ('gas', 1671),\n ('alta', 1667),\n ('informacion', 1661),\n ('seguridad', 1633),\n ('24', 1627),\n ('galeria', 1618),\n ('cubierta', 1612),\n ('superficie', 1596),\n ('lote', 1594),\n ('u', 1588),\n ('posee', 1587),\n ('madera', 1578),\n ('vestidor', 1573),\n ('propiedades', 1552),\n ('piscina', 1547),\n ('calidad', 1544),\n ('muebles', 1538),\n ('hall', 1535)]"
     },
     "execution_count": 11,
     "metadata": {},
     "output_type": "execute_result"
    }
   ],
   "source": [
    "from collections import Counter\n",
    "Counter(\" \".join(df_nostopwords[\"property_description\"]).split()).most_common(100)"
   ],
   "metadata": {
    "collapsed": false
   }
  },
  {
   "cell_type": "markdown",
   "source": [
    "Seleccionamos los aspectos que nos parecen relevantes, para luego buscar sus posibles valores.\n",
    "Los aspectos elegidos son: Cocina, pisos, calefaccion, expensas, lavadero, balcon,  cochera y aire."
   ],
   "metadata": {
    "collapsed": false
   }
  },
  {
   "cell_type": "code",
   "execution_count": 12,
   "outputs": [],
   "source": [
    "from types import NoneType\n",
    "aspectos = ['cocina', 'pisos', 'calefaccion', 'expensas', 'lavadero', 'balcon', 'cochera', 'aire']\n",
    "\n",
    "def f(line, word):\n",
    "    format = r\"\\W*([\\w]+)\"\n",
    "    n = 2\n",
    "    x = re.search(r'{}\\W*{}{}'.format(format*n, word, format*n), line)\n",
    "    if not isinstance(x, NoneType):\n",
    "        return x.group()\n",
    "    else:\n",
    "        return \"\"\n",
    "\n",
    "for word in aspectos:\n",
    "    df_nostopwords[word] = df_nostopwords[\"property_description\"].apply(lambda line: f(line, word))"
   ],
   "metadata": {
    "collapsed": false
   }
  },
  {
   "cell_type": "code",
   "execution_count": 13,
   "outputs": [],
   "source": [
    "cant_val_aspectos = 15"
   ],
   "metadata": {
    "collapsed": false
   }
  },
  {
   "cell_type": "code",
   "execution_count": 14,
   "outputs": [
    {
     "data": {
      "text/plain": "[('cocina', 7415),\n ('comedor', 3623),\n ('living', 1900),\n ('integrada', 1265),\n ('bano', 1084),\n ('lavadero', 659),\n ('separada', 623),\n ('muebles', 565),\n ('diario', 562),\n ('toilette', 531),\n ('balcon', 494),\n ('completo', 475),\n ('amplia', 400),\n ('independiente', 397),\n ('2', 336)]"
     },
     "execution_count": 14,
     "metadata": {},
     "output_type": "execute_result"
    }
   ],
   "source": [
    "Counter(\" \".join(df_nostopwords[\"cocina\"]).split()).most_common(cant_val_aspectos)"
   ],
   "metadata": {
    "collapsed": false
   }
  },
  {
   "cell_type": "markdown",
   "source": [
    "Para Cocina, posibles valores son: integrada, separada, independiente, completa"
   ],
   "metadata": {
    "collapsed": false
   }
  },
  {
   "cell_type": "code",
   "execution_count": 15,
   "outputs": [
    {
     "data": {
      "text/plain": "[('pisos', 2637),\n ('porcelanato', 489),\n ('parquet', 359),\n ('madera', 333),\n ('comedor', 272),\n ('living', 263),\n ('edificio', 218),\n ('cocina', 152),\n ('ceramicos', 125),\n ('bano', 116),\n ('2', 114),\n ('3', 104),\n ('calidad', 101),\n ('baja', 100),\n ('dormitorios', 93)]"
     },
     "execution_count": 15,
     "metadata": {},
     "output_type": "execute_result"
    }
   ],
   "source": [
    "Counter(\" \".join(df_nostopwords[\"pisos\"]).split()).most_common(cant_val_aspectos)"
   ],
   "metadata": {
    "collapsed": false
   }
  },
  {
   "cell_type": "markdown",
   "source": [
    "Para pisos, posibles valores son: porcelanato, parquet, madera, ceramicos"
   ],
   "metadata": {
    "collapsed": false
   }
  },
  {
   "cell_type": "code",
   "execution_count": 16,
   "outputs": [
    {
     "data": {
      "text/plain": "[('calefaccion', 1671),\n ('radiadores', 425),\n ('radiante', 420),\n ('central', 380),\n ('losa', 326),\n ('aire', 200),\n ('piso', 154),\n ('tiro', 138),\n ('acondicionado', 131),\n ('caldera', 116),\n ('caliente', 112),\n ('ambientes', 108),\n ('agua', 107),\n ('balanceado', 104),\n ('individual', 101)]"
     },
     "execution_count": 16,
     "metadata": {},
     "output_type": "execute_result"
    }
   ],
   "source": [
    "Counter(\" \".join(df_nostopwords[\"calefaccion\"]).split()).most_common(cant_val_aspectos)"
   ],
   "metadata": {
    "collapsed": false
   }
  },
  {
   "cell_type": "markdown",
   "source": [
    "Para calefaccion, posibles valores son: radiadores, radiante, central, individual"
   ],
   "metadata": {
    "collapsed": false
   }
  },
  {
   "cell_type": "code",
   "execution_count": 17,
   "outputs": [
    {
     "data": {
      "text/plain": "[('expensas', 2882),\n ('servicios', 575),\n ('impuestos', 493),\n ('valores', 406),\n ('bajas', 315),\n ('000', 311),\n ('funcionales', 281),\n ('abl', 278),\n ('gastos', 221),\n ('incluye', 187),\n ('aysa', 128),\n ('sujetos', 123),\n ('medidas', 113),\n ('tasas', 104),\n ('propiedad', 102)]"
     },
     "execution_count": 17,
     "metadata": {},
     "output_type": "execute_result"
    }
   ],
   "source": [
    "Counter(\" \".join(df_nostopwords[\"expensas\"]).split()).most_common(cant_val_aspectos)"
   ],
   "metadata": {
    "collapsed": false
   }
  },
  {
   "cell_type": "markdown",
   "source": [
    "Para expensas, posibles valores son: bajas, incluye"
   ],
   "metadata": {
    "collapsed": false
   }
  },
  {
   "cell_type": "code",
   "execution_count": 18,
   "outputs": [
    {
     "data": {
      "text/plain": "[('lavadero', 3196),\n ('cocina', 756),\n ('bano', 608),\n ('independiente', 550),\n ('comedor', 514),\n ('servicio', 399),\n ('dependencia', 314),\n ('patio', 258),\n ('toilette', 258),\n ('diario', 253),\n ('completo', 249),\n ('cubierto', 192),\n ('parrilla', 184),\n ('espacio', 163),\n ('dormitorio', 155)]"
     },
     "execution_count": 18,
     "metadata": {},
     "output_type": "execute_result"
    }
   ],
   "source": [
    "Counter(\" \".join(df_nostopwords[\"lavadero\"]).split()).most_common(cant_val_aspectos)"
   ],
   "metadata": {
    "collapsed": false
   }
  },
  {
   "cell_type": "markdown",
   "source": [
    "Para lavadero, posibles valores son: independiente, separado"
   ],
   "metadata": {
    "collapsed": false
   }
  },
  {
   "cell_type": "code",
   "execution_count": 19,
   "outputs": [
    {
     "data": {
      "text/plain": "[('balcon', 3331),\n ('frente', 759),\n ('salida', 739),\n ('comedor', 619),\n ('cocina', 413),\n ('bano', 340),\n ('living', 333),\n ('terraza', 330),\n ('amplio', 329),\n ('corrido', 315),\n ('ambientes', 298),\n ('vista', 296),\n ('dormitorio', 244),\n ('completo', 219),\n ('piso', 192)]"
     },
     "execution_count": 19,
     "metadata": {},
     "output_type": "execute_result"
    }
   ],
   "source": [
    "Counter(\" \".join(df_nostopwords[\"balcon\"]).split()).most_common(cant_val_aspectos)"
   ],
   "metadata": {
    "collapsed": false
   }
  },
  {
   "cell_type": "markdown",
   "source": [
    "Para balcon, posibles valores son: frente, amplio, terraza, salida, corrido"
   ],
   "metadata": {
    "collapsed": false
   }
  },
  {
   "cell_type": "code",
   "execution_count": 20,
   "outputs": [
    {
     "data": {
      "text/plain": "[('cochera', 2352),\n ('cocheras', 654),\n ('cubierta', 553),\n ('2', 345),\n ('fija', 256),\n ('ambientes', 235),\n ('autos', 211),\n ('baulera', 206),\n ('bano', 181),\n ('edificio', 164),\n ('3', 154),\n ('1', 141),\n ('balcon', 141),\n ('descubierta', 135),\n ('parrilla', 133),\n ('patio', 120),\n ('lavadero', 117),\n ('planta', 102),\n ('jardin', 100),\n ('completo', 98),\n ('doble', 97),\n ('comedor', 90),\n ('4', 90),\n ('opcional', 88),\n ('terraza', 82),\n ('pileta', 80),\n ('semicubierta', 80),\n ('departamento', 79),\n ('frente', 77),\n ('dormitorios', 76)]"
     },
     "execution_count": 20,
     "metadata": {},
     "output_type": "execute_result"
    }
   ],
   "source": [
    "Counter(\" \".join(df_nostopwords[\"cochera\"]).split()).most_common(cant_val_aspectos*2)"
   ],
   "metadata": {
    "collapsed": false
   }
  },
  {
   "cell_type": "markdown",
   "source": [
    "Para cochera, posibles valores son: cubierta, descubierta, opcional"
   ],
   "metadata": {
    "collapsed": false
   }
  },
  {
   "cell_type": "code",
   "execution_count": 21,
   "outputs": [
    {
     "data": {
      "text/plain": "[('aire', 1896),\n ('acondicionado', 1409),\n ('aires', 661),\n ('frio', 422),\n ('acondicionados', 247),\n ('ambientes', 194),\n ('calefaccion', 192),\n ('split', 158),\n ('central', 136),\n ('equipos', 127),\n ('instalacion', 118),\n ('ciudad', 106),\n ('living', 106),\n ('bano', 95),\n ('provincia', 92)]"
     },
     "execution_count": 21,
     "metadata": {},
     "output_type": "execute_result"
    }
   ],
   "source": [
    "Counter(\" \".join(df_nostopwords[\"aire\"]).split()).most_common(cant_val_aspectos)"
   ],
   "metadata": {
    "collapsed": false
   }
  },
  {
   "cell_type": "markdown",
   "source": [
    "Para aire, posibles valores son: split, central, acondicionado"
   ],
   "metadata": {
    "collapsed": false
   }
  },
  {
   "cell_type": "markdown",
   "source": [
    "Teniendo en cuenta los posibles valores para los aspectos considerados, decidimos descartar lavadero.\n",
    "De esta forma, nuestros aspectos serán: Cocina, pisos, calefaccion, expensas, balcon,  cochera y aire."
   ],
   "metadata": {
    "collapsed": false
   }
  },
  {
   "cell_type": "code",
   "execution_count": 22,
   "outputs": [],
   "source": [
    "aspectos = ['cocina', 'pisos', 'calefaccion', 'expensas', 'balcon', 'cochera', 'aire']"
   ],
   "metadata": {
    "collapsed": false
   }
  },
  {
   "cell_type": "markdown",
   "source": [
    "A continuación creamos la variable values, que contiene los posibles valores para cada uno de los aspectos elegidos."
   ],
   "metadata": {
    "collapsed": false
   }
  },
  {
   "cell_type": "code",
   "execution_count": 23,
   "outputs": [],
   "source": [
    "values_cocina = ['integrada', 'separada', 'independiente', 'completa']\n",
    "values_pisos = ['porcelanato', 'madera', 'parquet', 'ceramicos']\n",
    "values_calefaccion = ['radiadores', 'radiante', 'central', 'individual']\n",
    "values_expensas = ['bajas', 'incluye']\n",
    "values_balcon = ['frente', 'amplio', 'terraza', 'salida', 'corrido']\n",
    "values_cochera = ['opcional', 'cubierta', 'descubierta']\n",
    "values_aire = ['split', 'central', 'acondicionado']\n",
    "\n",
    "values = [values_cocina, values_pisos, values_calefaccion, values_expensas, values_balcon, values_cochera, values_aire]"
   ],
   "metadata": {
    "collapsed": false
   }
  },
  {
   "cell_type": "markdown",
   "source": [
    "## Extensión del dataset original"
   ],
   "metadata": {
    "collapsed": false
   }
  },
  {
   "cell_type": "markdown",
   "source": [
    "En primer lugar creo un dataframe auxiliar que tenga los IDs y las columnas de aspectos"
   ],
   "metadata": {
    "collapsed": false
   }
  },
  {
   "cell_type": "code",
   "execution_count": 24,
   "outputs": [],
   "source": [
    "aux_df = df_nostopwords.copy()\n",
    "aux_df.drop('property_description', inplace=True, axis=1)"
   ],
   "metadata": {
    "collapsed": false
   }
  },
  {
   "cell_type": "markdown",
   "source": [
    "Luego creamos una función a la que; pasandole un dataframe, los aspectos y el listado de valores posibles, reemplace el contenido de las columnas por los valores correspondientes"
   ],
   "metadata": {
    "collapsed": false
   }
  },
  {
   "cell_type": "code",
   "execution_count": 25,
   "outputs": [],
   "source": [
    "def limpiar_values_de_aspects(df, aspects, values):\n",
    "    i = 0\n",
    "    for aspect in aspects:\n",
    "        for word in values[i]:\n",
    "            df[aspect] = df[aspect].apply(lambda line: word if word in line else line)\n",
    "        df[aspect] = df[aspect].apply(lambda line: line if len(line.split())<2 else '')\n",
    "        i = i+1"
   ],
   "metadata": {
    "collapsed": false
   }
  },
  {
   "cell_type": "markdown",
   "source": [
    "Ahora modificamos las columnas de los aspectos, para que solo queden los valores."
   ],
   "metadata": {
    "collapsed": false
   }
  },
  {
   "cell_type": "code",
   "execution_count": 26,
   "outputs": [
    {
     "data": {
      "text/plain": "                          id         cocina      pisos calefaccion expensas  \\\n0   BZCeiGkJr1WBUi6pKJQwJQ==                                          bajas   \n1   zuHOGgUE0UB71W7m/YCLoA==      integrada  ceramicos                        \n2   TUL813tXchVBlHUsfaA6DA==                                                  \n3   gn55JPmcjftBV/at1a7fPg==                                                  \n4   qg4m3QHcuo1+wMmyp7kx3Q==                   parquet                        \n5   XztoBkv1vE+dGuId8GiPyA==                                                  \n6   JEhUB1WqHYnvkmuPWlDgmg==                                                  \n7   ucluEQ4sNKNVbwyKJFnaBw==                                                  \n8   a/LC2bANkFuEJYuHglYSTg==                                                  \n9   XWCMzAub+1YSpvBCuREdPA==      integrada                                   \n10  +9uGr8tPEUkKnpjOef+gUw==                                          bajas   \n11  uH5H+RfQM87Qtrb13+T4hA==  independiente                                   \n12  tto06YVR54II+aQABaJ6ug==      integrada                           bajas   \n13  47t2G764+Gk5EkoUiVc7Qg==       completa                                   \n14  lUt2hCYvNMqlkurtzvKunQ==      integrada                                   \n15  lRVjhy5UZA9SOOLnfLJ6jA==                                                  \n16  n7NJmavbeNUlyKufoGRr+g==      integrada                                   \n17  tcMlnU1MCgzHwRW+MgZW8Q==                 ceramicos                        \n18  wx/PtyYHRDBaTmWGGWhPhA==      integrada             radiadores            \n19  tymxNcISFN1TH7Lne+OOlg==                            radiadores            \n\n                                             lavadero  balcon   cochera  \\\n0                                                                         \n1            ducha baulera lavadero integrado baulera                     \n2                                                      amplio             \n3    ventana exterior lavadero caloventor termotanque                     \n4                                                                         \n5             living comedor lavadero cochera techada                     \n6                                                                         \n7                                                                         \n8                                                                         \n9                                                                         \n10                                                                        \n11                                                                        \n12              digno patio lavadero cerramiento aire                     \n13                                                                        \n14             bano completo lavadero jardin parrilla          cubierta   \n15           quincho terraza lavadero 4deg dormitorio                     \n16                                                                        \n17                                                                        \n18                                                                        \n19           egger brilloso lavadero cubierto muebles                     \n\n             aire  \n0                  \n1                  \n2                  \n3   acondicionado  \n4           split  \n5                  \n6                  \n7                  \n8                  \n9                  \n10                 \n11                 \n12  acondicionado  \n13  acondicionado  \n14                 \n15                 \n16                 \n17                 \n18                 \n19                 ",
      "text/html": "<div>\n<style scoped>\n    .dataframe tbody tr th:only-of-type {\n        vertical-align: middle;\n    }\n\n    .dataframe tbody tr th {\n        vertical-align: top;\n    }\n\n    .dataframe thead th {\n        text-align: right;\n    }\n</style>\n<table border=\"1\" class=\"dataframe\">\n  <thead>\n    <tr style=\"text-align: right;\">\n      <th></th>\n      <th>id</th>\n      <th>cocina</th>\n      <th>pisos</th>\n      <th>calefaccion</th>\n      <th>expensas</th>\n      <th>lavadero</th>\n      <th>balcon</th>\n      <th>cochera</th>\n      <th>aire</th>\n    </tr>\n  </thead>\n  <tbody>\n    <tr>\n      <th>0</th>\n      <td>BZCeiGkJr1WBUi6pKJQwJQ==</td>\n      <td></td>\n      <td></td>\n      <td></td>\n      <td>bajas</td>\n      <td></td>\n      <td></td>\n      <td></td>\n      <td></td>\n    </tr>\n    <tr>\n      <th>1</th>\n      <td>zuHOGgUE0UB71W7m/YCLoA==</td>\n      <td>integrada</td>\n      <td>ceramicos</td>\n      <td></td>\n      <td></td>\n      <td>ducha baulera lavadero integrado baulera</td>\n      <td></td>\n      <td></td>\n      <td></td>\n    </tr>\n    <tr>\n      <th>2</th>\n      <td>TUL813tXchVBlHUsfaA6DA==</td>\n      <td></td>\n      <td></td>\n      <td></td>\n      <td></td>\n      <td></td>\n      <td>amplio</td>\n      <td></td>\n      <td></td>\n    </tr>\n    <tr>\n      <th>3</th>\n      <td>gn55JPmcjftBV/at1a7fPg==</td>\n      <td></td>\n      <td></td>\n      <td></td>\n      <td></td>\n      <td>ventana exterior lavadero caloventor termotanque</td>\n      <td></td>\n      <td></td>\n      <td>acondicionado</td>\n    </tr>\n    <tr>\n      <th>4</th>\n      <td>qg4m3QHcuo1+wMmyp7kx3Q==</td>\n      <td></td>\n      <td>parquet</td>\n      <td></td>\n      <td></td>\n      <td></td>\n      <td></td>\n      <td></td>\n      <td>split</td>\n    </tr>\n    <tr>\n      <th>5</th>\n      <td>XztoBkv1vE+dGuId8GiPyA==</td>\n      <td></td>\n      <td></td>\n      <td></td>\n      <td></td>\n      <td>living comedor lavadero cochera techada</td>\n      <td></td>\n      <td></td>\n      <td></td>\n    </tr>\n    <tr>\n      <th>6</th>\n      <td>JEhUB1WqHYnvkmuPWlDgmg==</td>\n      <td></td>\n      <td></td>\n      <td></td>\n      <td></td>\n      <td></td>\n      <td></td>\n      <td></td>\n      <td></td>\n    </tr>\n    <tr>\n      <th>7</th>\n      <td>ucluEQ4sNKNVbwyKJFnaBw==</td>\n      <td></td>\n      <td></td>\n      <td></td>\n      <td></td>\n      <td></td>\n      <td></td>\n      <td></td>\n      <td></td>\n    </tr>\n    <tr>\n      <th>8</th>\n      <td>a/LC2bANkFuEJYuHglYSTg==</td>\n      <td></td>\n      <td></td>\n      <td></td>\n      <td></td>\n      <td></td>\n      <td></td>\n      <td></td>\n      <td></td>\n    </tr>\n    <tr>\n      <th>9</th>\n      <td>XWCMzAub+1YSpvBCuREdPA==</td>\n      <td>integrada</td>\n      <td></td>\n      <td></td>\n      <td></td>\n      <td></td>\n      <td></td>\n      <td></td>\n      <td></td>\n    </tr>\n    <tr>\n      <th>10</th>\n      <td>+9uGr8tPEUkKnpjOef+gUw==</td>\n      <td></td>\n      <td></td>\n      <td></td>\n      <td>bajas</td>\n      <td></td>\n      <td></td>\n      <td></td>\n      <td></td>\n    </tr>\n    <tr>\n      <th>11</th>\n      <td>uH5H+RfQM87Qtrb13+T4hA==</td>\n      <td>independiente</td>\n      <td></td>\n      <td></td>\n      <td></td>\n      <td></td>\n      <td></td>\n      <td></td>\n      <td></td>\n    </tr>\n    <tr>\n      <th>12</th>\n      <td>tto06YVR54II+aQABaJ6ug==</td>\n      <td>integrada</td>\n      <td></td>\n      <td></td>\n      <td>bajas</td>\n      <td>digno patio lavadero cerramiento aire</td>\n      <td></td>\n      <td></td>\n      <td>acondicionado</td>\n    </tr>\n    <tr>\n      <th>13</th>\n      <td>47t2G764+Gk5EkoUiVc7Qg==</td>\n      <td>completa</td>\n      <td></td>\n      <td></td>\n      <td></td>\n      <td></td>\n      <td></td>\n      <td></td>\n      <td>acondicionado</td>\n    </tr>\n    <tr>\n      <th>14</th>\n      <td>lUt2hCYvNMqlkurtzvKunQ==</td>\n      <td>integrada</td>\n      <td></td>\n      <td></td>\n      <td></td>\n      <td>bano completo lavadero jardin parrilla</td>\n      <td></td>\n      <td>cubierta</td>\n      <td></td>\n    </tr>\n    <tr>\n      <th>15</th>\n      <td>lRVjhy5UZA9SOOLnfLJ6jA==</td>\n      <td></td>\n      <td></td>\n      <td></td>\n      <td></td>\n      <td>quincho terraza lavadero 4deg dormitorio</td>\n      <td></td>\n      <td></td>\n      <td></td>\n    </tr>\n    <tr>\n      <th>16</th>\n      <td>n7NJmavbeNUlyKufoGRr+g==</td>\n      <td>integrada</td>\n      <td></td>\n      <td></td>\n      <td></td>\n      <td></td>\n      <td></td>\n      <td></td>\n      <td></td>\n    </tr>\n    <tr>\n      <th>17</th>\n      <td>tcMlnU1MCgzHwRW+MgZW8Q==</td>\n      <td></td>\n      <td>ceramicos</td>\n      <td></td>\n      <td></td>\n      <td></td>\n      <td></td>\n      <td></td>\n      <td></td>\n    </tr>\n    <tr>\n      <th>18</th>\n      <td>wx/PtyYHRDBaTmWGGWhPhA==</td>\n      <td>integrada</td>\n      <td></td>\n      <td>radiadores</td>\n      <td></td>\n      <td></td>\n      <td></td>\n      <td></td>\n      <td></td>\n    </tr>\n    <tr>\n      <th>19</th>\n      <td>tymxNcISFN1TH7Lne+OOlg==</td>\n      <td></td>\n      <td></td>\n      <td>radiadores</td>\n      <td></td>\n      <td>egger brilloso lavadero cubierto muebles</td>\n      <td></td>\n      <td></td>\n      <td></td>\n    </tr>\n  </tbody>\n</table>\n</div>"
     },
     "execution_count": 26,
     "metadata": {},
     "output_type": "execute_result"
    }
   ],
   "source": [
    "limpiar_values_de_aspects(aux_df, aspectos, values)\n",
    "aux_df.head(20)"
   ],
   "metadata": {
    "collapsed": false
   }
  },
  {
   "cell_type": "markdown",
   "source": [
    "Por último hacemos el merge con el dataframe original, teniendo en cuenta los ID"
   ],
   "metadata": {
    "collapsed": false
   }
  },
  {
   "cell_type": "code",
   "execution_count": 27,
   "outputs": [
    {
     "data": {
      "text/plain": "                          id  start_date    end_date  created_on    latitud  \\\n0   QYdDhkSwWyrfvzfTEQ1ySQ==  2021-07-19  9999-12-31  2021-07-19 -42.374803   \n1   OhYwqYfk3mEMaydO2AcAig==  2021-07-19  2022-06-03  2021-07-19 -34.430403   \n2   vOZ3pyUbUezqI2AKvs+U+w==  2021-07-19  2021-07-30  2021-07-19 -34.639265   \n3   qym9c7BVmm9qjoRE0d/Cfg==  2021-07-19  2021-11-11  2021-07-19 -34.687083   \n4   oGZYLKWaBuperMDV19hf3Q==  2021-07-19  2022-06-05  2021-07-19 -34.651622   \n5   2qV7Xj7qziZ2983wi6Xcwg==  2021-07-19  2021-09-08  2021-07-19 -34.651658   \n6   czz0YZPAfG7OZ/a1iIL3pA==  2021-07-19  2021-12-11  2021-07-19 -34.646967   \n7   VX0PuljJaZk9A6c6sytJUw==  2021-07-19  2021-10-30  2021-07-19 -34.587195   \n8   fufPuvs+05Gy/g8KZkB2Aw==  2021-07-19  2021-07-20  2021-07-19 -34.580028   \n9   DxWU725gEq+DkGxoxZhXlA==  2021-07-19  2021-07-31  2021-07-19 -34.908827   \n10  gaa/pJDbwCxbQeHIr6NiHQ==  2021-07-19  2021-10-21  2021-07-19 -32.945429   \n11  4L6+9dEfDGhY+ar04/2g6Q==  2021-07-19  2021-07-26  2021-07-19        NaN   \n12  CjCGD7eC6MHK6wEoJgQRyw==  2021-07-19  2021-08-30  2021-07-19 -34.577770   \n13  evC73FdCj8YslrAtJGAIhw==  2021-07-19  2021-09-14  2021-07-19        NaN   \n14  8HAzvwGC78gKN6LiSttWxA==  2021-07-19  2021-07-30  2021-07-19 -34.632145   \n15  4/zB55Le2uKYeta1n+QxSA==  2021-07-19  2021-09-03  2021-07-19 -34.884037   \n16  RiCLPJNWoQOKI/zJHpkDqA==  2021-07-19  2021-08-26  2021-07-19 -34.572846   \n17  OdBaDWzdCC+aDaH33YAo1g==  2021-07-19  2021-07-20  2021-07-19 -34.614825   \n18  6yJox5MWnvMiaITvviyxAQ==  2021-07-19  2021-08-25  2021-07-19 -34.580036   \n19  tT7OhBBR7R0t6gAFSauTsw==  2021-07-19  2021-08-13  2021-07-19 -34.582752   \n\n     longitud                  place_l2   place_l3  place_l4 place_l5  ...  \\\n0  -65.171993                    Chubut        NaN       NaN      NaN  ...   \n1  -58.563122  Bs.As. G.B.A. Zona Norte      Tigre     Tigre      NaN  ...   \n2  -58.453156           Capital Federal     Flores       NaN      NaN  ...   \n3  -58.414333    Bs.As. G.B.A. Zona Sur      Lanús     Lanús      NaN  ...   \n4  -58.752687  Bs.As. G.B.A. Zona Oeste     Moreno       NaN      NaN  ...   \n5  -58.605199  Bs.As. G.B.A. Zona Oeste      Morón       NaN      NaN  ...   \n6  -58.527264           Capital Federal    Liniers       NaN      NaN  ...   \n7  -58.429605           Capital Federal    Palermo       NaN      NaN  ...   \n8  -58.410059           Capital Federal    Palermo       NaN      NaN  ...   \n9  -56.156799                Montevideo    Pocitos       NaN      NaN  ...   \n10 -60.670924                  Santa Fe    Rosario       NaN      NaN  ...   \n11        NaN                  Santa Fe    Rosario       NaN      NaN  ...   \n12 -58.465443           Capital Federal   Belgrano       NaN      NaN  ...   \n13        NaN           Capital Federal   Congreso       NaN      NaN  ...   \n14 -58.506766           Capital Federal   Floresta       NaN      NaN  ...   \n15 -57.990967    Bs.As. G.B.A. Zona Sur   La Plata  La Plata      NaN  ...   \n16 -58.501563           Capital Federal   Saavedra       NaN      NaN  ...   \n17 -58.436806           Capital Federal  Caballito       NaN      NaN  ...   \n18 -58.458845           Capital Federal  Chacarita       NaN      NaN  ...   \n19 -58.454416           Capital Federal  Chacarita       NaN      NaN  ...   \n\n    property_currency                                     property_title  \\\n0                 USD                                        PH - Biedma   \n1                 USD                               PH - Ciudad De Tigre   \n2                 ARS                                        PH - Flores   \n3                 ARS  TIPO CASA 2 AMB C/PTIO SIN EXPENSAS SOBRE AVEN...   \n4                 USD                                        PH - Moreno   \n5                 ARS             ALQUILER DEPARTAMENTO  PH 2 AMBIENTES    \n6                 USD  Venta PH/ DUPLEX de 3 ambientes - Liniers. Zon...   \n7                 ARS                                       PH - Palermo   \n8                 ARS  Unico PH de 71m2 a nuevo con patio propio sin ...   \n9                 USD                                       PH - Pocitos   \n10                USD                                   PH - Macrocentro   \n11                USD  Venta departamento de pasillo 2 dormitorios-pa...   \n12                USD  PH - GARAGE -  5 AMB.  DEP - PATIO - PARRILLA ...   \n13                NaN                                      PH - Congreso   \n14                ARS           Alquiler duplex 3 ambientes Monte Castro   \n15                ARS  PH alquiler -3dormitorios-2baños-243,40mts2 to...   \n16                USD  Departamento - tipo PH - Dos ambientes con pat...   \n17                ARS                                     PH - Caballito   \n18                USD  PH A RECICLAR, 3 AMB CON PATIO, VIRREY LORETO ...   \n19                USD                     PH  todo luz y sol - Chacarita   \n\n           cocina   pisos  calefaccion  expensas  \\\n0                                                  \n1       integrada                                  \n2       integrada                                  \n3                                                  \n4                                                  \n5                                                  \n6        separada                                  \n7                                                  \n8        completa                                  \n9                                                  \n10      integrada                                  \n11       separada                                  \n12                 madera                          \n13                                                 \n14      integrada                                  \n15                                                 \n16                                         bajas   \n17                                                 \n18                                                 \n19  independiente  madera                  bajas   \n\n                                           lavadero   balcon   cochera  \\\n0                                                                        \n1             dormitorios placard lavadero 2 patios                      \n2                recepcion garage lavadero patio pa                      \n3                                                                        \n4    comedor balcon lavadero independiente toilette                      \n5                                                             opcional   \n6           banera balcon lavadero frente propiedad   amplio             \n7                                                                        \n8                                                                        \n9                                                                        \n10      muebles mesada lavadero independiente patio                      \n11             cocina separada lavadero planta alta  terraza             \n12            patio parrilla lavadero separado piso  terraza             \n13                                                                       \n14               living comedor lavadero plata alta   frente             \n15         salida jardin lavadero _cochera cubierta           cubierta   \n16                                                                       \n17                                                                       \n18                                                                       \n19   madera cocina lavadero independientes luminoso                      \n\n             aire  \n0                  \n1                  \n2                  \n3                  \n4                  \n5                  \n6                  \n7                  \n8                  \n9                  \n10                 \n11                 \n12  acondicionado  \n13                 \n14                 \n15                 \n16  acondicionado  \n17                 \n18                 \n19                 \n\n[20 rows x 28 columns]",
      "text/html": "<div>\n<style scoped>\n    .dataframe tbody tr th:only-of-type {\n        vertical-align: middle;\n    }\n\n    .dataframe tbody tr th {\n        vertical-align: top;\n    }\n\n    .dataframe thead th {\n        text-align: right;\n    }\n</style>\n<table border=\"1\" class=\"dataframe\">\n  <thead>\n    <tr style=\"text-align: right;\">\n      <th></th>\n      <th>id</th>\n      <th>start_date</th>\n      <th>end_date</th>\n      <th>created_on</th>\n      <th>latitud</th>\n      <th>longitud</th>\n      <th>place_l2</th>\n      <th>place_l3</th>\n      <th>place_l4</th>\n      <th>place_l5</th>\n      <th>...</th>\n      <th>property_currency</th>\n      <th>property_title</th>\n      <th>cocina</th>\n      <th>pisos</th>\n      <th>calefaccion</th>\n      <th>expensas</th>\n      <th>lavadero</th>\n      <th>balcon</th>\n      <th>cochera</th>\n      <th>aire</th>\n    </tr>\n  </thead>\n  <tbody>\n    <tr>\n      <th>0</th>\n      <td>QYdDhkSwWyrfvzfTEQ1ySQ==</td>\n      <td>2021-07-19</td>\n      <td>9999-12-31</td>\n      <td>2021-07-19</td>\n      <td>-42.374803</td>\n      <td>-65.171993</td>\n      <td>Chubut</td>\n      <td>NaN</td>\n      <td>NaN</td>\n      <td>NaN</td>\n      <td>...</td>\n      <td>USD</td>\n      <td>PH - Biedma</td>\n      <td></td>\n      <td></td>\n      <td></td>\n      <td></td>\n      <td></td>\n      <td></td>\n      <td></td>\n      <td></td>\n    </tr>\n    <tr>\n      <th>1</th>\n      <td>OhYwqYfk3mEMaydO2AcAig==</td>\n      <td>2021-07-19</td>\n      <td>2022-06-03</td>\n      <td>2021-07-19</td>\n      <td>-34.430403</td>\n      <td>-58.563122</td>\n      <td>Bs.As. G.B.A. Zona Norte</td>\n      <td>Tigre</td>\n      <td>Tigre</td>\n      <td>NaN</td>\n      <td>...</td>\n      <td>USD</td>\n      <td>PH - Ciudad De Tigre</td>\n      <td>integrada</td>\n      <td></td>\n      <td></td>\n      <td></td>\n      <td>dormitorios placard lavadero 2 patios</td>\n      <td></td>\n      <td></td>\n      <td></td>\n    </tr>\n    <tr>\n      <th>2</th>\n      <td>vOZ3pyUbUezqI2AKvs+U+w==</td>\n      <td>2021-07-19</td>\n      <td>2021-07-30</td>\n      <td>2021-07-19</td>\n      <td>-34.639265</td>\n      <td>-58.453156</td>\n      <td>Capital Federal</td>\n      <td>Flores</td>\n      <td>NaN</td>\n      <td>NaN</td>\n      <td>...</td>\n      <td>ARS</td>\n      <td>PH - Flores</td>\n      <td>integrada</td>\n      <td></td>\n      <td></td>\n      <td></td>\n      <td>recepcion garage lavadero patio pa</td>\n      <td></td>\n      <td></td>\n      <td></td>\n    </tr>\n    <tr>\n      <th>3</th>\n      <td>qym9c7BVmm9qjoRE0d/Cfg==</td>\n      <td>2021-07-19</td>\n      <td>2021-11-11</td>\n      <td>2021-07-19</td>\n      <td>-34.687083</td>\n      <td>-58.414333</td>\n      <td>Bs.As. G.B.A. Zona Sur</td>\n      <td>Lanús</td>\n      <td>Lanús</td>\n      <td>NaN</td>\n      <td>...</td>\n      <td>ARS</td>\n      <td>TIPO CASA 2 AMB C/PTIO SIN EXPENSAS SOBRE AVEN...</td>\n      <td></td>\n      <td></td>\n      <td></td>\n      <td></td>\n      <td></td>\n      <td></td>\n      <td></td>\n      <td></td>\n    </tr>\n    <tr>\n      <th>4</th>\n      <td>oGZYLKWaBuperMDV19hf3Q==</td>\n      <td>2021-07-19</td>\n      <td>2022-06-05</td>\n      <td>2021-07-19</td>\n      <td>-34.651622</td>\n      <td>-58.752687</td>\n      <td>Bs.As. G.B.A. Zona Oeste</td>\n      <td>Moreno</td>\n      <td>NaN</td>\n      <td>NaN</td>\n      <td>...</td>\n      <td>USD</td>\n      <td>PH - Moreno</td>\n      <td></td>\n      <td></td>\n      <td></td>\n      <td></td>\n      <td>comedor balcon lavadero independiente toilette</td>\n      <td></td>\n      <td></td>\n      <td></td>\n    </tr>\n    <tr>\n      <th>5</th>\n      <td>2qV7Xj7qziZ2983wi6Xcwg==</td>\n      <td>2021-07-19</td>\n      <td>2021-09-08</td>\n      <td>2021-07-19</td>\n      <td>-34.651658</td>\n      <td>-58.605199</td>\n      <td>Bs.As. G.B.A. Zona Oeste</td>\n      <td>Morón</td>\n      <td>NaN</td>\n      <td>NaN</td>\n      <td>...</td>\n      <td>ARS</td>\n      <td>ALQUILER DEPARTAMENTO  PH 2 AMBIENTES</td>\n      <td></td>\n      <td></td>\n      <td></td>\n      <td></td>\n      <td></td>\n      <td></td>\n      <td>opcional</td>\n      <td></td>\n    </tr>\n    <tr>\n      <th>6</th>\n      <td>czz0YZPAfG7OZ/a1iIL3pA==</td>\n      <td>2021-07-19</td>\n      <td>2021-12-11</td>\n      <td>2021-07-19</td>\n      <td>-34.646967</td>\n      <td>-58.527264</td>\n      <td>Capital Federal</td>\n      <td>Liniers</td>\n      <td>NaN</td>\n      <td>NaN</td>\n      <td>...</td>\n      <td>USD</td>\n      <td>Venta PH/ DUPLEX de 3 ambientes - Liniers. Zon...</td>\n      <td>separada</td>\n      <td></td>\n      <td></td>\n      <td></td>\n      <td>banera balcon lavadero frente propiedad</td>\n      <td>amplio</td>\n      <td></td>\n      <td></td>\n    </tr>\n    <tr>\n      <th>7</th>\n      <td>VX0PuljJaZk9A6c6sytJUw==</td>\n      <td>2021-07-19</td>\n      <td>2021-10-30</td>\n      <td>2021-07-19</td>\n      <td>-34.587195</td>\n      <td>-58.429605</td>\n      <td>Capital Federal</td>\n      <td>Palermo</td>\n      <td>NaN</td>\n      <td>NaN</td>\n      <td>...</td>\n      <td>ARS</td>\n      <td>PH - Palermo</td>\n      <td></td>\n      <td></td>\n      <td></td>\n      <td></td>\n      <td></td>\n      <td></td>\n      <td></td>\n      <td></td>\n    </tr>\n    <tr>\n      <th>8</th>\n      <td>fufPuvs+05Gy/g8KZkB2Aw==</td>\n      <td>2021-07-19</td>\n      <td>2021-07-20</td>\n      <td>2021-07-19</td>\n      <td>-34.580028</td>\n      <td>-58.410059</td>\n      <td>Capital Federal</td>\n      <td>Palermo</td>\n      <td>NaN</td>\n      <td>NaN</td>\n      <td>...</td>\n      <td>ARS</td>\n      <td>Unico PH de 71m2 a nuevo con patio propio sin ...</td>\n      <td>completa</td>\n      <td></td>\n      <td></td>\n      <td></td>\n      <td></td>\n      <td></td>\n      <td></td>\n      <td></td>\n    </tr>\n    <tr>\n      <th>9</th>\n      <td>DxWU725gEq+DkGxoxZhXlA==</td>\n      <td>2021-07-19</td>\n      <td>2021-07-31</td>\n      <td>2021-07-19</td>\n      <td>-34.908827</td>\n      <td>-56.156799</td>\n      <td>Montevideo</td>\n      <td>Pocitos</td>\n      <td>NaN</td>\n      <td>NaN</td>\n      <td>...</td>\n      <td>USD</td>\n      <td>PH - Pocitos</td>\n      <td></td>\n      <td></td>\n      <td></td>\n      <td></td>\n      <td></td>\n      <td></td>\n      <td></td>\n      <td></td>\n    </tr>\n    <tr>\n      <th>10</th>\n      <td>gaa/pJDbwCxbQeHIr6NiHQ==</td>\n      <td>2021-07-19</td>\n      <td>2021-10-21</td>\n      <td>2021-07-19</td>\n      <td>-32.945429</td>\n      <td>-60.670924</td>\n      <td>Santa Fe</td>\n      <td>Rosario</td>\n      <td>NaN</td>\n      <td>NaN</td>\n      <td>...</td>\n      <td>USD</td>\n      <td>PH - Macrocentro</td>\n      <td>integrada</td>\n      <td></td>\n      <td></td>\n      <td></td>\n      <td>muebles mesada lavadero independiente patio</td>\n      <td></td>\n      <td></td>\n      <td></td>\n    </tr>\n    <tr>\n      <th>11</th>\n      <td>4L6+9dEfDGhY+ar04/2g6Q==</td>\n      <td>2021-07-19</td>\n      <td>2021-07-26</td>\n      <td>2021-07-19</td>\n      <td>NaN</td>\n      <td>NaN</td>\n      <td>Santa Fe</td>\n      <td>Rosario</td>\n      <td>NaN</td>\n      <td>NaN</td>\n      <td>...</td>\n      <td>USD</td>\n      <td>Venta departamento de pasillo 2 dormitorios-pa...</td>\n      <td>separada</td>\n      <td></td>\n      <td></td>\n      <td></td>\n      <td>cocina separada lavadero planta alta</td>\n      <td>terraza</td>\n      <td></td>\n      <td></td>\n    </tr>\n    <tr>\n      <th>12</th>\n      <td>CjCGD7eC6MHK6wEoJgQRyw==</td>\n      <td>2021-07-19</td>\n      <td>2021-08-30</td>\n      <td>2021-07-19</td>\n      <td>-34.577770</td>\n      <td>-58.465443</td>\n      <td>Capital Federal</td>\n      <td>Belgrano</td>\n      <td>NaN</td>\n      <td>NaN</td>\n      <td>...</td>\n      <td>USD</td>\n      <td>PH - GARAGE -  5 AMB.  DEP - PATIO - PARRILLA ...</td>\n      <td></td>\n      <td>madera</td>\n      <td></td>\n      <td></td>\n      <td>patio parrilla lavadero separado piso</td>\n      <td>terraza</td>\n      <td></td>\n      <td>acondicionado</td>\n    </tr>\n    <tr>\n      <th>13</th>\n      <td>evC73FdCj8YslrAtJGAIhw==</td>\n      <td>2021-07-19</td>\n      <td>2021-09-14</td>\n      <td>2021-07-19</td>\n      <td>NaN</td>\n      <td>NaN</td>\n      <td>Capital Federal</td>\n      <td>Congreso</td>\n      <td>NaN</td>\n      <td>NaN</td>\n      <td>...</td>\n      <td>NaN</td>\n      <td>PH - Congreso</td>\n      <td></td>\n      <td></td>\n      <td></td>\n      <td></td>\n      <td></td>\n      <td></td>\n      <td></td>\n      <td></td>\n    </tr>\n    <tr>\n      <th>14</th>\n      <td>8HAzvwGC78gKN6LiSttWxA==</td>\n      <td>2021-07-19</td>\n      <td>2021-07-30</td>\n      <td>2021-07-19</td>\n      <td>-34.632145</td>\n      <td>-58.506766</td>\n      <td>Capital Federal</td>\n      <td>Floresta</td>\n      <td>NaN</td>\n      <td>NaN</td>\n      <td>...</td>\n      <td>ARS</td>\n      <td>Alquiler duplex 3 ambientes Monte Castro</td>\n      <td>integrada</td>\n      <td></td>\n      <td></td>\n      <td></td>\n      <td>living comedor lavadero plata alta</td>\n      <td>frente</td>\n      <td></td>\n      <td></td>\n    </tr>\n    <tr>\n      <th>15</th>\n      <td>4/zB55Le2uKYeta1n+QxSA==</td>\n      <td>2021-07-19</td>\n      <td>2021-09-03</td>\n      <td>2021-07-19</td>\n      <td>-34.884037</td>\n      <td>-57.990967</td>\n      <td>Bs.As. G.B.A. Zona Sur</td>\n      <td>La Plata</td>\n      <td>La Plata</td>\n      <td>NaN</td>\n      <td>...</td>\n      <td>ARS</td>\n      <td>PH alquiler -3dormitorios-2baños-243,40mts2 to...</td>\n      <td></td>\n      <td></td>\n      <td></td>\n      <td></td>\n      <td>salida jardin lavadero _cochera cubierta</td>\n      <td></td>\n      <td>cubierta</td>\n      <td></td>\n    </tr>\n    <tr>\n      <th>16</th>\n      <td>RiCLPJNWoQOKI/zJHpkDqA==</td>\n      <td>2021-07-19</td>\n      <td>2021-08-26</td>\n      <td>2021-07-19</td>\n      <td>-34.572846</td>\n      <td>-58.501563</td>\n      <td>Capital Federal</td>\n      <td>Saavedra</td>\n      <td>NaN</td>\n      <td>NaN</td>\n      <td>...</td>\n      <td>USD</td>\n      <td>Departamento - tipo PH - Dos ambientes con pat...</td>\n      <td></td>\n      <td></td>\n      <td></td>\n      <td>bajas</td>\n      <td></td>\n      <td></td>\n      <td></td>\n      <td>acondicionado</td>\n    </tr>\n    <tr>\n      <th>17</th>\n      <td>OdBaDWzdCC+aDaH33YAo1g==</td>\n      <td>2021-07-19</td>\n      <td>2021-07-20</td>\n      <td>2021-07-19</td>\n      <td>-34.614825</td>\n      <td>-58.436806</td>\n      <td>Capital Federal</td>\n      <td>Caballito</td>\n      <td>NaN</td>\n      <td>NaN</td>\n      <td>...</td>\n      <td>ARS</td>\n      <td>PH - Caballito</td>\n      <td></td>\n      <td></td>\n      <td></td>\n      <td></td>\n      <td></td>\n      <td></td>\n      <td></td>\n      <td></td>\n    </tr>\n    <tr>\n      <th>18</th>\n      <td>6yJox5MWnvMiaITvviyxAQ==</td>\n      <td>2021-07-19</td>\n      <td>2021-08-25</td>\n      <td>2021-07-19</td>\n      <td>-34.580036</td>\n      <td>-58.458845</td>\n      <td>Capital Federal</td>\n      <td>Chacarita</td>\n      <td>NaN</td>\n      <td>NaN</td>\n      <td>...</td>\n      <td>USD</td>\n      <td>PH A RECICLAR, 3 AMB CON PATIO, VIRREY LORETO ...</td>\n      <td></td>\n      <td></td>\n      <td></td>\n      <td></td>\n      <td></td>\n      <td></td>\n      <td></td>\n      <td></td>\n    </tr>\n    <tr>\n      <th>19</th>\n      <td>tT7OhBBR7R0t6gAFSauTsw==</td>\n      <td>2021-07-19</td>\n      <td>2021-08-13</td>\n      <td>2021-07-19</td>\n      <td>-34.582752</td>\n      <td>-58.454416</td>\n      <td>Capital Federal</td>\n      <td>Chacarita</td>\n      <td>NaN</td>\n      <td>NaN</td>\n      <td>...</td>\n      <td>USD</td>\n      <td>PH  todo luz y sol - Chacarita</td>\n      <td>independiente</td>\n      <td>madera</td>\n      <td></td>\n      <td>bajas</td>\n      <td>madera cocina lavadero independientes luminoso</td>\n      <td></td>\n      <td></td>\n      <td></td>\n    </tr>\n  </tbody>\n</table>\n<p>20 rows × 28 columns</p>\n</div>"
     },
     "execution_count": 27,
     "metadata": {},
     "output_type": "execute_result"
    }
   ],
   "source": [
    "df = properati.copy()\n",
    "df = pd.merge(df,aux_df, on=\"id\")\n",
    "df.head(20)"
   ],
   "metadata": {
    "collapsed": false
   }
  },
  {
   "cell_type": "code",
   "execution_count": 28,
   "outputs": [],
   "source": [
    "# export = df_nostopwords[\"property_description\"].head(5)\n",
    "# np.savetxt('export.txt', export.values, fmt='%s')\n",
    "# export.head()"
   ],
   "metadata": {
    "collapsed": false
   }
  },
  {
   "cell_type": "code",
   "execution_count": 29,
   "outputs": [],
   "source": [
    "# import nltk\n",
    "# from nltk.collocations import *\n",
    "# bigram_measures = nltk.collocations.BigramAssocMeasures()\n",
    "# trigram_measures = nltk.collocations.TrigramAssocMeasures()\n",
    "#\n",
    "# # change this to read in your data\n",
    "# finder = BigramCollocationFinder.from_words(\n",
    "#     nltk.corpus.genesis.words(df_decrip[\"property_description\"]))\n",
    "#\n",
    "# # only bigrams that appear 3+ times\n",
    "# finder.apply_freq_filter(3)\n",
    "#\n",
    "# # return the 10 n-grams with the highest PMI\n",
    "# finder.nbest(bigram_measures.pmi, 10)"
   ],
   "metadata": {
    "collapsed": false
   }
  }
 ],
 "metadata": {
  "kernelspec": {
   "display_name": "Python 3",
   "language": "python",
   "name": "python3"
  },
  "language_info": {
   "codemirror_mode": {
    "name": "ipython",
    "version": 2
   },
   "file_extension": ".py",
   "mimetype": "text/x-python",
   "name": "python",
   "nbconvert_exporter": "python",
   "pygments_lexer": "ipython2",
   "version": "2.7.6"
  }
 },
 "nbformat": 4,
 "nbformat_minor": 0
}
