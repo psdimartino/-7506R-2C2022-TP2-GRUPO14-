{
 "cells": [
  {
   "cell_type": "markdown",
   "source": [
    "______________________________________\n",
    "# <center>**Trabajo Practico Nº1 para la Materia *Organización de Datos***</center>\n",
    "\n",
    "*Integrantes*:\n",
    "- 103963\tCarolina Di Matteo\tcdimatteo@fi.uba.ar\n",
    "- 101231\tPablo Salvador Dimartino\tpdimartino@fi.uba.ar\n",
    "- 100113\tJuan Sebastian Burgos\tjsburgos@fi.uba.ar\n",
    "- 104415\tValentina Laura Correa\tvcorrea@fi.uba.ar\n",
    "\n",
    "*Grupo*: 14\n",
    "\n",
    "*Repositorio*: [github](https://github.com/valencorrea/7506R-2C2022-GRUPO14)\n",
    "\n",
    "*Curso*: Rodriguez\n",
    "\n",
    "*Cuatrimestre*: 2c2022\n",
    "\n",
    "Datos provistos por [properati](https://www.properati.com.ar).\n",
    "______________________________________\n"
   ],
   "metadata": {
    "collapsed": false
   }
  },
  {
   "cell_type": "code",
   "execution_count": 1,
   "outputs": [],
   "source": [
    "#Importación de librerías\n",
    "\n",
    "import numpy as np\n",
    "import cmath as math\n",
    "import matplotlib.pyplot as plt\n",
    "import seaborn as sns\n",
    "import pandas as pd\n",
    "from xgboost import XGBRegressor\n",
    "\n",
    "# from sklearn.model_selection import StratifiedKFold, KFold, RandomizedSearchCV, train_test_split\n",
    "\n",
    "#Configuración de Warnings\n",
    "import warnings\n",
    "warnings.filterwarnings('ignore')\n",
    "warnings.simplefilter(action='ignore', category=FutureWarning)\n",
    "warnings.simplefilter(action='ignore', category=UserWarning)\n",
    "\n",
    "#Ejecución con Drive\n",
    "if 'google.colab' in str(get_ipython()):\n",
    "    IN_COLAB = True\n",
    "else:\n",
    "    IN_COLAB = False\n",
    "\n",
    "if IN_COLAB :\n",
    "    from google.colab import drive\n",
    "    drive.mount('/content/drive')\n",
    "    properati = pd.read_csv('/content/drive/MyDrive/📔 Organización de Datos (75.06)/TPS/TP1/1d_df_reducido.csv')\n",
    "    properati_decrip = pd.read_csv('/content/drive/MyDrive/📔 Organización de Datos (75.06)/TPS/TP1/properati_argentina_2021_decrip.csv')\n",
    "else:\n",
    "    properati=pd.read_csv('./1d_df_reducido.csv')\n",
    "    properati_decrip = pd.read_csv('properati_argentina_2021_decrip.csv')"
   ],
   "metadata": {
    "collapsed": false
   }
  },
  {
   "cell_type": "code",
   "execution_count": 2,
   "outputs": [
    {
     "data": {
      "text/plain": "                             id  start_date  end_date    latitud   longitud  \\\n0      1gMQ4rXcpnPs+hhvW11Jdw==      738005    738091 -34.622385 -58.448886   \n1      p7gmyqzdOy/+odHwH5oPyg==      737817    737946 -34.618084 -58.359912   \n2      ZYkS+4dCz1vUENzAREcX9w==      738035    738035 -34.601159 -58.398106   \n3      UL/s8zoicLDXXwhaelBgFQ==      738140    738195 -34.605542 -58.390007   \n4      wnz+hkCE7RVBNcqDQEtFSw==      737868    737946 -34.593266 -58.381426   \n...                         ...         ...       ...        ...        ...   \n74248  CIrzzz0KQkUDDmjnFINLwA==      738001    738192 -34.597304 -58.432406   \n74249  i5lDg1C7ZEZyETXxCbolhw==      737812    737971 -34.581910 -58.449381   \n74250  b97ekVIR18ZDn3ZsDXWrVQ==      738096    738182 -34.604510 -58.390908   \n74251  7oLMN+ZSoOP2N9Uu7Pz68A==      737829    737856 -34.657111 -58.405545   \n74252  Wp8gte38mWUKv35WKMVs2g==      737808    738126 -34.580785 -58.431046   \n\n                place_l4 property_type  property_rooms  \\\n0              Caballito  Departamento             4.0   \n1          Puerto Madero  Departamento             2.0   \n2              Balvanera  Departamento             1.0   \n3            San Nicolás  Departamento             1.0   \n4                 Retiro  Departamento             1.0   \n...                  ...           ...             ...   \n74248       Villa Crespo  Departamento             1.0   \n74249            Palermo  Departamento             2.0   \n74250       Villa Crespo  Departamento             3.0   \n74251            Pompeya  Departamento             4.0   \n74252  Palermo Hollywood  Departamento             1.0   \n\n       property_surface_total  property_price  \n0                       113.0        288000.0  \n1                        70.0        450000.0  \n2                        33.0         77243.0  \n3                        30.0         65000.0  \n4                        40.0         79000.0  \n...                       ...             ...  \n74248                    29.0         64500.0  \n74249                    56.0        144870.0  \n74250                    64.0        110000.0  \n74251                    81.0         73000.0  \n74252                    36.0         89900.0  \n\n[74253 rows x 10 columns]",
      "text/html": "<div>\n<style scoped>\n    .dataframe tbody tr th:only-of-type {\n        vertical-align: middle;\n    }\n\n    .dataframe tbody tr th {\n        vertical-align: top;\n    }\n\n    .dataframe thead th {\n        text-align: right;\n    }\n</style>\n<table border=\"1\" class=\"dataframe\">\n  <thead>\n    <tr style=\"text-align: right;\">\n      <th></th>\n      <th>id</th>\n      <th>start_date</th>\n      <th>end_date</th>\n      <th>latitud</th>\n      <th>longitud</th>\n      <th>place_l4</th>\n      <th>property_type</th>\n      <th>property_rooms</th>\n      <th>property_surface_total</th>\n      <th>property_price</th>\n    </tr>\n  </thead>\n  <tbody>\n    <tr>\n      <th>0</th>\n      <td>1gMQ4rXcpnPs+hhvW11Jdw==</td>\n      <td>738005</td>\n      <td>738091</td>\n      <td>-34.622385</td>\n      <td>-58.448886</td>\n      <td>Caballito</td>\n      <td>Departamento</td>\n      <td>4.0</td>\n      <td>113.0</td>\n      <td>288000.0</td>\n    </tr>\n    <tr>\n      <th>1</th>\n      <td>p7gmyqzdOy/+odHwH5oPyg==</td>\n      <td>737817</td>\n      <td>737946</td>\n      <td>-34.618084</td>\n      <td>-58.359912</td>\n      <td>Puerto Madero</td>\n      <td>Departamento</td>\n      <td>2.0</td>\n      <td>70.0</td>\n      <td>450000.0</td>\n    </tr>\n    <tr>\n      <th>2</th>\n      <td>ZYkS+4dCz1vUENzAREcX9w==</td>\n      <td>738035</td>\n      <td>738035</td>\n      <td>-34.601159</td>\n      <td>-58.398106</td>\n      <td>Balvanera</td>\n      <td>Departamento</td>\n      <td>1.0</td>\n      <td>33.0</td>\n      <td>77243.0</td>\n    </tr>\n    <tr>\n      <th>3</th>\n      <td>UL/s8zoicLDXXwhaelBgFQ==</td>\n      <td>738140</td>\n      <td>738195</td>\n      <td>-34.605542</td>\n      <td>-58.390007</td>\n      <td>San Nicolás</td>\n      <td>Departamento</td>\n      <td>1.0</td>\n      <td>30.0</td>\n      <td>65000.0</td>\n    </tr>\n    <tr>\n      <th>4</th>\n      <td>wnz+hkCE7RVBNcqDQEtFSw==</td>\n      <td>737868</td>\n      <td>737946</td>\n      <td>-34.593266</td>\n      <td>-58.381426</td>\n      <td>Retiro</td>\n      <td>Departamento</td>\n      <td>1.0</td>\n      <td>40.0</td>\n      <td>79000.0</td>\n    </tr>\n    <tr>\n      <th>...</th>\n      <td>...</td>\n      <td>...</td>\n      <td>...</td>\n      <td>...</td>\n      <td>...</td>\n      <td>...</td>\n      <td>...</td>\n      <td>...</td>\n      <td>...</td>\n      <td>...</td>\n    </tr>\n    <tr>\n      <th>74248</th>\n      <td>CIrzzz0KQkUDDmjnFINLwA==</td>\n      <td>738001</td>\n      <td>738192</td>\n      <td>-34.597304</td>\n      <td>-58.432406</td>\n      <td>Villa Crespo</td>\n      <td>Departamento</td>\n      <td>1.0</td>\n      <td>29.0</td>\n      <td>64500.0</td>\n    </tr>\n    <tr>\n      <th>74249</th>\n      <td>i5lDg1C7ZEZyETXxCbolhw==</td>\n      <td>737812</td>\n      <td>737971</td>\n      <td>-34.581910</td>\n      <td>-58.449381</td>\n      <td>Palermo</td>\n      <td>Departamento</td>\n      <td>2.0</td>\n      <td>56.0</td>\n      <td>144870.0</td>\n    </tr>\n    <tr>\n      <th>74250</th>\n      <td>b97ekVIR18ZDn3ZsDXWrVQ==</td>\n      <td>738096</td>\n      <td>738182</td>\n      <td>-34.604510</td>\n      <td>-58.390908</td>\n      <td>Villa Crespo</td>\n      <td>Departamento</td>\n      <td>3.0</td>\n      <td>64.0</td>\n      <td>110000.0</td>\n    </tr>\n    <tr>\n      <th>74251</th>\n      <td>7oLMN+ZSoOP2N9Uu7Pz68A==</td>\n      <td>737829</td>\n      <td>737856</td>\n      <td>-34.657111</td>\n      <td>-58.405545</td>\n      <td>Pompeya</td>\n      <td>Departamento</td>\n      <td>4.0</td>\n      <td>81.0</td>\n      <td>73000.0</td>\n    </tr>\n    <tr>\n      <th>74252</th>\n      <td>Wp8gte38mWUKv35WKMVs2g==</td>\n      <td>737808</td>\n      <td>738126</td>\n      <td>-34.580785</td>\n      <td>-58.431046</td>\n      <td>Palermo Hollywood</td>\n      <td>Departamento</td>\n      <td>1.0</td>\n      <td>36.0</td>\n      <td>89900.0</td>\n    </tr>\n  </tbody>\n</table>\n<p>74253 rows × 10 columns</p>\n</div>"
     },
     "execution_count": 2,
     "metadata": {},
     "output_type": "execute_result"
    }
   ],
   "source": [
    "properati"
   ],
   "metadata": {
    "collapsed": false
   }
  },
  {
   "cell_type": "markdown",
   "source": [
    "## 1.Procesamiento del Lenguaje Natural\n",
    "### 1.a Ampliación del dataset"
   ],
   "metadata": {
    "collapsed": false
   }
  },
  {
   "cell_type": "code",
   "execution_count": 3,
   "outputs": [
    {
     "data": {
      "text/plain": "                             id  \\\n0      1gMQ4rXcpnPs+hhvW11Jdw==   \n1      p7gmyqzdOy/+odHwH5oPyg==   \n2      ZYkS+4dCz1vUENzAREcX9w==   \n3      UL/s8zoicLDXXwhaelBgFQ==   \n4      wnz+hkCE7RVBNcqDQEtFSw==   \n...                         ...   \n74248  CIrzzz0KQkUDDmjnFINLwA==   \n74249  i5lDg1C7ZEZyETXxCbolhw==   \n74250  b97ekVIR18ZDn3ZsDXWrVQ==   \n74251  7oLMN+ZSoOP2N9Uu7Pz68A==   \n74252  Wp8gte38mWUKv35WKMVs2g==   \n\n                                    property_description  \n0      ESPECTACULAR 4 AMBIENTES, DORMITORIO SUITE, BA...  \n1      Excelente departamento, piso alto con una herm...  \n2      Corredor Responsable: Gustavo Guastello - C.U....  \n3      Corredor Responsable: GRACIELA MENAZZI CMCPDJL...  \n4      Muy lindo y funcional departamento de un ambie...  \n...                                                  ...  \n74248  MONOAMBIENTE DIVIDIDO. FRENTE. 29 M2. IMPECABL...  \n74249  Departamento. Edificio OM Palermo. Living/Come...  \n74250  Tres ambientes en Balvanera reciclado a nuevo!...  \n74251  Corredor Responsable: Micaela Perez / Lucas Fe...  \n74252  Monoambiente en 8vo piso al contrafrente, todo...  \n\n[74253 rows x 2 columns]",
      "text/html": "<div>\n<style scoped>\n    .dataframe tbody tr th:only-of-type {\n        vertical-align: middle;\n    }\n\n    .dataframe tbody tr th {\n        vertical-align: top;\n    }\n\n    .dataframe thead th {\n        text-align: right;\n    }\n</style>\n<table border=\"1\" class=\"dataframe\">\n  <thead>\n    <tr style=\"text-align: right;\">\n      <th></th>\n      <th>id</th>\n      <th>property_description</th>\n    </tr>\n  </thead>\n  <tbody>\n    <tr>\n      <th>0</th>\n      <td>1gMQ4rXcpnPs+hhvW11Jdw==</td>\n      <td>ESPECTACULAR 4 AMBIENTES, DORMITORIO SUITE, BA...</td>\n    </tr>\n    <tr>\n      <th>1</th>\n      <td>p7gmyqzdOy/+odHwH5oPyg==</td>\n      <td>Excelente departamento, piso alto con una herm...</td>\n    </tr>\n    <tr>\n      <th>2</th>\n      <td>ZYkS+4dCz1vUENzAREcX9w==</td>\n      <td>Corredor Responsable: Gustavo Guastello - C.U....</td>\n    </tr>\n    <tr>\n      <th>3</th>\n      <td>UL/s8zoicLDXXwhaelBgFQ==</td>\n      <td>Corredor Responsable: GRACIELA MENAZZI CMCPDJL...</td>\n    </tr>\n    <tr>\n      <th>4</th>\n      <td>wnz+hkCE7RVBNcqDQEtFSw==</td>\n      <td>Muy lindo y funcional departamento de un ambie...</td>\n    </tr>\n    <tr>\n      <th>...</th>\n      <td>...</td>\n      <td>...</td>\n    </tr>\n    <tr>\n      <th>74248</th>\n      <td>CIrzzz0KQkUDDmjnFINLwA==</td>\n      <td>MONOAMBIENTE DIVIDIDO. FRENTE. 29 M2. IMPECABL...</td>\n    </tr>\n    <tr>\n      <th>74249</th>\n      <td>i5lDg1C7ZEZyETXxCbolhw==</td>\n      <td>Departamento. Edificio OM Palermo. Living/Come...</td>\n    </tr>\n    <tr>\n      <th>74250</th>\n      <td>b97ekVIR18ZDn3ZsDXWrVQ==</td>\n      <td>Tres ambientes en Balvanera reciclado a nuevo!...</td>\n    </tr>\n    <tr>\n      <th>74251</th>\n      <td>7oLMN+ZSoOP2N9Uu7Pz68A==</td>\n      <td>Corredor Responsable: Micaela Perez / Lucas Fe...</td>\n    </tr>\n    <tr>\n      <th>74252</th>\n      <td>Wp8gte38mWUKv35WKMVs2g==</td>\n      <td>Monoambiente en 8vo piso al contrafrente, todo...</td>\n    </tr>\n  </tbody>\n</table>\n<p>74253 rows × 2 columns</p>\n</div>"
     },
     "execution_count": 3,
     "metadata": {},
     "output_type": "execute_result"
    }
   ],
   "source": [
    "# df_decrip = properati_decrip.head(10000).copy()\n",
    "df_decrip = pd.merge(properati, properati_decrip, on=\"id\")\n",
    "df_decrip = df_decrip[[\"id\", \"property_description\"]]\n",
    "df_decrip['property_description'].isna().sum()\n",
    "df_decrip"
   ],
   "metadata": {
    "collapsed": false
   }
  },
  {
   "cell_type": "code",
   "execution_count": 4,
   "outputs": [],
   "source": [
    "df_decrip.dropna(inplace=True)"
   ],
   "metadata": {
    "collapsed": false
   }
  },
  {
   "cell_type": "code",
   "execution_count": 5,
   "outputs": [
    {
     "data": {
      "text/plain": "[('de', 858011),\n ('y', 507798),\n ('con', 401876),\n ('la', 290201),\n ('en', 278181),\n ('a', 243761),\n ('el', 169956),\n ('del', 153280),\n ('que', 140058),\n ('por', 133636),\n ('al', 125215),\n ('-', 113886),\n ('un', 103720),\n ('las', 90713),\n ('los', 88438),\n ('para', 88196),\n ('se', 63111),\n ('DE', 56458),\n ('son', 56422),\n ('2', 52793),\n ('es', 50385),\n ('una', 48933),\n ('3', 41260),\n ('cocina', 38889),\n ('ambientes', 38850),\n ('valor', 38421),\n ('esta', 38294),\n ('muy', 36893),\n ('x', 36800),\n ('Av.', 36631),\n ('comedor', 35535),\n ('baño', 35477),\n ('Y', 34142),\n ('CON', 33915),\n ('no', 33913),\n ('piso', 33349),\n ('o', 33053),\n ('/', 32255),\n ('tu', 32102),\n ('A', 32063),\n ('hasta', 30270),\n ('balcón', 29805),\n ('inmueble', 28725),\n ('casa', 28656),\n ('No', 28636),\n ('propiedad.', 28071),\n ('30%', 27685),\n ('departamento', 27671),\n ('EN', 27267),\n ('cuadras', 27071),\n ('Corredor', 26992),\n ('préstamo', 26921),\n ('cuota', 26781),\n ('medidas', 26423),\n ('Responsable:', 25971),\n ('living', 25952),\n ('4', 25851),\n ('Lendar', 25572),\n ('querés!', 25422),\n ('podés.', 25363),\n ('Accedé', 25355),\n ('Simulá', 25350),\n ('#', 25249),\n ('ID', 25232),\n ('MLS', 25228),\n ('CUCICBA', 24648),\n ('El', 24542),\n ('edificio', 24306),\n ('dos', 24304),\n ('cuenta', 24243),\n ('personas', 23936),\n ('completo', 23797),\n ('propiedad', 23312),\n ('salida', 23058),\n ('parte', 22278),\n (',', 22138),\n ('pisos', 21621),\n ('encuentra', 21617),\n ('frente', 21612),\n ('Las', 21073),\n ('1', 20966),\n ('amplio', 20885),\n ('Comprá', 20794),\n ('\\\\n\\\\n', 20733),\n ('vista', 19912),\n ('presente', 19511),\n ('dormitorio', 19499),\n ('Ley', 19317),\n ('gran', 19097),\n ('La', 18860),\n ('placard', 18484),\n ('espacio', 18475),\n ('metros', 18400),\n ('m2', 17976),\n ('Los', 17521),\n ('<br>', 17369),\n ('accesible', 17076),\n ('su', 16597),\n ('dormitorios', 16161),\n ('sobre', 16145)]"
     },
     "execution_count": 5,
     "metadata": {},
     "output_type": "execute_result"
    }
   ],
   "source": [
    "from collections import Counter\n",
    "Counter(\" \".join(df_decrip[\"property_description\"]).split()).most_common(100)\n"
   ],
   "metadata": {
    "collapsed": false
   }
  },
  {
   "cell_type": "code",
   "execution_count": 6,
   "outputs": [
    {
     "data": {
      "text/plain": "0        ESPECTACULAR 4 AMBIENTES, DORMITORIO SUITE, BA...\n1        Excelente departamento, piso alto con una herm...\n2        Corredor Responsable: Gustavo Guastello - C.U....\n3        Corredor Responsable: GRACIELA MENAZZI CMCPDJL...\n4        Muy lindo y funcional departamento de un ambie...\n                               ...                        \n74248    MONOAMBIENTE DIVIDIDO. FRENTE. 29 M2. IMPECABL...\n74249    Departamento. Edificio OM Palermo. Living/Come...\n74250    Tres ambientes en Balvanera reciclado a nuevo!...\n74251    Corredor Responsable: Micaela Perez / Lucas Fe...\n74252    Monoambiente en 8vo piso al contrafrente, todo...\nName: property_description, Length: 74253, dtype: object"
     },
     "execution_count": 6,
     "metadata": {},
     "output_type": "execute_result"
    }
   ],
   "source": [
    "df_decrip[\"property_description\"]"
   ],
   "metadata": {
    "collapsed": false
   }
  },
  {
   "cell_type": "code",
   "execution_count": 7,
   "outputs": [],
   "source": [
    "df_decrip[\"property_description\"] = df_decrip[\"property_description\"].apply(lambda line: line.replace(\"<br>\", \" \")) # remover etiqueta de html\n",
    "df_decrip[\"property_description\"] = df_decrip[\"property_description\"].apply(lambda line: line.lower()) # Todo a minúsculas\n",
    "import unidecode\n",
    "df_decrip[\"property_description\"] = df_decrip[\"property_description\"].apply(lambda line: unidecode.unidecode(line)) # Sin tildes por posibles errores de gramática"
   ],
   "metadata": {
    "collapsed": false
   }
  },
  {
   "cell_type": "code",
   "execution_count": 8,
   "outputs": [],
   "source": [
    "import re\n",
    "# df_decrip[\"property_description\"] = df_decrip[\"property_description\"].apply(lambda line: re.sub(\"[^\\\\w-]+\", \" \", line)) #Remueve simbolos menos el -\n",
    "df_decrip[\"property_description\"] = df_decrip[\"property_description\"].apply(lambda line: re.sub(r'[^\\w]', ' ', line)) # remover símbolos"
   ],
   "metadata": {
    "collapsed": false
   }
  },
  {
   "cell_type": "code",
   "execution_count": 9,
   "outputs": [],
   "source": [
    "df_decrip[\"property_description\"] = df_decrip[\"property_description\"].apply(lambda line: re.sub(\"\\s\\s+\" , \" \", line)) # remover multiples espacios para facilitar lectura"
   ],
   "metadata": {
    "collapsed": false
   }
  },
  {
   "cell_type": "code",
   "execution_count": 10,
   "outputs": [],
   "source": [
    "# export = df_decrip[\"property_description\"].head()\n",
    "# np.savetxt('export.txt', export.values, fmt='%s')"
   ],
   "metadata": {
    "collapsed": false
   }
  },
  {
   "cell_type": "code",
   "execution_count": 11,
   "outputs": [
    {
     "data": {
      "text/plain": "0    espectacular 4 ambientes dormitorio suite balc...\n1    excelente departamento piso alto hermosa vista...\n2    corredor responsable gustavo guastello c u c i...\n3    corredor responsable graciela menazzi cmcpdjlm...\n4    lindo funcional departamento ambiente distribu...\n5    corredor responsable mario gabriel gerez cmpcs...\n6    corredor responsable ariel champanier andrea b...\n7    hermoso 2 amb edificio black complejo musa sta...\n8    corredor responsable daniel acosta cucicba 240...\n9    excelente 3 ambientes torre aisenson almagro e...\nName: property_description, dtype: object"
     },
     "execution_count": 11,
     "metadata": {},
     "output_type": "execute_result"
    }
   ],
   "source": [
    "df_nostopwords = df_decrip.copy()\n",
    "\n",
    "with open('stopwords') as f:\n",
    "    lines = f.read().splitlines()\n",
    "\n",
    "f = lambda x: ' '.join([item for item in x.split() if item not in lines]) #remueve stopwords\n",
    "df_nostopwords[\"property_description\"] = df_nostopwords[\"property_description\"].apply(f)\n",
    "\n",
    "df_nostopwords[\"property_description\"].head(10)\n"
   ],
   "metadata": {
    "collapsed": false
   }
  },
  {
   "cell_type": "code",
   "execution_count": 12,
   "outputs": [
    {
     "data": {
      "text/plain": "[('cocina', 89461),\n ('2', 88206),\n ('bano', 74431),\n ('3', 74276),\n ('ambientes', 71519),\n ('balcon', 71288),\n ('comedor', 68491),\n ('piso', 67831),\n ('living', 63838),\n ('propiedad', 62563),\n ('departamento', 54477),\n ('edificio', 53423),\n ('av', 50589),\n ('1', 50145),\n ('dormitorio', 48863),\n ('completo', 48392),\n ('pisos', 46213),\n ('4', 46048),\n ('frente', 44714),\n ('expensas', 44287),\n ('n', 44025),\n ('excelente', 41316),\n ('corredor', 41146),\n ('medidas', 41048),\n ('x', 40904),\n ('inmueble', 40569),\n ('responsable', 37724),\n ('amplio', 36356),\n ('m2', 34044),\n ('30', 34028),\n ('placard', 33950),\n ('casa', 32678),\n ('dormitorios', 32258),\n ('lavadero', 31877),\n ('c', 31791),\n ('cuadras', 31167),\n ('luminoso', 30549),\n ('cucicba', 30414),\n ('accede', 29383),\n ('terraza', 29330),\n ('ley', 27849),\n ('aire', 27700),\n ('lendar', 27450),\n ('queres', 27417),\n ('prestamo', 27367),\n ('vista', 26980),\n ('venta', 26867),\n ('cuota', 26857),\n ('podes', 26581),\n ('salida', 26111),\n ('ubicacion', 25548),\n ('simula', 25537),\n ('id', 25236),\n ('cochera', 25233),\n ('mls', 25231),\n ('personas', 24976),\n ('espacio', 24794),\n ('5', 24267),\n ('planta', 23609),\n ('zona', 23397),\n ('compra', 23247),\n ('metros', 23075),\n ('independiente', 23073),\n ('inmobiliario', 22866),\n ('patio', 22296),\n ('servicio', 22214),\n ('principal', 21845),\n ('barrio', 21306),\n ('ubicado', 21088),\n ('linea', 20910),\n ('parrilla', 20747),\n ('mesada', 20703),\n ('suite', 20635),\n ('toilette', 20555),\n ('acceso', 20485),\n ('presente', 19926),\n ('servicios', 19773),\n ('accesible', 19275),\n ('subte', 18716),\n ('unidades', 18413),\n ('agua', 18371),\n ('mas', 18246),\n ('acondicionado', 18043),\n ('hall', 17971),\n ('b', 17718),\n ('operacion', 17568),\n ('aviso', 17401),\n ('unidad', 16996),\n ('24', 16901),\n ('comercial', 16527),\n ('madera', 16500),\n ('doble', 16416),\n ('propietario', 16374),\n ('calefaccion', 16298),\n ('calidad', 16140),\n ('entrada', 15983),\n ('discapacidades', 15931),\n ('informacion', 15902),\n ('estacion', 15816),\n ('operaciones', 15668)]"
     },
     "execution_count": 12,
     "metadata": {},
     "output_type": "execute_result"
    }
   ],
   "source": [
    "from collections import Counter\n",
    "Counter(\" \".join(df_nostopwords[\"property_description\"]).split()).most_common(100)"
   ],
   "metadata": {
    "collapsed": false
   }
  },
  {
   "cell_type": "markdown",
   "source": [
    "Seleccionamos los aspectos que nos parecen relevantes, para luego buscar sus posibles valores.\n",
    "Los aspectos elegidos son: Cocina, pisos, calefaccion, expensas, lavadero, balcon,  cochera y aire."
   ],
   "metadata": {
    "collapsed": false
   }
  },
  {
   "cell_type": "code",
   "execution_count": 13,
   "outputs": [],
   "source": [
    "from types import NoneType\n",
    "aspectos = ['cocina', 'pisos', 'calefaccion', 'expensas', 'lavadero', 'balcon', 'cochera', 'aire']\n",
    "\n",
    "def f(line, word):\n",
    "    format = r\"\\W*([\\w]+)\"\n",
    "    n = 2\n",
    "    x = re.search(r'{}\\W*{}{}'.format(format*n, word, format*n), line)\n",
    "    if not isinstance(x, NoneType):\n",
    "        return x.group()\n",
    "    else:\n",
    "        return \"\"\n",
    "\n",
    "for word in aspectos:\n",
    "    df_nostopwords[word] = df_nostopwords[\"property_description\"].apply(lambda line: f(line, word))"
   ],
   "metadata": {
    "collapsed": false
   }
  },
  {
   "cell_type": "code",
   "execution_count": 14,
   "outputs": [],
   "source": [
    "cant_val_aspectos = 15"
   ],
   "metadata": {
    "collapsed": false
   }
  },
  {
   "cell_type": "code",
   "execution_count": 15,
   "outputs": [
    {
     "data": {
      "text/plain": "[('cocina', 62811),\n ('comedor', 19199),\n ('integrada', 11530),\n ('living', 9979),\n ('bano', 8949),\n ('lavadero', 6978),\n ('balcon', 6225),\n ('independiente', 6077),\n ('completo', 5385),\n ('diario', 4993),\n ('muebles', 4829),\n ('separada', 4746),\n ('amplia', 4518),\n ('toilette', 3963),\n ('completa', 3692)]"
     },
     "execution_count": 15,
     "metadata": {},
     "output_type": "execute_result"
    }
   ],
   "source": [
    "Counter(\" \".join(df_nostopwords[\"cocina\"]).split()).most_common(cant_val_aspectos)"
   ],
   "metadata": {
    "collapsed": false
   }
  },
  {
   "cell_type": "markdown",
   "source": [
    "Para Cocina, posibles valores son: integrada, separada, independiente, completa"
   ],
   "metadata": {
    "collapsed": false
   }
  },
  {
   "cell_type": "code",
   "execution_count": 16,
   "outputs": [
    {
     "data": {
      "text/plain": "[('pisos', 31830),\n ('parquet', 6394),\n ('madera', 4427),\n ('porcelanato', 4025),\n ('living', 3671),\n ('edificio', 3624),\n ('comedor', 3155),\n ('unidades', 1821),\n ('cocina', 1754),\n ('departamentos', 1662),\n ('bano', 1576),\n ('2', 1411),\n ('4', 1314),\n ('3', 1241),\n ('ambientes', 1201)]"
     },
     "execution_count": 16,
     "metadata": {},
     "output_type": "execute_result"
    }
   ],
   "source": [
    "Counter(\" \".join(df_nostopwords[\"pisos\"]).split()).most_common(cant_val_aspectos)"
   ],
   "metadata": {
    "collapsed": false
   }
  },
  {
   "cell_type": "markdown",
   "source": [
    "Para pisos, posibles valores son: porcelanato, parquet, madera, ceramicos"
   ],
   "metadata": {
    "collapsed": false
   }
  },
  {
   "cell_type": "code",
   "execution_count": 17,
   "outputs": [
    {
     "data": {
      "text/plain": "[('calefaccion', 15450),\n ('radiante', 4448),\n ('losa', 3916),\n ('central', 3444),\n ('caliente', 2653),\n ('agua', 2257),\n ('radiadores', 2052),\n ('individual', 1921),\n ('aire', 1777),\n ('piso', 1527),\n ('caldera', 1246),\n ('tiro', 1197),\n ('acondicionado', 1097),\n ('servicios', 1056),\n ('ambientes', 798)]"
     },
     "execution_count": 17,
     "metadata": {},
     "output_type": "execute_result"
    }
   ],
   "source": [
    "Counter(\" \".join(df_nostopwords[\"calefaccion\"]).split()).most_common(cant_val_aspectos)"
   ],
   "metadata": {
    "collapsed": false
   }
  },
  {
   "cell_type": "markdown",
   "source": [
    "Para calefaccion, posibles valores son: radiadores, radiante, central, individual"
   ],
   "metadata": {
    "collapsed": false
   }
  },
  {
   "cell_type": "code",
   "execution_count": 18,
   "outputs": [
    {
     "data": {
      "text/plain": "[('expensas', 35165),\n ('servicios', 6846),\n ('impuestos', 5906),\n ('valores', 5559),\n ('bajas', 4879),\n ('funcionales', 4365),\n ('000', 3296),\n ('abl', 2445),\n ('medidas', 1959),\n ('aysa', 1606),\n ('sujetos', 1542),\n ('propiedad', 1276),\n ('superficies', 1260),\n ('indicados', 1242),\n ('consignadas', 1189)]"
     },
     "execution_count": 18,
     "metadata": {},
     "output_type": "execute_result"
    }
   ],
   "source": [
    "Counter(\" \".join(df_nostopwords[\"expensas\"]).split()).most_common(cant_val_aspectos)"
   ],
   "metadata": {
    "collapsed": false
   }
  },
  {
   "cell_type": "markdown",
   "source": [
    "Para expensas, posibles valores son: bajas, incluye"
   ],
   "metadata": {
    "collapsed": false
   }
  },
  {
   "cell_type": "code",
   "execution_count": 19,
   "outputs": [
    {
     "data": {
      "text/plain": "[('lavadero', 28549),\n ('independiente', 7972),\n ('cocina', 7923),\n ('comedor', 4376),\n ('bano', 4342),\n ('diario', 3175),\n ('servicio', 2922),\n ('dependencia', 2920),\n ('incorporado', 2506),\n ('completo', 2102),\n ('patio', 1882),\n ('separado', 1807),\n ('balcon', 1738),\n ('espacio', 1736),\n ('toilette', 1385)]"
     },
     "execution_count": 19,
     "metadata": {},
     "output_type": "execute_result"
    }
   ],
   "source": [
    "Counter(\" \".join(df_nostopwords[\"lavadero\"]).split()).most_common(cant_val_aspectos)"
   ],
   "metadata": {
    "collapsed": false
   }
  },
  {
   "cell_type": "markdown",
   "source": [
    "Para lavadero, posibles valores son: independiente, separado"
   ],
   "metadata": {
    "collapsed": false
   }
  },
  {
   "cell_type": "code",
   "execution_count": 20,
   "outputs": [
    {
     "data": {
      "text/plain": "[('balcon', 42917),\n ('salida', 9996),\n ('frente', 9711),\n ('comedor', 8052),\n ('ambientes', 6387),\n ('corrido', 6126),\n ('cocina', 4569),\n ('living', 4207),\n ('vista', 4051),\n ('amplio', 3716),\n ('terraza', 3682),\n ('aterrazado', 3172),\n ('2', 3151),\n ('luminoso', 2855),\n ('3', 2684)]"
     },
     "execution_count": 20,
     "metadata": {},
     "output_type": "execute_result"
    }
   ],
   "source": [
    "Counter(\" \".join(df_nostopwords[\"balcon\"]).split()).most_common(cant_val_aspectos)"
   ],
   "metadata": {
    "collapsed": false
   }
  },
  {
   "cell_type": "markdown",
   "source": [
    "Para balcon, posibles valores son: frente, amplio, terraza, salida, corrido"
   ],
   "metadata": {
    "collapsed": false
   }
  },
  {
   "cell_type": "code",
   "execution_count": 21,
   "outputs": [
    {
     "data": {
      "text/plain": "[('cochera', 17208),\n ('cocheras', 7359),\n ('fija', 4756),\n ('cubierta', 4118),\n ('ambientes', 3484),\n ('baulera', 2863),\n ('2', 2467),\n ('edificio', 2119),\n ('balcon', 1521),\n ('3', 1399),\n ('opcional', 1307),\n ('1', 1132),\n ('fijas', 1080),\n ('terraza', 1007),\n ('dependencia', 979),\n ('posibilidad', 958),\n ('piso', 826),\n ('frente', 780),\n ('bano', 760),\n ('departamento', 759),\n ('disponibles', 759),\n ('4', 753),\n ('servicio', 729),\n ('planta', 701),\n ('parrilla', 699),\n ('espacio', 615),\n ('subsuelo', 598),\n ('amenities', 586),\n ('completo', 553),\n ('patio', 525)]"
     },
     "execution_count": 21,
     "metadata": {},
     "output_type": "execute_result"
    }
   ],
   "source": [
    "Counter(\" \".join(df_nostopwords[\"cochera\"]).split()).most_common(cant_val_aspectos*2)"
   ],
   "metadata": {
    "collapsed": false
   }
  },
  {
   "cell_type": "markdown",
   "source": [
    "Para cochera, posibles valores son: cubierta, descubierta, opcional"
   ],
   "metadata": {
    "collapsed": false
   }
  },
  {
   "cell_type": "code",
   "execution_count": 22,
   "outputs": [
    {
     "data": {
      "text/plain": "[('aire', 20578),\n ('acondicionado', 14337),\n ('frio', 5985),\n ('aires', 5809),\n ('split', 2204),\n ('ciudad', 2020),\n ('acondicionados', 1961),\n ('luz', 1851),\n ('equipos', 1585),\n ('calefaccion', 1493),\n ('instalacion', 1413),\n ('ambientes', 1411),\n ('living', 1138),\n ('central', 1062),\n ('balcon', 1002)]"
     },
     "execution_count": 22,
     "metadata": {},
     "output_type": "execute_result"
    }
   ],
   "source": [
    "Counter(\" \".join(df_nostopwords[\"aire\"]).split()).most_common(cant_val_aspectos)"
   ],
   "metadata": {
    "collapsed": false
   }
  },
  {
   "cell_type": "markdown",
   "source": [
    "Para aire, posibles valores son: split, central, acondicionado"
   ],
   "metadata": {
    "collapsed": false
   }
  },
  {
   "cell_type": "markdown",
   "source": [
    "Teniendo en cuenta los posibles valores para los aspectos considerados, decidimos descartar lavadero.\n",
    "De esta forma, nuestros aspectos serán: Cocina, pisos, calefaccion, expensas, balcon,  cochera y aire."
   ],
   "metadata": {
    "collapsed": false
   }
  },
  {
   "cell_type": "code",
   "execution_count": 23,
   "outputs": [],
   "source": [
    "aspectos = ['cocina', 'pisos', 'calefaccion', 'expensas', 'balcon', 'cochera', 'aire']"
   ],
   "metadata": {
    "collapsed": false
   }
  },
  {
   "cell_type": "markdown",
   "source": [
    "A continuación creamos la variable values, que contiene los posibles valores para cada uno de los aspectos elegidos."
   ],
   "metadata": {
    "collapsed": false
   }
  },
  {
   "cell_type": "code",
   "execution_count": 24,
   "outputs": [],
   "source": [
    "values_cocina = ['integrada', 'separada', 'independiente', 'completa']\n",
    "values_pisos = ['porcelanato', 'madera', 'parquet', 'ceramicos']\n",
    "values_calefaccion = ['radiadores', 'radiante', 'central', 'individual']\n",
    "values_expensas = ['bajas', 'incluye']\n",
    "values_balcon = ['frente', 'amplio', 'terraza', 'salida', 'corrido']\n",
    "values_cochera = ['opcional', 'cubierta', 'descubierta']\n",
    "values_aire = ['split', 'central', 'acondicionado']\n",
    "\n",
    "values = [values_cocina, values_pisos, values_calefaccion, values_expensas, values_balcon, values_cochera, values_aire]"
   ],
   "metadata": {
    "collapsed": false
   }
  },
  {
   "cell_type": "markdown",
   "source": [
    "En primer lugar creo un dataframe auxiliar que tenga los IDs y las columnas de aspectos"
   ],
   "metadata": {
    "collapsed": false
   }
  },
  {
   "cell_type": "code",
   "execution_count": 25,
   "outputs": [],
   "source": [
    "aux_df = df_nostopwords.copy()\n",
    "aux_df.drop('property_description', inplace=True, axis=1)"
   ],
   "metadata": {
    "collapsed": false
   }
  },
  {
   "cell_type": "markdown",
   "source": [
    "Luego creamos una función a la que; pasandole un dataframe, los aspectos y el listado de valores posibles, reemplace el contenido de las columnas por los valores correspondientes"
   ],
   "metadata": {
    "collapsed": false
   }
  },
  {
   "cell_type": "code",
   "execution_count": 26,
   "outputs": [],
   "source": [
    "def limpiar_values_de_aspects(df, aspects, values):\n",
    "    i = 0\n",
    "    for aspect in aspects:\n",
    "        for word in values[i]:\n",
    "            df[aspect] = df[aspect].apply(lambda line: word if word in line else line)\n",
    "        df[aspect] = df[aspect].apply(lambda line: line if len(line.split())<2 else '')\n",
    "        i = i+1"
   ],
   "metadata": {
    "collapsed": false
   }
  },
  {
   "cell_type": "markdown",
   "source": [
    "Ahora modificamos las columnas de los aspectos, para que solo queden los valores."
   ],
   "metadata": {
    "collapsed": false
   }
  },
  {
   "cell_type": "code",
   "execution_count": 27,
   "outputs": [
    {
     "data": {
      "text/plain": "                          id         cocina    pisos calefaccion expensas  \\\n0   1gMQ4rXcpnPs+hhvW11Jdw==                                                \n1   p7gmyqzdOy/+odHwH5oPyg==                                                \n2   ZYkS+4dCz1vUENzAREcX9w==                                                \n3   UL/s8zoicLDXXwhaelBgFQ==       separada                                 \n4   wnz+hkCE7RVBNcqDQEtFSw==                                                \n5   +QvrIZqpMPRxlz+ilj1LkA==      integrada                                 \n6   MGM2azMohIovCwT8jcExeQ==                                                \n7   uLDfFrhFSDasD1UObhqHmg==  independiente                                 \n8   6iHL1ay2QcrLeLh+K33ziw==                                        bajas   \n9   8J08zxRGfHVQ3dzTyopnWQ==  independiente             radiante            \n10  hv+iqnYbUuKS7MQkVCzkRA==  independiente                                 \n11  Lu1rSiGGMQCOTDcBWNcYfA==                                                \n12  LMqmEl4LAY5TKFXzvGlirg==       separada   madera    radiante            \n13  4ulusHTiqgbv2tElh+CCTA==       separada  parquet  individual            \n14  52xVuDOa1lH99pJZCqpl1g==       completa             radiante            \n15  DUAJw7dW3XPO8hlwhgdx/w==  independiente                                 \n16  bwIe0cOAUilZr/srSdv60A==      integrada                                 \n17  IuTGzi0HYmRM0dNlN7RvBw==      integrada                                 \n18  WWLInAn221iNKVmqmMktyg==                 parquet                        \n19  hPJUQzLWvtqqIts7bW3uuw==                                                \n\n     balcon   cochera           aire  \n0   terraza  opcional                 \n1    amplio                           \n2                                     \n3                      acondicionado  \n4                                     \n5                                     \n6                                     \n7    frente            acondicionado  \n8                                     \n9    salida                           \n10   frente            acondicionado  \n11                                    \n12           cubierta  acondicionado  \n13   frente            acondicionado  \n14   salida                           \n15  terraza                           \n16                     acondicionado  \n17   frente                           \n18   frente                           \n19   frente                           ",
      "text/html": "<div>\n<style scoped>\n    .dataframe tbody tr th:only-of-type {\n        vertical-align: middle;\n    }\n\n    .dataframe tbody tr th {\n        vertical-align: top;\n    }\n\n    .dataframe thead th {\n        text-align: right;\n    }\n</style>\n<table border=\"1\" class=\"dataframe\">\n  <thead>\n    <tr style=\"text-align: right;\">\n      <th></th>\n      <th>id</th>\n      <th>cocina</th>\n      <th>pisos</th>\n      <th>calefaccion</th>\n      <th>expensas</th>\n      <th>balcon</th>\n      <th>cochera</th>\n      <th>aire</th>\n    </tr>\n  </thead>\n  <tbody>\n    <tr>\n      <th>0</th>\n      <td>1gMQ4rXcpnPs+hhvW11Jdw==</td>\n      <td></td>\n      <td></td>\n      <td></td>\n      <td></td>\n      <td>terraza</td>\n      <td>opcional</td>\n      <td></td>\n    </tr>\n    <tr>\n      <th>1</th>\n      <td>p7gmyqzdOy/+odHwH5oPyg==</td>\n      <td></td>\n      <td></td>\n      <td></td>\n      <td></td>\n      <td>amplio</td>\n      <td></td>\n      <td></td>\n    </tr>\n    <tr>\n      <th>2</th>\n      <td>ZYkS+4dCz1vUENzAREcX9w==</td>\n      <td></td>\n      <td></td>\n      <td></td>\n      <td></td>\n      <td></td>\n      <td></td>\n      <td></td>\n    </tr>\n    <tr>\n      <th>3</th>\n      <td>UL/s8zoicLDXXwhaelBgFQ==</td>\n      <td>separada</td>\n      <td></td>\n      <td></td>\n      <td></td>\n      <td></td>\n      <td></td>\n      <td>acondicionado</td>\n    </tr>\n    <tr>\n      <th>4</th>\n      <td>wnz+hkCE7RVBNcqDQEtFSw==</td>\n      <td></td>\n      <td></td>\n      <td></td>\n      <td></td>\n      <td></td>\n      <td></td>\n      <td></td>\n    </tr>\n    <tr>\n      <th>5</th>\n      <td>+QvrIZqpMPRxlz+ilj1LkA==</td>\n      <td>integrada</td>\n      <td></td>\n      <td></td>\n      <td></td>\n      <td></td>\n      <td></td>\n      <td></td>\n    </tr>\n    <tr>\n      <th>6</th>\n      <td>MGM2azMohIovCwT8jcExeQ==</td>\n      <td></td>\n      <td></td>\n      <td></td>\n      <td></td>\n      <td></td>\n      <td></td>\n      <td></td>\n    </tr>\n    <tr>\n      <th>7</th>\n      <td>uLDfFrhFSDasD1UObhqHmg==</td>\n      <td>independiente</td>\n      <td></td>\n      <td></td>\n      <td></td>\n      <td>frente</td>\n      <td></td>\n      <td>acondicionado</td>\n    </tr>\n    <tr>\n      <th>8</th>\n      <td>6iHL1ay2QcrLeLh+K33ziw==</td>\n      <td></td>\n      <td></td>\n      <td></td>\n      <td>bajas</td>\n      <td></td>\n      <td></td>\n      <td></td>\n    </tr>\n    <tr>\n      <th>9</th>\n      <td>8J08zxRGfHVQ3dzTyopnWQ==</td>\n      <td>independiente</td>\n      <td></td>\n      <td>radiante</td>\n      <td></td>\n      <td>salida</td>\n      <td></td>\n      <td></td>\n    </tr>\n    <tr>\n      <th>10</th>\n      <td>hv+iqnYbUuKS7MQkVCzkRA==</td>\n      <td>independiente</td>\n      <td></td>\n      <td></td>\n      <td></td>\n      <td>frente</td>\n      <td></td>\n      <td>acondicionado</td>\n    </tr>\n    <tr>\n      <th>11</th>\n      <td>Lu1rSiGGMQCOTDcBWNcYfA==</td>\n      <td></td>\n      <td></td>\n      <td></td>\n      <td></td>\n      <td></td>\n      <td></td>\n      <td></td>\n    </tr>\n    <tr>\n      <th>12</th>\n      <td>LMqmEl4LAY5TKFXzvGlirg==</td>\n      <td>separada</td>\n      <td>madera</td>\n      <td>radiante</td>\n      <td></td>\n      <td></td>\n      <td>cubierta</td>\n      <td>acondicionado</td>\n    </tr>\n    <tr>\n      <th>13</th>\n      <td>4ulusHTiqgbv2tElh+CCTA==</td>\n      <td>separada</td>\n      <td>parquet</td>\n      <td>individual</td>\n      <td></td>\n      <td>frente</td>\n      <td></td>\n      <td>acondicionado</td>\n    </tr>\n    <tr>\n      <th>14</th>\n      <td>52xVuDOa1lH99pJZCqpl1g==</td>\n      <td>completa</td>\n      <td></td>\n      <td>radiante</td>\n      <td></td>\n      <td>salida</td>\n      <td></td>\n      <td></td>\n    </tr>\n    <tr>\n      <th>15</th>\n      <td>DUAJw7dW3XPO8hlwhgdx/w==</td>\n      <td>independiente</td>\n      <td></td>\n      <td></td>\n      <td></td>\n      <td>terraza</td>\n      <td></td>\n      <td></td>\n    </tr>\n    <tr>\n      <th>16</th>\n      <td>bwIe0cOAUilZr/srSdv60A==</td>\n      <td>integrada</td>\n      <td></td>\n      <td></td>\n      <td></td>\n      <td></td>\n      <td></td>\n      <td>acondicionado</td>\n    </tr>\n    <tr>\n      <th>17</th>\n      <td>IuTGzi0HYmRM0dNlN7RvBw==</td>\n      <td>integrada</td>\n      <td></td>\n      <td></td>\n      <td></td>\n      <td>frente</td>\n      <td></td>\n      <td></td>\n    </tr>\n    <tr>\n      <th>18</th>\n      <td>WWLInAn221iNKVmqmMktyg==</td>\n      <td></td>\n      <td>parquet</td>\n      <td></td>\n      <td></td>\n      <td>frente</td>\n      <td></td>\n      <td></td>\n    </tr>\n    <tr>\n      <th>19</th>\n      <td>hPJUQzLWvtqqIts7bW3uuw==</td>\n      <td></td>\n      <td></td>\n      <td></td>\n      <td></td>\n      <td>frente</td>\n      <td></td>\n      <td></td>\n    </tr>\n  </tbody>\n</table>\n</div>"
     },
     "execution_count": 27,
     "metadata": {},
     "output_type": "execute_result"
    }
   ],
   "source": [
    "limpiar_values_de_aspects(aux_df, aspectos, values)\n",
    "aux_df.drop(\"lavadero\", axis=1, inplace=True)\n",
    "aux_df.head(20)"
   ],
   "metadata": {
    "collapsed": false
   }
  },
  {
   "cell_type": "markdown",
   "source": [
    "Por último hacemos el merge con el dataframe original, teniendo en cuenta los ID"
   ],
   "metadata": {
    "collapsed": false
   }
  },
  {
   "cell_type": "code",
   "execution_count": 28,
   "outputs": [
    {
     "data": {
      "text/plain": "                             id  start_date  end_date    latitud   longitud  \\\n0      1gMQ4rXcpnPs+hhvW11Jdw==      738005    738091 -34.622385 -58.448886   \n1      p7gmyqzdOy/+odHwH5oPyg==      737817    737946 -34.618084 -58.359912   \n2      ZYkS+4dCz1vUENzAREcX9w==      738035    738035 -34.601159 -58.398106   \n3      UL/s8zoicLDXXwhaelBgFQ==      738140    738195 -34.605542 -58.390007   \n4      wnz+hkCE7RVBNcqDQEtFSw==      737868    737946 -34.593266 -58.381426   \n...                         ...         ...       ...        ...        ...   \n74248  CIrzzz0KQkUDDmjnFINLwA==      738001    738192 -34.597304 -58.432406   \n74249  i5lDg1C7ZEZyETXxCbolhw==      737812    737971 -34.581910 -58.449381   \n74250  b97ekVIR18ZDn3ZsDXWrVQ==      738096    738182 -34.604510 -58.390908   \n74251  7oLMN+ZSoOP2N9Uu7Pz68A==      737829    737856 -34.657111 -58.405545   \n74252  Wp8gte38mWUKv35WKMVs2g==      737808    738126 -34.580785 -58.431046   \n\n                place_l4 property_type  property_rooms  \\\n0              Caballito  Departamento             4.0   \n1          Puerto Madero  Departamento             2.0   \n2              Balvanera  Departamento             1.0   \n3            San Nicolás  Departamento             1.0   \n4                 Retiro  Departamento             1.0   \n...                  ...           ...             ...   \n74248       Villa Crespo  Departamento             1.0   \n74249            Palermo  Departamento             2.0   \n74250       Villa Crespo  Departamento             3.0   \n74251            Pompeya  Departamento             4.0   \n74252  Palermo Hollywood  Departamento             1.0   \n\n       property_surface_total  property_price         cocina    pisos  \\\n0                       113.0        288000.0                           \n1                        70.0        450000.0                           \n2                        33.0         77243.0                           \n3                        30.0         65000.0       separada            \n4                        40.0         79000.0                           \n...                       ...             ...            ...      ...   \n74248                    29.0         64500.0                 parquet   \n74249                    56.0        144870.0                           \n74250                    64.0        110000.0  independiente            \n74251                    81.0         73000.0                           \n74252                    36.0         89900.0                           \n\n      calefaccion expensas   balcon   cochera           aire  \n0                           terraza  opcional                 \n1                            amplio                           \n2                                                             \n3                                              acondicionado  \n4                                                             \n...           ...      ...      ...       ...            ...  \n74248                                                         \n74249                                                         \n74250                                          acondicionado  \n74251                                                         \n74252    radiante    bajas                     acondicionado  \n\n[74253 rows x 17 columns]",
      "text/html": "<div>\n<style scoped>\n    .dataframe tbody tr th:only-of-type {\n        vertical-align: middle;\n    }\n\n    .dataframe tbody tr th {\n        vertical-align: top;\n    }\n\n    .dataframe thead th {\n        text-align: right;\n    }\n</style>\n<table border=\"1\" class=\"dataframe\">\n  <thead>\n    <tr style=\"text-align: right;\">\n      <th></th>\n      <th>id</th>\n      <th>start_date</th>\n      <th>end_date</th>\n      <th>latitud</th>\n      <th>longitud</th>\n      <th>place_l4</th>\n      <th>property_type</th>\n      <th>property_rooms</th>\n      <th>property_surface_total</th>\n      <th>property_price</th>\n      <th>cocina</th>\n      <th>pisos</th>\n      <th>calefaccion</th>\n      <th>expensas</th>\n      <th>balcon</th>\n      <th>cochera</th>\n      <th>aire</th>\n    </tr>\n  </thead>\n  <tbody>\n    <tr>\n      <th>0</th>\n      <td>1gMQ4rXcpnPs+hhvW11Jdw==</td>\n      <td>738005</td>\n      <td>738091</td>\n      <td>-34.622385</td>\n      <td>-58.448886</td>\n      <td>Caballito</td>\n      <td>Departamento</td>\n      <td>4.0</td>\n      <td>113.0</td>\n      <td>288000.0</td>\n      <td></td>\n      <td></td>\n      <td></td>\n      <td></td>\n      <td>terraza</td>\n      <td>opcional</td>\n      <td></td>\n    </tr>\n    <tr>\n      <th>1</th>\n      <td>p7gmyqzdOy/+odHwH5oPyg==</td>\n      <td>737817</td>\n      <td>737946</td>\n      <td>-34.618084</td>\n      <td>-58.359912</td>\n      <td>Puerto Madero</td>\n      <td>Departamento</td>\n      <td>2.0</td>\n      <td>70.0</td>\n      <td>450000.0</td>\n      <td></td>\n      <td></td>\n      <td></td>\n      <td></td>\n      <td>amplio</td>\n      <td></td>\n      <td></td>\n    </tr>\n    <tr>\n      <th>2</th>\n      <td>ZYkS+4dCz1vUENzAREcX9w==</td>\n      <td>738035</td>\n      <td>738035</td>\n      <td>-34.601159</td>\n      <td>-58.398106</td>\n      <td>Balvanera</td>\n      <td>Departamento</td>\n      <td>1.0</td>\n      <td>33.0</td>\n      <td>77243.0</td>\n      <td></td>\n      <td></td>\n      <td></td>\n      <td></td>\n      <td></td>\n      <td></td>\n      <td></td>\n    </tr>\n    <tr>\n      <th>3</th>\n      <td>UL/s8zoicLDXXwhaelBgFQ==</td>\n      <td>738140</td>\n      <td>738195</td>\n      <td>-34.605542</td>\n      <td>-58.390007</td>\n      <td>San Nicolás</td>\n      <td>Departamento</td>\n      <td>1.0</td>\n      <td>30.0</td>\n      <td>65000.0</td>\n      <td>separada</td>\n      <td></td>\n      <td></td>\n      <td></td>\n      <td></td>\n      <td></td>\n      <td>acondicionado</td>\n    </tr>\n    <tr>\n      <th>4</th>\n      <td>wnz+hkCE7RVBNcqDQEtFSw==</td>\n      <td>737868</td>\n      <td>737946</td>\n      <td>-34.593266</td>\n      <td>-58.381426</td>\n      <td>Retiro</td>\n      <td>Departamento</td>\n      <td>1.0</td>\n      <td>40.0</td>\n      <td>79000.0</td>\n      <td></td>\n      <td></td>\n      <td></td>\n      <td></td>\n      <td></td>\n      <td></td>\n      <td></td>\n    </tr>\n    <tr>\n      <th>...</th>\n      <td>...</td>\n      <td>...</td>\n      <td>...</td>\n      <td>...</td>\n      <td>...</td>\n      <td>...</td>\n      <td>...</td>\n      <td>...</td>\n      <td>...</td>\n      <td>...</td>\n      <td>...</td>\n      <td>...</td>\n      <td>...</td>\n      <td>...</td>\n      <td>...</td>\n      <td>...</td>\n      <td>...</td>\n    </tr>\n    <tr>\n      <th>74248</th>\n      <td>CIrzzz0KQkUDDmjnFINLwA==</td>\n      <td>738001</td>\n      <td>738192</td>\n      <td>-34.597304</td>\n      <td>-58.432406</td>\n      <td>Villa Crespo</td>\n      <td>Departamento</td>\n      <td>1.0</td>\n      <td>29.0</td>\n      <td>64500.0</td>\n      <td></td>\n      <td>parquet</td>\n      <td></td>\n      <td></td>\n      <td></td>\n      <td></td>\n      <td></td>\n    </tr>\n    <tr>\n      <th>74249</th>\n      <td>i5lDg1C7ZEZyETXxCbolhw==</td>\n      <td>737812</td>\n      <td>737971</td>\n      <td>-34.581910</td>\n      <td>-58.449381</td>\n      <td>Palermo</td>\n      <td>Departamento</td>\n      <td>2.0</td>\n      <td>56.0</td>\n      <td>144870.0</td>\n      <td></td>\n      <td></td>\n      <td></td>\n      <td></td>\n      <td></td>\n      <td></td>\n      <td></td>\n    </tr>\n    <tr>\n      <th>74250</th>\n      <td>b97ekVIR18ZDn3ZsDXWrVQ==</td>\n      <td>738096</td>\n      <td>738182</td>\n      <td>-34.604510</td>\n      <td>-58.390908</td>\n      <td>Villa Crespo</td>\n      <td>Departamento</td>\n      <td>3.0</td>\n      <td>64.0</td>\n      <td>110000.0</td>\n      <td>independiente</td>\n      <td></td>\n      <td></td>\n      <td></td>\n      <td></td>\n      <td></td>\n      <td>acondicionado</td>\n    </tr>\n    <tr>\n      <th>74251</th>\n      <td>7oLMN+ZSoOP2N9Uu7Pz68A==</td>\n      <td>737829</td>\n      <td>737856</td>\n      <td>-34.657111</td>\n      <td>-58.405545</td>\n      <td>Pompeya</td>\n      <td>Departamento</td>\n      <td>4.0</td>\n      <td>81.0</td>\n      <td>73000.0</td>\n      <td></td>\n      <td></td>\n      <td></td>\n      <td></td>\n      <td></td>\n      <td></td>\n      <td></td>\n    </tr>\n    <tr>\n      <th>74252</th>\n      <td>Wp8gte38mWUKv35WKMVs2g==</td>\n      <td>737808</td>\n      <td>738126</td>\n      <td>-34.580785</td>\n      <td>-58.431046</td>\n      <td>Palermo Hollywood</td>\n      <td>Departamento</td>\n      <td>1.0</td>\n      <td>36.0</td>\n      <td>89900.0</td>\n      <td></td>\n      <td></td>\n      <td>radiante</td>\n      <td>bajas</td>\n      <td></td>\n      <td></td>\n      <td>acondicionado</td>\n    </tr>\n  </tbody>\n</table>\n<p>74253 rows × 17 columns</p>\n</div>"
     },
     "execution_count": 28,
     "metadata": {},
     "output_type": "execute_result"
    }
   ],
   "source": [
    "df = properati.copy()\n",
    "df = pd.merge(df,aux_df, on=\"id\")\n",
    "df"
   ],
   "metadata": {
    "collapsed": false
   }
  },
  {
   "cell_type": "markdown",
   "source": [
    "### 1.b Modelos"
   ],
   "metadata": {
    "collapsed": false
   }
  },
  {
   "cell_type": "markdown",
   "source": [
    "Primero entrenamos un modelo sin las nuevas columnas como en el TP1"
   ],
   "metadata": {
    "collapsed": false
   }
  },
  {
   "cell_type": "code",
   "execution_count": 55,
   "outputs": [
    {
     "data": {
      "text/plain": "25158     82000.0\n23761    128000.0\n442      189000.0\n67780    148000.0\n58586    149000.0\n           ...   \n45547    155000.0\n2931     169000.0\n49368     89000.0\n37511    345000.0\n62855    140000.0\nName: property_price, Length: 59402, dtype: float64"
     },
     "execution_count": 55,
     "metadata": {},
     "output_type": "execute_result"
    }
   ],
   "source": [
    "df_TP1= pd.get_dummies(properati, columns=['place_l4', 'property_type'], drop_first=True)\n",
    "train = df_TP1.sample(frac=0.8, random_state=200)\n",
    "y_train = train[\"property_price\"]\n",
    "train.drop([\"property_price\", \"id\"], inplace=True, axis=1)\n",
    "test = df_TP1.drop(train.index)\n",
    "y_test = test[\"property_price\"]\n",
    "test.drop([\"property_price\", \"id\"], inplace=True, axis=1)"
   ],
   "metadata": {
    "collapsed": false
   }
  },
  {
   "cell_type": "code",
   "execution_count": 57,
   "outputs": [
    {
     "data": {
      "text/plain": "0.8541233081740065"
     },
     "execution_count": 56,
     "metadata": {},
     "output_type": "execute_result"
    },
    {
     "data": {
      "text/plain": "0.8541233081740065"
     },
     "execution_count": 57,
     "metadata": {},
     "output_type": "execute_result"
    }
   ],
   "source": [
    "param_grid = {'min_child_weight': 5, 'max_depth': 4, 'learning_rate': 0.15, 'gamma': 0.4, 'colsample_bytree': 0.5}\n",
    "xgb_regressor = XGBRegressor(**param_grid).fit(train, y_train)\n",
    "predictions = xgb_regressor.predict(test)\n",
    "xgb_regressor.score(test, y_test)"
   ],
   "metadata": {
    "collapsed": false
   }
  },
  {
   "cell_type": "markdown",
   "source": [
    "Ahora entrenamos un modelo con las nuevas columnas.\n",
    "\n",
    "Realizamos one hot encoding para las variables cualitativas:"
   ],
   "metadata": {
    "collapsed": false
   }
  },
  {
   "cell_type": "code",
   "execution_count": 31,
   "outputs": [
    {
     "data": {
      "text/plain": "                             id  start_date  end_date    latitud   longitud  \\\n0      1gMQ4rXcpnPs+hhvW11Jdw==      738005    738091 -34.622385 -58.448886   \n1      p7gmyqzdOy/+odHwH5oPyg==      737817    737946 -34.618084 -58.359912   \n2      ZYkS+4dCz1vUENzAREcX9w==      738035    738035 -34.601159 -58.398106   \n3      UL/s8zoicLDXXwhaelBgFQ==      738140    738195 -34.605542 -58.390007   \n4      wnz+hkCE7RVBNcqDQEtFSw==      737868    737946 -34.593266 -58.381426   \n...                         ...         ...       ...        ...        ...   \n74248  CIrzzz0KQkUDDmjnFINLwA==      738001    738192 -34.597304 -58.432406   \n74249  i5lDg1C7ZEZyETXxCbolhw==      737812    737971 -34.581910 -58.449381   \n74250  b97ekVIR18ZDn3ZsDXWrVQ==      738096    738182 -34.604510 -58.390908   \n74251  7oLMN+ZSoOP2N9Uu7Pz68A==      737829    737856 -34.657111 -58.405545   \n74252  Wp8gte38mWUKv35WKMVs2g==      737808    738126 -34.580785 -58.431046   \n\n       property_rooms  property_surface_total  property_price  \\\n0                 4.0                   113.0        288000.0   \n1                 2.0                    70.0        450000.0   \n2                 1.0                    33.0         77243.0   \n3                 1.0                    30.0         65000.0   \n4                 1.0                    40.0         79000.0   \n...               ...                     ...             ...   \n74248             1.0                    29.0         64500.0   \n74249             2.0                    56.0        144870.0   \n74250             3.0                    64.0        110000.0   \n74251             4.0                    81.0         73000.0   \n74252             1.0                    36.0         89900.0   \n\n       place_l4_Agronomía  place_l4_Almagro  ...  balcon_amplio  \\\n0                       0                 0  ...              0   \n1                       0                 0  ...              1   \n2                       0                 0  ...              0   \n3                       0                 0  ...              0   \n4                       0                 0  ...              0   \n...                   ...               ...  ...            ...   \n74248                   0                 0  ...              0   \n74249                   0                 0  ...              0   \n74250                   0                 0  ...              0   \n74251                   0                 0  ...              0   \n74252                   0                 0  ...              0   \n\n       balcon_corrido  balcon_frente  balcon_salida  balcon_terraza  \\\n0                   0              0              0               1   \n1                   0              0              0               0   \n2                   0              0              0               0   \n3                   0              0              0               0   \n4                   0              0              0               0   \n...               ...            ...            ...             ...   \n74248               0              0              0               0   \n74249               0              0              0               0   \n74250               0              0              0               0   \n74251               0              0              0               0   \n74252               0              0              0               0   \n\n       cochera_cubierta  cochera_opcional  aire_acondicionado  aire_central  \\\n0                     0                 1                   0             0   \n1                     0                 0                   0             0   \n2                     0                 0                   0             0   \n3                     0                 0                   1             0   \n4                     0                 0                   0             0   \n...                 ...               ...                 ...           ...   \n74248                 0                 0                   0             0   \n74249                 0                 0                   0             0   \n74250                 0                 0                   1             0   \n74251                 0                 0                   0             0   \n74252                 0                 0                   1             0   \n\n       aire_split  \n0               0  \n1               0  \n2               0  \n3               0  \n4               0  \n...           ...  \n74248           0  \n74249           0  \n74250           0  \n74251           0  \n74252           0  \n\n[74253 rows x 95 columns]",
      "text/html": "<div>\n<style scoped>\n    .dataframe tbody tr th:only-of-type {\n        vertical-align: middle;\n    }\n\n    .dataframe tbody tr th {\n        vertical-align: top;\n    }\n\n    .dataframe thead th {\n        text-align: right;\n    }\n</style>\n<table border=\"1\" class=\"dataframe\">\n  <thead>\n    <tr style=\"text-align: right;\">\n      <th></th>\n      <th>id</th>\n      <th>start_date</th>\n      <th>end_date</th>\n      <th>latitud</th>\n      <th>longitud</th>\n      <th>property_rooms</th>\n      <th>property_surface_total</th>\n      <th>property_price</th>\n      <th>place_l4_Agronomía</th>\n      <th>place_l4_Almagro</th>\n      <th>...</th>\n      <th>balcon_amplio</th>\n      <th>balcon_corrido</th>\n      <th>balcon_frente</th>\n      <th>balcon_salida</th>\n      <th>balcon_terraza</th>\n      <th>cochera_cubierta</th>\n      <th>cochera_opcional</th>\n      <th>aire_acondicionado</th>\n      <th>aire_central</th>\n      <th>aire_split</th>\n    </tr>\n  </thead>\n  <tbody>\n    <tr>\n      <th>0</th>\n      <td>1gMQ4rXcpnPs+hhvW11Jdw==</td>\n      <td>738005</td>\n      <td>738091</td>\n      <td>-34.622385</td>\n      <td>-58.448886</td>\n      <td>4.0</td>\n      <td>113.0</td>\n      <td>288000.0</td>\n      <td>0</td>\n      <td>0</td>\n      <td>...</td>\n      <td>0</td>\n      <td>0</td>\n      <td>0</td>\n      <td>0</td>\n      <td>1</td>\n      <td>0</td>\n      <td>1</td>\n      <td>0</td>\n      <td>0</td>\n      <td>0</td>\n    </tr>\n    <tr>\n      <th>1</th>\n      <td>p7gmyqzdOy/+odHwH5oPyg==</td>\n      <td>737817</td>\n      <td>737946</td>\n      <td>-34.618084</td>\n      <td>-58.359912</td>\n      <td>2.0</td>\n      <td>70.0</td>\n      <td>450000.0</td>\n      <td>0</td>\n      <td>0</td>\n      <td>...</td>\n      <td>1</td>\n      <td>0</td>\n      <td>0</td>\n      <td>0</td>\n      <td>0</td>\n      <td>0</td>\n      <td>0</td>\n      <td>0</td>\n      <td>0</td>\n      <td>0</td>\n    </tr>\n    <tr>\n      <th>2</th>\n      <td>ZYkS+4dCz1vUENzAREcX9w==</td>\n      <td>738035</td>\n      <td>738035</td>\n      <td>-34.601159</td>\n      <td>-58.398106</td>\n      <td>1.0</td>\n      <td>33.0</td>\n      <td>77243.0</td>\n      <td>0</td>\n      <td>0</td>\n      <td>...</td>\n      <td>0</td>\n      <td>0</td>\n      <td>0</td>\n      <td>0</td>\n      <td>0</td>\n      <td>0</td>\n      <td>0</td>\n      <td>0</td>\n      <td>0</td>\n      <td>0</td>\n    </tr>\n    <tr>\n      <th>3</th>\n      <td>UL/s8zoicLDXXwhaelBgFQ==</td>\n      <td>738140</td>\n      <td>738195</td>\n      <td>-34.605542</td>\n      <td>-58.390007</td>\n      <td>1.0</td>\n      <td>30.0</td>\n      <td>65000.0</td>\n      <td>0</td>\n      <td>0</td>\n      <td>...</td>\n      <td>0</td>\n      <td>0</td>\n      <td>0</td>\n      <td>0</td>\n      <td>0</td>\n      <td>0</td>\n      <td>0</td>\n      <td>1</td>\n      <td>0</td>\n      <td>0</td>\n    </tr>\n    <tr>\n      <th>4</th>\n      <td>wnz+hkCE7RVBNcqDQEtFSw==</td>\n      <td>737868</td>\n      <td>737946</td>\n      <td>-34.593266</td>\n      <td>-58.381426</td>\n      <td>1.0</td>\n      <td>40.0</td>\n      <td>79000.0</td>\n      <td>0</td>\n      <td>0</td>\n      <td>...</td>\n      <td>0</td>\n      <td>0</td>\n      <td>0</td>\n      <td>0</td>\n      <td>0</td>\n      <td>0</td>\n      <td>0</td>\n      <td>0</td>\n      <td>0</td>\n      <td>0</td>\n    </tr>\n    <tr>\n      <th>...</th>\n      <td>...</td>\n      <td>...</td>\n      <td>...</td>\n      <td>...</td>\n      <td>...</td>\n      <td>...</td>\n      <td>...</td>\n      <td>...</td>\n      <td>...</td>\n      <td>...</td>\n      <td>...</td>\n      <td>...</td>\n      <td>...</td>\n      <td>...</td>\n      <td>...</td>\n      <td>...</td>\n      <td>...</td>\n      <td>...</td>\n      <td>...</td>\n      <td>...</td>\n      <td>...</td>\n    </tr>\n    <tr>\n      <th>74248</th>\n      <td>CIrzzz0KQkUDDmjnFINLwA==</td>\n      <td>738001</td>\n      <td>738192</td>\n      <td>-34.597304</td>\n      <td>-58.432406</td>\n      <td>1.0</td>\n      <td>29.0</td>\n      <td>64500.0</td>\n      <td>0</td>\n      <td>0</td>\n      <td>...</td>\n      <td>0</td>\n      <td>0</td>\n      <td>0</td>\n      <td>0</td>\n      <td>0</td>\n      <td>0</td>\n      <td>0</td>\n      <td>0</td>\n      <td>0</td>\n      <td>0</td>\n    </tr>\n    <tr>\n      <th>74249</th>\n      <td>i5lDg1C7ZEZyETXxCbolhw==</td>\n      <td>737812</td>\n      <td>737971</td>\n      <td>-34.581910</td>\n      <td>-58.449381</td>\n      <td>2.0</td>\n      <td>56.0</td>\n      <td>144870.0</td>\n      <td>0</td>\n      <td>0</td>\n      <td>...</td>\n      <td>0</td>\n      <td>0</td>\n      <td>0</td>\n      <td>0</td>\n      <td>0</td>\n      <td>0</td>\n      <td>0</td>\n      <td>0</td>\n      <td>0</td>\n      <td>0</td>\n    </tr>\n    <tr>\n      <th>74250</th>\n      <td>b97ekVIR18ZDn3ZsDXWrVQ==</td>\n      <td>738096</td>\n      <td>738182</td>\n      <td>-34.604510</td>\n      <td>-58.390908</td>\n      <td>3.0</td>\n      <td>64.0</td>\n      <td>110000.0</td>\n      <td>0</td>\n      <td>0</td>\n      <td>...</td>\n      <td>0</td>\n      <td>0</td>\n      <td>0</td>\n      <td>0</td>\n      <td>0</td>\n      <td>0</td>\n      <td>0</td>\n      <td>1</td>\n      <td>0</td>\n      <td>0</td>\n    </tr>\n    <tr>\n      <th>74251</th>\n      <td>7oLMN+ZSoOP2N9Uu7Pz68A==</td>\n      <td>737829</td>\n      <td>737856</td>\n      <td>-34.657111</td>\n      <td>-58.405545</td>\n      <td>4.0</td>\n      <td>81.0</td>\n      <td>73000.0</td>\n      <td>0</td>\n      <td>0</td>\n      <td>...</td>\n      <td>0</td>\n      <td>0</td>\n      <td>0</td>\n      <td>0</td>\n      <td>0</td>\n      <td>0</td>\n      <td>0</td>\n      <td>0</td>\n      <td>0</td>\n      <td>0</td>\n    </tr>\n    <tr>\n      <th>74252</th>\n      <td>Wp8gte38mWUKv35WKMVs2g==</td>\n      <td>737808</td>\n      <td>738126</td>\n      <td>-34.580785</td>\n      <td>-58.431046</td>\n      <td>1.0</td>\n      <td>36.0</td>\n      <td>89900.0</td>\n      <td>0</td>\n      <td>0</td>\n      <td>...</td>\n      <td>0</td>\n      <td>0</td>\n      <td>0</td>\n      <td>0</td>\n      <td>0</td>\n      <td>0</td>\n      <td>0</td>\n      <td>1</td>\n      <td>0</td>\n      <td>0</td>\n    </tr>\n  </tbody>\n</table>\n<p>74253 rows × 95 columns</p>\n</div>"
     },
     "execution_count": 31,
     "metadata": {},
     "output_type": "execute_result"
    }
   ],
   "source": [
    "df_dummies = pd.get_dummies(df, columns=['place_l4', 'property_type', 'cocina', 'pisos', 'calefaccion', 'expensas', 'balcon', 'cochera', 'aire'], drop_first=True)\n",
    "df_dummies"
   ],
   "metadata": {
    "collapsed": false
   }
  },
  {
   "cell_type": "markdown",
   "source": [
    "Separamos el dataset en train y test"
   ],
   "metadata": {
    "collapsed": false
   }
  },
  {
   "cell_type": "code",
   "execution_count": 44,
   "outputs": [
    {
     "data": {
      "text/plain": "25158     82000.0\n23761    128000.0\n442      189000.0\n67780    148000.0\n58586    149000.0\n           ...   \n45547    155000.0\n2931     169000.0\n49368     89000.0\n37511    345000.0\n62855    140000.0\nName: property_price, Length: 59402, dtype: float64"
     },
     "execution_count": 44,
     "metadata": {},
     "output_type": "execute_result"
    }
   ],
   "source": [
    "\n",
    "train = df_dummies.sample(frac=0.8, random_state=200)\n",
    "y_train = train[\"property_price\"]\n",
    "train.drop([\"property_price\", \"id\"], inplace=True, axis=1)\n",
    "test = df_dummies.drop(train.index)\n",
    "y_test = test[\"property_price\"]\n",
    "test.drop([\"property_price\", \"id\"], inplace=True, axis=1)\n",
    "# train\n",
    "y_train"
   ],
   "metadata": {
    "collapsed": false
   }
  },
  {
   "cell_type": "code",
   "execution_count": 49,
   "outputs": [],
   "source": [
    "from xgboost import XGBRegressor\n",
    "param_grid = {'min_child_weight': 5, 'max_depth': 4, 'learning_rate': 0.15, 'gamma': 0.4, 'colsample_bytree': 0.5}\n",
    "xgb_regressor = XGBRegressor(**param_grid).fit(train, y_train)"
   ],
   "metadata": {
    "collapsed": false
   }
  },
  {
   "cell_type": "code",
   "execution_count": 51,
   "outputs": [
    {
     "data": {
      "text/plain": "array([ 39512.836, 112741.38 , 326897.84 , ..., 239910.23 ,  49005.348,\n       151297.84 ], dtype=float32)"
     },
     "execution_count": 51,
     "metadata": {},
     "output_type": "execute_result"
    }
   ],
   "source": [
    "predictions = xgb_regressor.predict(test)\n",
    "predictions"
   ],
   "metadata": {
    "collapsed": false
   }
  },
  {
   "cell_type": "code",
   "execution_count": 54,
   "outputs": [
    {
     "data": {
      "text/plain": "0.8605136268044646"
     },
     "execution_count": 54,
     "metadata": {},
     "output_type": "execute_result"
    }
   ],
   "source": [
    "xgb_regressor.score(test,y_test)"
   ],
   "metadata": {
    "collapsed": false
   }
  },
  {
   "cell_type": "markdown",
   "source": [
    "Vemos que mejora un poco el score con las nuevas columnas."
   ],
   "metadata": {
    "collapsed": false
   }
  },
  {
   "cell_type": "markdown",
   "source": [
    "Ahora optimizamos los hiperparámetros con el nuevo dataset ampliado:"
   ],
   "metadata": {
    "collapsed": false
   }
  },
  {
   "cell_type": "code",
   "execution_count": 59,
   "outputs": [
    {
     "data": {
      "text/plain": "RandomizedSearchCV(cv=StratifiedKFold(n_splits=5, random_state=None, shuffle=False),\n                   estimator=XGBRegressor(base_score=None, booster=None,\n                                          colsample_bylevel=None,\n                                          colsample_bynode=None,\n                                          colsample_bytree=None,\n                                          enable_categorical=False, gamma=None,\n                                          gpu_id=None, importance_type=None,\n                                          interaction_constraints=None,\n                                          learning_rate=None,\n                                          max_delta_step=None, max_depth=No...\n                                          reg_alpha=None, reg_lambda=None,\n                                          scale_pos_weight=None, subsample=None,\n                                          tree_method=None,\n                                          validate_parameters=None,\n                                          verbosity=None),\n                   n_iter=5,\n                   param_distributions={'colsample_bytree': [0.3, 0.4, 0.5,\n                                                             0.7],\n                                        'gamma': [0.0, 0.1, 0.2, 0.3, 0.4],\n                                        'learning_rate': [0.05, 0.1, 0.15, 0.2,\n                                                          0.25, 0.3],\n                                        'max_depth': [3, 4, 5, 6, 8, 10, 12,\n                                                      15],\n                                        'min_child_weight': [1, 3, 5, 7]},\n                   scoring=make_scorer(accuracy_score))",
      "text/html": "<style>#sk-container-id-1 {color: black;background-color: white;}#sk-container-id-1 pre{padding: 0;}#sk-container-id-1 div.sk-toggleable {background-color: white;}#sk-container-id-1 label.sk-toggleable__label {cursor: pointer;display: block;width: 100%;margin-bottom: 0;padding: 0.3em;box-sizing: border-box;text-align: center;}#sk-container-id-1 label.sk-toggleable__label-arrow:before {content: \"▸\";float: left;margin-right: 0.25em;color: #696969;}#sk-container-id-1 label.sk-toggleable__label-arrow:hover:before {color: black;}#sk-container-id-1 div.sk-estimator:hover label.sk-toggleable__label-arrow:before {color: black;}#sk-container-id-1 div.sk-toggleable__content {max-height: 0;max-width: 0;overflow: hidden;text-align: left;background-color: #f0f8ff;}#sk-container-id-1 div.sk-toggleable__content pre {margin: 0.2em;color: black;border-radius: 0.25em;background-color: #f0f8ff;}#sk-container-id-1 input.sk-toggleable__control:checked~div.sk-toggleable__content {max-height: 200px;max-width: 100%;overflow: auto;}#sk-container-id-1 input.sk-toggleable__control:checked~label.sk-toggleable__label-arrow:before {content: \"▾\";}#sk-container-id-1 div.sk-estimator input.sk-toggleable__control:checked~label.sk-toggleable__label {background-color: #d4ebff;}#sk-container-id-1 div.sk-label input.sk-toggleable__control:checked~label.sk-toggleable__label {background-color: #d4ebff;}#sk-container-id-1 input.sk-hidden--visually {border: 0;clip: rect(1px 1px 1px 1px);clip: rect(1px, 1px, 1px, 1px);height: 1px;margin: -1px;overflow: hidden;padding: 0;position: absolute;width: 1px;}#sk-container-id-1 div.sk-estimator {font-family: monospace;background-color: #f0f8ff;border: 1px dotted black;border-radius: 0.25em;box-sizing: border-box;margin-bottom: 0.5em;}#sk-container-id-1 div.sk-estimator:hover {background-color: #d4ebff;}#sk-container-id-1 div.sk-parallel-item::after {content: \"\";width: 100%;border-bottom: 1px solid gray;flex-grow: 1;}#sk-container-id-1 div.sk-label:hover label.sk-toggleable__label {background-color: #d4ebff;}#sk-container-id-1 div.sk-serial::before {content: \"\";position: absolute;border-left: 1px solid gray;box-sizing: border-box;top: 0;bottom: 0;left: 50%;z-index: 0;}#sk-container-id-1 div.sk-serial {display: flex;flex-direction: column;align-items: center;background-color: white;padding-right: 0.2em;padding-left: 0.2em;position: relative;}#sk-container-id-1 div.sk-item {position: relative;z-index: 1;}#sk-container-id-1 div.sk-parallel {display: flex;align-items: stretch;justify-content: center;background-color: white;position: relative;}#sk-container-id-1 div.sk-item::before, #sk-container-id-1 div.sk-parallel-item::before {content: \"\";position: absolute;border-left: 1px solid gray;box-sizing: border-box;top: 0;bottom: 0;left: 50%;z-index: -1;}#sk-container-id-1 div.sk-parallel-item {display: flex;flex-direction: column;z-index: 1;position: relative;background-color: white;}#sk-container-id-1 div.sk-parallel-item:first-child::after {align-self: flex-end;width: 50%;}#sk-container-id-1 div.sk-parallel-item:last-child::after {align-self: flex-start;width: 50%;}#sk-container-id-1 div.sk-parallel-item:only-child::after {width: 0;}#sk-container-id-1 div.sk-dashed-wrapped {border: 1px dashed gray;margin: 0 0.4em 0.5em 0.4em;box-sizing: border-box;padding-bottom: 0.4em;background-color: white;}#sk-container-id-1 div.sk-label label {font-family: monospace;font-weight: bold;display: inline-block;line-height: 1.2em;}#sk-container-id-1 div.sk-label-container {text-align: center;}#sk-container-id-1 div.sk-container {/* jupyter's `normalize.less` sets `[hidden] { display: none; }` but bootstrap.min.css set `[hidden] { display: none !important; }` so we also need the `!important` here to be able to override the default hidden behavior on the sphinx rendered scikit-learn.org. See: https://github.com/scikit-learn/scikit-learn/issues/21755 */display: inline-block !important;position: relative;}#sk-container-id-1 div.sk-text-repr-fallback {display: none;}</style><div id=\"sk-container-id-1\" class=\"sk-top-container\"><div class=\"sk-text-repr-fallback\"><pre>RandomizedSearchCV(cv=StratifiedKFold(n_splits=5, random_state=None, shuffle=False),\n                   estimator=XGBRegressor(base_score=None, booster=None,\n                                          colsample_bylevel=None,\n                                          colsample_bynode=None,\n                                          colsample_bytree=None,\n                                          enable_categorical=False, gamma=None,\n                                          gpu_id=None, importance_type=None,\n                                          interaction_constraints=None,\n                                          learning_rate=None,\n                                          max_delta_step=None, max_depth=No...\n                                          reg_alpha=None, reg_lambda=None,\n                                          scale_pos_weight=None, subsample=None,\n                                          tree_method=None,\n                                          validate_parameters=None,\n                                          verbosity=None),\n                   n_iter=5,\n                   param_distributions={&#x27;colsample_bytree&#x27;: [0.3, 0.4, 0.5,\n                                                             0.7],\n                                        &#x27;gamma&#x27;: [0.0, 0.1, 0.2, 0.3, 0.4],\n                                        &#x27;learning_rate&#x27;: [0.05, 0.1, 0.15, 0.2,\n                                                          0.25, 0.3],\n                                        &#x27;max_depth&#x27;: [3, 4, 5, 6, 8, 10, 12,\n                                                      15],\n                                        &#x27;min_child_weight&#x27;: [1, 3, 5, 7]},\n                   scoring=make_scorer(accuracy_score))</pre><b>In a Jupyter environment, please rerun this cell to show the HTML representation or trust the notebook. <br />On GitHub, the HTML representation is unable to render, please try loading this page with nbviewer.org.</b></div><div class=\"sk-container\" hidden><div class=\"sk-item sk-dashed-wrapped\"><div class=\"sk-label-container\"><div class=\"sk-label sk-toggleable\"><input class=\"sk-toggleable__control sk-hidden--visually\" id=\"sk-estimator-id-1\" type=\"checkbox\" ><label for=\"sk-estimator-id-1\" class=\"sk-toggleable__label sk-toggleable__label-arrow\">RandomizedSearchCV</label><div class=\"sk-toggleable__content\"><pre>RandomizedSearchCV(cv=StratifiedKFold(n_splits=5, random_state=None, shuffle=False),\n                   estimator=XGBRegressor(base_score=None, booster=None,\n                                          colsample_bylevel=None,\n                                          colsample_bynode=None,\n                                          colsample_bytree=None,\n                                          enable_categorical=False, gamma=None,\n                                          gpu_id=None, importance_type=None,\n                                          interaction_constraints=None,\n                                          learning_rate=None,\n                                          max_delta_step=None, max_depth=No...\n                                          reg_alpha=None, reg_lambda=None,\n                                          scale_pos_weight=None, subsample=None,\n                                          tree_method=None,\n                                          validate_parameters=None,\n                                          verbosity=None),\n                   n_iter=5,\n                   param_distributions={&#x27;colsample_bytree&#x27;: [0.3, 0.4, 0.5,\n                                                             0.7],\n                                        &#x27;gamma&#x27;: [0.0, 0.1, 0.2, 0.3, 0.4],\n                                        &#x27;learning_rate&#x27;: [0.05, 0.1, 0.15, 0.2,\n                                                          0.25, 0.3],\n                                        &#x27;max_depth&#x27;: [3, 4, 5, 6, 8, 10, 12,\n                                                      15],\n                                        &#x27;min_child_weight&#x27;: [1, 3, 5, 7]},\n                   scoring=make_scorer(accuracy_score))</pre></div></div></div><div class=\"sk-parallel\"><div class=\"sk-parallel-item\"><div class=\"sk-item\"><div class=\"sk-label-container\"><div class=\"sk-label sk-toggleable\"><input class=\"sk-toggleable__control sk-hidden--visually\" id=\"sk-estimator-id-2\" type=\"checkbox\" ><label for=\"sk-estimator-id-2\" class=\"sk-toggleable__label sk-toggleable__label-arrow\">estimator: XGBRegressor</label><div class=\"sk-toggleable__content\"><pre>XGBRegressor(base_score=None, booster=None, colsample_bylevel=None,\n             colsample_bynode=None, colsample_bytree=None,\n             enable_categorical=False, gamma=None, gpu_id=None,\n             importance_type=None, interaction_constraints=None,\n             learning_rate=None, max_delta_step=None, max_depth=None,\n             min_child_weight=None, missing=nan, monotone_constraints=None,\n             n_estimators=100, n_jobs=None, num_parallel_tree=None,\n             predictor=None, random_state=None, reg_alpha=None, reg_lambda=None,\n             scale_pos_weight=None, subsample=None, tree_method=None,\n             validate_parameters=None, verbosity=None)</pre></div></div></div><div class=\"sk-serial\"><div class=\"sk-item\"><div class=\"sk-estimator sk-toggleable\"><input class=\"sk-toggleable__control sk-hidden--visually\" id=\"sk-estimator-id-3\" type=\"checkbox\" ><label for=\"sk-estimator-id-3\" class=\"sk-toggleable__label sk-toggleable__label-arrow\">XGBRegressor</label><div class=\"sk-toggleable__content\"><pre>XGBRegressor(base_score=None, booster=None, colsample_bylevel=None,\n             colsample_bynode=None, colsample_bytree=None,\n             enable_categorical=False, gamma=None, gpu_id=None,\n             importance_type=None, interaction_constraints=None,\n             learning_rate=None, max_delta_step=None, max_depth=None,\n             min_child_weight=None, missing=nan, monotone_constraints=None,\n             n_estimators=100, n_jobs=None, num_parallel_tree=None,\n             predictor=None, random_state=None, reg_alpha=None, reg_lambda=None,\n             scale_pos_weight=None, subsample=None, tree_method=None,\n             validate_parameters=None, verbosity=None)</pre></div></div></div></div></div></div></div></div></div></div>"
     },
     "execution_count": 59,
     "metadata": {},
     "output_type": "execute_result"
    }
   ],
   "source": [
    "import sklearn as sk\n",
    "from sklearn.metrics import make_scorer\n",
    "from sklearn.model_selection import RandomizedSearchCV, StratifiedKFold\n",
    "from sklearn.metrics import accuracy_score\n",
    "\n",
    "params_grid = {'learning_rate': [0.05, 0.10, 0.15, 0.20, 0.25, 0.30 ],\n",
    "               'max_depth': [3, 4, 5, 6, 8, 10, 12, 15],\n",
    "               'min_child_weight': [1, 3, 5, 7],\n",
    "               'gamma': [ 0.0, 0.1, 0.2 , 0.3, 0.4 ],\n",
    "               'colsample_bytree' : [ 0.3, 0.4, 0.5 , 0.7 ]}\n",
    "\n",
    "randomCV = RandomizedSearchCV(estimator = XGBRegressor(),\n",
    "                              param_distributions = params_grid,\n",
    "                              scoring = make_scorer(accuracy_score),\n",
    "                              cv = StratifiedKFold(n_splits = 5),\n",
    "                              n_iter = 5)\n",
    "\n",
    "randomCV.fit(train, y_train)"
   ],
   "metadata": {
    "collapsed": false
   }
  },
  {
   "cell_type": "code",
   "execution_count": 63,
   "outputs": [
    {
     "data": {
      "text/plain": "0.8747254649095566"
     },
     "execution_count": 63,
     "metadata": {},
     "output_type": "execute_result"
    }
   ],
   "source": [
    "best_estimator = randomCV.best_estimator_\n",
    "best_estimator.score(test,y_test)"
   ],
   "metadata": {
    "collapsed": false
   }
  },
  {
   "cell_type": "markdown",
   "source": [
    "Observamos que el score mejoró levemente"
   ],
   "metadata": {
    "collapsed": false
   }
  },
  {
   "cell_type": "markdown",
   "source": [
    "## 2.Redes Neuronales\n",
    "### 2.a Regresión"
   ],
   "metadata": {
    "collapsed": false
   }
  },
  {
   "cell_type": "markdown",
   "source": [
    "Generamos la variable target tipo_precio"
   ],
   "metadata": {
    "collapsed": false
   }
  },
  {
   "cell_type": "code",
   "execution_count": 65,
   "outputs": [],
   "source": [
    "df_trabajo = properati.copy()\n",
    "df_trabajo[\"property_m2price\"] = df_trabajo[\"property_price\"] / df_trabajo[\"property_surface_total\"]\n",
    "df_trabajo.sort_values(by=[\"property_m2price\"], inplace=True)\n",
    "\n",
    "df_trabajo['tipo_precio_3'] = pd.qcut(x=df_trabajo.loc[df_trabajo['property_type'] == 'Departamento']['property_m2price'], q=4, labels=['bajo', 'medio', 'medio2', 'alto']).replace(\"medio2\",\"medio\")\n",
    "df_trabajo['tipo_precio_3'].fillna(pd.qcut(x=df_trabajo.loc[df_trabajo['property_type'] == 'Casa']['property_m2price'], q=4, labels=['bajo', 'medio', 'medio2', 'alto']).replace(\"medio2\",\"medio\"), inplace=True)\n",
    "df_trabajo['tipo_precio_3'].fillna(pd.qcut(x=df_trabajo.loc[df_trabajo['property_type'] == 'PH']['property_m2price'], q=4, labels=['bajo', 'medio', 'medio2', 'alto']).replace(\"medio2\",\"medio\"), inplace=True)"
   ],
   "metadata": {
    "collapsed": false
   }
  },
  {
   "cell_type": "code",
   "execution_count": 66,
   "outputs": [],
   "source": [
    "df_trabajo= pd.get_dummies(df_trabajo, columns=['place_l4', 'property_type'], drop_first=True)\n",
    "train = df_trabajo.sample(frac=0.8, random_state=200)\n",
    "y_train = train[\"tipo_precio_3\"]\n",
    "train.drop([\"property_price\", \"id\", \"tipo_precio_3\", \"property_m2price\"], inplace=True, axis=1)\n",
    "test = df_trabajo.drop(train.index)\n",
    "y_test = test[\"tipo_precio_3\"]\n",
    "test.drop([\"property_price\", \"id\", \"tipo_precio_3\", \"property_m2price\"], inplace=True, axis=1)"
   ],
   "metadata": {
    "collapsed": false
   }
  },
  {
   "cell_type": "code",
   "execution_count": 64,
   "outputs": [],
   "source": [
    "from sklearn.metrics import recall_score, accuracy_score, f1_score, precision_score\n",
    "def metricas(y_test, y_pred):\n",
    "    print(f'Accuracy: {round(accuracy_score(y_test, y_pred),2)}')\n",
    "    print(f'Precision: {round(precision_score(y_test, y_pred, average=\"macro\"),2)}')\n",
    "    print(f'Recall: {round(recall_score(y_test, y_pred, average=\"macro\"),2)}')\n",
    "    print(f'F1 Score: {round(f1_score(y_test, y_pred, average=\"macro\"),2)}')"
   ],
   "metadata": {
    "collapsed": false
   }
  },
  {
   "cell_type": "code",
   "execution_count": null,
   "outputs": [],
   "source": [
    "from sklearn.preprocessing import StandardScaler\n",
    "import tensorflow as tf\n",
    "from tensorflow import keras\n",
    "from keras.utils.vis_utils import plot_model\n",
    "import visualkeras"
   ],
   "metadata": {
    "collapsed": false
   }
  }
 ],
 "metadata": {
  "kernelspec": {
   "display_name": "Python 3",
   "language": "python",
   "name": "python3"
  },
  "language_info": {
   "codemirror_mode": {
    "name": "ipython",
    "version": 2
   },
   "file_extension": ".py",
   "mimetype": "text/x-python",
   "name": "python",
   "nbconvert_exporter": "python",
   "pygments_lexer": "ipython2",
   "version": "2.7.6"
  }
 },
 "nbformat": 4,
 "nbformat_minor": 0
}
