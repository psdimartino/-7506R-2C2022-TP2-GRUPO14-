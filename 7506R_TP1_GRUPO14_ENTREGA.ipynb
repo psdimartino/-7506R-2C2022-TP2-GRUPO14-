{
 "cells": [
  {
   "cell_type": "markdown",
   "source": [
    "______________________________________\n",
    "# <center>**Trabajo Practico Nº1 para la Materia *Organización de Datos***</center>\n",
    "\n",
    "*Integrantes*:\n",
    "- 103963\tCarolina Di Matteo\tcdimatteo@fi.uba.ar\n",
    "- 101231\tPablo Salvador Dimartino\tpdimartino@fi.uba.ar\n",
    "- 100113\tJuan Sebastian Burgos\tjsburgos@fi.uba.ar\n",
    "- 104415\tValentina Laura Correa\tvcorrea@fi.uba.ar\n",
    "\n",
    "*Grupo*: 14\n",
    "\n",
    "*Repositorio*: [github](https://github.com/valencorrea/7506R-2C2022-GRUPO14)\n",
    "\n",
    "*Curso*: Rodriguez\n",
    "\n",
    "*Cuatrimestre*: 2c2022\n",
    "\n",
    "Datos provistos por [properati](https://www.properati.com.ar).\n",
    "______________________________________\n"
   ],
   "metadata": {
    "collapsed": false
   }
  },
  {
   "cell_type": "code",
   "execution_count": 1,
   "outputs": [],
   "source": [
    "#Importación de librerías\n",
    "\n",
    "import numpy as np\n",
    "import cmath as math\n",
    "import matplotlib.pyplot as plt\n",
    "import seaborn as sns\n",
    "import pandas as pd\n",
    "\n",
    "#Configuración de Warnings\n",
    "import warnings\n",
    "warnings.filterwarnings('ignore')\n",
    "warnings.simplefilter(action='ignore', category=FutureWarning)\n",
    "warnings.simplefilter(action='ignore', category=UserWarning)\n",
    "\n",
    "#Ejecución con Drive\n",
    "if 'google.colab' in str(get_ipython()):\n",
    "    IN_COLAB = True\n",
    "else:\n",
    "    IN_COLAB = False\n",
    "\n",
    "if IN_COLAB :\n",
    "    from google.colab import drive\n",
    "    drive.mount('/content/drive')\n",
    "    properati = pd.read_csv('/content/drive/MyDrive/📔 Organización de Datos (75.06)/TPS/TP1/properati_argentina_2021.csv')\n",
    "    properati_decrip = pd.read_csv('/content/drive/MyDrive/📔 Organización de Datos (75.06)/TPS/TP1/properati_argentina_2021_decrip.csv')\n",
    "else:\n",
    "    properati=pd.read_csv('properati_argentina_2021.csv')\n",
    "    properati_decrip = pd.read_csv('properati_argentina_2021_decrip.csv')"
   ],
   "metadata": {
    "collapsed": false
   }
  },
  {
   "cell_type": "code",
   "execution_count": 33,
   "outputs": [
    {
     "data": {
      "text/plain": "                              id  \\\n0       BZCeiGkJr1WBUi6pKJQwJQ==   \n1       zuHOGgUE0UB71W7m/YCLoA==   \n2       TUL813tXchVBlHUsfaA6DA==   \n3       gn55JPmcjftBV/at1a7fPg==   \n4       qg4m3QHcuo1+wMmyp7kx3Q==   \n...                          ...   \n460149  MbQ4rqEzjp9Jfc3Sywb/YQ==   \n460150  fbuG1ohYC623nxLYPQPBvw==   \n460151  Ry5hMwctFXD7rLoUpzduxQ==   \n460152  xH37f+l+VOP8Vj0T3g+r6g==   \n460153  7XOOIQjoDg0MPUoy9HLzng==   \n\n                                     property_description  \n0       Corredor Responsable: MARIA ALEJANDRA GENOVEVA...  \n1       ¡HERMOSO PH TIPO CASA DE 2 AMBIENTES!<br>APTO ...  \n2       Excelente PH en Núñez 4 amb!!!! Oportunidad !!...  \n3       UNICO PH DE 4 DORMITORIOS EN IMPECABLE ESTADO,...  \n4       Ph 2 Amb. Villa Crespo exclusivo uso profesion...  \n...                                                   ...  \n460149  Corredor Responsable: Hector Garaygorta / Cris...  \n460150  Corredor Responsable: MARIA DEL ROSARIO NEME -...  \n460151  En cumplimiento de las leyes provinciales vige...  \n460152  En cumplimiento de las leyes provinciales vige...  \n460153  CASA EN VENTA EN BARILOCHE – Lomas del Cauquén...  \n\n[460154 rows x 2 columns]",
      "text/html": "<div>\n<style scoped>\n    .dataframe tbody tr th:only-of-type {\n        vertical-align: middle;\n    }\n\n    .dataframe tbody tr th {\n        vertical-align: top;\n    }\n\n    .dataframe thead th {\n        text-align: right;\n    }\n</style>\n<table border=\"1\" class=\"dataframe\">\n  <thead>\n    <tr style=\"text-align: right;\">\n      <th></th>\n      <th>id</th>\n      <th>property_description</th>\n    </tr>\n  </thead>\n  <tbody>\n    <tr>\n      <th>0</th>\n      <td>BZCeiGkJr1WBUi6pKJQwJQ==</td>\n      <td>Corredor Responsable: MARIA ALEJANDRA GENOVEVA...</td>\n    </tr>\n    <tr>\n      <th>1</th>\n      <td>zuHOGgUE0UB71W7m/YCLoA==</td>\n      <td>¡HERMOSO PH TIPO CASA DE 2 AMBIENTES!&lt;br&gt;APTO ...</td>\n    </tr>\n    <tr>\n      <th>2</th>\n      <td>TUL813tXchVBlHUsfaA6DA==</td>\n      <td>Excelente PH en Núñez 4 amb!!!! Oportunidad !!...</td>\n    </tr>\n    <tr>\n      <th>3</th>\n      <td>gn55JPmcjftBV/at1a7fPg==</td>\n      <td>UNICO PH DE 4 DORMITORIOS EN IMPECABLE ESTADO,...</td>\n    </tr>\n    <tr>\n      <th>4</th>\n      <td>qg4m3QHcuo1+wMmyp7kx3Q==</td>\n      <td>Ph 2 Amb. Villa Crespo exclusivo uso profesion...</td>\n    </tr>\n    <tr>\n      <th>...</th>\n      <td>...</td>\n      <td>...</td>\n    </tr>\n    <tr>\n      <th>460149</th>\n      <td>MbQ4rqEzjp9Jfc3Sywb/YQ==</td>\n      <td>Corredor Responsable: Hector Garaygorta / Cris...</td>\n    </tr>\n    <tr>\n      <th>460150</th>\n      <td>fbuG1ohYC623nxLYPQPBvw==</td>\n      <td>Corredor Responsable: MARIA DEL ROSARIO NEME -...</td>\n    </tr>\n    <tr>\n      <th>460151</th>\n      <td>Ry5hMwctFXD7rLoUpzduxQ==</td>\n      <td>En cumplimiento de las leyes provinciales vige...</td>\n    </tr>\n    <tr>\n      <th>460152</th>\n      <td>xH37f+l+VOP8Vj0T3g+r6g==</td>\n      <td>En cumplimiento de las leyes provinciales vige...</td>\n    </tr>\n    <tr>\n      <th>460153</th>\n      <td>7XOOIQjoDg0MPUoy9HLzng==</td>\n      <td>CASA EN VENTA EN BARILOCHE – Lomas del Cauquén...</td>\n    </tr>\n  </tbody>\n</table>\n<p>460154 rows × 2 columns</p>\n</div>"
     },
     "execution_count": 33,
     "metadata": {},
     "output_type": "execute_result"
    }
   ],
   "source": [
    "df_decrip = properati_decrip.copy()\n",
    "df_decrip['property_description'].isna().sum()\n",
    "properati_decrip"
   ],
   "metadata": {
    "collapsed": false
   }
  },
  {
   "cell_type": "code",
   "execution_count": 15,
   "outputs": [],
   "source": [
    "df_decrip.dropna(inplace=True)"
   ],
   "metadata": {
    "collapsed": false
   }
  },
  {
   "cell_type": "code",
   "execution_count": 16,
   "outputs": [
    {
     "data": {
      "text/plain": "[('de', 4184140),\n ('y', 2432987),\n ('con', 2041983),\n ('en', 1421158),\n ('la', 1345426),\n ('a', 1094809),\n ('el', 771361),\n ('del', 680551),\n ('por', 613492),\n ('-', 583175),\n ('al', 561949),\n ('que', 560458),\n ('un', 521728),\n ('para', 442814),\n ('los', 414449),\n ('las', 413419),\n ('se', 343522),\n ('DE', 297757),\n ('una', 295258),\n ('2', 277686),\n ('son', 238982),\n ('baño', 222777),\n ('cocina', 207855),\n ('es', 193873),\n ('3', 189266),\n ('comedor', 177203),\n ('dos', 171501),\n ('Y', 163431),\n ('o', 159880),\n ('CON', 158691),\n ('casa', 157488),\n ('muy', 151774),\n ('cuenta', 150262),\n ('esta', 149661),\n ('EN', 145701),\n ('A', 141422),\n ('1', 139365),\n ('x', 137559),\n ('living', 132915),\n ('no', 132662),\n ('valor', 132624),\n ('Corredor', 128192),\n (',', 127703),\n ('sobre', 126266),\n ('piso', 125373),\n ('/', 123788),\n ('propiedad', 123169),\n ('encuentra', 121882),\n ('ambientes', 121473),\n ('Responsable:', 120761),\n ('dormitorios', 119819),\n ('#', 118864),\n ('ID', 118355),\n ('MLS', 118152),\n ('<br>', 112068),\n ('La', 111834),\n ('El', 111085),\n ('frente', 107064),\n ('planta', 105655),\n ('4', 105556),\n ('completo', 104697),\n ('hasta', 104103),\n ('tu', 103798),\n ('dormitorio', 102992),\n ('amplio', 101508),\n ('su', 100709),\n ('m2', 99537),\n ('medidas', 98038),\n ('Av.', 97853),\n ('vista', 97824),\n ('departamento', 96067),\n ('metros', 94192),\n ('balcón', 94019),\n ('cuadras', 92941),\n ('parte', 92930),\n ('Ley', 92374),\n ('salida', 92224),\n ('No', 89451),\n ('gran', 85352),\n ('30%', 84869),\n ('pisos', 84115),\n ('acceso', 82701),\n ('propiedad.', 82085),\n ('principal', 81655),\n ('préstamo', 79722),\n ('cuota', 79312),\n ('espacio', 78860),\n ('Los', 78242),\n ('Las', 75492),\n ('presente', 74996),\n ('edificio', 74987),\n ('Lendar', 74700),\n ('querés!', 74348),\n ('Simulá', 74045),\n ('Accedé', 74009),\n ('podés.', 74003),\n ('zona', 73711),\n ('como', 72670),\n ('operaciones', 72341),\n ('CUCICBA', 72192)]"
     },
     "execution_count": 16,
     "metadata": {},
     "output_type": "execute_result"
    }
   ],
   "source": [
    "from collections import Counter\n",
    "Counter(\" \".join(df_decrip[\"property_description\"]).split()).most_common(100)\n"
   ],
   "metadata": {
    "collapsed": false
   }
  },
  {
   "cell_type": "code",
   "execution_count": 17,
   "outputs": [
    {
     "data": {
      "text/plain": "0         Corredor Responsable: MARIA ALEJANDRA GENOVEVA...\n1         ¡HERMOSO PH TIPO CASA DE 2 AMBIENTES!<br>APTO ...\n2         Excelente PH en Núñez 4 amb!!!! Oportunidad !!...\n3         UNICO PH DE 4 DORMITORIOS EN IMPECABLE ESTADO,...\n4         Ph 2 Amb. Villa Crespo exclusivo uso profesion...\n                                ...                        \n460149    Corredor Responsable: Hector Garaygorta / Cris...\n460150    Corredor Responsable: MARIA DEL ROSARIO NEME -...\n460151    En cumplimiento de las leyes provinciales vige...\n460152    En cumplimiento de las leyes provinciales vige...\n460153    CASA EN VENTA EN BARILOCHE – Lomas del Cauquén...\nName: property_description, Length: 460131, dtype: object"
     },
     "execution_count": 17,
     "metadata": {},
     "output_type": "execute_result"
    }
   ],
   "source": [
    "df_decrip[\"property_description\"]"
   ],
   "metadata": {
    "collapsed": false
   }
  },
  {
   "cell_type": "code",
   "execution_count": 26,
   "outputs": [
    {
     "data": {
      "text/plain": "                              id  \\\n0       BZCeiGkJr1WBUi6pKJQwJQ==   \n1       zuHOGgUE0UB71W7m/YCLoA==   \n2       TUL813tXchVBlHUsfaA6DA==   \n3       gn55JPmcjftBV/at1a7fPg==   \n4       qg4m3QHcuo1+wMmyp7kx3Q==   \n...                          ...   \n460149  MbQ4rqEzjp9Jfc3Sywb/YQ==   \n460150  fbuG1ohYC623nxLYPQPBvw==   \n460151  Ry5hMwctFXD7rLoUpzduxQ==   \n460152  xH37f+l+VOP8Vj0T3g+r6g==   \n460153  7XOOIQjoDg0MPUoy9HLzng==   \n\n                                     property_description  \n0       corredor responsable: maria alejandra genoveva...  \n1       !hermoso ph tipo casa de 2 ambientes! apto cre...  \n2       excelente ph en nunez 4 amb!!!! oportunidad !!...  \n3       unico ph de 4 dormitorios en impecable estado,...  \n4       ph 2 amb. villa crespo exclusivo uso profesion...  \n...                                                   ...  \n460149  corredor responsable: hector garaygorta / cris...  \n460150  corredor responsable: maria del rosario neme -...  \n460151  en cumplimiento de las leyes provinciales vige...  \n460152  en cumplimiento de las leyes provinciales vige...  \n460153  casa en venta en bariloche - lomas del cauquen...  \n\n[460131 rows x 2 columns]",
      "text/html": "<div>\n<style scoped>\n    .dataframe tbody tr th:only-of-type {\n        vertical-align: middle;\n    }\n\n    .dataframe tbody tr th {\n        vertical-align: top;\n    }\n\n    .dataframe thead th {\n        text-align: right;\n    }\n</style>\n<table border=\"1\" class=\"dataframe\">\n  <thead>\n    <tr style=\"text-align: right;\">\n      <th></th>\n      <th>id</th>\n      <th>property_description</th>\n    </tr>\n  </thead>\n  <tbody>\n    <tr>\n      <th>0</th>\n      <td>BZCeiGkJr1WBUi6pKJQwJQ==</td>\n      <td>corredor responsable: maria alejandra genoveva...</td>\n    </tr>\n    <tr>\n      <th>1</th>\n      <td>zuHOGgUE0UB71W7m/YCLoA==</td>\n      <td>!hermoso ph tipo casa de 2 ambientes! apto cre...</td>\n    </tr>\n    <tr>\n      <th>2</th>\n      <td>TUL813tXchVBlHUsfaA6DA==</td>\n      <td>excelente ph en nunez 4 amb!!!! oportunidad !!...</td>\n    </tr>\n    <tr>\n      <th>3</th>\n      <td>gn55JPmcjftBV/at1a7fPg==</td>\n      <td>unico ph de 4 dormitorios en impecable estado,...</td>\n    </tr>\n    <tr>\n      <th>4</th>\n      <td>qg4m3QHcuo1+wMmyp7kx3Q==</td>\n      <td>ph 2 amb. villa crespo exclusivo uso profesion...</td>\n    </tr>\n    <tr>\n      <th>...</th>\n      <td>...</td>\n      <td>...</td>\n    </tr>\n    <tr>\n      <th>460149</th>\n      <td>MbQ4rqEzjp9Jfc3Sywb/YQ==</td>\n      <td>corredor responsable: hector garaygorta / cris...</td>\n    </tr>\n    <tr>\n      <th>460150</th>\n      <td>fbuG1ohYC623nxLYPQPBvw==</td>\n      <td>corredor responsable: maria del rosario neme -...</td>\n    </tr>\n    <tr>\n      <th>460151</th>\n      <td>Ry5hMwctFXD7rLoUpzduxQ==</td>\n      <td>en cumplimiento de las leyes provinciales vige...</td>\n    </tr>\n    <tr>\n      <th>460152</th>\n      <td>xH37f+l+VOP8Vj0T3g+r6g==</td>\n      <td>en cumplimiento de las leyes provinciales vige...</td>\n    </tr>\n    <tr>\n      <th>460153</th>\n      <td>7XOOIQjoDg0MPUoy9HLzng==</td>\n      <td>casa en venta en bariloche - lomas del cauquen...</td>\n    </tr>\n  </tbody>\n</table>\n<p>460131 rows × 2 columns</p>\n</div>"
     },
     "execution_count": 26,
     "metadata": {},
     "output_type": "execute_result"
    }
   ],
   "source": [
    "df_decrip[\"property_description\"] = df_decrip[\"property_description\"].apply(lambda line: line.replace(\"<br>\", \" \")) # remover etiqueta de html\n",
    "df_decrip[\"property_description\"] = df_decrip[\"property_description\"].apply(lambda line: line.lower()) # Todo a minúsculas\n",
    "import unidecode\n",
    "df_decrip[\"property_description\"] = df_decrip[\"property_description\"].apply(lambda line: unidecode.unidecode(line)) # Sin tildes por posibles errores de gramática"
   ],
   "metadata": {
    "collapsed": false
   }
  },
  {
   "cell_type": "code",
   "execution_count": 30,
   "outputs": [],
   "source": [
    "import re\n",
    "df_decrip[\"property_description\"] = df_decrip[\"property_description\"].apply(lambda line: re.sub(r'[^\\w]', ' ', line)) # remover símbolos"
   ],
   "metadata": {
    "collapsed": false
   }
  },
  {
   "cell_type": "code",
   "execution_count": 31,
   "outputs": [],
   "source": [
    "df_decrip[\"property_description\"] = df_decrip[\"property_description\"].apply(lambda line: re.sub(\"\\s\\s+\" , \" \", line)) # remover multiples espacios para facilitar lectura"
   ],
   "metadata": {
    "collapsed": false
   }
  },
  {
   "cell_type": "code",
   "execution_count": 32,
   "outputs": [
    {
     "data": {
      "text/plain": "0         corredor responsable maria alejandra genoveva ...\n1          hermoso ph tipo casa de 2 ambientes apto cred...\n2         excelente ph en nunez 4 amb oportunidad total ...\n3         unico ph de 4 dormitorios en impecable estado ...\n4         ph 2 amb villa crespo exclusivo uso profesiona...\n                                ...                        \n460149    corredor responsable hector garaygorta cristia...\n460150    corredor responsable maria del rosario neme 15...\n460151    en cumplimiento de las leyes provinciales vige...\n460152    en cumplimiento de las leyes provinciales vige...\n460153    casa en venta en bariloche lomas del cauquen c...\nName: property_description, Length: 460131, dtype: object"
     },
     "execution_count": 32,
     "metadata": {},
     "output_type": "execute_result"
    }
   ],
   "source": [
    "df_decrip[\"property_description\"]"
   ],
   "metadata": {
    "collapsed": false
   }
  },
  {
   "cell_type": "code",
   "execution_count": null,
   "outputs": [],
   "source": [
    "df_nostopwords = df_decrip.copy()\n",
    "\n",
    "with open('stopwords') as f:\n",
    "    lines = f.read().splitlines()"
   ],
   "metadata": {
    "collapsed": false
   }
  },
  {
   "cell_type": "code",
   "execution_count": null,
   "outputs": [],
   "source": [
    "from collections import Counter\n",
    "Counter(\" \".join(df_nostopwords[\"property_description\"]).split()).most_common(100)"
   ],
   "metadata": {
    "collapsed": false
   }
  },
  {
   "cell_type": "code",
   "execution_count": 22,
   "outputs": [
    {
     "ename": "LookupError",
     "evalue": "\n**********************************************************************\n  Resource \u001B[93mgenesis\u001B[0m not found.\n  Please use the NLTK Downloader to obtain the resource:\n\n  \u001B[31m>>> import nltk\n  >>> nltk.download('genesis')\n  \u001B[0m\n  For more information see: https://www.nltk.org/data.html\n\n  Attempted to load \u001B[93mcorpora/genesis\u001B[0m\n\n  Searched in:\n    - 'C:\\\\Users\\\\Salvador/nltk_data'\n    - 'C:\\\\Users\\\\Salvador\\\\anaconda3\\\\envs\\\\datos\\\\nltk_data'\n    - 'C:\\\\Users\\\\Salvador\\\\anaconda3\\\\envs\\\\datos\\\\share\\\\nltk_data'\n    - 'C:\\\\Users\\\\Salvador\\\\anaconda3\\\\envs\\\\datos\\\\lib\\\\nltk_data'\n    - 'C:\\\\Users\\\\Salvador\\\\AppData\\\\Roaming\\\\nltk_data'\n    - 'C:\\\\nltk_data'\n    - 'D:\\\\nltk_data'\n    - 'E:\\\\nltk_data'\n**********************************************************************\n",
     "output_type": "error",
     "traceback": [
      "\u001B[1;31m---------------------------------------------------------------------------\u001B[0m",
      "\u001B[1;31mLookupError\u001B[0m                               Traceback (most recent call last)",
      "File \u001B[1;32m~\\anaconda3\\envs\\datos\\lib\\site-packages\\nltk\\corpus\\util.py:84\u001B[0m, in \u001B[0;36mLazyCorpusLoader.__load\u001B[1;34m(self)\u001B[0m\n\u001B[0;32m     83\u001B[0m \u001B[38;5;28;01mtry\u001B[39;00m:\n\u001B[1;32m---> 84\u001B[0m     root \u001B[38;5;241m=\u001B[39m \u001B[43mnltk\u001B[49m\u001B[38;5;241;43m.\u001B[39;49m\u001B[43mdata\u001B[49m\u001B[38;5;241;43m.\u001B[39;49m\u001B[43mfind\u001B[49m\u001B[43m(\u001B[49m\u001B[38;5;124;43mf\u001B[39;49m\u001B[38;5;124;43m\"\u001B[39;49m\u001B[38;5;132;43;01m{\u001B[39;49;00m\u001B[38;5;28;43mself\u001B[39;49m\u001B[38;5;241;43m.\u001B[39;49m\u001B[43msubdir\u001B[49m\u001B[38;5;132;43;01m}\u001B[39;49;00m\u001B[38;5;124;43m/\u001B[39;49m\u001B[38;5;132;43;01m{\u001B[39;49;00m\u001B[43mzip_name\u001B[49m\u001B[38;5;132;43;01m}\u001B[39;49;00m\u001B[38;5;124;43m\"\u001B[39;49m\u001B[43m)\u001B[49m\n\u001B[0;32m     85\u001B[0m \u001B[38;5;28;01mexcept\u001B[39;00m \u001B[38;5;167;01mLookupError\u001B[39;00m:\n",
      "File \u001B[1;32m~\\anaconda3\\envs\\datos\\lib\\site-packages\\nltk\\data.py:583\u001B[0m, in \u001B[0;36mfind\u001B[1;34m(resource_name, paths)\u001B[0m\n\u001B[0;32m    582\u001B[0m resource_not_found \u001B[38;5;241m=\u001B[39m \u001B[38;5;124mf\u001B[39m\u001B[38;5;124m\"\u001B[39m\u001B[38;5;130;01m\\n\u001B[39;00m\u001B[38;5;132;01m{\u001B[39;00msep\u001B[38;5;132;01m}\u001B[39;00m\u001B[38;5;130;01m\\n\u001B[39;00m\u001B[38;5;132;01m{\u001B[39;00mmsg\u001B[38;5;132;01m}\u001B[39;00m\u001B[38;5;130;01m\\n\u001B[39;00m\u001B[38;5;132;01m{\u001B[39;00msep\u001B[38;5;132;01m}\u001B[39;00m\u001B[38;5;130;01m\\n\u001B[39;00m\u001B[38;5;124m\"\u001B[39m\n\u001B[1;32m--> 583\u001B[0m \u001B[38;5;28;01mraise\u001B[39;00m \u001B[38;5;167;01mLookupError\u001B[39;00m(resource_not_found)\n",
      "\u001B[1;31mLookupError\u001B[0m: \n**********************************************************************\n  Resource \u001B[93mgenesis\u001B[0m not found.\n  Please use the NLTK Downloader to obtain the resource:\n\n  \u001B[31m>>> import nltk\n  >>> nltk.download('genesis')\n  \u001B[0m\n  For more information see: https://www.nltk.org/data.html\n\n  Attempted to load \u001B[93mcorpora/genesis.zip/genesis/\u001B[0m\n\n  Searched in:\n    - 'C:\\\\Users\\\\Salvador/nltk_data'\n    - 'C:\\\\Users\\\\Salvador\\\\anaconda3\\\\envs\\\\datos\\\\nltk_data'\n    - 'C:\\\\Users\\\\Salvador\\\\anaconda3\\\\envs\\\\datos\\\\share\\\\nltk_data'\n    - 'C:\\\\Users\\\\Salvador\\\\anaconda3\\\\envs\\\\datos\\\\lib\\\\nltk_data'\n    - 'C:\\\\Users\\\\Salvador\\\\AppData\\\\Roaming\\\\nltk_data'\n    - 'C:\\\\nltk_data'\n    - 'D:\\\\nltk_data'\n    - 'E:\\\\nltk_data'\n**********************************************************************\n",
      "\nDuring handling of the above exception, another exception occurred:\n",
      "\u001B[1;31mLookupError\u001B[0m                               Traceback (most recent call last)",
      "Cell \u001B[1;32mIn [22], line 8\u001B[0m\n\u001B[0;32m      4\u001B[0m trigram_measures \u001B[38;5;241m=\u001B[39m nltk\u001B[38;5;241m.\u001B[39mcollocations\u001B[38;5;241m.\u001B[39mTrigramAssocMeasures()\n\u001B[0;32m      6\u001B[0m \u001B[38;5;66;03m# change this to read in your data\u001B[39;00m\n\u001B[0;32m      7\u001B[0m finder \u001B[38;5;241m=\u001B[39m BigramCollocationFinder\u001B[38;5;241m.\u001B[39mfrom_words(\n\u001B[1;32m----> 8\u001B[0m     \u001B[43mnltk\u001B[49m\u001B[38;5;241;43m.\u001B[39;49m\u001B[43mcorpus\u001B[49m\u001B[38;5;241;43m.\u001B[39;49m\u001B[43mgenesis\u001B[49m\u001B[38;5;241;43m.\u001B[39;49m\u001B[43mwords\u001B[49m(df_decrip[\u001B[38;5;124m\"\u001B[39m\u001B[38;5;124mproperty_description\u001B[39m\u001B[38;5;124m\"\u001B[39m]))\n\u001B[0;32m     10\u001B[0m \u001B[38;5;66;03m# only bigrams that appear 3+ times\u001B[39;00m\n\u001B[0;32m     11\u001B[0m finder\u001B[38;5;241m.\u001B[39mapply_freq_filter(\u001B[38;5;241m3\u001B[39m)\n",
      "File \u001B[1;32m~\\anaconda3\\envs\\datos\\lib\\site-packages\\nltk\\corpus\\util.py:121\u001B[0m, in \u001B[0;36mLazyCorpusLoader.__getattr__\u001B[1;34m(self, attr)\u001B[0m\n\u001B[0;32m    118\u001B[0m \u001B[38;5;28;01mif\u001B[39;00m attr \u001B[38;5;241m==\u001B[39m \u001B[38;5;124m\"\u001B[39m\u001B[38;5;124m__bases__\u001B[39m\u001B[38;5;124m\"\u001B[39m:\n\u001B[0;32m    119\u001B[0m     \u001B[38;5;28;01mraise\u001B[39;00m \u001B[38;5;167;01mAttributeError\u001B[39;00m(\u001B[38;5;124m\"\u001B[39m\u001B[38;5;124mLazyCorpusLoader object has no attribute \u001B[39m\u001B[38;5;124m'\u001B[39m\u001B[38;5;124m__bases__\u001B[39m\u001B[38;5;124m'\u001B[39m\u001B[38;5;124m\"\u001B[39m)\n\u001B[1;32m--> 121\u001B[0m \u001B[38;5;28;43mself\u001B[39;49m\u001B[38;5;241;43m.\u001B[39;49m\u001B[43m__load\u001B[49m\u001B[43m(\u001B[49m\u001B[43m)\u001B[49m\n\u001B[0;32m    122\u001B[0m \u001B[38;5;66;03m# This looks circular, but its not, since __load() changes our\u001B[39;00m\n\u001B[0;32m    123\u001B[0m \u001B[38;5;66;03m# __class__ to something new:\u001B[39;00m\n\u001B[0;32m    124\u001B[0m \u001B[38;5;28;01mreturn\u001B[39;00m \u001B[38;5;28mgetattr\u001B[39m(\u001B[38;5;28mself\u001B[39m, attr)\n",
      "File \u001B[1;32m~\\anaconda3\\envs\\datos\\lib\\site-packages\\nltk\\corpus\\util.py:86\u001B[0m, in \u001B[0;36mLazyCorpusLoader.__load\u001B[1;34m(self)\u001B[0m\n\u001B[0;32m     84\u001B[0m             root \u001B[38;5;241m=\u001B[39m nltk\u001B[38;5;241m.\u001B[39mdata\u001B[38;5;241m.\u001B[39mfind(\u001B[38;5;124mf\u001B[39m\u001B[38;5;124m\"\u001B[39m\u001B[38;5;132;01m{\u001B[39;00m\u001B[38;5;28mself\u001B[39m\u001B[38;5;241m.\u001B[39msubdir\u001B[38;5;132;01m}\u001B[39;00m\u001B[38;5;124m/\u001B[39m\u001B[38;5;132;01m{\u001B[39;00mzip_name\u001B[38;5;132;01m}\u001B[39;00m\u001B[38;5;124m\"\u001B[39m)\n\u001B[0;32m     85\u001B[0m         \u001B[38;5;28;01mexcept\u001B[39;00m \u001B[38;5;167;01mLookupError\u001B[39;00m:\n\u001B[1;32m---> 86\u001B[0m             \u001B[38;5;28;01mraise\u001B[39;00m e\n\u001B[0;32m     88\u001B[0m \u001B[38;5;66;03m# Load the corpus.\u001B[39;00m\n\u001B[0;32m     89\u001B[0m corpus \u001B[38;5;241m=\u001B[39m \u001B[38;5;28mself\u001B[39m\u001B[38;5;241m.\u001B[39m__reader_cls(root, \u001B[38;5;241m*\u001B[39m\u001B[38;5;28mself\u001B[39m\u001B[38;5;241m.\u001B[39m__args, \u001B[38;5;241m*\u001B[39m\u001B[38;5;241m*\u001B[39m\u001B[38;5;28mself\u001B[39m\u001B[38;5;241m.\u001B[39m__kwargs)\n",
      "File \u001B[1;32m~\\anaconda3\\envs\\datos\\lib\\site-packages\\nltk\\corpus\\util.py:81\u001B[0m, in \u001B[0;36mLazyCorpusLoader.__load\u001B[1;34m(self)\u001B[0m\n\u001B[0;32m     79\u001B[0m \u001B[38;5;28;01melse\u001B[39;00m:\n\u001B[0;32m     80\u001B[0m     \u001B[38;5;28;01mtry\u001B[39;00m:\n\u001B[1;32m---> 81\u001B[0m         root \u001B[38;5;241m=\u001B[39m \u001B[43mnltk\u001B[49m\u001B[38;5;241;43m.\u001B[39;49m\u001B[43mdata\u001B[49m\u001B[38;5;241;43m.\u001B[39;49m\u001B[43mfind\u001B[49m\u001B[43m(\u001B[49m\u001B[38;5;124;43mf\u001B[39;49m\u001B[38;5;124;43m\"\u001B[39;49m\u001B[38;5;132;43;01m{\u001B[39;49;00m\u001B[38;5;28;43mself\u001B[39;49m\u001B[38;5;241;43m.\u001B[39;49m\u001B[43msubdir\u001B[49m\u001B[38;5;132;43;01m}\u001B[39;49;00m\u001B[38;5;124;43m/\u001B[39;49m\u001B[38;5;132;43;01m{\u001B[39;49;00m\u001B[38;5;28;43mself\u001B[39;49m\u001B[38;5;241;43m.\u001B[39;49m\u001B[43m__name\u001B[49m\u001B[38;5;132;43;01m}\u001B[39;49;00m\u001B[38;5;124;43m\"\u001B[39;49m\u001B[43m)\u001B[49m\n\u001B[0;32m     82\u001B[0m     \u001B[38;5;28;01mexcept\u001B[39;00m \u001B[38;5;167;01mLookupError\u001B[39;00m \u001B[38;5;28;01mas\u001B[39;00m e:\n\u001B[0;32m     83\u001B[0m         \u001B[38;5;28;01mtry\u001B[39;00m:\n",
      "File \u001B[1;32m~\\anaconda3\\envs\\datos\\lib\\site-packages\\nltk\\data.py:583\u001B[0m, in \u001B[0;36mfind\u001B[1;34m(resource_name, paths)\u001B[0m\n\u001B[0;32m    581\u001B[0m sep \u001B[38;5;241m=\u001B[39m \u001B[38;5;124m\"\u001B[39m\u001B[38;5;124m*\u001B[39m\u001B[38;5;124m\"\u001B[39m \u001B[38;5;241m*\u001B[39m \u001B[38;5;241m70\u001B[39m\n\u001B[0;32m    582\u001B[0m resource_not_found \u001B[38;5;241m=\u001B[39m \u001B[38;5;124mf\u001B[39m\u001B[38;5;124m\"\u001B[39m\u001B[38;5;130;01m\\n\u001B[39;00m\u001B[38;5;132;01m{\u001B[39;00msep\u001B[38;5;132;01m}\u001B[39;00m\u001B[38;5;130;01m\\n\u001B[39;00m\u001B[38;5;132;01m{\u001B[39;00mmsg\u001B[38;5;132;01m}\u001B[39;00m\u001B[38;5;130;01m\\n\u001B[39;00m\u001B[38;5;132;01m{\u001B[39;00msep\u001B[38;5;132;01m}\u001B[39;00m\u001B[38;5;130;01m\\n\u001B[39;00m\u001B[38;5;124m\"\u001B[39m\n\u001B[1;32m--> 583\u001B[0m \u001B[38;5;28;01mraise\u001B[39;00m \u001B[38;5;167;01mLookupError\u001B[39;00m(resource_not_found)\n",
      "\u001B[1;31mLookupError\u001B[0m: \n**********************************************************************\n  Resource \u001B[93mgenesis\u001B[0m not found.\n  Please use the NLTK Downloader to obtain the resource:\n\n  \u001B[31m>>> import nltk\n  >>> nltk.download('genesis')\n  \u001B[0m\n  For more information see: https://www.nltk.org/data.html\n\n  Attempted to load \u001B[93mcorpora/genesis\u001B[0m\n\n  Searched in:\n    - 'C:\\\\Users\\\\Salvador/nltk_data'\n    - 'C:\\\\Users\\\\Salvador\\\\anaconda3\\\\envs\\\\datos\\\\nltk_data'\n    - 'C:\\\\Users\\\\Salvador\\\\anaconda3\\\\envs\\\\datos\\\\share\\\\nltk_data'\n    - 'C:\\\\Users\\\\Salvador\\\\anaconda3\\\\envs\\\\datos\\\\lib\\\\nltk_data'\n    - 'C:\\\\Users\\\\Salvador\\\\AppData\\\\Roaming\\\\nltk_data'\n    - 'C:\\\\nltk_data'\n    - 'D:\\\\nltk_data'\n    - 'E:\\\\nltk_data'\n**********************************************************************\n"
     ]
    }
   ],
   "source": [
    "import nltk\n",
    "from nltk.collocations import *\n",
    "bigram_measures = nltk.collocations.BigramAssocMeasures()\n",
    "trigram_measures = nltk.collocations.TrigramAssocMeasures()\n",
    "\n",
    "# change this to read in your data\n",
    "finder = BigramCollocationFinder.from_words(\n",
    "    nltk.corpus.genesis.words(df_decrip[\"property_description\"]))\n",
    "\n",
    "# only bigrams that appear 3+ times\n",
    "finder.apply_freq_filter(3)\n",
    "\n",
    "# return the 10 n-grams with the highest PMI\n",
    "finder.nbest(bigram_measures.pmi, 10)"
   ],
   "metadata": {
    "collapsed": false
   }
  }
 ],
 "metadata": {
  "kernelspec": {
   "display_name": "Python 3",
   "language": "python",
   "name": "python3"
  },
  "language_info": {
   "codemirror_mode": {
    "name": "ipython",
    "version": 2
   },
   "file_extension": ".py",
   "mimetype": "text/x-python",
   "name": "python",
   "nbconvert_exporter": "python",
   "pygments_lexer": "ipython2",
   "version": "2.7.6"
  }
 },
 "nbformat": 4,
 "nbformat_minor": 0
}
