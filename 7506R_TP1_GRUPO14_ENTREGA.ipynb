{
 "cells": [
  {
   "cell_type": "markdown",
   "source": [
    "______________________________________\n",
    "# <center>**Trabajo Practico Nº1 para la Materia *Organización de Datos***</center>\n",
    "\n",
    "*Integrantes*:\n",
    "- 103963\tCarolina Di Matteo\tcdimatteo@fi.uba.ar\n",
    "- 101231\tPablo Salvador Dimartino\tpdimartino@fi.uba.ar\n",
    "- 100113\tJuan Sebastian Burgos\tjsburgos@fi.uba.ar\n",
    "- 104415\tValentina Laura Correa\tvcorrea@fi.uba.ar\n",
    "\n",
    "*Grupo*: 14\n",
    "\n",
    "*Repositorio*: [github](https://github.com/valencorrea/7506R-2C2022-GRUPO14)\n",
    "\n",
    "*Curso*: Rodriguez\n",
    "\n",
    "*Cuatrimestre*: 2c2022\n",
    "\n",
    "Datos provistos por [properati](https://www.properati.com.ar).\n",
    "______________________________________\n"
   ],
   "metadata": {
    "collapsed": false
   }
  },
  {
   "cell_type": "code",
   "execution_count": 1,
   "outputs": [],
   "source": [
    "# pip install visualkeras"
   ],
   "metadata": {
    "collapsed": false
   }
  },
  {
   "cell_type": "code",
   "execution_count": 1,
   "outputs": [
    {
     "name": "stderr",
     "output_type": "stream",
     "text": [
      "2022-12-06 20:20:39.625197: I tensorflow/core/platform/cpu_feature_guard.cc:193] This TensorFlow binary is optimized with oneAPI Deep Neural Network Library (oneDNN) to use the following CPU instructions in performance-critical operations:  AVX2 FMA\n",
      "To enable them in other operations, rebuild TensorFlow with the appropriate compiler flags.\n",
      "2022-12-06 20:20:39.734781: W tensorflow/compiler/xla/stream_executor/platform/default/dso_loader.cc:64] Could not load dynamic library 'libcudart.so.11.0'; dlerror: libcudart.so.11.0: cannot open shared object file: No such file or directory\n",
      "2022-12-06 20:20:39.734794: I tensorflow/compiler/xla/stream_executor/cuda/cudart_stub.cc:29] Ignore above cudart dlerror if you do not have a GPU set up on your machine.\n",
      "2022-12-06 20:20:40.274353: W tensorflow/compiler/xla/stream_executor/platform/default/dso_loader.cc:64] Could not load dynamic library 'libnvinfer.so.7'; dlerror: libnvinfer.so.7: cannot open shared object file: No such file or directory\n",
      "2022-12-06 20:20:40.274406: W tensorflow/compiler/xla/stream_executor/platform/default/dso_loader.cc:64] Could not load dynamic library 'libnvinfer_plugin.so.7'; dlerror: libnvinfer_plugin.so.7: cannot open shared object file: No such file or directory\n",
      "2022-12-06 20:20:40.274412: W tensorflow/compiler/tf2tensorrt/utils/py_utils.cc:38] TF-TRT Warning: Cannot dlopen some TensorRT libraries. If you would like to use Nvidia GPU with TensorRT, please make sure the missing libraries mentioned above are installed properly.\n"
     ]
    }
   ],
   "source": [
    "#Importación de librerías\n",
    "\n",
    "import numpy as np\n",
    "import matplotlib.pyplot as plt\n",
    "import pandas as pd\n",
    "from xgboost import XGBRegressor\n",
    "from scipy.stats import zscore\n",
    "from sklearn.preprocessing import StandardScaler\n",
    "from tensorflow import keras\n",
    "import visualkeras as vk\n",
    "from keras.metrics import RootMeanSquaredError\n",
    "from keras.metrics import MeanSquaredError\n",
    "\n",
    "#Configuración de Warnings\n",
    "import warnings\n",
    "warnings.filterwarnings('ignore')\n",
    "warnings.simplefilter(action='ignore', category=FutureWarning)\n",
    "warnings.simplefilter(action='ignore', category=UserWarning)\n",
    "\n",
    "#Ejecución con Drive\n",
    "if 'google.colab' in str(get_ipython()):\n",
    "    IN_COLAB = True\n",
    "else:\n",
    "    IN_COLAB = False\n",
    "\n",
    "if IN_COLAB :\n",
    "    from google.colab import drive\n",
    "    drive.mount('/content/drive')\n",
    "    properati = pd.read_csv('/content/drive/MyDrive/📔 Organización de Datos (75.06)/TPS/TP1/1d_df_reducido.csv')\n",
    "    properati_decrip = pd.read_csv('/content/drive/MyDrive/📔 Organización de Datos (75.06)/TPS/TP1/properati_argentina_2021_decrip.csv')\n",
    "else:\n",
    "    properati=pd.read_csv('./1d_df_reducido.csv')\n",
    "    properati_decrip = pd.read_csv('properati_argentina_2021_decrip.csv')\n",
    "\n",
    "from sklearn.metrics import recall_score, accuracy_score, f1_score, precision_score\n",
    "def metricas(y_test, y_pred):\n",
    "    print(f'Accuracy: {round(accuracy_score(y_test, y_pred),2)}')\n",
    "    print(f'Precision: {round(precision_score(y_test, y_pred, average=\"macro\"),2)}')\n",
    "    print(f'Recall: {round(recall_score(y_test, y_pred, average=\"macro\"),2)}')\n",
    "    print(f'F1 Score: {round(f1_score(y_test, y_pred, average=\"macro\"),2)}')"
   ],
   "metadata": {
    "collapsed": false
   }
  },
  {
   "cell_type": "code",
   "execution_count": null,
   "outputs": [],
   "source": [],
   "metadata": {
    "collapsed": false
   }
  },
  {
   "cell_type": "markdown",
   "source": [
    "## 1.Procesamiento del Lenguaje Natural\n",
    "### 1.a Ampliación del dataset"
   ],
   "metadata": {
    "collapsed": false
   }
  },
  {
   "cell_type": "markdown",
   "source": [],
   "metadata": {
    "collapsed": false
   }
  },
  {
   "cell_type": "code",
   "execution_count": 6,
   "outputs": [
    {
     "data": {
      "text/plain": "                             id  \\\n0      1gMQ4rXcpnPs+hhvW11Jdw==   \n1      p7gmyqzdOy/+odHwH5oPyg==   \n2      ZYkS+4dCz1vUENzAREcX9w==   \n3      UL/s8zoicLDXXwhaelBgFQ==   \n4      wnz+hkCE7RVBNcqDQEtFSw==   \n...                         ...   \n74248  CIrzzz0KQkUDDmjnFINLwA==   \n74249  i5lDg1C7ZEZyETXxCbolhw==   \n74250  b97ekVIR18ZDn3ZsDXWrVQ==   \n74251  7oLMN+ZSoOP2N9Uu7Pz68A==   \n74252  Wp8gte38mWUKv35WKMVs2g==   \n\n                                    property_description  \n0      ESPECTACULAR 4 AMBIENTES, DORMITORIO SUITE, BA...  \n1      Excelente departamento, piso alto con una herm...  \n2      Corredor Responsable: Gustavo Guastello - C.U....  \n3      Corredor Responsable: GRACIELA MENAZZI CMCPDJL...  \n4      Muy lindo y funcional departamento de un ambie...  \n...                                                  ...  \n74248  MONOAMBIENTE DIVIDIDO. FRENTE. 29 M2. IMPECABL...  \n74249  Departamento. Edificio OM Palermo. Living/Come...  \n74250  Tres ambientes en Balvanera reciclado a nuevo!...  \n74251  Corredor Responsable: Micaela Perez / Lucas Fe...  \n74252  Monoambiente en 8vo piso al contrafrente, todo...  \n\n[74253 rows x 2 columns]",
      "text/html": "<div>\n<style scoped>\n    .dataframe tbody tr th:only-of-type {\n        vertical-align: middle;\n    }\n\n    .dataframe tbody tr th {\n        vertical-align: top;\n    }\n\n    .dataframe thead th {\n        text-align: right;\n    }\n</style>\n<table border=\"1\" class=\"dataframe\">\n  <thead>\n    <tr style=\"text-align: right;\">\n      <th></th>\n      <th>id</th>\n      <th>property_description</th>\n    </tr>\n  </thead>\n  <tbody>\n    <tr>\n      <th>0</th>\n      <td>1gMQ4rXcpnPs+hhvW11Jdw==</td>\n      <td>ESPECTACULAR 4 AMBIENTES, DORMITORIO SUITE, BA...</td>\n    </tr>\n    <tr>\n      <th>1</th>\n      <td>p7gmyqzdOy/+odHwH5oPyg==</td>\n      <td>Excelente departamento, piso alto con una herm...</td>\n    </tr>\n    <tr>\n      <th>2</th>\n      <td>ZYkS+4dCz1vUENzAREcX9w==</td>\n      <td>Corredor Responsable: Gustavo Guastello - C.U....</td>\n    </tr>\n    <tr>\n      <th>3</th>\n      <td>UL/s8zoicLDXXwhaelBgFQ==</td>\n      <td>Corredor Responsable: GRACIELA MENAZZI CMCPDJL...</td>\n    </tr>\n    <tr>\n      <th>4</th>\n      <td>wnz+hkCE7RVBNcqDQEtFSw==</td>\n      <td>Muy lindo y funcional departamento de un ambie...</td>\n    </tr>\n    <tr>\n      <th>...</th>\n      <td>...</td>\n      <td>...</td>\n    </tr>\n    <tr>\n      <th>74248</th>\n      <td>CIrzzz0KQkUDDmjnFINLwA==</td>\n      <td>MONOAMBIENTE DIVIDIDO. FRENTE. 29 M2. IMPECABL...</td>\n    </tr>\n    <tr>\n      <th>74249</th>\n      <td>i5lDg1C7ZEZyETXxCbolhw==</td>\n      <td>Departamento. Edificio OM Palermo. Living/Come...</td>\n    </tr>\n    <tr>\n      <th>74250</th>\n      <td>b97ekVIR18ZDn3ZsDXWrVQ==</td>\n      <td>Tres ambientes en Balvanera reciclado a nuevo!...</td>\n    </tr>\n    <tr>\n      <th>74251</th>\n      <td>7oLMN+ZSoOP2N9Uu7Pz68A==</td>\n      <td>Corredor Responsable: Micaela Perez / Lucas Fe...</td>\n    </tr>\n    <tr>\n      <th>74252</th>\n      <td>Wp8gte38mWUKv35WKMVs2g==</td>\n      <td>Monoambiente en 8vo piso al contrafrente, todo...</td>\n    </tr>\n  </tbody>\n</table>\n<p>74253 rows × 2 columns</p>\n</div>"
     },
     "execution_count": 6,
     "metadata": {},
     "output_type": "execute_result"
    }
   ],
   "source": [
    "df_decrip = pd.merge(properati, properati_decrip, on=\"id\")\n",
    "df_decrip = df_decrip[[\"id\", \"property_description\"]]\n",
    "df_decrip"
   ],
   "metadata": {
    "collapsed": false
   }
  },
  {
   "cell_type": "code",
   "execution_count": 7,
   "outputs": [
    {
     "data": {
      "text/plain": "0"
     },
     "execution_count": 7,
     "metadata": {},
     "output_type": "execute_result"
    }
   ],
   "source": [
    "df_decrip['property_description'].isna().sum()"
   ],
   "metadata": {
    "collapsed": false
   }
  },
  {
   "cell_type": "code",
   "execution_count": null,
   "outputs": [],
   "source": [
    "from collections import Counter\n",
    "Counter(\" \".join(df_decrip[\"property_description\"]).split()).most_common(100)\n"
   ],
   "metadata": {
    "collapsed": false
   }
  },
  {
   "cell_type": "code",
   "execution_count": null,
   "outputs": [],
   "source": [
    "df_decrip[\"property_description\"]"
   ],
   "metadata": {
    "collapsed": false
   }
  },
  {
   "cell_type": "code",
   "execution_count": null,
   "outputs": [],
   "source": [
    "df_decrip[\"property_description\"] = df_decrip[\"property_description\"].apply(lambda line: line.replace(\"<br>\", \" \")) # remover etiqueta de html\n",
    "df_decrip[\"property_description\"] = df_decrip[\"property_description\"].apply(lambda line: line.lower()) # Todo a minúsculas\n",
    "import unidecode\n",
    "df_decrip[\"property_description\"] = df_decrip[\"property_description\"].apply(lambda line: unidecode.unidecode(line)) # Sin tildes por posibles errores de gramática"
   ],
   "metadata": {
    "collapsed": false
   }
  },
  {
   "cell_type": "code",
   "execution_count": null,
   "outputs": [],
   "source": [
    "import re\n",
    "# df_decrip[\"property_description\"] = df_decrip[\"property_description\"].apply(lambda line: re.sub(\"[^\\\\w-]+\", \" \", line)) #Remueve simbolos menos el -\n",
    "df_decrip[\"property_description\"] = df_decrip[\"property_description\"].apply(lambda line: re.sub(r'[^\\w]', ' ', line)) # remover símbolos"
   ],
   "metadata": {
    "collapsed": false
   }
  },
  {
   "cell_type": "code",
   "execution_count": null,
   "outputs": [],
   "source": [
    "df_decrip[\"property_description\"] = df_decrip[\"property_description\"].apply(lambda line: re.sub(\"\\s\\s+\" , \" \", line)) # remover multiples espacios para facilitar lectura"
   ],
   "metadata": {
    "collapsed": false
   }
  },
  {
   "cell_type": "code",
   "execution_count": null,
   "outputs": [],
   "source": [
    "# export = df_decrip[\"property_description\"].head()\n",
    "# np.savetxt('export.txt', export.values, fmt='%s')"
   ],
   "metadata": {
    "collapsed": false
   }
  },
  {
   "cell_type": "code",
   "execution_count": null,
   "outputs": [],
   "source": [
    "df_nostopwords = df_decrip.copy()\n",
    "\n",
    "with open('stopwords') as f:\n",
    "    lines = f.read().splitlines()\n",
    "\n",
    "f = lambda x: ' '.join([item for item in x.split() if item not in lines]) #remueve stopwords\n",
    "df_nostopwords[\"property_description\"] = df_nostopwords[\"property_description\"].apply(f)\n",
    "\n",
    "df_nostopwords[\"property_description\"].head(10)\n"
   ],
   "metadata": {
    "collapsed": false
   }
  },
  {
   "cell_type": "code",
   "execution_count": null,
   "outputs": [],
   "source": [
    "from collections import Counter\n",
    "Counter(\" \".join(df_nostopwords[\"property_description\"]).split()).most_common(100)"
   ],
   "metadata": {
    "collapsed": false
   }
  },
  {
   "cell_type": "markdown",
   "source": [
    "Seleccionamos los aspectos que nos parecen relevantes, para luego buscar sus posibles valores.\n",
    "Los aspectos elegidos son: Cocina, pisos, calefaccion, expensas, lavadero, balcon,  cochera y aire."
   ],
   "metadata": {
    "collapsed": false
   }
  },
  {
   "cell_type": "code",
   "execution_count": null,
   "outputs": [],
   "source": [
    "from types import NoneType\n",
    "aspectos = ['cocina', 'pisos', 'calefaccion', 'expensas', 'lavadero', 'balcon', 'cochera', 'aire']\n",
    "\n",
    "def f(line, word):\n",
    "    format = r\"\\W*([\\w]+)\"\n",
    "    n = 2\n",
    "    x = re.search(r'{}\\W*{}{}'.format(format*n, word, format*n), line)\n",
    "    if not isinstance(x, NoneType):\n",
    "        return x.group()\n",
    "    else:\n",
    "        return \"\"\n",
    "\n",
    "for word in aspectos:\n",
    "    df_nostopwords[word] = df_nostopwords[\"property_description\"].apply(lambda line: f(line, word))"
   ],
   "metadata": {
    "collapsed": false
   }
  },
  {
   "cell_type": "code",
   "execution_count": null,
   "outputs": [],
   "source": [
    "cant_val_aspectos = 15"
   ],
   "metadata": {
    "collapsed": false
   }
  },
  {
   "cell_type": "code",
   "execution_count": null,
   "outputs": [],
   "source": [
    "Counter(\" \".join(df_nostopwords[\"cocina\"]).split()).most_common(cant_val_aspectos)"
   ],
   "metadata": {
    "collapsed": false
   }
  },
  {
   "cell_type": "markdown",
   "source": [
    "Para Cocina, posibles valores son: integrada, separada, independiente, completa"
   ],
   "metadata": {
    "collapsed": false
   }
  },
  {
   "cell_type": "code",
   "execution_count": null,
   "outputs": [],
   "source": [
    "Counter(\" \".join(df_nostopwords[\"pisos\"]).split()).most_common(cant_val_aspectos)"
   ],
   "metadata": {
    "collapsed": false
   }
  },
  {
   "cell_type": "markdown",
   "source": [
    "Para pisos, posibles valores son: porcelanato, parquet, madera, ceramicos"
   ],
   "metadata": {
    "collapsed": false
   }
  },
  {
   "cell_type": "code",
   "execution_count": null,
   "outputs": [],
   "source": [
    "Counter(\" \".join(df_nostopwords[\"calefaccion\"]).split()).most_common(cant_val_aspectos)"
   ],
   "metadata": {
    "collapsed": false
   }
  },
  {
   "cell_type": "markdown",
   "source": [
    "Para calefaccion, posibles valores son: radiadores, radiante, central, individual"
   ],
   "metadata": {
    "collapsed": false
   }
  },
  {
   "cell_type": "code",
   "execution_count": null,
   "outputs": [],
   "source": [
    "Counter(\" \".join(df_nostopwords[\"expensas\"]).split()).most_common(cant_val_aspectos)"
   ],
   "metadata": {
    "collapsed": false
   }
  },
  {
   "cell_type": "markdown",
   "source": [
    "Para expensas, posibles valores son: bajas, incluye"
   ],
   "metadata": {
    "collapsed": false
   }
  },
  {
   "cell_type": "code",
   "execution_count": null,
   "outputs": [],
   "source": [
    "Counter(\" \".join(df_nostopwords[\"lavadero\"]).split()).most_common(cant_val_aspectos)"
   ],
   "metadata": {
    "collapsed": false
   }
  },
  {
   "cell_type": "markdown",
   "source": [
    "Para lavadero, posibles valores son: independiente, separado"
   ],
   "metadata": {
    "collapsed": false
   }
  },
  {
   "cell_type": "code",
   "execution_count": null,
   "outputs": [],
   "source": [
    "Counter(\" \".join(df_nostopwords[\"balcon\"]).split()).most_common(cant_val_aspectos)"
   ],
   "metadata": {
    "collapsed": false
   }
  },
  {
   "cell_type": "markdown",
   "source": [
    "Para balcon, posibles valores son: frente, amplio, terraza, salida, corrido"
   ],
   "metadata": {
    "collapsed": false
   }
  },
  {
   "cell_type": "code",
   "execution_count": null,
   "outputs": [],
   "source": [
    "Counter(\" \".join(df_nostopwords[\"cochera\"]).split()).most_common(cant_val_aspectos*2)"
   ],
   "metadata": {
    "collapsed": false
   }
  },
  {
   "cell_type": "markdown",
   "source": [
    "Para cochera, posibles valores son: cubierta, descubierta, opcional"
   ],
   "metadata": {
    "collapsed": false
   }
  },
  {
   "cell_type": "code",
   "execution_count": null,
   "outputs": [],
   "source": [
    "Counter(\" \".join(df_nostopwords[\"aire\"]).split()).most_common(cant_val_aspectos)"
   ],
   "metadata": {
    "collapsed": false
   }
  },
  {
   "cell_type": "markdown",
   "source": [
    "Para aire, posibles valores son: split, central, acondicionado"
   ],
   "metadata": {
    "collapsed": false
   }
  },
  {
   "cell_type": "markdown",
   "source": [
    "Teniendo en cuenta los posibles valores para los aspectos considerados, decidimos descartar lavadero.\n",
    "De esta forma, nuestros aspectos serán: Cocina, pisos, calefaccion, expensas, balcon,  cochera y aire."
   ],
   "metadata": {
    "collapsed": false
   }
  },
  {
   "cell_type": "code",
   "execution_count": null,
   "outputs": [],
   "source": [
    "aspectos = ['cocina', 'pisos', 'calefaccion', 'expensas', 'balcon', 'cochera', 'aire']"
   ],
   "metadata": {
    "collapsed": false
   }
  },
  {
   "cell_type": "markdown",
   "source": [
    "A continuación creamos la variable values, que contiene los posibles valores para cada uno de los aspectos elegidos."
   ],
   "metadata": {
    "collapsed": false
   }
  },
  {
   "cell_type": "code",
   "execution_count": null,
   "outputs": [],
   "source": [
    "values_cocina = ['integrada', 'separada', 'independiente', 'completa']\n",
    "values_pisos = ['porcelanato', 'madera', 'parquet', 'ceramicos']\n",
    "values_calefaccion = ['radiadores', 'radiante', 'central', 'individual']\n",
    "values_expensas = ['bajas', 'incluye']\n",
    "values_balcon = ['frente', 'amplio', 'terraza', 'salida', 'corrido']\n",
    "values_cochera = ['opcional', 'cubierta', 'descubierta']\n",
    "values_aire = ['split', 'central', 'acondicionado']\n",
    "\n",
    "values = [values_cocina, values_pisos, values_calefaccion, values_expensas, values_balcon, values_cochera, values_aire]"
   ],
   "metadata": {
    "collapsed": false
   }
  },
  {
   "cell_type": "markdown",
   "source": [
    "En primer lugar creo un dataframe auxiliar que tenga los IDs y las columnas de aspectos"
   ],
   "metadata": {
    "collapsed": false
   }
  },
  {
   "cell_type": "code",
   "execution_count": null,
   "outputs": [],
   "source": [
    "aux_df = df_nostopwords.copy()\n",
    "aux_df.drop('property_description', inplace=True, axis=1)"
   ],
   "metadata": {
    "collapsed": false
   }
  },
  {
   "cell_type": "markdown",
   "source": [
    "Luego creamos una función a la que; pasandole un dataframe, los aspectos y el listado de valores posibles, reemplace el contenido de las columnas por los valores correspondientes"
   ],
   "metadata": {
    "collapsed": false
   }
  },
  {
   "cell_type": "code",
   "execution_count": null,
   "outputs": [],
   "source": [
    "def limpiar_values_de_aspects(df, aspects, values):\n",
    "    i = 0\n",
    "    for aspect in aspects:\n",
    "        for word in values[i]:\n",
    "            df[aspect] = df[aspect].apply(lambda line: word if word in line else line)\n",
    "        df[aspect] = df[aspect].apply(lambda line: line if len(line.split())<2 else '')\n",
    "        i = i+1"
   ],
   "metadata": {
    "collapsed": false
   }
  },
  {
   "cell_type": "markdown",
   "source": [
    "Ahora modificamos las columnas de los aspectos, para que solo queden los valores."
   ],
   "metadata": {
    "collapsed": false
   }
  },
  {
   "cell_type": "code",
   "execution_count": null,
   "outputs": [],
   "source": [
    "limpiar_values_de_aspects(aux_df, aspectos, values)\n",
    "aux_df.drop(\"lavadero\", axis=1, inplace=True)\n",
    "aux_df.head(20)"
   ],
   "metadata": {
    "collapsed": false
   }
  },
  {
   "cell_type": "markdown",
   "source": [
    "Por último hacemos el merge con el dataframe original, teniendo en cuenta los ID"
   ],
   "metadata": {
    "collapsed": false
   }
  },
  {
   "cell_type": "code",
   "execution_count": null,
   "outputs": [],
   "source": [
    "df = properati.copy()\n",
    "df = pd.merge(df,aux_df, on=\"id\")\n",
    "df"
   ],
   "metadata": {
    "collapsed": false
   }
  },
  {
   "cell_type": "markdown",
   "source": [
    "### 1.b Modelos"
   ],
   "metadata": {
    "collapsed": false
   }
  },
  {
   "cell_type": "markdown",
   "source": [
    "Primero entrenamos un modelo sin las nuevas columnas como en el TP1"
   ],
   "metadata": {
    "collapsed": false
   }
  },
  {
   "cell_type": "code",
   "execution_count": null,
   "outputs": [],
   "source": [
    "df_TP1= pd.get_dummies(properati, columns=['place_l4', 'property_type'], drop_first=True)\n",
    "train = df_TP1.sample(frac=0.8, random_state=200)\n",
    "y_train = train[\"property_price\"]\n",
    "train.drop([\"property_price\", \"id\"], inplace=True, axis=1)\n",
    "test = df_TP1.drop(train.index)\n",
    "y_test = test[\"property_price\"]\n",
    "test.drop([\"property_price\", \"id\"], inplace=True, axis=1)"
   ],
   "metadata": {
    "collapsed": false
   }
  },
  {
   "cell_type": "code",
   "execution_count": null,
   "outputs": [],
   "source": [
    "param_grid = {'min_child_weight': 5, 'max_depth': 4, 'learning_rate': 0.15, 'gamma': 0.4, 'colsample_bytree': 0.5}\n",
    "xgb_regressor = XGBRegressor(**param_grid).fit(train, y_train)\n",
    "predictions = xgb_regressor.predict(test)\n",
    "xgb_regressor.score(test, y_test)"
   ],
   "metadata": {
    "collapsed": false
   }
  },
  {
   "cell_type": "markdown",
   "source": [
    "Ahora entrenamos un modelo con las nuevas columnas.\n",
    "\n",
    "Realizamos one hot encoding para las variables cualitativas:"
   ],
   "metadata": {
    "collapsed": false
   }
  },
  {
   "cell_type": "code",
   "execution_count": null,
   "outputs": [],
   "source": [
    "df_dummies = pd.get_dummies(df, columns=['place_l4', 'property_type', 'cocina', 'pisos', 'calefaccion', 'expensas', 'balcon', 'cochera', 'aire'], drop_first=True)\n",
    "df_dummies"
   ],
   "metadata": {
    "collapsed": false
   }
  },
  {
   "cell_type": "markdown",
   "source": [
    "Separamos el dataset en train y test"
   ],
   "metadata": {
    "collapsed": false
   }
  },
  {
   "cell_type": "code",
   "execution_count": null,
   "outputs": [],
   "source": [
    "\n",
    "train = df_dummies.sample(frac=0.8, random_state=200)\n",
    "y_train = train[\"property_price\"]\n",
    "train.drop([\"property_price\", \"id\"], inplace=True, axis=1)\n",
    "test = df_dummies.drop(train.index)\n",
    "y_test = test[\"property_price\"]\n",
    "test.drop([\"property_price\", \"id\"], inplace=True, axis=1)\n",
    "# train\n",
    "y_train"
   ],
   "metadata": {
    "collapsed": false
   }
  },
  {
   "cell_type": "code",
   "execution_count": null,
   "outputs": [],
   "source": [
    "from xgboost import XGBRegressor\n",
    "param_grid = {'min_child_weight': 5, 'max_depth': 4, 'learning_rate': 0.15, 'gamma': 0.4, 'colsample_bytree': 0.5}\n",
    "xgb_regressor = XGBRegressor(**param_grid).fit(train, y_train)"
   ],
   "metadata": {
    "collapsed": false
   }
  },
  {
   "cell_type": "code",
   "execution_count": null,
   "outputs": [],
   "source": [
    "predictions = xgb_regressor.predict(test)\n",
    "predictions"
   ],
   "metadata": {
    "collapsed": false
   }
  },
  {
   "cell_type": "code",
   "execution_count": null,
   "outputs": [],
   "source": [
    "xgb_regressor.score(test,y_test)"
   ],
   "metadata": {
    "collapsed": false
   }
  },
  {
   "cell_type": "markdown",
   "source": [
    "Vemos que mejora un poco el score con las nuevas columnas."
   ],
   "metadata": {
    "collapsed": false
   }
  },
  {
   "cell_type": "markdown",
   "source": [
    "Ahora optimizamos los hiperparámetros con el nuevo dataset ampliado:"
   ],
   "metadata": {
    "collapsed": false
   }
  },
  {
   "cell_type": "code",
   "execution_count": null,
   "outputs": [],
   "source": [
    "import sklearn as sk\n",
    "from sklearn.metrics import make_scorer\n",
    "from sklearn.model_selection import RandomizedSearchCV, StratifiedKFold\n",
    "\n",
    "params_grid = {'learning_rate': [0.05, 0.10, 0.15, 0.20, 0.30],\n",
    "               'max_depth': [3, 4, 5, 6, 8],\n",
    "               'min_child_weight': [1, 3, 5, 7],\n",
    "               'gamma': [0.1, 0.2 , 0.3, 0.4],\n",
    "               'colsample_bytree' : [0.3, 0.4, 0.5 , 0.7]}\n",
    "\n",
    "randomCV = RandomizedSearchCV(estimator = XGBRegressor(),\n",
    "                              param_distributions = params_grid,\n",
    "                              scoring = make_scorer(accuracy_score),\n",
    "                              cv = StratifiedKFold(n_splits = 5),\n",
    "                              n_iter = 5)\n",
    "\n",
    "randomCV.fit(train, y_train)"
   ],
   "metadata": {
    "collapsed": false
   }
  },
  {
   "cell_type": "code",
   "execution_count": null,
   "outputs": [],
   "source": [
    "y_pred = randomCV.predict(test)\n",
    "metricas(y_test, y_pred)"
   ],
   "metadata": {
    "collapsed": false
   }
  },
  {
   "cell_type": "code",
   "execution_count": null,
   "outputs": [],
   "source": [
    "randomCV.best_params_"
   ],
   "metadata": {
    "collapsed": false
   }
  },
  {
   "cell_type": "markdown",
   "source": [
    "Observamos que el score no sufrió cambios drásticos"
   ],
   "metadata": {
    "collapsed": false
   }
  },
  {
   "cell_type": "markdown",
   "source": [
    "## 2.Redes Neuronales\n",
    "### 2.a Regresión"
   ],
   "metadata": {
    "collapsed": false
   }
  },
  {
   "cell_type": "markdown",
   "source": [
    "Tomamos el dataset reducido del TP1 como punto de partida, luego aplicamos One Hot Encoding y separamos en train y test.\n",
    "Adicionalmente dropeamos la columna 'property_price' en ambos datasets."
   ],
   "metadata": {
    "collapsed": false
   }
  },
  {
   "cell_type": "code",
   "execution_count": 10,
   "outputs": [],
   "source": [
    "df_trabajo = properati.copy()\n",
    "df_trabajo = pd.get_dummies(df_trabajo, columns=['place_l4', 'property_type'], drop_first=False)\n",
    "\n",
    "train = df_trabajo.sample(frac=0.8, random_state=200)\n",
    "y_train = train[\"property_price\"]\n",
    "train.drop([\"property_price\", \"id\"], inplace=True, axis=1)\n",
    "\n",
    "test = df_trabajo.drop(train.index)\n",
    "y_test = test[\"property_price\"]\n",
    "test.drop([\"property_price\", \"id\"], inplace=True, axis=1)"
   ],
   "metadata": {
    "collapsed": false
   }
  },
  {
   "cell_type": "markdown",
   "source": [
    "Normalizamos las entradas con StandardScaler"
   ],
   "metadata": {
    "collapsed": false
   }
  },
  {
   "cell_type": "code",
   "execution_count": 11,
   "outputs": [
    {
     "data": {
      "text/plain": "       start_date  end_date   latitud  longitud  property_rooms  \\\n25158   -0.613612 -0.186383 -1.386003  0.169489       -0.610560   \n23761   -0.323517 -0.800681 -0.260318  0.997661        0.987170   \n442      0.759506 -0.107119  0.112234 -2.097538        0.987170   \n67780   -0.777999 -0.800681  0.187259  1.077535       -0.610560   \n58586   -1.000406 -1.203608 -0.553215 -2.398597        0.987170   \n...           ...       ...       ...       ...             ...   \n45547    0.150306 -0.391149  0.709401 -1.721388        0.188305   \n2931    -0.748990 -0.714812 -0.300448 -0.115440        0.987170   \n49368    0.875544  0.216543 -1.175561 -0.481700       -1.409425   \n37511    0.517760  0.758182  1.101048 -0.505068        0.987170   \n62855    0.043937 -0.008039 -0.353394  0.798001        0.188305   \n\n       property_surface_total  place_l4_Abasto  place_l4_Agronomía  \\\n25158               -0.641609                0                   0   \n23761               -0.074216                0                   0   \n442                 -0.058881                0                   0   \n67780               -0.411585                0                   0   \n58586                0.094469                0                   0   \n...                       ...              ...                 ...   \n45547                0.324493                0                   0   \n2931                -0.028211                0                   0   \n49368               -0.810294                0                   0   \n37511                0.646527                0                   0   \n62855                0.232484                0                   0   \n\n       place_l4_Almagro  place_l4_Balvanera  ...  place_l4_Villa Pueyrredón  \\\n25158                 0                   0  ...                          0   \n23761                 0                   1  ...                          0   \n442                   0                   0  ...                          0   \n67780                 0                   0  ...                          0   \n58586                 0                   0  ...                          0   \n...                 ...                 ...  ...                        ...   \n45547                 0                   0  ...                          1   \n2931                  0                   0  ...                          0   \n49368                 0                   0  ...                          0   \n37511                 0                   0  ...                          0   \n62855                 0                   1  ...                          0   \n\n       place_l4_Villa Real  place_l4_Villa Riachuelo  \\\n25158                    0                         0   \n23761                    0                         0   \n442                      0                         0   \n67780                    0                         0   \n58586                    0                         0   \n...                    ...                       ...   \n45547                    0                         0   \n2931                     0                         0   \n49368                    0                         0   \n37511                    0                         0   \n62855                    0                         0   \n\n       place_l4_Villa Santa Rita  place_l4_Villa Soldati  \\\n25158                          0                       0   \n23761                          0                       0   \n442                            0                       0   \n67780                          0                       0   \n58586                          0                       0   \n...                          ...                     ...   \n45547                          0                       0   \n2931                           0                       0   \n49368                          0                       0   \n37511                          0                       0   \n62855                          0                       0   \n\n       place_l4_Villa Urquiza  place_l4_Villa del Parque  property_type_Casa  \\\n25158                       0                          0                   0   \n23761                       0                          0                   0   \n442                         0                          0                   0   \n67780                       0                          0                   0   \n58586                       0                          0                   1   \n...                       ...                        ...                 ...   \n45547                       0                          0                   0   \n2931                        0                          0                   0   \n49368                       0                          0                   0   \n37511                       0                          0                   0   \n62855                       0                          0                   0   \n\n       property_type_Departamento  property_type_PH  \n25158                           1                 0  \n23761                           1                 0  \n442                             1                 0  \n67780                           0                 1  \n58586                           0                 0  \n...                           ...               ...  \n45547                           1                 0  \n2931                            1                 0  \n49368                           1                 0  \n37511                           1                 0  \n62855                           1                 0  \n\n[59402 rows x 71 columns]",
      "text/html": "<div>\n<style scoped>\n    .dataframe tbody tr th:only-of-type {\n        vertical-align: middle;\n    }\n\n    .dataframe tbody tr th {\n        vertical-align: top;\n    }\n\n    .dataframe thead th {\n        text-align: right;\n    }\n</style>\n<table border=\"1\" class=\"dataframe\">\n  <thead>\n    <tr style=\"text-align: right;\">\n      <th></th>\n      <th>start_date</th>\n      <th>end_date</th>\n      <th>latitud</th>\n      <th>longitud</th>\n      <th>property_rooms</th>\n      <th>property_surface_total</th>\n      <th>place_l4_Abasto</th>\n      <th>place_l4_Agronomía</th>\n      <th>place_l4_Almagro</th>\n      <th>place_l4_Balvanera</th>\n      <th>...</th>\n      <th>place_l4_Villa Pueyrredón</th>\n      <th>place_l4_Villa Real</th>\n      <th>place_l4_Villa Riachuelo</th>\n      <th>place_l4_Villa Santa Rita</th>\n      <th>place_l4_Villa Soldati</th>\n      <th>place_l4_Villa Urquiza</th>\n      <th>place_l4_Villa del Parque</th>\n      <th>property_type_Casa</th>\n      <th>property_type_Departamento</th>\n      <th>property_type_PH</th>\n    </tr>\n  </thead>\n  <tbody>\n    <tr>\n      <th>25158</th>\n      <td>-0.613612</td>\n      <td>-0.186383</td>\n      <td>-1.386003</td>\n      <td>0.169489</td>\n      <td>-0.610560</td>\n      <td>-0.641609</td>\n      <td>0</td>\n      <td>0</td>\n      <td>0</td>\n      <td>0</td>\n      <td>...</td>\n      <td>0</td>\n      <td>0</td>\n      <td>0</td>\n      <td>0</td>\n      <td>0</td>\n      <td>0</td>\n      <td>0</td>\n      <td>0</td>\n      <td>1</td>\n      <td>0</td>\n    </tr>\n    <tr>\n      <th>23761</th>\n      <td>-0.323517</td>\n      <td>-0.800681</td>\n      <td>-0.260318</td>\n      <td>0.997661</td>\n      <td>0.987170</td>\n      <td>-0.074216</td>\n      <td>0</td>\n      <td>0</td>\n      <td>0</td>\n      <td>1</td>\n      <td>...</td>\n      <td>0</td>\n      <td>0</td>\n      <td>0</td>\n      <td>0</td>\n      <td>0</td>\n      <td>0</td>\n      <td>0</td>\n      <td>0</td>\n      <td>1</td>\n      <td>0</td>\n    </tr>\n    <tr>\n      <th>442</th>\n      <td>0.759506</td>\n      <td>-0.107119</td>\n      <td>0.112234</td>\n      <td>-2.097538</td>\n      <td>0.987170</td>\n      <td>-0.058881</td>\n      <td>0</td>\n      <td>0</td>\n      <td>0</td>\n      <td>0</td>\n      <td>...</td>\n      <td>0</td>\n      <td>0</td>\n      <td>0</td>\n      <td>0</td>\n      <td>0</td>\n      <td>0</td>\n      <td>0</td>\n      <td>0</td>\n      <td>1</td>\n      <td>0</td>\n    </tr>\n    <tr>\n      <th>67780</th>\n      <td>-0.777999</td>\n      <td>-0.800681</td>\n      <td>0.187259</td>\n      <td>1.077535</td>\n      <td>-0.610560</td>\n      <td>-0.411585</td>\n      <td>0</td>\n      <td>0</td>\n      <td>0</td>\n      <td>0</td>\n      <td>...</td>\n      <td>0</td>\n      <td>0</td>\n      <td>0</td>\n      <td>0</td>\n      <td>0</td>\n      <td>0</td>\n      <td>0</td>\n      <td>0</td>\n      <td>0</td>\n      <td>1</td>\n    </tr>\n    <tr>\n      <th>58586</th>\n      <td>-1.000406</td>\n      <td>-1.203608</td>\n      <td>-0.553215</td>\n      <td>-2.398597</td>\n      <td>0.987170</td>\n      <td>0.094469</td>\n      <td>0</td>\n      <td>0</td>\n      <td>0</td>\n      <td>0</td>\n      <td>...</td>\n      <td>0</td>\n      <td>0</td>\n      <td>0</td>\n      <td>0</td>\n      <td>0</td>\n      <td>0</td>\n      <td>0</td>\n      <td>1</td>\n      <td>0</td>\n      <td>0</td>\n    </tr>\n    <tr>\n      <th>...</th>\n      <td>...</td>\n      <td>...</td>\n      <td>...</td>\n      <td>...</td>\n      <td>...</td>\n      <td>...</td>\n      <td>...</td>\n      <td>...</td>\n      <td>...</td>\n      <td>...</td>\n      <td>...</td>\n      <td>...</td>\n      <td>...</td>\n      <td>...</td>\n      <td>...</td>\n      <td>...</td>\n      <td>...</td>\n      <td>...</td>\n      <td>...</td>\n      <td>...</td>\n      <td>...</td>\n    </tr>\n    <tr>\n      <th>45547</th>\n      <td>0.150306</td>\n      <td>-0.391149</td>\n      <td>0.709401</td>\n      <td>-1.721388</td>\n      <td>0.188305</td>\n      <td>0.324493</td>\n      <td>0</td>\n      <td>0</td>\n      <td>0</td>\n      <td>0</td>\n      <td>...</td>\n      <td>1</td>\n      <td>0</td>\n      <td>0</td>\n      <td>0</td>\n      <td>0</td>\n      <td>0</td>\n      <td>0</td>\n      <td>0</td>\n      <td>1</td>\n      <td>0</td>\n    </tr>\n    <tr>\n      <th>2931</th>\n      <td>-0.748990</td>\n      <td>-0.714812</td>\n      <td>-0.300448</td>\n      <td>-0.115440</td>\n      <td>0.987170</td>\n      <td>-0.028211</td>\n      <td>0</td>\n      <td>0</td>\n      <td>0</td>\n      <td>0</td>\n      <td>...</td>\n      <td>0</td>\n      <td>0</td>\n      <td>0</td>\n      <td>0</td>\n      <td>0</td>\n      <td>0</td>\n      <td>0</td>\n      <td>0</td>\n      <td>1</td>\n      <td>0</td>\n    </tr>\n    <tr>\n      <th>49368</th>\n      <td>0.875544</td>\n      <td>0.216543</td>\n      <td>-1.175561</td>\n      <td>-0.481700</td>\n      <td>-1.409425</td>\n      <td>-0.810294</td>\n      <td>0</td>\n      <td>0</td>\n      <td>0</td>\n      <td>0</td>\n      <td>...</td>\n      <td>0</td>\n      <td>0</td>\n      <td>0</td>\n      <td>0</td>\n      <td>0</td>\n      <td>0</td>\n      <td>0</td>\n      <td>0</td>\n      <td>1</td>\n      <td>0</td>\n    </tr>\n    <tr>\n      <th>37511</th>\n      <td>0.517760</td>\n      <td>0.758182</td>\n      <td>1.101048</td>\n      <td>-0.505068</td>\n      <td>0.987170</td>\n      <td>0.646527</td>\n      <td>0</td>\n      <td>0</td>\n      <td>0</td>\n      <td>0</td>\n      <td>...</td>\n      <td>0</td>\n      <td>0</td>\n      <td>0</td>\n      <td>0</td>\n      <td>0</td>\n      <td>0</td>\n      <td>0</td>\n      <td>0</td>\n      <td>1</td>\n      <td>0</td>\n    </tr>\n    <tr>\n      <th>62855</th>\n      <td>0.043937</td>\n      <td>-0.008039</td>\n      <td>-0.353394</td>\n      <td>0.798001</td>\n      <td>0.188305</td>\n      <td>0.232484</td>\n      <td>0</td>\n      <td>0</td>\n      <td>0</td>\n      <td>1</td>\n      <td>...</td>\n      <td>0</td>\n      <td>0</td>\n      <td>0</td>\n      <td>0</td>\n      <td>0</td>\n      <td>0</td>\n      <td>0</td>\n      <td>0</td>\n      <td>1</td>\n      <td>0</td>\n    </tr>\n  </tbody>\n</table>\n<p>59402 rows × 71 columns</p>\n</div>"
     },
     "execution_count": 11,
     "metadata": {},
     "output_type": "execute_result"
    }
   ],
   "source": [
    "sscaler = StandardScaler()\n",
    "\n",
    "train['start_date'] = sscaler.fit_transform(pd.DataFrame(train['start_date']))\n",
    "test['start_date'] = sscaler.transform(pd.DataFrame(test['start_date']))\n",
    "\n",
    "train['end_date'] = sscaler.fit_transform(pd.DataFrame(train['end_date']))\n",
    "test['end_date'] = sscaler.transform(pd.DataFrame(test['end_date']))\n",
    "\n",
    "train['latitud'] = sscaler.fit_transform(pd.DataFrame(train['latitud']))\n",
    "test['latitud'] = sscaler.transform(pd.DataFrame(test['latitud']))\n",
    "\n",
    "train['longitud'] = sscaler.fit_transform(pd.DataFrame(train['longitud']))\n",
    "test['longitud'] = sscaler.transform(pd.DataFrame(test['longitud']))\n",
    "\n",
    "train['property_rooms'] = sscaler.fit_transform(pd.DataFrame(train['property_rooms']))\n",
    "test['property_rooms'] = sscaler.transform(pd.DataFrame(test['property_rooms']))\n",
    "\n",
    "train['property_surface_total'] = sscaler.fit_transform(pd.DataFrame(train['property_surface_total']))\n",
    "test['property_surface_total'] = sscaler.transform(pd.DataFrame(test['property_surface_total']))\n",
    "\n",
    "train"
   ],
   "metadata": {
    "collapsed": false
   }
  },
  {
   "cell_type": "markdown",
   "source": [
    "Creamos el modelo con 2 capas ocultas, entrada de igual cantidad de columnas que el dataset, y salida de 1 parámetro.\n",
    "Luego lo compilamos utilizando RMSprop como optimizador, lo entrenamos con el dataset de train, y predecimos con el de test."
   ],
   "metadata": {
    "collapsed": false
   }
  },
  {
   "cell_type": "code",
   "execution_count": 12,
   "outputs": [
    {
     "name": "stdout",
     "output_type": "stream",
     "text": [
      "Model: \"sequential_1\"\n",
      "_________________________________________________________________\n",
      " Layer (type)                Output Shape              Param #   \n",
      "=================================================================\n",
      " dense_3 (Dense)             (None, 71)                5112      \n",
      "                                                                 \n",
      " dense_4 (Dense)             (None, 30)                2160      \n",
      "                                                                 \n",
      " dense_5 (Dense)             (None, 1)                 31        \n",
      "                                                                 \n",
      "=================================================================\n",
      "Total params: 7,303\n",
      "Trainable params: 7,303\n",
      "Non-trainable params: 0\n",
      "_________________________________________________________________\n"
     ]
    }
   ],
   "source": [
    "d_in=train.shape[1]\n",
    "\n",
    "modelo = keras.Sequential([\n",
    "    keras.layers.Dense(d_in, input_shape=(d_in,), activation='relu'),\n",
    "    keras.layers.Dense(30, activation='relu'),\n",
    "    keras.layers.Dense(1)\n",
    "])\n",
    "\n",
    "modelo.summary()"
   ],
   "metadata": {
    "collapsed": false
   }
  },
  {
   "cell_type": "code",
   "execution_count": 13,
   "outputs": [
    {
     "name": "stdout",
     "output_type": "stream",
     "text": [
      "465/465 [==============================] - 0s 564us/step\n"
     ]
    }
   ],
   "source": [
    "modelo.compile(\n",
    "    optimizer=keras.optimizers.RMSprop(learning_rate=0.001),\n",
    "    loss='mse',\n",
    "    metrics=[RootMeanSquaredError()]\n",
    ")\n",
    "\n",
    "cant_epochs = 100\n",
    "historia = modelo.fit(train, y_train, epochs=cant_epochs, verbose=False, use_multiprocessing=True, workers=4)\n",
    "y_pred = modelo.predict(test)"
   ],
   "metadata": {
    "collapsed": false
   }
  },
  {
   "cell_type": "code",
   "execution_count": 16,
   "outputs": [
    {
     "data": {
      "text/plain": "<matplotlib.legend.Legend at 0x7f31f9b9fcd0>"
     },
     "execution_count": 16,
     "metadata": {},
     "output_type": "execute_result"
    },
    {
     "data": {
      "text/plain": "<Figure size 640x480 with 1 Axes>",
      "image/png": "[encoded data removed]"
     },
     "metadata": {},
     "output_type": "display_data"
    }
   ],
   "source": [
    "epochs = range(cant_epochs)\n",
    "plt.plot(epochs, historia.history['loss'], color='orange', label='RMSE')\n",
    "plt.xlabel(\"epochs\")\n",
    "plt.ylabel(\"RMSE\")\n",
    "plt.title('Error cuadrático medio por cantidad de épocas')\n",
    "plt.legend()"
   ],
   "metadata": {
    "collapsed": false
   }
  },
  {
   "cell_type": "markdown",
   "source": [],
   "metadata": {
    "collapsed": false
   }
  },
  {
   "cell_type": "code",
   "execution_count": 58,
   "outputs": [
    {
     "ename": "ValueError",
     "evalue": "in user code:\n\n    File \"/usr/local/lib/python3.10/dist-packages/keras/engine/training.py\", line 1820, in test_function  *\n        return step_function(self, iterator)\n    File \"/usr/local/lib/python3.10/dist-packages/keras/engine/training.py\", line 1804, in step_function  **\n        outputs = model.distribute_strategy.run(run_step, args=(data,))\n    File \"/usr/local/lib/python3.10/dist-packages/keras/engine/training.py\", line 1792, in run_step  **\n        outputs = model.test_step(data)\n    File \"/usr/local/lib/python3.10/dist-packages/keras/engine/training.py\", line 1758, in test_step\n        self.compute_loss(x, y, y_pred, sample_weight)\n    File \"/usr/local/lib/python3.10/dist-packages/keras/engine/training.py\", line 1082, in compute_loss\n        return self.compiled_loss(\n    File \"/usr/local/lib/python3.10/dist-packages/keras/engine/compile_utils.py\", line 265, in __call__\n        loss_value = loss_obj(y_t, y_p, sample_weight=sw)\n    File \"/usr/local/lib/python3.10/dist-packages/keras/losses.py\", line 152, in __call__\n        losses = call_fn(y_true, y_pred)\n    File \"/usr/local/lib/python3.10/dist-packages/keras/losses.py\", line 284, in call  **\n        return ag_fn(y_true, y_pred, **self._fn_kwargs)\n    File \"/usr/local/lib/python3.10/dist-packages/keras/losses.py\", line 2004, in categorical_crossentropy\n        return backend.categorical_crossentropy(\n    File \"/usr/local/lib/python3.10/dist-packages/keras/backend.py\", line 5532, in categorical_crossentropy\n        target.shape.assert_is_compatible_with(output.shape)\n\n    ValueError: Shapes (None, 1) and (None, 3) are incompatible\n",
     "output_type": "error",
     "traceback": [
      "\u001B[0;31m---------------------------------------------------------------------------\u001B[0m",
      "\u001B[0;31mValueError\u001B[0m                                Traceback (most recent call last)",
      "Cell \u001B[0;32mIn [58], line 1\u001B[0m\n\u001B[0;32m----> 1\u001B[0m res \u001B[38;5;241m=\u001B[39m modelo\u001B[38;5;241m.\u001B[39mevaluate(test, y_test)\n\u001B[1;32m      2\u001B[0m error \u001B[38;5;241m=\u001B[39m np\u001B[38;5;241m.\u001B[39mabsolute(np\u001B[38;5;241m.\u001B[39mdiagonal(np\u001B[38;5;241m.\u001B[39msubtract(y_test\u001B[38;5;241m.\u001B[39mvalues, y_pred)))\n\u001B[1;32m      3\u001B[0m error_porcentual \u001B[38;5;241m=\u001B[39m error \u001B[38;5;241m/\u001B[39m y_test\u001B[38;5;241m.\u001B[39mvalues\n",
      "File \u001B[0;32m/usr/local/lib/python3.10/dist-packages/keras/utils/traceback_utils.py:70\u001B[0m, in \u001B[0;36mfilter_traceback.<locals>.error_handler\u001B[0;34m(*args, **kwargs)\u001B[0m\n\u001B[1;32m     67\u001B[0m     filtered_tb \u001B[38;5;241m=\u001B[39m _process_traceback_frames(e\u001B[38;5;241m.\u001B[39m__traceback__)\n\u001B[1;32m     68\u001B[0m     \u001B[38;5;66;03m# To get the full stack trace, call:\u001B[39;00m\n\u001B[1;32m     69\u001B[0m     \u001B[38;5;66;03m# `tf.debugging.disable_traceback_filtering()`\u001B[39;00m\n\u001B[0;32m---> 70\u001B[0m     \u001B[38;5;28;01mraise\u001B[39;00m e\u001B[38;5;241m.\u001B[39mwith_traceback(filtered_tb) \u001B[38;5;28;01mfrom\u001B[39;00m \u001B[38;5;28mNone\u001B[39m\n\u001B[1;32m     71\u001B[0m \u001B[38;5;28;01mfinally\u001B[39;00m:\n\u001B[1;32m     72\u001B[0m     \u001B[38;5;28;01mdel\u001B[39;00m filtered_tb\n",
      "File \u001B[0;32m/tmp/__autograph_generated_files5snukp_.py:15\u001B[0m, in \u001B[0;36mouter_factory.<locals>.inner_factory.<locals>.tf__test_function\u001B[0;34m(iterator)\u001B[0m\n\u001B[1;32m     13\u001B[0m \u001B[38;5;28;01mtry\u001B[39;00m:\n\u001B[1;32m     14\u001B[0m     do_return \u001B[38;5;241m=\u001B[39m \u001B[38;5;28;01mTrue\u001B[39;00m\n\u001B[0;32m---> 15\u001B[0m     retval_ \u001B[38;5;241m=\u001B[39m ag__\u001B[38;5;241m.\u001B[39mconverted_call(ag__\u001B[38;5;241m.\u001B[39mld(step_function), (ag__\u001B[38;5;241m.\u001B[39mld(\u001B[38;5;28mself\u001B[39m), ag__\u001B[38;5;241m.\u001B[39mld(iterator)), \u001B[38;5;28;01mNone\u001B[39;00m, fscope)\n\u001B[1;32m     16\u001B[0m \u001B[38;5;28;01mexcept\u001B[39;00m:\n\u001B[1;32m     17\u001B[0m     do_return \u001B[38;5;241m=\u001B[39m \u001B[38;5;28;01mFalse\u001B[39;00m\n",
      "\u001B[0;31mValueError\u001B[0m: in user code:\n\n    File \"/usr/local/lib/python3.10/dist-packages/keras/engine/training.py\", line 1820, in test_function  *\n        return step_function(self, iterator)\n    File \"/usr/local/lib/python3.10/dist-packages/keras/engine/training.py\", line 1804, in step_function  **\n        outputs = model.distribute_strategy.run(run_step, args=(data,))\n    File \"/usr/local/lib/python3.10/dist-packages/keras/engine/training.py\", line 1792, in run_step  **\n        outputs = model.test_step(data)\n    File \"/usr/local/lib/python3.10/dist-packages/keras/engine/training.py\", line 1758, in test_step\n        self.compute_loss(x, y, y_pred, sample_weight)\n    File \"/usr/local/lib/python3.10/dist-packages/keras/engine/training.py\", line 1082, in compute_loss\n        return self.compiled_loss(\n    File \"/usr/local/lib/python3.10/dist-packages/keras/engine/compile_utils.py\", line 265, in __call__\n        loss_value = loss_obj(y_t, y_p, sample_weight=sw)\n    File \"/usr/local/lib/python3.10/dist-packages/keras/losses.py\", line 152, in __call__\n        losses = call_fn(y_true, y_pred)\n    File \"/usr/local/lib/python3.10/dist-packages/keras/losses.py\", line 284, in call  **\n        return ag_fn(y_true, y_pred, **self._fn_kwargs)\n    File \"/usr/local/lib/python3.10/dist-packages/keras/losses.py\", line 2004, in categorical_crossentropy\n        return backend.categorical_crossentropy(\n    File \"/usr/local/lib/python3.10/dist-packages/keras/backend.py\", line 5532, in categorical_crossentropy\n        target.shape.assert_is_compatible_with(output.shape)\n\n    ValueError: Shapes (None, 1) and (None, 3) are incompatible\n"
     ]
    }
   ],
   "source": [
    "res = modelo.evaluate(test, y_test)\n",
    "error = np.absolute(np.diagonal(np.subtract(y_test.values, y_pred)))\n",
    "error_porcentual = error / y_test.values\n",
    "print('El error relativo porcentual promedio es:', round(np.mean(error_porcentual),2), 'y su mediana es:', round(np.median(error_porcentual),2))\n",
    "print('El error RMS es:', round(res[1],2))"
   ],
   "metadata": {
    "collapsed": false
   }
  },
  {
   "cell_type": "markdown",
   "source": [
    "### 2.b Clasificación"
   ],
   "metadata": {
    "collapsed": false
   }
  },
  {
   "cell_type": "markdown",
   "source": [
    "Generamos la variable target tipo_precio como en el TP1, aplicamos one hot encoding, dividimos en train - test y normalizamos mediante z-score:"
   ],
   "metadata": {
    "collapsed": false
   }
  },
  {
   "cell_type": "code",
   "execution_count": 47,
   "outputs": [],
   "source": [
    "df_trabajo = properati.copy()\n",
    "df_trabajo[\"property_m2price\"] = df_trabajo[\"property_price\"] / df_trabajo[\"property_surface_total\"]\n",
    "df_trabajo.sort_values(by=[\"property_m2price\"], inplace=True)\n",
    "\n",
    "df_trabajo['tipo_precio_3'] = pd.qcut(x=df_trabajo.loc[df_trabajo['property_type'] == 'Departamento']['property_m2price'], q=4, labels=['bajo', 'medio', 'medio2', 'alto']).replace(\"medio2\",\"medio\")\n",
    "df_trabajo['tipo_precio_3'].fillna(pd.qcut(x=df_trabajo.loc[df_trabajo['property_type'] == 'Casa']['property_m2price'], q=4, labels=['bajo', 'medio', 'medio2', 'alto']).replace(\"medio2\",\"medio\"), inplace=True)\n",
    "df_trabajo['tipo_precio_3'].fillna(pd.qcut(x=df_trabajo.loc[df_trabajo['property_type'] == 'PH']['property_m2price'], q=4, labels=['bajo', 'medio', 'medio2', 'alto']).replace(\"medio2\",\"medio\"), inplace=True)"
   ],
   "metadata": {
    "collapsed": false
   }
  },
  {
   "cell_type": "code",
   "execution_count": 48,
   "outputs": [],
   "source": [
    "df_trabajo = pd.get_dummies(df_trabajo, columns=['place_l4', 'property_type'], drop_first=False)\n",
    "\n",
    "\n",
    "train = df_trabajo.sample(frac=0.8, random_state=200)\n",
    "y_train = train[\"tipo_precio_3\"]\n",
    "train.drop([\"property_price\", \"id\", \"tipo_precio_3\", \"property_m2price\"], inplace=True, axis=1)\n",
    "\n",
    "train[['start_date', 'end_date', 'latitud', 'longitud', 'property_rooms', 'property_surface_total']] = zscore(train[['start_date', 'end_date', 'latitud', 'longitud', 'property_rooms', 'property_surface_total']], axis=1)\n",
    "\n",
    "test = df_trabajo.drop(train.index)\n",
    "y_test = test[\"tipo_precio_3\"]\n",
    "test.drop([\"property_price\", \"id\", \"tipo_precio_3\", \"property_m2price\"], inplace=True, axis=1)\n",
    "\n",
    "test[['start_date', 'end_date', 'latitud', 'longitud', 'property_rooms', 'property_surface_total']] = zscore(test[['start_date', 'end_date', 'latitud', 'longitud', 'property_rooms', 'property_surface_total']], axis=1)"
   ],
   "metadata": {
    "collapsed": false
   }
  },
  {
   "cell_type": "markdown",
   "source": [
    "Modelamos con 1 capa oculta de 50 unidades, que recibe como entrada las columnas del dataset. La salida tiene 3 unidades."
   ],
   "metadata": {
    "collapsed": false
   }
  },
  {
   "cell_type": "code",
   "execution_count": 50,
   "outputs": [
    {
     "name": "stdout",
     "output_type": "stream",
     "text": [
      "Model: \"sequential_5\"\n",
      "_________________________________________________________________\n",
      " Layer (type)                Output Shape              Param #   \n",
      "=================================================================\n",
      " dense_12 (Dense)            (None, 50)                3600      \n",
      "                                                                 \n",
      " dense_13 (Dense)            (None, 3)                 153       \n",
      "                                                                 \n",
      "=================================================================\n",
      "Total params: 3,753\n",
      "Trainable params: 3,753\n",
      "Non-trainable params: 0\n",
      "_________________________________________________________________\n"
     ]
    }
   ],
   "source": [
    "d_in=train.shape[1]\n",
    "modelo = keras.Sequential([\n",
    "    keras.layers.Dense(50, input_shape=(d_in,)),\n",
    "    keras.layers.Dense(3, activation='softmax')\n",
    "])\n",
    "\n",
    "modelo.summary()"
   ],
   "metadata": {
    "collapsed": false
   }
  },
  {
   "cell_type": "markdown",
   "source": [
    "Aplicamos one hot encoding a y_train, para que tenga 3 columnas al igual que la salida del modelo."
   ],
   "metadata": {
    "collapsed": false
   }
  },
  {
   "cell_type": "code",
   "execution_count": 51,
   "outputs": [
    {
     "data": {
      "text/plain": "       bajo  medio  alto\n52856     0      1     0\n46654     0      1     0\n37932     1      0     0\n9614      0      0     1\n630       0      0     1\n...     ...    ...   ...\n36468     0      1     0\n46494     1      0     0\n9659      0      1     0\n56568     0      1     0\n58068     0      0     1\n\n[59402 rows x 3 columns]",
      "text/html": "<div>\n<style scoped>\n    .dataframe tbody tr th:only-of-type {\n        vertical-align: middle;\n    }\n\n    .dataframe tbody tr th {\n        vertical-align: top;\n    }\n\n    .dataframe thead th {\n        text-align: right;\n    }\n</style>\n<table border=\"1\" class=\"dataframe\">\n  <thead>\n    <tr style=\"text-align: right;\">\n      <th></th>\n      <th>bajo</th>\n      <th>medio</th>\n      <th>alto</th>\n    </tr>\n  </thead>\n  <tbody>\n    <tr>\n      <th>52856</th>\n      <td>0</td>\n      <td>1</td>\n      <td>0</td>\n    </tr>\n    <tr>\n      <th>46654</th>\n      <td>0</td>\n      <td>1</td>\n      <td>0</td>\n    </tr>\n    <tr>\n      <th>37932</th>\n      <td>1</td>\n      <td>0</td>\n      <td>0</td>\n    </tr>\n    <tr>\n      <th>9614</th>\n      <td>0</td>\n      <td>0</td>\n      <td>1</td>\n    </tr>\n    <tr>\n      <th>630</th>\n      <td>0</td>\n      <td>0</td>\n      <td>1</td>\n    </tr>\n    <tr>\n      <th>...</th>\n      <td>...</td>\n      <td>...</td>\n      <td>...</td>\n    </tr>\n    <tr>\n      <th>36468</th>\n      <td>0</td>\n      <td>1</td>\n      <td>0</td>\n    </tr>\n    <tr>\n      <th>46494</th>\n      <td>1</td>\n      <td>0</td>\n      <td>0</td>\n    </tr>\n    <tr>\n      <th>9659</th>\n      <td>0</td>\n      <td>1</td>\n      <td>0</td>\n    </tr>\n    <tr>\n      <th>56568</th>\n      <td>0</td>\n      <td>1</td>\n      <td>0</td>\n    </tr>\n    <tr>\n      <th>58068</th>\n      <td>0</td>\n      <td>0</td>\n      <td>1</td>\n    </tr>\n  </tbody>\n</table>\n<p>59402 rows × 3 columns</p>\n</div>"
     },
     "execution_count": 51,
     "metadata": {},
     "output_type": "execute_result"
    }
   ],
   "source": [
    "y_train = pd.get_dummies(y_train, columns=['tipo_precio_3'], drop_first=False)\n",
    "y_train"
   ],
   "metadata": {
    "collapsed": false
   }
  },
  {
   "cell_type": "markdown",
   "source": [
    "Compilamos el modelo con optimizador Adam y loss de crossentropy categórico. Luego entrenamos con los datos de train y predecimos con test."
   ],
   "metadata": {
    "collapsed": false
   }
  },
  {
   "cell_type": "code",
   "execution_count": 52,
   "outputs": [],
   "source": [
    "modelo.compile(\n",
    "    optimizer=keras.optimizers.Adam(learning_rate=0.001),\n",
    "    loss='categorical_crossentropy',\n",
    "    metrics=['AUC', 'Accuracy', 'Recall', 'Precision'],\n",
    ")\n",
    "\n",
    "cant_epochs=100\n",
    "historia = modelo.fit(train, y_train, epochs=cant_epochs, verbose=False, use_multiprocessing=True, workers=4)"
   ],
   "metadata": {
    "collapsed": false
   }
  },
  {
   "cell_type": "code",
   "execution_count": 53,
   "outputs": [
    {
     "name": "stdout",
     "output_type": "stream",
     "text": [
      "465/465 [==============================] - 0s 516us/step\n"
     ]
    }
   ],
   "source": [
    "y_pred = modelo.predict(test)"
   ],
   "metadata": {
    "collapsed": false
   }
  },
  {
   "cell_type": "code",
   "execution_count": 59,
   "outputs": [
    {
     "data": {
      "text/plain": "<matplotlib.legend.Legend at 0x7f31f92eb6d0>"
     },
     "execution_count": 59,
     "metadata": {},
     "output_type": "execute_result"
    },
    {
     "data": {
      "text/plain": "<Figure size 640x480 with 1 Axes>",
      "image/png": "[encoded data removed]"
     },
     "metadata": {},
     "output_type": "display_data"
    }
   ],
   "source": [
    "epochs = range(cant_epochs)\n",
    "\n",
    "plt.plot(epochs, historia.history['auc'], color='orange', label='AUC')\n",
    "plt.xlabel(\"Epochs\")\n",
    "plt.ylabel(\"AUC\")\n",
    "plt.title('Area bajo la curva por cantidad de épocas')\n",
    "plt.legend()"
   ],
   "metadata": {
    "collapsed": false
   }
  },
  {
   "cell_type": "markdown",
   "source": [
    "Reorganizamos los valores predichos para que queden en una sola columna, y comparamos con y_test"
   ],
   "metadata": {
    "collapsed": false
   }
  },
  {
   "cell_type": "code",
   "execution_count": 57,
   "outputs": [
    {
     "name": "stdout",
     "output_type": "stream",
     "text": [
      "Accuracy: 0.57\n",
      "Precision: 0.63\n",
      "Recall: 0.49\n",
      "F1 Score: 0.48\n"
     ]
    },
    {
     "data": {
      "text/plain": "array(['medio', 'medio', 'alto', ..., 'medio', 'medio', 'medio'],\n      dtype='<U5')"
     },
     "execution_count": 57,
     "metadata": {},
     "output_type": "execute_result"
    }
   ],
   "source": [
    "def myfunction(x):\n",
    "    mx = max(x[0], x[1], x[2])\n",
    "    if mx == x[0]:\n",
    "        return \"bajo\"\n",
    "    elif mx == x[1]:\n",
    "        return \"medio\"\n",
    "    elif mx == x[2]:\n",
    "        return \"alto\"\n",
    "\n",
    "y_pred_txt = np.apply_along_axis(myfunction, axis=1, arr=y_pred)\n",
    "metricas(y_test, y_pred_txt)"
   ],
   "metadata": {
    "collapsed": false
   }
  }
 ],
 "metadata": {
  "kernelspec": {
   "display_name": "Python 3",
   "language": "python",
   "name": "python3"
  },
  "language_info": {
   "codemirror_mode": {
    "name": "ipython",
    "version": 2
   },
   "file_extension": ".py",
   "mimetype": "text/x-python",
   "name": "python",
   "nbconvert_exporter": "python",
   "pygments_lexer": "ipython2",
   "version": "2.7.6"
  }
 },
 "nbformat": 4,
 "nbformat_minor": 0
}
