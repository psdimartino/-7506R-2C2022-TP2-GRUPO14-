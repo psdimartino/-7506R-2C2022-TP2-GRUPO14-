{
  "cells": [
    {
      "cell_type": "markdown",
      "source": [
        "______________________________________\n",
        "# <center>**Trabajo Practico Nº2 para la Materia *Organización de Datos***</center>\n",
        "\n",
        "*Integrantes*:\n",
        "- 103963\tCarolina Di Matteo\tcdimatteo@fi.uba.ar\n",
        "- 101231\tPablo Salvador Dimartino\tpdimartino@fi.uba.ar\n",
        "- 100113\tJuan Sebastian Burgos\tjsburgos@fi.uba.ar\n",
        "- 104415\tValentina Laura Correa\tvcorrea@fi.uba.ar\n",
        "\n",
        "*Grupo*: 14\n",
        "\n",
        "*Repositorio*: [github](https://github.com/valencorrea/7506R-2C2022-GRUPO14)\n",
        "\n",
        "*Curso*: Rodriguez\n",
        "\n",
        "*Cuatrimestre*: 2c2022\n",
        "\n",
        "Datos provistos por [properati](https://www.properati.com.ar).\n",
        "______________________________________\n"
      ],
      "metadata": {
        "collapsed": false,
        "id": "ALhQpMoS2Do2"
      }
    },
    {
      "cell_type": "markdown",
      "source": [
        "## Introducción"
      ],
      "metadata": {
        "id": "jrObdaVTw13E"
      }
    },
    {
      "cell_type": "markdown",
      "source": [
        "El presente trabajo práctico es una continuación del ‘TP1: Propiedades en Venta’. \n",
        "\n",
        "En la entrega anterior se propuso aplicar técnicas de análisis exploratorio, preprocesamiento de datos, agrupamiento, clasificación y regresión. Siguiendo esta línea, y con el objetivo de continuar resolviendo problemas reales de ciencia de datos, en esta segunda parte se implementarán nuevos modelos predictivos a partir de los anteriormente mencionados. \n",
        "\n",
        "En esta oportunidad se buscará demostrar los conocimientos adquiridos sobre procesamiento del lenguaje natural, redes neuronales y ensamble de modelos. Para esto se utilizarán tanto datasets provistos por la materia, tomados de la página de la empresa Properati, como los generados por el grupo en el trabajo anterior."
      ],
      "metadata": {
        "id": "8Tot765gvLP2"
      }
    },
    {
      "cell_type": "markdown",
      "source": [
        "## 0. Setup"
      ],
      "metadata": {
        "id": "civIgEQKvQ6A"
      }
    },
    {
      "cell_type": "markdown",
      "source": [
        "### Importación de bibliotecas"
      ],
      "metadata": {
        "id": "vrqonJJjvVay"
      }
    },
    {
      "cell_type": "code",
      "execution_count": 1,
      "outputs": [
        {
          "output_type": "stream",
          "name": "stdout",
          "text": [
            "Looking in indexes: https://pypi.org/simple, https://us-python.pkg.dev/colab-wheels/public/simple/\n",
            "Collecting visualkeras\n",
            "  Downloading visualkeras-0.0.2-py3-none-any.whl (12 kB)\n",
            "Collecting aggdraw>=1.3.11\n",
            "  Downloading aggdraw-1.3.15-cp38-cp38-manylinux_2_17_x86_64.manylinux2014_x86_64.whl (992 kB)\n",
            "\u001b[K     |████████████████████████████████| 992 kB 30.4 MB/s \n",
            "\u001b[?25hRequirement already satisfied: numpy>=1.18.1 in /usr/local/lib/python3.8/dist-packages (from visualkeras) (1.21.6)\n",
            "Requirement already satisfied: pillow>=6.2.0 in /usr/local/lib/python3.8/dist-packages (from visualkeras) (7.1.2)\n",
            "Installing collected packages: aggdraw, visualkeras\n",
            "Successfully installed aggdraw-1.3.15 visualkeras-0.0.2\n"
          ]
        }
      ],
      "source": [
        "pip install visualkeras"
      ],
      "metadata": {
        "id": "h6RrCiyq2Do7",
        "colab": {
          "base_uri": "https://localhost:8080/"
        },
        "outputId": "9bd0b2a8-b99e-41e7-8410-59f43f0ab6fd"
      }
    },
    {
      "cell_type": "code",
      "source": [
        "pip install unidecode"
      ],
      "metadata": {
        "id": "vdZzPMc93I-C",
        "colab": {
          "base_uri": "https://localhost:8080/"
        },
        "outputId": "5b1ccc99-85eb-43f7-e01a-98dc48c5a512"
      },
      "execution_count": 2,
      "outputs": [
        {
          "output_type": "stream",
          "name": "stdout",
          "text": [
            "Looking in indexes: https://pypi.org/simple, https://us-python.pkg.dev/colab-wheels/public/simple/\n",
            "Collecting unidecode\n",
            "  Downloading Unidecode-1.3.6-py3-none-any.whl (235 kB)\n",
            "\u001b[K     |████████████████████████████████| 235 kB 24.5 MB/s \n",
            "\u001b[?25hInstalling collected packages: unidecode\n",
            "Successfully installed unidecode-1.3.6\n"
          ]
        }
      ]
    },
    {
      "cell_type": "code",
      "source": [
        "pip install types-all"
      ],
      "metadata": {
        "id": "7SrZ6Pvh8b_K",
        "colab": {
          "base_uri": "https://localhost:8080/"
        },
        "outputId": "db14a8a7-f7b9-49d3-9be4-5859aa9de633"
      },
      "execution_count": 3,
      "outputs": [
        {
          "output_type": "stream",
          "name": "stdout",
          "text": [
            "Looking in indexes: https://pypi.org/simple, https://us-python.pkg.dev/colab-wheels/public/simple/\n",
            "Collecting types-all\n",
            "  Downloading types_all-1.0.0-py2.py3-none-any.whl (2.9 kB)\n",
            "Collecting types-tabulate\n",
            "  Downloading types_tabulate-0.9.0.0-py3-none-any.whl (2.8 kB)\n",
            "Collecting types-Markdown\n",
            "  Downloading types_Markdown-3.4.2.1-py3-none-any.whl (16 kB)\n",
            "Collecting types-paramiko\n",
            "  Downloading types_paramiko-2.12.0.1-py3-none-any.whl (32 kB)\n",
            "Collecting types-singledispatch\n",
            "  Downloading types_singledispatch-3.7.5.1-py3-none-any.whl (2.5 kB)\n",
            "Collecting types-click-spinner\n",
            "  Downloading types_click_spinner-0.1.13.1-py3-none-any.whl (2.7 kB)\n",
            "Collecting types-bleach\n",
            "  Downloading types_bleach-5.0.3.1-py3-none-any.whl (5.1 kB)\n",
            "Collecting types-xxhash\n",
            "  Downloading types_xxhash-3.0.5.1-py3-none-any.whl (2.8 kB)\n",
            "Collecting types-typed-ast\n",
            "  Downloading types_typed_ast-1.5.8.3-py3-none-any.whl (6.0 kB)\n",
            "Collecting types-fb303\n",
            "  Downloading types_fb303-1.0.0-py3-none-any.whl (2.8 kB)\n",
            "Collecting types-docutils\n",
            "  Downloading types_docutils-0.19.1.1-py3-none-any.whl (16 kB)\n",
            "Collecting types-pathlib2\n",
            "  Downloading types_pathlib2-2.3.0-py3-none-any.whl (2.9 kB)\n",
            "Collecting types-ipaddress\n",
            "  Downloading types_ipaddress-1.0.8-py3-none-any.whl (3.1 kB)\n",
            "Collecting types-characteristic\n",
            "  Downloading types_characteristic-14.3.7-py3-none-any.whl (2.5 kB)\n",
            "Collecting types-pyvmomi\n",
            "  Downloading types_pyvmomi-8.0.0.0-py3-none-any.whl (5.8 kB)\n",
            "Collecting types-cryptography\n",
            "  Downloading types_cryptography-3.3.23.2-py3-none-any.whl (30 kB)\n",
            "Collecting types-ujson\n",
            "  Downloading types_ujson-5.6.0.0-py3-none-any.whl (2.2 kB)\n",
            "Collecting types-mock\n",
            "  Downloading types_mock-4.0.15.2-py3-none-any.whl (4.8 kB)\n",
            "Collecting types-tornado\n",
            "  Downloading types_tornado-5.1.1-py3-none-any.whl (13 kB)\n",
            "Collecting types-tzlocal\n",
            "  Downloading types_tzlocal-4.2.2.2-py3-none-any.whl (2.7 kB)\n",
            "Collecting types-dataclasses\n",
            "  Downloading types_dataclasses-0.6.6-py3-none-any.whl (2.9 kB)\n",
            "Collecting types-backports\n",
            "  Downloading types_backports-0.1.3-py2.py3-none-any.whl (2.2 kB)\n",
            "Collecting types-freezegun\n",
            "  Downloading types_freezegun-1.1.10-py3-none-any.whl (2.9 kB)\n",
            "Collecting types-mypy-extensions\n",
            "  Downloading types_mypy_extensions-0.4.24-py3-none-any.whl (3.2 kB)\n",
            "Collecting types-maxminddb\n",
            "  Downloading types_maxminddb-1.5.0-py3-none-any.whl (4.3 kB)\n",
            "Collecting types-colorama\n",
            "  Downloading types_colorama-0.4.15.4-py3-none-any.whl (5.5 kB)\n",
            "Collecting types-retry\n",
            "  Downloading types_retry-0.9.9-py3-none-any.whl (2.4 kB)\n",
            "Collecting types-cachetools\n",
            "  Downloading types_cachetools-5.2.1-py3-none-any.whl (3.6 kB)\n",
            "Collecting types-orjson\n",
            "  Downloading types_orjson-3.6.2-py3-none-any.whl (2.2 kB)\n",
            "Collecting types-click\n",
            "  Downloading types_click-7.1.8-py3-none-any.whl (12 kB)\n",
            "Collecting types-pyaudio\n",
            "  Downloading types_pyaudio-0.2.16.4-py3-none-any.whl (3.5 kB)\n",
            "Collecting types-DateTimeRange\n",
            "  Downloading types_DateTimeRange-1.2.8-py3-none-any.whl (3.1 kB)\n",
            "Collecting types-openssl-python\n",
            "  Downloading types_openssl_python-0.1.3-py2.py3-none-any.whl (4.5 kB)\n",
            "Collecting types-Deprecated\n",
            "  Downloading types_Deprecated-1.2.9-py3-none-any.whl (3.2 kB)\n",
            "Collecting types-MarkupSafe\n",
            "  Downloading types_MarkupSafe-1.1.10-py3-none-any.whl (4.0 kB)\n",
            "Collecting types-geoip2\n",
            "  Downloading types_geoip2-3.0.0-py3-none-any.whl (4.7 kB)\n",
            "Collecting types-frozendict\n",
            "  Downloading types_frozendict-2.0.9-py3-none-any.whl (2.4 kB)\n",
            "Collecting types-python-slugify\n",
            "  Downloading types_python_slugify-7.0.0.1-py3-none-any.whl (3.2 kB)\n",
            "Collecting types-pkg-resources\n",
            "  Downloading types_pkg_resources-0.1.3-py2.py3-none-any.whl (4.8 kB)\n",
            "Collecting types-protobuf\n",
            "  Downloading types_protobuf-4.21.0.2-py3-none-any.whl (61 kB)\n",
            "\u001b[K     |████████████████████████████████| 61 kB 6.7 MB/s \n",
            "\u001b[?25hCollecting types-Routes\n",
            "  Downloading types_Routes-2.5.0-py3-none-any.whl (3.3 kB)\n",
            "Collecting types-emoji\n",
            "  Downloading types_emoji-2.1.0.1-py3-none-any.whl (3.5 kB)\n",
            "Collecting types-decorator\n",
            "  Downloading types_decorator-5.1.8.1-py3-none-any.whl (2.8 kB)\n",
            "Collecting types-python-gflags\n",
            "  Downloading types_python_gflags-3.1.7.1-py3-none-any.whl (4.2 kB)\n",
            "Collecting types-pycurl\n",
            "  Downloading types_pycurl-7.45.2.0-py3-none-any.whl (6.4 kB)\n",
            "Collecting types-simplejson\n",
            "  Downloading types_simplejson-3.18.0.0-py3-none-any.whl (3.9 kB)\n",
            "Collecting types-annoy\n",
            "  Downloading types_annoy-1.17.8.1-py3-none-any.whl (2.7 kB)\n",
            "Collecting types-dateparser\n",
            "  Downloading types_dateparser-1.1.4.4-py3-none-any.whl (15 kB)\n",
            "Collecting types-Flask\n",
            "  Downloading types_Flask-1.1.6-py3-none-any.whl (13 kB)\n",
            "Collecting types-python-dateutil\n",
            "  Downloading types_python_dateutil-2.8.19.5-py3-none-any.whl (9.1 kB)\n",
            "Collecting types-Jinja2\n",
            "  Downloading types_Jinja2-2.11.9-py3-none-any.whl (18 kB)\n",
            "Collecting types-contextvars\n",
            "  Downloading types_contextvars-2.4.7-py3-none-any.whl (2.6 kB)\n",
            "Collecting types-toml\n",
            "  Downloading types_toml-0.10.8.1-py3-none-any.whl (4.5 kB)\n",
            "Collecting types-JACK-Client\n",
            "  Downloading types_JACK_Client-0.5.10.3-py3-none-any.whl (4.5 kB)\n",
            "Collecting types-futures\n",
            "  Downloading types_futures-3.3.8-py3-none-any.whl (4.4 kB)\n",
            "Collecting types-termcolor\n",
            "  Downloading types_termcolor-1.1.6-py3-none-any.whl (2.3 kB)\n",
            "Collecting types-polib\n",
            "  Downloading types_polib-1.1.12.1-py3-none-any.whl (3.3 kB)\n",
            "Collecting types-waitress\n",
            "  Downloading types_waitress-2.1.4.3-py3-none-any.whl (12 kB)\n",
            "Collecting types-scribe\n",
            "  Downloading types_scribe-2.0.0-py3-none-any.whl (2.8 kB)\n",
            "Collecting types-pytz\n",
            "  Downloading types_pytz-2022.7.0.0-py3-none-any.whl (4.7 kB)\n",
            "Collecting types-PyJWT\n",
            "  Downloading types_PyJWT-1.7.1-py2.py3-none-any.whl (4.7 kB)\n",
            "Collecting types-pyRFC3339\n",
            "  Downloading types_pyRFC3339-1.1.1.1-py3-none-any.whl (3.0 kB)\n",
            "Collecting types-redis\n",
            "  Downloading types_redis-4.3.21.6-py3-none-any.whl (52 kB)\n",
            "\u001b[K     |████████████████████████████████| 52 kB 940 kB/s \n",
            "\u001b[?25hCollecting types-filelock\n",
            "  Downloading types_filelock-3.2.7-py3-none-any.whl (2.5 kB)\n",
            "Collecting types-six\n",
            "  Downloading types_six-1.16.21.4-py3-none-any.whl (14 kB)\n",
            "Collecting types-aiofiles\n",
            "  Downloading types_aiofiles-22.1.0.4-py3-none-any.whl (8.2 kB)\n",
            "Collecting types-pysftp\n",
            "  Downloading types_pysftp-0.2.17-py3-none-any.whl (4.2 kB)\n",
            "Collecting types-pyfarmhash\n",
            "  Downloading types_pyfarmhash-0.3.1-py3-none-any.whl (2.1 kB)\n",
            "Collecting types-pymssql\n",
            "  Downloading types_pymssql-2.1.0-py3-none-any.whl (2.4 kB)\n",
            "Collecting types-itsdangerous\n",
            "  Downloading types_itsdangerous-1.1.6-py3-none-any.whl (3.4 kB)\n",
            "Collecting types-PyMySQL\n",
            "  Downloading types_PyMySQL-1.0.19.1-py3-none-any.whl (13 kB)\n",
            "Collecting types-boto\n",
            "  Downloading types_boto-2.49.18.3-py3-none-any.whl (22 kB)\n",
            "Collecting types-Pillow\n",
            "  Downloading types_Pillow-9.3.0.4-py3-none-any.whl (44 kB)\n",
            "\u001b[K     |████████████████████████████████| 44 kB 2.4 MB/s \n",
            "\u001b[?25hCollecting types-atomicwrites\n",
            "  Downloading types_atomicwrites-1.4.5.1-py3-none-any.whl (2.5 kB)\n",
            "Collecting types-backports-abc\n",
            "  Downloading types_backports_abc-0.5.2-py3-none-any.whl (2.0 kB)\n",
            "Collecting types-kazoo\n",
            "  Downloading types_kazoo-0.1.3-py3-none-any.whl (4.1 kB)\n",
            "Collecting types-first\n",
            "  Downloading types_first-2.0.5-py3-none-any.whl (2.1 kB)\n",
            "Collecting types-PyYAML\n",
            "  Downloading types_PyYAML-6.0.12.2-py3-none-any.whl (14 kB)\n",
            "Collecting types-certifi\n",
            "  Downloading types_certifi-2021.10.8.3-py3-none-any.whl (2.1 kB)\n",
            "Collecting types-croniter\n",
            "  Downloading types_croniter-1.3.2.1-py3-none-any.whl (3.2 kB)\n",
            "Collecting types-docopt\n",
            "  Downloading types_docopt-0.6.11-py3-none-any.whl (2.2 kB)\n",
            "Collecting types-Werkzeug\n",
            "  Downloading types_Werkzeug-1.0.9-py3-none-any.whl (36 kB)\n",
            "Collecting types-requests\n",
            "  Downloading types_requests-2.28.11.7-py3-none-any.whl (14 kB)\n",
            "Collecting types-chardet\n",
            "  Downloading types_chardet-5.0.4.1-py3-none-any.whl (5.8 kB)\n",
            "Collecting types-enum34\n",
            "  Downloading types_enum34-1.1.8-py3-none-any.whl (2.8 kB)\n",
            "Collecting types-nmap\n",
            "  Downloading types_nmap-0.1.6-py3-none-any.whl (3.0 kB)\n",
            "Collecting types-urllib3<1.27\n",
            "  Downloading types_urllib3-1.26.25.4-py3-none-any.whl (14 kB)\n",
            "Installing collected packages: types-MarkupSafe, types-ipaddress, types-cryptography, types-Werkzeug, types-urllib3, types-pytz, types-python-dateutil, types-paramiko, types-maxminddb, types-Jinja2, types-fb303, types-click, types-xxhash, types-waitress, types-ujson, types-tzlocal, types-typed-ast, types-tornado, types-toml, types-termcolor, types-tabulate, types-six, types-singledispatch, types-simplejson, types-scribe, types-Routes, types-retry, types-requests, types-redis, types-PyYAML, types-pyvmomi, types-python-slugify, types-python-gflags, types-pysftp, types-pyRFC3339, types-PyMySQL, types-pymssql, types-PyJWT, types-pyfarmhash, types-pycurl, types-pyaudio, types-protobuf, types-polib, types-pkg-resources, types-Pillow, types-pathlib2, types-orjson, types-openssl-python, types-nmap, types-mypy-extensions, types-mock, types-Markdown, types-kazoo, types-JACK-Client, types-itsdangerous, types-geoip2, types-futures, types-frozendict, types-freezegun, types-Flask, types-first, types-filelock, types-enum34, types-emoji, types-docutils, types-docopt, types-Deprecated, types-decorator, types-DateTimeRange, types-dateparser, types-dataclasses, types-croniter, types-contextvars, types-colorama, types-click-spinner, types-chardet, types-characteristic, types-certifi, types-cachetools, types-boto, types-bleach, types-backports-abc, types-backports, types-atomicwrites, types-annoy, types-aiofiles, types-all\n",
            "Successfully installed types-DateTimeRange-1.2.8 types-Deprecated-1.2.9 types-Flask-1.1.6 types-JACK-Client-0.5.10.3 types-Jinja2-2.11.9 types-Markdown-3.4.2.1 types-MarkupSafe-1.1.10 types-Pillow-9.3.0.4 types-PyJWT-1.7.1 types-PyMySQL-1.0.19.1 types-PyYAML-6.0.12.2 types-Routes-2.5.0 types-Werkzeug-1.0.9 types-aiofiles-22.1.0.4 types-all-1.0.0 types-annoy-1.17.8.1 types-atomicwrites-1.4.5.1 types-backports-0.1.3 types-backports-abc-0.5.2 types-bleach-5.0.3.1 types-boto-2.49.18.3 types-cachetools-5.2.1 types-certifi-2021.10.8.3 types-characteristic-14.3.7 types-chardet-5.0.4.1 types-click-7.1.8 types-click-spinner-0.1.13.1 types-colorama-0.4.15.4 types-contextvars-2.4.7 types-croniter-1.3.2.1 types-cryptography-3.3.23.2 types-dataclasses-0.6.6 types-dateparser-1.1.4.4 types-decorator-5.1.8.1 types-docopt-0.6.11 types-docutils-0.19.1.1 types-emoji-2.1.0.1 types-enum34-1.1.8 types-fb303-1.0.0 types-filelock-3.2.7 types-first-2.0.5 types-freezegun-1.1.10 types-frozendict-2.0.9 types-futures-3.3.8 types-geoip2-3.0.0 types-ipaddress-1.0.8 types-itsdangerous-1.1.6 types-kazoo-0.1.3 types-maxminddb-1.5.0 types-mock-4.0.15.2 types-mypy-extensions-0.4.24 types-nmap-0.1.6 types-openssl-python-0.1.3 types-orjson-3.6.2 types-paramiko-2.12.0.1 types-pathlib2-2.3.0 types-pkg-resources-0.1.3 types-polib-1.1.12.1 types-protobuf-4.21.0.2 types-pyRFC3339-1.1.1.1 types-pyaudio-0.2.16.4 types-pycurl-7.45.2.0 types-pyfarmhash-0.3.1 types-pymssql-2.1.0 types-pysftp-0.2.17 types-python-dateutil-2.8.19.5 types-python-gflags-3.1.7.1 types-python-slugify-7.0.0.1 types-pytz-2022.7.0.0 types-pyvmomi-8.0.0.0 types-redis-4.3.21.6 types-requests-2.28.11.7 types-retry-0.9.9 types-scribe-2.0.0 types-simplejson-3.18.0.0 types-singledispatch-3.7.5.1 types-six-1.16.21.4 types-tabulate-0.9.0.0 types-termcolor-1.1.6 types-toml-0.10.8.1 types-tornado-5.1.1 types-typed-ast-1.5.8.3 types-tzlocal-4.2.2.2 types-ujson-5.6.0.0 types-urllib3-1.26.25.4 types-waitress-2.1.4.3 types-xxhash-3.0.5.1\n"
          ]
        }
      ]
    },
    {
      "cell_type": "code",
      "execution_count": 91,
      "outputs": [
        {
          "output_type": "stream",
          "name": "stdout",
          "text": [
            "Drive already mounted at /content/drive; to attempt to forcibly remount, call drive.mount(\"/content/drive\", force_remount=True).\n"
          ]
        }
      ],
      "source": [
        "#Importación de librerías\n",
        "\n",
        "import pandas as pd\n",
        "import numpy as np\n",
        "import cmath as math\n",
        "import matplotlib.pyplot as plt\n",
        "import seaborn as sns\n",
        "import tensorflow as tf\n",
        "import visualkeras as vk\n",
        "\n",
        "from xgboost import XGBRegressor\n",
        "from scipy.stats import zscore\n",
        "from sklearn.preprocessing import StandardScaler\n",
        "from tensorflow import keras\n",
        "from keras.utils.vis_utils import plot_model\n",
        "from sklearn.metrics import confusion_matrix, precision_recall_curve, recall_score, accuracy_score, f1_score, precision_score\n",
        "from sklearn.ensemble import StackingRegressor\n",
        "from sklearn.linear_model import LogisticRegressionCV\n",
        "from sklearn.ensemble import AdaBoostRegressor\n",
        "from sklearn.neighbors import KNeighborsRegressor\n",
        "from sklearn.tree import DecisionTreeClassifier\n",
        "from sklearn.ensemble import RandomForestClassifier \n",
        "from sklearn.neighbors import KNeighborsClassifier\n",
        "from sklearn.ensemble import VotingClassifier\n",
        "from collections import Counter\n",
        "import unidecode\n",
        "import re\n",
        "from joblib import load, dump\n",
        "import sklearn as sk\n",
        "from sklearn.metrics import make_scorer\n",
        "from sklearn.model_selection import RandomizedSearchCV, StratifiedKFold\n",
        "from sklearn.metrics import accuracy_score\n",
        "from keras.metrics import RootMeanSquaredError\n",
        "from keras.metrics import MeanSquaredError\n",
        "from sklearn.metrics import recall_score, accuracy_score, f1_score, precision_score\n",
        "from sklearn import metrics\n",
        "from sklearn.preprocessing import LabelEncoder\n",
        "from sklearn.model_selection import cross_val_score, RepeatedStratifiedKFold\n",
        "from collections import defaultdict\n",
        "\n",
        "#Configuración de Warnings\n",
        "import warnings\n",
        "warnings.filterwarnings('ignore')\n",
        "warnings.simplefilter(action='ignore', category=FutureWarning)\n",
        "warnings.simplefilter(action='ignore', category=UserWarning)\n",
        "\n",
        "#Ejecución con Drive\n",
        "if 'google.colab' in str(get_ipython()):\n",
        "    IN_COLAB = True\n",
        "else:\n",
        "    IN_COLAB = False\n",
        "\n",
        "if IN_COLAB :\n",
        "    from google.colab import drive\n",
        "    drive.mount('/content/drive')\n",
        "    \n",
        "    df_train = pd.read_csv('/content/drive/MyDrive/📒 Organización de Datos (75.06)/TPS/TP2/DATASETS/df_train_tp1.csv')\n",
        "    df_test = pd.read_csv('/content/drive/MyDrive/📒 Organización de Datos (75.06)/TPS/TP2/DATASETS/df_test_tp1.csv')\n",
        "    properati_decrip = pd.read_csv('/content/drive/MyDrive/📒 Organización de Datos (75.06)/TPS/TP1/properati_argentina_2021_decrip.csv')\n",
        "    stop_words = '/content/drive/MyDrive/📒 Organización de Datos (75.06)/TPS/TP2/stopwords.txt'\n",
        "else:\n",
        "    df_train = pd.read_csv('./DATASETS/df_train_tp1.csv')\n",
        "    df_test = pd.read_csv('./DATASETS/df_test_tp1.csv')\n",
        "    properati_decrip = pd.read_csv('properati_argentina_2021_decrip.csv')\n",
        "    stop_words = 'stopwords'"
      ],
      "metadata": {
        "id": "qUhGlr_r2Do9",
        "colab": {
          "base_uri": "https://localhost:8080/"
        },
        "outputId": "3e2b2847-cc8e-4ce0-a355-b011a4c7a3e4"
      }
    },
    {
      "cell_type": "markdown",
      "source": [
        "### Funciones auxiliares"
      ],
      "metadata": {
        "id": "Wbnc_RGevbaL"
      }
    },
    {
      "cell_type": "code",
      "execution_count": 7,
      "outputs": [],
      "source": [
        "def metricas_clasificacion(y_test, y_pred):\n",
        "    print(f'Accuracy: {round(accuracy_score(y_test, y_pred),2)}')\n",
        "    print(f'Precision: {round(precision_score(y_test, y_pred, average=\"macro\"),2)}')\n",
        "    print(f'Recall: {round(recall_score(y_test, y_pred, average=\"macro\"),2)}')\n",
        "    print(f'F1 Score: {round(f1_score(y_test, y_pred, average=\"macro\"),2)}')"
      ],
      "metadata": {
        "id": "6ssz2U3s2DpU"
      }
    },
    {
      "cell_type": "code",
      "source": [
        "def prediccion_y_metricas_regresion(regressor, x_train, x_test, y_train, y_test):\n",
        "  \n",
        "  y_pred = regressor.predict(x_test)\n",
        "\n",
        "  pct = np.sum(y_test.values == y_pred) / len(y_test) * 100\n",
        "\n",
        "  print(f\"Se obtuvo un {round(pct,3)}% de aciertos.\")\n",
        "\n",
        "  mse = metrics.mean_squared_error(\n",
        "        y_true  = y_test,\n",
        "        y_pred  = y_pred,\n",
        "        squared = True\n",
        "       )\n",
        "\n",
        "  print(f\"El error según la métrica 'Mean Square Error' de test es: {mse}\")\n",
        "\n",
        "  rmse = metrics.mean_squared_error(\n",
        "        y_true  = y_test,\n",
        "        y_pred  = y_pred,\n",
        "        squared = False\n",
        "       )\n",
        "\n",
        "  print(f\"El error según la métrica 'Root Mean Square Error' de test es: {rmse}\")\n",
        "\n",
        "  print(f\"El coeficiente de determinación de test es: {regressor.score(x_test, y_test)}\")\n",
        "  \n",
        "  return y_pred"
      ],
      "metadata": {
        "id": "c8p6gNJzfuGw"
      },
      "execution_count": 8,
      "outputs": []
    },
    {
      "cell_type": "code",
      "source": [
        "def format_aspects(line, word):\n",
        "    format = r\"\\W*([\\w]+)\"\n",
        "    n = 2\n",
        "    x = re.search(r'{}\\W*{}{}'.format(format*n, word, format*n), line)\n",
        "    if x is not None:\n",
        "        return x.group()\n",
        "    else:\n",
        "        return \"\""
      ],
      "metadata": {
        "id": "CCKsO-A5w7TQ"
      },
      "execution_count": 9,
      "outputs": []
    },
    {
      "cell_type": "code",
      "source": [
        "def convert_b_m_a(x):\n",
        "    mx = max(x[0], x[1], x[2])\n",
        "    if mx == x[0]:\n",
        "        return 'bajo'\n",
        "    elif mx == x[1]:\n",
        "        return 'medio'\n",
        "    elif mx == x[2]:\n",
        "        return 'alto'"
      ],
      "metadata": {
        "id": "3suAr0ciwY91"
      },
      "execution_count": 10,
      "outputs": []
    },
    {
      "cell_type": "code",
      "source": [
        "def estandarizar(df, columns):\n",
        "  sscaler = StandardScaler()\n",
        "\n",
        "  for col in columns:\n",
        "    df[col] = sscaler.fit_transform(pd.DataFrame(df[col]))"
      ],
      "metadata": {
        "id": "0LF1eyB9l4nt"
      },
      "execution_count": 11,
      "outputs": []
    },
    {
      "cell_type": "code",
      "execution_count": 12,
      "outputs": [],
      "source": [
        "def limpiar_values_de_aspects(df, aspects, values):\n",
        "    i = 0\n",
        "    for aspect in aspects:\n",
        "        for word in values[i]:\n",
        "            df[aspect] = df[aspect].apply(lambda line: word if word in line else line)\n",
        "        df[aspect] = df[aspect].apply(lambda line: line if len(line.split())<2 else '')\n",
        "        i = i+1"
      ],
      "metadata": {
        "id": "AAEy2PV92DpO"
      }
    },
    {
      "cell_type": "code",
      "source": [
        "def evaluate_model(model, x, y, splits, n):\n",
        "    cv = RepeatedStratifiedKFold(n_splits=splits, n_repeats=n, random_state=1)\n",
        "    scores = cross_val_score(model, x, y, scoring='neg_mean_squared_error', cv=cv, verbose=1, n_jobs=3, error_score='raise')\n",
        "    return scores"
      ],
      "metadata": {
        "id": "tDt5-bPcEn_m"
      },
      "execution_count": 13,
      "outputs": []
    },
    {
      "cell_type": "code",
      "source": [
        "import plotly.graph_objects as go\n",
        "\n",
        "def plot_results(model_scores, name):\n",
        "    \n",
        "    model_names = list(model_scores.keys())\n",
        "    results = [model_scores[model] for model in model_names]\n",
        "    fig = go.Figure()\n",
        "    for model, result in zip(model_names, results):\n",
        "        fig.add_trace(go.Box(\n",
        "            y=result,\n",
        "            name=model,\n",
        "            boxpoints='all',\n",
        "            jitter=0.5,\n",
        "            whiskerwidth=0.2,\n",
        "            marker_size=2,\n",
        "            line_width=1)\n",
        "        )\n",
        "    \n",
        "    fig.update_layout(\n",
        "    title='Performance of Different Models Using 5-Fold Cross-Validation',\n",
        "    paper_bgcolor='rgb(243, 243, 243)',\n",
        "    plot_bgcolor='rgb(243, 243, 243)',\n",
        "    xaxis_title='Model',\n",
        "    yaxis_title='Error Cuadrático Medio',\n",
        "    showlegend=False)\n",
        "    fig.show()"
      ],
      "metadata": {
        "id": "NImxsouY4HaJ"
      },
      "execution_count": 14,
      "outputs": []
    },
    {
      "cell_type": "code",
      "source": [
        "def performance_y_metricas(regressor, x_train, x_test, y_train, y_test):\n",
        "  \n",
        "  y_pred = regressor.predict(x_test)\n",
        "\n",
        "  pct = np.sum(y_test.values == y_pred) / len(y_test) * 100\n",
        "\n",
        "  print(f\"Se obtuvo un {round(pct,3)}% de aciertos.\")\n",
        "\n",
        "  mse = metrics.mean_squared_error(\n",
        "        y_true  = y_test,\n",
        "        y_pred  = y_pred,\n",
        "        squared = True\n",
        "       )\n",
        "\n",
        "  print(f\"El error según la métrica 'Mean Square Error' de test es: {mse}\")\n",
        "\n",
        "  rmse = metrics.mean_squared_error(\n",
        "        y_true  = y_test,\n",
        "        y_pred  = y_pred,\n",
        "        squared = False\n",
        "       )\n",
        "\n",
        "  print(f\"El error según la métrica 'Root Mean Square Error' de test es: {rmse}\")\n",
        "\n",
        "  print(f\"El coeficiente de determinación de test es: {regressor.score(x_test, y_test)}\")\n",
        "  \n",
        "  return y_pred"
      ],
      "metadata": {
        "id": "AJbOQ4ggMVY-"
      },
      "execution_count": 15,
      "outputs": []
    },
    {
      "cell_type": "markdown",
      "source": [
        "### Preparación de datasets"
      ],
      "metadata": {
        "id": "yG33nESmvkqN"
      }
    },
    {
      "cell_type": "code",
      "source": [
        "df_properati = pd.get_dummies(properati, columns=['place_l4', 'property_type'], drop_first=False)\n",
        "\n",
        "properati_x_train = df_properati.sample(frac=0.8, random_state=200)\n",
        "properati_y_train = properati_x_train[\"property_price\"]\n",
        "properati_x_train.drop([\"property_price\"], inplace=True, axis=1)\n",
        "\n",
        "properati_x_test = df_properati.drop(properati_x_train.index)\n",
        "properati_y_test = properati_x_test[\"property_price\"]\n",
        "properati_x_test.drop([\"property_price\"], inplace=True, axis=1)"
      ],
      "metadata": {
        "id": "ZXJT55UZvuKF"
      },
      "execution_count": 16,
      "outputs": []
    },
    {
      "cell_type": "markdown",
      "source": [
        "#### Dataset para Regresión"
      ],
      "metadata": {
        "id": "Xe-jJGyBvmOD"
      }
    },
    {
      "cell_type": "code",
      "source": [
        "x_train_regressor = properati_x_train.copy()\n",
        "y_train_regressor = properati_y_train.copy()\n",
        "x_test_regressor = properati_x_test.copy()\n",
        "y_test_regressor = properati_y_test.copy()"
      ],
      "metadata": {
        "id": "yHhAO-s0vuKG"
      },
      "execution_count": 17,
      "outputs": []
    },
    {
      "cell_type": "code",
      "source": [
        "x_train_regressor.drop([\"id\"], inplace=True, axis=1)\n",
        "\n",
        "x_test_regressor.drop([\"id\"], inplace=True, axis=1)"
      ],
      "metadata": {
        "id": "C9XJiKGXvuKG"
      },
      "execution_count": 18,
      "outputs": []
    },
    {
      "cell_type": "markdown",
      "source": [
        "#### Dataset para Clasificación"
      ],
      "metadata": {
        "id": "N-uwy-zKv6Em"
      }
    },
    {
      "cell_type": "code",
      "source": [
        "x_train_classifier = properati_x_train.copy()\n",
        "y_train_classifier = properati_y_train.copy()\n",
        "x_test_classifier = properati_x_test.copy()\n",
        "y_test_classifier = properati_y_test.copy()"
      ],
      "metadata": {
        "id": "w9R1zIfCvuKG"
      },
      "execution_count": 19,
      "outputs": []
    },
    {
      "cell_type": "code",
      "source": [
        "x_train_classifier[\"property_m2price\"] = y_train_classifier / x_train_classifier[\"property_surface_total\"]\n",
        "x_train_classifier.sort_values(by=[\"property_m2price\"], inplace=True)\n",
        "x_train_classifier['tipo_precio_3'] = pd.qcut(x=x_train_classifier.loc[properati['property_type'] == 'Departamento']['property_m2price'], q=4, labels=['bajo', 'medio', 'medio2', 'alto']).replace(\"medio2\",\"medio\")\n",
        "x_train_classifier['tipo_precio_3'].fillna(pd.qcut(x=x_train_classifier.loc[properati['property_type'] == 'Casa']['property_m2price'], q=4, labels=['bajo', 'medio', 'medio2', 'alto']).replace(\"medio2\",\"medio\"), inplace=True)\n",
        "x_train_classifier['tipo_precio_3'].fillna(pd.qcut(x=x_train_classifier.loc[properati['property_type'] == 'PH']['property_m2price'], q=4, labels=['bajo', 'medio', 'medio2', 'alto']).replace(\"medio2\",\"medio\"), inplace=True)\n",
        "\n",
        "x_test_classifier[\"property_m2price\"] = y_test_classifier / x_test_classifier[\"property_surface_total\"]\n",
        "x_test_classifier.sort_values(by=[\"property_m2price\"], inplace=True)\n",
        "x_test_classifier['tipo_precio_3'] = pd.qcut(x=x_test_classifier.loc[properati['property_type'] == 'Departamento']['property_m2price'], q=4, labels=['bajo', 'medio', 'medio2', 'alto']).replace(\"medio2\",\"medio\")\n",
        "x_test_classifier['tipo_precio_3'].fillna(pd.qcut(x=x_test_classifier.loc[properati['property_type'] == 'Casa']['property_m2price'], q=4, labels=['bajo', 'medio', 'medio2', 'alto']).replace(\"medio2\",\"medio\"), inplace=True)\n",
        "x_test_classifier['tipo_precio_3'].fillna(pd.qcut(x=x_test_classifier.loc[properati['property_type'] == 'PH']['property_m2price'], q=4, labels=['bajo', 'medio', 'medio2', 'alto']).replace(\"medio2\",\"medio\"), inplace=True)"
      ],
      "metadata": {
        "id": "Zvb-ygK8vuKG"
      },
      "execution_count": 20,
      "outputs": []
    },
    {
      "cell_type": "code",
      "execution_count": 21,
      "outputs": [],
      "source": [
        "y_train_classifier = x_train_classifier[\"tipo_precio_3\"]\n",
        "x_train_classifier.drop([\"id\", \"tipo_precio_3\", \"property_m2price\"], inplace=True, axis=1)\n",
        "\n",
        "y_test_classifier = x_test_classifier[\"tipo_precio_3\"]\n",
        "x_test_classifier.drop([\"id\", \"tipo_precio_3\", \"property_m2price\"], inplace=True, axis=1)"
      ],
      "metadata": {
        "id": "TG2e42GCvuKG"
      }
    },
    {
      "cell_type": "markdown",
      "source": [
        "## 1. Procesamiento del Lenguaje Natural"
      ],
      "metadata": {
        "collapsed": false,
        "id": "DajLENWv2DpA"
      }
    },
    {
      "cell_type": "markdown",
      "source": [
        "### 1.a Ampliación del dataset\n",
        "___"
      ],
      "metadata": {
        "id": "mmjJ3qskuJyJ"
      }
    },
    {
      "cell_type": "markdown",
      "source": [
        "Hagamos un merge del dataset original y el de descripciones, y quedémonos únicamente con las columnas `id` y `property_description`:"
      ],
      "metadata": {
        "id": "904YC-oLyddb"
      }
    },
    {
      "cell_type": "code",
      "execution_count": 51,
      "outputs": [
        {
          "output_type": "execute_result",
          "data": {
            "text/plain": [
              "                         id                               property_description\n",
              "0  1gMQ4rXcpnPs+hhvW11Jdw==  ESPECTACULAR 4 AMBIENTES, DORMITORIO SUITE, BA...\n",
              "1  p7gmyqzdOy/+odHwH5oPyg==  Excelente departamento, piso alto con una herm...\n",
              "2  ZYkS+4dCz1vUENzAREcX9w==  Corredor Responsable: Gustavo Guastello - C.U....\n",
              "3  UL/s8zoicLDXXwhaelBgFQ==  Corredor Responsable: GRACIELA MENAZZI CMCPDJL...\n",
              "4  wnz+hkCE7RVBNcqDQEtFSw==  Muy lindo y funcional departamento de un ambie...\n",
              "5  +QvrIZqpMPRxlz+ilj1LkA==  Corredor Responsable: Mario Gabriel Gerez - CM...\n",
              "6  MGM2azMohIovCwT8jcExeQ==  Corredor Responsable: Ariel Champanier / Andre...\n",
              "7  uLDfFrhFSDasD1UObhqHmg==  HERMOSO 2 AMB. EN EN EDIFICIO \"BLACK\" DEL COMP...\n",
              "8  6iHL1ay2QcrLeLh+K33ziw==  Corredor Responsable: Daniel Acosta - CUCICBA ...\n",
              "9  8J08zxRGfHVQ3dzTyopnWQ==  Excelente 3 ambientes en Torre Aisenson en lo ..."
            ],
            "text/html": [
              "\n",
              "  <div id=\"df-04ab895e-d000-42fd-af05-f1b79b4f6acd\">\n",
              "    <div class=\"colab-df-container\">\n",
              "      <div>\n",
              "<style scoped>\n",
              "    .dataframe tbody tr th:only-of-type {\n",
              "        vertical-align: middle;\n",
              "    }\n",
              "\n",
              "    .dataframe tbody tr th {\n",
              "        vertical-align: top;\n",
              "    }\n",
              "\n",
              "    .dataframe thead th {\n",
              "        text-align: right;\n",
              "    }\n",
              "</style>\n",
              "<table border=\"1\" class=\"dataframe\">\n",
              "  <thead>\n",
              "    <tr style=\"text-align: right;\">\n",
              "      <th></th>\n",
              "      <th>id</th>\n",
              "      <th>property_description</th>\n",
              "    </tr>\n",
              "  </thead>\n",
              "  <tbody>\n",
              "    <tr>\n",
              "      <th>0</th>\n",
              "      <td>1gMQ4rXcpnPs+hhvW11Jdw==</td>\n",
              "      <td>ESPECTACULAR 4 AMBIENTES, DORMITORIO SUITE, BA...</td>\n",
              "    </tr>\n",
              "    <tr>\n",
              "      <th>1</th>\n",
              "      <td>p7gmyqzdOy/+odHwH5oPyg==</td>\n",
              "      <td>Excelente departamento, piso alto con una herm...</td>\n",
              "    </tr>\n",
              "    <tr>\n",
              "      <th>2</th>\n",
              "      <td>ZYkS+4dCz1vUENzAREcX9w==</td>\n",
              "      <td>Corredor Responsable: Gustavo Guastello - C.U....</td>\n",
              "    </tr>\n",
              "    <tr>\n",
              "      <th>3</th>\n",
              "      <td>UL/s8zoicLDXXwhaelBgFQ==</td>\n",
              "      <td>Corredor Responsable: GRACIELA MENAZZI CMCPDJL...</td>\n",
              "    </tr>\n",
              "    <tr>\n",
              "      <th>4</th>\n",
              "      <td>wnz+hkCE7RVBNcqDQEtFSw==</td>\n",
              "      <td>Muy lindo y funcional departamento de un ambie...</td>\n",
              "    </tr>\n",
              "    <tr>\n",
              "      <th>5</th>\n",
              "      <td>+QvrIZqpMPRxlz+ilj1LkA==</td>\n",
              "      <td>Corredor Responsable: Mario Gabriel Gerez - CM...</td>\n",
              "    </tr>\n",
              "    <tr>\n",
              "      <th>6</th>\n",
              "      <td>MGM2azMohIovCwT8jcExeQ==</td>\n",
              "      <td>Corredor Responsable: Ariel Champanier / Andre...</td>\n",
              "    </tr>\n",
              "    <tr>\n",
              "      <th>7</th>\n",
              "      <td>uLDfFrhFSDasD1UObhqHmg==</td>\n",
              "      <td>HERMOSO 2 AMB. EN EN EDIFICIO \"BLACK\" DEL COMP...</td>\n",
              "    </tr>\n",
              "    <tr>\n",
              "      <th>8</th>\n",
              "      <td>6iHL1ay2QcrLeLh+K33ziw==</td>\n",
              "      <td>Corredor Responsable: Daniel Acosta - CUCICBA ...</td>\n",
              "    </tr>\n",
              "    <tr>\n",
              "      <th>9</th>\n",
              "      <td>8J08zxRGfHVQ3dzTyopnWQ==</td>\n",
              "      <td>Excelente 3 ambientes en Torre Aisenson en lo ...</td>\n",
              "    </tr>\n",
              "  </tbody>\n",
              "</table>\n",
              "</div>\n",
              "      <button class=\"colab-df-convert\" onclick=\"convertToInteractive('df-04ab895e-d000-42fd-af05-f1b79b4f6acd')\"\n",
              "              title=\"Convert this dataframe to an interactive table.\"\n",
              "              style=\"display:none;\">\n",
              "        \n",
              "  <svg xmlns=\"http://www.w3.org/2000/svg\" height=\"24px\"viewBox=\"0 0 24 24\"\n",
              "       width=\"24px\">\n",
              "    <path d=\"M0 0h24v24H0V0z\" fill=\"none\"/>\n",
              "    <path d=\"M18.56 5.44l.94 2.06.94-2.06 2.06-.94-2.06-.94-.94-2.06-.94 2.06-2.06.94zm-11 1L8.5 8.5l.94-2.06 2.06-.94-2.06-.94L8.5 2.5l-.94 2.06-2.06.94zm10 10l.94 2.06.94-2.06 2.06-.94-2.06-.94-.94-2.06-.94 2.06-2.06.94z\"/><path d=\"M17.41 7.96l-1.37-1.37c-.4-.4-.92-.59-1.43-.59-.52 0-1.04.2-1.43.59L10.3 9.45l-7.72 7.72c-.78.78-.78 2.05 0 2.83L4 21.41c.39.39.9.59 1.41.59.51 0 1.02-.2 1.41-.59l7.78-7.78 2.81-2.81c.8-.78.8-2.07 0-2.86zM5.41 20L4 18.59l7.72-7.72 1.47 1.35L5.41 20z\"/>\n",
              "  </svg>\n",
              "      </button>\n",
              "      \n",
              "  <style>\n",
              "    .colab-df-container {\n",
              "      display:flex;\n",
              "      flex-wrap:wrap;\n",
              "      gap: 12px;\n",
              "    }\n",
              "\n",
              "    .colab-df-convert {\n",
              "      background-color: #E8F0FE;\n",
              "      border: none;\n",
              "      border-radius: 50%;\n",
              "      cursor: pointer;\n",
              "      display: none;\n",
              "      fill: #1967D2;\n",
              "      height: 32px;\n",
              "      padding: 0 0 0 0;\n",
              "      width: 32px;\n",
              "    }\n",
              "\n",
              "    .colab-df-convert:hover {\n",
              "      background-color: #E2EBFA;\n",
              "      box-shadow: 0px 1px 2px rgba(60, 64, 67, 0.3), 0px 1px 3px 1px rgba(60, 64, 67, 0.15);\n",
              "      fill: #174EA6;\n",
              "    }\n",
              "\n",
              "    [theme=dark] .colab-df-convert {\n",
              "      background-color: #3B4455;\n",
              "      fill: #D2E3FC;\n",
              "    }\n",
              "\n",
              "    [theme=dark] .colab-df-convert:hover {\n",
              "      background-color: #434B5C;\n",
              "      box-shadow: 0px 1px 3px 1px rgba(0, 0, 0, 0.15);\n",
              "      filter: drop-shadow(0px 1px 2px rgba(0, 0, 0, 0.3));\n",
              "      fill: #FFFFFF;\n",
              "    }\n",
              "  </style>\n",
              "\n",
              "      <script>\n",
              "        const buttonEl =\n",
              "          document.querySelector('#df-04ab895e-d000-42fd-af05-f1b79b4f6acd button.colab-df-convert');\n",
              "        buttonEl.style.display =\n",
              "          google.colab.kernel.accessAllowed ? 'block' : 'none';\n",
              "\n",
              "        async function convertToInteractive(key) {\n",
              "          const element = document.querySelector('#df-04ab895e-d000-42fd-af05-f1b79b4f6acd');\n",
              "          const dataTable =\n",
              "            await google.colab.kernel.invokeFunction('convertToInteractive',\n",
              "                                                     [key], {});\n",
              "          if (!dataTable) return;\n",
              "\n",
              "          const docLinkHtml = 'Like what you see? Visit the ' +\n",
              "            '<a target=\"_blank\" href=https://colab.research.google.com/notebooks/data_table.ipynb>data table notebook</a>'\n",
              "            + ' to learn more about interactive tables.';\n",
              "          element.innerHTML = '';\n",
              "          dataTable['output_type'] = 'display_data';\n",
              "          await google.colab.output.renderOutput(dataTable, element);\n",
              "          const docLink = document.createElement('div');\n",
              "          docLink.innerHTML = docLinkHtml;\n",
              "          element.appendChild(docLink);\n",
              "        }\n",
              "      </script>\n",
              "    </div>\n",
              "  </div>\n",
              "  "
            ]
          },
          "metadata": {},
          "execution_count": 51
        }
      ],
      "source": [
        "df_decrip = pd.merge(properati, properati_decrip, on=\"id\")\n",
        "df_decrip = df_decrip[[\"id\", \"property_description\"]]\n",
        "df_decrip.head(10)"
      ],
      "metadata": {
        "id": "vRbU2jpk2Do_",
        "colab": {
          "base_uri": "https://localhost:8080/",
          "height": 363
        },
        "outputId": "33d38c09-8e57-4f6b-a8f7-35bcb8ef23da"
      }
    },
    {
      "cell_type": "markdown",
      "source": [
        "Busquemos aspectos de una propiedad utilizando la columna `property_description`."
      ],
      "metadata": {
        "id": "uCEL8YyUxYaa"
      }
    },
    {
      "cell_type": "markdown",
      "source": [
        "Veamos cuántos registros nulos existen:"
      ],
      "metadata": {
        "id": "tAEE-G_QzCXj"
      }
    },
    {
      "cell_type": "code",
      "execution_count": 52,
      "outputs": [
        {
          "output_type": "stream",
          "name": "stdout",
          "text": [
            "Hay 0 datos nulos.\n"
          ]
        }
      ],
      "source": [
        "print(f\"Hay {df_decrip['property_description'].isna().sum()} datos nulos.\")"
      ],
      "metadata": {
        "id": "ydHTArN62DpA",
        "colab": {
          "base_uri": "https://localhost:8080/"
        },
        "outputId": "2d4825c2-b392-401a-c56b-161e504a1e4d"
      }
    },
    {
      "cell_type": "markdown",
      "source": [
        "Veamos cuáles son las 100 palabras más comunes en el campo de descripción de propiedades:"
      ],
      "metadata": {
        "id": "t4hiRECrz3Wa"
      }
    },
    {
      "cell_type": "code",
      "execution_count": 53,
      "outputs": [
        {
          "output_type": "execute_result",
          "data": {
            "text/plain": [
              "[('de', 858011),\n",
              " ('y', 507798),\n",
              " ('con', 401876),\n",
              " ('la', 290201),\n",
              " ('en', 278181),\n",
              " ('a', 243761),\n",
              " ('el', 169956),\n",
              " ('del', 153280),\n",
              " ('que', 140058),\n",
              " ('por', 133636),\n",
              " ('al', 125215),\n",
              " ('-', 113886),\n",
              " ('un', 103720),\n",
              " ('las', 90713),\n",
              " ('los', 88438),\n",
              " ('para', 88196),\n",
              " ('se', 63111),\n",
              " ('DE', 56458),\n",
              " ('son', 56422),\n",
              " ('2', 52793),\n",
              " ('es', 50385),\n",
              " ('una', 48933),\n",
              " ('3', 41260),\n",
              " ('cocina', 38889),\n",
              " ('ambientes', 38850),\n",
              " ('valor', 38421),\n",
              " ('esta', 38294),\n",
              " ('muy', 36893),\n",
              " ('x', 36800),\n",
              " ('Av.', 36631),\n",
              " ('comedor', 35535),\n",
              " ('baño', 35477),\n",
              " ('Y', 34142),\n",
              " ('CON', 33915),\n",
              " ('no', 33913),\n",
              " ('piso', 33349),\n",
              " ('o', 33053),\n",
              " ('/', 32255),\n",
              " ('tu', 32102),\n",
              " ('A', 32063),\n",
              " ('hasta', 30270),\n",
              " ('balcón', 29805),\n",
              " ('inmueble', 28725),\n",
              " ('casa', 28656),\n",
              " ('No', 28636),\n",
              " ('propiedad.', 28071),\n",
              " ('30%', 27685),\n",
              " ('departamento', 27671),\n",
              " ('EN', 27267),\n",
              " ('cuadras', 27071),\n",
              " ('Corredor', 26992),\n",
              " ('préstamo', 26921),\n",
              " ('cuota', 26781),\n",
              " ('medidas', 26423),\n",
              " ('Responsable:', 25971),\n",
              " ('living', 25952),\n",
              " ('4', 25851),\n",
              " ('Lendar', 25572),\n",
              " ('querés!', 25422),\n",
              " ('podés.', 25363),\n",
              " ('Accedé', 25355),\n",
              " ('Simulá', 25350),\n",
              " ('#', 25249),\n",
              " ('ID', 25232),\n",
              " ('MLS', 25228),\n",
              " ('CUCICBA', 24648),\n",
              " ('El', 24542),\n",
              " ('edificio', 24306),\n",
              " ('dos', 24304),\n",
              " ('cuenta', 24243),\n",
              " ('personas', 23936),\n",
              " ('completo', 23797),\n",
              " ('propiedad', 23312),\n",
              " ('salida', 23058),\n",
              " ('parte', 22278),\n",
              " (',', 22138),\n",
              " ('pisos', 21621),\n",
              " ('encuentra', 21617),\n",
              " ('frente', 21612),\n",
              " ('Las', 21073),\n",
              " ('1', 20966),\n",
              " ('amplio', 20885),\n",
              " ('Comprá', 20794),\n",
              " ('\\\\n\\\\n', 20733),\n",
              " ('vista', 19912),\n",
              " ('presente', 19511),\n",
              " ('dormitorio', 19499),\n",
              " ('Ley', 19317),\n",
              " ('gran', 19097),\n",
              " ('La', 18860),\n",
              " ('placard', 18484),\n",
              " ('espacio', 18475),\n",
              " ('metros', 18400),\n",
              " ('m2', 17976),\n",
              " ('Los', 17521),\n",
              " ('<br>', 17369),\n",
              " ('accesible', 17076),\n",
              " ('su', 16597),\n",
              " ('dormitorios', 16161),\n",
              " ('sobre', 16145)]"
            ]
          },
          "metadata": {},
          "execution_count": 53
        }
      ],
      "source": [
        "Counter(\" \".join(df_decrip[\"property_description\"]).split()).most_common(100)"
      ],
      "metadata": {
        "id": "WpAlq6jJ2DpC",
        "colab": {
          "base_uri": "https://localhost:8080/"
        },
        "outputId": "240d9135-7b25-42ac-f95d-20dbaa65aa3b"
      }
    },
    {
      "cell_type": "markdown",
      "source": [
        "Podemos observar que podríamos optimizar el texto mediante algunas técnicas de reducción y/o transformación. Entre otras:"
      ],
      "metadata": {
        "id": "iwnQ6tgt0MRV"
      }
    },
    {
      "cell_type": "markdown",
      "source": [
        "Eliminemos la etiqueta `<br>` de html:"
      ],
      "metadata": {
        "id": "qK78Ucya0Ugr"
      }
    },
    {
      "cell_type": "code",
      "source": [
        "df_decrip[\"property_description\"] = df_decrip[\"property_description\"].apply(lambda line: line.replace(\"<br>\", \" \"))"
      ],
      "metadata": {
        "id": "_o_B51Zk0hGz"
      },
      "execution_count": 54,
      "outputs": []
    },
    {
      "cell_type": "markdown",
      "source": [
        "Transformemos todas las palabras a minúsculas, de modo que el contador no realice distinciones:"
      ],
      "metadata": {
        "id": "pyNp4Y520yHS"
      }
    },
    {
      "cell_type": "code",
      "source": [
        "df_decrip[\"property_description\"] = df_decrip[\"property_description\"].apply(lambda line: line.lower())"
      ],
      "metadata": {
        "id": "VWBmcgfI04Ge"
      },
      "execution_count": 55,
      "outputs": []
    },
    {
      "cell_type": "markdown",
      "source": [
        "Quitemos los tildes de las letras:"
      ],
      "metadata": {
        "id": "WpSPMtks1bZz"
      }
    },
    {
      "cell_type": "code",
      "source": [
        "df_decrip[\"property_description\"] = df_decrip[\"property_description\"].apply(lambda line: unidecode.unidecode(line))"
      ],
      "metadata": {
        "id": "KWHrTmAG1dGn"
      },
      "execution_count": 56,
      "outputs": []
    },
    {
      "cell_type": "markdown",
      "source": [
        "Eliminemos los símbolos:"
      ],
      "metadata": {
        "id": "tpUndCZy1j2X"
      }
    },
    {
      "cell_type": "code",
      "source": [
        "df_decrip[\"property_description\"] = df_decrip[\"property_description\"].apply(lambda line: re.sub(r'[^\\w]', ' ', line))"
      ],
      "metadata": {
        "id": "sWcF2SIJ1lfG"
      },
      "execution_count": 57,
      "outputs": []
    },
    {
      "cell_type": "markdown",
      "source": [
        "Eliminemos los espacios múltiples entre palabras:"
      ],
      "metadata": {
        "id": "bdqDlvqN1rL1"
      }
    },
    {
      "cell_type": "code",
      "execution_count": 58,
      "outputs": [],
      "source": [
        "df_decrip[\"property_description\"] = df_decrip[\"property_description\"].apply(lambda line: re.sub(\"\\s\\s+\" , \" \", line))"
      ],
      "metadata": {
        "id": "uQvajcwC2DpE"
      }
    },
    {
      "cell_type": "markdown",
      "source": [
        "Utilizando el contenido del archivo `stop_words.txt`, eliminemos palabras sin significado del datset y colocamos los cambios en uno nuevo:"
      ],
      "metadata": {
        "id": "BzcWZSJY4GPs"
      }
    },
    {
      "cell_type": "code",
      "source": [
        "df_nostopwords = df_decrip.copy()"
      ],
      "metadata": {
        "id": "EGQxcCEHBxnY"
      },
      "execution_count": 59,
      "outputs": []
    },
    {
      "cell_type": "code",
      "execution_count": 60,
      "outputs": [],
      "source": [
        "with open(stop_words) as f:\n",
        "    lines = f.read().splitlines()\n",
        "\n",
        "f = lambda x: ' '.join([item for item in x.split() if item not in lines])\n",
        "\n",
        "df_nostopwords[\"property_description\"] = df_nostopwords[\"property_description\"].apply(f)"
      ],
      "metadata": {
        "id": "FrOeCCBY2DpF"
      }
    },
    {
      "cell_type": "markdown",
      "source": [
        "Luego de estas transformaciones, veamos cuáles son las palabras más utilizadas:"
      ],
      "metadata": {
        "id": "JYXs-85EVQwx"
      }
    },
    {
      "cell_type": "code",
      "execution_count": 61,
      "outputs": [
        {
          "output_type": "execute_result",
          "data": {
            "text/plain": [
              "[('cocina', 89459),\n",
              " ('2', 88138),\n",
              " ('bano', 74430),\n",
              " ('3', 74276),\n",
              " ('ambientes', 71519),\n",
              " ('balcon', 71288),\n",
              " ('comedor', 68491),\n",
              " ('piso', 67831),\n",
              " ('living', 63836),\n",
              " ('propiedad', 62563),\n",
              " ('departamento', 54477),\n",
              " ('edificio', 53420),\n",
              " ('av', 50589),\n",
              " ('1', 50145),\n",
              " ('dormitorio', 48863),\n",
              " ('completo', 48392),\n",
              " ('pisos', 46212),\n",
              " ('4', 45875),\n",
              " ('frente', 44714),\n",
              " ('expensas', 44286),\n",
              " ('n', 44025),\n",
              " ('excelente', 41315),\n",
              " ('corredor', 41146),\n",
              " ('medidas', 41048),\n",
              " ('x', 40904),\n",
              " ('inmueble', 40569),\n",
              " ('responsable', 37724),\n",
              " ('amplio', 36355),\n",
              " ('m2', 34044),\n",
              " ('30', 34028),\n",
              " ('placard', 33950),\n",
              " ('casa', 32678),\n",
              " ('dormitorios', 32258),\n",
              " ('lavadero', 31875),\n",
              " ('c', 31791),\n",
              " ('cuadras', 31167),\n",
              " ('luminoso', 30549),\n",
              " ('cucicba', 30414),\n",
              " ('accede', 29383),\n",
              " ('terraza', 29330),\n",
              " ('ley', 27849),\n",
              " ('aire', 27700),\n",
              " ('lendar', 27450),\n",
              " ('queres', 27417),\n",
              " ('prestamo', 27367),\n",
              " ('vista', 26980),\n",
              " ('venta', 26865),\n",
              " ('cuota', 26857),\n",
              " ('podes', 26581),\n",
              " ('salida', 26111),\n",
              " ('ubicacion', 25548),\n",
              " ('simula', 25537),\n",
              " ('id', 25236),\n",
              " ('cochera', 25233),\n",
              " ('mls', 25231),\n",
              " ('personas', 24976),\n",
              " ('espacio', 24794),\n",
              " ('5', 24267),\n",
              " ('planta', 23609),\n",
              " ('zona', 23397),\n",
              " ('compra', 23247),\n",
              " ('metros', 23075),\n",
              " ('independiente', 23073),\n",
              " ('inmobiliario', 22866),\n",
              " ('patio', 22295),\n",
              " ('servicio', 22214),\n",
              " ('principal', 21845),\n",
              " ('barrio', 21306),\n",
              " ('ubicado', 21088),\n",
              " ('linea', 20910),\n",
              " ('parrilla', 20747),\n",
              " ('mesada', 20703),\n",
              " ('suite', 20635),\n",
              " ('toilette', 20554),\n",
              " ('acceso', 20482),\n",
              " ('presente', 19926),\n",
              " ('servicios', 19773),\n",
              " ('accesible', 19275),\n",
              " ('subte', 18716),\n",
              " ('unidades', 18413),\n",
              " ('agua', 18368),\n",
              " ('mas', 18246),\n",
              " ('acondicionado', 18043),\n",
              " ('hall', 17970),\n",
              " ('b', 17718),\n",
              " ('operacion', 17568),\n",
              " ('aviso', 17401),\n",
              " ('unidad', 16996),\n",
              " ('24', 16901),\n",
              " ('comercial', 16527),\n",
              " ('madera', 16500),\n",
              " ('doble', 16414),\n",
              " ('propietario', 16374),\n",
              " ('calefaccion', 16295),\n",
              " ('calidad', 16140),\n",
              " ('entrada', 15983),\n",
              " ('discapacidades', 15931),\n",
              " ('informacion', 15902),\n",
              " ('estacion', 15816),\n",
              " ('operaciones', 15668)]"
            ]
          },
          "metadata": {},
          "execution_count": 61
        }
      ],
      "source": [
        "Counter(\" \".join(df_nostopwords[\"property_description\"]).split()).most_common(100)"
      ],
      "metadata": {
        "id": "FNYcv0DM2DpG",
        "colab": {
          "base_uri": "https://localhost:8080/"
        },
        "outputId": "e72b542c-4437-4671-b80c-efb0f739dc9d"
      }
    },
    {
      "cell_type": "markdown",
      "source": [
        "Seleccionemos los aspectos que nos parecen relevantes, para luego buscar sus posibles valores.\n",
        "\n",
        "Para esto, elegimos: `cocina`, `pisos`, `calefaccion`, `expensas`, `lavadero`, `balcon`, `cochera` y `aire` y limpiamos cualquier tipo de formato restante en el dataset:"
      ],
      "metadata": {
        "collapsed": false,
        "id": "Ai_Odw_x2DpG"
      }
    },
    {
      "cell_type": "code",
      "source": [
        "aspectos = ['cocina', 'pisos', 'calefaccion', 'expensas', 'lavadero', 'balcon', 'cochera', 'aire']"
      ],
      "metadata": {
        "id": "BkHpD1gtB7e_"
      },
      "execution_count": 62,
      "outputs": []
    },
    {
      "cell_type": "code",
      "execution_count": 63,
      "outputs": [],
      "source": [
        "for word in aspectos:\n",
        "    df_nostopwords[word] = df_nostopwords[\"property_description\"].apply(lambda line: format_aspects(line, word))"
      ],
      "metadata": {
        "id": "AnaswxtR2DpH"
      }
    },
    {
      "cell_type": "markdown",
      "source": [
        "Veamos cuáles son las 15 palabras más comunes para cada uno de los aspectos elegidos:"
      ],
      "metadata": {
        "id": "EDsk7Bjgx116"
      }
    },
    {
      "cell_type": "code",
      "source": [
        "cant_val_aspectos = 15"
      ],
      "metadata": {
        "id": "eYdLqsvGyNcj"
      },
      "execution_count": 64,
      "outputs": []
    },
    {
      "cell_type": "markdown",
      "source": [
        "#### Aspecto `cocina`\n",
        "\n",
        "\n"
      ],
      "metadata": {
        "id": "wWJKdB85y1l0"
      }
    },
    {
      "cell_type": "code",
      "execution_count": 65,
      "outputs": [
        {
          "output_type": "execute_result",
          "data": {
            "text/plain": [
              "[('cocina', 62809),\n",
              " ('comedor', 19199),\n",
              " ('integrada', 11530),\n",
              " ('living', 9979),\n",
              " ('bano', 8949),\n",
              " ('lavadero', 6978),\n",
              " ('balcon', 6225),\n",
              " ('independiente', 6077),\n",
              " ('completo', 5385),\n",
              " ('diario', 4993),\n",
              " ('muebles', 4829),\n",
              " ('separada', 4746),\n",
              " ('amplia', 4518),\n",
              " ('toilette', 3963),\n",
              " ('completa', 3692)]"
            ]
          },
          "metadata": {},
          "execution_count": 65
        }
      ],
      "source": [
        "Counter(\" \".join(df_nostopwords[\"cocina\"]).split()).most_common(cant_val_aspectos)"
      ],
      "metadata": {
        "id": "l-7v9FP82DpH",
        "colab": {
          "base_uri": "https://localhost:8080/"
        },
        "outputId": "cb5f6bdf-6a01-4843-a7d8-87774a880bec"
      }
    },
    {
      "cell_type": "markdown",
      "source": [
        "Para `cocina`, los valores podrían ser: \n",
        "- integrada\n",
        "- lavadero\n",
        "- completa"
      ],
      "metadata": {
        "collapsed": false,
        "id": "6ACLlV0F2DpI"
      }
    },
    {
      "cell_type": "markdown",
      "source": [
        "#### Aspecto `pisos`"
      ],
      "metadata": {
        "id": "1XQ4TVyUzSqc"
      }
    },
    {
      "cell_type": "code",
      "execution_count": 66,
      "outputs": [
        {
          "output_type": "execute_result",
          "data": {
            "text/plain": [
              "[('pisos', 31829),\n",
              " ('parquet', 6394),\n",
              " ('madera', 4427),\n",
              " ('porcelanato', 4025),\n",
              " ('living', 3671),\n",
              " ('edificio', 3621),\n",
              " ('comedor', 3155),\n",
              " ('unidades', 1821),\n",
              " ('cocina', 1754),\n",
              " ('departamentos', 1662),\n",
              " ('bano', 1576),\n",
              " ('2', 1411),\n",
              " ('4', 1313),\n",
              " ('3', 1241),\n",
              " ('ambientes', 1201)]"
            ]
          },
          "metadata": {},
          "execution_count": 66
        }
      ],
      "source": [
        "Counter(\" \".join(df_nostopwords[\"pisos\"]).split()).most_common(cant_val_aspectos)"
      ],
      "metadata": {
        "id": "UQQMsrnL2DpI",
        "colab": {
          "base_uri": "https://localhost:8080/"
        },
        "outputId": "bc3c2f5e-3545-4869-cd22-cc9b04da0fe2"
      }
    },
    {
      "cell_type": "markdown",
      "source": [
        "Para `pisos`, los valores podrían ser: \n",
        "- porcelanato\n",
        "- parquet\n",
        "- ceramicos"
      ],
      "metadata": {
        "collapsed": false,
        "id": "l39ZahiN2DpJ"
      }
    },
    {
      "cell_type": "markdown",
      "source": [
        "#### Aspecto `calefaccion`"
      ],
      "metadata": {
        "id": "a4pG3YbW1wnt"
      }
    },
    {
      "cell_type": "code",
      "execution_count": 67,
      "outputs": [
        {
          "output_type": "execute_result",
          "data": {
            "text/plain": [
              "[('calefaccion', 15447),\n",
              " ('radiante', 4448),\n",
              " ('losa', 3916),\n",
              " ('central', 3444),\n",
              " ('caliente', 2653),\n",
              " ('agua', 2257),\n",
              " ('radiadores', 2052),\n",
              " ('individual', 1921),\n",
              " ('aire', 1777),\n",
              " ('piso', 1527),\n",
              " ('caldera', 1246),\n",
              " ('tiro', 1197),\n",
              " ('acondicionado', 1097),\n",
              " ('servicios', 1056),\n",
              " ('ambientes', 798)]"
            ]
          },
          "metadata": {},
          "execution_count": 67
        }
      ],
      "source": [
        "Counter(\" \".join(df_nostopwords[\"calefaccion\"]).split()).most_common(cant_val_aspectos)"
      ],
      "metadata": {
        "id": "RPZApHfA2DpJ",
        "colab": {
          "base_uri": "https://localhost:8080/"
        },
        "outputId": "379e6c5c-f46b-45aa-ba8c-69697e87ce14"
      }
    },
    {
      "cell_type": "markdown",
      "source": [
        "Para `calefaccion`, los valores podrían ser: \n",
        "- radiadores\n",
        "- radiante\n",
        "- central\n",
        "- individual"
      ],
      "metadata": {
        "collapsed": false,
        "id": "Mt-7dfsl2DpK"
      }
    },
    {
      "cell_type": "markdown",
      "source": [
        "#### Aspecto `expensas`"
      ],
      "metadata": {
        "id": "XfzRZc861ysa"
      }
    },
    {
      "cell_type": "code",
      "execution_count": 68,
      "outputs": [
        {
          "output_type": "execute_result",
          "data": {
            "text/plain": [
              "[('expensas', 35164),\n",
              " ('servicios', 6846),\n",
              " ('impuestos', 5906),\n",
              " ('valores', 5559),\n",
              " ('bajas', 4879),\n",
              " ('funcionales', 4365),\n",
              " ('000', 3296),\n",
              " ('abl', 2445),\n",
              " ('medidas', 1959),\n",
              " ('aysa', 1606),\n",
              " ('sujetos', 1542),\n",
              " ('propiedad', 1276),\n",
              " ('superficies', 1260),\n",
              " ('indicados', 1242),\n",
              " ('consignadas', 1189),\n",
              " ('2021', 1147),\n",
              " ('tasas', 1143),\n",
              " ('mensuales', 1138),\n",
              " ('consignado', 1084),\n",
              " ('gastos', 1053),\n",
              " ('presente', 1046),\n",
              " ('ambientes', 1044),\n",
              " ('sujeto', 947),\n",
              " ('500', 942),\n",
              " ('edificio', 915),\n",
              " ('aprox', 867),\n",
              " ('4', 835),\n",
              " ('incluyen', 829),\n",
              " ('2', 819),\n",
              " ('3', 806)]"
            ]
          },
          "metadata": {},
          "execution_count": 68
        }
      ],
      "source": [
        "Counter(\" \".join(df_nostopwords[\"expensas\"]).split()).most_common(cant_val_aspectos*2)"
      ],
      "metadata": {
        "id": "iRKPdGhA2DpK",
        "colab": {
          "base_uri": "https://localhost:8080/"
        },
        "outputId": "0cfba2fa-60de-4bea-b6ef-49462e298733"
      }
    },
    {
      "cell_type": "markdown",
      "source": [
        "Para `expensas`, los valores podrían ser: \n",
        "- serviocios\n",
        "- impuestos \n",
        "- bajas"
      ],
      "metadata": {
        "collapsed": false,
        "id": "C7EiojY82DpK"
      }
    },
    {
      "cell_type": "markdown",
      "source": [
        "#### Aspecto `lavadero`"
      ],
      "metadata": {
        "id": "ZVVvuLxu11U0"
      }
    },
    {
      "cell_type": "code",
      "execution_count": 69,
      "outputs": [
        {
          "output_type": "execute_result",
          "data": {
            "text/plain": [
              "[('lavadero', 28548),\n",
              " ('independiente', 7972),\n",
              " ('cocina', 7923),\n",
              " ('comedor', 4376),\n",
              " ('bano', 4342),\n",
              " ('diario', 3175),\n",
              " ('servicio', 2922),\n",
              " ('dependencia', 2920),\n",
              " ('incorporado', 2506),\n",
              " ('completo', 2102),\n",
              " ('patio', 1882),\n",
              " ('separado', 1807),\n",
              " ('balcon', 1738),\n",
              " ('espacio', 1736),\n",
              " ('toilette', 1385)]"
            ]
          },
          "metadata": {},
          "execution_count": 69
        }
      ],
      "source": [
        "Counter(\" \".join(df_nostopwords[\"lavadero\"]).split()).most_common(cant_val_aspectos)"
      ],
      "metadata": {
        "id": "sAzBKC5c2DpK",
        "colab": {
          "base_uri": "https://localhost:8080/"
        },
        "outputId": "4d89369e-a4c9-413e-de02-bac2e198fee3"
      }
    },
    {
      "cell_type": "markdown",
      "source": [
        "Para `lavadero`, los valores podrían ser: \n",
        "- independiente\n",
        "- cocina\n",
        "- comedor"
      ],
      "metadata": {
        "collapsed": false,
        "id": "i8zxU-Co2DpL"
      }
    },
    {
      "cell_type": "markdown",
      "source": [
        "#### Aspecto `balcon`"
      ],
      "metadata": {
        "id": "0opxhwgx122i"
      }
    },
    {
      "cell_type": "code",
      "execution_count": 70,
      "outputs": [
        {
          "output_type": "execute_result",
          "data": {
            "text/plain": [
              "[('balcon', 42917),\n",
              " ('salida', 9996),\n",
              " ('frente', 9711),\n",
              " ('comedor', 8052),\n",
              " ('ambientes', 6387),\n",
              " ('corrido', 6126),\n",
              " ('cocina', 4569),\n",
              " ('living', 4207),\n",
              " ('vista', 4051),\n",
              " ('amplio', 3716),\n",
              " ('terraza', 3682),\n",
              " ('aterrazado', 3172),\n",
              " ('2', 3151),\n",
              " ('luminoso', 2855),\n",
              " ('3', 2684)]"
            ]
          },
          "metadata": {},
          "execution_count": 70
        }
      ],
      "source": [
        "Counter(\" \".join(df_nostopwords[\"balcon\"]).split()).most_common(cant_val_aspectos)"
      ],
      "metadata": {
        "id": "geCmhGct2DpL",
        "colab": {
          "base_uri": "https://localhost:8080/"
        },
        "outputId": "142ac8d5-2e37-4358-a9e4-734ffb1e4ac2"
      }
    },
    {
      "cell_type": "markdown",
      "source": [
        "Para `balcon`, los valores podrían ser: \n",
        "- frente\n",
        "- amplio \n",
        "- terraza \n",
        "- salida \n",
        "- corrido\n",
        "- luminoso"
      ],
      "metadata": {
        "collapsed": false,
        "id": "GUiM00PQ2DpL"
      }
    },
    {
      "cell_type": "markdown",
      "source": [
        "#### Aspecto `cochera`"
      ],
      "metadata": {
        "id": "W05qxE7f138s"
      }
    },
    {
      "cell_type": "code",
      "execution_count": 71,
      "outputs": [
        {
          "output_type": "execute_result",
          "data": {
            "text/plain": [
              "[('cochera', 17208),\n",
              " ('cocheras', 7359),\n",
              " ('fija', 4756),\n",
              " ('cubierta', 4118),\n",
              " ('ambientes', 3484),\n",
              " ('baulera', 2863),\n",
              " ('2', 2467),\n",
              " ('edificio', 2119),\n",
              " ('balcon', 1521),\n",
              " ('3', 1399),\n",
              " ('opcional', 1307),\n",
              " ('1', 1132),\n",
              " ('fijas', 1080),\n",
              " ('terraza', 1007),\n",
              " ('dependencia', 979),\n",
              " ('posibilidad', 958),\n",
              " ('piso', 826),\n",
              " ('frente', 780),\n",
              " ('bano', 760),\n",
              " ('departamento', 759),\n",
              " ('disponibles', 759),\n",
              " ('4', 753),\n",
              " ('servicio', 729),\n",
              " ('planta', 701),\n",
              " ('parrilla', 699),\n",
              " ('espacio', 615),\n",
              " ('subsuelo', 598),\n",
              " ('amenities', 586),\n",
              " ('completo', 553),\n",
              " ('patio', 525)]"
            ]
          },
          "metadata": {},
          "execution_count": 71
        }
      ],
      "source": [
        "Counter(\" \".join(df_nostopwords[\"cochera\"]).split()).most_common(cant_val_aspectos*2)"
      ],
      "metadata": {
        "id": "vF7x7sFV2DpL",
        "colab": {
          "base_uri": "https://localhost:8080/"
        },
        "outputId": "02a62883-8bef-4876-bdab-b160d8c90ecd"
      }
    },
    {
      "cell_type": "markdown",
      "source": [
        "Para `cochera`, los valores podrían ser: \n",
        "- fija\n",
        "- cubierta"
      ],
      "metadata": {
        "collapsed": false,
        "id": "_sGYjhjF2DpM"
      }
    },
    {
      "cell_type": "markdown",
      "source": [
        "#### Aspecto `aire`"
      ],
      "metadata": {
        "id": "ehAh9leY2Lfu"
      }
    },
    {
      "cell_type": "code",
      "execution_count": 72,
      "outputs": [
        {
          "output_type": "execute_result",
          "data": {
            "text/plain": [
              "[('aire', 20578),\n",
              " ('acondicionado', 14337),\n",
              " ('frio', 5985),\n",
              " ('aires', 5809),\n",
              " ('split', 2204),\n",
              " ('ciudad', 2020),\n",
              " ('acondicionados', 1961),\n",
              " ('luz', 1851),\n",
              " ('equipos', 1585),\n",
              " ('calefaccion', 1493),\n",
              " ('instalacion', 1413),\n",
              " ('ambientes', 1411),\n",
              " ('living', 1138),\n",
              " ('central', 1062),\n",
              " ('balcon', 1002)]"
            ]
          },
          "metadata": {},
          "execution_count": 72
        }
      ],
      "source": [
        "Counter(\" \".join(df_nostopwords[\"aire\"]).split()).most_common(cant_val_aspectos)"
      ],
      "metadata": {
        "id": "eQlqeMRa2DpM",
        "colab": {
          "base_uri": "https://localhost:8080/"
        },
        "outputId": "861ce0da-a1bc-43b9-9663-81daa8c42b42"
      }
    },
    {
      "cell_type": "markdown",
      "source": [
        "Para `aire`, posibles valores son: \n",
        "- split \n",
        "- central \n",
        "- acondicionado"
      ],
      "metadata": {
        "collapsed": false,
        "id": "9hWHT90P2DpM"
      }
    },
    {
      "cell_type": "markdown",
      "source": [
        "#### Consolidación de valores"
      ],
      "metadata": {
        "id": "fF4R61si2RJI"
      }
    },
    {
      "cell_type": "markdown",
      "source": [
        "A continuación creamos la variable `values`, que contiene los posibles valores para cada uno de los aspectos elegidos:"
      ],
      "metadata": {
        "collapsed": false,
        "id": "ZTu9pPYV2DpN"
      }
    },
    {
      "cell_type": "code",
      "execution_count": 73,
      "outputs": [],
      "source": [
        "values_cocina = ['integrada' , 'lavadero' , 'completa']\n",
        "values_pisos = ['porcelanato' , 'parquet' , 'ceramicos']\n",
        "values_calefaccion = ['radiadores' , 'radiante' , 'central' , 'individual']\n",
        "values_expensas = ['serviocios' , 'impuestos' , 'bajas']\n",
        "values_lavadero = ['independiente' , 'cocina' , 'comedor']\n",
        "values_balcon = ['frente' , 'amplio' , 'terraza' , 'salida' , 'corrido' , 'luminoso']\n",
        "values_cochera = ['fija' , 'cubierta']\n",
        "values_aire = ['split' , 'central' , 'acondicionado']"
      ],
      "metadata": {
        "id": "8woiCcO32DpN"
      }
    },
    {
      "cell_type": "code",
      "source": [
        "values = [values_cocina, values_pisos, values_calefaccion, values_expensas, values_lavadero, values_balcon, values_cochera, values_aire]"
      ],
      "metadata": {
        "id": "CFU_0j0EGUE5"
      },
      "execution_count": 74,
      "outputs": []
    },
    {
      "cell_type": "markdown",
      "source": [
        "En primer lugar, creamos un dataset auxiliar que tenga los IDs y las columnas de los aspectos:"
      ],
      "metadata": {
        "collapsed": false,
        "id": "B9JpAzOi2DpN"
      }
    },
    {
      "cell_type": "code",
      "execution_count": 75,
      "outputs": [],
      "source": [
        "aux_df = df_nostopwords.copy()\n",
        "aux_df.drop('property_description', inplace=True, axis=1)"
      ],
      "metadata": {
        "id": "Z617kPUE2DpN"
      }
    },
    {
      "cell_type": "markdown",
      "source": [
        "Luego creamos una función a la que -pasándole un dataset, los aspectos y el listado de valores posibles- reemplace el contenido de las columnas por los valores correspondientes."
      ],
      "metadata": {
        "collapsed": false,
        "id": "qpHzefm72DpO"
      }
    },
    {
      "cell_type": "markdown",
      "source": [
        "Modificamos las columnas de los aspectos, para que sólo queden los valores correspondientes:"
      ],
      "metadata": {
        "collapsed": false,
        "id": "8A7lmncH2DpO"
      }
    },
    {
      "cell_type": "code",
      "execution_count": 76,
      "outputs": [
        {
          "output_type": "execute_result",
          "data": {
            "text/plain": [
              "                          id     cocina    pisos calefaccion   expensas  \\\n",
              "0   1gMQ4rXcpnPs+hhvW11Jdw==                                  impuestos   \n",
              "1   p7gmyqzdOy/+odHwH5oPyg==                                              \n",
              "2   ZYkS+4dCz1vUENzAREcX9w==                                              \n",
              "3   UL/s8zoicLDXXwhaelBgFQ==                                              \n",
              "4   wnz+hkCE7RVBNcqDQEtFSw==                                              \n",
              "5   +QvrIZqpMPRxlz+ilj1LkA==  integrada                                   \n",
              "6   MGM2azMohIovCwT8jcExeQ==                                              \n",
              "7   uLDfFrhFSDasD1UObhqHmg==   lavadero                                   \n",
              "8   6iHL1ay2QcrLeLh+K33ziw==                                      bajas   \n",
              "9   8J08zxRGfHVQ3dzTyopnWQ==                        radiante              \n",
              "10  hv+iqnYbUuKS7MQkVCzkRA==                                              \n",
              "11  Lu1rSiGGMQCOTDcBWNcYfA==   lavadero                                   \n",
              "12  LMqmEl4LAY5TKFXzvGlirg==                        radiante              \n",
              "13  4ulusHTiqgbv2tElh+CCTA==             parquet  individual              \n",
              "14  52xVuDOa1lH99pJZCqpl1g==   lavadero             radiante              \n",
              "15  DUAJw7dW3XPO8hlwhgdx/w==   lavadero                                   \n",
              "16  bwIe0cOAUilZr/srSdv60A==  integrada                                   \n",
              "17  IuTGzi0HYmRM0dNlN7RvBw==  integrada                                   \n",
              "18  WWLInAn221iNKVmqmMktyg==             parquet                          \n",
              "19  hPJUQzLWvtqqIts7bW3uuw==                                              \n",
              "\n",
              "         lavadero   balcon cochera           aire  \n",
              "0                  terraza                         \n",
              "1                   amplio                         \n",
              "2                                                  \n",
              "3                                   acondicionado  \n",
              "4                                                  \n",
              "5   independiente                                  \n",
              "6                                                  \n",
              "7   independiente   frente          acondicionado  \n",
              "8                                                  \n",
              "9                   salida                         \n",
              "10                  frente          acondicionado  \n",
              "11         cocina                                  \n",
              "12                            fija  acondicionado  \n",
              "13                  frente          acondicionado  \n",
              "14         cocina   salida                         \n",
              "15  independiente  terraza    fija                 \n",
              "16                                  acondicionado  \n",
              "17                  frente                         \n",
              "18  independiente   frente                         \n",
              "19        comedor   frente                         "
            ],
            "text/html": [
              "\n",
              "  <div id=\"df-6fecac70-a007-4677-98aa-ffc70fffb45c\">\n",
              "    <div class=\"colab-df-container\">\n",
              "      <div>\n",
              "<style scoped>\n",
              "    .dataframe tbody tr th:only-of-type {\n",
              "        vertical-align: middle;\n",
              "    }\n",
              "\n",
              "    .dataframe tbody tr th {\n",
              "        vertical-align: top;\n",
              "    }\n",
              "\n",
              "    .dataframe thead th {\n",
              "        text-align: right;\n",
              "    }\n",
              "</style>\n",
              "<table border=\"1\" class=\"dataframe\">\n",
              "  <thead>\n",
              "    <tr style=\"text-align: right;\">\n",
              "      <th></th>\n",
              "      <th>id</th>\n",
              "      <th>cocina</th>\n",
              "      <th>pisos</th>\n",
              "      <th>calefaccion</th>\n",
              "      <th>expensas</th>\n",
              "      <th>lavadero</th>\n",
              "      <th>balcon</th>\n",
              "      <th>cochera</th>\n",
              "      <th>aire</th>\n",
              "    </tr>\n",
              "  </thead>\n",
              "  <tbody>\n",
              "    <tr>\n",
              "      <th>0</th>\n",
              "      <td>1gMQ4rXcpnPs+hhvW11Jdw==</td>\n",
              "      <td></td>\n",
              "      <td></td>\n",
              "      <td></td>\n",
              "      <td>impuestos</td>\n",
              "      <td></td>\n",
              "      <td>terraza</td>\n",
              "      <td></td>\n",
              "      <td></td>\n",
              "    </tr>\n",
              "    <tr>\n",
              "      <th>1</th>\n",
              "      <td>p7gmyqzdOy/+odHwH5oPyg==</td>\n",
              "      <td></td>\n",
              "      <td></td>\n",
              "      <td></td>\n",
              "      <td></td>\n",
              "      <td></td>\n",
              "      <td>amplio</td>\n",
              "      <td></td>\n",
              "      <td></td>\n",
              "    </tr>\n",
              "    <tr>\n",
              "      <th>2</th>\n",
              "      <td>ZYkS+4dCz1vUENzAREcX9w==</td>\n",
              "      <td></td>\n",
              "      <td></td>\n",
              "      <td></td>\n",
              "      <td></td>\n",
              "      <td></td>\n",
              "      <td></td>\n",
              "      <td></td>\n",
              "      <td></td>\n",
              "    </tr>\n",
              "    <tr>\n",
              "      <th>3</th>\n",
              "      <td>UL/s8zoicLDXXwhaelBgFQ==</td>\n",
              "      <td></td>\n",
              "      <td></td>\n",
              "      <td></td>\n",
              "      <td></td>\n",
              "      <td></td>\n",
              "      <td></td>\n",
              "      <td></td>\n",
              "      <td>acondicionado</td>\n",
              "    </tr>\n",
              "    <tr>\n",
              "      <th>4</th>\n",
              "      <td>wnz+hkCE7RVBNcqDQEtFSw==</td>\n",
              "      <td></td>\n",
              "      <td></td>\n",
              "      <td></td>\n",
              "      <td></td>\n",
              "      <td></td>\n",
              "      <td></td>\n",
              "      <td></td>\n",
              "      <td></td>\n",
              "    </tr>\n",
              "    <tr>\n",
              "      <th>5</th>\n",
              "      <td>+QvrIZqpMPRxlz+ilj1LkA==</td>\n",
              "      <td>integrada</td>\n",
              "      <td></td>\n",
              "      <td></td>\n",
              "      <td></td>\n",
              "      <td>independiente</td>\n",
              "      <td></td>\n",
              "      <td></td>\n",
              "      <td></td>\n",
              "    </tr>\n",
              "    <tr>\n",
              "      <th>6</th>\n",
              "      <td>MGM2azMohIovCwT8jcExeQ==</td>\n",
              "      <td></td>\n",
              "      <td></td>\n",
              "      <td></td>\n",
              "      <td></td>\n",
              "      <td></td>\n",
              "      <td></td>\n",
              "      <td></td>\n",
              "      <td></td>\n",
              "    </tr>\n",
              "    <tr>\n",
              "      <th>7</th>\n",
              "      <td>uLDfFrhFSDasD1UObhqHmg==</td>\n",
              "      <td>lavadero</td>\n",
              "      <td></td>\n",
              "      <td></td>\n",
              "      <td></td>\n",
              "      <td>independiente</td>\n",
              "      <td>frente</td>\n",
              "      <td></td>\n",
              "      <td>acondicionado</td>\n",
              "    </tr>\n",
              "    <tr>\n",
              "      <th>8</th>\n",
              "      <td>6iHL1ay2QcrLeLh+K33ziw==</td>\n",
              "      <td></td>\n",
              "      <td></td>\n",
              "      <td></td>\n",
              "      <td>bajas</td>\n",
              "      <td></td>\n",
              "      <td></td>\n",
              "      <td></td>\n",
              "      <td></td>\n",
              "    </tr>\n",
              "    <tr>\n",
              "      <th>9</th>\n",
              "      <td>8J08zxRGfHVQ3dzTyopnWQ==</td>\n",
              "      <td></td>\n",
              "      <td></td>\n",
              "      <td>radiante</td>\n",
              "      <td></td>\n",
              "      <td></td>\n",
              "      <td>salida</td>\n",
              "      <td></td>\n",
              "      <td></td>\n",
              "    </tr>\n",
              "    <tr>\n",
              "      <th>10</th>\n",
              "      <td>hv+iqnYbUuKS7MQkVCzkRA==</td>\n",
              "      <td></td>\n",
              "      <td></td>\n",
              "      <td></td>\n",
              "      <td></td>\n",
              "      <td></td>\n",
              "      <td>frente</td>\n",
              "      <td></td>\n",
              "      <td>acondicionado</td>\n",
              "    </tr>\n",
              "    <tr>\n",
              "      <th>11</th>\n",
              "      <td>Lu1rSiGGMQCOTDcBWNcYfA==</td>\n",
              "      <td>lavadero</td>\n",
              "      <td></td>\n",
              "      <td></td>\n",
              "      <td></td>\n",
              "      <td>cocina</td>\n",
              "      <td></td>\n",
              "      <td></td>\n",
              "      <td></td>\n",
              "    </tr>\n",
              "    <tr>\n",
              "      <th>12</th>\n",
              "      <td>LMqmEl4LAY5TKFXzvGlirg==</td>\n",
              "      <td></td>\n",
              "      <td></td>\n",
              "      <td>radiante</td>\n",
              "      <td></td>\n",
              "      <td></td>\n",
              "      <td></td>\n",
              "      <td>fija</td>\n",
              "      <td>acondicionado</td>\n",
              "    </tr>\n",
              "    <tr>\n",
              "      <th>13</th>\n",
              "      <td>4ulusHTiqgbv2tElh+CCTA==</td>\n",
              "      <td></td>\n",
              "      <td>parquet</td>\n",
              "      <td>individual</td>\n",
              "      <td></td>\n",
              "      <td></td>\n",
              "      <td>frente</td>\n",
              "      <td></td>\n",
              "      <td>acondicionado</td>\n",
              "    </tr>\n",
              "    <tr>\n",
              "      <th>14</th>\n",
              "      <td>52xVuDOa1lH99pJZCqpl1g==</td>\n",
              "      <td>lavadero</td>\n",
              "      <td></td>\n",
              "      <td>radiante</td>\n",
              "      <td></td>\n",
              "      <td>cocina</td>\n",
              "      <td>salida</td>\n",
              "      <td></td>\n",
              "      <td></td>\n",
              "    </tr>\n",
              "    <tr>\n",
              "      <th>15</th>\n",
              "      <td>DUAJw7dW3XPO8hlwhgdx/w==</td>\n",
              "      <td>lavadero</td>\n",
              "      <td></td>\n",
              "      <td></td>\n",
              "      <td></td>\n",
              "      <td>independiente</td>\n",
              "      <td>terraza</td>\n",
              "      <td>fija</td>\n",
              "      <td></td>\n",
              "    </tr>\n",
              "    <tr>\n",
              "      <th>16</th>\n",
              "      <td>bwIe0cOAUilZr/srSdv60A==</td>\n",
              "      <td>integrada</td>\n",
              "      <td></td>\n",
              "      <td></td>\n",
              "      <td></td>\n",
              "      <td></td>\n",
              "      <td></td>\n",
              "      <td></td>\n",
              "      <td>acondicionado</td>\n",
              "    </tr>\n",
              "    <tr>\n",
              "      <th>17</th>\n",
              "      <td>IuTGzi0HYmRM0dNlN7RvBw==</td>\n",
              "      <td>integrada</td>\n",
              "      <td></td>\n",
              "      <td></td>\n",
              "      <td></td>\n",
              "      <td></td>\n",
              "      <td>frente</td>\n",
              "      <td></td>\n",
              "      <td></td>\n",
              "    </tr>\n",
              "    <tr>\n",
              "      <th>18</th>\n",
              "      <td>WWLInAn221iNKVmqmMktyg==</td>\n",
              "      <td></td>\n",
              "      <td>parquet</td>\n",
              "      <td></td>\n",
              "      <td></td>\n",
              "      <td>independiente</td>\n",
              "      <td>frente</td>\n",
              "      <td></td>\n",
              "      <td></td>\n",
              "    </tr>\n",
              "    <tr>\n",
              "      <th>19</th>\n",
              "      <td>hPJUQzLWvtqqIts7bW3uuw==</td>\n",
              "      <td></td>\n",
              "      <td></td>\n",
              "      <td></td>\n",
              "      <td></td>\n",
              "      <td>comedor</td>\n",
              "      <td>frente</td>\n",
              "      <td></td>\n",
              "      <td></td>\n",
              "    </tr>\n",
              "  </tbody>\n",
              "</table>\n",
              "</div>\n",
              "      <button class=\"colab-df-convert\" onclick=\"convertToInteractive('df-6fecac70-a007-4677-98aa-ffc70fffb45c')\"\n",
              "              title=\"Convert this dataframe to an interactive table.\"\n",
              "              style=\"display:none;\">\n",
              "        \n",
              "  <svg xmlns=\"http://www.w3.org/2000/svg\" height=\"24px\"viewBox=\"0 0 24 24\"\n",
              "       width=\"24px\">\n",
              "    <path d=\"M0 0h24v24H0V0z\" fill=\"none\"/>\n",
              "    <path d=\"M18.56 5.44l.94 2.06.94-2.06 2.06-.94-2.06-.94-.94-2.06-.94 2.06-2.06.94zm-11 1L8.5 8.5l.94-2.06 2.06-.94-2.06-.94L8.5 2.5l-.94 2.06-2.06.94zm10 10l.94 2.06.94-2.06 2.06-.94-2.06-.94-.94-2.06-.94 2.06-2.06.94z\"/><path d=\"M17.41 7.96l-1.37-1.37c-.4-.4-.92-.59-1.43-.59-.52 0-1.04.2-1.43.59L10.3 9.45l-7.72 7.72c-.78.78-.78 2.05 0 2.83L4 21.41c.39.39.9.59 1.41.59.51 0 1.02-.2 1.41-.59l7.78-7.78 2.81-2.81c.8-.78.8-2.07 0-2.86zM5.41 20L4 18.59l7.72-7.72 1.47 1.35L5.41 20z\"/>\n",
              "  </svg>\n",
              "      </button>\n",
              "      \n",
              "  <style>\n",
              "    .colab-df-container {\n",
              "      display:flex;\n",
              "      flex-wrap:wrap;\n",
              "      gap: 12px;\n",
              "    }\n",
              "\n",
              "    .colab-df-convert {\n",
              "      background-color: #E8F0FE;\n",
              "      border: none;\n",
              "      border-radius: 50%;\n",
              "      cursor: pointer;\n",
              "      display: none;\n",
              "      fill: #1967D2;\n",
              "      height: 32px;\n",
              "      padding: 0 0 0 0;\n",
              "      width: 32px;\n",
              "    }\n",
              "\n",
              "    .colab-df-convert:hover {\n",
              "      background-color: #E2EBFA;\n",
              "      box-shadow: 0px 1px 2px rgba(60, 64, 67, 0.3), 0px 1px 3px 1px rgba(60, 64, 67, 0.15);\n",
              "      fill: #174EA6;\n",
              "    }\n",
              "\n",
              "    [theme=dark] .colab-df-convert {\n",
              "      background-color: #3B4455;\n",
              "      fill: #D2E3FC;\n",
              "    }\n",
              "\n",
              "    [theme=dark] .colab-df-convert:hover {\n",
              "      background-color: #434B5C;\n",
              "      box-shadow: 0px 1px 3px 1px rgba(0, 0, 0, 0.15);\n",
              "      filter: drop-shadow(0px 1px 2px rgba(0, 0, 0, 0.3));\n",
              "      fill: #FFFFFF;\n",
              "    }\n",
              "  </style>\n",
              "\n",
              "      <script>\n",
              "        const buttonEl =\n",
              "          document.querySelector('#df-6fecac70-a007-4677-98aa-ffc70fffb45c button.colab-df-convert');\n",
              "        buttonEl.style.display =\n",
              "          google.colab.kernel.accessAllowed ? 'block' : 'none';\n",
              "\n",
              "        async function convertToInteractive(key) {\n",
              "          const element = document.querySelector('#df-6fecac70-a007-4677-98aa-ffc70fffb45c');\n",
              "          const dataTable =\n",
              "            await google.colab.kernel.invokeFunction('convertToInteractive',\n",
              "                                                     [key], {});\n",
              "          if (!dataTable) return;\n",
              "\n",
              "          const docLinkHtml = 'Like what you see? Visit the ' +\n",
              "            '<a target=\"_blank\" href=https://colab.research.google.com/notebooks/data_table.ipynb>data table notebook</a>'\n",
              "            + ' to learn more about interactive tables.';\n",
              "          element.innerHTML = '';\n",
              "          dataTable['output_type'] = 'display_data';\n",
              "          await google.colab.output.renderOutput(dataTable, element);\n",
              "          const docLink = document.createElement('div');\n",
              "          docLink.innerHTML = docLinkHtml;\n",
              "          element.appendChild(docLink);\n",
              "        }\n",
              "      </script>\n",
              "    </div>\n",
              "  </div>\n",
              "  "
            ]
          },
          "metadata": {},
          "execution_count": 76
        }
      ],
      "source": [
        "limpiar_values_de_aspects(aux_df, aspectos, values)\n",
        "aux_df.head(20)"
      ],
      "metadata": {
        "id": "WXhzGxCl2DpO",
        "colab": {
          "base_uri": "https://localhost:8080/",
          "height": 677
        },
        "outputId": "6d07599a-1a13-40f8-a05f-81086b1eaeb0"
      }
    },
    {
      "cell_type": "markdown",
      "source": [
        "Por último hacemos el merge con el dataset original, teniendo en cuenta los IDs:"
      ],
      "metadata": {
        "collapsed": false,
        "id": "Ia2LxOLq2DpP"
      }
    },
    {
      "cell_type": "code",
      "execution_count": 77,
      "outputs": [
        {
          "output_type": "execute_result",
          "data": {
            "text/plain": [
              "                          id  start_date  end_date    latitud   longitud  \\\n",
              "0   1gMQ4rXcpnPs+hhvW11Jdw==      738005    738091 -34.622385 -58.448886   \n",
              "1   p7gmyqzdOy/+odHwH5oPyg==      737817    737946 -34.618084 -58.359912   \n",
              "2   ZYkS+4dCz1vUENzAREcX9w==      738035    738035 -34.601159 -58.398106   \n",
              "3   UL/s8zoicLDXXwhaelBgFQ==      738140    738195 -34.605542 -58.390007   \n",
              "4   wnz+hkCE7RVBNcqDQEtFSw==      737868    737946 -34.593266 -58.381426   \n",
              "5   +QvrIZqpMPRxlz+ilj1LkA==      737881    737965 -34.564779 -58.505463   \n",
              "6   MGM2azMohIovCwT8jcExeQ==      737879    737907 -34.612009 -58.475824   \n",
              "7   uLDfFrhFSDasD1UObhqHmg==      737833    738127 -34.583237 -58.444843   \n",
              "8   6iHL1ay2QcrLeLh+K33ziw==      737829    737867 -34.595346 -58.445428   \n",
              "9   8J08zxRGfHVQ3dzTyopnWQ==      738099    738206 -34.599183 -58.425177   \n",
              "10  hv+iqnYbUuKS7MQkVCzkRA==      737944    737946 -34.632134 -58.464092   \n",
              "11  Lu1rSiGGMQCOTDcBWNcYfA==      738053    738223 -34.600915 -58.372506   \n",
              "12  LMqmEl4LAY5TKFXzvGlirg==      737811    737946 -34.574988 -58.420192   \n",
              "13  4ulusHTiqgbv2tElh+CCTA==      737823    737878 -34.597629 -58.433326   \n",
              "14  52xVuDOa1lH99pJZCqpl1g==      737865    737946 -34.581249 -58.410561   \n",
              "15  DUAJw7dW3XPO8hlwhgdx/w==      737854    737859 -34.573623 -58.421204   \n",
              "16  bwIe0cOAUilZr/srSdv60A==      738027    738037 -34.578090 -58.489813   \n",
              "17  IuTGzi0HYmRM0dNlN7RvBw==      737921    738007 -34.541875 -58.463895   \n",
              "18  WWLInAn221iNKVmqmMktyg==      737987    738417 -34.604974 -58.459013   \n",
              "19  hPJUQzLWvtqqIts7bW3uuw==      737844    737960 -34.635498 -58.374099   \n",
              "\n",
              "            place_l4 property_type  property_rooms  property_surface_total  \\\n",
              "0          Caballito  Departamento             4.0                   113.0   \n",
              "1      Puerto Madero  Departamento             2.0                    70.0   \n",
              "2          Balvanera  Departamento             1.0                    33.0   \n",
              "3        San Nicolás  Departamento             1.0                    30.0   \n",
              "4             Retiro  Departamento             1.0                    40.0   \n",
              "5      Villa Urquiza            PH             6.0                   184.0   \n",
              "6   Villa del Parque          Casa             5.0                   320.0   \n",
              "7         Colegiales  Departamento             2.0                    63.0   \n",
              "8       Villa Crespo  Departamento             3.0                    72.0   \n",
              "9            Almagro  Departamento             3.0                    65.0   \n",
              "10            Flores  Departamento             3.0                    72.0   \n",
              "11       San Nicolás  Departamento             2.0                    38.0   \n",
              "12           Palermo  Departamento             3.0                   100.0   \n",
              "13      Villa Crespo  Departamento             3.0                    65.0   \n",
              "14     Palermo Chico  Departamento             3.0                    78.0   \n",
              "15           Palermo  Departamento             4.0                   140.0   \n",
              "16     Villa Urquiza  Departamento             3.0                    75.0   \n",
              "17             Nuñez  Departamento             2.0                    56.0   \n",
              "18      Villa Crespo  Departamento             3.0                    70.0   \n",
              "19          Barracas  Departamento             4.0                   108.0   \n",
              "\n",
              "    property_price     cocina    pisos calefaccion   expensas       lavadero  \\\n",
              "0         288000.0                                  impuestos                  \n",
              "1         450000.0                                                             \n",
              "2          77243.0                                                             \n",
              "3          65000.0                                                             \n",
              "4          79000.0                                                             \n",
              "5         350000.0  integrada                                  independiente   \n",
              "6         450000.0                                                             \n",
              "7         199000.0   lavadero                                  independiente   \n",
              "8         145000.0                                      bajas                  \n",
              "9         190000.0                        radiante                             \n",
              "10        139900.0                                                             \n",
              "11         57800.0   lavadero                                         cocina   \n",
              "12        600000.0                        radiante                             \n",
              "13        155000.0             parquet  individual                             \n",
              "14        270000.0   lavadero             radiante                    cocina   \n",
              "15        798000.0   lavadero                                  independiente   \n",
              "16        205000.0  integrada                                                  \n",
              "17        150000.0  integrada                                                  \n",
              "18        148000.0             parquet                         independiente   \n",
              "19        239000.0                                                   comedor   \n",
              "\n",
              "     balcon cochera           aire  \n",
              "0   terraza                         \n",
              "1    amplio                         \n",
              "2                                   \n",
              "3                    acondicionado  \n",
              "4                                   \n",
              "5                                   \n",
              "6                                   \n",
              "7    frente          acondicionado  \n",
              "8                                   \n",
              "9    salida                         \n",
              "10   frente          acondicionado  \n",
              "11                                  \n",
              "12             fija  acondicionado  \n",
              "13   frente          acondicionado  \n",
              "14   salida                         \n",
              "15  terraza    fija                 \n",
              "16                   acondicionado  \n",
              "17   frente                         \n",
              "18   frente                         \n",
              "19   frente                         "
            ],
            "text/html": [
              "\n",
              "  <div id=\"df-c3b986f9-fe2e-4f49-8bfa-c761dc42f7a9\">\n",
              "    <div class=\"colab-df-container\">\n",
              "      <div>\n",
              "<style scoped>\n",
              "    .dataframe tbody tr th:only-of-type {\n",
              "        vertical-align: middle;\n",
              "    }\n",
              "\n",
              "    .dataframe tbody tr th {\n",
              "        vertical-align: top;\n",
              "    }\n",
              "\n",
              "    .dataframe thead th {\n",
              "        text-align: right;\n",
              "    }\n",
              "</style>\n",
              "<table border=\"1\" class=\"dataframe\">\n",
              "  <thead>\n",
              "    <tr style=\"text-align: right;\">\n",
              "      <th></th>\n",
              "      <th>id</th>\n",
              "      <th>start_date</th>\n",
              "      <th>end_date</th>\n",
              "      <th>latitud</th>\n",
              "      <th>longitud</th>\n",
              "      <th>place_l4</th>\n",
              "      <th>property_type</th>\n",
              "      <th>property_rooms</th>\n",
              "      <th>property_surface_total</th>\n",
              "      <th>property_price</th>\n",
              "      <th>cocina</th>\n",
              "      <th>pisos</th>\n",
              "      <th>calefaccion</th>\n",
              "      <th>expensas</th>\n",
              "      <th>lavadero</th>\n",
              "      <th>balcon</th>\n",
              "      <th>cochera</th>\n",
              "      <th>aire</th>\n",
              "    </tr>\n",
              "  </thead>\n",
              "  <tbody>\n",
              "    <tr>\n",
              "      <th>0</th>\n",
              "      <td>1gMQ4rXcpnPs+hhvW11Jdw==</td>\n",
              "      <td>738005</td>\n",
              "      <td>738091</td>\n",
              "      <td>-34.622385</td>\n",
              "      <td>-58.448886</td>\n",
              "      <td>Caballito</td>\n",
              "      <td>Departamento</td>\n",
              "      <td>4.0</td>\n",
              "      <td>113.0</td>\n",
              "      <td>288000.0</td>\n",
              "      <td></td>\n",
              "      <td></td>\n",
              "      <td></td>\n",
              "      <td>impuestos</td>\n",
              "      <td></td>\n",
              "      <td>terraza</td>\n",
              "      <td></td>\n",
              "      <td></td>\n",
              "    </tr>\n",
              "    <tr>\n",
              "      <th>1</th>\n",
              "      <td>p7gmyqzdOy/+odHwH5oPyg==</td>\n",
              "      <td>737817</td>\n",
              "      <td>737946</td>\n",
              "      <td>-34.618084</td>\n",
              "      <td>-58.359912</td>\n",
              "      <td>Puerto Madero</td>\n",
              "      <td>Departamento</td>\n",
              "      <td>2.0</td>\n",
              "      <td>70.0</td>\n",
              "      <td>450000.0</td>\n",
              "      <td></td>\n",
              "      <td></td>\n",
              "      <td></td>\n",
              "      <td></td>\n",
              "      <td></td>\n",
              "      <td>amplio</td>\n",
              "      <td></td>\n",
              "      <td></td>\n",
              "    </tr>\n",
              "    <tr>\n",
              "      <th>2</th>\n",
              "      <td>ZYkS+4dCz1vUENzAREcX9w==</td>\n",
              "      <td>738035</td>\n",
              "      <td>738035</td>\n",
              "      <td>-34.601159</td>\n",
              "      <td>-58.398106</td>\n",
              "      <td>Balvanera</td>\n",
              "      <td>Departamento</td>\n",
              "      <td>1.0</td>\n",
              "      <td>33.0</td>\n",
              "      <td>77243.0</td>\n",
              "      <td></td>\n",
              "      <td></td>\n",
              "      <td></td>\n",
              "      <td></td>\n",
              "      <td></td>\n",
              "      <td></td>\n",
              "      <td></td>\n",
              "      <td></td>\n",
              "    </tr>\n",
              "    <tr>\n",
              "      <th>3</th>\n",
              "      <td>UL/s8zoicLDXXwhaelBgFQ==</td>\n",
              "      <td>738140</td>\n",
              "      <td>738195</td>\n",
              "      <td>-34.605542</td>\n",
              "      <td>-58.390007</td>\n",
              "      <td>San Nicolás</td>\n",
              "      <td>Departamento</td>\n",
              "      <td>1.0</td>\n",
              "      <td>30.0</td>\n",
              "      <td>65000.0</td>\n",
              "      <td></td>\n",
              "      <td></td>\n",
              "      <td></td>\n",
              "      <td></td>\n",
              "      <td></td>\n",
              "      <td></td>\n",
              "      <td></td>\n",
              "      <td>acondicionado</td>\n",
              "    </tr>\n",
              "    <tr>\n",
              "      <th>4</th>\n",
              "      <td>wnz+hkCE7RVBNcqDQEtFSw==</td>\n",
              "      <td>737868</td>\n",
              "      <td>737946</td>\n",
              "      <td>-34.593266</td>\n",
              "      <td>-58.381426</td>\n",
              "      <td>Retiro</td>\n",
              "      <td>Departamento</td>\n",
              "      <td>1.0</td>\n",
              "      <td>40.0</td>\n",
              "      <td>79000.0</td>\n",
              "      <td></td>\n",
              "      <td></td>\n",
              "      <td></td>\n",
              "      <td></td>\n",
              "      <td></td>\n",
              "      <td></td>\n",
              "      <td></td>\n",
              "      <td></td>\n",
              "    </tr>\n",
              "    <tr>\n",
              "      <th>5</th>\n",
              "      <td>+QvrIZqpMPRxlz+ilj1LkA==</td>\n",
              "      <td>737881</td>\n",
              "      <td>737965</td>\n",
              "      <td>-34.564779</td>\n",
              "      <td>-58.505463</td>\n",
              "      <td>Villa Urquiza</td>\n",
              "      <td>PH</td>\n",
              "      <td>6.0</td>\n",
              "      <td>184.0</td>\n",
              "      <td>350000.0</td>\n",
              "      <td>integrada</td>\n",
              "      <td></td>\n",
              "      <td></td>\n",
              "      <td></td>\n",
              "      <td>independiente</td>\n",
              "      <td></td>\n",
              "      <td></td>\n",
              "      <td></td>\n",
              "    </tr>\n",
              "    <tr>\n",
              "      <th>6</th>\n",
              "      <td>MGM2azMohIovCwT8jcExeQ==</td>\n",
              "      <td>737879</td>\n",
              "      <td>737907</td>\n",
              "      <td>-34.612009</td>\n",
              "      <td>-58.475824</td>\n",
              "      <td>Villa del Parque</td>\n",
              "      <td>Casa</td>\n",
              "      <td>5.0</td>\n",
              "      <td>320.0</td>\n",
              "      <td>450000.0</td>\n",
              "      <td></td>\n",
              "      <td></td>\n",
              "      <td></td>\n",
              "      <td></td>\n",
              "      <td></td>\n",
              "      <td></td>\n",
              "      <td></td>\n",
              "      <td></td>\n",
              "    </tr>\n",
              "    <tr>\n",
              "      <th>7</th>\n",
              "      <td>uLDfFrhFSDasD1UObhqHmg==</td>\n",
              "      <td>737833</td>\n",
              "      <td>738127</td>\n",
              "      <td>-34.583237</td>\n",
              "      <td>-58.444843</td>\n",
              "      <td>Colegiales</td>\n",
              "      <td>Departamento</td>\n",
              "      <td>2.0</td>\n",
              "      <td>63.0</td>\n",
              "      <td>199000.0</td>\n",
              "      <td>lavadero</td>\n",
              "      <td></td>\n",
              "      <td></td>\n",
              "      <td></td>\n",
              "      <td>independiente</td>\n",
              "      <td>frente</td>\n",
              "      <td></td>\n",
              "      <td>acondicionado</td>\n",
              "    </tr>\n",
              "    <tr>\n",
              "      <th>8</th>\n",
              "      <td>6iHL1ay2QcrLeLh+K33ziw==</td>\n",
              "      <td>737829</td>\n",
              "      <td>737867</td>\n",
              "      <td>-34.595346</td>\n",
              "      <td>-58.445428</td>\n",
              "      <td>Villa Crespo</td>\n",
              "      <td>Departamento</td>\n",
              "      <td>3.0</td>\n",
              "      <td>72.0</td>\n",
              "      <td>145000.0</td>\n",
              "      <td></td>\n",
              "      <td></td>\n",
              "      <td></td>\n",
              "      <td>bajas</td>\n",
              "      <td></td>\n",
              "      <td></td>\n",
              "      <td></td>\n",
              "      <td></td>\n",
              "    </tr>\n",
              "    <tr>\n",
              "      <th>9</th>\n",
              "      <td>8J08zxRGfHVQ3dzTyopnWQ==</td>\n",
              "      <td>738099</td>\n",
              "      <td>738206</td>\n",
              "      <td>-34.599183</td>\n",
              "      <td>-58.425177</td>\n",
              "      <td>Almagro</td>\n",
              "      <td>Departamento</td>\n",
              "      <td>3.0</td>\n",
              "      <td>65.0</td>\n",
              "      <td>190000.0</td>\n",
              "      <td></td>\n",
              "      <td></td>\n",
              "      <td>radiante</td>\n",
              "      <td></td>\n",
              "      <td></td>\n",
              "      <td>salida</td>\n",
              "      <td></td>\n",
              "      <td></td>\n",
              "    </tr>\n",
              "    <tr>\n",
              "      <th>10</th>\n",
              "      <td>hv+iqnYbUuKS7MQkVCzkRA==</td>\n",
              "      <td>737944</td>\n",
              "      <td>737946</td>\n",
              "      <td>-34.632134</td>\n",
              "      <td>-58.464092</td>\n",
              "      <td>Flores</td>\n",
              "      <td>Departamento</td>\n",
              "      <td>3.0</td>\n",
              "      <td>72.0</td>\n",
              "      <td>139900.0</td>\n",
              "      <td></td>\n",
              "      <td></td>\n",
              "      <td></td>\n",
              "      <td></td>\n",
              "      <td></td>\n",
              "      <td>frente</td>\n",
              "      <td></td>\n",
              "      <td>acondicionado</td>\n",
              "    </tr>\n",
              "    <tr>\n",
              "      <th>11</th>\n",
              "      <td>Lu1rSiGGMQCOTDcBWNcYfA==</td>\n",
              "      <td>738053</td>\n",
              "      <td>738223</td>\n",
              "      <td>-34.600915</td>\n",
              "      <td>-58.372506</td>\n",
              "      <td>San Nicolás</td>\n",
              "      <td>Departamento</td>\n",
              "      <td>2.0</td>\n",
              "      <td>38.0</td>\n",
              "      <td>57800.0</td>\n",
              "      <td>lavadero</td>\n",
              "      <td></td>\n",
              "      <td></td>\n",
              "      <td></td>\n",
              "      <td>cocina</td>\n",
              "      <td></td>\n",
              "      <td></td>\n",
              "      <td></td>\n",
              "    </tr>\n",
              "    <tr>\n",
              "      <th>12</th>\n",
              "      <td>LMqmEl4LAY5TKFXzvGlirg==</td>\n",
              "      <td>737811</td>\n",
              "      <td>737946</td>\n",
              "      <td>-34.574988</td>\n",
              "      <td>-58.420192</td>\n",
              "      <td>Palermo</td>\n",
              "      <td>Departamento</td>\n",
              "      <td>3.0</td>\n",
              "      <td>100.0</td>\n",
              "      <td>600000.0</td>\n",
              "      <td></td>\n",
              "      <td></td>\n",
              "      <td>radiante</td>\n",
              "      <td></td>\n",
              "      <td></td>\n",
              "      <td></td>\n",
              "      <td>fija</td>\n",
              "      <td>acondicionado</td>\n",
              "    </tr>\n",
              "    <tr>\n",
              "      <th>13</th>\n",
              "      <td>4ulusHTiqgbv2tElh+CCTA==</td>\n",
              "      <td>737823</td>\n",
              "      <td>737878</td>\n",
              "      <td>-34.597629</td>\n",
              "      <td>-58.433326</td>\n",
              "      <td>Villa Crespo</td>\n",
              "      <td>Departamento</td>\n",
              "      <td>3.0</td>\n",
              "      <td>65.0</td>\n",
              "      <td>155000.0</td>\n",
              "      <td></td>\n",
              "      <td>parquet</td>\n",
              "      <td>individual</td>\n",
              "      <td></td>\n",
              "      <td></td>\n",
              "      <td>frente</td>\n",
              "      <td></td>\n",
              "      <td>acondicionado</td>\n",
              "    </tr>\n",
              "    <tr>\n",
              "      <th>14</th>\n",
              "      <td>52xVuDOa1lH99pJZCqpl1g==</td>\n",
              "      <td>737865</td>\n",
              "      <td>737946</td>\n",
              "      <td>-34.581249</td>\n",
              "      <td>-58.410561</td>\n",
              "      <td>Palermo Chico</td>\n",
              "      <td>Departamento</td>\n",
              "      <td>3.0</td>\n",
              "      <td>78.0</td>\n",
              "      <td>270000.0</td>\n",
              "      <td>lavadero</td>\n",
              "      <td></td>\n",
              "      <td>radiante</td>\n",
              "      <td></td>\n",
              "      <td>cocina</td>\n",
              "      <td>salida</td>\n",
              "      <td></td>\n",
              "      <td></td>\n",
              "    </tr>\n",
              "    <tr>\n",
              "      <th>15</th>\n",
              "      <td>DUAJw7dW3XPO8hlwhgdx/w==</td>\n",
              "      <td>737854</td>\n",
              "      <td>737859</td>\n",
              "      <td>-34.573623</td>\n",
              "      <td>-58.421204</td>\n",
              "      <td>Palermo</td>\n",
              "      <td>Departamento</td>\n",
              "      <td>4.0</td>\n",
              "      <td>140.0</td>\n",
              "      <td>798000.0</td>\n",
              "      <td>lavadero</td>\n",
              "      <td></td>\n",
              "      <td></td>\n",
              "      <td></td>\n",
              "      <td>independiente</td>\n",
              "      <td>terraza</td>\n",
              "      <td>fija</td>\n",
              "      <td></td>\n",
              "    </tr>\n",
              "    <tr>\n",
              "      <th>16</th>\n",
              "      <td>bwIe0cOAUilZr/srSdv60A==</td>\n",
              "      <td>738027</td>\n",
              "      <td>738037</td>\n",
              "      <td>-34.578090</td>\n",
              "      <td>-58.489813</td>\n",
              "      <td>Villa Urquiza</td>\n",
              "      <td>Departamento</td>\n",
              "      <td>3.0</td>\n",
              "      <td>75.0</td>\n",
              "      <td>205000.0</td>\n",
              "      <td>integrada</td>\n",
              "      <td></td>\n",
              "      <td></td>\n",
              "      <td></td>\n",
              "      <td></td>\n",
              "      <td></td>\n",
              "      <td></td>\n",
              "      <td>acondicionado</td>\n",
              "    </tr>\n",
              "    <tr>\n",
              "      <th>17</th>\n",
              "      <td>IuTGzi0HYmRM0dNlN7RvBw==</td>\n",
              "      <td>737921</td>\n",
              "      <td>738007</td>\n",
              "      <td>-34.541875</td>\n",
              "      <td>-58.463895</td>\n",
              "      <td>Nuñez</td>\n",
              "      <td>Departamento</td>\n",
              "      <td>2.0</td>\n",
              "      <td>56.0</td>\n",
              "      <td>150000.0</td>\n",
              "      <td>integrada</td>\n",
              "      <td></td>\n",
              "      <td></td>\n",
              "      <td></td>\n",
              "      <td></td>\n",
              "      <td>frente</td>\n",
              "      <td></td>\n",
              "      <td></td>\n",
              "    </tr>\n",
              "    <tr>\n",
              "      <th>18</th>\n",
              "      <td>WWLInAn221iNKVmqmMktyg==</td>\n",
              "      <td>737987</td>\n",
              "      <td>738417</td>\n",
              "      <td>-34.604974</td>\n",
              "      <td>-58.459013</td>\n",
              "      <td>Villa Crespo</td>\n",
              "      <td>Departamento</td>\n",
              "      <td>3.0</td>\n",
              "      <td>70.0</td>\n",
              "      <td>148000.0</td>\n",
              "      <td></td>\n",
              "      <td>parquet</td>\n",
              "      <td></td>\n",
              "      <td></td>\n",
              "      <td>independiente</td>\n",
              "      <td>frente</td>\n",
              "      <td></td>\n",
              "      <td></td>\n",
              "    </tr>\n",
              "    <tr>\n",
              "      <th>19</th>\n",
              "      <td>hPJUQzLWvtqqIts7bW3uuw==</td>\n",
              "      <td>737844</td>\n",
              "      <td>737960</td>\n",
              "      <td>-34.635498</td>\n",
              "      <td>-58.374099</td>\n",
              "      <td>Barracas</td>\n",
              "      <td>Departamento</td>\n",
              "      <td>4.0</td>\n",
              "      <td>108.0</td>\n",
              "      <td>239000.0</td>\n",
              "      <td></td>\n",
              "      <td></td>\n",
              "      <td></td>\n",
              "      <td></td>\n",
              "      <td>comedor</td>\n",
              "      <td>frente</td>\n",
              "      <td></td>\n",
              "      <td></td>\n",
              "    </tr>\n",
              "  </tbody>\n",
              "</table>\n",
              "</div>\n",
              "      <button class=\"colab-df-convert\" onclick=\"convertToInteractive('df-c3b986f9-fe2e-4f49-8bfa-c761dc42f7a9')\"\n",
              "              title=\"Convert this dataframe to an interactive table.\"\n",
              "              style=\"display:none;\">\n",
              "        \n",
              "  <svg xmlns=\"http://www.w3.org/2000/svg\" height=\"24px\"viewBox=\"0 0 24 24\"\n",
              "       width=\"24px\">\n",
              "    <path d=\"M0 0h24v24H0V0z\" fill=\"none\"/>\n",
              "    <path d=\"M18.56 5.44l.94 2.06.94-2.06 2.06-.94-2.06-.94-.94-2.06-.94 2.06-2.06.94zm-11 1L8.5 8.5l.94-2.06 2.06-.94-2.06-.94L8.5 2.5l-.94 2.06-2.06.94zm10 10l.94 2.06.94-2.06 2.06-.94-2.06-.94-.94-2.06-.94 2.06-2.06.94z\"/><path d=\"M17.41 7.96l-1.37-1.37c-.4-.4-.92-.59-1.43-.59-.52 0-1.04.2-1.43.59L10.3 9.45l-7.72 7.72c-.78.78-.78 2.05 0 2.83L4 21.41c.39.39.9.59 1.41.59.51 0 1.02-.2 1.41-.59l7.78-7.78 2.81-2.81c.8-.78.8-2.07 0-2.86zM5.41 20L4 18.59l7.72-7.72 1.47 1.35L5.41 20z\"/>\n",
              "  </svg>\n",
              "      </button>\n",
              "      \n",
              "  <style>\n",
              "    .colab-df-container {\n",
              "      display:flex;\n",
              "      flex-wrap:wrap;\n",
              "      gap: 12px;\n",
              "    }\n",
              "\n",
              "    .colab-df-convert {\n",
              "      background-color: #E8F0FE;\n",
              "      border: none;\n",
              "      border-radius: 50%;\n",
              "      cursor: pointer;\n",
              "      display: none;\n",
              "      fill: #1967D2;\n",
              "      height: 32px;\n",
              "      padding: 0 0 0 0;\n",
              "      width: 32px;\n",
              "    }\n",
              "\n",
              "    .colab-df-convert:hover {\n",
              "      background-color: #E2EBFA;\n",
              "      box-shadow: 0px 1px 2px rgba(60, 64, 67, 0.3), 0px 1px 3px 1px rgba(60, 64, 67, 0.15);\n",
              "      fill: #174EA6;\n",
              "    }\n",
              "\n",
              "    [theme=dark] .colab-df-convert {\n",
              "      background-color: #3B4455;\n",
              "      fill: #D2E3FC;\n",
              "    }\n",
              "\n",
              "    [theme=dark] .colab-df-convert:hover {\n",
              "      background-color: #434B5C;\n",
              "      box-shadow: 0px 1px 3px 1px rgba(0, 0, 0, 0.15);\n",
              "      filter: drop-shadow(0px 1px 2px rgba(0, 0, 0, 0.3));\n",
              "      fill: #FFFFFF;\n",
              "    }\n",
              "  </style>\n",
              "\n",
              "      <script>\n",
              "        const buttonEl =\n",
              "          document.querySelector('#df-c3b986f9-fe2e-4f49-8bfa-c761dc42f7a9 button.colab-df-convert');\n",
              "        buttonEl.style.display =\n",
              "          google.colab.kernel.accessAllowed ? 'block' : 'none';\n",
              "\n",
              "        async function convertToInteractive(key) {\n",
              "          const element = document.querySelector('#df-c3b986f9-fe2e-4f49-8bfa-c761dc42f7a9');\n",
              "          const dataTable =\n",
              "            await google.colab.kernel.invokeFunction('convertToInteractive',\n",
              "                                                     [key], {});\n",
              "          if (!dataTable) return;\n",
              "\n",
              "          const docLinkHtml = 'Like what you see? Visit the ' +\n",
              "            '<a target=\"_blank\" href=https://colab.research.google.com/notebooks/data_table.ipynb>data table notebook</a>'\n",
              "            + ' to learn more about interactive tables.';\n",
              "          element.innerHTML = '';\n",
              "          dataTable['output_type'] = 'display_data';\n",
              "          await google.colab.output.renderOutput(dataTable, element);\n",
              "          const docLink = document.createElement('div');\n",
              "          docLink.innerHTML = docLinkHtml;\n",
              "          element.appendChild(docLink);\n",
              "        }\n",
              "      </script>\n",
              "    </div>\n",
              "  </div>\n",
              "  "
            ]
          },
          "metadata": {},
          "execution_count": 77
        }
      ],
      "source": [
        "df = properati.copy()\n",
        "df = pd.merge(df,aux_df, on=\"id\")\n",
        "df.head(20)"
      ],
      "metadata": {
        "id": "I2x-X60t2DpP",
        "colab": {
          "base_uri": "https://localhost:8080/",
          "height": 914
        },
        "outputId": "75e218e4-5e9d-4395-c420-66c225ea4964"
      }
    },
    {
      "cell_type": "markdown",
      "source": [
        "#### Exportación de Datos"
      ],
      "metadata": {
        "id": "rN3FutIEHrf2"
      }
    },
    {
      "cell_type": "markdown",
      "source": [
        "Exportamos los datasets generados:"
      ],
      "metadata": {
        "id": "xd-CoUsZHtL9"
      }
    },
    {
      "cell_type": "code",
      "source": [
        "if IN_COLAB:\n",
        "  path = '/content/drive/MyDrive/📒 Organización de Datos (75.06)/TPS/TP2/DATASETS/1a_df_nostopwords.csv'\n",
        "else:\n",
        "  path = 'DATASETS/1a_df_nostopwords.csv'\n",
        "\n",
        "df_nostopwords.to_csv(path)"
      ],
      "metadata": {
        "id": "qr1jlB8QH16Z"
      },
      "execution_count": 78,
      "outputs": []
    },
    {
      "cell_type": "code",
      "source": [
        "if IN_COLAB:\n",
        "  path = '/content/drive/MyDrive/📒 Organización de Datos (75.06)/TPS/TP2/DATASETS/1a_df_ampliado.csv'\n",
        "else:\n",
        "  path = 'DATASETS/1a_df_ampliado.csv'\n",
        "\n",
        "df.to_csv(path)"
      ],
      "metadata": {
        "id": "QTsLoqr-IHOX"
      },
      "execution_count": 79,
      "outputs": []
    },
    {
      "cell_type": "markdown",
      "source": [
        "### 1.b Modelos\n",
        "___"
      ],
      "metadata": {
        "collapsed": false,
        "id": "fI1Fi95S2DpP"
      }
    },
    {
      "cell_type": "markdown",
      "source": [
        "#### Sin optimización de hiperparámetros"
      ],
      "metadata": {
        "id": "ldOrNGnEaE5H"
      }
    },
    {
      "cell_type": "markdown",
      "source": [
        "Entrenemos un modelo de XGBoost con los mismos hiperparámetros utilizados en el TP1."
      ],
      "metadata": {
        "id": "a2X0YkeUUL1X"
      }
    },
    {
      "cell_type": "markdown",
      "source": [
        "En esta línea, cargamos en memoria el modelo efectivamente utilizado:"
      ],
      "metadata": {
        "id": "8Yayhjd5UeFF"
      }
    },
    {
      "cell_type": "code",
      "source": [
        "if IN_COLAB:\n",
        "  path = '/content/drive/MyDrive/📒 Organización de Datos (75.06)/TPS/TP1/MODELOS/XGB_Regressor_Train.joblib'\n",
        "else:\n",
        "  path = './MODELOS/XGB_Regressor_Train.joblib'\n",
        "\n",
        "XGB_Regressor_TP1 = load(path)"
      ],
      "metadata": {
        "id": "4Dy4yjqVStRM",
        "colab": {
          "base_uri": "https://localhost:8080/"
        },
        "outputId": "870c4b66-326d-4a06-b656-6fbe9272be3f"
      },
      "execution_count": 80,
      "outputs": [
        {
          "output_type": "stream",
          "name": "stdout",
          "text": [
            "[18:10:23] WARNING: /workspace/src/objective/regression_obj.cu:152: reg:linear is now deprecated in favor of reg:squarederror.\n"
          ]
        }
      ]
    },
    {
      "cell_type": "markdown",
      "source": [
        "Realizamos One Hot Encoding para las variables cualitativas:"
      ],
      "metadata": {
        "collapsed": false,
        "id": "WqUMr9_r2DpQ"
      }
    },
    {
      "cell_type": "code",
      "execution_count": 81,
      "outputs": [
        {
          "output_type": "execute_result",
          "data": {
            "text/plain": [
              "                         id  start_date  end_date    latitud   longitud  \\\n",
              "0  1gMQ4rXcpnPs+hhvW11Jdw==      738005    738091 -34.622385 -58.448886   \n",
              "1  p7gmyqzdOy/+odHwH5oPyg==      737817    737946 -34.618084 -58.359912   \n",
              "2  ZYkS+4dCz1vUENzAREcX9w==      738035    738035 -34.601159 -58.398106   \n",
              "3  UL/s8zoicLDXXwhaelBgFQ==      738140    738195 -34.605542 -58.390007   \n",
              "4  wnz+hkCE7RVBNcqDQEtFSw==      737868    737946 -34.593266 -58.381426   \n",
              "\n",
              "   property_rooms  property_surface_total  property_price  place_l4_Agronomía  \\\n",
              "0             4.0                   113.0        288000.0                   0   \n",
              "1             2.0                    70.0        450000.0                   0   \n",
              "2             1.0                    33.0         77243.0                   0   \n",
              "3             1.0                    30.0         65000.0                   0   \n",
              "4             1.0                    40.0         79000.0                   0   \n",
              "\n",
              "   place_l4_Almagro  ...  balcon_corrido  balcon_frente  balcon_luminoso  \\\n",
              "0                 0  ...               0              0                0   \n",
              "1                 0  ...               0              0                0   \n",
              "2                 0  ...               0              0                0   \n",
              "3                 0  ...               0              0                0   \n",
              "4                 0  ...               0              0                0   \n",
              "\n",
              "   balcon_salida  balcon_terraza  cochera_cubierta  cochera_fija  \\\n",
              "0              0               1                 0             0   \n",
              "1              0               0                 0             0   \n",
              "2              0               0                 0             0   \n",
              "3              0               0                 0             0   \n",
              "4              0               0                 0             0   \n",
              "\n",
              "   aire_acondicionado  aire_central  aire_split  \n",
              "0                   0             0           0  \n",
              "1                   0             0           0  \n",
              "2                   0             0           0  \n",
              "3                   1             0           0  \n",
              "4                   0             0           0  \n",
              "\n",
              "[5 rows x 97 columns]"
            ],
            "text/html": [
              "\n",
              "  <div id=\"df-6dad3612-72ea-433e-9633-d225a10fb754\">\n",
              "    <div class=\"colab-df-container\">\n",
              "      <div>\n",
              "<style scoped>\n",
              "    .dataframe tbody tr th:only-of-type {\n",
              "        vertical-align: middle;\n",
              "    }\n",
              "\n",
              "    .dataframe tbody tr th {\n",
              "        vertical-align: top;\n",
              "    }\n",
              "\n",
              "    .dataframe thead th {\n",
              "        text-align: right;\n",
              "    }\n",
              "</style>\n",
              "<table border=\"1\" class=\"dataframe\">\n",
              "  <thead>\n",
              "    <tr style=\"text-align: right;\">\n",
              "      <th></th>\n",
              "      <th>id</th>\n",
              "      <th>start_date</th>\n",
              "      <th>end_date</th>\n",
              "      <th>latitud</th>\n",
              "      <th>longitud</th>\n",
              "      <th>property_rooms</th>\n",
              "      <th>property_surface_total</th>\n",
              "      <th>property_price</th>\n",
              "      <th>place_l4_Agronomía</th>\n",
              "      <th>place_l4_Almagro</th>\n",
              "      <th>...</th>\n",
              "      <th>balcon_corrido</th>\n",
              "      <th>balcon_frente</th>\n",
              "      <th>balcon_luminoso</th>\n",
              "      <th>balcon_salida</th>\n",
              "      <th>balcon_terraza</th>\n",
              "      <th>cochera_cubierta</th>\n",
              "      <th>cochera_fija</th>\n",
              "      <th>aire_acondicionado</th>\n",
              "      <th>aire_central</th>\n",
              "      <th>aire_split</th>\n",
              "    </tr>\n",
              "  </thead>\n",
              "  <tbody>\n",
              "    <tr>\n",
              "      <th>0</th>\n",
              "      <td>1gMQ4rXcpnPs+hhvW11Jdw==</td>\n",
              "      <td>738005</td>\n",
              "      <td>738091</td>\n",
              "      <td>-34.622385</td>\n",
              "      <td>-58.448886</td>\n",
              "      <td>4.0</td>\n",
              "      <td>113.0</td>\n",
              "      <td>288000.0</td>\n",
              "      <td>0</td>\n",
              "      <td>0</td>\n",
              "      <td>...</td>\n",
              "      <td>0</td>\n",
              "      <td>0</td>\n",
              "      <td>0</td>\n",
              "      <td>0</td>\n",
              "      <td>1</td>\n",
              "      <td>0</td>\n",
              "      <td>0</td>\n",
              "      <td>0</td>\n",
              "      <td>0</td>\n",
              "      <td>0</td>\n",
              "    </tr>\n",
              "    <tr>\n",
              "      <th>1</th>\n",
              "      <td>p7gmyqzdOy/+odHwH5oPyg==</td>\n",
              "      <td>737817</td>\n",
              "      <td>737946</td>\n",
              "      <td>-34.618084</td>\n",
              "      <td>-58.359912</td>\n",
              "      <td>2.0</td>\n",
              "      <td>70.0</td>\n",
              "      <td>450000.0</td>\n",
              "      <td>0</td>\n",
              "      <td>0</td>\n",
              "      <td>...</td>\n",
              "      <td>0</td>\n",
              "      <td>0</td>\n",
              "      <td>0</td>\n",
              "      <td>0</td>\n",
              "      <td>0</td>\n",
              "      <td>0</td>\n",
              "      <td>0</td>\n",
              "      <td>0</td>\n",
              "      <td>0</td>\n",
              "      <td>0</td>\n",
              "    </tr>\n",
              "    <tr>\n",
              "      <th>2</th>\n",
              "      <td>ZYkS+4dCz1vUENzAREcX9w==</td>\n",
              "      <td>738035</td>\n",
              "      <td>738035</td>\n",
              "      <td>-34.601159</td>\n",
              "      <td>-58.398106</td>\n",
              "      <td>1.0</td>\n",
              "      <td>33.0</td>\n",
              "      <td>77243.0</td>\n",
              "      <td>0</td>\n",
              "      <td>0</td>\n",
              "      <td>...</td>\n",
              "      <td>0</td>\n",
              "      <td>0</td>\n",
              "      <td>0</td>\n",
              "      <td>0</td>\n",
              "      <td>0</td>\n",
              "      <td>0</td>\n",
              "      <td>0</td>\n",
              "      <td>0</td>\n",
              "      <td>0</td>\n",
              "      <td>0</td>\n",
              "    </tr>\n",
              "    <tr>\n",
              "      <th>3</th>\n",
              "      <td>UL/s8zoicLDXXwhaelBgFQ==</td>\n",
              "      <td>738140</td>\n",
              "      <td>738195</td>\n",
              "      <td>-34.605542</td>\n",
              "      <td>-58.390007</td>\n",
              "      <td>1.0</td>\n",
              "      <td>30.0</td>\n",
              "      <td>65000.0</td>\n",
              "      <td>0</td>\n",
              "      <td>0</td>\n",
              "      <td>...</td>\n",
              "      <td>0</td>\n",
              "      <td>0</td>\n",
              "      <td>0</td>\n",
              "      <td>0</td>\n",
              "      <td>0</td>\n",
              "      <td>0</td>\n",
              "      <td>0</td>\n",
              "      <td>1</td>\n",
              "      <td>0</td>\n",
              "      <td>0</td>\n",
              "    </tr>\n",
              "    <tr>\n",
              "      <th>4</th>\n",
              "      <td>wnz+hkCE7RVBNcqDQEtFSw==</td>\n",
              "      <td>737868</td>\n",
              "      <td>737946</td>\n",
              "      <td>-34.593266</td>\n",
              "      <td>-58.381426</td>\n",
              "      <td>1.0</td>\n",
              "      <td>40.0</td>\n",
              "      <td>79000.0</td>\n",
              "      <td>0</td>\n",
              "      <td>0</td>\n",
              "      <td>...</td>\n",
              "      <td>0</td>\n",
              "      <td>0</td>\n",
              "      <td>0</td>\n",
              "      <td>0</td>\n",
              "      <td>0</td>\n",
              "      <td>0</td>\n",
              "      <td>0</td>\n",
              "      <td>0</td>\n",
              "      <td>0</td>\n",
              "      <td>0</td>\n",
              "    </tr>\n",
              "  </tbody>\n",
              "</table>\n",
              "<p>5 rows × 97 columns</p>\n",
              "</div>\n",
              "      <button class=\"colab-df-convert\" onclick=\"convertToInteractive('df-6dad3612-72ea-433e-9633-d225a10fb754')\"\n",
              "              title=\"Convert this dataframe to an interactive table.\"\n",
              "              style=\"display:none;\">\n",
              "        \n",
              "  <svg xmlns=\"http://www.w3.org/2000/svg\" height=\"24px\"viewBox=\"0 0 24 24\"\n",
              "       width=\"24px\">\n",
              "    <path d=\"M0 0h24v24H0V0z\" fill=\"none\"/>\n",
              "    <path d=\"M18.56 5.44l.94 2.06.94-2.06 2.06-.94-2.06-.94-.94-2.06-.94 2.06-2.06.94zm-11 1L8.5 8.5l.94-2.06 2.06-.94-2.06-.94L8.5 2.5l-.94 2.06-2.06.94zm10 10l.94 2.06.94-2.06 2.06-.94-2.06-.94-.94-2.06-.94 2.06-2.06.94z\"/><path d=\"M17.41 7.96l-1.37-1.37c-.4-.4-.92-.59-1.43-.59-.52 0-1.04.2-1.43.59L10.3 9.45l-7.72 7.72c-.78.78-.78 2.05 0 2.83L4 21.41c.39.39.9.59 1.41.59.51 0 1.02-.2 1.41-.59l7.78-7.78 2.81-2.81c.8-.78.8-2.07 0-2.86zM5.41 20L4 18.59l7.72-7.72 1.47 1.35L5.41 20z\"/>\n",
              "  </svg>\n",
              "      </button>\n",
              "      \n",
              "  <style>\n",
              "    .colab-df-container {\n",
              "      display:flex;\n",
              "      flex-wrap:wrap;\n",
              "      gap: 12px;\n",
              "    }\n",
              "\n",
              "    .colab-df-convert {\n",
              "      background-color: #E8F0FE;\n",
              "      border: none;\n",
              "      border-radius: 50%;\n",
              "      cursor: pointer;\n",
              "      display: none;\n",
              "      fill: #1967D2;\n",
              "      height: 32px;\n",
              "      padding: 0 0 0 0;\n",
              "      width: 32px;\n",
              "    }\n",
              "\n",
              "    .colab-df-convert:hover {\n",
              "      background-color: #E2EBFA;\n",
              "      box-shadow: 0px 1px 2px rgba(60, 64, 67, 0.3), 0px 1px 3px 1px rgba(60, 64, 67, 0.15);\n",
              "      fill: #174EA6;\n",
              "    }\n",
              "\n",
              "    [theme=dark] .colab-df-convert {\n",
              "      background-color: #3B4455;\n",
              "      fill: #D2E3FC;\n",
              "    }\n",
              "\n",
              "    [theme=dark] .colab-df-convert:hover {\n",
              "      background-color: #434B5C;\n",
              "      box-shadow: 0px 1px 3px 1px rgba(0, 0, 0, 0.15);\n",
              "      filter: drop-shadow(0px 1px 2px rgba(0, 0, 0, 0.3));\n",
              "      fill: #FFFFFF;\n",
              "    }\n",
              "  </style>\n",
              "\n",
              "      <script>\n",
              "        const buttonEl =\n",
              "          document.querySelector('#df-6dad3612-72ea-433e-9633-d225a10fb754 button.colab-df-convert');\n",
              "        buttonEl.style.display =\n",
              "          google.colab.kernel.accessAllowed ? 'block' : 'none';\n",
              "\n",
              "        async function convertToInteractive(key) {\n",
              "          const element = document.querySelector('#df-6dad3612-72ea-433e-9633-d225a10fb754');\n",
              "          const dataTable =\n",
              "            await google.colab.kernel.invokeFunction('convertToInteractive',\n",
              "                                                     [key], {});\n",
              "          if (!dataTable) return;\n",
              "\n",
              "          const docLinkHtml = 'Like what you see? Visit the ' +\n",
              "            '<a target=\"_blank\" href=https://colab.research.google.com/notebooks/data_table.ipynb>data table notebook</a>'\n",
              "            + ' to learn more about interactive tables.';\n",
              "          element.innerHTML = '';\n",
              "          dataTable['output_type'] = 'display_data';\n",
              "          await google.colab.output.renderOutput(dataTable, element);\n",
              "          const docLink = document.createElement('div');\n",
              "          docLink.innerHTML = docLinkHtml;\n",
              "          element.appendChild(docLink);\n",
              "        }\n",
              "      </script>\n",
              "    </div>\n",
              "  </div>\n",
              "  "
            ]
          },
          "metadata": {},
          "execution_count": 81
        }
      ],
      "source": [
        "df_dummies = pd.get_dummies(df, columns=['place_l4', 'property_type', 'cocina', 'pisos', 'lavadero', 'calefaccion', 'expensas', 'balcon', 'cochera', 'aire'], drop_first=True)\n",
        "df_dummies.head(5)"
      ],
      "metadata": {
        "id": "5e0r2Yj-2DpQ",
        "colab": {
          "base_uri": "https://localhost:8080/",
          "height": 300
        },
        "outputId": "fd6a058c-3d0e-418a-eeac-ecfaa7ac5830"
      }
    },
    {
      "cell_type": "markdown",
      "source": [
        "Separamos el dataset en train y test con una proporción 80% para train y 20% para test:"
      ],
      "metadata": {
        "collapsed": false,
        "id": "3_nVpVTT2DpQ"
      }
    },
    {
      "cell_type": "code",
      "source": [
        "train = df_dummies.sample(frac=0.8, random_state=200)\n",
        "\n",
        "y_train = train[\"property_price\"]\n",
        "\n",
        "train.drop([\"property_price\", \"id\"], inplace=True, axis=1)"
      ],
      "metadata": {
        "id": "PVTe5BA6VGQc"
      },
      "execution_count": 82,
      "outputs": []
    },
    {
      "cell_type": "code",
      "execution_count": 83,
      "outputs": [],
      "source": [
        "test = df_dummies.drop(train.index)\n",
        "\n",
        "y_test = test[\"property_price\"]\n",
        "\n",
        "test.drop([\"property_price\", \"id\"], inplace=True, axis=1)"
      ],
      "metadata": {
        "id": "kfuLZtKU2DpQ"
      }
    },
    {
      "cell_type": "markdown",
      "source": [
        "Entrenamos el modelo:"
      ],
      "metadata": {
        "id": "I6cp1CI3ZKLx"
      }
    },
    {
      "cell_type": "code",
      "source": [
        "XGB_Regressor_TP1.fit(train, y_train)"
      ],
      "metadata": {
        "id": "44zRgoATZLkr",
        "colab": {
          "base_uri": "https://localhost:8080/"
        },
        "outputId": "a4c176d5-223f-4b83-8632-6f1d3c800a3e"
      },
      "execution_count": 84,
      "outputs": [
        {
          "output_type": "stream",
          "name": "stdout",
          "text": [
            "[18:10:24] WARNING: /workspace/src/objective/regression_obj.cu:152: reg:linear is now deprecated in favor of reg:squarederror.\n"
          ]
        },
        {
          "output_type": "execute_result",
          "data": {
            "text/plain": [
              "XGBRegressor(colsample_bytree=0.3, gamma=0.1, learning_rate=0.3, max_depth=6,\n",
              "             min_child_weight=5, missing=nan)"
            ]
          },
          "metadata": {},
          "execution_count": 84
        }
      ]
    },
    {
      "cell_type": "markdown",
      "source": [
        "Hagamos las predicciones y veamos cómo resultaron las métricas del modelo:"
      ],
      "metadata": {
        "id": "PxQTRsiZZmeq"
      }
    },
    {
      "cell_type": "code",
      "source": [
        "y_pred = prediccion_y_metricas_regresion(XGB_Regressor_TP1, train, test, y_train, y_test)"
      ],
      "metadata": {
        "id": "kQ5AadFSfxhE",
        "colab": {
          "base_uri": "https://localhost:8080/"
        },
        "outputId": "dd71061e-718d-4b8b-f6bc-decc83a9ba73"
      },
      "execution_count": 85,
      "outputs": [
        {
          "output_type": "stream",
          "name": "stdout",
          "text": [
            "Se obtuvo un 0.0% de aciertos.\n",
            "El error según la métrica 'Mean Square Error' de test es: 7490858591.217763\n",
            "El error según la métrica 'Root Mean Square Error' de test es: 86549.74633826353\n",
            "El coeficiente de determinación de test es: 0.8779061886253998\n"
          ]
        }
      ]
    },
    {
      "cell_type": "markdown",
      "source": [
        "#### Con optimización de hiperparámetros"
      ],
      "metadata": {
        "id": "CkJCoGXnaN1y"
      }
    },
    {
      "cell_type": "markdown",
      "source": [
        "Veamos cómo se comporta el score con la optimización de hiperparámetros:"
      ],
      "metadata": {
        "collapsed": false,
        "id": "Su2wKojB2DpR"
      }
    },
    {
      "cell_type": "code",
      "execution_count": 86,
      "outputs": [
        {
          "output_type": "stream",
          "name": "stdout",
          "text": [
            "[18:10:32] WARNING: /workspace/src/objective/regression_obj.cu:152: reg:linear is now deprecated in favor of reg:squarederror.\n",
            "[18:10:38] WARNING: /workspace/src/objective/regression_obj.cu:152: reg:linear is now deprecated in favor of reg:squarederror.\n",
            "[18:10:44] WARNING: /workspace/src/objective/regression_obj.cu:152: reg:linear is now deprecated in favor of reg:squarederror.\n",
            "[18:10:50] WARNING: /workspace/src/objective/regression_obj.cu:152: reg:linear is now deprecated in favor of reg:squarederror.\n",
            "[18:10:56] WARNING: /workspace/src/objective/regression_obj.cu:152: reg:linear is now deprecated in favor of reg:squarederror.\n",
            "[18:11:03] WARNING: /workspace/src/objective/regression_obj.cu:152: reg:linear is now deprecated in favor of reg:squarederror.\n",
            "[18:11:09] WARNING: /workspace/src/objective/regression_obj.cu:152: reg:linear is now deprecated in favor of reg:squarederror.\n",
            "[18:11:16] WARNING: /workspace/src/objective/regression_obj.cu:152: reg:linear is now deprecated in favor of reg:squarederror.\n",
            "[18:11:23] WARNING: /workspace/src/objective/regression_obj.cu:152: reg:linear is now deprecated in favor of reg:squarederror.\n",
            "[18:11:29] WARNING: /workspace/src/objective/regression_obj.cu:152: reg:linear is now deprecated in favor of reg:squarederror.\n",
            "[18:11:36] WARNING: /workspace/src/objective/regression_obj.cu:152: reg:linear is now deprecated in favor of reg:squarederror.\n",
            "[18:11:41] WARNING: /workspace/src/objective/regression_obj.cu:152: reg:linear is now deprecated in favor of reg:squarederror.\n",
            "[18:11:46] WARNING: /workspace/src/objective/regression_obj.cu:152: reg:linear is now deprecated in favor of reg:squarederror.\n",
            "[18:11:53] WARNING: /workspace/src/objective/regression_obj.cu:152: reg:linear is now deprecated in favor of reg:squarederror.\n",
            "[18:11:58] WARNING: /workspace/src/objective/regression_obj.cu:152: reg:linear is now deprecated in favor of reg:squarederror.\n",
            "[18:12:03] WARNING: /workspace/src/objective/regression_obj.cu:152: reg:linear is now deprecated in favor of reg:squarederror.\n",
            "[18:12:12] WARNING: /workspace/src/objective/regression_obj.cu:152: reg:linear is now deprecated in favor of reg:squarederror.\n",
            "[18:12:20] WARNING: /workspace/src/objective/regression_obj.cu:152: reg:linear is now deprecated in favor of reg:squarederror.\n",
            "[18:12:29] WARNING: /workspace/src/objective/regression_obj.cu:152: reg:linear is now deprecated in favor of reg:squarederror.\n",
            "[18:12:37] WARNING: /workspace/src/objective/regression_obj.cu:152: reg:linear is now deprecated in favor of reg:squarederror.\n",
            "[18:12:45] WARNING: /workspace/src/objective/regression_obj.cu:152: reg:linear is now deprecated in favor of reg:squarederror.\n",
            "[18:12:53] WARNING: /workspace/src/objective/regression_obj.cu:152: reg:linear is now deprecated in favor of reg:squarederror.\n",
            "[18:13:01] WARNING: /workspace/src/objective/regression_obj.cu:152: reg:linear is now deprecated in favor of reg:squarederror.\n",
            "[18:13:09] WARNING: /workspace/src/objective/regression_obj.cu:152: reg:linear is now deprecated in favor of reg:squarederror.\n",
            "[18:13:17] WARNING: /workspace/src/objective/regression_obj.cu:152: reg:linear is now deprecated in favor of reg:squarederror.\n",
            "[18:13:25] WARNING: /workspace/src/objective/regression_obj.cu:152: reg:linear is now deprecated in favor of reg:squarederror.\n"
          ]
        },
        {
          "output_type": "execute_result",
          "data": {
            "text/plain": [
              "RandomizedSearchCV(cv=StratifiedKFold(n_splits=5, random_state=None, shuffle=False),\n",
              "                   estimator=XGBRegressor(), n_iter=5,\n",
              "                   param_distributions={'colsample_bytree': [0.3, 0.4, 0.5,\n",
              "                                                             0.7],\n",
              "                                        'gamma': [0.0, 0.1, 0.2, 0.3, 0.4],\n",
              "                                        'learning_rate': [0.05, 0.1, 0.15, 0.2,\n",
              "                                                          0.25, 0.3],\n",
              "                                        'max_depth': [3, 4, 5, 6, 8, 10, 12,\n",
              "                                                      15],\n",
              "                                        'min_child_weight': [1, 3, 5, 7]},\n",
              "                   scoring=make_scorer(accuracy_score))"
            ]
          },
          "metadata": {},
          "execution_count": 86
        }
      ],
      "source": [
        "params_grid = {'learning_rate': [0.05, 0.10, 0.15, 0.20, 0.25, 0.30 ],\n",
        "               'max_depth': [3, 4, 5, 6, 8, 10, 12, 15],\n",
        "               'min_child_weight': [1, 3, 5, 7],\n",
        "               'gamma': [ 0.0, 0.1, 0.2 , 0.3, 0.4 ],\n",
        "               'colsample_bytree' : [ 0.3, 0.4, 0.5 , 0.7 ]}\n",
        "\n",
        "randomCV = RandomizedSearchCV(estimator = XGBRegressor(),\n",
        "                              param_distributions = params_grid,\n",
        "                              scoring = make_scorer(accuracy_score),\n",
        "                              cv = StratifiedKFold(n_splits = 5),\n",
        "                              n_iter = 5)\n",
        "\n",
        "randomCV.fit(train, y_train)"
      ],
      "metadata": {
        "id": "7RTpJeq92DpS",
        "colab": {
          "base_uri": "https://localhost:8080/"
        },
        "outputId": "86f5da63-2f6a-406e-9ada-72560a5b89c5"
      }
    },
    {
      "cell_type": "code",
      "execution_count": 87,
      "outputs": [
        {
          "output_type": "stream",
          "name": "stdout",
          "text": [
            "Se obtuvo un 0.0% de aciertos.\n",
            "El error según la métrica 'Mean Square Error' de test es: 7775391362.811118\n",
            "El error según la métrica 'Root Mean Square Error' de test es: 88178.17962971973\n",
            "El coeficiente de determinación de test es: 0.873268577312654\n"
          ]
        }
      ],
      "source": [
        "y_pred = prediccion_y_metricas_regresion(randomCV.best_estimator_, train, test, y_train, y_test)"
      ],
      "metadata": {
        "id": "fbhhPYpZ2DpS",
        "colab": {
          "base_uri": "https://localhost:8080/"
        },
        "outputId": "7bb63790-6da2-48e6-86c7-d50dca1d8534"
      }
    },
    {
      "cell_type": "markdown",
      "source": [
        "Observamos que el score disminuyó levemente."
      ],
      "metadata": {
        "collapsed": false,
        "id": "aRCfkfFX2DpT"
      }
    },
    {
      "cell_type": "markdown",
      "source": [
        "#### Importancia de atributos"
      ],
      "metadata": {
        "id": "no5d8HkPggk4"
      }
    },
    {
      "cell_type": "markdown",
      "source": [
        "En esta sección estudiaremos la importancia de los atributos del modelo. Esta mide el valor de las características, en donde cuanto más se usa un atributo para construir un árbol de decisión en el modelo, más importante es."
      ],
      "metadata": {
        "id": "Ese3dcMbgk7e"
      }
    },
    {
      "cell_type": "code",
      "source": [
        "print(XGB_Regressor_TP1.feature_importances_)"
      ],
      "metadata": {
        "colab": {
          "base_uri": "https://localhost:8080/"
        },
        "id": "kNxtKX8WhbG-",
        "outputId": "fd5fd361-e088-48e9-f06d-53124f1120c9"
      },
      "execution_count": 88,
      "outputs": [
        {
          "output_type": "stream",
          "name": "stdout",
          "text": [
            "[3.0225778e-03 3.8625130e-03 6.4909090e-03 1.0584907e-02 9.9559098e-02\n",
            " 5.5439852e-02 0.0000000e+00 1.2163927e-02 1.6306177e-02 5.6114997e-04\n",
            " 1.2683057e-03 2.5287829e-02 2.4177814e-03 1.2711613e-03 5.2266731e-03\n",
            " 0.0000000e+00 0.0000000e+00 0.0000000e+00 6.5049255e-04 1.2677702e-03\n",
            " 7.8175461e-04 1.9664951e-03 1.1097579e-03 4.2503802e-03 1.3809744e-04\n",
            " 0.0000000e+00 1.2731104e-04 4.9010833e-04 9.4803581e-03 0.0000000e+00\n",
            " 3.3011779e-02 2.3790374e-03 4.9318992e-02 5.8776718e-02 4.7848118e-03\n",
            " 1.3664498e-03 4.8503067e-04 4.5411530e-04 0.0000000e+00 1.6740683e-03\n",
            " 0.0000000e+00 1.5932427e-03 4.6168274e-04 4.4756262e-03 2.2303160e-01\n",
            " 8.3089629e-03 1.0941172e-03 1.2511223e-03 6.2922174e-03 4.1394755e-03\n",
            " 2.8205797e-04 1.3147057e-03 0.0000000e+00 1.0892535e-03 2.0066651e-03\n",
            " 4.9146558e-03 2.0030071e-04 7.6959287e-03 1.5267653e-03 2.8723374e-04\n",
            " 5.7879084e-04 2.2673348e-04 0.0000000e+00 0.0000000e+00 3.4355244e-03\n",
            " 7.6990144e-04 1.0708679e-03 3.9015692e-02 5.8320120e-02 3.8692614e-04\n",
            " 1.5460063e-03 1.6597812e-03 2.5683868e-04 2.4696570e-03 1.1464772e-03\n",
            " 3.3579241e-03 2.5173291e-03 2.5245917e-03 2.6234582e-03 3.2075008e-03\n",
            " 3.5579647e-03 4.4797793e-02 2.0560252e-03 5.2267471e-03 1.9624799e-03\n",
            " 1.7780167e-03 4.6465104e-03 1.1284986e-04 2.5674177e-03 2.3068540e-02\n",
            " 3.4875646e-03 6.7627773e-02 3.0910750e-03 7.0209838e-03 1.7942119e-02]\n"
          ]
        }
      ]
    },
    {
      "cell_type": "code",
      "source": [
        "from xgboost import plot_importance\n",
        "from matplotlib import pyplot\n",
        "\n",
        "ax = plot_importance(XGB_Regressor_TP1)\n",
        "fig = ax.figure\n",
        "fig.set_size_inches(25, 65)\n",
        "pyplot.show()"
      ],
      "metadata": {
        "colab": {
          "base_uri": "https://localhost:8080/",
          "height": 1000
        },
        "id": "qg3VTNC8jVfM",
        "outputId": "2bba72bd-20eb-42b1-8e43-4151daaa9698"
      },
      "execution_count": 89,
      "outputs": [
        {
          "output_type": "display_data",
          "data": {
            "text/plain": [
              "<Figure size 1800x4680 with 1 Axes>"
            ],
            "image/png": "[encoded data removed]"
          },
          "metadata": {
            "needs_background": "light"
          }
        }
      ]
    },
    {
      "cell_type": "markdown",
      "source": [
        "Como se puede observar ........................................"
      ],
      "metadata": {
        "id": "3R83nFxyji0p"
      }
    },
    {
      "cell_type": "markdown",
      "source": [
        "#### Métricas previas"
      ],
      "metadata": {
        "id": "kz5rCsJj3qAz"
      }
    },
    {
      "cell_type": "markdown",
      "source": [
        "Veamos que las métricas obtenidas en el TP1 fueron, para dataset de train:"
      ],
      "metadata": {
        "id": "Muyb5pFT6GPg"
      }
    },
    {
      "cell_type": "markdown",
      "source": [
        "Se obtuvo un 0.0% de aciertos.\n",
        "\n",
        "El error según la métrica 'Mean Square Error' de test es: 70586895109.33229\n",
        "\n",
        "El error según la métrica 'Root Mean Square Error' de test es: 265681.9435139172\n",
        "\n",
        "El coeficiente de determinación de test es: 0.44112156174433736"
      ],
      "metadata": {
        "id": "SJ0EtoxH6ZyI"
      }
    },
    {
      "cell_type": "markdown",
      "source": [
        "Y, para el dataset reducido:"
      ],
      "metadata": {
        "id": "wHp2bi-c69Zo"
      }
    },
    {
      "cell_type": "markdown",
      "source": [
        "Se obtuvo un 0.0% de aciertos.\n",
        "\n",
        "El error según la métrica 'Mean Square Error' de test es: 78861262549.04588\n",
        "\n",
        "El error según la métrica 'Root Mean Square Error' de test es: 280822.4751494187\n",
        "\n",
        "El coeficiente de determinación de test es: 0.3756084725923362"
      ],
      "metadata": {
        "id": "UlVs07V16_bV"
      }
    },
    {
      "cell_type": "markdown",
      "source": [
        "Y podemos concluir que las métricas en comparación mejoraron un 43% aproximadamente."
      ],
      "metadata": {
        "id": "WelhmICh7UNT"
      }
    },
    {
      "cell_type": "markdown",
      "source": [
        "#### Exportación de Datos"
      ],
      "metadata": {
        "id": "_f0JxWEL8GUY"
      }
    },
    {
      "cell_type": "markdown",
      "source": [
        "Finalmente, exportamos el modelo utilizado para predecir, resultante de la optimización de hiperparámetros:"
      ],
      "metadata": {
        "id": "Zza9STS88Ko6"
      }
    },
    {
      "cell_type": "code",
      "source": [
        "if IN_COLAB:\n",
        "  path = '/content/drive/MyDrive/📒 Organización de Datos (75.06)/TPS/TP2/MODELOS/XGB_Regressor.joblib'\n",
        "else:\n",
        "  path = './MODELOS/XGB_Regressor.joblib'\n",
        "\n",
        "dump(randomCV.best_estimator_, path)"
      ],
      "metadata": {
        "id": "RNVI92fe8WEP",
        "colab": {
          "base_uri": "https://localhost:8080/"
        },
        "outputId": "233d6c08-ceef-48ae-8526-242ea37c3338"
      },
      "execution_count": 90,
      "outputs": [
        {
          "output_type": "execute_result",
          "data": {
            "text/plain": [
              "['/content/drive/MyDrive/📒 Organización de Datos (75.06)/TPS/TP2/MODELOS/XGB_Regressor.joblib']"
            ]
          },
          "metadata": {},
          "execution_count": 90
        }
      ]
    },
    {
      "cell_type": "markdown",
      "source": [
        "## 2. Redes Neuronales"
      ],
      "metadata": {
        "collapsed": false,
        "id": "HWpWT3GZ_TQT"
      }
    },
    {
      "cell_type": "markdown",
      "source": [
        "Trabajemos con el dataset reducido del primer TP y entrenemos dos modelos de redes neuronales para regresión y clasificación."
      ],
      "metadata": {
        "id": "o5Npv7MVLad3"
      }
    },
    {
      "cell_type": "markdown",
      "source": [
        "Aplicamos One Hot Encoding y separamos en train y test:"
      ],
      "metadata": {
        "id": "7wRCkK8XMHDb"
      }
    },
    {
      "cell_type": "code",
      "source": [
        "df_properati = pd.get_dummies(properati, columns=['place_l4', 'property_type'], drop_first=False)\n",
        "\n",
        "properati_x_train = df_properati.sample(frac=0.8, random_state=200)\n",
        "properati_y_train = properati_x_train[\"property_price\"]\n",
        "properati_x_train.drop([\"property_price\"], inplace=True, axis=1)\n",
        "\n",
        "properati_x_test = df_properati.drop(properati_x_train.index)\n",
        "properati_y_test = properati_x_test[\"property_price\"]\n",
        "properati_x_test.drop([\"property_price\"], inplace=True, axis=1)"
      ],
      "metadata": {
        "id": "2gl5TKHVjFWU"
      },
      "execution_count": null,
      "outputs": []
    },
    {
      "cell_type": "code",
      "source": [
        "x_train_regressor = properati_x_train.copy()\n",
        "y_train_regressor = properati_y_train.copy()\n",
        "x_test_regressor = properati_x_test.copy()\n",
        "y_test_regressor = properati_y_test.copy()"
      ],
      "metadata": {
        "id": "jUfurX9ZMG15"
      },
      "execution_count": null,
      "outputs": []
    },
    {
      "cell_type": "code",
      "source": [
        "x_train_regressor.drop([\"id\"], inplace=True, axis=1)\n",
        "\n",
        "x_test_regressor.drop([\"id\"], inplace=True, axis=1)"
      ],
      "metadata": {
        "id": "PSvAjpkM1avz"
      },
      "execution_count": null,
      "outputs": []
    },
    {
      "cell_type": "code",
      "source": [
        "x_train_classifier = properati_x_train.copy()\n",
        "y_train_classifier = properati_y_train.copy()\n",
        "x_test_classifier = properati_x_test.copy()\n",
        "y_test_classifier = properati_y_test.copy()"
      ],
      "metadata": {
        "id": "M6PaYzXiMVrR"
      },
      "execution_count": null,
      "outputs": []
    },
    {
      "cell_type": "code",
      "source": [
        "x_train_classifier[\"property_m2price\"] = y_train_classifier / x_train_classifier[\"property_surface_total\"]\n",
        "x_train_classifier.sort_values(by=[\"property_m2price\"], inplace=True)\n",
        "x_train_classifier['tipo_precio_3'] = pd.qcut(x=x_train_classifier.loc[properati['property_type'] == 'Departamento']['property_m2price'], q=4, labels=['bajo', 'medio', 'medio2', 'alto']).replace(\"medio2\",\"medio\")\n",
        "x_train_classifier['tipo_precio_3'].fillna(pd.qcut(x=x_train_classifier.loc[properati['property_type'] == 'Casa']['property_m2price'], q=4, labels=['bajo', 'medio', 'medio2', 'alto']).replace(\"medio2\",\"medio\"), inplace=True)\n",
        "x_train_classifier['tipo_precio_3'].fillna(pd.qcut(x=x_train_classifier.loc[properati['property_type'] == 'PH']['property_m2price'], q=4, labels=['bajo', 'medio', 'medio2', 'alto']).replace(\"medio2\",\"medio\"), inplace=True)\n",
        "\n",
        "x_test_classifier[\"property_m2price\"] = y_test_classifier / x_test_classifier[\"property_surface_total\"]\n",
        "x_test_classifier.sort_values(by=[\"property_m2price\"], inplace=True)\n",
        "x_test_classifier['tipo_precio_3'] = pd.qcut(x=x_test_classifier.loc[properati['property_type'] == 'Departamento']['property_m2price'], q=4, labels=['bajo', 'medio', 'medio2', 'alto']).replace(\"medio2\",\"medio\")\n",
        "x_test_classifier['tipo_precio_3'].fillna(pd.qcut(x=x_test_classifier.loc[properati['property_type'] == 'Casa']['property_m2price'], q=4, labels=['bajo', 'medio', 'medio2', 'alto']).replace(\"medio2\",\"medio\"), inplace=True)\n",
        "x_test_classifier['tipo_precio_3'].fillna(pd.qcut(x=x_test_classifier.loc[properati['property_type'] == 'PH']['property_m2price'], q=4, labels=['bajo', 'medio', 'medio2', 'alto']).replace(\"medio2\",\"medio\"), inplace=True)"
      ],
      "metadata": {
        "id": "lhr_SBo9OWIM"
      },
      "execution_count": null,
      "outputs": []
    },
    {
      "cell_type": "code",
      "execution_count": null,
      "outputs": [],
      "source": [
        "y_train_classifier = x_train_classifier[\"tipo_precio_3\"]\n",
        "x_train_classifier.drop([\"id\", \"tipo_precio_3\", \"property_m2price\"], inplace=True, axis=1)\n",
        "\n",
        "y_test_classifier = x_test_classifier[\"tipo_precio_3\"]\n",
        "x_test_classifier.drop([\"id\", \"tipo_precio_3\", \"property_m2price\"], inplace=True, axis=1)"
      ],
      "metadata": {
        "id": "AgsGLgI-_TQV"
      }
    },
    {
      "cell_type": "markdown",
      "source": [
        "### 2.a Regresión\n",
        "___"
      ],
      "metadata": {
        "id": "2HjJDe4W_iY-"
      }
    },
    {
      "cell_type": "markdown",
      "source": [
        "#### 2.a.1 Preparación del dataset"
      ],
      "metadata": {
        "id": "5xI2H0xyYm_B"
      }
    },
    {
      "cell_type": "markdown",
      "source": [
        "Normalizamos las entradas con StandardScaler:"
      ],
      "metadata": {
        "collapsed": false,
        "id": "PKPRQVFS_TQT"
      }
    },
    {
      "cell_type": "code",
      "source": [
        "estandarizar(x_train_regressor, ['start_date', 'end_date', 'latitud', 'longitud', 'property_rooms', 'property_surface_total'])"
      ],
      "metadata": {
        "id": "s3xTEOkRlufG"
      },
      "execution_count": null,
      "outputs": []
    },
    {
      "cell_type": "code",
      "execution_count": null,
      "outputs": [
        {
          "output_type": "execute_result",
          "data": {
            "text/plain": [
              "       start_date  end_date   latitud  longitud  property_rooms  \\\n",
              "25158   -0.613612 -0.186383 -1.386003  0.169489        -0.61056   \n",
              "23761   -0.323517 -0.800681 -0.260318  0.997661         0.98717   \n",
              "442      0.759506 -0.107119  0.112234 -2.097538         0.98717   \n",
              "67780   -0.777999 -0.800681  0.187259  1.077535        -0.61056   \n",
              "58586   -1.000406 -1.203608 -0.553215 -2.398597         0.98717   \n",
              "\n",
              "       property_surface_total  place_l4_Abasto  place_l4_Agronomía  \\\n",
              "25158               -0.641609                0                   0   \n",
              "23761               -0.074216                0                   0   \n",
              "442                 -0.058881                0                   0   \n",
              "67780               -0.411585                0                   0   \n",
              "58586                0.094469                0                   0   \n",
              "\n",
              "       place_l4_Almagro  place_l4_Balvanera  ...  place_l4_Villa Pueyrredón  \\\n",
              "25158                 0                   0  ...                          0   \n",
              "23761                 0                   1  ...                          0   \n",
              "442                   0                   0  ...                          0   \n",
              "67780                 0                   0  ...                          0   \n",
              "58586                 0                   0  ...                          0   \n",
              "\n",
              "       place_l4_Villa Real  place_l4_Villa Riachuelo  \\\n",
              "25158                    0                         0   \n",
              "23761                    0                         0   \n",
              "442                      0                         0   \n",
              "67780                    0                         0   \n",
              "58586                    0                         0   \n",
              "\n",
              "       place_l4_Villa Santa Rita  place_l4_Villa Soldati  \\\n",
              "25158                          0                       0   \n",
              "23761                          0                       0   \n",
              "442                            0                       0   \n",
              "67780                          0                       0   \n",
              "58586                          0                       0   \n",
              "\n",
              "       place_l4_Villa Urquiza  place_l4_Villa del Parque  property_type_Casa  \\\n",
              "25158                       0                          0                   0   \n",
              "23761                       0                          0                   0   \n",
              "442                         0                          0                   0   \n",
              "67780                       0                          0                   0   \n",
              "58586                       0                          0                   1   \n",
              "\n",
              "       property_type_Departamento  property_type_PH  \n",
              "25158                           1                 0  \n",
              "23761                           1                 0  \n",
              "442                             1                 0  \n",
              "67780                           0                 1  \n",
              "58586                           0                 0  \n",
              "\n",
              "[5 rows x 71 columns]"
            ],
            "text/html": [
              "\n",
              "  <div id=\"df-e8da7a3f-b9a3-4b55-bd40-98b56feff302\">\n",
              "    <div class=\"colab-df-container\">\n",
              "      <div>\n",
              "<style scoped>\n",
              "    .dataframe tbody tr th:only-of-type {\n",
              "        vertical-align: middle;\n",
              "    }\n",
              "\n",
              "    .dataframe tbody tr th {\n",
              "        vertical-align: top;\n",
              "    }\n",
              "\n",
              "    .dataframe thead th {\n",
              "        text-align: right;\n",
              "    }\n",
              "</style>\n",
              "<table border=\"1\" class=\"dataframe\">\n",
              "  <thead>\n",
              "    <tr style=\"text-align: right;\">\n",
              "      <th></th>\n",
              "      <th>start_date</th>\n",
              "      <th>end_date</th>\n",
              "      <th>latitud</th>\n",
              "      <th>longitud</th>\n",
              "      <th>property_rooms</th>\n",
              "      <th>property_surface_total</th>\n",
              "      <th>place_l4_Abasto</th>\n",
              "      <th>place_l4_Agronomía</th>\n",
              "      <th>place_l4_Almagro</th>\n",
              "      <th>place_l4_Balvanera</th>\n",
              "      <th>...</th>\n",
              "      <th>place_l4_Villa Pueyrredón</th>\n",
              "      <th>place_l4_Villa Real</th>\n",
              "      <th>place_l4_Villa Riachuelo</th>\n",
              "      <th>place_l4_Villa Santa Rita</th>\n",
              "      <th>place_l4_Villa Soldati</th>\n",
              "      <th>place_l4_Villa Urquiza</th>\n",
              "      <th>place_l4_Villa del Parque</th>\n",
              "      <th>property_type_Casa</th>\n",
              "      <th>property_type_Departamento</th>\n",
              "      <th>property_type_PH</th>\n",
              "    </tr>\n",
              "  </thead>\n",
              "  <tbody>\n",
              "    <tr>\n",
              "      <th>25158</th>\n",
              "      <td>-0.613612</td>\n",
              "      <td>-0.186383</td>\n",
              "      <td>-1.386003</td>\n",
              "      <td>0.169489</td>\n",
              "      <td>-0.61056</td>\n",
              "      <td>-0.641609</td>\n",
              "      <td>0</td>\n",
              "      <td>0</td>\n",
              "      <td>0</td>\n",
              "      <td>0</td>\n",
              "      <td>...</td>\n",
              "      <td>0</td>\n",
              "      <td>0</td>\n",
              "      <td>0</td>\n",
              "      <td>0</td>\n",
              "      <td>0</td>\n",
              "      <td>0</td>\n",
              "      <td>0</td>\n",
              "      <td>0</td>\n",
              "      <td>1</td>\n",
              "      <td>0</td>\n",
              "    </tr>\n",
              "    <tr>\n",
              "      <th>23761</th>\n",
              "      <td>-0.323517</td>\n",
              "      <td>-0.800681</td>\n",
              "      <td>-0.260318</td>\n",
              "      <td>0.997661</td>\n",
              "      <td>0.98717</td>\n",
              "      <td>-0.074216</td>\n",
              "      <td>0</td>\n",
              "      <td>0</td>\n",
              "      <td>0</td>\n",
              "      <td>1</td>\n",
              "      <td>...</td>\n",
              "      <td>0</td>\n",
              "      <td>0</td>\n",
              "      <td>0</td>\n",
              "      <td>0</td>\n",
              "      <td>0</td>\n",
              "      <td>0</td>\n",
              "      <td>0</td>\n",
              "      <td>0</td>\n",
              "      <td>1</td>\n",
              "      <td>0</td>\n",
              "    </tr>\n",
              "    <tr>\n",
              "      <th>442</th>\n",
              "      <td>0.759506</td>\n",
              "      <td>-0.107119</td>\n",
              "      <td>0.112234</td>\n",
              "      <td>-2.097538</td>\n",
              "      <td>0.98717</td>\n",
              "      <td>-0.058881</td>\n",
              "      <td>0</td>\n",
              "      <td>0</td>\n",
              "      <td>0</td>\n",
              "      <td>0</td>\n",
              "      <td>...</td>\n",
              "      <td>0</td>\n",
              "      <td>0</td>\n",
              "      <td>0</td>\n",
              "      <td>0</td>\n",
              "      <td>0</td>\n",
              "      <td>0</td>\n",
              "      <td>0</td>\n",
              "      <td>0</td>\n",
              "      <td>1</td>\n",
              "      <td>0</td>\n",
              "    </tr>\n",
              "    <tr>\n",
              "      <th>67780</th>\n",
              "      <td>-0.777999</td>\n",
              "      <td>-0.800681</td>\n",
              "      <td>0.187259</td>\n",
              "      <td>1.077535</td>\n",
              "      <td>-0.61056</td>\n",
              "      <td>-0.411585</td>\n",
              "      <td>0</td>\n",
              "      <td>0</td>\n",
              "      <td>0</td>\n",
              "      <td>0</td>\n",
              "      <td>...</td>\n",
              "      <td>0</td>\n",
              "      <td>0</td>\n",
              "      <td>0</td>\n",
              "      <td>0</td>\n",
              "      <td>0</td>\n",
              "      <td>0</td>\n",
              "      <td>0</td>\n",
              "      <td>0</td>\n",
              "      <td>0</td>\n",
              "      <td>1</td>\n",
              "    </tr>\n",
              "    <tr>\n",
              "      <th>58586</th>\n",
              "      <td>-1.000406</td>\n",
              "      <td>-1.203608</td>\n",
              "      <td>-0.553215</td>\n",
              "      <td>-2.398597</td>\n",
              "      <td>0.98717</td>\n",
              "      <td>0.094469</td>\n",
              "      <td>0</td>\n",
              "      <td>0</td>\n",
              "      <td>0</td>\n",
              "      <td>0</td>\n",
              "      <td>...</td>\n",
              "      <td>0</td>\n",
              "      <td>0</td>\n",
              "      <td>0</td>\n",
              "      <td>0</td>\n",
              "      <td>0</td>\n",
              "      <td>0</td>\n",
              "      <td>0</td>\n",
              "      <td>1</td>\n",
              "      <td>0</td>\n",
              "      <td>0</td>\n",
              "    </tr>\n",
              "  </tbody>\n",
              "</table>\n",
              "<p>5 rows × 71 columns</p>\n",
              "</div>\n",
              "      <button class=\"colab-df-convert\" onclick=\"convertToInteractive('df-e8da7a3f-b9a3-4b55-bd40-98b56feff302')\"\n",
              "              title=\"Convert this dataframe to an interactive table.\"\n",
              "              style=\"display:none;\">\n",
              "        \n",
              "  <svg xmlns=\"http://www.w3.org/2000/svg\" height=\"24px\"viewBox=\"0 0 24 24\"\n",
              "       width=\"24px\">\n",
              "    <path d=\"M0 0h24v24H0V0z\" fill=\"none\"/>\n",
              "    <path d=\"M18.56 5.44l.94 2.06.94-2.06 2.06-.94-2.06-.94-.94-2.06-.94 2.06-2.06.94zm-11 1L8.5 8.5l.94-2.06 2.06-.94-2.06-.94L8.5 2.5l-.94 2.06-2.06.94zm10 10l.94 2.06.94-2.06 2.06-.94-2.06-.94-.94-2.06-.94 2.06-2.06.94z\"/><path d=\"M17.41 7.96l-1.37-1.37c-.4-.4-.92-.59-1.43-.59-.52 0-1.04.2-1.43.59L10.3 9.45l-7.72 7.72c-.78.78-.78 2.05 0 2.83L4 21.41c.39.39.9.59 1.41.59.51 0 1.02-.2 1.41-.59l7.78-7.78 2.81-2.81c.8-.78.8-2.07 0-2.86zM5.41 20L4 18.59l7.72-7.72 1.47 1.35L5.41 20z\"/>\n",
              "  </svg>\n",
              "      </button>\n",
              "      \n",
              "  <style>\n",
              "    .colab-df-container {\n",
              "      display:flex;\n",
              "      flex-wrap:wrap;\n",
              "      gap: 12px;\n",
              "    }\n",
              "\n",
              "    .colab-df-convert {\n",
              "      background-color: #E8F0FE;\n",
              "      border: none;\n",
              "      border-radius: 50%;\n",
              "      cursor: pointer;\n",
              "      display: none;\n",
              "      fill: #1967D2;\n",
              "      height: 32px;\n",
              "      padding: 0 0 0 0;\n",
              "      width: 32px;\n",
              "    }\n",
              "\n",
              "    .colab-df-convert:hover {\n",
              "      background-color: #E2EBFA;\n",
              "      box-shadow: 0px 1px 2px rgba(60, 64, 67, 0.3), 0px 1px 3px 1px rgba(60, 64, 67, 0.15);\n",
              "      fill: #174EA6;\n",
              "    }\n",
              "\n",
              "    [theme=dark] .colab-df-convert {\n",
              "      background-color: #3B4455;\n",
              "      fill: #D2E3FC;\n",
              "    }\n",
              "\n",
              "    [theme=dark] .colab-df-convert:hover {\n",
              "      background-color: #434B5C;\n",
              "      box-shadow: 0px 1px 3px 1px rgba(0, 0, 0, 0.15);\n",
              "      filter: drop-shadow(0px 1px 2px rgba(0, 0, 0, 0.3));\n",
              "      fill: #FFFFFF;\n",
              "    }\n",
              "  </style>\n",
              "\n",
              "      <script>\n",
              "        const buttonEl =\n",
              "          document.querySelector('#df-e8da7a3f-b9a3-4b55-bd40-98b56feff302 button.colab-df-convert');\n",
              "        buttonEl.style.display =\n",
              "          google.colab.kernel.accessAllowed ? 'block' : 'none';\n",
              "\n",
              "        async function convertToInteractive(key) {\n",
              "          const element = document.querySelector('#df-e8da7a3f-b9a3-4b55-bd40-98b56feff302');\n",
              "          const dataTable =\n",
              "            await google.colab.kernel.invokeFunction('convertToInteractive',\n",
              "                                                     [key], {});\n",
              "          if (!dataTable) return;\n",
              "\n",
              "          const docLinkHtml = 'Like what you see? Visit the ' +\n",
              "            '<a target=\"_blank\" href=https://colab.research.google.com/notebooks/data_table.ipynb>data table notebook</a>'\n",
              "            + ' to learn more about interactive tables.';\n",
              "          element.innerHTML = '';\n",
              "          dataTable['output_type'] = 'display_data';\n",
              "          await google.colab.output.renderOutput(dataTable, element);\n",
              "          const docLink = document.createElement('div');\n",
              "          docLink.innerHTML = docLinkHtml;\n",
              "          element.appendChild(docLink);\n",
              "        }\n",
              "      </script>\n",
              "    </div>\n",
              "  </div>\n",
              "  "
            ]
          },
          "metadata": {},
          "execution_count": 67
        }
      ],
      "source": [
        "x_train_regressor.head(5)"
      ],
      "metadata": {
        "id": "kypRw7jF_TQT",
        "colab": {
          "base_uri": "https://localhost:8080/",
          "height": 317
        },
        "outputId": "f711099b-74fe-489b-8176-ac72e824d910"
      }
    },
    {
      "cell_type": "markdown",
      "source": [
        "#### 2.a.2 Definición de la red"
      ],
      "metadata": {
        "id": "NjqmQr4pYrEE"
      }
    },
    {
      "cell_type": "markdown",
      "source": [
        "Creamos el modelo con 2 capas ocultas, entrada de igual cantidad de columnas que el dataset, y salida de 1 parámetro:"
      ],
      "metadata": {
        "collapsed": false,
        "id": "76ZJ71U6_TQU"
      }
    },
    {
      "cell_type": "code",
      "execution_count": null,
      "outputs": [
        {
          "output_type": "stream",
          "name": "stdout",
          "text": [
            "Model: \"sequential\"\n",
            "_________________________________________________________________\n",
            " Layer (type)                Output Shape              Param #   \n",
            "=================================================================\n",
            " dense (Dense)               (None, 71)                5112      \n",
            "                                                                 \n",
            " dense_1 (Dense)             (None, 30)                2160      \n",
            "                                                                 \n",
            " dense_2 (Dense)             (None, 1)                 31        \n",
            "                                                                 \n",
            "=================================================================\n",
            "Total params: 7,303\n",
            "Trainable params: 7,303\n",
            "Non-trainable params: 0\n",
            "_________________________________________________________________\n"
          ]
        }
      ],
      "source": [
        "d_in = x_train_regressor.shape[1]\n",
        "\n",
        "modelo = keras.Sequential([\n",
        "    keras.layers.Dense(d_in, input_shape=(d_in,), activation='relu'),\n",
        "    keras.layers.Dense(30, activation='relu'),\n",
        "    keras.layers.Dense(1)\n",
        "])\n",
        "\n",
        "modelo.summary()"
      ],
      "metadata": {
        "id": "Of791qYL_TQU",
        "colab": {
          "base_uri": "https://localhost:8080/"
        },
        "outputId": "6aab79b5-66ba-4fba-81ad-b6c751c770e5"
      }
    },
    {
      "cell_type": "markdown",
      "source": [
        "#### 2.a.3 Entrenamiento y Predicción"
      ],
      "metadata": {
        "id": "Ao8GekM5YxJE"
      }
    },
    {
      "cell_type": "markdown",
      "source": [
        "Compilamos el modelo utilizando RMSprop como optimizador, entrenamos y predecimos:"
      ],
      "metadata": {
        "id": "P-dGpK-MZJjK"
      }
    },
    {
      "cell_type": "code",
      "execution_count": null,
      "outputs": [
        {
          "output_type": "stream",
          "name": "stdout",
          "text": [
            "465/465 [==============================] - 1s 1ms/step\n"
          ]
        }
      ],
      "source": [
        "modelo.compile(\n",
        "    optimizer=keras.optimizers.RMSprop(learning_rate=0.001),\n",
        "    loss='mse',\n",
        "    metrics=[MeanSquaredError()]\n",
        ")\n",
        "\n",
        "cant_epochs = 100\n",
        "historia = modelo.fit(x_train_regressor, \n",
        "                      y_train_regressor, \n",
        "                      epochs=cant_epochs, \n",
        "                      verbose=False, \n",
        "                      use_multiprocessing=True, \n",
        "                      workers=4)\n",
        "\n",
        "y_pred_regresion = modelo.predict(x_test_regressor)"
      ],
      "metadata": {
        "id": "lLv5SJT5_TQU",
        "colab": {
          "base_uri": "https://localhost:8080/"
        },
        "outputId": "a106ad07-8f88-46ab-b99e-fd09eb638a50"
      }
    },
    {
      "cell_type": "markdown",
      "source": [
        "#### 2.a.4 Métricas"
      ],
      "metadata": {
        "id": "Lm9p0azkY7Jc"
      }
    },
    {
      "cell_type": "markdown",
      "source": [
        "Veamos cómo se comporta la función de pérdida según la cantidad de épocas utilizadas:"
      ],
      "metadata": {
        "id": "vmBg6ev_ZO-e"
      }
    },
    {
      "cell_type": "code",
      "execution_count": null,
      "outputs": [
        {
          "output_type": "execute_result",
          "data": {
            "text/plain": [
              "<matplotlib.legend.Legend at 0x7f98da43c730>"
            ]
          },
          "metadata": {},
          "execution_count": 70
        },
        {
          "output_type": "display_data",
          "data": {
            "text/plain": [
              "<Figure size 432x288 with 1 Axes>"
            ],
            "image/png": "[encoded data removed]"
          },
          "metadata": {
            "needs_background": "light"
          }
        }
      ],
      "source": [
        "epochs = range(cant_epochs)\n",
        "plt.plot(epochs, historia.history['loss'], color='orange', label='MSE')\n",
        "plt.xlabel(\"epochs\")\n",
        "plt.ylabel(\"MSE\")\n",
        "plt.title('Error cuadrático medio por cantidad de épocas')\n",
        "plt.legend()"
      ],
      "metadata": {
        "id": "BzNqiJex_TQU",
        "colab": {
          "base_uri": "https://localhost:8080/",
          "height": 312
        },
        "outputId": "b2baf671-a4c2-48cf-9957-e945d2e84166"
      }
    },
    {
      "cell_type": "code",
      "execution_count": null,
      "outputs": [
        {
          "output_type": "stream",
          "name": "stdout",
          "text": [
            "465/465 [==============================] - 1s 1ms/step - loss: 128141351206130810880.0000 - mean_squared_error: 128141351206130810880.0000\n",
            "El error relativo porcentual promedio es: 88946.23 y su mediana es: 80815.49\n",
            "El error MSE es: 1.2814135120613081e+20\n"
          ]
        }
      ],
      "source": [
        "res = modelo.evaluate(x_test_regressor, y_test_regressor)\n",
        "error = np.absolute(np.diagonal(np.subtract(y_test_regressor.values, y_pred_regresion)))\n",
        "error_porcentual = error / y_test_regressor.values\n",
        "print('El error relativo porcentual promedio es:', round(np.mean(error_porcentual),2), 'y su mediana es:', round(np.median(error_porcentual),2))\n",
        "print('El error MSE es:', round(res[1],2))"
      ],
      "metadata": {
        "id": "I8bkgfzi_TQV",
        "colab": {
          "base_uri": "https://localhost:8080/"
        },
        "outputId": "e745c67d-fda5-4737-d20b-98084f078c63"
      }
    },
    {
      "cell_type": "markdown",
      "source": [
        "#### 2.a.5 Exportación de Datos"
      ],
      "metadata": {
        "id": "BeRZVagKeKzO"
      }
    },
    {
      "cell_type": "markdown",
      "source": [
        "Finalmente, exportamos el modelo utilizado:"
      ],
      "metadata": {
        "id": "lO3v9OUzeKzP"
      }
    },
    {
      "cell_type": "code",
      "source": [
        "if IN_COLAB:\n",
        "  path = '/content/drive/MyDrive/📒 Organización de Datos (75.06)/TPS/TP2/MODELOS/Redes_Regressor.joblib'\n",
        "else:\n",
        "  path = './MODELOS/Redes_Regressor.joblib'\n",
        "\n",
        "dump(modelo, path)"
      ],
      "metadata": {
        "id": "tSuqGenveKzP",
        "colab": {
          "base_uri": "https://localhost:8080/"
        },
        "outputId": "4d08240b-4591-4827-d026-abcdb2c84058"
      },
      "execution_count": null,
      "outputs": [
        {
          "output_type": "execute_result",
          "data": {
            "text/plain": [
              "['/content/drive/MyDrive/📔 Organización de Datos (75.06)/TPS/TP2/MODELOS/Redes_Regressor.joblib']"
            ]
          },
          "metadata": {},
          "execution_count": 72
        }
      ]
    },
    {
      "cell_type": "markdown",
      "source": [
        "### 2.b Clasificación\n",
        "___"
      ],
      "metadata": {
        "collapsed": false,
        "id": "dXdWW-m9_TQV"
      }
    },
    {
      "cell_type": "markdown",
      "source": [
        "#### 2.b.1 Preparación del dataset"
      ],
      "metadata": {
        "id": "b176QcPLZj9N"
      }
    },
    {
      "cell_type": "markdown",
      "source": [
        "Normalizamos mediante Z-Score:"
      ],
      "metadata": {
        "collapsed": false,
        "id": "JPjRt6tTOWIL"
      }
    },
    {
      "cell_type": "code",
      "source": [
        "x_train_classifier[['start_date', 'end_date', 'latitud', 'longitud', 'property_rooms', 'property_surface_total']] = zscore(x_train_classifier[['start_date', 'end_date', 'latitud', 'longitud', 'property_rooms', 'property_surface_total']], axis=1)\n",
        "\n",
        "x_test_classifier[['start_date', 'end_date', 'latitud', 'longitud', 'property_rooms', 'property_surface_total']] = zscore(x_test_classifier[['start_date', 'end_date', 'latitud', 'longitud', 'property_rooms', 'property_surface_total']], axis=1)"
      ],
      "metadata": {
        "id": "qDlv11yi8sR1"
      },
      "execution_count": null,
      "outputs": []
    },
    {
      "cell_type": "markdown",
      "source": [
        "Aplicamos One Hot encoding a la columna target de entrenamiento, para que tenga 3 columnas al igual que la salida del modelo:"
      ],
      "metadata": {
        "collapsed": false,
        "id": "IZ2XeEKi_TQW"
      }
    },
    {
      "cell_type": "code",
      "source": [
        "y_train_classifier = pd.get_dummies(y_train_classifier, columns=['tipo_precio_3'], drop_first=False)"
      ],
      "metadata": {
        "id": "2jzMgy7b5js1"
      },
      "execution_count": null,
      "outputs": []
    },
    {
      "cell_type": "markdown",
      "source": [
        "#### 2.b.2 Definición de la red"
      ],
      "metadata": {
        "id": "ubndHWDlZosm"
      }
    },
    {
      "cell_type": "markdown",
      "source": [
        "Modelamos con 1 capa oculta de 50 unidades, que recibe como entrada las columnas del dataset. La salida tiene 3 unidades."
      ],
      "metadata": {
        "collapsed": false,
        "id": "rVHwiNd3_TQV"
      }
    },
    {
      "cell_type": "code",
      "execution_count": null,
      "outputs": [
        {
          "output_type": "stream",
          "name": "stdout",
          "text": [
            "Model: \"sequential_1\"\n",
            "_________________________________________________________________\n",
            " Layer (type)                Output Shape              Param #   \n",
            "=================================================================\n",
            " dense_3 (Dense)             (None, 50)                3600      \n",
            "                                                                 \n",
            " dense_4 (Dense)             (None, 3)                 153       \n",
            "                                                                 \n",
            "=================================================================\n",
            "Total params: 3,753\n",
            "Trainable params: 3,753\n",
            "Non-trainable params: 0\n",
            "_________________________________________________________________\n"
          ]
        }
      ],
      "source": [
        "d_in = x_train_classifier.shape[1]\n",
        "\n",
        "modelo = keras.Sequential([\n",
        "    keras.layers.Dense(50, input_shape=(d_in,)),\n",
        "    keras.layers.Dense(3, activation='softmax')\n",
        "])\n",
        "\n",
        "modelo.summary()"
      ],
      "metadata": {
        "id": "CO0lbjPj_TQW",
        "colab": {
          "base_uri": "https://localhost:8080/"
        },
        "outputId": "5653e4e1-4eed-44f4-b589-9f4d9b5cb354"
      }
    },
    {
      "cell_type": "markdown",
      "source": [
        "#### 2.b.3 Preparación del dataset"
      ],
      "metadata": {
        "id": "phaglpnGaCUe"
      }
    },
    {
      "cell_type": "markdown",
      "source": [
        "Compilamos el modelo con optimizador Adam y loss de crossentropy categórico. Procedemos a entrenar y predecir:"
      ],
      "metadata": {
        "collapsed": false,
        "id": "tP9PVcKR_TQW"
      }
    },
    {
      "cell_type": "code",
      "execution_count": null,
      "outputs": [],
      "source": [
        "modelo.compile(\n",
        "    optimizer=keras.optimizers.Adam(learning_rate=0.001),\n",
        "    loss='categorical_crossentropy',\n",
        "    metrics=['AUC', 'Accuracy', 'Recall', 'Precision'],\n",
        ")\n",
        "\n",
        "cant_epochs=100\n",
        "historia = modelo.fit(x_train_classifier, y_train_classifier, epochs=cant_epochs, verbose=False, use_multiprocessing=True, workers=4)"
      ],
      "metadata": {
        "id": "BZnWP4OU_TQX"
      }
    },
    {
      "cell_type": "code",
      "source": [
        "y_pred_clasificacion = modelo.predict(x_test_classifier)"
      ],
      "metadata": {
        "id": "JNz3xaWK6Aca",
        "colab": {
          "base_uri": "https://localhost:8080/"
        },
        "outputId": "01e91124-4ef9-45a0-b102-2ca0f9e50c2e"
      },
      "execution_count": null,
      "outputs": [
        {
          "output_type": "stream",
          "name": "stdout",
          "text": [
            "465/465 [==============================] - 1s 991us/step\n"
          ]
        }
      ]
    },
    {
      "cell_type": "markdown",
      "source": [
        "#### 2.b.4 Métricas"
      ],
      "metadata": {
        "id": "W-KMjjHwaFjg"
      }
    },
    {
      "cell_type": "markdown",
      "source": [
        "En este caso, veamos cómo se comporta la métrica AUC, y -por tanto-, cómo se comprota el acierto según la cantidad de épocas utilizada:"
      ],
      "metadata": {
        "id": "ez-lm0I4aXhi"
      }
    },
    {
      "cell_type": "code",
      "execution_count": null,
      "outputs": [
        {
          "output_type": "execute_result",
          "data": {
            "text/plain": [
              "<matplotlib.legend.Legend at 0x7f98da05b310>"
            ]
          },
          "metadata": {},
          "execution_count": 78
        },
        {
          "output_type": "display_data",
          "data": {
            "text/plain": [
              "<Figure size 432x288 with 1 Axes>"
            ],
            "image/png": "[encoded data removed]"
          },
          "metadata": {
            "needs_background": "light"
          }
        }
      ],
      "source": [
        "epochs = range(cant_epochs)\n",
        "\n",
        "plt.plot(epochs, historia.history['auc'], color='orange', label='AUC')\n",
        "plt.xlabel(\"Epochs\")\n",
        "plt.ylabel(\"AUC\")\n",
        "plt.title('Area bajo la curva por cantidad de épocas')\n",
        "plt.legend()"
      ],
      "metadata": {
        "id": "FY6s9jDN_TQX",
        "colab": {
          "base_uri": "https://localhost:8080/",
          "height": 312
        },
        "outputId": "e81a7ba4-25fc-4d86-a3ba-8f16fdb67adc"
      }
    },
    {
      "cell_type": "markdown",
      "source": [
        "Reorganizamos los valores predichos para que queden en una sola columna, y comparamos con el conjunto de prueba:"
      ],
      "metadata": {
        "collapsed": false,
        "id": "f_9yDT0-_TQX"
      }
    },
    {
      "cell_type": "code",
      "execution_count": null,
      "outputs": [],
      "source": [
        "y_pred_clasificacion_arr = np.apply_along_axis(convert_b_m_a, axis=1, arr=y_pred_clasificacion)"
      ],
      "metadata": {
        "id": "bKKV7SQ5_TQX"
      }
    },
    {
      "cell_type": "markdown",
      "source": [
        "Seguimos reacomodando los valores para poder calcular las métricas correspondientes, notemos que no pueden guardarse valores equivalentes al string 'medio' en el array:"
      ],
      "metadata": {
        "id": "wMY6UF4RI8Ip"
      }
    },
    {
      "cell_type": "code",
      "source": [
        "np.unique(y_pred_clasificacion_arr)"
      ],
      "metadata": {
        "id": "qth1TiSnKsCs",
        "colab": {
          "base_uri": "https://localhost:8080/"
        },
        "outputId": "8f01308d-2462-41f8-c535-2c591a514921"
      },
      "execution_count": null,
      "outputs": [
        {
          "output_type": "execute_result",
          "data": {
            "text/plain": [
              "array(['alto', 'bajo', 'medi'], dtype='<U4')"
            ]
          },
          "metadata": {},
          "execution_count": 80
        }
      ]
    },
    {
      "cell_type": "markdown",
      "source": [
        "Aplicamos estrategias de transformación de datos:"
      ],
      "metadata": {
        "id": "CX9WD9mAJFPi"
      }
    },
    {
      "cell_type": "code",
      "source": [
        "y_pred_clasificacion_arr = np.where(y_pred_clasificacion_arr == 'medi', 'medio', y_pred_clasificacion_arr)"
      ],
      "metadata": {
        "id": "7_YbczvDLnY2"
      },
      "execution_count": null,
      "outputs": []
    },
    {
      "cell_type": "code",
      "source": [
        "np.unique(y_pred_clasificacion_arr)"
      ],
      "metadata": {
        "id": "MjGQWoBRI6S_",
        "colab": {
          "base_uri": "https://localhost:8080/"
        },
        "outputId": "70d36178-d29e-4829-b418-f6319c58b7c3"
      },
      "execution_count": null,
      "outputs": [
        {
          "output_type": "execute_result",
          "data": {
            "text/plain": [
              "array(['alto', 'bajo', 'medio'], dtype='<U5')"
            ]
          },
          "metadata": {},
          "execution_count": 82
        }
      ]
    },
    {
      "cell_type": "markdown",
      "source": [
        "Finalmente, calculamos las métricas:"
      ],
      "metadata": {
        "id": "pfpYZ7DrMQXT"
      }
    },
    {
      "cell_type": "code",
      "source": [
        "metricas_clasificacion(y_test_classifier, y_pred_clasificacion_arr)"
      ],
      "metadata": {
        "id": "hS1ZCcYyGb_i",
        "colab": {
          "base_uri": "https://localhost:8080/"
        },
        "outputId": "96566152-7864-4133-b532-8224664264e4"
      },
      "execution_count": null,
      "outputs": [
        {
          "output_type": "stream",
          "name": "stdout",
          "text": [
            "Accuracy: 0.57\n",
            "Precision: 0.61\n",
            "Recall: 0.49\n",
            "F1 Score: 0.49\n"
          ]
        }
      ]
    },
    {
      "cell_type": "markdown",
      "source": [
        "#### 2.a.5 Exportación de Datos"
      ],
      "metadata": {
        "id": "5SsWSPw1fJYm"
      }
    },
    {
      "cell_type": "markdown",
      "source": [
        "Finalmente, exportamos el modelo utilizado:"
      ],
      "metadata": {
        "id": "IlgF2MmmfJYn"
      }
    },
    {
      "cell_type": "code",
      "source": [
        "if IN_COLAB:\n",
        "  path = '/content/drive/MyDrive/📒 Organización de Datos (75.06)/TPS/TP2/MODELOS/Redes_Classifier.joblib'\n",
        "else:\n",
        "  path = './MODELOS/Redes_Classifier.joblib'\n",
        "\n",
        "dump(modelo, path)"
      ],
      "metadata": {
        "id": "yjKFj8TjfJYn",
        "colab": {
          "base_uri": "https://localhost:8080/"
        },
        "outputId": "61754cc7-f2d2-4892-9b72-2420f12439ae"
      },
      "execution_count": null,
      "outputs": [
        {
          "output_type": "execute_result",
          "data": {
            "text/plain": [
              "['/content/drive/MyDrive/📔 Organización de Datos (75.06)/TPS/TP2/MODELOS/Redes_Classifier.joblib']"
            ]
          },
          "metadata": {},
          "execution_count": 84
        }
      ]
    },
    {
      "cell_type": "markdown",
      "metadata": {
        "id": "JDpREdwKxB6m"
      },
      "source": [
        "## 3. Ensamble de Modelos"
      ]
    },
    {
      "cell_type": "markdown",
      "metadata": {
        "id": "KvLq10beDadg"
      },
      "source": [
        "### 3.1 Ensamble Híbrido: Voting - Clasificación\n",
        "___"
      ]
    },
    {
      "cell_type": "markdown",
      "metadata": {
        "id": "EAT6HU3buhLU"
      },
      "source": [
        "#### Preparación del dataset"
      ]
    },
    {
      "cell_type": "markdown",
      "metadata": {
        "id": "aZNjL2W-vZvC"
      },
      "source": [
        "Para la parte de ensambles, lo que haremos será utilizar nuevamente el dataset al cual se le aplicó una reducción de su dimensionalidad en el trabajo práctico n°1. \n",
        "\n",
        "Para esto lo que haremos será trabajar con una copia del dataset modificado al inicio del trabajo, el cual usa como base el reducido mencionado anteriormente."
      ]
    },
    {
      "cell_type": "markdown",
      "metadata": {
        "id": "fDp1eW_cHfxt"
      },
      "source": [
        "Para nuestra variable `target`, utilizaremos como convención la misma que fue planteada para el tp1. Ésta consiste en subdividir a la variable pxm2 (precio por metro cuadrado) en 3 intervalos, 25% a bajo, 50% a medio y el otro 25% restante a alto. A su vez, se hará la separación tambien por tipo de propiedad."
      ]
    },
    {
      "cell_type": "code",
      "execution_count": 92,
      "metadata": {
        "id": "7T0ZW9l-dcqI"
      },
      "outputs": [],
      "source": [
        "x_train_voting = x_train_classifier\n",
        "y_train_voting = y_train_classifier\n",
        "\n",
        "x_test_voting = x_test_classifier\n",
        "y_test_voting = y_test_classifier"
      ]
    },
    {
      "cell_type": "code",
      "execution_count": 93,
      "metadata": {
        "id": "sSKtHVSSgBhv",
        "colab": {
          "base_uri": "https://localhost:8080/",
          "height": 502
        },
        "outputId": "f60962cc-065e-4cdb-f56c-5261e81fa30e"
      },
      "outputs": [
        {
          "output_type": "error",
          "ename": "KeyError",
          "evalue": "ignored",
          "traceback": [
            "\u001b[0;31m---------------------------------------------------------------------------\u001b[0m",
            "\u001b[0;31mKeyError\u001b[0m                                  Traceback (most recent call last)",
            "\u001b[0;32m/usr/local/lib/python3.8/dist-packages/pandas/core/indexes/base.py\u001b[0m in \u001b[0;36mget_loc\u001b[0;34m(self, key, method, tolerance)\u001b[0m\n\u001b[1;32m   3360\u001b[0m             \u001b[0;32mtry\u001b[0m\u001b[0;34m:\u001b[0m\u001b[0;34m\u001b[0m\u001b[0;34m\u001b[0m\u001b[0m\n\u001b[0;32m-> 3361\u001b[0;31m                 \u001b[0;32mreturn\u001b[0m \u001b[0mself\u001b[0m\u001b[0;34m.\u001b[0m\u001b[0m_engine\u001b[0m\u001b[0;34m.\u001b[0m\u001b[0mget_loc\u001b[0m\u001b[0;34m(\u001b[0m\u001b[0mcasted_key\u001b[0m\u001b[0;34m)\u001b[0m\u001b[0;34m\u001b[0m\u001b[0;34m\u001b[0m\u001b[0m\n\u001b[0m\u001b[1;32m   3362\u001b[0m             \u001b[0;32mexcept\u001b[0m \u001b[0mKeyError\u001b[0m \u001b[0;32mas\u001b[0m \u001b[0merr\u001b[0m\u001b[0;34m:\u001b[0m\u001b[0;34m\u001b[0m\u001b[0;34m\u001b[0m\u001b[0m\n",
            "\u001b[0;32m/usr/local/lib/python3.8/dist-packages/pandas/_libs/index.pyx\u001b[0m in \u001b[0;36mpandas._libs.index.IndexEngine.get_loc\u001b[0;34m()\u001b[0m\n",
            "\u001b[0;32mpandas/_libs/index_class_helper.pxi\u001b[0m in \u001b[0;36mpandas._libs.index.Int64Engine._check_type\u001b[0;34m()\u001b[0m\n",
            "\u001b[0;32mpandas/_libs/index_class_helper.pxi\u001b[0m in \u001b[0;36mpandas._libs.index.Int64Engine._check_type\u001b[0;34m()\u001b[0m\n",
            "\u001b[0;31mKeyError\u001b[0m: 'bajo'",
            "\nThe above exception was the direct cause of the following exception:\n",
            "\u001b[0;31mKeyError\u001b[0m                                  Traceback (most recent call last)",
            "\u001b[0;32m<ipython-input-93-8dbc0639f77a>\u001b[0m in \u001b[0;36m<module>\u001b[0;34m\u001b[0m\n\u001b[0;32m----> 1\u001b[0;31m \u001b[0mbajo\u001b[0m \u001b[0;34m=\u001b[0m \u001b[0my_train_voting\u001b[0m\u001b[0;34m[\u001b[0m\u001b[0;34m'bajo'\u001b[0m\u001b[0;34m]\u001b[0m\u001b[0;34m.\u001b[0m\u001b[0msum\u001b[0m\u001b[0;34m(\u001b[0m\u001b[0;34m)\u001b[0m \u001b[0;34m+\u001b[0m \u001b[0my_test_voting\u001b[0m\u001b[0;34m[\u001b[0m\u001b[0my_test_voting\u001b[0m \u001b[0;34m==\u001b[0m \u001b[0;34m'bajo'\u001b[0m\u001b[0;34m]\u001b[0m\u001b[0;34m.\u001b[0m\u001b[0mcount\u001b[0m\u001b[0;34m(\u001b[0m\u001b[0;34m)\u001b[0m\u001b[0;34m\u001b[0m\u001b[0;34m\u001b[0m\u001b[0m\n\u001b[0m\u001b[1;32m      2\u001b[0m \u001b[0mmedio\u001b[0m \u001b[0;34m=\u001b[0m \u001b[0my_train_voting\u001b[0m\u001b[0;34m[\u001b[0m\u001b[0;34m'medio'\u001b[0m\u001b[0;34m]\u001b[0m\u001b[0;34m.\u001b[0m\u001b[0msum\u001b[0m\u001b[0;34m(\u001b[0m\u001b[0;34m)\u001b[0m \u001b[0;34m+\u001b[0m \u001b[0my_test_voting\u001b[0m\u001b[0;34m[\u001b[0m\u001b[0my_test_voting\u001b[0m \u001b[0;34m==\u001b[0m \u001b[0;34m'medio'\u001b[0m\u001b[0;34m]\u001b[0m\u001b[0;34m.\u001b[0m\u001b[0mcount\u001b[0m\u001b[0;34m(\u001b[0m\u001b[0;34m)\u001b[0m\u001b[0;34m\u001b[0m\u001b[0;34m\u001b[0m\u001b[0m\n\u001b[1;32m      3\u001b[0m \u001b[0malto\u001b[0m \u001b[0;34m=\u001b[0m \u001b[0my_train_voting\u001b[0m\u001b[0;34m[\u001b[0m\u001b[0;34m'alto'\u001b[0m\u001b[0;34m]\u001b[0m\u001b[0;34m.\u001b[0m\u001b[0msum\u001b[0m\u001b[0;34m(\u001b[0m\u001b[0;34m)\u001b[0m \u001b[0;34m+\u001b[0m \u001b[0my_test_voting\u001b[0m\u001b[0;34m[\u001b[0m\u001b[0my_test_voting\u001b[0m \u001b[0;34m==\u001b[0m \u001b[0;34m'alto'\u001b[0m\u001b[0;34m]\u001b[0m\u001b[0;34m.\u001b[0m\u001b[0mcount\u001b[0m\u001b[0;34m(\u001b[0m\u001b[0;34m)\u001b[0m\u001b[0;34m\u001b[0m\u001b[0;34m\u001b[0m\u001b[0m\n\u001b[1;32m      4\u001b[0m \u001b[0;34m\u001b[0m\u001b[0m\n\u001b[1;32m      5\u001b[0m \u001b[0mprint\u001b[0m\u001b[0;34m(\u001b[0m\u001b[0;34mf\"Se observaron: \\n - {round(bajo,3)} registros de tipo 'bajo'. \\n - {round(medio,3)} registros de tipo 'medio'. \\n - {round(alto,3)} registros de tipo 'alto'.\"\u001b[0m\u001b[0;34m)\u001b[0m\u001b[0;34m\u001b[0m\u001b[0;34m\u001b[0m\u001b[0m\n",
            "\u001b[0;32m/usr/local/lib/python3.8/dist-packages/pandas/core/series.py\u001b[0m in \u001b[0;36m__getitem__\u001b[0;34m(self, key)\u001b[0m\n\u001b[1;32m    940\u001b[0m \u001b[0;34m\u001b[0m\u001b[0m\n\u001b[1;32m    941\u001b[0m         \u001b[0;32melif\u001b[0m \u001b[0mkey_is_scalar\u001b[0m\u001b[0;34m:\u001b[0m\u001b[0;34m\u001b[0m\u001b[0;34m\u001b[0m\u001b[0m\n\u001b[0;32m--> 942\u001b[0;31m             \u001b[0;32mreturn\u001b[0m \u001b[0mself\u001b[0m\u001b[0;34m.\u001b[0m\u001b[0m_get_value\u001b[0m\u001b[0;34m(\u001b[0m\u001b[0mkey\u001b[0m\u001b[0;34m)\u001b[0m\u001b[0;34m\u001b[0m\u001b[0;34m\u001b[0m\u001b[0m\n\u001b[0m\u001b[1;32m    943\u001b[0m \u001b[0;34m\u001b[0m\u001b[0m\n\u001b[1;32m    944\u001b[0m         \u001b[0;32mif\u001b[0m \u001b[0mis_hashable\u001b[0m\u001b[0;34m(\u001b[0m\u001b[0mkey\u001b[0m\u001b[0;34m)\u001b[0m\u001b[0;34m:\u001b[0m\u001b[0;34m\u001b[0m\u001b[0;34m\u001b[0m\u001b[0m\n",
            "\u001b[0;32m/usr/local/lib/python3.8/dist-packages/pandas/core/series.py\u001b[0m in \u001b[0;36m_get_value\u001b[0;34m(self, label, takeable)\u001b[0m\n\u001b[1;32m   1049\u001b[0m \u001b[0;34m\u001b[0m\u001b[0m\n\u001b[1;32m   1050\u001b[0m         \u001b[0;31m# Similar to Index.get_value, but we do not fall back to positional\u001b[0m\u001b[0;34m\u001b[0m\u001b[0;34m\u001b[0m\u001b[0;34m\u001b[0m\u001b[0m\n\u001b[0;32m-> 1051\u001b[0;31m         \u001b[0mloc\u001b[0m \u001b[0;34m=\u001b[0m \u001b[0mself\u001b[0m\u001b[0;34m.\u001b[0m\u001b[0mindex\u001b[0m\u001b[0;34m.\u001b[0m\u001b[0mget_loc\u001b[0m\u001b[0;34m(\u001b[0m\u001b[0mlabel\u001b[0m\u001b[0;34m)\u001b[0m\u001b[0;34m\u001b[0m\u001b[0;34m\u001b[0m\u001b[0m\n\u001b[0m\u001b[1;32m   1052\u001b[0m         \u001b[0;32mreturn\u001b[0m \u001b[0mself\u001b[0m\u001b[0;34m.\u001b[0m\u001b[0mindex\u001b[0m\u001b[0;34m.\u001b[0m\u001b[0m_get_values_for_loc\u001b[0m\u001b[0;34m(\u001b[0m\u001b[0mself\u001b[0m\u001b[0;34m,\u001b[0m \u001b[0mloc\u001b[0m\u001b[0;34m,\u001b[0m \u001b[0mlabel\u001b[0m\u001b[0;34m)\u001b[0m\u001b[0;34m\u001b[0m\u001b[0;34m\u001b[0m\u001b[0m\n\u001b[1;32m   1053\u001b[0m \u001b[0;34m\u001b[0m\u001b[0m\n",
            "\u001b[0;32m/usr/local/lib/python3.8/dist-packages/pandas/core/indexes/base.py\u001b[0m in \u001b[0;36mget_loc\u001b[0;34m(self, key, method, tolerance)\u001b[0m\n\u001b[1;32m   3361\u001b[0m                 \u001b[0;32mreturn\u001b[0m \u001b[0mself\u001b[0m\u001b[0;34m.\u001b[0m\u001b[0m_engine\u001b[0m\u001b[0;34m.\u001b[0m\u001b[0mget_loc\u001b[0m\u001b[0;34m(\u001b[0m\u001b[0mcasted_key\u001b[0m\u001b[0;34m)\u001b[0m\u001b[0;34m\u001b[0m\u001b[0;34m\u001b[0m\u001b[0m\n\u001b[1;32m   3362\u001b[0m             \u001b[0;32mexcept\u001b[0m \u001b[0mKeyError\u001b[0m \u001b[0;32mas\u001b[0m \u001b[0merr\u001b[0m\u001b[0;34m:\u001b[0m\u001b[0;34m\u001b[0m\u001b[0;34m\u001b[0m\u001b[0m\n\u001b[0;32m-> 3363\u001b[0;31m                 \u001b[0;32mraise\u001b[0m \u001b[0mKeyError\u001b[0m\u001b[0;34m(\u001b[0m\u001b[0mkey\u001b[0m\u001b[0;34m)\u001b[0m \u001b[0;32mfrom\u001b[0m \u001b[0merr\u001b[0m\u001b[0;34m\u001b[0m\u001b[0;34m\u001b[0m\u001b[0m\n\u001b[0m\u001b[1;32m   3364\u001b[0m \u001b[0;34m\u001b[0m\u001b[0m\n\u001b[1;32m   3365\u001b[0m         \u001b[0;32mif\u001b[0m \u001b[0mis_scalar\u001b[0m\u001b[0;34m(\u001b[0m\u001b[0mkey\u001b[0m\u001b[0;34m)\u001b[0m \u001b[0;32mand\u001b[0m \u001b[0misna\u001b[0m\u001b[0;34m(\u001b[0m\u001b[0mkey\u001b[0m\u001b[0;34m)\u001b[0m \u001b[0;32mand\u001b[0m \u001b[0;32mnot\u001b[0m \u001b[0mself\u001b[0m\u001b[0;34m.\u001b[0m\u001b[0mhasnans\u001b[0m\u001b[0;34m:\u001b[0m\u001b[0;34m\u001b[0m\u001b[0;34m\u001b[0m\u001b[0m\n",
            "\u001b[0;31mKeyError\u001b[0m: 'bajo'"
          ]
        }
      ],
      "source": [
        "bajo = y_train_voting['bajo'].sum() + y_test_voting[y_test_voting == 'bajo'].count()\n",
        "medio = y_train_voting['medio'].sum() + y_test_voting[y_test_voting == 'medio'].count()\n",
        "alto = y_train_voting['alto'].sum() + y_test_voting[y_test_voting == 'alto'].count()\n",
        "\n",
        "print(f\"Se observaron: \\n - {round(bajo,3)} registros de tipo 'bajo'. \\n - {round(medio,3)} registros de tipo 'medio'. \\n - {round(alto,3)} registros de tipo 'alto'.\")"
      ]
    },
    {
      "cell_type": "markdown",
      "metadata": {
        "id": "_kG7ZRlKuaxT"
      },
      "source": [
        "#### Definición del Ensamble"
      ]
    },
    {
      "cell_type": "markdown",
      "metadata": {
        "id": "CGYLj6zEDcf7"
      },
      "source": [
        "Para el tipo de ensamble **voting**, lo que necesitaremos será contar con `n` cantidad de modelos previamente entrenados para luego someterlos a una votación. De la misma, saldrá la clasificación para la nueva instancia en base a lo que indique la mayoría de ellos."
      ]
    },
    {
      "cell_type": "markdown",
      "metadata": {
        "id": "FTMs6ZsBDd_Y"
      },
      "source": [
        "Elegimos tomar como modelos los mismos empleados en el TP1:\n",
        "\n",
        "\n",
        "*   Árbol de Decisión\n",
        "*   Random Forest\n",
        "*   KNN\n",
        "\n"
      ]
    },
    {
      "cell_type": "markdown",
      "source": [
        "En esta línea, cargamos en memoria los modelos previamente guardados:"
      ],
      "metadata": {
        "id": "U437nPqDP87B"
      }
    },
    {
      "cell_type": "code",
      "source": [
        "if IN_COLAB:\n",
        "  path = '/content/drive/MyDrive/📒 Organización de Datos (75.06)/TPS/TP1/MODELOS/DecisionTree_Classfier.joblib'\n",
        "else:\n",
        "  path = './MODELOS/DecisionTree_Classfier.joblib'\n",
        "\n",
        "dcs_clf = load(path)"
      ],
      "metadata": {
        "id": "_k9OCodePoJD"
      },
      "execution_count": null,
      "outputs": []
    },
    {
      "cell_type": "code",
      "source": [
        "if IN_COLAB:\n",
        "  path = '/content/drive/MyDrive/📒 Organización de Datos (75.06)/TPS/TP1/MODELOS/RandomForest_Classfier.joblib'\n",
        "else:\n",
        "  path = './MODELOS/RandomForest_Classfier.joblib'\n",
        "\n",
        "rnd_clf = load(path)"
      ],
      "metadata": {
        "id": "a7IWWmUoPwGH"
      },
      "execution_count": null,
      "outputs": []
    },
    {
      "cell_type": "code",
      "source": [
        "if IN_COLAB:\n",
        "  path = '/content/drive/MyDrive/📒 Organización de Datos (75.06)/TPS/TP1/MODELOS/KNN_Classfier.joblib'\n",
        "else:\n",
        "  path = './MODELOS/KNN_Classfier.joblib'\n",
        "\n",
        "knn_clf = load(path)"
      ],
      "metadata": {
        "id": "sx-_-Q9xPc29"
      },
      "execution_count": null,
      "outputs": []
    },
    {
      "cell_type": "markdown",
      "source": [
        "Recordemos que estos modelos fueron optimizados con los siguientes hiperparámetros:\n",
        "\n",
        "- para **Decision Tree**: `{'ccp_alpha': 0.0001, 'criterion': 'gini', 'max_depth': 21}`\n",
        "- para **Random Forest**: `{'ccp_alpha': 0.0001, 'criterion': 'entropy', 'max_depth': 25, 'n_estimators': 55}`\n",
        "- para **K Nearest Neighbors**: `{'algorithm': 'kd_tree', 'leaf_size': 5, 'n_jobs': -1, 'n_neighbors': 3, 'weights': 'distance'}`"
      ],
      "metadata": {
        "id": "Lz62MXjMR6eu"
      }
    },
    {
      "cell_type": "markdown",
      "metadata": {
        "id": "AEgb4Z2xDon_"
      },
      "source": [
        "Una vez que contamos con los modelos que vamos a utilizar en el ensamble, procedemos a su creación. En este caso particular decidimos utilizar el tipo de votación hard el cual utilizará la regla de la mayoría. Por otro lado, utilizamos el hiperparámetro `estimators` para definir como nos vamos a referir a dichos modelos."
      ]
    },
    {
      "cell_type": "code",
      "execution_count": null,
      "metadata": {
        "id": "WlSEwC0ODq26"
      },
      "outputs": [],
      "source": [
        "vot_clf = VotingClassifier(estimators = [('dcs', dcs_clf), ('rnd', rnd_clf), ('knn', knn_clf)], voting = 'hard')"
      ]
    },
    {
      "cell_type": "markdown",
      "metadata": {
        "id": "D8sgMCouvLx-"
      },
      "source": [
        "#### Entrenamiento y Predicción"
      ]
    },
    {
      "cell_type": "markdown",
      "source": [
        "Reorganizamos los valores predichos para que queden en una sola columna, y comparamos con el conjunto de prueba:"
      ],
      "metadata": {
        "collapsed": false,
        "id": "_aTA577USlsB"
      }
    },
    {
      "cell_type": "code",
      "execution_count": null,
      "outputs": [],
      "source": [
        "y_train_voting_arr = np.apply_along_axis(convert_b_m_a, axis=1, arr=y_train_voting)"
      ],
      "metadata": {
        "id": "ylyPOrZ9SlsC"
      }
    },
    {
      "cell_type": "markdown",
      "source": [
        "Seguimos reacomodando los valores para poder calcular las métricas correspondientes, notemos que no pueden guardarse valores equivalentes al string 'medio' en el array:"
      ],
      "metadata": {
        "id": "pMyijnL-SlsD"
      }
    },
    {
      "cell_type": "code",
      "source": [
        "np.unique(y_train_voting_arr)"
      ],
      "metadata": {
        "id": "oMGsKgJLSlsE"
      },
      "execution_count": null,
      "outputs": []
    },
    {
      "cell_type": "markdown",
      "source": [
        "Aplicamos estrategias de transformación de datos:"
      ],
      "metadata": {
        "id": "mmDJFqfxSlsE"
      }
    },
    {
      "cell_type": "code",
      "source": [
        "y_train_voting_arr = np.where(y_train_voting_arr == 'medi', 'medio', y_train_voting_arr)"
      ],
      "metadata": {
        "id": "vK5dgr3SSlsE"
      },
      "execution_count": null,
      "outputs": []
    },
    {
      "cell_type": "code",
      "source": [
        "np.unique(y_train_voting_arr)"
      ],
      "metadata": {
        "id": "B0Wmo-6KSlsF"
      },
      "execution_count": null,
      "outputs": []
    },
    {
      "cell_type": "markdown",
      "source": [
        "Finalmente, entrenamos el ensamble:"
      ],
      "metadata": {
        "id": "JAJbjjZ1SlsF"
      }
    },
    {
      "cell_type": "code",
      "execution_count": null,
      "metadata": {
        "id": "3yr85PLiD1vO"
      },
      "outputs": [],
      "source": [
        "vot_clf.fit(x_train_voting, y_train_voting_arr)"
      ]
    },
    {
      "cell_type": "code",
      "source": [
        "y_pred_voting = vot_clf.predict(x_test_voting)"
      ],
      "metadata": {
        "id": "0mf1Le81Ujyc"
      },
      "execution_count": null,
      "outputs": []
    },
    {
      "cell_type": "markdown",
      "metadata": {
        "id": "JTaTYoJYuv-M"
      },
      "source": [
        "#### Métricas"
      ]
    },
    {
      "cell_type": "markdown",
      "metadata": {
        "id": "UoJ-lAV7Qz6M"
      },
      "source": [
        "Para poder determinar que tan bueno resulto el modelo, lo que haremos será observar las `métricas` resultantes de una predicción con los datos de test. Recordemos que nuestras funcinoes de metricas fueron definidas al inicio de este trabajo."
      ]
    },
    {
      "cell_type": "code",
      "execution_count": null,
      "metadata": {
        "id": "I1klUyeDQ3zj"
      },
      "outputs": [],
      "source": [
        "metricas_clasificacion(y_test_voting, y_pred_voting)"
      ]
    },
    {
      "cell_type": "markdown",
      "metadata": {
        "id": "QnFftUBRQ5zk"
      },
      "source": [
        "A su vez, también podemos visualizar los mismos a través de la siguiente matriz de confusión."
      ]
    },
    {
      "cell_type": "code",
      "execution_count": null,
      "metadata": {
        "id": "I6EWIuOUQ7W7"
      },
      "outputs": [],
      "source": [
        "matrix = confusion_matrix(y_test_voting, y_pred_voting)\n",
        "sns.heatmap(matrix,cmap='GnBu',annot=True,fmt='g')\n",
        "plt.xlabel('Predicted')\n",
        "plt.ylabel('True')"
      ]
    },
    {
      "cell_type": "markdown",
      "source": [
        "#### Exportación de Datos"
      ],
      "metadata": {
        "id": "tm_FRzR7fvEH"
      }
    },
    {
      "cell_type": "markdown",
      "source": [
        "Finalmente, exportamos el modelo utilizado:"
      ],
      "metadata": {
        "id": "b04Kqm-IfvEI"
      }
    },
    {
      "cell_type": "code",
      "source": [
        "if IN_COLAB:\n",
        "  path = '/content/drive/MyDrive/📒 Organización de Datos (75.06)/TPS/TP2/MODELOS/Voting_Classifier.joblib'\n",
        "else:\n",
        "  path = './MODELOS/Voting_Classifier.joblib'\n",
        "\n",
        "dump(vot_clf, path)"
      ],
      "metadata": {
        "id": "flZ1yIxzfvEJ"
      },
      "execution_count": null,
      "outputs": []
    },
    {
      "cell_type": "markdown",
      "metadata": {
        "id": "3gDV2ozmQ9mb"
      },
      "source": [
        "### 3.2 Ensamble Híbrido: Stacking - Regresión\n",
        "___"
      ]
    },
    {
      "cell_type": "markdown",
      "metadata": {
        "id": "DRpAEJ7WrgeV"
      },
      "source": [
        "#### Preparación del dataset"
      ]
    },
    {
      "cell_type": "markdown",
      "metadata": {
        "id": "XQwjdBg4rgeW"
      },
      "source": [
        "Nuevamente, utilizamos los datasets de train y test previamente separados:"
      ]
    },
    {
      "cell_type": "code",
      "execution_count": null,
      "metadata": {
        "id": "9obURdGWrgeW"
      },
      "outputs": [],
      "source": [
        "x_train_stacking = x_train_regressor\n",
        "y_train_stacking = y_train_regressor\n",
        "\n",
        "x_test_stacking = x_test_regressor\n",
        "y_test_stacking = y_test_regressor"
      ]
    },
    {
      "cell_type": "markdown",
      "source": [
        "#### Definición del Ensamble\n"
      ],
      "metadata": {
        "id": "4FjGFid7Y7Fj"
      }
    },
    {
      "cell_type": "markdown",
      "metadata": {
        "id": "i3EG9oZ3Q_zL"
      },
      "source": [
        "Lo que haremos en esta nueva sección, será implementar un nuevo tipo de ensable híbrido con la salvedad de que esta vez utilizaremos el tipo `cascading`.\n",
        "El mismo se basa en el entrenamiento de distintos `modelos base`, y a su vez utilizará un `meta-modelo` el cual realizará su predicción en base a las predicciones de los diferentes modelos comentados anteriormente. \n",
        "\n",
        "Como es indicado por el enunciado del trabajo se utilizarán modelos de regresión. En particular, decidimos trabajar con:\n",
        "\n",
        "\n",
        "*   KNN\n",
        "*   XGBoost\n",
        "*   AdaBoost\n",
        "\n"
      ]
    },
    {
      "cell_type": "markdown",
      "source": [
        "En esta línea, cargamos en memoria los modelos previamente guardados:"
      ],
      "metadata": {
        "id": "uZ1GwmfuRe0C"
      }
    },
    {
      "cell_type": "code",
      "source": [
        "if IN_COLAB:\n",
        "  path = '/content/drive/MyDrive/📒 Organización de Datos (75.06)/TPS/TP1/MODELOS/KNN_Regressor_Train.joblib'\n",
        "else:\n",
        "  path = './MODELOS/KNN_Regressor_Train.joblib'\n",
        "\n",
        "knn_rgs = load(path)"
      ],
      "metadata": {
        "id": "-Y0wFABHQOhS"
      },
      "execution_count": null,
      "outputs": []
    },
    {
      "cell_type": "code",
      "source": [
        "if IN_COLAB:\n",
        "  path = '/content/drive/MyDrive/📒 Organización de Datos (75.06)/TPS/TP1/MODELOS/XGB_Regressor_Train.joblib'\n",
        "else:\n",
        "  path = './MODELOS/XGB_Regressor_Train.joblib'\n",
        "\n",
        "xgb_rgs = load(path)"
      ],
      "metadata": {
        "id": "4zvVhilyQRDj"
      },
      "execution_count": null,
      "outputs": []
    },
    {
      "cell_type": "code",
      "source": [
        "if IN_COLAB:\n",
        "  path = '/content/drive/MyDrive/📒 Organización de Datos (75.06)/TPS/TP1/MODELOS/AdaB_Regressor_Train.joblib'\n",
        "else:\n",
        "  path = './MODELOS/AdaB_Regressor_Train.joblib'\n",
        "\n",
        "adb_rgs = load(path)"
      ],
      "metadata": {
        "id": "pBui1YlcQQ7E"
      },
      "execution_count": null,
      "outputs": []
    },
    {
      "cell_type": "markdown",
      "source": [
        "Recordemos que estos modelos fueron optimizados con los siguientes hiperparámetros:\n",
        "\n",
        "- para **K Nearest Neighbors**: `{'weights': 'uniform', 'n_neighbors': 51, 'metric': 'chebyshev', 'leaf_size': 22, 'algorithm': 'ball_tree'}`\n",
        "- para **Extreme Gradient Boosting**: `{'min_child_weight': 5, 'max_depth': 6, 'learning_rate': 0.3, 'gamma': 0.1, 'colsample_bytree': 0.3}`\n",
        "- para **Adaptive Boosting**: `{'n_estimators': 10, 'learning_rate': 1.02}`"
      ],
      "metadata": {
        "id": "KGi5lWsDTnpA"
      }
    },
    {
      "cell_type": "markdown",
      "metadata": {
        "id": "eoI5ilXVRD06"
      },
      "source": [
        "Luego utilizamos los mismos para definir nuestro modelo base, en el cual luego se basará el meta-modelo."
      ]
    },
    {
      "cell_type": "code",
      "execution_count": null,
      "metadata": {
        "id": "qK74SKO-RF4U"
      },
      "outputs": [],
      "source": [
        "base_models = [('KNN', knn_rgs),\n",
        "               ('XGBoost', xgb_rgs),\n",
        "               ('AdaBoost', adb_rgs)]"
      ]
    },
    {
      "cell_type": "markdown",
      "metadata": {
        "id": "C7j2qzBXRHd6"
      },
      "source": [
        "Como mencionamos, a continuación los utilizaremos para definir nuestro meta-modelo. Para este último, decidimos emplear el modelo de regresión logistica."
      ]
    },
    {
      "cell_type": "code",
      "execution_count": null,
      "metadata": {
        "id": "8mRJmKOSRJCy"
      },
      "outputs": [],
      "source": [
        "from sklearn.ensemble import GradientBoostingRegressor\n",
        "\n",
        "meta_model = GradientBoostingRegressor()"
      ]
    },
    {
      "cell_type": "markdown",
      "metadata": {
        "id": "PnA6P4zORKsq"
      },
      "source": [
        "Creamos nuestro ensamble indicando como modelos estimadores Knn, XGBoost y AdaBoost, y como estimador final el modelo de Regresión Lineal."
      ]
    },
    {
      "cell_type": "code",
      "source": [
        "s = 5\n",
        "n = 2"
      ],
      "metadata": {
        "id": "6j70-9G75VW2"
      },
      "execution_count": null,
      "outputs": []
    },
    {
      "cell_type": "code",
      "execution_count": null,
      "metadata": {
        "id": "YWOHgLGcRMHr"
      },
      "outputs": [],
      "source": [
        "stacking_model = StackingRegressor(estimators=base_models, \n",
        "                                    final_estimator=meta_model, \n",
        "                                    passthrough=True, \n",
        "                                    cv=s,\n",
        "                                    verbose=n)"
      ]
    },
    {
      "cell_type": "markdown",
      "source": [
        "#### Entrenamiento y Predicción"
      ],
      "metadata": {
        "id": "GYCuFlWQZhlo"
      }
    },
    {
      "cell_type": "code",
      "source": [
        "model_scores = defaultdict()\n",
        "\n",
        "for name, model in base_models:\n",
        "    print('Evaluating {}'.format(name))\n",
        "    scores = evaluate_model(model, x_train_stacking, y_train_stacking, s, n)\n",
        "    model_scores[name] = scores"
      ],
      "metadata": {
        "id": "QomGOhfXEgg7"
      },
      "execution_count": null,
      "outputs": []
    },
    {
      "cell_type": "markdown",
      "source": [
        "Veamos cómo resultaron los scores de los modelos:"
      ],
      "metadata": {
        "id": "hyJIbF3HsxK8"
      }
    },
    {
      "cell_type": "code",
      "source": [
        "plot_results(model_scores, name='stacking_model_cv')"
      ],
      "metadata": {
        "id": "CPzQs8HBsuR4"
      },
      "execution_count": null,
      "outputs": []
    },
    {
      "cell_type": "markdown",
      "source": [
        "Entrenamos el modelo:"
      ],
      "metadata": {
        "id": "uduejW9os8-J"
      }
    },
    {
      "cell_type": "code",
      "source": [
        "stacking_model.fit(x_train_stacking, y_train_stacking)"
      ],
      "metadata": {
        "id": "VT_HO24fk7kR"
      },
      "execution_count": null,
      "outputs": []
    },
    {
      "cell_type": "markdown",
      "source": [
        "Finalmente haremos la predicción:"
      ],
      "metadata": {
        "id": "567lujdizE8r"
      }
    },
    {
      "cell_type": "code",
      "source": [
        "y_pred_stacking = stacking_model.predict(x_test_stacking)"
      ],
      "metadata": {
        "id": "_Cw7e8GzzEFC"
      },
      "execution_count": null,
      "outputs": []
    },
    {
      "cell_type": "markdown",
      "source": [
        "#### Métricas"
      ],
      "metadata": {
        "id": "mUjE089xzI7j"
      }
    },
    {
      "cell_type": "markdown",
      "source": [
        "Para poder evaluar la performance que obtuvo nuestro modelo utilizaremos la métrica de evaluación del error cuadrático medio (MSE) como se pide por enunciado."
      ],
      "metadata": {
        "id": "dLNhGzU6zNVc"
      }
    },
    {
      "cell_type": "code",
      "source": [
        "mse = metrics.mean_squared_error(\n",
        "        y_true  = y_test_stacking,\n",
        "        y_pred  = y_pred_stacking,\n",
        "        squared = True\n",
        "       )\n",
        "\n",
        "print(f\"El error según la métrica 'Mean Square Error' de test es: {mse}\")"
      ],
      "metadata": {
        "id": "ZgpouA6A0e1-"
      },
      "execution_count": null,
      "outputs": []
    },
    {
      "cell_type": "markdown",
      "source": [
        "#### Exportación de Datos"
      ],
      "metadata": {
        "id": "qQk2khn_gLmD"
      }
    },
    {
      "cell_type": "markdown",
      "source": [
        "Finalmente, exportamos el modelo utilizado:"
      ],
      "metadata": {
        "id": "gmlWq5XygLmE"
      }
    },
    {
      "cell_type": "code",
      "source": [
        "if IN_COLAB:\n",
        "  path = '/content/drive/MyDrive/📒 Organización de Datos (75.06)/TPS/TP2/MODELOS/Stacking_Regressor.joblib'\n",
        "else:\n",
        "  path = './MODELOS/Stacking_Regressor.joblib'\n",
        "\n",
        "dump(stacking_model, path)"
      ],
      "metadata": {
        "id": "6ruQqkIZgLmE"
      },
      "execution_count": null,
      "outputs": []
    },
    {
      "cell_type": "markdown",
      "source": [
        "## Conclusiones"
      ],
      "metadata": {
        "id": "VFntMJUkIzEu"
      }
    },
    {
      "cell_type": "markdown",
      "source": [
        "A modo de finalización de este trabajo, haremos un pequeño repaso sobre todos los puntos que analizamos y sus respectivos resultados y/o observaciones hechos por nosotros:\n",
        "\n",
        "Sobre el análisis realizado en el apartado de **procesamiento del lenguaje natural**, y en particular haciendo referencia a las métricas que obtuvimos luego del entrenamiento y predicción con el dataset producto de la ampliación, utilizando el modelo XGBoost, pudimos observar que si bien aún las métricas no nos resultan del todo satisfactorias cumplen con el objetivo de mejorar las resultantes del trabajo anterior. Más allá de que la cantidad de aciertos continúa sin incrementar, tanto el error MSE como el RMSE decrecieron ofreciendo mejores resultados. Por otro lado, el coeficiente de determinación se incrementó notoriamente llegando casi a un 0.9%. \n",
        "\n",
        "En cuanto a lo referido sobre **redes neuronales**, la comparación será directamente en base a los nuevos modelos ya que el dataset utilizado es compartido en ambos trabajos. Dicho esto, el error cometido en el modelo de regresión es significativamente pequeño. Teniendo en cuenta los resultantes del TP1, si utilizamos el menor luego de que éstos tuvieron su optimización de parámetros correspondiente, notamos que el que mejor performa es XGBoost con un MSE de 51650994876 (al cual de todas formas le atribuímos arrastre de error en nuestro planteo). Utilizando redes neuronales cometemos tan solo un error cuadrático medio equivalente a 1.36. Por otro lado, en lo que respecta al modelo de clasificación, obtuvimos resultados bastante similares. Si bien tanto el accuracy, precisión y F1-Score dieron distintos, la diferencia es de tan solo uno/dos puntos. Con esto concluimos que para clasificación no se notan mejoras por sobre los modelos utilizados en el trabajo anterior.\n",
        "\n",
        "Como último requerimiento se pidió estudiar las métricas tanto para regresión como clasificación pero haciendo uso de **ensambles**, en particular de tipo híbridos. En lo que respecta al utilizado para clasificación (Voting) obtuvimos mejores resultados para las métricas de Accuracy, Recall y F1-Score. Sin embargo, aunque en Precisión disminuyó un poco, esta diferencia continúa siendo no significativa. Pasando al ensamble de regresión (Stacking) el MSE resultante que obtuvimos fue 238481755830. Creemos que nuevamente estamos cometiendo involuntariamente algún arrastre de error en alguno de los incisos desarrollados, ya que este error es incluso mayor a los cometidos en los modelos individuales desarrollados en el TP1, y no estaría respetando la regla principal de ‘*La sabiduría de las multitudes*’."
      ],
      "metadata": {
        "id": "CE40zH4PI4xY"
      }
    }
  ],
  "metadata": {
    "kernelspec": {
      "display_name": "Python 3",
      "language": "python",
      "name": "python3"
    },
    "language_info": {
      "codemirror_mode": {
        "name": "ipython",
        "version": 2
      },
      "file_extension": ".py",
      "mimetype": "text/x-python",
      "name": "python",
      "nbconvert_exporter": "python",
      "pygments_lexer": "ipython2",
      "version": "2.7.6"
    },
    "colab": {
      "provenance": [],
      "collapsed_sections": [
        "DajLENWv2DpA",
        "CkJCoGXnaN1y",
        "NjqmQr4pYrEE",
        "_kG7ZRlKuaxT",
        "D8sgMCouvLx-",
        "mUjE089xzI7j"
      ],
      "toc_visible": true
    }
  },
  "nbformat": 4,
  "nbformat_minor": 0
}