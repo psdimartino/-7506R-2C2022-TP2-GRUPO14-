{
  "cells": [
    {
      "cell_type": "markdown",
      "source": [
        "______________________________________\n",
        "# <center>**Trabajo Practico Nº1 para la Materia *Organización de Datos***</center>\n",
        "\n",
        "*Integrantes*:\n",
        "- 103963\tCarolina Di Matteo\tcdimatteo@fi.uba.ar\n",
        "- 101231\tPablo Salvador Dimartino\tpdimartino@fi.uba.ar\n",
        "- 100113\tJuan Sebastian Burgos\tjsburgos@fi.uba.ar\n",
        "- 104415\tValentina Laura Correa\tvcorrea@fi.uba.ar\n",
        "\n",
        "*Grupo*: 14\n",
        "\n",
        "*Repositorio*: [github](https://github.com/valencorrea/7506R-2C2022-GRUPO14)\n",
        "\n",
        "*Curso*: Rodriguez\n",
        "\n",
        "*Cuatrimestre*: 2c2022\n",
        "\n",
        "Datos provistos por [properati](https://www.properati.com.ar).\n",
        "______________________________________\n"
      ],
      "metadata": {
        "collapsed": false,
        "id": "ALhQpMoS2Do2"
      }
    },
    {
      "cell_type": "markdown",
      "source": [
        "## Introducción"
      ],
      "metadata": {
        "id": "jrObdaVTw13E"
      }
    },
    {
      "cell_type": "markdown",
      "source": [
        "El presente trabajo práctico es una continuación del ‘TP1: Propiedades en Venta’. \n",
        "\n",
        "En la entrega anterior se propuso aplicar técnicas de análisis exploratorio, preprocesamiento de datos, agrupamiento, clasificación y regresión. Siguiendo esta línea, y con el objetivo de continuar resolviendo problemas reales de ciencia de datos, en esta segunda parte se implementarán nuevos modelos predictivos a partir de los anteriormente mencionados. \n",
        "\n",
        "En esta oportunidad se buscará demostrar los conocimientos adquiridos sobre procesamiento del lenguaje natural, redes neuronales y ensamble de modelos. Para esto se utilizarán tanto datasets provistos por la materia, tomados de la página de la empresa Properati, como los generados por el grupo en el trabajo anterior."
      ],
      "metadata": {
        "id": "8Tot765gvLP2"
      }
    },
    {
      "cell_type": "markdown",
      "source": [
        "## 0. Setup"
      ],
      "metadata": {
        "id": "civIgEQKvQ6A"
      }
    },
    {
      "cell_type": "markdown",
      "source": [
        "### Importación de bibliotecas"
      ],
      "metadata": {
        "id": "vrqonJJjvVay"
      }
    },
    {
      "cell_type": "code",
      "execution_count": 330,
      "outputs": [
        {
          "output_type": "stream",
          "name": "stdout",
          "text": [
            "Looking in indexes: https://pypi.org/simple, https://us-python.pkg.dev/colab-wheels/public/simple/\n",
            "Requirement already satisfied: visualkeras in /usr/local/lib/python3.8/dist-packages (0.0.2)\n",
            "Requirement already satisfied: numpy>=1.18.1 in /usr/local/lib/python3.8/dist-packages (from visualkeras) (1.21.6)\n",
            "Requirement already satisfied: pillow>=6.2.0 in /usr/local/lib/python3.8/dist-packages (from visualkeras) (7.1.2)\n",
            "Requirement already satisfied: aggdraw>=1.3.11 in /usr/local/lib/python3.8/dist-packages (from visualkeras) (1.3.15)\n"
          ]
        }
      ],
      "source": [
        "pip install visualkeras"
      ],
      "metadata": {
        "id": "h6RrCiyq2Do7",
        "colab": {
          "base_uri": "https://localhost:8080/"
        },
        "outputId": "c62f7884-0f4a-47b5-edff-67bd49f85587"
      }
    },
    {
      "cell_type": "code",
      "source": [
        "pip install unidecode"
      ],
      "metadata": {
        "id": "vdZzPMc93I-C",
        "colab": {
          "base_uri": "https://localhost:8080/"
        },
        "outputId": "c38b5ae6-bd22-421f-96c3-16139ac07e43"
      },
      "execution_count": 331,
      "outputs": [
        {
          "output_type": "stream",
          "name": "stdout",
          "text": [
            "Looking in indexes: https://pypi.org/simple, https://us-python.pkg.dev/colab-wheels/public/simple/\n",
            "Requirement already satisfied: unidecode in /usr/local/lib/python3.8/dist-packages (1.3.6)\n"
          ]
        }
      ]
    },
    {
      "cell_type": "code",
      "source": [
        "pip install types-all"
      ],
      "metadata": {
        "id": "7SrZ6Pvh8b_K",
        "colab": {
          "base_uri": "https://localhost:8080/"
        },
        "outputId": "9911871b-673c-4f96-dce4-bbdd9a5a2a28"
      },
      "execution_count": 332,
      "outputs": [
        {
          "output_type": "stream",
          "name": "stdout",
          "text": [
            "Looking in indexes: https://pypi.org/simple, https://us-python.pkg.dev/colab-wheels/public/simple/\n",
            "Requirement already satisfied: types-all in /usr/local/lib/python3.8/dist-packages (1.0.0)\n",
            "Requirement already satisfied: types-atomicwrites in /usr/local/lib/python3.8/dist-packages (from types-all) (1.4.5.1)\n",
            "Requirement already satisfied: types-redis in /usr/local/lib/python3.8/dist-packages (from types-all) (4.3.21.6)\n",
            "Requirement already satisfied: types-pyfarmhash in /usr/local/lib/python3.8/dist-packages (from types-all) (0.3.1)\n",
            "Requirement already satisfied: types-pyaudio in /usr/local/lib/python3.8/dist-packages (from types-all) (0.2.16.4)\n",
            "Requirement already satisfied: types-docopt in /usr/local/lib/python3.8/dist-packages (from types-all) (0.6.11)\n",
            "Requirement already satisfied: types-protobuf in /usr/local/lib/python3.8/dist-packages (from types-all) (4.21.0.2)\n",
            "Requirement already satisfied: types-paramiko in /usr/local/lib/python3.8/dist-packages (from types-all) (2.12.0.1)\n",
            "Requirement already satisfied: types-characteristic in /usr/local/lib/python3.8/dist-packages (from types-all) (14.3.7)\n",
            "Requirement already satisfied: types-tabulate in /usr/local/lib/python3.8/dist-packages (from types-all) (0.9.0.0)\n",
            "Requirement already satisfied: types-fb303 in /usr/local/lib/python3.8/dist-packages (from types-all) (1.0.0)\n",
            "Requirement already satisfied: types-boto in /usr/local/lib/python3.8/dist-packages (from types-all) (2.49.18.3)\n",
            "Requirement already satisfied: types-tzlocal in /usr/local/lib/python3.8/dist-packages (from types-all) (4.2.2.2)\n",
            "Requirement already satisfied: types-futures in /usr/local/lib/python3.8/dist-packages (from types-all) (3.3.8)\n",
            "Requirement already satisfied: types-kazoo in /usr/local/lib/python3.8/dist-packages (from types-all) (0.1.3)\n",
            "Requirement already satisfied: types-pymssql in /usr/local/lib/python3.8/dist-packages (from types-all) (2.1.0)\n",
            "Requirement already satisfied: types-enum34 in /usr/local/lib/python3.8/dist-packages (from types-all) (1.1.8)\n",
            "Requirement already satisfied: types-chardet in /usr/local/lib/python3.8/dist-packages (from types-all) (5.0.4.1)\n",
            "Requirement already satisfied: types-PyJWT in /usr/local/lib/python3.8/dist-packages (from types-all) (1.7.1)\n",
            "Requirement already satisfied: types-emoji in /usr/local/lib/python3.8/dist-packages (from types-all) (2.1.0.1)\n",
            "Requirement already satisfied: types-openssl-python in /usr/local/lib/python3.8/dist-packages (from types-all) (0.1.3)\n",
            "Requirement already satisfied: types-itsdangerous in /usr/local/lib/python3.8/dist-packages (from types-all) (1.1.6)\n",
            "Requirement already satisfied: types-cachetools in /usr/local/lib/python3.8/dist-packages (from types-all) (5.2.1)\n",
            "Requirement already satisfied: types-polib in /usr/local/lib/python3.8/dist-packages (from types-all) (1.1.12.1)\n",
            "Requirement already satisfied: types-croniter in /usr/local/lib/python3.8/dist-packages (from types-all) (1.3.2.1)\n",
            "Requirement already satisfied: types-Jinja2 in /usr/local/lib/python3.8/dist-packages (from types-all) (2.11.9)\n",
            "Requirement already satisfied: types-MarkupSafe in /usr/local/lib/python3.8/dist-packages (from types-all) (1.1.10)\n",
            "Requirement already satisfied: types-waitress in /usr/local/lib/python3.8/dist-packages (from types-all) (2.1.4.3)\n",
            "Requirement already satisfied: types-maxminddb in /usr/local/lib/python3.8/dist-packages (from types-all) (1.5.0)\n",
            "Requirement already satisfied: types-requests in /usr/local/lib/python3.8/dist-packages (from types-all) (2.28.11.5)\n",
            "Requirement already satisfied: types-backports in /usr/local/lib/python3.8/dist-packages (from types-all) (0.1.3)\n",
            "Requirement already satisfied: types-bleach in /usr/local/lib/python3.8/dist-packages (from types-all) (5.0.3.1)\n",
            "Requirement already satisfied: types-Pillow in /usr/local/lib/python3.8/dist-packages (from types-all) (9.3.0.4)\n",
            "Requirement already satisfied: types-freezegun in /usr/local/lib/python3.8/dist-packages (from types-all) (1.1.10)\n",
            "Requirement already satisfied: types-DateTimeRange in /usr/local/lib/python3.8/dist-packages (from types-all) (1.2.8)\n",
            "Requirement already satisfied: types-PyYAML in /usr/local/lib/python3.8/dist-packages (from types-all) (6.0.12.2)\n",
            "Requirement already satisfied: types-xxhash in /usr/local/lib/python3.8/dist-packages (from types-all) (3.0.5.1)\n",
            "Requirement already satisfied: types-annoy in /usr/local/lib/python3.8/dist-packages (from types-all) (1.17.8.1)\n",
            "Requirement already satisfied: types-dateparser in /usr/local/lib/python3.8/dist-packages (from types-all) (1.1.4.4)\n",
            "Requirement already satisfied: types-colorama in /usr/local/lib/python3.8/dist-packages (from types-all) (0.4.15.4)\n",
            "Requirement already satisfied: types-ipaddress in /usr/local/lib/python3.8/dist-packages (from types-all) (1.0.8)\n",
            "Requirement already satisfied: types-simplejson in /usr/local/lib/python3.8/dist-packages (from types-all) (3.18.0.0)\n",
            "Requirement already satisfied: types-tornado in /usr/local/lib/python3.8/dist-packages (from types-all) (5.1.1)\n",
            "Requirement already satisfied: types-Werkzeug in /usr/local/lib/python3.8/dist-packages (from types-all) (1.0.9)\n",
            "Requirement already satisfied: types-pyRFC3339 in /usr/local/lib/python3.8/dist-packages (from types-all) (1.1.1.1)\n",
            "Requirement already satisfied: types-Deprecated in /usr/local/lib/python3.8/dist-packages (from types-all) (1.2.9)\n",
            "Requirement already satisfied: types-Markdown in /usr/local/lib/python3.8/dist-packages (from types-all) (3.4.2.1)\n",
            "Requirement already satisfied: types-nmap in /usr/local/lib/python3.8/dist-packages (from types-all) (0.1.6)\n",
            "Requirement already satisfied: types-aiofiles in /usr/local/lib/python3.8/dist-packages (from types-all) (22.1.0.4)\n",
            "Requirement already satisfied: types-pkg-resources in /usr/local/lib/python3.8/dist-packages (from types-all) (0.1.3)\n",
            "Requirement already satisfied: types-python-gflags in /usr/local/lib/python3.8/dist-packages (from types-all) (3.1.7.1)\n",
            "Requirement already satisfied: types-retry in /usr/local/lib/python3.8/dist-packages (from types-all) (0.9.9)\n",
            "Requirement already satisfied: types-orjson in /usr/local/lib/python3.8/dist-packages (from types-all) (3.6.2)\n",
            "Requirement already satisfied: types-scribe in /usr/local/lib/python3.8/dist-packages (from types-all) (2.0.0)\n",
            "Requirement already satisfied: types-python-slugify in /usr/local/lib/python3.8/dist-packages (from types-all) (7.0.0.1)\n",
            "Requirement already satisfied: types-mypy-extensions in /usr/local/lib/python3.8/dist-packages (from types-all) (0.4.24)\n",
            "Requirement already satisfied: types-toml in /usr/local/lib/python3.8/dist-packages (from types-all) (0.10.8.1)\n",
            "Requirement already satisfied: types-first in /usr/local/lib/python3.8/dist-packages (from types-all) (2.0.5)\n",
            "Requirement already satisfied: types-pysftp in /usr/local/lib/python3.8/dist-packages (from types-all) (0.2.17)\n",
            "Requirement already satisfied: types-mock in /usr/local/lib/python3.8/dist-packages (from types-all) (4.0.15.2)\n",
            "Requirement already satisfied: types-geoip2 in /usr/local/lib/python3.8/dist-packages (from types-all) (3.0.0)\n",
            "Requirement already satisfied: types-typed-ast in /usr/local/lib/python3.8/dist-packages (from types-all) (1.5.8.3)\n",
            "Requirement already satisfied: types-decorator in /usr/local/lib/python3.8/dist-packages (from types-all) (5.1.8.1)\n",
            "Requirement already satisfied: types-PyMySQL in /usr/local/lib/python3.8/dist-packages (from types-all) (1.0.19.1)\n",
            "Requirement already satisfied: types-pycurl in /usr/local/lib/python3.8/dist-packages (from types-all) (7.45.1.4)\n",
            "Requirement already satisfied: types-singledispatch in /usr/local/lib/python3.8/dist-packages (from types-all) (3.7.5.1)\n",
            "Requirement already satisfied: types-Routes in /usr/local/lib/python3.8/dist-packages (from types-all) (2.5.0)\n",
            "Requirement already satisfied: types-pyvmomi in /usr/local/lib/python3.8/dist-packages (from types-all) (8.0.0.0)\n",
            "Requirement already satisfied: types-JACK-Client in /usr/local/lib/python3.8/dist-packages (from types-all) (0.5.10.3)\n",
            "Requirement already satisfied: types-frozendict in /usr/local/lib/python3.8/dist-packages (from types-all) (2.0.9)\n",
            "Requirement already satisfied: types-filelock in /usr/local/lib/python3.8/dist-packages (from types-all) (3.2.7)\n",
            "Requirement already satisfied: types-contextvars in /usr/local/lib/python3.8/dist-packages (from types-all) (2.4.7)\n",
            "Requirement already satisfied: types-pathlib2 in /usr/local/lib/python3.8/dist-packages (from types-all) (2.3.0)\n",
            "Requirement already satisfied: types-pytz in /usr/local/lib/python3.8/dist-packages (from types-all) (2022.6.0.1)\n",
            "Requirement already satisfied: types-dataclasses in /usr/local/lib/python3.8/dist-packages (from types-all) (0.6.6)\n",
            "Requirement already satisfied: types-cryptography in /usr/local/lib/python3.8/dist-packages (from types-all) (3.3.23.2)\n",
            "Requirement already satisfied: types-ujson in /usr/local/lib/python3.8/dist-packages (from types-all) (5.6.0.0)\n",
            "Requirement already satisfied: types-Flask in /usr/local/lib/python3.8/dist-packages (from types-all) (1.1.6)\n",
            "Requirement already satisfied: types-termcolor in /usr/local/lib/python3.8/dist-packages (from types-all) (1.1.6)\n",
            "Requirement already satisfied: types-click in /usr/local/lib/python3.8/dist-packages (from types-all) (7.1.8)\n",
            "Requirement already satisfied: types-certifi in /usr/local/lib/python3.8/dist-packages (from types-all) (2021.10.8.3)\n",
            "Requirement already satisfied: types-six in /usr/local/lib/python3.8/dist-packages (from types-all) (1.16.21.4)\n",
            "Requirement already satisfied: types-click-spinner in /usr/local/lib/python3.8/dist-packages (from types-all) (0.1.13.1)\n",
            "Requirement already satisfied: types-python-dateutil in /usr/local/lib/python3.8/dist-packages (from types-all) (2.8.19.4)\n",
            "Requirement already satisfied: types-backports-abc in /usr/local/lib/python3.8/dist-packages (from types-all) (0.5.2)\n",
            "Requirement already satisfied: types-docutils in /usr/local/lib/python3.8/dist-packages (from types-all) (0.19.1.1)\n",
            "Requirement already satisfied: types-urllib3<1.27 in /usr/local/lib/python3.8/dist-packages (from types-requests->types-all) (1.26.25.4)\n"
          ]
        }
      ]
    },
    {
      "cell_type": "code",
      "execution_count": 509,
      "outputs": [
        {
          "output_type": "stream",
          "name": "stdout",
          "text": [
            "Drive already mounted at /content/drive; to attempt to forcibly remount, call drive.mount(\"/content/drive\", force_remount=True).\n"
          ]
        }
      ],
      "source": [
        "#Importación de librerías\n",
        "\n",
        "import numpy as np\n",
        "import cmath as math\n",
        "import matplotlib.pyplot as plt\n",
        "import seaborn as sns\n",
        "import pandas as pd\n",
        "import tensorflow as tf\n",
        "import visualkeras as vk\n",
        "\n",
        "from xgboost import XGBRegressor\n",
        "from scipy.stats import zscore\n",
        "from sklearn.preprocessing import StandardScaler\n",
        "from tensorflow import keras\n",
        "from keras.utils.vis_utils import plot_model\n",
        "from sklearn.metrics import confusion_matrix, precision_recall_curve, recall_score, accuracy_score, f1_score, precision_score\n",
        "from sklearn.ensemble import StackingRegressor\n",
        "from sklearn.linear_model import LogisticRegressionCV\n",
        "from sklearn.ensemble import AdaBoostRegressor\n",
        "from sklearn.neighbors import KNeighborsRegressor\n",
        "from sklearn.tree import DecisionTreeClassifier\n",
        "from sklearn.ensemble import RandomForestClassifier \n",
        "from sklearn.neighbors import KNeighborsClassifier\n",
        "from sklearn.ensemble import VotingClassifier\n",
        "from collections import Counter\n",
        "import unidecode\n",
        "import re\n",
        "from joblib import load, dump\n",
        "import sklearn as sk\n",
        "from sklearn.metrics import make_scorer\n",
        "from sklearn.model_selection import RandomizedSearchCV, StratifiedKFold\n",
        "from sklearn.metrics import accuracy_score\n",
        "from keras.metrics import RootMeanSquaredError\n",
        "from keras.metrics import MeanSquaredError\n",
        "from sklearn.metrics import recall_score, accuracy_score, f1_score, precision_score\n",
        "from sklearn import metrics\n",
        "from sklearn.preprocessing import LabelEncoder\n",
        "from sklearn.model_selection import cross_val_score, RepeatedStratifiedKFold\n",
        "from collections import defaultdict\n",
        "\n",
        "#Configuración de Warnings\n",
        "import warnings\n",
        "warnings.filterwarnings('ignore')\n",
        "warnings.simplefilter(action='ignore', category=FutureWarning)\n",
        "warnings.simplefilter(action='ignore', category=UserWarning)\n",
        "\n",
        "#Ejecución con Drive\n",
        "if 'google.colab' in str(get_ipython()):\n",
        "    IN_COLAB = True\n",
        "else:\n",
        "    IN_COLAB = False\n",
        "\n",
        "if IN_COLAB :\n",
        "    from google.colab import drive\n",
        "    drive.mount('/content/drive')\n",
        "    \n",
        "    properati = pd.read_csv('/content/drive/MyDrive/📔 Organización de Datos (75.06)/TPS/TP2/1d_df_reducido.csv')\n",
        "    properati_decrip = pd.read_csv('/content/drive/MyDrive/📔 Organización de Datos (75.06)/TPS/TP1/properati_argentina_2021_decrip.csv')\n",
        "    stop_words = '/content/drive/MyDrive/📔 Organización de Datos (75.06)/TPS/TP2/stopwords.txt'\n",
        "else:\n",
        "    properati = pd.read_csv('./1d_df_reducido.csv')\n",
        "    properati_decrip = pd.read_csv('properati_argentina_2021_decrip.csv')\n",
        "    stop_words = 'stopwords'"
      ],
      "metadata": {
        "id": "qUhGlr_r2Do9",
        "colab": {
          "base_uri": "https://localhost:8080/"
        },
        "outputId": "57039c76-0395-418e-f9d0-8bb34b5c3adf"
      }
    },
    {
      "cell_type": "markdown",
      "source": [
        "### Funciones auxiliares"
      ],
      "metadata": {
        "id": "Wbnc_RGevbaL"
      }
    },
    {
      "cell_type": "code",
      "execution_count": 334,
      "outputs": [],
      "source": [
        "def metricas_clasificacion(y_test, y_pred):\n",
        "    print(f'Accuracy: {round(accuracy_score(y_test, y_pred),2)}')\n",
        "    print(f'Precision: {round(precision_score(y_test, y_pred, average=\"macro\"),2)}')\n",
        "    print(f'Recall: {round(recall_score(y_test, y_pred, average=\"macro\"),2)}')\n",
        "    print(f'F1 Score: {round(f1_score(y_test, y_pred, average=\"macro\"),2)}')"
      ],
      "metadata": {
        "id": "6ssz2U3s2DpU"
      }
    },
    {
      "cell_type": "code",
      "source": [
        "def prediccion_y_metricas_regresion(regressor, x_train, x_test, y_train, y_test):\n",
        "  \n",
        "  y_pred = regressor.predict(x_test)\n",
        "\n",
        "  pct = np.sum(y_test.values == y_pred) / len(y_test) * 100\n",
        "\n",
        "  print(f\"Se obtuvo un {round(pct,3)}% de aciertos.\")\n",
        "\n",
        "  mse = metrics.mean_squared_error(\n",
        "        y_true  = y_test,\n",
        "        y_pred  = y_pred,\n",
        "        squared = True\n",
        "       )\n",
        "\n",
        "  print(f\"El error según la métrica 'Mean Square Error' de test es: {mse}\")\n",
        "\n",
        "  rmse = metrics.mean_squared_error(\n",
        "        y_true  = y_test,\n",
        "        y_pred  = y_pred,\n",
        "        squared = False\n",
        "       )\n",
        "\n",
        "  print(f\"El error según la métrica 'Root Mean Square Error' de test es: {rmse}\")\n",
        "\n",
        "  print(f\"El coeficiente de determinación de test es: {regressor.score(x_test, y_test)}\")\n",
        "  \n",
        "  return y_pred"
      ],
      "metadata": {
        "id": "c8p6gNJzfuGw"
      },
      "execution_count": 335,
      "outputs": []
    },
    {
      "cell_type": "code",
      "source": [
        "def format_aspects(line, word):\n",
        "    format = r\"\\W*([\\w]+)\"\n",
        "    n = 2\n",
        "    x = re.search(r'{}\\W*{}{}'.format(format*n, word, format*n), line)\n",
        "    if x is not None:\n",
        "        return x.group()\n",
        "    else:\n",
        "        return \"\""
      ],
      "metadata": {
        "id": "CCKsO-A5w7TQ"
      },
      "execution_count": null,
      "outputs": []
    },
    {
      "cell_type": "code",
      "source": [
        "def convert_b_m_a(x):\n",
        "    mx = max(x[0], x[1], x[2])\n",
        "    if mx == x[0]:\n",
        "        return 'bajo'\n",
        "    elif mx == x[1]:\n",
        "        return 'medio'\n",
        "    elif mx == x[2]:\n",
        "        return 'alto'"
      ],
      "metadata": {
        "id": "3suAr0ciwY91"
      },
      "execution_count": null,
      "outputs": []
    },
    {
      "cell_type": "code",
      "source": [
        "def estandarizar(df, columns):\n",
        "  sscaler = StandardScaler()\n",
        "\n",
        "  for col in columns:\n",
        "    df[col] = sscaler.fit_transform(pd.DataFrame(df[col]))"
      ],
      "metadata": {
        "id": "0LF1eyB9l4nt"
      },
      "execution_count": 381,
      "outputs": []
    },
    {
      "cell_type": "code",
      "execution_count": 361,
      "outputs": [],
      "source": [
        "def limpiar_values_de_aspects(df, aspects, values):\n",
        "    i = 0\n",
        "    for aspect in aspects:\n",
        "        for word in values[i]:\n",
        "            df[aspect] = df[aspect].apply(lambda line: word if word in line else line)\n",
        "        df[aspect] = df[aspect].apply(lambda line: line if len(line.split())<2 else '')\n",
        "        i = i+1"
      ],
      "metadata": {
        "id": "AAEy2PV92DpO"
      }
    },
    {
      "cell_type": "code",
      "source": [
        "def evaluate_model(model, x, y, splits, n):\n",
        "    cv = RepeatedStratifiedKFold(n_splits=splits, n_repeats=n, random_state=1)\n",
        "    scores = cross_val_score(model, x, y, scoring='neg_mean_squared_error', cv=cv, verbose=1, n_jobs=3, error_score='raise')\n",
        "    return scores"
      ],
      "metadata": {
        "id": "tDt5-bPcEn_m"
      },
      "execution_count": 446,
      "outputs": []
    },
    {
      "cell_type": "code",
      "source": [
        "import plotly.graph_objects as go\n",
        "\n",
        "def plot_results(model_scores, name):\n",
        "    \n",
        "    model_names = list(model_scores.keys())\n",
        "    results = [model_scores[model] for model in model_names]\n",
        "    fig = go.Figure()\n",
        "    for model, result in zip(model_names, results):\n",
        "        fig.add_trace(go.Box(\n",
        "            y=result,\n",
        "            name=model,\n",
        "            boxpoints='all',\n",
        "            jitter=0.5,\n",
        "            whiskerwidth=0.2,\n",
        "            marker_size=2,\n",
        "            line_width=1)\n",
        "        )\n",
        "    \n",
        "    fig.update_layout(\n",
        "    title='Performance of Different Models Using 5-Fold Cross-Validation',\n",
        "    paper_bgcolor='rgb(243, 243, 243)',\n",
        "    plot_bgcolor='rgb(243, 243, 243)',\n",
        "    xaxis_title='Model',\n",
        "    yaxis_title='Error Cuadrático Medio',\n",
        "    showlegend=False)\n",
        "    fig.show()"
      ],
      "metadata": {
        "id": "NImxsouY4HaJ"
      },
      "execution_count": 518,
      "outputs": []
    },
    {
      "cell_type": "markdown",
      "source": [
        "### Preparación de datasets"
      ],
      "metadata": {
        "id": "yG33nESmvkqN"
      }
    },
    {
      "cell_type": "code",
      "source": [
        "df_properati = pd.get_dummies(properati, columns=['place_l4', 'property_type'], drop_first=False)\n",
        "\n",
        "properati_x_train = df_properati.sample(frac=0.8, random_state=200)\n",
        "properati_y_train = properati_x_train[\"property_price\"]\n",
        "properati_x_train.drop([\"property_price\"], inplace=True, axis=1)\n",
        "\n",
        "properati_x_test = df_properati.drop(properati_x_train.index)\n",
        "properati_y_test = properati_x_test[\"property_price\"]\n",
        "properati_x_test.drop([\"property_price\"], inplace=True, axis=1)"
      ],
      "metadata": {
        "id": "ZXJT55UZvuKF"
      },
      "execution_count": null,
      "outputs": []
    },
    {
      "cell_type": "markdown",
      "source": [
        "#### Dataset para Regresión"
      ],
      "metadata": {
        "id": "Xe-jJGyBvmOD"
      }
    },
    {
      "cell_type": "code",
      "source": [
        "x_train_regressor = properati_x_train.copy()\n",
        "y_train_regressor = properati_y_train.copy()\n",
        "x_test_regressor = properati_x_test.copy()\n",
        "y_test_regressor = properati_y_test.copy()"
      ],
      "metadata": {
        "id": "yHhAO-s0vuKG"
      },
      "execution_count": null,
      "outputs": []
    },
    {
      "cell_type": "code",
      "source": [
        "x_train_regressor.drop([\"id\"], inplace=True, axis=1)\n",
        "\n",
        "x_test_regressor.drop([\"id\"], inplace=True, axis=1)"
      ],
      "metadata": {
        "id": "C9XJiKGXvuKG"
      },
      "execution_count": null,
      "outputs": []
    },
    {
      "cell_type": "markdown",
      "source": [
        "#### Dataset para Clasificación"
      ],
      "metadata": {
        "id": "N-uwy-zKv6Em"
      }
    },
    {
      "cell_type": "code",
      "source": [
        "x_train_classifier = properati_x_train.copy()\n",
        "y_train_classifier = properati_y_train.copy()\n",
        "x_test_classifier = properati_x_test.copy()\n",
        "y_test_classifier = properati_y_test.copy()"
      ],
      "metadata": {
        "id": "w9R1zIfCvuKG"
      },
      "execution_count": null,
      "outputs": []
    },
    {
      "cell_type": "code",
      "source": [
        "x_train_classifier[\"property_m2price\"] = y_train_classifier / x_train_classifier[\"property_surface_total\"]\n",
        "x_train_classifier.sort_values(by=[\"property_m2price\"], inplace=True)\n",
        "x_train_classifier['tipo_precio_3'] = pd.qcut(x=x_train_classifier.loc[properati['property_type'] == 'Departamento']['property_m2price'], q=4, labels=['bajo', 'medio', 'medio2', 'alto']).replace(\"medio2\",\"medio\")\n",
        "x_train_classifier['tipo_precio_3'].fillna(pd.qcut(x=x_train_classifier.loc[properati['property_type'] == 'Casa']['property_m2price'], q=4, labels=['bajo', 'medio', 'medio2', 'alto']).replace(\"medio2\",\"medio\"), inplace=True)\n",
        "x_train_classifier['tipo_precio_3'].fillna(pd.qcut(x=x_train_classifier.loc[properati['property_type'] == 'PH']['property_m2price'], q=4, labels=['bajo', 'medio', 'medio2', 'alto']).replace(\"medio2\",\"medio\"), inplace=True)\n",
        "\n",
        "x_test_classifier[\"property_m2price\"] = y_test_classifier / x_test_classifier[\"property_surface_total\"]\n",
        "x_test_classifier.sort_values(by=[\"property_m2price\"], inplace=True)\n",
        "x_test_classifier['tipo_precio_3'] = pd.qcut(x=x_test_classifier.loc[properati['property_type'] == 'Departamento']['property_m2price'], q=4, labels=['bajo', 'medio', 'medio2', 'alto']).replace(\"medio2\",\"medio\")\n",
        "x_test_classifier['tipo_precio_3'].fillna(pd.qcut(x=x_test_classifier.loc[properati['property_type'] == 'Casa']['property_m2price'], q=4, labels=['bajo', 'medio', 'medio2', 'alto']).replace(\"medio2\",\"medio\"), inplace=True)\n",
        "x_test_classifier['tipo_precio_3'].fillna(pd.qcut(x=x_test_classifier.loc[properati['property_type'] == 'PH']['property_m2price'], q=4, labels=['bajo', 'medio', 'medio2', 'alto']).replace(\"medio2\",\"medio\"), inplace=True)"
      ],
      "metadata": {
        "id": "Zvb-ygK8vuKG"
      },
      "execution_count": null,
      "outputs": []
    },
    {
      "cell_type": "code",
      "execution_count": null,
      "outputs": [],
      "source": [
        "y_train_classifier = x_train_classifier[\"tipo_precio_3\"]\n",
        "x_train_classifier.drop([\"id\", \"tipo_precio_3\", \"property_m2price\"], inplace=True, axis=1)\n",
        "\n",
        "y_test_classifier = x_test_classifier[\"tipo_precio_3\"]\n",
        "x_test_classifier.drop([\"id\", \"tipo_precio_3\", \"property_m2price\"], inplace=True, axis=1)"
      ],
      "metadata": {
        "id": "TG2e42GCvuKG"
      }
    },
    {
      "cell_type": "markdown",
      "source": [
        "## 1. Procesamiento del Lenguaje Natural"
      ],
      "metadata": {
        "collapsed": false,
        "id": "DajLENWv2DpA"
      }
    },
    {
      "cell_type": "markdown",
      "source": [
        "### 1.a Ampliación del dataset\n",
        "___"
      ],
      "metadata": {
        "id": "mmjJ3qskuJyJ"
      }
    },
    {
      "cell_type": "markdown",
      "source": [
        "Hagamos un merge del dataset original y el de descripciones, y quedémonos únicamente con las columnas `id` y `property_description`:"
      ],
      "metadata": {
        "id": "904YC-oLyddb"
      }
    },
    {
      "cell_type": "code",
      "execution_count": 336,
      "outputs": [
        {
          "output_type": "execute_result",
          "data": {
            "text/plain": [
              "                         id                               property_description\n",
              "0  1gMQ4rXcpnPs+hhvW11Jdw==  ESPECTACULAR 4 AMBIENTES, DORMITORIO SUITE, BA...\n",
              "1  p7gmyqzdOy/+odHwH5oPyg==  Excelente departamento, piso alto con una herm...\n",
              "2  ZYkS+4dCz1vUENzAREcX9w==  Corredor Responsable: Gustavo Guastello - C.U....\n",
              "3  UL/s8zoicLDXXwhaelBgFQ==  Corredor Responsable: GRACIELA MENAZZI CMCPDJL...\n",
              "4  wnz+hkCE7RVBNcqDQEtFSw==  Muy lindo y funcional departamento de un ambie...\n",
              "5  +QvrIZqpMPRxlz+ilj1LkA==  Corredor Responsable: Mario Gabriel Gerez - CM...\n",
              "6  MGM2azMohIovCwT8jcExeQ==  Corredor Responsable: Ariel Champanier / Andre...\n",
              "7  uLDfFrhFSDasD1UObhqHmg==  HERMOSO 2 AMB. EN EN EDIFICIO \"BLACK\" DEL COMP...\n",
              "8  6iHL1ay2QcrLeLh+K33ziw==  Corredor Responsable: Daniel Acosta - CUCICBA ...\n",
              "9  8J08zxRGfHVQ3dzTyopnWQ==  Excelente 3 ambientes en Torre Aisenson en lo ..."
            ],
            "text/html": [
              "\n",
              "  <div id=\"df-62ed8cc9-6b94-49cb-9466-14b2beb05040\">\n",
              "    <div class=\"colab-df-container\">\n",
              "      <div>\n",
              "<style scoped>\n",
              "    .dataframe tbody tr th:only-of-type {\n",
              "        vertical-align: middle;\n",
              "    }\n",
              "\n",
              "    .dataframe tbody tr th {\n",
              "        vertical-align: top;\n",
              "    }\n",
              "\n",
              "    .dataframe thead th {\n",
              "        text-align: right;\n",
              "    }\n",
              "</style>\n",
              "<table border=\"1\" class=\"dataframe\">\n",
              "  <thead>\n",
              "    <tr style=\"text-align: right;\">\n",
              "      <th></th>\n",
              "      <th>id</th>\n",
              "      <th>property_description</th>\n",
              "    </tr>\n",
              "  </thead>\n",
              "  <tbody>\n",
              "    <tr>\n",
              "      <th>0</th>\n",
              "      <td>1gMQ4rXcpnPs+hhvW11Jdw==</td>\n",
              "      <td>ESPECTACULAR 4 AMBIENTES, DORMITORIO SUITE, BA...</td>\n",
              "    </tr>\n",
              "    <tr>\n",
              "      <th>1</th>\n",
              "      <td>p7gmyqzdOy/+odHwH5oPyg==</td>\n",
              "      <td>Excelente departamento, piso alto con una herm...</td>\n",
              "    </tr>\n",
              "    <tr>\n",
              "      <th>2</th>\n",
              "      <td>ZYkS+4dCz1vUENzAREcX9w==</td>\n",
              "      <td>Corredor Responsable: Gustavo Guastello - C.U....</td>\n",
              "    </tr>\n",
              "    <tr>\n",
              "      <th>3</th>\n",
              "      <td>UL/s8zoicLDXXwhaelBgFQ==</td>\n",
              "      <td>Corredor Responsable: GRACIELA MENAZZI CMCPDJL...</td>\n",
              "    </tr>\n",
              "    <tr>\n",
              "      <th>4</th>\n",
              "      <td>wnz+hkCE7RVBNcqDQEtFSw==</td>\n",
              "      <td>Muy lindo y funcional departamento de un ambie...</td>\n",
              "    </tr>\n",
              "    <tr>\n",
              "      <th>5</th>\n",
              "      <td>+QvrIZqpMPRxlz+ilj1LkA==</td>\n",
              "      <td>Corredor Responsable: Mario Gabriel Gerez - CM...</td>\n",
              "    </tr>\n",
              "    <tr>\n",
              "      <th>6</th>\n",
              "      <td>MGM2azMohIovCwT8jcExeQ==</td>\n",
              "      <td>Corredor Responsable: Ariel Champanier / Andre...</td>\n",
              "    </tr>\n",
              "    <tr>\n",
              "      <th>7</th>\n",
              "      <td>uLDfFrhFSDasD1UObhqHmg==</td>\n",
              "      <td>HERMOSO 2 AMB. EN EN EDIFICIO \"BLACK\" DEL COMP...</td>\n",
              "    </tr>\n",
              "    <tr>\n",
              "      <th>8</th>\n",
              "      <td>6iHL1ay2QcrLeLh+K33ziw==</td>\n",
              "      <td>Corredor Responsable: Daniel Acosta - CUCICBA ...</td>\n",
              "    </tr>\n",
              "    <tr>\n",
              "      <th>9</th>\n",
              "      <td>8J08zxRGfHVQ3dzTyopnWQ==</td>\n",
              "      <td>Excelente 3 ambientes en Torre Aisenson en lo ...</td>\n",
              "    </tr>\n",
              "  </tbody>\n",
              "</table>\n",
              "</div>\n",
              "      <button class=\"colab-df-convert\" onclick=\"convertToInteractive('df-62ed8cc9-6b94-49cb-9466-14b2beb05040')\"\n",
              "              title=\"Convert this dataframe to an interactive table.\"\n",
              "              style=\"display:none;\">\n",
              "        \n",
              "  <svg xmlns=\"http://www.w3.org/2000/svg\" height=\"24px\"viewBox=\"0 0 24 24\"\n",
              "       width=\"24px\">\n",
              "    <path d=\"M0 0h24v24H0V0z\" fill=\"none\"/>\n",
              "    <path d=\"M18.56 5.44l.94 2.06.94-2.06 2.06-.94-2.06-.94-.94-2.06-.94 2.06-2.06.94zm-11 1L8.5 8.5l.94-2.06 2.06-.94-2.06-.94L8.5 2.5l-.94 2.06-2.06.94zm10 10l.94 2.06.94-2.06 2.06-.94-2.06-.94-.94-2.06-.94 2.06-2.06.94z\"/><path d=\"M17.41 7.96l-1.37-1.37c-.4-.4-.92-.59-1.43-.59-.52 0-1.04.2-1.43.59L10.3 9.45l-7.72 7.72c-.78.78-.78 2.05 0 2.83L4 21.41c.39.39.9.59 1.41.59.51 0 1.02-.2 1.41-.59l7.78-7.78 2.81-2.81c.8-.78.8-2.07 0-2.86zM5.41 20L4 18.59l7.72-7.72 1.47 1.35L5.41 20z\"/>\n",
              "  </svg>\n",
              "      </button>\n",
              "      \n",
              "  <style>\n",
              "    .colab-df-container {\n",
              "      display:flex;\n",
              "      flex-wrap:wrap;\n",
              "      gap: 12px;\n",
              "    }\n",
              "\n",
              "    .colab-df-convert {\n",
              "      background-color: #E8F0FE;\n",
              "      border: none;\n",
              "      border-radius: 50%;\n",
              "      cursor: pointer;\n",
              "      display: none;\n",
              "      fill: #1967D2;\n",
              "      height: 32px;\n",
              "      padding: 0 0 0 0;\n",
              "      width: 32px;\n",
              "    }\n",
              "\n",
              "    .colab-df-convert:hover {\n",
              "      background-color: #E2EBFA;\n",
              "      box-shadow: 0px 1px 2px rgba(60, 64, 67, 0.3), 0px 1px 3px 1px rgba(60, 64, 67, 0.15);\n",
              "      fill: #174EA6;\n",
              "    }\n",
              "\n",
              "    [theme=dark] .colab-df-convert {\n",
              "      background-color: #3B4455;\n",
              "      fill: #D2E3FC;\n",
              "    }\n",
              "\n",
              "    [theme=dark] .colab-df-convert:hover {\n",
              "      background-color: #434B5C;\n",
              "      box-shadow: 0px 1px 3px 1px rgba(0, 0, 0, 0.15);\n",
              "      filter: drop-shadow(0px 1px 2px rgba(0, 0, 0, 0.3));\n",
              "      fill: #FFFFFF;\n",
              "    }\n",
              "  </style>\n",
              "\n",
              "      <script>\n",
              "        const buttonEl =\n",
              "          document.querySelector('#df-62ed8cc9-6b94-49cb-9466-14b2beb05040 button.colab-df-convert');\n",
              "        buttonEl.style.display =\n",
              "          google.colab.kernel.accessAllowed ? 'block' : 'none';\n",
              "\n",
              "        async function convertToInteractive(key) {\n",
              "          const element = document.querySelector('#df-62ed8cc9-6b94-49cb-9466-14b2beb05040');\n",
              "          const dataTable =\n",
              "            await google.colab.kernel.invokeFunction('convertToInteractive',\n",
              "                                                     [key], {});\n",
              "          if (!dataTable) return;\n",
              "\n",
              "          const docLinkHtml = 'Like what you see? Visit the ' +\n",
              "            '<a target=\"_blank\" href=https://colab.research.google.com/notebooks/data_table.ipynb>data table notebook</a>'\n",
              "            + ' to learn more about interactive tables.';\n",
              "          element.innerHTML = '';\n",
              "          dataTable['output_type'] = 'display_data';\n",
              "          await google.colab.output.renderOutput(dataTable, element);\n",
              "          const docLink = document.createElement('div');\n",
              "          docLink.innerHTML = docLinkHtml;\n",
              "          element.appendChild(docLink);\n",
              "        }\n",
              "      </script>\n",
              "    </div>\n",
              "  </div>\n",
              "  "
            ]
          },
          "metadata": {},
          "execution_count": 336
        }
      ],
      "source": [
        "df_decrip = pd.merge(properati, properati_decrip, on=\"id\")\n",
        "df_decrip = df_decrip[[\"id\", \"property_description\"]]\n",
        "df_decrip.head(10)"
      ],
      "metadata": {
        "colab": {
          "base_uri": "https://localhost:8080/",
          "height": 363
        },
        "id": "vRbU2jpk2Do_",
        "outputId": "0fa408ec-8a9b-4eef-f498-4b8d9318a130"
      }
    },
    {
      "cell_type": "markdown",
      "source": [
        "Busquemos aspectos de una propiedad utilizando la columna `property_description`."
      ],
      "metadata": {
        "id": "uCEL8YyUxYaa"
      }
    },
    {
      "cell_type": "markdown",
      "source": [
        "Veamos cuántos registros nulos existen:"
      ],
      "metadata": {
        "id": "tAEE-G_QzCXj"
      }
    },
    {
      "cell_type": "code",
      "execution_count": 337,
      "outputs": [
        {
          "output_type": "stream",
          "name": "stdout",
          "text": [
            "Hay 0 datos nulos.\n"
          ]
        }
      ],
      "source": [
        "print(f\"Hay {df_decrip['property_description'].isna().sum()} datos nulos.\")"
      ],
      "metadata": {
        "colab": {
          "base_uri": "https://localhost:8080/"
        },
        "id": "ydHTArN62DpA",
        "outputId": "e1d39b5d-e517-46f1-d158-767d12ab2d1f"
      }
    },
    {
      "cell_type": "markdown",
      "source": [
        "Veamos cuáles son las 100 palabras más comunes en el campo de descripción de propiedades:"
      ],
      "metadata": {
        "id": "t4hiRECrz3Wa"
      }
    },
    {
      "cell_type": "code",
      "execution_count": 338,
      "outputs": [
        {
          "output_type": "execute_result",
          "data": {
            "text/plain": [
              "[('de', 858011),\n",
              " ('y', 507798),\n",
              " ('con', 401876),\n",
              " ('la', 290201),\n",
              " ('en', 278181),\n",
              " ('a', 243761),\n",
              " ('el', 169956),\n",
              " ('del', 153280),\n",
              " ('que', 140058),\n",
              " ('por', 133636),\n",
              " ('al', 125215),\n",
              " ('-', 113886),\n",
              " ('un', 103720),\n",
              " ('las', 90713),\n",
              " ('los', 88438),\n",
              " ('para', 88196),\n",
              " ('se', 63111),\n",
              " ('DE', 56458),\n",
              " ('son', 56422),\n",
              " ('2', 52793),\n",
              " ('es', 50385),\n",
              " ('una', 48933),\n",
              " ('3', 41260),\n",
              " ('cocina', 38889),\n",
              " ('ambientes', 38850),\n",
              " ('valor', 38421),\n",
              " ('esta', 38294),\n",
              " ('muy', 36893),\n",
              " ('x', 36800),\n",
              " ('Av.', 36631),\n",
              " ('comedor', 35535),\n",
              " ('baño', 35477),\n",
              " ('Y', 34142),\n",
              " ('CON', 33915),\n",
              " ('no', 33913),\n",
              " ('piso', 33349),\n",
              " ('o', 33053),\n",
              " ('/', 32255),\n",
              " ('tu', 32102),\n",
              " ('A', 32063),\n",
              " ('hasta', 30270),\n",
              " ('balcón', 29805),\n",
              " ('inmueble', 28725),\n",
              " ('casa', 28656),\n",
              " ('No', 28636),\n",
              " ('propiedad.', 28071),\n",
              " ('30%', 27685),\n",
              " ('departamento', 27671),\n",
              " ('EN', 27267),\n",
              " ('cuadras', 27071),\n",
              " ('Corredor', 26992),\n",
              " ('préstamo', 26921),\n",
              " ('cuota', 26781),\n",
              " ('medidas', 26423),\n",
              " ('Responsable:', 25971),\n",
              " ('living', 25952),\n",
              " ('4', 25851),\n",
              " ('Lendar', 25572),\n",
              " ('querés!', 25422),\n",
              " ('podés.', 25363),\n",
              " ('Accedé', 25355),\n",
              " ('Simulá', 25350),\n",
              " ('#', 25249),\n",
              " ('ID', 25232),\n",
              " ('MLS', 25228),\n",
              " ('CUCICBA', 24648),\n",
              " ('El', 24542),\n",
              " ('edificio', 24306),\n",
              " ('dos', 24304),\n",
              " ('cuenta', 24243),\n",
              " ('personas', 23936),\n",
              " ('completo', 23797),\n",
              " ('propiedad', 23312),\n",
              " ('salida', 23058),\n",
              " ('parte', 22278),\n",
              " (',', 22138),\n",
              " ('pisos', 21621),\n",
              " ('encuentra', 21617),\n",
              " ('frente', 21612),\n",
              " ('Las', 21073),\n",
              " ('1', 20966),\n",
              " ('amplio', 20885),\n",
              " ('Comprá', 20794),\n",
              " ('\\\\n\\\\n', 20733),\n",
              " ('vista', 19912),\n",
              " ('presente', 19511),\n",
              " ('dormitorio', 19499),\n",
              " ('Ley', 19317),\n",
              " ('gran', 19097),\n",
              " ('La', 18860),\n",
              " ('placard', 18484),\n",
              " ('espacio', 18475),\n",
              " ('metros', 18400),\n",
              " ('m2', 17976),\n",
              " ('Los', 17521),\n",
              " ('<br>', 17369),\n",
              " ('accesible', 17076),\n",
              " ('su', 16597),\n",
              " ('dormitorios', 16161),\n",
              " ('sobre', 16145)]"
            ]
          },
          "metadata": {},
          "execution_count": 338
        }
      ],
      "source": [
        "Counter(\" \".join(df_decrip[\"property_description\"]).split()).most_common(100)"
      ],
      "metadata": {
        "colab": {
          "base_uri": "https://localhost:8080/"
        },
        "id": "WpAlq6jJ2DpC",
        "outputId": "2a5c9945-7682-403b-fcbf-e5554565c6f7"
      }
    },
    {
      "cell_type": "markdown",
      "source": [
        "Podemos observar que podríamos optimizar el texto mediante algunas técnicas de reducción y/o transformación. Entre otras:"
      ],
      "metadata": {
        "id": "iwnQ6tgt0MRV"
      }
    },
    {
      "cell_type": "markdown",
      "source": [
        "Eliminemos la etiqueta `<br>` de html:"
      ],
      "metadata": {
        "id": "qK78Ucya0Ugr"
      }
    },
    {
      "cell_type": "code",
      "source": [
        "df_decrip[\"property_description\"] = df_decrip[\"property_description\"].apply(lambda line: line.replace(\"<br>\", \" \"))"
      ],
      "metadata": {
        "id": "_o_B51Zk0hGz"
      },
      "execution_count": 339,
      "outputs": []
    },
    {
      "cell_type": "markdown",
      "source": [
        "Transformemos todas las palabras a minúsculas, de modo que el contador no realice distinciones:"
      ],
      "metadata": {
        "id": "pyNp4Y520yHS"
      }
    },
    {
      "cell_type": "code",
      "source": [
        "df_decrip[\"property_description\"] = df_decrip[\"property_description\"].apply(lambda line: line.lower())"
      ],
      "metadata": {
        "id": "VWBmcgfI04Ge"
      },
      "execution_count": 340,
      "outputs": []
    },
    {
      "cell_type": "markdown",
      "source": [
        "Quitemos los tildes de las letras:"
      ],
      "metadata": {
        "id": "WpSPMtks1bZz"
      }
    },
    {
      "cell_type": "code",
      "source": [
        "df_decrip[\"property_description\"] = df_decrip[\"property_description\"].apply(lambda line: unidecode.unidecode(line))"
      ],
      "metadata": {
        "id": "KWHrTmAG1dGn"
      },
      "execution_count": 341,
      "outputs": []
    },
    {
      "cell_type": "markdown",
      "source": [
        "Eliminemos los símbolos:"
      ],
      "metadata": {
        "id": "tpUndCZy1j2X"
      }
    },
    {
      "cell_type": "code",
      "source": [
        "df_decrip[\"property_description\"] = df_decrip[\"property_description\"].apply(lambda line: re.sub(r'[^\\w]', ' ', line))"
      ],
      "metadata": {
        "id": "sWcF2SIJ1lfG"
      },
      "execution_count": 342,
      "outputs": []
    },
    {
      "cell_type": "markdown",
      "source": [
        "Eliminemos los espacios múltiples entre palabras:"
      ],
      "metadata": {
        "id": "bdqDlvqN1rL1"
      }
    },
    {
      "cell_type": "code",
      "execution_count": 343,
      "outputs": [],
      "source": [
        "df_decrip[\"property_description\"] = df_decrip[\"property_description\"].apply(lambda line: re.sub(\"\\s\\s+\" , \" \", line))"
      ],
      "metadata": {
        "id": "uQvajcwC2DpE"
      }
    },
    {
      "cell_type": "markdown",
      "source": [
        "Utilizando el contenido del archivo `stop_words.txt`, eliminemos palabras sin significado del datset y colocamos los cambios en uno nuevo:"
      ],
      "metadata": {
        "id": "BzcWZSJY4GPs"
      }
    },
    {
      "cell_type": "code",
      "source": [
        "df_nostopwords = df_decrip.copy()"
      ],
      "metadata": {
        "id": "EGQxcCEHBxnY"
      },
      "execution_count": 344,
      "outputs": []
    },
    {
      "cell_type": "code",
      "execution_count": 345,
      "outputs": [],
      "source": [
        "with open(stop_words) as f:\n",
        "    lines = f.read().splitlines()\n",
        "\n",
        "f = lambda x: ' '.join([item for item in x.split() if item not in lines])\n",
        "\n",
        "df_nostopwords[\"property_description\"] = df_nostopwords[\"property_description\"].apply(f)"
      ],
      "metadata": {
        "id": "FrOeCCBY2DpF"
      }
    },
    {
      "cell_type": "markdown",
      "source": [
        "Luego de estas transformaciones, veamos cuáles son las palabras más utilizadas:"
      ],
      "metadata": {
        "id": "JYXs-85EVQwx"
      }
    },
    {
      "cell_type": "code",
      "execution_count": 346,
      "outputs": [
        {
          "output_type": "execute_result",
          "data": {
            "text/plain": [
              "[('cocina', 89459),\n",
              " ('2', 88138),\n",
              " ('bano', 74430),\n",
              " ('3', 74276),\n",
              " ('ambientes', 71519),\n",
              " ('balcon', 71288),\n",
              " ('comedor', 68491),\n",
              " ('piso', 67831),\n",
              " ('living', 63836),\n",
              " ('propiedad', 62563),\n",
              " ('departamento', 54477),\n",
              " ('edificio', 53420),\n",
              " ('av', 50589),\n",
              " ('1', 50145),\n",
              " ('dormitorio', 48863),\n",
              " ('completo', 48392),\n",
              " ('pisos', 46212),\n",
              " ('4', 45875),\n",
              " ('frente', 44714),\n",
              " ('expensas', 44286),\n",
              " ('n', 44025),\n",
              " ('excelente', 41315),\n",
              " ('corredor', 41146),\n",
              " ('medidas', 41048),\n",
              " ('x', 40904),\n",
              " ('inmueble', 40569),\n",
              " ('responsable', 37724),\n",
              " ('amplio', 36355),\n",
              " ('m2', 34044),\n",
              " ('30', 34028),\n",
              " ('placard', 33950),\n",
              " ('casa', 32678),\n",
              " ('dormitorios', 32258),\n",
              " ('lavadero', 31875),\n",
              " ('c', 31791),\n",
              " ('cuadras', 31167),\n",
              " ('luminoso', 30549),\n",
              " ('cucicba', 30414),\n",
              " ('accede', 29383),\n",
              " ('terraza', 29330),\n",
              " ('ley', 27849),\n",
              " ('aire', 27700),\n",
              " ('lendar', 27450),\n",
              " ('queres', 27417),\n",
              " ('prestamo', 27367),\n",
              " ('vista', 26980),\n",
              " ('venta', 26865),\n",
              " ('cuota', 26857),\n",
              " ('podes', 26581),\n",
              " ('salida', 26111),\n",
              " ('ubicacion', 25548),\n",
              " ('simula', 25537),\n",
              " ('id', 25236),\n",
              " ('cochera', 25233),\n",
              " ('mls', 25231),\n",
              " ('personas', 24976),\n",
              " ('espacio', 24794),\n",
              " ('5', 24267),\n",
              " ('planta', 23609),\n",
              " ('zona', 23397),\n",
              " ('compra', 23247),\n",
              " ('metros', 23075),\n",
              " ('independiente', 23073),\n",
              " ('inmobiliario', 22866),\n",
              " ('patio', 22295),\n",
              " ('servicio', 22214),\n",
              " ('principal', 21845),\n",
              " ('barrio', 21306),\n",
              " ('ubicado', 21088),\n",
              " ('linea', 20910),\n",
              " ('parrilla', 20747),\n",
              " ('mesada', 20703),\n",
              " ('suite', 20635),\n",
              " ('toilette', 20554),\n",
              " ('acceso', 20482),\n",
              " ('presente', 19926),\n",
              " ('servicios', 19773),\n",
              " ('accesible', 19275),\n",
              " ('subte', 18716),\n",
              " ('unidades', 18413),\n",
              " ('agua', 18368),\n",
              " ('mas', 18246),\n",
              " ('acondicionado', 18043),\n",
              " ('hall', 17970),\n",
              " ('b', 17718),\n",
              " ('operacion', 17568),\n",
              " ('aviso', 17401),\n",
              " ('unidad', 16996),\n",
              " ('24', 16901),\n",
              " ('comercial', 16527),\n",
              " ('madera', 16500),\n",
              " ('doble', 16414),\n",
              " ('propietario', 16374),\n",
              " ('calefaccion', 16295),\n",
              " ('calidad', 16140),\n",
              " ('entrada', 15983),\n",
              " ('discapacidades', 15931),\n",
              " ('informacion', 15902),\n",
              " ('estacion', 15816),\n",
              " ('operaciones', 15668)]"
            ]
          },
          "metadata": {},
          "execution_count": 346
        }
      ],
      "source": [
        "Counter(\" \".join(df_nostopwords[\"property_description\"]).split()).most_common(100)"
      ],
      "metadata": {
        "colab": {
          "base_uri": "https://localhost:8080/"
        },
        "id": "FNYcv0DM2DpG",
        "outputId": "59da23d0-d87c-489a-c8a6-3766b7a8c85f"
      }
    },
    {
      "cell_type": "markdown",
      "source": [
        "Seleccionemos los aspectos que nos parecen relevantes, para luego buscar sus posibles valores.\n",
        "\n",
        "Para esto, elegimos: `cocina`, `pisos`, `calefaccion`, `expensas`, `lavadero`, `balcon`, `cochera` y `aire` y limpiamos cualquier tipo de formato restante en el dataset:"
      ],
      "metadata": {
        "collapsed": false,
        "id": "Ai_Odw_x2DpG"
      }
    },
    {
      "cell_type": "code",
      "source": [
        "aspectos = ['cocina', 'pisos', 'calefaccion', 'expensas', 'lavadero', 'balcon', 'cochera', 'aire']"
      ],
      "metadata": {
        "id": "BkHpD1gtB7e_"
      },
      "execution_count": 347,
      "outputs": []
    },
    {
      "cell_type": "code",
      "execution_count": 348,
      "outputs": [],
      "source": [
        "for word in aspectos:\n",
        "    df_nostopwords[word] = df_nostopwords[\"property_description\"].apply(lambda line: format_aspects(line, word))"
      ],
      "metadata": {
        "id": "AnaswxtR2DpH"
      }
    },
    {
      "cell_type": "markdown",
      "source": [
        "Veamos cuáles son las 15 palabras más comunes para cada uno de los aspectos elegidos:"
      ],
      "metadata": {
        "id": "EDsk7Bjgx116"
      }
    },
    {
      "cell_type": "code",
      "source": [
        "cant_val_aspectos = 15"
      ],
      "metadata": {
        "id": "eYdLqsvGyNcj"
      },
      "execution_count": 349,
      "outputs": []
    },
    {
      "cell_type": "markdown",
      "source": [
        "#### Aspecto `cocina`\n",
        "\n",
        "\n"
      ],
      "metadata": {
        "id": "wWJKdB85y1l0"
      }
    },
    {
      "cell_type": "code",
      "execution_count": 350,
      "outputs": [
        {
          "output_type": "execute_result",
          "data": {
            "text/plain": [
              "[('cocina', 62809),\n",
              " ('comedor', 19199),\n",
              " ('integrada', 11530),\n",
              " ('living', 9979),\n",
              " ('bano', 8949),\n",
              " ('lavadero', 6978),\n",
              " ('balcon', 6225),\n",
              " ('independiente', 6077),\n",
              " ('completo', 5385),\n",
              " ('diario', 4993),\n",
              " ('muebles', 4829),\n",
              " ('separada', 4746),\n",
              " ('amplia', 4518),\n",
              " ('toilette', 3963),\n",
              " ('completa', 3692)]"
            ]
          },
          "metadata": {},
          "execution_count": 350
        }
      ],
      "source": [
        "Counter(\" \".join(df_nostopwords[\"cocina\"]).split()).most_common(cant_val_aspectos)"
      ],
      "metadata": {
        "id": "l-7v9FP82DpH",
        "colab": {
          "base_uri": "https://localhost:8080/"
        },
        "outputId": "528b73a5-3ed4-4128-9397-a9c47871026e"
      }
    },
    {
      "cell_type": "markdown",
      "source": [
        "Para `cocina`, los valores podrían ser: \n",
        "- integrada\n",
        "- lavadero\n",
        "- completa"
      ],
      "metadata": {
        "collapsed": false,
        "id": "6ACLlV0F2DpI"
      }
    },
    {
      "cell_type": "markdown",
      "source": [
        "#### Aspecto `pisos`"
      ],
      "metadata": {
        "id": "1XQ4TVyUzSqc"
      }
    },
    {
      "cell_type": "code",
      "execution_count": 351,
      "outputs": [
        {
          "output_type": "execute_result",
          "data": {
            "text/plain": [
              "[('pisos', 31829),\n",
              " ('parquet', 6394),\n",
              " ('madera', 4427),\n",
              " ('porcelanato', 4025),\n",
              " ('living', 3671),\n",
              " ('edificio', 3621),\n",
              " ('comedor', 3155),\n",
              " ('unidades', 1821),\n",
              " ('cocina', 1754),\n",
              " ('departamentos', 1662),\n",
              " ('bano', 1576),\n",
              " ('2', 1411),\n",
              " ('4', 1313),\n",
              " ('3', 1241),\n",
              " ('ambientes', 1201)]"
            ]
          },
          "metadata": {},
          "execution_count": 351
        }
      ],
      "source": [
        "Counter(\" \".join(df_nostopwords[\"pisos\"]).split()).most_common(cant_val_aspectos)"
      ],
      "metadata": {
        "id": "UQQMsrnL2DpI",
        "colab": {
          "base_uri": "https://localhost:8080/"
        },
        "outputId": "bf7b3480-3361-4b72-8b69-bc76d3bfdc79"
      }
    },
    {
      "cell_type": "markdown",
      "source": [
        "Para `pisos`, los valores podrían ser: \n",
        "- porcelanato\n",
        "- parquet\n",
        "- ceramicos"
      ],
      "metadata": {
        "collapsed": false,
        "id": "l39ZahiN2DpJ"
      }
    },
    {
      "cell_type": "markdown",
      "source": [
        "#### Aspecto `calefaccion`"
      ],
      "metadata": {
        "id": "a4pG3YbW1wnt"
      }
    },
    {
      "cell_type": "code",
      "execution_count": 352,
      "outputs": [
        {
          "output_type": "execute_result",
          "data": {
            "text/plain": [
              "[('calefaccion', 15447),\n",
              " ('radiante', 4448),\n",
              " ('losa', 3916),\n",
              " ('central', 3444),\n",
              " ('caliente', 2653),\n",
              " ('agua', 2257),\n",
              " ('radiadores', 2052),\n",
              " ('individual', 1921),\n",
              " ('aire', 1777),\n",
              " ('piso', 1527),\n",
              " ('caldera', 1246),\n",
              " ('tiro', 1197),\n",
              " ('acondicionado', 1097),\n",
              " ('servicios', 1056),\n",
              " ('ambientes', 798)]"
            ]
          },
          "metadata": {},
          "execution_count": 352
        }
      ],
      "source": [
        "Counter(\" \".join(df_nostopwords[\"calefaccion\"]).split()).most_common(cant_val_aspectos)"
      ],
      "metadata": {
        "id": "RPZApHfA2DpJ",
        "colab": {
          "base_uri": "https://localhost:8080/"
        },
        "outputId": "c2dd9b1d-e951-4bab-cb7c-29bd2f822b59"
      }
    },
    {
      "cell_type": "markdown",
      "source": [
        "Para `calefaccion`, los valores podrían ser: \n",
        "- radiadores\n",
        "- radiante\n",
        "- central\n",
        "- individual"
      ],
      "metadata": {
        "collapsed": false,
        "id": "Mt-7dfsl2DpK"
      }
    },
    {
      "cell_type": "markdown",
      "source": [
        "#### Aspecto `expensas`"
      ],
      "metadata": {
        "id": "XfzRZc861ysa"
      }
    },
    {
      "cell_type": "code",
      "execution_count": 353,
      "outputs": [
        {
          "output_type": "execute_result",
          "data": {
            "text/plain": [
              "[('expensas', 35164),\n",
              " ('servicios', 6846),\n",
              " ('impuestos', 5906),\n",
              " ('valores', 5559),\n",
              " ('bajas', 4879),\n",
              " ('funcionales', 4365),\n",
              " ('000', 3296),\n",
              " ('abl', 2445),\n",
              " ('medidas', 1959),\n",
              " ('aysa', 1606),\n",
              " ('sujetos', 1542),\n",
              " ('propiedad', 1276),\n",
              " ('superficies', 1260),\n",
              " ('indicados', 1242),\n",
              " ('consignadas', 1189),\n",
              " ('2021', 1147),\n",
              " ('tasas', 1143),\n",
              " ('mensuales', 1138),\n",
              " ('consignado', 1084),\n",
              " ('gastos', 1053),\n",
              " ('presente', 1046),\n",
              " ('ambientes', 1044),\n",
              " ('sujeto', 947),\n",
              " ('500', 942),\n",
              " ('edificio', 915),\n",
              " ('aprox', 867),\n",
              " ('4', 835),\n",
              " ('incluyen', 829),\n",
              " ('2', 819),\n",
              " ('3', 806)]"
            ]
          },
          "metadata": {},
          "execution_count": 353
        }
      ],
      "source": [
        "Counter(\" \".join(df_nostopwords[\"expensas\"]).split()).most_common(cant_val_aspectos*2)"
      ],
      "metadata": {
        "id": "iRKPdGhA2DpK",
        "colab": {
          "base_uri": "https://localhost:8080/"
        },
        "outputId": "57e77706-1874-4081-f05c-251e70662702"
      }
    },
    {
      "cell_type": "markdown",
      "source": [
        "Para `expensas`, los valores podrían ser: \n",
        "- serviocios\n",
        "- impuestos \n",
        "- bajas"
      ],
      "metadata": {
        "collapsed": false,
        "id": "C7EiojY82DpK"
      }
    },
    {
      "cell_type": "markdown",
      "source": [
        "#### Aspecto `lavadero`"
      ],
      "metadata": {
        "id": "ZVVvuLxu11U0"
      }
    },
    {
      "cell_type": "code",
      "execution_count": 354,
      "outputs": [
        {
          "output_type": "execute_result",
          "data": {
            "text/plain": [
              "[('lavadero', 28548),\n",
              " ('independiente', 7972),\n",
              " ('cocina', 7923),\n",
              " ('comedor', 4376),\n",
              " ('bano', 4342),\n",
              " ('diario', 3175),\n",
              " ('servicio', 2922),\n",
              " ('dependencia', 2920),\n",
              " ('incorporado', 2506),\n",
              " ('completo', 2102),\n",
              " ('patio', 1882),\n",
              " ('separado', 1807),\n",
              " ('balcon', 1738),\n",
              " ('espacio', 1736),\n",
              " ('toilette', 1385)]"
            ]
          },
          "metadata": {},
          "execution_count": 354
        }
      ],
      "source": [
        "Counter(\" \".join(df_nostopwords[\"lavadero\"]).split()).most_common(cant_val_aspectos)"
      ],
      "metadata": {
        "id": "sAzBKC5c2DpK",
        "colab": {
          "base_uri": "https://localhost:8080/"
        },
        "outputId": "5a671a2c-51dd-4631-85d2-c53652f8cfd4"
      }
    },
    {
      "cell_type": "markdown",
      "source": [
        "Para `lavadero`, los valores podrían ser: \n",
        "- independiente\n",
        "- cocina\n",
        "- comedor"
      ],
      "metadata": {
        "collapsed": false,
        "id": "i8zxU-Co2DpL"
      }
    },
    {
      "cell_type": "markdown",
      "source": [
        "#### Aspecto `balcon`"
      ],
      "metadata": {
        "id": "0opxhwgx122i"
      }
    },
    {
      "cell_type": "code",
      "execution_count": 355,
      "outputs": [
        {
          "output_type": "execute_result",
          "data": {
            "text/plain": [
              "[('balcon', 42917),\n",
              " ('salida', 9996),\n",
              " ('frente', 9711),\n",
              " ('comedor', 8052),\n",
              " ('ambientes', 6387),\n",
              " ('corrido', 6126),\n",
              " ('cocina', 4569),\n",
              " ('living', 4207),\n",
              " ('vista', 4051),\n",
              " ('amplio', 3716),\n",
              " ('terraza', 3682),\n",
              " ('aterrazado', 3172),\n",
              " ('2', 3151),\n",
              " ('luminoso', 2855),\n",
              " ('3', 2684)]"
            ]
          },
          "metadata": {},
          "execution_count": 355
        }
      ],
      "source": [
        "Counter(\" \".join(df_nostopwords[\"balcon\"]).split()).most_common(cant_val_aspectos)"
      ],
      "metadata": {
        "id": "geCmhGct2DpL",
        "colab": {
          "base_uri": "https://localhost:8080/"
        },
        "outputId": "0118fc57-3690-4d19-c93e-5694c5b6838c"
      }
    },
    {
      "cell_type": "markdown",
      "source": [
        "Para `balcon`, los valores podrían ser: \n",
        "- frente\n",
        "- amplio \n",
        "- terraza \n",
        "- salida \n",
        "- corrido\n",
        "- luminoso"
      ],
      "metadata": {
        "collapsed": false,
        "id": "GUiM00PQ2DpL"
      }
    },
    {
      "cell_type": "markdown",
      "source": [
        "#### Aspecto `cochera`"
      ],
      "metadata": {
        "id": "W05qxE7f138s"
      }
    },
    {
      "cell_type": "code",
      "execution_count": 356,
      "outputs": [
        {
          "output_type": "execute_result",
          "data": {
            "text/plain": [
              "[('cochera', 17208),\n",
              " ('cocheras', 7359),\n",
              " ('fija', 4756),\n",
              " ('cubierta', 4118),\n",
              " ('ambientes', 3484),\n",
              " ('baulera', 2863),\n",
              " ('2', 2467),\n",
              " ('edificio', 2119),\n",
              " ('balcon', 1521),\n",
              " ('3', 1399),\n",
              " ('opcional', 1307),\n",
              " ('1', 1132),\n",
              " ('fijas', 1080),\n",
              " ('terraza', 1007),\n",
              " ('dependencia', 979),\n",
              " ('posibilidad', 958),\n",
              " ('piso', 826),\n",
              " ('frente', 780),\n",
              " ('bano', 760),\n",
              " ('departamento', 759),\n",
              " ('disponibles', 759),\n",
              " ('4', 753),\n",
              " ('servicio', 729),\n",
              " ('planta', 701),\n",
              " ('parrilla', 699),\n",
              " ('espacio', 615),\n",
              " ('subsuelo', 598),\n",
              " ('amenities', 586),\n",
              " ('completo', 553),\n",
              " ('patio', 525)]"
            ]
          },
          "metadata": {},
          "execution_count": 356
        }
      ],
      "source": [
        "Counter(\" \".join(df_nostopwords[\"cochera\"]).split()).most_common(cant_val_aspectos*2)"
      ],
      "metadata": {
        "id": "vF7x7sFV2DpL",
        "colab": {
          "base_uri": "https://localhost:8080/"
        },
        "outputId": "c9639895-38b5-49c8-d2b8-bfc4e156140f"
      }
    },
    {
      "cell_type": "markdown",
      "source": [
        "Para `cochera`, los valores podrían ser: \n",
        "- fija\n",
        "- cubierta"
      ],
      "metadata": {
        "collapsed": false,
        "id": "_sGYjhjF2DpM"
      }
    },
    {
      "cell_type": "markdown",
      "source": [
        "#### Aspecto `aire`"
      ],
      "metadata": {
        "id": "ehAh9leY2Lfu"
      }
    },
    {
      "cell_type": "code",
      "execution_count": 357,
      "outputs": [
        {
          "output_type": "execute_result",
          "data": {
            "text/plain": [
              "[('aire', 20578),\n",
              " ('acondicionado', 14337),\n",
              " ('frio', 5985),\n",
              " ('aires', 5809),\n",
              " ('split', 2204),\n",
              " ('ciudad', 2020),\n",
              " ('acondicionados', 1961),\n",
              " ('luz', 1851),\n",
              " ('equipos', 1585),\n",
              " ('calefaccion', 1493),\n",
              " ('instalacion', 1413),\n",
              " ('ambientes', 1411),\n",
              " ('living', 1138),\n",
              " ('central', 1062),\n",
              " ('balcon', 1002)]"
            ]
          },
          "metadata": {},
          "execution_count": 357
        }
      ],
      "source": [
        "Counter(\" \".join(df_nostopwords[\"aire\"]).split()).most_common(cant_val_aspectos)"
      ],
      "metadata": {
        "id": "eQlqeMRa2DpM",
        "colab": {
          "base_uri": "https://localhost:8080/"
        },
        "outputId": "ca472db0-a0d8-42a6-e607-f6dffc109dce"
      }
    },
    {
      "cell_type": "markdown",
      "source": [
        "Para `aire`, posibles valores son: \n",
        "- split \n",
        "- central \n",
        "- acondicionado"
      ],
      "metadata": {
        "collapsed": false,
        "id": "9hWHT90P2DpM"
      }
    },
    {
      "cell_type": "markdown",
      "source": [
        "#### Consolidación de valores"
      ],
      "metadata": {
        "id": "fF4R61si2RJI"
      }
    },
    {
      "cell_type": "markdown",
      "source": [
        "A continuación creamos la variable `values`, que contiene los posibles valores para cada uno de los aspectos elegidos:"
      ],
      "metadata": {
        "collapsed": false,
        "id": "ZTu9pPYV2DpN"
      }
    },
    {
      "cell_type": "code",
      "execution_count": 358,
      "outputs": [],
      "source": [
        "values_cocina = ['integrada' , 'lavadero' , 'completa']\n",
        "values_pisos = ['porcelanato' , 'parquet' , 'ceramicos']\n",
        "values_calefaccion = ['radiadores' , 'radiante' , 'central' , 'individual']\n",
        "values_expensas = ['serviocios' , 'impuestos' , 'bajas']\n",
        "values_lavadero = ['independiente' , 'cocina' , 'comedor']\n",
        "values_balcon = ['frente' , 'amplio' , 'terraza' , 'salida' , 'corrido' , 'luminoso']\n",
        "values_cochera = ['fija' , 'cubierta']\n",
        "values_aire = ['split' , 'central' , 'acondicionado']"
      ],
      "metadata": {
        "id": "8woiCcO32DpN"
      }
    },
    {
      "cell_type": "code",
      "source": [
        "values = [values_cocina, values_pisos, values_calefaccion, values_expensas, values_lavadero, values_balcon, values_cochera, values_aire]"
      ],
      "metadata": {
        "id": "CFU_0j0EGUE5"
      },
      "execution_count": 359,
      "outputs": []
    },
    {
      "cell_type": "markdown",
      "source": [
        "En primer lugar, creamos un dataset auxiliar que tenga los IDs y las columnas de los aspectos:"
      ],
      "metadata": {
        "collapsed": false,
        "id": "B9JpAzOi2DpN"
      }
    },
    {
      "cell_type": "code",
      "execution_count": 360,
      "outputs": [],
      "source": [
        "aux_df = df_nostopwords.copy()\n",
        "aux_df.drop('property_description', inplace=True, axis=1)"
      ],
      "metadata": {
        "id": "Z617kPUE2DpN"
      }
    },
    {
      "cell_type": "markdown",
      "source": [
        "Luego creamos una función a la que -pasándole un dataset, los aspectos y el listado de valores posibles- reemplace el contenido de las columnas por los valores correspondientes."
      ],
      "metadata": {
        "collapsed": false,
        "id": "qpHzefm72DpO"
      }
    },
    {
      "cell_type": "markdown",
      "source": [
        "Modificamos las columnas de los aspectos, para que sólo queden los valores correspondientes:"
      ],
      "metadata": {
        "collapsed": false,
        "id": "8A7lmncH2DpO"
      }
    },
    {
      "cell_type": "code",
      "execution_count": 362,
      "outputs": [
        {
          "output_type": "execute_result",
          "data": {
            "text/plain": [
              "                          id     cocina    pisos calefaccion   expensas  \\\n",
              "0   1gMQ4rXcpnPs+hhvW11Jdw==                                  impuestos   \n",
              "1   p7gmyqzdOy/+odHwH5oPyg==                                              \n",
              "2   ZYkS+4dCz1vUENzAREcX9w==                                              \n",
              "3   UL/s8zoicLDXXwhaelBgFQ==                                              \n",
              "4   wnz+hkCE7RVBNcqDQEtFSw==                                              \n",
              "5   +QvrIZqpMPRxlz+ilj1LkA==  integrada                                   \n",
              "6   MGM2azMohIovCwT8jcExeQ==                                              \n",
              "7   uLDfFrhFSDasD1UObhqHmg==   lavadero                                   \n",
              "8   6iHL1ay2QcrLeLh+K33ziw==                                      bajas   \n",
              "9   8J08zxRGfHVQ3dzTyopnWQ==                        radiante              \n",
              "10  hv+iqnYbUuKS7MQkVCzkRA==                                              \n",
              "11  Lu1rSiGGMQCOTDcBWNcYfA==   lavadero                                   \n",
              "12  LMqmEl4LAY5TKFXzvGlirg==                        radiante              \n",
              "13  4ulusHTiqgbv2tElh+CCTA==             parquet  individual              \n",
              "14  52xVuDOa1lH99pJZCqpl1g==   lavadero             radiante              \n",
              "15  DUAJw7dW3XPO8hlwhgdx/w==   lavadero                                   \n",
              "16  bwIe0cOAUilZr/srSdv60A==  integrada                                   \n",
              "17  IuTGzi0HYmRM0dNlN7RvBw==  integrada                                   \n",
              "18  WWLInAn221iNKVmqmMktyg==             parquet                          \n",
              "19  hPJUQzLWvtqqIts7bW3uuw==                                              \n",
              "\n",
              "         lavadero   balcon cochera           aire  \n",
              "0                  terraza                         \n",
              "1                   amplio                         \n",
              "2                                                  \n",
              "3                                   acondicionado  \n",
              "4                                                  \n",
              "5   independiente                                  \n",
              "6                                                  \n",
              "7   independiente   frente          acondicionado  \n",
              "8                                                  \n",
              "9                   salida                         \n",
              "10                  frente          acondicionado  \n",
              "11         cocina                                  \n",
              "12                            fija  acondicionado  \n",
              "13                  frente          acondicionado  \n",
              "14         cocina   salida                         \n",
              "15  independiente  terraza    fija                 \n",
              "16                                  acondicionado  \n",
              "17                  frente                         \n",
              "18  independiente   frente                         \n",
              "19        comedor   frente                         "
            ],
            "text/html": [
              "\n",
              "  <div id=\"df-6abb4a1d-f07c-41c8-8a03-8c7e914804ed\">\n",
              "    <div class=\"colab-df-container\">\n",
              "      <div>\n",
              "<style scoped>\n",
              "    .dataframe tbody tr th:only-of-type {\n",
              "        vertical-align: middle;\n",
              "    }\n",
              "\n",
              "    .dataframe tbody tr th {\n",
              "        vertical-align: top;\n",
              "    }\n",
              "\n",
              "    .dataframe thead th {\n",
              "        text-align: right;\n",
              "    }\n",
              "</style>\n",
              "<table border=\"1\" class=\"dataframe\">\n",
              "  <thead>\n",
              "    <tr style=\"text-align: right;\">\n",
              "      <th></th>\n",
              "      <th>id</th>\n",
              "      <th>cocina</th>\n",
              "      <th>pisos</th>\n",
              "      <th>calefaccion</th>\n",
              "      <th>expensas</th>\n",
              "      <th>lavadero</th>\n",
              "      <th>balcon</th>\n",
              "      <th>cochera</th>\n",
              "      <th>aire</th>\n",
              "    </tr>\n",
              "  </thead>\n",
              "  <tbody>\n",
              "    <tr>\n",
              "      <th>0</th>\n",
              "      <td>1gMQ4rXcpnPs+hhvW11Jdw==</td>\n",
              "      <td></td>\n",
              "      <td></td>\n",
              "      <td></td>\n",
              "      <td>impuestos</td>\n",
              "      <td></td>\n",
              "      <td>terraza</td>\n",
              "      <td></td>\n",
              "      <td></td>\n",
              "    </tr>\n",
              "    <tr>\n",
              "      <th>1</th>\n",
              "      <td>p7gmyqzdOy/+odHwH5oPyg==</td>\n",
              "      <td></td>\n",
              "      <td></td>\n",
              "      <td></td>\n",
              "      <td></td>\n",
              "      <td></td>\n",
              "      <td>amplio</td>\n",
              "      <td></td>\n",
              "      <td></td>\n",
              "    </tr>\n",
              "    <tr>\n",
              "      <th>2</th>\n",
              "      <td>ZYkS+4dCz1vUENzAREcX9w==</td>\n",
              "      <td></td>\n",
              "      <td></td>\n",
              "      <td></td>\n",
              "      <td></td>\n",
              "      <td></td>\n",
              "      <td></td>\n",
              "      <td></td>\n",
              "      <td></td>\n",
              "    </tr>\n",
              "    <tr>\n",
              "      <th>3</th>\n",
              "      <td>UL/s8zoicLDXXwhaelBgFQ==</td>\n",
              "      <td></td>\n",
              "      <td></td>\n",
              "      <td></td>\n",
              "      <td></td>\n",
              "      <td></td>\n",
              "      <td></td>\n",
              "      <td></td>\n",
              "      <td>acondicionado</td>\n",
              "    </tr>\n",
              "    <tr>\n",
              "      <th>4</th>\n",
              "      <td>wnz+hkCE7RVBNcqDQEtFSw==</td>\n",
              "      <td></td>\n",
              "      <td></td>\n",
              "      <td></td>\n",
              "      <td></td>\n",
              "      <td></td>\n",
              "      <td></td>\n",
              "      <td></td>\n",
              "      <td></td>\n",
              "    </tr>\n",
              "    <tr>\n",
              "      <th>5</th>\n",
              "      <td>+QvrIZqpMPRxlz+ilj1LkA==</td>\n",
              "      <td>integrada</td>\n",
              "      <td></td>\n",
              "      <td></td>\n",
              "      <td></td>\n",
              "      <td>independiente</td>\n",
              "      <td></td>\n",
              "      <td></td>\n",
              "      <td></td>\n",
              "    </tr>\n",
              "    <tr>\n",
              "      <th>6</th>\n",
              "      <td>MGM2azMohIovCwT8jcExeQ==</td>\n",
              "      <td></td>\n",
              "      <td></td>\n",
              "      <td></td>\n",
              "      <td></td>\n",
              "      <td></td>\n",
              "      <td></td>\n",
              "      <td></td>\n",
              "      <td></td>\n",
              "    </tr>\n",
              "    <tr>\n",
              "      <th>7</th>\n",
              "      <td>uLDfFrhFSDasD1UObhqHmg==</td>\n",
              "      <td>lavadero</td>\n",
              "      <td></td>\n",
              "      <td></td>\n",
              "      <td></td>\n",
              "      <td>independiente</td>\n",
              "      <td>frente</td>\n",
              "      <td></td>\n",
              "      <td>acondicionado</td>\n",
              "    </tr>\n",
              "    <tr>\n",
              "      <th>8</th>\n",
              "      <td>6iHL1ay2QcrLeLh+K33ziw==</td>\n",
              "      <td></td>\n",
              "      <td></td>\n",
              "      <td></td>\n",
              "      <td>bajas</td>\n",
              "      <td></td>\n",
              "      <td></td>\n",
              "      <td></td>\n",
              "      <td></td>\n",
              "    </tr>\n",
              "    <tr>\n",
              "      <th>9</th>\n",
              "      <td>8J08zxRGfHVQ3dzTyopnWQ==</td>\n",
              "      <td></td>\n",
              "      <td></td>\n",
              "      <td>radiante</td>\n",
              "      <td></td>\n",
              "      <td></td>\n",
              "      <td>salida</td>\n",
              "      <td></td>\n",
              "      <td></td>\n",
              "    </tr>\n",
              "    <tr>\n",
              "      <th>10</th>\n",
              "      <td>hv+iqnYbUuKS7MQkVCzkRA==</td>\n",
              "      <td></td>\n",
              "      <td></td>\n",
              "      <td></td>\n",
              "      <td></td>\n",
              "      <td></td>\n",
              "      <td>frente</td>\n",
              "      <td></td>\n",
              "      <td>acondicionado</td>\n",
              "    </tr>\n",
              "    <tr>\n",
              "      <th>11</th>\n",
              "      <td>Lu1rSiGGMQCOTDcBWNcYfA==</td>\n",
              "      <td>lavadero</td>\n",
              "      <td></td>\n",
              "      <td></td>\n",
              "      <td></td>\n",
              "      <td>cocina</td>\n",
              "      <td></td>\n",
              "      <td></td>\n",
              "      <td></td>\n",
              "    </tr>\n",
              "    <tr>\n",
              "      <th>12</th>\n",
              "      <td>LMqmEl4LAY5TKFXzvGlirg==</td>\n",
              "      <td></td>\n",
              "      <td></td>\n",
              "      <td>radiante</td>\n",
              "      <td></td>\n",
              "      <td></td>\n",
              "      <td></td>\n",
              "      <td>fija</td>\n",
              "      <td>acondicionado</td>\n",
              "    </tr>\n",
              "    <tr>\n",
              "      <th>13</th>\n",
              "      <td>4ulusHTiqgbv2tElh+CCTA==</td>\n",
              "      <td></td>\n",
              "      <td>parquet</td>\n",
              "      <td>individual</td>\n",
              "      <td></td>\n",
              "      <td></td>\n",
              "      <td>frente</td>\n",
              "      <td></td>\n",
              "      <td>acondicionado</td>\n",
              "    </tr>\n",
              "    <tr>\n",
              "      <th>14</th>\n",
              "      <td>52xVuDOa1lH99pJZCqpl1g==</td>\n",
              "      <td>lavadero</td>\n",
              "      <td></td>\n",
              "      <td>radiante</td>\n",
              "      <td></td>\n",
              "      <td>cocina</td>\n",
              "      <td>salida</td>\n",
              "      <td></td>\n",
              "      <td></td>\n",
              "    </tr>\n",
              "    <tr>\n",
              "      <th>15</th>\n",
              "      <td>DUAJw7dW3XPO8hlwhgdx/w==</td>\n",
              "      <td>lavadero</td>\n",
              "      <td></td>\n",
              "      <td></td>\n",
              "      <td></td>\n",
              "      <td>independiente</td>\n",
              "      <td>terraza</td>\n",
              "      <td>fija</td>\n",
              "      <td></td>\n",
              "    </tr>\n",
              "    <tr>\n",
              "      <th>16</th>\n",
              "      <td>bwIe0cOAUilZr/srSdv60A==</td>\n",
              "      <td>integrada</td>\n",
              "      <td></td>\n",
              "      <td></td>\n",
              "      <td></td>\n",
              "      <td></td>\n",
              "      <td></td>\n",
              "      <td></td>\n",
              "      <td>acondicionado</td>\n",
              "    </tr>\n",
              "    <tr>\n",
              "      <th>17</th>\n",
              "      <td>IuTGzi0HYmRM0dNlN7RvBw==</td>\n",
              "      <td>integrada</td>\n",
              "      <td></td>\n",
              "      <td></td>\n",
              "      <td></td>\n",
              "      <td></td>\n",
              "      <td>frente</td>\n",
              "      <td></td>\n",
              "      <td></td>\n",
              "    </tr>\n",
              "    <tr>\n",
              "      <th>18</th>\n",
              "      <td>WWLInAn221iNKVmqmMktyg==</td>\n",
              "      <td></td>\n",
              "      <td>parquet</td>\n",
              "      <td></td>\n",
              "      <td></td>\n",
              "      <td>independiente</td>\n",
              "      <td>frente</td>\n",
              "      <td></td>\n",
              "      <td></td>\n",
              "    </tr>\n",
              "    <tr>\n",
              "      <th>19</th>\n",
              "      <td>hPJUQzLWvtqqIts7bW3uuw==</td>\n",
              "      <td></td>\n",
              "      <td></td>\n",
              "      <td></td>\n",
              "      <td></td>\n",
              "      <td>comedor</td>\n",
              "      <td>frente</td>\n",
              "      <td></td>\n",
              "      <td></td>\n",
              "    </tr>\n",
              "  </tbody>\n",
              "</table>\n",
              "</div>\n",
              "      <button class=\"colab-df-convert\" onclick=\"convertToInteractive('df-6abb4a1d-f07c-41c8-8a03-8c7e914804ed')\"\n",
              "              title=\"Convert this dataframe to an interactive table.\"\n",
              "              style=\"display:none;\">\n",
              "        \n",
              "  <svg xmlns=\"http://www.w3.org/2000/svg\" height=\"24px\"viewBox=\"0 0 24 24\"\n",
              "       width=\"24px\">\n",
              "    <path d=\"M0 0h24v24H0V0z\" fill=\"none\"/>\n",
              "    <path d=\"M18.56 5.44l.94 2.06.94-2.06 2.06-.94-2.06-.94-.94-2.06-.94 2.06-2.06.94zm-11 1L8.5 8.5l.94-2.06 2.06-.94-2.06-.94L8.5 2.5l-.94 2.06-2.06.94zm10 10l.94 2.06.94-2.06 2.06-.94-2.06-.94-.94-2.06-.94 2.06-2.06.94z\"/><path d=\"M17.41 7.96l-1.37-1.37c-.4-.4-.92-.59-1.43-.59-.52 0-1.04.2-1.43.59L10.3 9.45l-7.72 7.72c-.78.78-.78 2.05 0 2.83L4 21.41c.39.39.9.59 1.41.59.51 0 1.02-.2 1.41-.59l7.78-7.78 2.81-2.81c.8-.78.8-2.07 0-2.86zM5.41 20L4 18.59l7.72-7.72 1.47 1.35L5.41 20z\"/>\n",
              "  </svg>\n",
              "      </button>\n",
              "      \n",
              "  <style>\n",
              "    .colab-df-container {\n",
              "      display:flex;\n",
              "      flex-wrap:wrap;\n",
              "      gap: 12px;\n",
              "    }\n",
              "\n",
              "    .colab-df-convert {\n",
              "      background-color: #E8F0FE;\n",
              "      border: none;\n",
              "      border-radius: 50%;\n",
              "      cursor: pointer;\n",
              "      display: none;\n",
              "      fill: #1967D2;\n",
              "      height: 32px;\n",
              "      padding: 0 0 0 0;\n",
              "      width: 32px;\n",
              "    }\n",
              "\n",
              "    .colab-df-convert:hover {\n",
              "      background-color: #E2EBFA;\n",
              "      box-shadow: 0px 1px 2px rgba(60, 64, 67, 0.3), 0px 1px 3px 1px rgba(60, 64, 67, 0.15);\n",
              "      fill: #174EA6;\n",
              "    }\n",
              "\n",
              "    [theme=dark] .colab-df-convert {\n",
              "      background-color: #3B4455;\n",
              "      fill: #D2E3FC;\n",
              "    }\n",
              "\n",
              "    [theme=dark] .colab-df-convert:hover {\n",
              "      background-color: #434B5C;\n",
              "      box-shadow: 0px 1px 3px 1px rgba(0, 0, 0, 0.15);\n",
              "      filter: drop-shadow(0px 1px 2px rgba(0, 0, 0, 0.3));\n",
              "      fill: #FFFFFF;\n",
              "    }\n",
              "  </style>\n",
              "\n",
              "      <script>\n",
              "        const buttonEl =\n",
              "          document.querySelector('#df-6abb4a1d-f07c-41c8-8a03-8c7e914804ed button.colab-df-convert');\n",
              "        buttonEl.style.display =\n",
              "          google.colab.kernel.accessAllowed ? 'block' : 'none';\n",
              "\n",
              "        async function convertToInteractive(key) {\n",
              "          const element = document.querySelector('#df-6abb4a1d-f07c-41c8-8a03-8c7e914804ed');\n",
              "          const dataTable =\n",
              "            await google.colab.kernel.invokeFunction('convertToInteractive',\n",
              "                                                     [key], {});\n",
              "          if (!dataTable) return;\n",
              "\n",
              "          const docLinkHtml = 'Like what you see? Visit the ' +\n",
              "            '<a target=\"_blank\" href=https://colab.research.google.com/notebooks/data_table.ipynb>data table notebook</a>'\n",
              "            + ' to learn more about interactive tables.';\n",
              "          element.innerHTML = '';\n",
              "          dataTable['output_type'] = 'display_data';\n",
              "          await google.colab.output.renderOutput(dataTable, element);\n",
              "          const docLink = document.createElement('div');\n",
              "          docLink.innerHTML = docLinkHtml;\n",
              "          element.appendChild(docLink);\n",
              "        }\n",
              "      </script>\n",
              "    </div>\n",
              "  </div>\n",
              "  "
            ]
          },
          "metadata": {},
          "execution_count": 362
        }
      ],
      "source": [
        "limpiar_values_de_aspects(aux_df, aspectos, values)\n",
        "aux_df.head(20)"
      ],
      "metadata": {
        "id": "WXhzGxCl2DpO",
        "colab": {
          "base_uri": "https://localhost:8080/",
          "height": 741
        },
        "outputId": "58544dd1-42b5-482b-f8d0-2dea6aa0e6c8"
      }
    },
    {
      "cell_type": "markdown",
      "source": [
        "Por último hacemos el merge con el dataset original, teniendo en cuenta los IDs:"
      ],
      "metadata": {
        "collapsed": false,
        "id": "Ia2LxOLq2DpP"
      }
    },
    {
      "cell_type": "code",
      "execution_count": 363,
      "outputs": [
        {
          "output_type": "execute_result",
          "data": {
            "text/plain": [
              "                          id  start_date  end_date    latitud   longitud  \\\n",
              "0   1gMQ4rXcpnPs+hhvW11Jdw==      738005    738091 -34.622385 -58.448886   \n",
              "1   p7gmyqzdOy/+odHwH5oPyg==      737817    737946 -34.618084 -58.359912   \n",
              "2   ZYkS+4dCz1vUENzAREcX9w==      738035    738035 -34.601159 -58.398106   \n",
              "3   UL/s8zoicLDXXwhaelBgFQ==      738140    738195 -34.605542 -58.390007   \n",
              "4   wnz+hkCE7RVBNcqDQEtFSw==      737868    737946 -34.593266 -58.381426   \n",
              "5   +QvrIZqpMPRxlz+ilj1LkA==      737881    737965 -34.564779 -58.505463   \n",
              "6   MGM2azMohIovCwT8jcExeQ==      737879    737907 -34.612009 -58.475824   \n",
              "7   uLDfFrhFSDasD1UObhqHmg==      737833    738127 -34.583237 -58.444843   \n",
              "8   6iHL1ay2QcrLeLh+K33ziw==      737829    737867 -34.595346 -58.445428   \n",
              "9   8J08zxRGfHVQ3dzTyopnWQ==      738099    738206 -34.599183 -58.425177   \n",
              "10  hv+iqnYbUuKS7MQkVCzkRA==      737944    737946 -34.632134 -58.464092   \n",
              "11  Lu1rSiGGMQCOTDcBWNcYfA==      738053    738223 -34.600915 -58.372506   \n",
              "12  LMqmEl4LAY5TKFXzvGlirg==      737811    737946 -34.574988 -58.420192   \n",
              "13  4ulusHTiqgbv2tElh+CCTA==      737823    737878 -34.597629 -58.433326   \n",
              "14  52xVuDOa1lH99pJZCqpl1g==      737865    737946 -34.581249 -58.410561   \n",
              "15  DUAJw7dW3XPO8hlwhgdx/w==      737854    737859 -34.573623 -58.421204   \n",
              "16  bwIe0cOAUilZr/srSdv60A==      738027    738037 -34.578090 -58.489813   \n",
              "17  IuTGzi0HYmRM0dNlN7RvBw==      737921    738007 -34.541875 -58.463895   \n",
              "18  WWLInAn221iNKVmqmMktyg==      737987    738417 -34.604974 -58.459013   \n",
              "19  hPJUQzLWvtqqIts7bW3uuw==      737844    737960 -34.635498 -58.374099   \n",
              "\n",
              "            place_l4 property_type  property_rooms  property_surface_total  \\\n",
              "0          Caballito  Departamento             4.0                   113.0   \n",
              "1      Puerto Madero  Departamento             2.0                    70.0   \n",
              "2          Balvanera  Departamento             1.0                    33.0   \n",
              "3        San Nicolás  Departamento             1.0                    30.0   \n",
              "4             Retiro  Departamento             1.0                    40.0   \n",
              "5      Villa Urquiza            PH             6.0                   184.0   \n",
              "6   Villa del Parque          Casa             5.0                   320.0   \n",
              "7         Colegiales  Departamento             2.0                    63.0   \n",
              "8       Villa Crespo  Departamento             3.0                    72.0   \n",
              "9            Almagro  Departamento             3.0                    65.0   \n",
              "10            Flores  Departamento             3.0                    72.0   \n",
              "11       San Nicolás  Departamento             2.0                    38.0   \n",
              "12           Palermo  Departamento             3.0                   100.0   \n",
              "13      Villa Crespo  Departamento             3.0                    65.0   \n",
              "14     Palermo Chico  Departamento             3.0                    78.0   \n",
              "15           Palermo  Departamento             4.0                   140.0   \n",
              "16     Villa Urquiza  Departamento             3.0                    75.0   \n",
              "17             Nuñez  Departamento             2.0                    56.0   \n",
              "18      Villa Crespo  Departamento             3.0                    70.0   \n",
              "19          Barracas  Departamento             4.0                   108.0   \n",
              "\n",
              "    property_price     cocina    pisos calefaccion   expensas       lavadero  \\\n",
              "0         288000.0                                  impuestos                  \n",
              "1         450000.0                                                             \n",
              "2          77243.0                                                             \n",
              "3          65000.0                                                             \n",
              "4          79000.0                                                             \n",
              "5         350000.0  integrada                                  independiente   \n",
              "6         450000.0                                                             \n",
              "7         199000.0   lavadero                                  independiente   \n",
              "8         145000.0                                      bajas                  \n",
              "9         190000.0                        radiante                             \n",
              "10        139900.0                                                             \n",
              "11         57800.0   lavadero                                         cocina   \n",
              "12        600000.0                        radiante                             \n",
              "13        155000.0             parquet  individual                             \n",
              "14        270000.0   lavadero             radiante                    cocina   \n",
              "15        798000.0   lavadero                                  independiente   \n",
              "16        205000.0  integrada                                                  \n",
              "17        150000.0  integrada                                                  \n",
              "18        148000.0             parquet                         independiente   \n",
              "19        239000.0                                                   comedor   \n",
              "\n",
              "     balcon cochera           aire  \n",
              "0   terraza                         \n",
              "1    amplio                         \n",
              "2                                   \n",
              "3                    acondicionado  \n",
              "4                                   \n",
              "5                                   \n",
              "6                                   \n",
              "7    frente          acondicionado  \n",
              "8                                   \n",
              "9    salida                         \n",
              "10   frente          acondicionado  \n",
              "11                                  \n",
              "12             fija  acondicionado  \n",
              "13   frente          acondicionado  \n",
              "14   salida                         \n",
              "15  terraza    fija                 \n",
              "16                   acondicionado  \n",
              "17   frente                         \n",
              "18   frente                         \n",
              "19   frente                         "
            ],
            "text/html": [
              "\n",
              "  <div id=\"df-351a1688-6dd1-4761-a17e-4b0731c019bb\">\n",
              "    <div class=\"colab-df-container\">\n",
              "      <div>\n",
              "<style scoped>\n",
              "    .dataframe tbody tr th:only-of-type {\n",
              "        vertical-align: middle;\n",
              "    }\n",
              "\n",
              "    .dataframe tbody tr th {\n",
              "        vertical-align: top;\n",
              "    }\n",
              "\n",
              "    .dataframe thead th {\n",
              "        text-align: right;\n",
              "    }\n",
              "</style>\n",
              "<table border=\"1\" class=\"dataframe\">\n",
              "  <thead>\n",
              "    <tr style=\"text-align: right;\">\n",
              "      <th></th>\n",
              "      <th>id</th>\n",
              "      <th>start_date</th>\n",
              "      <th>end_date</th>\n",
              "      <th>latitud</th>\n",
              "      <th>longitud</th>\n",
              "      <th>place_l4</th>\n",
              "      <th>property_type</th>\n",
              "      <th>property_rooms</th>\n",
              "      <th>property_surface_total</th>\n",
              "      <th>property_price</th>\n",
              "      <th>cocina</th>\n",
              "      <th>pisos</th>\n",
              "      <th>calefaccion</th>\n",
              "      <th>expensas</th>\n",
              "      <th>lavadero</th>\n",
              "      <th>balcon</th>\n",
              "      <th>cochera</th>\n",
              "      <th>aire</th>\n",
              "    </tr>\n",
              "  </thead>\n",
              "  <tbody>\n",
              "    <tr>\n",
              "      <th>0</th>\n",
              "      <td>1gMQ4rXcpnPs+hhvW11Jdw==</td>\n",
              "      <td>738005</td>\n",
              "      <td>738091</td>\n",
              "      <td>-34.622385</td>\n",
              "      <td>-58.448886</td>\n",
              "      <td>Caballito</td>\n",
              "      <td>Departamento</td>\n",
              "      <td>4.0</td>\n",
              "      <td>113.0</td>\n",
              "      <td>288000.0</td>\n",
              "      <td></td>\n",
              "      <td></td>\n",
              "      <td></td>\n",
              "      <td>impuestos</td>\n",
              "      <td></td>\n",
              "      <td>terraza</td>\n",
              "      <td></td>\n",
              "      <td></td>\n",
              "    </tr>\n",
              "    <tr>\n",
              "      <th>1</th>\n",
              "      <td>p7gmyqzdOy/+odHwH5oPyg==</td>\n",
              "      <td>737817</td>\n",
              "      <td>737946</td>\n",
              "      <td>-34.618084</td>\n",
              "      <td>-58.359912</td>\n",
              "      <td>Puerto Madero</td>\n",
              "      <td>Departamento</td>\n",
              "      <td>2.0</td>\n",
              "      <td>70.0</td>\n",
              "      <td>450000.0</td>\n",
              "      <td></td>\n",
              "      <td></td>\n",
              "      <td></td>\n",
              "      <td></td>\n",
              "      <td></td>\n",
              "      <td>amplio</td>\n",
              "      <td></td>\n",
              "      <td></td>\n",
              "    </tr>\n",
              "    <tr>\n",
              "      <th>2</th>\n",
              "      <td>ZYkS+4dCz1vUENzAREcX9w==</td>\n",
              "      <td>738035</td>\n",
              "      <td>738035</td>\n",
              "      <td>-34.601159</td>\n",
              "      <td>-58.398106</td>\n",
              "      <td>Balvanera</td>\n",
              "      <td>Departamento</td>\n",
              "      <td>1.0</td>\n",
              "      <td>33.0</td>\n",
              "      <td>77243.0</td>\n",
              "      <td></td>\n",
              "      <td></td>\n",
              "      <td></td>\n",
              "      <td></td>\n",
              "      <td></td>\n",
              "      <td></td>\n",
              "      <td></td>\n",
              "      <td></td>\n",
              "    </tr>\n",
              "    <tr>\n",
              "      <th>3</th>\n",
              "      <td>UL/s8zoicLDXXwhaelBgFQ==</td>\n",
              "      <td>738140</td>\n",
              "      <td>738195</td>\n",
              "      <td>-34.605542</td>\n",
              "      <td>-58.390007</td>\n",
              "      <td>San Nicolás</td>\n",
              "      <td>Departamento</td>\n",
              "      <td>1.0</td>\n",
              "      <td>30.0</td>\n",
              "      <td>65000.0</td>\n",
              "      <td></td>\n",
              "      <td></td>\n",
              "      <td></td>\n",
              "      <td></td>\n",
              "      <td></td>\n",
              "      <td></td>\n",
              "      <td></td>\n",
              "      <td>acondicionado</td>\n",
              "    </tr>\n",
              "    <tr>\n",
              "      <th>4</th>\n",
              "      <td>wnz+hkCE7RVBNcqDQEtFSw==</td>\n",
              "      <td>737868</td>\n",
              "      <td>737946</td>\n",
              "      <td>-34.593266</td>\n",
              "      <td>-58.381426</td>\n",
              "      <td>Retiro</td>\n",
              "      <td>Departamento</td>\n",
              "      <td>1.0</td>\n",
              "      <td>40.0</td>\n",
              "      <td>79000.0</td>\n",
              "      <td></td>\n",
              "      <td></td>\n",
              "      <td></td>\n",
              "      <td></td>\n",
              "      <td></td>\n",
              "      <td></td>\n",
              "      <td></td>\n",
              "      <td></td>\n",
              "    </tr>\n",
              "    <tr>\n",
              "      <th>5</th>\n",
              "      <td>+QvrIZqpMPRxlz+ilj1LkA==</td>\n",
              "      <td>737881</td>\n",
              "      <td>737965</td>\n",
              "      <td>-34.564779</td>\n",
              "      <td>-58.505463</td>\n",
              "      <td>Villa Urquiza</td>\n",
              "      <td>PH</td>\n",
              "      <td>6.0</td>\n",
              "      <td>184.0</td>\n",
              "      <td>350000.0</td>\n",
              "      <td>integrada</td>\n",
              "      <td></td>\n",
              "      <td></td>\n",
              "      <td></td>\n",
              "      <td>independiente</td>\n",
              "      <td></td>\n",
              "      <td></td>\n",
              "      <td></td>\n",
              "    </tr>\n",
              "    <tr>\n",
              "      <th>6</th>\n",
              "      <td>MGM2azMohIovCwT8jcExeQ==</td>\n",
              "      <td>737879</td>\n",
              "      <td>737907</td>\n",
              "      <td>-34.612009</td>\n",
              "      <td>-58.475824</td>\n",
              "      <td>Villa del Parque</td>\n",
              "      <td>Casa</td>\n",
              "      <td>5.0</td>\n",
              "      <td>320.0</td>\n",
              "      <td>450000.0</td>\n",
              "      <td></td>\n",
              "      <td></td>\n",
              "      <td></td>\n",
              "      <td></td>\n",
              "      <td></td>\n",
              "      <td></td>\n",
              "      <td></td>\n",
              "      <td></td>\n",
              "    </tr>\n",
              "    <tr>\n",
              "      <th>7</th>\n",
              "      <td>uLDfFrhFSDasD1UObhqHmg==</td>\n",
              "      <td>737833</td>\n",
              "      <td>738127</td>\n",
              "      <td>-34.583237</td>\n",
              "      <td>-58.444843</td>\n",
              "      <td>Colegiales</td>\n",
              "      <td>Departamento</td>\n",
              "      <td>2.0</td>\n",
              "      <td>63.0</td>\n",
              "      <td>199000.0</td>\n",
              "      <td>lavadero</td>\n",
              "      <td></td>\n",
              "      <td></td>\n",
              "      <td></td>\n",
              "      <td>independiente</td>\n",
              "      <td>frente</td>\n",
              "      <td></td>\n",
              "      <td>acondicionado</td>\n",
              "    </tr>\n",
              "    <tr>\n",
              "      <th>8</th>\n",
              "      <td>6iHL1ay2QcrLeLh+K33ziw==</td>\n",
              "      <td>737829</td>\n",
              "      <td>737867</td>\n",
              "      <td>-34.595346</td>\n",
              "      <td>-58.445428</td>\n",
              "      <td>Villa Crespo</td>\n",
              "      <td>Departamento</td>\n",
              "      <td>3.0</td>\n",
              "      <td>72.0</td>\n",
              "      <td>145000.0</td>\n",
              "      <td></td>\n",
              "      <td></td>\n",
              "      <td></td>\n",
              "      <td>bajas</td>\n",
              "      <td></td>\n",
              "      <td></td>\n",
              "      <td></td>\n",
              "      <td></td>\n",
              "    </tr>\n",
              "    <tr>\n",
              "      <th>9</th>\n",
              "      <td>8J08zxRGfHVQ3dzTyopnWQ==</td>\n",
              "      <td>738099</td>\n",
              "      <td>738206</td>\n",
              "      <td>-34.599183</td>\n",
              "      <td>-58.425177</td>\n",
              "      <td>Almagro</td>\n",
              "      <td>Departamento</td>\n",
              "      <td>3.0</td>\n",
              "      <td>65.0</td>\n",
              "      <td>190000.0</td>\n",
              "      <td></td>\n",
              "      <td></td>\n",
              "      <td>radiante</td>\n",
              "      <td></td>\n",
              "      <td></td>\n",
              "      <td>salida</td>\n",
              "      <td></td>\n",
              "      <td></td>\n",
              "    </tr>\n",
              "    <tr>\n",
              "      <th>10</th>\n",
              "      <td>hv+iqnYbUuKS7MQkVCzkRA==</td>\n",
              "      <td>737944</td>\n",
              "      <td>737946</td>\n",
              "      <td>-34.632134</td>\n",
              "      <td>-58.464092</td>\n",
              "      <td>Flores</td>\n",
              "      <td>Departamento</td>\n",
              "      <td>3.0</td>\n",
              "      <td>72.0</td>\n",
              "      <td>139900.0</td>\n",
              "      <td></td>\n",
              "      <td></td>\n",
              "      <td></td>\n",
              "      <td></td>\n",
              "      <td></td>\n",
              "      <td>frente</td>\n",
              "      <td></td>\n",
              "      <td>acondicionado</td>\n",
              "    </tr>\n",
              "    <tr>\n",
              "      <th>11</th>\n",
              "      <td>Lu1rSiGGMQCOTDcBWNcYfA==</td>\n",
              "      <td>738053</td>\n",
              "      <td>738223</td>\n",
              "      <td>-34.600915</td>\n",
              "      <td>-58.372506</td>\n",
              "      <td>San Nicolás</td>\n",
              "      <td>Departamento</td>\n",
              "      <td>2.0</td>\n",
              "      <td>38.0</td>\n",
              "      <td>57800.0</td>\n",
              "      <td>lavadero</td>\n",
              "      <td></td>\n",
              "      <td></td>\n",
              "      <td></td>\n",
              "      <td>cocina</td>\n",
              "      <td></td>\n",
              "      <td></td>\n",
              "      <td></td>\n",
              "    </tr>\n",
              "    <tr>\n",
              "      <th>12</th>\n",
              "      <td>LMqmEl4LAY5TKFXzvGlirg==</td>\n",
              "      <td>737811</td>\n",
              "      <td>737946</td>\n",
              "      <td>-34.574988</td>\n",
              "      <td>-58.420192</td>\n",
              "      <td>Palermo</td>\n",
              "      <td>Departamento</td>\n",
              "      <td>3.0</td>\n",
              "      <td>100.0</td>\n",
              "      <td>600000.0</td>\n",
              "      <td></td>\n",
              "      <td></td>\n",
              "      <td>radiante</td>\n",
              "      <td></td>\n",
              "      <td></td>\n",
              "      <td></td>\n",
              "      <td>fija</td>\n",
              "      <td>acondicionado</td>\n",
              "    </tr>\n",
              "    <tr>\n",
              "      <th>13</th>\n",
              "      <td>4ulusHTiqgbv2tElh+CCTA==</td>\n",
              "      <td>737823</td>\n",
              "      <td>737878</td>\n",
              "      <td>-34.597629</td>\n",
              "      <td>-58.433326</td>\n",
              "      <td>Villa Crespo</td>\n",
              "      <td>Departamento</td>\n",
              "      <td>3.0</td>\n",
              "      <td>65.0</td>\n",
              "      <td>155000.0</td>\n",
              "      <td></td>\n",
              "      <td>parquet</td>\n",
              "      <td>individual</td>\n",
              "      <td></td>\n",
              "      <td></td>\n",
              "      <td>frente</td>\n",
              "      <td></td>\n",
              "      <td>acondicionado</td>\n",
              "    </tr>\n",
              "    <tr>\n",
              "      <th>14</th>\n",
              "      <td>52xVuDOa1lH99pJZCqpl1g==</td>\n",
              "      <td>737865</td>\n",
              "      <td>737946</td>\n",
              "      <td>-34.581249</td>\n",
              "      <td>-58.410561</td>\n",
              "      <td>Palermo Chico</td>\n",
              "      <td>Departamento</td>\n",
              "      <td>3.0</td>\n",
              "      <td>78.0</td>\n",
              "      <td>270000.0</td>\n",
              "      <td>lavadero</td>\n",
              "      <td></td>\n",
              "      <td>radiante</td>\n",
              "      <td></td>\n",
              "      <td>cocina</td>\n",
              "      <td>salida</td>\n",
              "      <td></td>\n",
              "      <td></td>\n",
              "    </tr>\n",
              "    <tr>\n",
              "      <th>15</th>\n",
              "      <td>DUAJw7dW3XPO8hlwhgdx/w==</td>\n",
              "      <td>737854</td>\n",
              "      <td>737859</td>\n",
              "      <td>-34.573623</td>\n",
              "      <td>-58.421204</td>\n",
              "      <td>Palermo</td>\n",
              "      <td>Departamento</td>\n",
              "      <td>4.0</td>\n",
              "      <td>140.0</td>\n",
              "      <td>798000.0</td>\n",
              "      <td>lavadero</td>\n",
              "      <td></td>\n",
              "      <td></td>\n",
              "      <td></td>\n",
              "      <td>independiente</td>\n",
              "      <td>terraza</td>\n",
              "      <td>fija</td>\n",
              "      <td></td>\n",
              "    </tr>\n",
              "    <tr>\n",
              "      <th>16</th>\n",
              "      <td>bwIe0cOAUilZr/srSdv60A==</td>\n",
              "      <td>738027</td>\n",
              "      <td>738037</td>\n",
              "      <td>-34.578090</td>\n",
              "      <td>-58.489813</td>\n",
              "      <td>Villa Urquiza</td>\n",
              "      <td>Departamento</td>\n",
              "      <td>3.0</td>\n",
              "      <td>75.0</td>\n",
              "      <td>205000.0</td>\n",
              "      <td>integrada</td>\n",
              "      <td></td>\n",
              "      <td></td>\n",
              "      <td></td>\n",
              "      <td></td>\n",
              "      <td></td>\n",
              "      <td></td>\n",
              "      <td>acondicionado</td>\n",
              "    </tr>\n",
              "    <tr>\n",
              "      <th>17</th>\n",
              "      <td>IuTGzi0HYmRM0dNlN7RvBw==</td>\n",
              "      <td>737921</td>\n",
              "      <td>738007</td>\n",
              "      <td>-34.541875</td>\n",
              "      <td>-58.463895</td>\n",
              "      <td>Nuñez</td>\n",
              "      <td>Departamento</td>\n",
              "      <td>2.0</td>\n",
              "      <td>56.0</td>\n",
              "      <td>150000.0</td>\n",
              "      <td>integrada</td>\n",
              "      <td></td>\n",
              "      <td></td>\n",
              "      <td></td>\n",
              "      <td></td>\n",
              "      <td>frente</td>\n",
              "      <td></td>\n",
              "      <td></td>\n",
              "    </tr>\n",
              "    <tr>\n",
              "      <th>18</th>\n",
              "      <td>WWLInAn221iNKVmqmMktyg==</td>\n",
              "      <td>737987</td>\n",
              "      <td>738417</td>\n",
              "      <td>-34.604974</td>\n",
              "      <td>-58.459013</td>\n",
              "      <td>Villa Crespo</td>\n",
              "      <td>Departamento</td>\n",
              "      <td>3.0</td>\n",
              "      <td>70.0</td>\n",
              "      <td>148000.0</td>\n",
              "      <td></td>\n",
              "      <td>parquet</td>\n",
              "      <td></td>\n",
              "      <td></td>\n",
              "      <td>independiente</td>\n",
              "      <td>frente</td>\n",
              "      <td></td>\n",
              "      <td></td>\n",
              "    </tr>\n",
              "    <tr>\n",
              "      <th>19</th>\n",
              "      <td>hPJUQzLWvtqqIts7bW3uuw==</td>\n",
              "      <td>737844</td>\n",
              "      <td>737960</td>\n",
              "      <td>-34.635498</td>\n",
              "      <td>-58.374099</td>\n",
              "      <td>Barracas</td>\n",
              "      <td>Departamento</td>\n",
              "      <td>4.0</td>\n",
              "      <td>108.0</td>\n",
              "      <td>239000.0</td>\n",
              "      <td></td>\n",
              "      <td></td>\n",
              "      <td></td>\n",
              "      <td></td>\n",
              "      <td>comedor</td>\n",
              "      <td>frente</td>\n",
              "      <td></td>\n",
              "      <td></td>\n",
              "    </tr>\n",
              "  </tbody>\n",
              "</table>\n",
              "</div>\n",
              "      <button class=\"colab-df-convert\" onclick=\"convertToInteractive('df-351a1688-6dd1-4761-a17e-4b0731c019bb')\"\n",
              "              title=\"Convert this dataframe to an interactive table.\"\n",
              "              style=\"display:none;\">\n",
              "        \n",
              "  <svg xmlns=\"http://www.w3.org/2000/svg\" height=\"24px\"viewBox=\"0 0 24 24\"\n",
              "       width=\"24px\">\n",
              "    <path d=\"M0 0h24v24H0V0z\" fill=\"none\"/>\n",
              "    <path d=\"M18.56 5.44l.94 2.06.94-2.06 2.06-.94-2.06-.94-.94-2.06-.94 2.06-2.06.94zm-11 1L8.5 8.5l.94-2.06 2.06-.94-2.06-.94L8.5 2.5l-.94 2.06-2.06.94zm10 10l.94 2.06.94-2.06 2.06-.94-2.06-.94-.94-2.06-.94 2.06-2.06.94z\"/><path d=\"M17.41 7.96l-1.37-1.37c-.4-.4-.92-.59-1.43-.59-.52 0-1.04.2-1.43.59L10.3 9.45l-7.72 7.72c-.78.78-.78 2.05 0 2.83L4 21.41c.39.39.9.59 1.41.59.51 0 1.02-.2 1.41-.59l7.78-7.78 2.81-2.81c.8-.78.8-2.07 0-2.86zM5.41 20L4 18.59l7.72-7.72 1.47 1.35L5.41 20z\"/>\n",
              "  </svg>\n",
              "      </button>\n",
              "      \n",
              "  <style>\n",
              "    .colab-df-container {\n",
              "      display:flex;\n",
              "      flex-wrap:wrap;\n",
              "      gap: 12px;\n",
              "    }\n",
              "\n",
              "    .colab-df-convert {\n",
              "      background-color: #E8F0FE;\n",
              "      border: none;\n",
              "      border-radius: 50%;\n",
              "      cursor: pointer;\n",
              "      display: none;\n",
              "      fill: #1967D2;\n",
              "      height: 32px;\n",
              "      padding: 0 0 0 0;\n",
              "      width: 32px;\n",
              "    }\n",
              "\n",
              "    .colab-df-convert:hover {\n",
              "      background-color: #E2EBFA;\n",
              "      box-shadow: 0px 1px 2px rgba(60, 64, 67, 0.3), 0px 1px 3px 1px rgba(60, 64, 67, 0.15);\n",
              "      fill: #174EA6;\n",
              "    }\n",
              "\n",
              "    [theme=dark] .colab-df-convert {\n",
              "      background-color: #3B4455;\n",
              "      fill: #D2E3FC;\n",
              "    }\n",
              "\n",
              "    [theme=dark] .colab-df-convert:hover {\n",
              "      background-color: #434B5C;\n",
              "      box-shadow: 0px 1px 3px 1px rgba(0, 0, 0, 0.15);\n",
              "      filter: drop-shadow(0px 1px 2px rgba(0, 0, 0, 0.3));\n",
              "      fill: #FFFFFF;\n",
              "    }\n",
              "  </style>\n",
              "\n",
              "      <script>\n",
              "        const buttonEl =\n",
              "          document.querySelector('#df-351a1688-6dd1-4761-a17e-4b0731c019bb button.colab-df-convert');\n",
              "        buttonEl.style.display =\n",
              "          google.colab.kernel.accessAllowed ? 'block' : 'none';\n",
              "\n",
              "        async function convertToInteractive(key) {\n",
              "          const element = document.querySelector('#df-351a1688-6dd1-4761-a17e-4b0731c019bb');\n",
              "          const dataTable =\n",
              "            await google.colab.kernel.invokeFunction('convertToInteractive',\n",
              "                                                     [key], {});\n",
              "          if (!dataTable) return;\n",
              "\n",
              "          const docLinkHtml = 'Like what you see? Visit the ' +\n",
              "            '<a target=\"_blank\" href=https://colab.research.google.com/notebooks/data_table.ipynb>data table notebook</a>'\n",
              "            + ' to learn more about interactive tables.';\n",
              "          element.innerHTML = '';\n",
              "          dataTable['output_type'] = 'display_data';\n",
              "          await google.colab.output.renderOutput(dataTable, element);\n",
              "          const docLink = document.createElement('div');\n",
              "          docLink.innerHTML = docLinkHtml;\n",
              "          element.appendChild(docLink);\n",
              "        }\n",
              "      </script>\n",
              "    </div>\n",
              "  </div>\n",
              "  "
            ]
          },
          "metadata": {},
          "execution_count": 363
        }
      ],
      "source": [
        "df = properati.copy()\n",
        "df = pd.merge(df,aux_df, on=\"id\")\n",
        "df.head(20)"
      ],
      "metadata": {
        "id": "I2x-X60t2DpP",
        "colab": {
          "base_uri": "https://localhost:8080/",
          "height": 914
        },
        "outputId": "9f078de9-6dd0-465b-e55e-44a9bebed607"
      }
    },
    {
      "cell_type": "markdown",
      "source": [
        "#### Exportación de Datos"
      ],
      "metadata": {
        "id": "rN3FutIEHrf2"
      }
    },
    {
      "cell_type": "markdown",
      "source": [
        "Exportamos los datasets generados:"
      ],
      "metadata": {
        "id": "xd-CoUsZHtL9"
      }
    },
    {
      "cell_type": "code",
      "source": [
        "if IN_COLAB:\n",
        "  path = '/content/drive/MyDrive/📔 Organización de Datos (75.06)/TPS/TP2/DATASETS/1a_df_nostopwords.csv'\n",
        "else:\n",
        "  path = 'DATASETS/1a_df_nostopwords.csv'\n",
        "\n",
        "df_nostopwords.to_csv(path)"
      ],
      "metadata": {
        "id": "qr1jlB8QH16Z"
      },
      "execution_count": 364,
      "outputs": []
    },
    {
      "cell_type": "code",
      "source": [
        "if IN_COLAB:\n",
        "  path = '/content/drive/MyDrive/📔 Organización de Datos (75.06)/TPS/TP2/DATASETS/1a_df_ampliado.csv'\n",
        "else:\n",
        "  path = 'DATASETS/1a_df_ampliado.csv'\n",
        "\n",
        "df.to_csv(path)"
      ],
      "metadata": {
        "id": "QTsLoqr-IHOX"
      },
      "execution_count": 365,
      "outputs": []
    },
    {
      "cell_type": "markdown",
      "source": [
        "### 1.b Modelos\n",
        "___"
      ],
      "metadata": {
        "collapsed": false,
        "id": "fI1Fi95S2DpP"
      }
    },
    {
      "cell_type": "markdown",
      "source": [
        "#### Sin optimización de hiperparámetros"
      ],
      "metadata": {
        "id": "ldOrNGnEaE5H"
      }
    },
    {
      "cell_type": "markdown",
      "source": [
        "Entrenemos un modelo de XGBoost con los mismos hiperparámetros utilizados en el TP1."
      ],
      "metadata": {
        "id": "a2X0YkeUUL1X"
      }
    },
    {
      "cell_type": "markdown",
      "source": [
        "En esta línea, cargamos en memoria el modelo efectivamente utilizado:"
      ],
      "metadata": {
        "id": "8Yayhjd5UeFF"
      }
    },
    {
      "cell_type": "code",
      "source": [
        "if IN_COLAB:\n",
        "  path = '/content/drive/MyDrive/📔 Organización de Datos (75.06)/TPS/TP1/MODELOS/XGB_Regressor_Train.joblib'\n",
        "else:\n",
        "  path = './MODELOS/XGB_Regressor_Train.joblib'\n",
        "\n",
        "XGB_Regressor_TP1 = load(path)"
      ],
      "metadata": {
        "id": "4Dy4yjqVStRM",
        "colab": {
          "base_uri": "https://localhost:8080/"
        },
        "outputId": "72538de3-57cb-414a-b6f9-92742bb1090c"
      },
      "execution_count": 366,
      "outputs": [
        {
          "output_type": "stream",
          "name": "stdout",
          "text": [
            "[02:19:00] WARNING: /workspace/src/objective/regression_obj.cu:152: reg:linear is now deprecated in favor of reg:squarederror.\n"
          ]
        }
      ]
    },
    {
      "cell_type": "markdown",
      "source": [
        "Realizamos One Hot Encoding para las variables cualitativas:"
      ],
      "metadata": {
        "collapsed": false,
        "id": "WqUMr9_r2DpQ"
      }
    },
    {
      "cell_type": "code",
      "execution_count": 367,
      "outputs": [
        {
          "output_type": "execute_result",
          "data": {
            "text/plain": [
              "                         id  start_date  end_date    latitud   longitud  \\\n",
              "0  1gMQ4rXcpnPs+hhvW11Jdw==      738005    738091 -34.622385 -58.448886   \n",
              "1  p7gmyqzdOy/+odHwH5oPyg==      737817    737946 -34.618084 -58.359912   \n",
              "2  ZYkS+4dCz1vUENzAREcX9w==      738035    738035 -34.601159 -58.398106   \n",
              "3  UL/s8zoicLDXXwhaelBgFQ==      738140    738195 -34.605542 -58.390007   \n",
              "4  wnz+hkCE7RVBNcqDQEtFSw==      737868    737946 -34.593266 -58.381426   \n",
              "\n",
              "   property_rooms  property_surface_total  property_price  place_l4_Agronomía  \\\n",
              "0             4.0                   113.0        288000.0                   0   \n",
              "1             2.0                    70.0        450000.0                   0   \n",
              "2             1.0                    33.0         77243.0                   0   \n",
              "3             1.0                    30.0         65000.0                   0   \n",
              "4             1.0                    40.0         79000.0                   0   \n",
              "\n",
              "   place_l4_Almagro  ...  balcon_corrido  balcon_frente  balcon_luminoso  \\\n",
              "0                 0  ...               0              0                0   \n",
              "1                 0  ...               0              0                0   \n",
              "2                 0  ...               0              0                0   \n",
              "3                 0  ...               0              0                0   \n",
              "4                 0  ...               0              0                0   \n",
              "\n",
              "   balcon_salida  balcon_terraza  cochera_cubierta  cochera_fija  \\\n",
              "0              0               1                 0             0   \n",
              "1              0               0                 0             0   \n",
              "2              0               0                 0             0   \n",
              "3              0               0                 0             0   \n",
              "4              0               0                 0             0   \n",
              "\n",
              "   aire_acondicionado  aire_central  aire_split  \n",
              "0                   0             0           0  \n",
              "1                   0             0           0  \n",
              "2                   0             0           0  \n",
              "3                   1             0           0  \n",
              "4                   0             0           0  \n",
              "\n",
              "[5 rows x 97 columns]"
            ],
            "text/html": [
              "\n",
              "  <div id=\"df-929130b5-5ff6-406d-a380-9a1e2e3fbe9e\">\n",
              "    <div class=\"colab-df-container\">\n",
              "      <div>\n",
              "<style scoped>\n",
              "    .dataframe tbody tr th:only-of-type {\n",
              "        vertical-align: middle;\n",
              "    }\n",
              "\n",
              "    .dataframe tbody tr th {\n",
              "        vertical-align: top;\n",
              "    }\n",
              "\n",
              "    .dataframe thead th {\n",
              "        text-align: right;\n",
              "    }\n",
              "</style>\n",
              "<table border=\"1\" class=\"dataframe\">\n",
              "  <thead>\n",
              "    <tr style=\"text-align: right;\">\n",
              "      <th></th>\n",
              "      <th>id</th>\n",
              "      <th>start_date</th>\n",
              "      <th>end_date</th>\n",
              "      <th>latitud</th>\n",
              "      <th>longitud</th>\n",
              "      <th>property_rooms</th>\n",
              "      <th>property_surface_total</th>\n",
              "      <th>property_price</th>\n",
              "      <th>place_l4_Agronomía</th>\n",
              "      <th>place_l4_Almagro</th>\n",
              "      <th>...</th>\n",
              "      <th>balcon_corrido</th>\n",
              "      <th>balcon_frente</th>\n",
              "      <th>balcon_luminoso</th>\n",
              "      <th>balcon_salida</th>\n",
              "      <th>balcon_terraza</th>\n",
              "      <th>cochera_cubierta</th>\n",
              "      <th>cochera_fija</th>\n",
              "      <th>aire_acondicionado</th>\n",
              "      <th>aire_central</th>\n",
              "      <th>aire_split</th>\n",
              "    </tr>\n",
              "  </thead>\n",
              "  <tbody>\n",
              "    <tr>\n",
              "      <th>0</th>\n",
              "      <td>1gMQ4rXcpnPs+hhvW11Jdw==</td>\n",
              "      <td>738005</td>\n",
              "      <td>738091</td>\n",
              "      <td>-34.622385</td>\n",
              "      <td>-58.448886</td>\n",
              "      <td>4.0</td>\n",
              "      <td>113.0</td>\n",
              "      <td>288000.0</td>\n",
              "      <td>0</td>\n",
              "      <td>0</td>\n",
              "      <td>...</td>\n",
              "      <td>0</td>\n",
              "      <td>0</td>\n",
              "      <td>0</td>\n",
              "      <td>0</td>\n",
              "      <td>1</td>\n",
              "      <td>0</td>\n",
              "      <td>0</td>\n",
              "      <td>0</td>\n",
              "      <td>0</td>\n",
              "      <td>0</td>\n",
              "    </tr>\n",
              "    <tr>\n",
              "      <th>1</th>\n",
              "      <td>p7gmyqzdOy/+odHwH5oPyg==</td>\n",
              "      <td>737817</td>\n",
              "      <td>737946</td>\n",
              "      <td>-34.618084</td>\n",
              "      <td>-58.359912</td>\n",
              "      <td>2.0</td>\n",
              "      <td>70.0</td>\n",
              "      <td>450000.0</td>\n",
              "      <td>0</td>\n",
              "      <td>0</td>\n",
              "      <td>...</td>\n",
              "      <td>0</td>\n",
              "      <td>0</td>\n",
              "      <td>0</td>\n",
              "      <td>0</td>\n",
              "      <td>0</td>\n",
              "      <td>0</td>\n",
              "      <td>0</td>\n",
              "      <td>0</td>\n",
              "      <td>0</td>\n",
              "      <td>0</td>\n",
              "    </tr>\n",
              "    <tr>\n",
              "      <th>2</th>\n",
              "      <td>ZYkS+4dCz1vUENzAREcX9w==</td>\n",
              "      <td>738035</td>\n",
              "      <td>738035</td>\n",
              "      <td>-34.601159</td>\n",
              "      <td>-58.398106</td>\n",
              "      <td>1.0</td>\n",
              "      <td>33.0</td>\n",
              "      <td>77243.0</td>\n",
              "      <td>0</td>\n",
              "      <td>0</td>\n",
              "      <td>...</td>\n",
              "      <td>0</td>\n",
              "      <td>0</td>\n",
              "      <td>0</td>\n",
              "      <td>0</td>\n",
              "      <td>0</td>\n",
              "      <td>0</td>\n",
              "      <td>0</td>\n",
              "      <td>0</td>\n",
              "      <td>0</td>\n",
              "      <td>0</td>\n",
              "    </tr>\n",
              "    <tr>\n",
              "      <th>3</th>\n",
              "      <td>UL/s8zoicLDXXwhaelBgFQ==</td>\n",
              "      <td>738140</td>\n",
              "      <td>738195</td>\n",
              "      <td>-34.605542</td>\n",
              "      <td>-58.390007</td>\n",
              "      <td>1.0</td>\n",
              "      <td>30.0</td>\n",
              "      <td>65000.0</td>\n",
              "      <td>0</td>\n",
              "      <td>0</td>\n",
              "      <td>...</td>\n",
              "      <td>0</td>\n",
              "      <td>0</td>\n",
              "      <td>0</td>\n",
              "      <td>0</td>\n",
              "      <td>0</td>\n",
              "      <td>0</td>\n",
              "      <td>0</td>\n",
              "      <td>1</td>\n",
              "      <td>0</td>\n",
              "      <td>0</td>\n",
              "    </tr>\n",
              "    <tr>\n",
              "      <th>4</th>\n",
              "      <td>wnz+hkCE7RVBNcqDQEtFSw==</td>\n",
              "      <td>737868</td>\n",
              "      <td>737946</td>\n",
              "      <td>-34.593266</td>\n",
              "      <td>-58.381426</td>\n",
              "      <td>1.0</td>\n",
              "      <td>40.0</td>\n",
              "      <td>79000.0</td>\n",
              "      <td>0</td>\n",
              "      <td>0</td>\n",
              "      <td>...</td>\n",
              "      <td>0</td>\n",
              "      <td>0</td>\n",
              "      <td>0</td>\n",
              "      <td>0</td>\n",
              "      <td>0</td>\n",
              "      <td>0</td>\n",
              "      <td>0</td>\n",
              "      <td>0</td>\n",
              "      <td>0</td>\n",
              "      <td>0</td>\n",
              "    </tr>\n",
              "  </tbody>\n",
              "</table>\n",
              "<p>5 rows × 97 columns</p>\n",
              "</div>\n",
              "      <button class=\"colab-df-convert\" onclick=\"convertToInteractive('df-929130b5-5ff6-406d-a380-9a1e2e3fbe9e')\"\n",
              "              title=\"Convert this dataframe to an interactive table.\"\n",
              "              style=\"display:none;\">\n",
              "        \n",
              "  <svg xmlns=\"http://www.w3.org/2000/svg\" height=\"24px\"viewBox=\"0 0 24 24\"\n",
              "       width=\"24px\">\n",
              "    <path d=\"M0 0h24v24H0V0z\" fill=\"none\"/>\n",
              "    <path d=\"M18.56 5.44l.94 2.06.94-2.06 2.06-.94-2.06-.94-.94-2.06-.94 2.06-2.06.94zm-11 1L8.5 8.5l.94-2.06 2.06-.94-2.06-.94L8.5 2.5l-.94 2.06-2.06.94zm10 10l.94 2.06.94-2.06 2.06-.94-2.06-.94-.94-2.06-.94 2.06-2.06.94z\"/><path d=\"M17.41 7.96l-1.37-1.37c-.4-.4-.92-.59-1.43-.59-.52 0-1.04.2-1.43.59L10.3 9.45l-7.72 7.72c-.78.78-.78 2.05 0 2.83L4 21.41c.39.39.9.59 1.41.59.51 0 1.02-.2 1.41-.59l7.78-7.78 2.81-2.81c.8-.78.8-2.07 0-2.86zM5.41 20L4 18.59l7.72-7.72 1.47 1.35L5.41 20z\"/>\n",
              "  </svg>\n",
              "      </button>\n",
              "      \n",
              "  <style>\n",
              "    .colab-df-container {\n",
              "      display:flex;\n",
              "      flex-wrap:wrap;\n",
              "      gap: 12px;\n",
              "    }\n",
              "\n",
              "    .colab-df-convert {\n",
              "      background-color: #E8F0FE;\n",
              "      border: none;\n",
              "      border-radius: 50%;\n",
              "      cursor: pointer;\n",
              "      display: none;\n",
              "      fill: #1967D2;\n",
              "      height: 32px;\n",
              "      padding: 0 0 0 0;\n",
              "      width: 32px;\n",
              "    }\n",
              "\n",
              "    .colab-df-convert:hover {\n",
              "      background-color: #E2EBFA;\n",
              "      box-shadow: 0px 1px 2px rgba(60, 64, 67, 0.3), 0px 1px 3px 1px rgba(60, 64, 67, 0.15);\n",
              "      fill: #174EA6;\n",
              "    }\n",
              "\n",
              "    [theme=dark] .colab-df-convert {\n",
              "      background-color: #3B4455;\n",
              "      fill: #D2E3FC;\n",
              "    }\n",
              "\n",
              "    [theme=dark] .colab-df-convert:hover {\n",
              "      background-color: #434B5C;\n",
              "      box-shadow: 0px 1px 3px 1px rgba(0, 0, 0, 0.15);\n",
              "      filter: drop-shadow(0px 1px 2px rgba(0, 0, 0, 0.3));\n",
              "      fill: #FFFFFF;\n",
              "    }\n",
              "  </style>\n",
              "\n",
              "      <script>\n",
              "        const buttonEl =\n",
              "          document.querySelector('#df-929130b5-5ff6-406d-a380-9a1e2e3fbe9e button.colab-df-convert');\n",
              "        buttonEl.style.display =\n",
              "          google.colab.kernel.accessAllowed ? 'block' : 'none';\n",
              "\n",
              "        async function convertToInteractive(key) {\n",
              "          const element = document.querySelector('#df-929130b5-5ff6-406d-a380-9a1e2e3fbe9e');\n",
              "          const dataTable =\n",
              "            await google.colab.kernel.invokeFunction('convertToInteractive',\n",
              "                                                     [key], {});\n",
              "          if (!dataTable) return;\n",
              "\n",
              "          const docLinkHtml = 'Like what you see? Visit the ' +\n",
              "            '<a target=\"_blank\" href=https://colab.research.google.com/notebooks/data_table.ipynb>data table notebook</a>'\n",
              "            + ' to learn more about interactive tables.';\n",
              "          element.innerHTML = '';\n",
              "          dataTable['output_type'] = 'display_data';\n",
              "          await google.colab.output.renderOutput(dataTable, element);\n",
              "          const docLink = document.createElement('div');\n",
              "          docLink.innerHTML = docLinkHtml;\n",
              "          element.appendChild(docLink);\n",
              "        }\n",
              "      </script>\n",
              "    </div>\n",
              "  </div>\n",
              "  "
            ]
          },
          "metadata": {},
          "execution_count": 367
        }
      ],
      "source": [
        "df_dummies = pd.get_dummies(df, columns=['place_l4', 'property_type', 'cocina', 'pisos', 'lavadero', 'calefaccion', 'expensas', 'balcon', 'cochera', 'aire'], drop_first=True)\n",
        "df_dummies.head(5)"
      ],
      "metadata": {
        "id": "5e0r2Yj-2DpQ",
        "colab": {
          "base_uri": "https://localhost:8080/",
          "height": 300
        },
        "outputId": "bddd83b5-8798-44a2-e2f3-177b8258947f"
      }
    },
    {
      "cell_type": "markdown",
      "source": [
        "Separamos el dataset en train y test con una proporción 80% para train y 20% para test:"
      ],
      "metadata": {
        "collapsed": false,
        "id": "3_nVpVTT2DpQ"
      }
    },
    {
      "cell_type": "code",
      "source": [
        "train = df_dummies.sample(frac=0.8, random_state=200)\n",
        "\n",
        "y_train = train[\"property_price\"]\n",
        "\n",
        "train.drop([\"property_price\", \"id\"], inplace=True, axis=1)"
      ],
      "metadata": {
        "id": "PVTe5BA6VGQc"
      },
      "execution_count": 368,
      "outputs": []
    },
    {
      "cell_type": "code",
      "execution_count": 369,
      "outputs": [],
      "source": [
        "test = df_dummies.drop(train.index)\n",
        "\n",
        "y_test = test[\"property_price\"]\n",
        "\n",
        "test.drop([\"property_price\", \"id\"], inplace=True, axis=1)"
      ],
      "metadata": {
        "id": "kfuLZtKU2DpQ"
      }
    },
    {
      "cell_type": "markdown",
      "source": [
        "Entrenamos el modelo:"
      ],
      "metadata": {
        "id": "I6cp1CI3ZKLx"
      }
    },
    {
      "cell_type": "code",
      "source": [
        "XGB_Regressor_TP1.fit(train, y_train)"
      ],
      "metadata": {
        "id": "44zRgoATZLkr",
        "colab": {
          "base_uri": "https://localhost:8080/"
        },
        "outputId": "c7c93d23-f38d-4997-df70-c094d55a9444"
      },
      "execution_count": 370,
      "outputs": [
        {
          "output_type": "stream",
          "name": "stdout",
          "text": [
            "[02:19:00] WARNING: /workspace/src/objective/regression_obj.cu:152: reg:linear is now deprecated in favor of reg:squarederror.\n"
          ]
        },
        {
          "output_type": "execute_result",
          "data": {
            "text/plain": [
              "XGBRegressor(colsample_bytree=0.3, gamma=0.1, learning_rate=0.3, max_depth=6,\n",
              "             min_child_weight=5, missing=nan)"
            ]
          },
          "metadata": {},
          "execution_count": 370
        }
      ]
    },
    {
      "cell_type": "markdown",
      "source": [
        "Hagamos las predicciones y veamos cómo resultaron las métricas del modelo:"
      ],
      "metadata": {
        "id": "PxQTRsiZZmeq"
      }
    },
    {
      "cell_type": "code",
      "source": [
        "y_pred = prediccion_y_metricas_regresion(XGB_Regressor_TP1, train, test, y_train, y_test)"
      ],
      "metadata": {
        "id": "kQ5AadFSfxhE",
        "colab": {
          "base_uri": "https://localhost:8080/"
        },
        "outputId": "6d6d247e-3436-4825-dce9-0e6b8ca03e3d"
      },
      "execution_count": 371,
      "outputs": [
        {
          "output_type": "stream",
          "name": "stdout",
          "text": [
            "Se obtuvo un 0.0% de aciertos.\n",
            "El error según la métrica 'Mean Square Error' de test es: 7490858591.217763\n",
            "El error según la métrica 'Root Mean Square Error' de test es: 86549.74633826353\n",
            "El coeficiente de determinación de test es: 0.8779061886253998\n"
          ]
        }
      ]
    },
    {
      "cell_type": "markdown",
      "source": [
        "#### Con optimización de hiperparámetros"
      ],
      "metadata": {
        "id": "CkJCoGXnaN1y"
      }
    },
    {
      "cell_type": "markdown",
      "source": [
        "Veamos cómo se comporta el score con la optimización de hiperparámetros:"
      ],
      "metadata": {
        "collapsed": false,
        "id": "Su2wKojB2DpR"
      }
    },
    {
      "cell_type": "code",
      "execution_count": 372,
      "outputs": [
        {
          "output_type": "stream",
          "name": "stdout",
          "text": [
            "[02:19:13] WARNING: /workspace/src/objective/regression_obj.cu:152: reg:linear is now deprecated in favor of reg:squarederror.\n",
            "[02:19:28] WARNING: /workspace/src/objective/regression_obj.cu:152: reg:linear is now deprecated in favor of reg:squarederror.\n",
            "[02:19:40] WARNING: /workspace/src/objective/regression_obj.cu:152: reg:linear is now deprecated in favor of reg:squarederror.\n",
            "[02:19:50] WARNING: /workspace/src/objective/regression_obj.cu:152: reg:linear is now deprecated in favor of reg:squarederror.\n",
            "[02:20:01] WARNING: /workspace/src/objective/regression_obj.cu:152: reg:linear is now deprecated in favor of reg:squarederror.\n",
            "[02:20:11] WARNING: /workspace/src/objective/regression_obj.cu:152: reg:linear is now deprecated in favor of reg:squarederror.\n",
            "[02:20:21] WARNING: /workspace/src/objective/regression_obj.cu:152: reg:linear is now deprecated in favor of reg:squarederror.\n",
            "[02:20:32] WARNING: /workspace/src/objective/regression_obj.cu:152: reg:linear is now deprecated in favor of reg:squarederror.\n",
            "[02:20:44] WARNING: /workspace/src/objective/regression_obj.cu:152: reg:linear is now deprecated in favor of reg:squarederror.\n",
            "[02:20:52] WARNING: /workspace/src/objective/regression_obj.cu:152: reg:linear is now deprecated in favor of reg:squarederror.\n",
            "[02:21:04] WARNING: /workspace/src/objective/regression_obj.cu:152: reg:linear is now deprecated in favor of reg:squarederror.\n",
            "[02:21:16] WARNING: /workspace/src/objective/regression_obj.cu:152: reg:linear is now deprecated in favor of reg:squarederror.\n",
            "[02:21:27] WARNING: /workspace/src/objective/regression_obj.cu:152: reg:linear is now deprecated in favor of reg:squarederror.\n",
            "[02:21:38] WARNING: /workspace/src/objective/regression_obj.cu:152: reg:linear is now deprecated in favor of reg:squarederror.\n",
            "[02:21:48] WARNING: /workspace/src/objective/regression_obj.cu:152: reg:linear is now deprecated in favor of reg:squarederror.\n",
            "[02:21:57] WARNING: /workspace/src/objective/regression_obj.cu:152: reg:linear is now deprecated in favor of reg:squarederror.\n",
            "[02:22:06] WARNING: /workspace/src/objective/regression_obj.cu:152: reg:linear is now deprecated in favor of reg:squarederror.\n",
            "[02:22:17] WARNING: /workspace/src/objective/regression_obj.cu:152: reg:linear is now deprecated in favor of reg:squarederror.\n",
            "[02:22:30] WARNING: /workspace/src/objective/regression_obj.cu:152: reg:linear is now deprecated in favor of reg:squarederror.\n",
            "[02:22:41] WARNING: /workspace/src/objective/regression_obj.cu:152: reg:linear is now deprecated in favor of reg:squarederror.\n",
            "[02:22:51] WARNING: /workspace/src/objective/regression_obj.cu:152: reg:linear is now deprecated in favor of reg:squarederror.\n",
            "[02:23:44] WARNING: /workspace/src/objective/regression_obj.cu:152: reg:linear is now deprecated in favor of reg:squarederror.\n",
            "[02:24:34] WARNING: /workspace/src/objective/regression_obj.cu:152: reg:linear is now deprecated in favor of reg:squarederror.\n",
            "[02:25:27] WARNING: /workspace/src/objective/regression_obj.cu:152: reg:linear is now deprecated in favor of reg:squarederror.\n",
            "[02:26:28] WARNING: /workspace/src/objective/regression_obj.cu:152: reg:linear is now deprecated in favor of reg:squarederror.\n",
            "[02:27:14] WARNING: /workspace/src/objective/regression_obj.cu:152: reg:linear is now deprecated in favor of reg:squarederror.\n"
          ]
        },
        {
          "output_type": "execute_result",
          "data": {
            "text/plain": [
              "RandomizedSearchCV(cv=StratifiedKFold(n_splits=5, random_state=None, shuffle=False),\n",
              "                   estimator=XGBRegressor(), n_iter=5,\n",
              "                   param_distributions={'colsample_bytree': [0.3, 0.4, 0.5,\n",
              "                                                             0.7],\n",
              "                                        'gamma': [0.0, 0.1, 0.2, 0.3, 0.4],\n",
              "                                        'learning_rate': [0.05, 0.1, 0.15, 0.2,\n",
              "                                                          0.25, 0.3],\n",
              "                                        'max_depth': [3, 4, 5, 6, 8, 10, 12,\n",
              "                                                      15],\n",
              "                                        'min_child_weight': [1, 3, 5, 7]},\n",
              "                   scoring=make_scorer(accuracy_score))"
            ]
          },
          "metadata": {},
          "execution_count": 372
        }
      ],
      "source": [
        "params_grid = {'learning_rate': [0.05, 0.10, 0.15, 0.20, 0.25, 0.30 ],\n",
        "               'max_depth': [3, 4, 5, 6, 8, 10, 12, 15],\n",
        "               'min_child_weight': [1, 3, 5, 7],\n",
        "               'gamma': [ 0.0, 0.1, 0.2 , 0.3, 0.4 ],\n",
        "               'colsample_bytree' : [ 0.3, 0.4, 0.5 , 0.7 ]}\n",
        "\n",
        "randomCV = RandomizedSearchCV(estimator = XGBRegressor(),\n",
        "                              param_distributions = params_grid,\n",
        "                              scoring = make_scorer(accuracy_score),\n",
        "                              cv = StratifiedKFold(n_splits = 5),\n",
        "                              n_iter = 5)\n",
        "\n",
        "randomCV.fit(train, y_train)"
      ],
      "metadata": {
        "id": "7RTpJeq92DpS",
        "colab": {
          "base_uri": "https://localhost:8080/"
        },
        "outputId": "986ec942-b9f7-442b-9fd5-304df13e3ce1"
      }
    },
    {
      "cell_type": "code",
      "execution_count": 373,
      "outputs": [
        {
          "output_type": "stream",
          "name": "stdout",
          "text": [
            "Se obtuvo un 0.0% de aciertos.\n",
            "El error según la métrica 'Mean Square Error' de test es: 7797825065.051486\n",
            "El error según la métrica 'Root Mean Square Error' de test es: 88305.2946603514\n",
            "El coeficiente de determinación de test es: 0.8729029294798434\n"
          ]
        }
      ],
      "source": [
        "y_pred = prediccion_y_metricas_regresion(randomCV.best_estimator_, train, test, y_train, y_test)"
      ],
      "metadata": {
        "id": "fbhhPYpZ2DpS",
        "colab": {
          "base_uri": "https://localhost:8080/"
        },
        "outputId": "2e4e8dab-b691-4953-bf2c-921e06262a9a"
      }
    },
    {
      "cell_type": "markdown",
      "source": [
        "Observamos que el score disminuyó levemente."
      ],
      "metadata": {
        "collapsed": false,
        "id": "aRCfkfFX2DpT"
      }
    },
    {
      "cell_type": "markdown",
      "source": [
        "#### Métricas previas"
      ],
      "metadata": {
        "id": "kz5rCsJj3qAz"
      }
    },
    {
      "cell_type": "markdown",
      "source": [
        "Veamos que las métricas obtenidas en el TP1 fueron, para dataset de train:"
      ],
      "metadata": {
        "id": "Muyb5pFT6GPg"
      }
    },
    {
      "cell_type": "markdown",
      "source": [
        "Se obtuvo un 0.0% de aciertos.\n",
        "\n",
        "El error según la métrica 'Mean Square Error' de test es: 70586895109.33229\n",
        "\n",
        "El error según la métrica 'Root Mean Square Error' de test es: 265681.9435139172\n",
        "\n",
        "El coeficiente de determinación de test es: 0.44112156174433736"
      ],
      "metadata": {
        "id": "SJ0EtoxH6ZyI"
      }
    },
    {
      "cell_type": "markdown",
      "source": [
        "Y, para el dataset reducido:"
      ],
      "metadata": {
        "id": "wHp2bi-c69Zo"
      }
    },
    {
      "cell_type": "markdown",
      "source": [
        "Se obtuvo un 0.0% de aciertos.\n",
        "\n",
        "El error según la métrica 'Mean Square Error' de test es: 78861262549.04588\n",
        "\n",
        "El error según la métrica 'Root Mean Square Error' de test es: 280822.4751494187\n",
        "\n",
        "El coeficiente de determinación de test es: 0.3756084725923362"
      ],
      "metadata": {
        "id": "UlVs07V16_bV"
      }
    },
    {
      "cell_type": "markdown",
      "source": [
        "Y podemos concluir que las métricas en comparación mejoraron un 43% aproximadamente."
      ],
      "metadata": {
        "id": "WelhmICh7UNT"
      }
    },
    {
      "cell_type": "markdown",
      "source": [
        "#### Exportación de Datos"
      ],
      "metadata": {
        "id": "_f0JxWEL8GUY"
      }
    },
    {
      "cell_type": "markdown",
      "source": [
        "Finalmente, exportamos el modelo utilizado para predecir, resultante de la optimización de hiperparámetros:"
      ],
      "metadata": {
        "id": "Zza9STS88Ko6"
      }
    },
    {
      "cell_type": "code",
      "source": [
        "if IN_COLAB:\n",
        "  path = '/content/drive/MyDrive/📔 Organización de Datos (75.06)/TPS/TP2/MODELOS/XGB_Regressor.joblib'\n",
        "else:\n",
        "  path = './MODELOS/XGB_Regressor.joblib'\n",
        "\n",
        "dump(randomCV.best_estimator_, path)"
      ],
      "metadata": {
        "id": "RNVI92fe8WEP",
        "colab": {
          "base_uri": "https://localhost:8080/"
        },
        "outputId": "2975dda4-e63e-46a2-9d06-8c4f64cb45ea"
      },
      "execution_count": 374,
      "outputs": [
        {
          "output_type": "execute_result",
          "data": {
            "text/plain": [
              "['/content/drive/MyDrive/📔 Organización de Datos (75.06)/TPS/TP2/MODELOS/XGB_Regressor.joblib']"
            ]
          },
          "metadata": {},
          "execution_count": 374
        }
      ]
    },
    {
      "cell_type": "markdown",
      "source": [
        "## 2. Redes Neuronales"
      ],
      "metadata": {
        "collapsed": false,
        "id": "HWpWT3GZ_TQT"
      }
    },
    {
      "cell_type": "markdown",
      "source": [
        "Trabajemos con el dataset reducido del primer TP y entrenemos dos modelos de redes neuronales para regresión y clasificación."
      ],
      "metadata": {
        "id": "o5Npv7MVLad3"
      }
    },
    {
      "cell_type": "markdown",
      "source": [
        "Aplicamos One Hot Encoding y separamos en train y test:"
      ],
      "metadata": {
        "id": "7wRCkK8XMHDb"
      }
    },
    {
      "cell_type": "code",
      "source": [
        "df_properati = pd.get_dummies(properati, columns=['place_l4', 'property_type'], drop_first=False)\n",
        "\n",
        "properati_x_train = df_properati.sample(frac=0.8, random_state=200)\n",
        "properati_y_train = properati_x_train[\"property_price\"]\n",
        "properati_x_train.drop([\"property_price\"], inplace=True, axis=1)\n",
        "\n",
        "properati_x_test = df_properati.drop(properati_x_train.index)\n",
        "properati_y_test = properati_x_test[\"property_price\"]\n",
        "properati_x_test.drop([\"property_price\"], inplace=True, axis=1)"
      ],
      "metadata": {
        "id": "2gl5TKHVjFWU"
      },
      "execution_count": 375,
      "outputs": []
    },
    {
      "cell_type": "code",
      "source": [
        "x_train_regressor = properati_x_train.copy()\n",
        "y_train_regressor = properati_y_train.copy()\n",
        "x_test_regressor = properati_x_test.copy()\n",
        "y_test_regressor = properati_y_test.copy()"
      ],
      "metadata": {
        "id": "jUfurX9ZMG15"
      },
      "execution_count": 376,
      "outputs": []
    },
    {
      "cell_type": "code",
      "source": [
        "x_train_regressor.drop([\"id\"], inplace=True, axis=1)\n",
        "\n",
        "x_test_regressor.drop([\"id\"], inplace=True, axis=1)"
      ],
      "metadata": {
        "id": "PSvAjpkM1avz"
      },
      "execution_count": 377,
      "outputs": []
    },
    {
      "cell_type": "code",
      "source": [
        "x_train_classifier = properati_x_train.copy()\n",
        "y_train_classifier = properati_y_train.copy()\n",
        "x_test_classifier = properati_x_test.copy()\n",
        "y_test_classifier = properati_y_test.copy()"
      ],
      "metadata": {
        "id": "M6PaYzXiMVrR"
      },
      "execution_count": 378,
      "outputs": []
    },
    {
      "cell_type": "code",
      "source": [
        "x_train_classifier[\"property_m2price\"] = y_train_classifier / x_train_classifier[\"property_surface_total\"]\n",
        "x_train_classifier.sort_values(by=[\"property_m2price\"], inplace=True)\n",
        "x_train_classifier['tipo_precio_3'] = pd.qcut(x=x_train_classifier.loc[properati['property_type'] == 'Departamento']['property_m2price'], q=4, labels=['bajo', 'medio', 'medio2', 'alto']).replace(\"medio2\",\"medio\")\n",
        "x_train_classifier['tipo_precio_3'].fillna(pd.qcut(x=x_train_classifier.loc[properati['property_type'] == 'Casa']['property_m2price'], q=4, labels=['bajo', 'medio', 'medio2', 'alto']).replace(\"medio2\",\"medio\"), inplace=True)\n",
        "x_train_classifier['tipo_precio_3'].fillna(pd.qcut(x=x_train_classifier.loc[properati['property_type'] == 'PH']['property_m2price'], q=4, labels=['bajo', 'medio', 'medio2', 'alto']).replace(\"medio2\",\"medio\"), inplace=True)\n",
        "\n",
        "x_test_classifier[\"property_m2price\"] = y_test_classifier / x_test_classifier[\"property_surface_total\"]\n",
        "x_test_classifier.sort_values(by=[\"property_m2price\"], inplace=True)\n",
        "x_test_classifier['tipo_precio_3'] = pd.qcut(x=x_test_classifier.loc[properati['property_type'] == 'Departamento']['property_m2price'], q=4, labels=['bajo', 'medio', 'medio2', 'alto']).replace(\"medio2\",\"medio\")\n",
        "x_test_classifier['tipo_precio_3'].fillna(pd.qcut(x=x_test_classifier.loc[properati['property_type'] == 'Casa']['property_m2price'], q=4, labels=['bajo', 'medio', 'medio2', 'alto']).replace(\"medio2\",\"medio\"), inplace=True)\n",
        "x_test_classifier['tipo_precio_3'].fillna(pd.qcut(x=x_test_classifier.loc[properati['property_type'] == 'PH']['property_m2price'], q=4, labels=['bajo', 'medio', 'medio2', 'alto']).replace(\"medio2\",\"medio\"), inplace=True)"
      ],
      "metadata": {
        "id": "lhr_SBo9OWIM"
      },
      "execution_count": 379,
      "outputs": []
    },
    {
      "cell_type": "code",
      "execution_count": 380,
      "outputs": [],
      "source": [
        "y_train_classifier = x_train_classifier[\"tipo_precio_3\"]\n",
        "x_train_classifier.drop([\"id\", \"tipo_precio_3\", \"property_m2price\"], inplace=True, axis=1)\n",
        "\n",
        "y_test_classifier = x_test_classifier[\"tipo_precio_3\"]\n",
        "x_test_classifier.drop([\"id\", \"tipo_precio_3\", \"property_m2price\"], inplace=True, axis=1)"
      ],
      "metadata": {
        "id": "AgsGLgI-_TQV"
      }
    },
    {
      "cell_type": "markdown",
      "source": [
        "### 2.a Regresión"
      ],
      "metadata": {
        "id": "2HjJDe4W_iY-"
      }
    },
    {
      "cell_type": "markdown",
      "source": [
        "Normalizamos las entradas con StandardScaler:"
      ],
      "metadata": {
        "collapsed": false,
        "id": "PKPRQVFS_TQT"
      }
    },
    {
      "cell_type": "code",
      "source": [
        "estandarizar(x_train_regressor, ['start_date', 'end_date', 'latitud', 'longitud', 'property_rooms', 'property_surface_total'])"
      ],
      "metadata": {
        "id": "s3xTEOkRlufG"
      },
      "execution_count": 382,
      "outputs": []
    },
    {
      "cell_type": "code",
      "execution_count": 383,
      "outputs": [
        {
          "output_type": "execute_result",
          "data": {
            "text/plain": [
              "       start_date  end_date   latitud  longitud  property_rooms  \\\n",
              "25158   -0.613612 -0.186383 -1.386003  0.169489        -0.61056   \n",
              "23761   -0.323517 -0.800681 -0.260318  0.997661         0.98717   \n",
              "442      0.759506 -0.107119  0.112234 -2.097538         0.98717   \n",
              "67780   -0.777999 -0.800681  0.187259  1.077535        -0.61056   \n",
              "58586   -1.000406 -1.203608 -0.553215 -2.398597         0.98717   \n",
              "\n",
              "       property_surface_total  place_l4_Abasto  place_l4_Agronomía  \\\n",
              "25158               -0.641609                0                   0   \n",
              "23761               -0.074216                0                   0   \n",
              "442                 -0.058881                0                   0   \n",
              "67780               -0.411585                0                   0   \n",
              "58586                0.094469                0                   0   \n",
              "\n",
              "       place_l4_Almagro  place_l4_Balvanera  ...  place_l4_Villa Pueyrredón  \\\n",
              "25158                 0                   0  ...                          0   \n",
              "23761                 0                   1  ...                          0   \n",
              "442                   0                   0  ...                          0   \n",
              "67780                 0                   0  ...                          0   \n",
              "58586                 0                   0  ...                          0   \n",
              "\n",
              "       place_l4_Villa Real  place_l4_Villa Riachuelo  \\\n",
              "25158                    0                         0   \n",
              "23761                    0                         0   \n",
              "442                      0                         0   \n",
              "67780                    0                         0   \n",
              "58586                    0                         0   \n",
              "\n",
              "       place_l4_Villa Santa Rita  place_l4_Villa Soldati  \\\n",
              "25158                          0                       0   \n",
              "23761                          0                       0   \n",
              "442                            0                       0   \n",
              "67780                          0                       0   \n",
              "58586                          0                       0   \n",
              "\n",
              "       place_l4_Villa Urquiza  place_l4_Villa del Parque  property_type_Casa  \\\n",
              "25158                       0                          0                   0   \n",
              "23761                       0                          0                   0   \n",
              "442                         0                          0                   0   \n",
              "67780                       0                          0                   0   \n",
              "58586                       0                          0                   1   \n",
              "\n",
              "       property_type_Departamento  property_type_PH  \n",
              "25158                           1                 0  \n",
              "23761                           1                 0  \n",
              "442                             1                 0  \n",
              "67780                           0                 1  \n",
              "58586                           0                 0  \n",
              "\n",
              "[5 rows x 71 columns]"
            ],
            "text/html": [
              "\n",
              "  <div id=\"df-b76d1260-76fb-4358-8a11-95e5ee55c7cf\">\n",
              "    <div class=\"colab-df-container\">\n",
              "      <div>\n",
              "<style scoped>\n",
              "    .dataframe tbody tr th:only-of-type {\n",
              "        vertical-align: middle;\n",
              "    }\n",
              "\n",
              "    .dataframe tbody tr th {\n",
              "        vertical-align: top;\n",
              "    }\n",
              "\n",
              "    .dataframe thead th {\n",
              "        text-align: right;\n",
              "    }\n",
              "</style>\n",
              "<table border=\"1\" class=\"dataframe\">\n",
              "  <thead>\n",
              "    <tr style=\"text-align: right;\">\n",
              "      <th></th>\n",
              "      <th>start_date</th>\n",
              "      <th>end_date</th>\n",
              "      <th>latitud</th>\n",
              "      <th>longitud</th>\n",
              "      <th>property_rooms</th>\n",
              "      <th>property_surface_total</th>\n",
              "      <th>place_l4_Abasto</th>\n",
              "      <th>place_l4_Agronomía</th>\n",
              "      <th>place_l4_Almagro</th>\n",
              "      <th>place_l4_Balvanera</th>\n",
              "      <th>...</th>\n",
              "      <th>place_l4_Villa Pueyrredón</th>\n",
              "      <th>place_l4_Villa Real</th>\n",
              "      <th>place_l4_Villa Riachuelo</th>\n",
              "      <th>place_l4_Villa Santa Rita</th>\n",
              "      <th>place_l4_Villa Soldati</th>\n",
              "      <th>place_l4_Villa Urquiza</th>\n",
              "      <th>place_l4_Villa del Parque</th>\n",
              "      <th>property_type_Casa</th>\n",
              "      <th>property_type_Departamento</th>\n",
              "      <th>property_type_PH</th>\n",
              "    </tr>\n",
              "  </thead>\n",
              "  <tbody>\n",
              "    <tr>\n",
              "      <th>25158</th>\n",
              "      <td>-0.613612</td>\n",
              "      <td>-0.186383</td>\n",
              "      <td>-1.386003</td>\n",
              "      <td>0.169489</td>\n",
              "      <td>-0.61056</td>\n",
              "      <td>-0.641609</td>\n",
              "      <td>0</td>\n",
              "      <td>0</td>\n",
              "      <td>0</td>\n",
              "      <td>0</td>\n",
              "      <td>...</td>\n",
              "      <td>0</td>\n",
              "      <td>0</td>\n",
              "      <td>0</td>\n",
              "      <td>0</td>\n",
              "      <td>0</td>\n",
              "      <td>0</td>\n",
              "      <td>0</td>\n",
              "      <td>0</td>\n",
              "      <td>1</td>\n",
              "      <td>0</td>\n",
              "    </tr>\n",
              "    <tr>\n",
              "      <th>23761</th>\n",
              "      <td>-0.323517</td>\n",
              "      <td>-0.800681</td>\n",
              "      <td>-0.260318</td>\n",
              "      <td>0.997661</td>\n",
              "      <td>0.98717</td>\n",
              "      <td>-0.074216</td>\n",
              "      <td>0</td>\n",
              "      <td>0</td>\n",
              "      <td>0</td>\n",
              "      <td>1</td>\n",
              "      <td>...</td>\n",
              "      <td>0</td>\n",
              "      <td>0</td>\n",
              "      <td>0</td>\n",
              "      <td>0</td>\n",
              "      <td>0</td>\n",
              "      <td>0</td>\n",
              "      <td>0</td>\n",
              "      <td>0</td>\n",
              "      <td>1</td>\n",
              "      <td>0</td>\n",
              "    </tr>\n",
              "    <tr>\n",
              "      <th>442</th>\n",
              "      <td>0.759506</td>\n",
              "      <td>-0.107119</td>\n",
              "      <td>0.112234</td>\n",
              "      <td>-2.097538</td>\n",
              "      <td>0.98717</td>\n",
              "      <td>-0.058881</td>\n",
              "      <td>0</td>\n",
              "      <td>0</td>\n",
              "      <td>0</td>\n",
              "      <td>0</td>\n",
              "      <td>...</td>\n",
              "      <td>0</td>\n",
              "      <td>0</td>\n",
              "      <td>0</td>\n",
              "      <td>0</td>\n",
              "      <td>0</td>\n",
              "      <td>0</td>\n",
              "      <td>0</td>\n",
              "      <td>0</td>\n",
              "      <td>1</td>\n",
              "      <td>0</td>\n",
              "    </tr>\n",
              "    <tr>\n",
              "      <th>67780</th>\n",
              "      <td>-0.777999</td>\n",
              "      <td>-0.800681</td>\n",
              "      <td>0.187259</td>\n",
              "      <td>1.077535</td>\n",
              "      <td>-0.61056</td>\n",
              "      <td>-0.411585</td>\n",
              "      <td>0</td>\n",
              "      <td>0</td>\n",
              "      <td>0</td>\n",
              "      <td>0</td>\n",
              "      <td>...</td>\n",
              "      <td>0</td>\n",
              "      <td>0</td>\n",
              "      <td>0</td>\n",
              "      <td>0</td>\n",
              "      <td>0</td>\n",
              "      <td>0</td>\n",
              "      <td>0</td>\n",
              "      <td>0</td>\n",
              "      <td>0</td>\n",
              "      <td>1</td>\n",
              "    </tr>\n",
              "    <tr>\n",
              "      <th>58586</th>\n",
              "      <td>-1.000406</td>\n",
              "      <td>-1.203608</td>\n",
              "      <td>-0.553215</td>\n",
              "      <td>-2.398597</td>\n",
              "      <td>0.98717</td>\n",
              "      <td>0.094469</td>\n",
              "      <td>0</td>\n",
              "      <td>0</td>\n",
              "      <td>0</td>\n",
              "      <td>0</td>\n",
              "      <td>...</td>\n",
              "      <td>0</td>\n",
              "      <td>0</td>\n",
              "      <td>0</td>\n",
              "      <td>0</td>\n",
              "      <td>0</td>\n",
              "      <td>0</td>\n",
              "      <td>0</td>\n",
              "      <td>1</td>\n",
              "      <td>0</td>\n",
              "      <td>0</td>\n",
              "    </tr>\n",
              "  </tbody>\n",
              "</table>\n",
              "<p>5 rows × 71 columns</p>\n",
              "</div>\n",
              "      <button class=\"colab-df-convert\" onclick=\"convertToInteractive('df-b76d1260-76fb-4358-8a11-95e5ee55c7cf')\"\n",
              "              title=\"Convert this dataframe to an interactive table.\"\n",
              "              style=\"display:none;\">\n",
              "        \n",
              "  <svg xmlns=\"http://www.w3.org/2000/svg\" height=\"24px\"viewBox=\"0 0 24 24\"\n",
              "       width=\"24px\">\n",
              "    <path d=\"M0 0h24v24H0V0z\" fill=\"none\"/>\n",
              "    <path d=\"M18.56 5.44l.94 2.06.94-2.06 2.06-.94-2.06-.94-.94-2.06-.94 2.06-2.06.94zm-11 1L8.5 8.5l.94-2.06 2.06-.94-2.06-.94L8.5 2.5l-.94 2.06-2.06.94zm10 10l.94 2.06.94-2.06 2.06-.94-2.06-.94-.94-2.06-.94 2.06-2.06.94z\"/><path d=\"M17.41 7.96l-1.37-1.37c-.4-.4-.92-.59-1.43-.59-.52 0-1.04.2-1.43.59L10.3 9.45l-7.72 7.72c-.78.78-.78 2.05 0 2.83L4 21.41c.39.39.9.59 1.41.59.51 0 1.02-.2 1.41-.59l7.78-7.78 2.81-2.81c.8-.78.8-2.07 0-2.86zM5.41 20L4 18.59l7.72-7.72 1.47 1.35L5.41 20z\"/>\n",
              "  </svg>\n",
              "      </button>\n",
              "      \n",
              "  <style>\n",
              "    .colab-df-container {\n",
              "      display:flex;\n",
              "      flex-wrap:wrap;\n",
              "      gap: 12px;\n",
              "    }\n",
              "\n",
              "    .colab-df-convert {\n",
              "      background-color: #E8F0FE;\n",
              "      border: none;\n",
              "      border-radius: 50%;\n",
              "      cursor: pointer;\n",
              "      display: none;\n",
              "      fill: #1967D2;\n",
              "      height: 32px;\n",
              "      padding: 0 0 0 0;\n",
              "      width: 32px;\n",
              "    }\n",
              "\n",
              "    .colab-df-convert:hover {\n",
              "      background-color: #E2EBFA;\n",
              "      box-shadow: 0px 1px 2px rgba(60, 64, 67, 0.3), 0px 1px 3px 1px rgba(60, 64, 67, 0.15);\n",
              "      fill: #174EA6;\n",
              "    }\n",
              "\n",
              "    [theme=dark] .colab-df-convert {\n",
              "      background-color: #3B4455;\n",
              "      fill: #D2E3FC;\n",
              "    }\n",
              "\n",
              "    [theme=dark] .colab-df-convert:hover {\n",
              "      background-color: #434B5C;\n",
              "      box-shadow: 0px 1px 3px 1px rgba(0, 0, 0, 0.15);\n",
              "      filter: drop-shadow(0px 1px 2px rgba(0, 0, 0, 0.3));\n",
              "      fill: #FFFFFF;\n",
              "    }\n",
              "  </style>\n",
              "\n",
              "      <script>\n",
              "        const buttonEl =\n",
              "          document.querySelector('#df-b76d1260-76fb-4358-8a11-95e5ee55c7cf button.colab-df-convert');\n",
              "        buttonEl.style.display =\n",
              "          google.colab.kernel.accessAllowed ? 'block' : 'none';\n",
              "\n",
              "        async function convertToInteractive(key) {\n",
              "          const element = document.querySelector('#df-b76d1260-76fb-4358-8a11-95e5ee55c7cf');\n",
              "          const dataTable =\n",
              "            await google.colab.kernel.invokeFunction('convertToInteractive',\n",
              "                                                     [key], {});\n",
              "          if (!dataTable) return;\n",
              "\n",
              "          const docLinkHtml = 'Like what you see? Visit the ' +\n",
              "            '<a target=\"_blank\" href=https://colab.research.google.com/notebooks/data_table.ipynb>data table notebook</a>'\n",
              "            + ' to learn more about interactive tables.';\n",
              "          element.innerHTML = '';\n",
              "          dataTable['output_type'] = 'display_data';\n",
              "          await google.colab.output.renderOutput(dataTable, element);\n",
              "          const docLink = document.createElement('div');\n",
              "          docLink.innerHTML = docLinkHtml;\n",
              "          element.appendChild(docLink);\n",
              "        }\n",
              "      </script>\n",
              "    </div>\n",
              "  </div>\n",
              "  "
            ]
          },
          "metadata": {},
          "execution_count": 383
        }
      ],
      "source": [
        "x_train_regressor.head(5)"
      ],
      "metadata": {
        "id": "kypRw7jF_TQT",
        "colab": {
          "base_uri": "https://localhost:8080/",
          "height": 317
        },
        "outputId": "4a16817d-aecc-4f51-f1e1-6de018c3028c"
      }
    },
    {
      "cell_type": "markdown",
      "source": [
        "Creamos el modelo con 2 capas ocultas, entrada de igual cantidad de columnas que el dataset, y salida de 1 parámetro.\n",
        "Luego lo compilamos utilizando RMSprop como optimizador, lo entrenamos con el dataset de train, y predecimos con el de test."
      ],
      "metadata": {
        "collapsed": false,
        "id": "76ZJ71U6_TQU"
      }
    },
    {
      "cell_type": "code",
      "execution_count": 384,
      "outputs": [
        {
          "output_type": "stream",
          "name": "stdout",
          "text": [
            "Model: \"sequential_9\"\n",
            "_________________________________________________________________\n",
            " Layer (type)                Output Shape              Param #   \n",
            "=================================================================\n",
            " dense_21 (Dense)            (None, 71)                5112      \n",
            "                                                                 \n",
            " dense_22 (Dense)            (None, 30)                2160      \n",
            "                                                                 \n",
            " dense_23 (Dense)            (None, 1)                 31        \n",
            "                                                                 \n",
            "=================================================================\n",
            "Total params: 7,303\n",
            "Trainable params: 7,303\n",
            "Non-trainable params: 0\n",
            "_________________________________________________________________\n"
          ]
        }
      ],
      "source": [
        "d_in = x_train_regressor.shape[1]\n",
        "\n",
        "modelo = keras.Sequential([\n",
        "    keras.layers.Dense(d_in, input_shape=(d_in,), activation='relu'),\n",
        "    keras.layers.Dense(30, activation='relu'),\n",
        "    keras.layers.Dense(1)\n",
        "])\n",
        "\n",
        "modelo.summary()"
      ],
      "metadata": {
        "id": "Of791qYL_TQU",
        "colab": {
          "base_uri": "https://localhost:8080/"
        },
        "outputId": "5e38441c-1dd2-46b5-c8b3-2885ca9460e8"
      }
    },
    {
      "cell_type": "code",
      "execution_count": 385,
      "outputs": [
        {
          "output_type": "stream",
          "name": "stdout",
          "text": [
            "465/465 [==============================] - 1s 1ms/step\n"
          ]
        }
      ],
      "source": [
        "modelo.compile(\n",
        "    optimizer=keras.optimizers.RMSprop(learning_rate=0.001),\n",
        "    loss='mse',\n",
        "    metrics=[MeanSquaredError()]\n",
        ")\n",
        "\n",
        "cant_epochs = 100\n",
        "historia = modelo.fit(x_train_regressor, \n",
        "                      y_train_regressor, \n",
        "                      epochs=cant_epochs, \n",
        "                      verbose=False, \n",
        "                      use_multiprocessing=True, \n",
        "                      workers=4)\n",
        "\n",
        "y_pred_regresion = modelo.predict(x_test_regressor)"
      ],
      "metadata": {
        "id": "lLv5SJT5_TQU",
        "colab": {
          "base_uri": "https://localhost:8080/"
        },
        "outputId": "6dececaa-3e3e-4d8f-e518-2128f9155006"
      }
    },
    {
      "cell_type": "code",
      "execution_count": 386,
      "outputs": [
        {
          "output_type": "execute_result",
          "data": {
            "text/plain": [
              "<matplotlib.legend.Legend at 0x7fc173a29610>"
            ]
          },
          "metadata": {},
          "execution_count": 386
        },
        {
          "output_type": "display_data",
          "data": {
            "text/plain": [
              "<Figure size 432x288 with 1 Axes>"
            ],
            "image/png": "[encoded data removed]"
          },
          "metadata": {
            "needs_background": "light"
          }
        }
      ],
      "source": [
        "epochs = range(cant_epochs)\n",
        "plt.plot(epochs, historia.history['loss'], color='orange', label='MSE')\n",
        "plt.xlabel(\"epochs\")\n",
        "plt.ylabel(\"MSE\")\n",
        "plt.title('Error cuadrático medio por cantidad de épocas')\n",
        "plt.legend()"
      ],
      "metadata": {
        "id": "BzNqiJex_TQU",
        "colab": {
          "base_uri": "https://localhost:8080/",
          "height": 312
        },
        "outputId": "5d584a29-e38d-4336-86ef-9b7a405540c5"
      }
    },
    {
      "cell_type": "code",
      "execution_count": 389,
      "outputs": [
        {
          "output_type": "stream",
          "name": "stdout",
          "text": [
            "465/465 [==============================] - 2s 4ms/step - loss: 196551143895097933824.0000 - root_mean_squared_error: 14019670016.0000\n",
            "El error relativo porcentual promedio es: 110168.65 y su mediana es: 100103.1\n",
            "El error RMS es: 14019670016.0\n"
          ]
        }
      ],
      "source": [
        "res = modelo.evaluate(x_test_regressor, y_test_regressor)\n",
        "error = np.absolute(np.diagonal(np.subtract(y_test_regressor.values, y_pred_regresion)))\n",
        "error_porcentual = error / y_test_regressor.values\n",
        "print('El error relativo porcentual promedio es:', round(np.mean(error_porcentual),2), 'y su mediana es:', round(np.median(error_porcentual),2))\n",
        "print('El error MSE es:', round(res[1],2))"
      ],
      "metadata": {
        "id": "I8bkgfzi_TQV",
        "colab": {
          "base_uri": "https://localhost:8080/"
        },
        "outputId": "a5c526d6-3b80-49d7-bb0d-aa2f41a88fe7"
      }
    },
    {
      "cell_type": "markdown",
      "source": [
        "### 2.b Clasificación"
      ],
      "metadata": {
        "collapsed": false,
        "id": "dXdWW-m9_TQV"
      }
    },
    {
      "cell_type": "markdown",
      "source": [
        "Normalizamos mediante Z-Score:"
      ],
      "metadata": {
        "collapsed": false,
        "id": "JPjRt6tTOWIL"
      }
    },
    {
      "cell_type": "code",
      "source": [
        "x_train_classifier[['start_date', 'end_date', 'latitud', 'longitud', 'property_rooms', 'property_surface_total']] = zscore(x_train_classifier[['start_date', 'end_date', 'latitud', 'longitud', 'property_rooms', 'property_surface_total']], axis=1)\n",
        "\n",
        "x_test_classifier[['start_date', 'end_date', 'latitud', 'longitud', 'property_rooms', 'property_surface_total']] = zscore(x_test_classifier[['start_date', 'end_date', 'latitud', 'longitud', 'property_rooms', 'property_surface_total']], axis=1)"
      ],
      "metadata": {
        "id": "qDlv11yi8sR1"
      },
      "execution_count": 390,
      "outputs": []
    },
    {
      "cell_type": "markdown",
      "source": [
        "Modelamos con 1 capa oculta de 50 unidades, que recibe como entrada las columnas del dataset. La salida tiene 3 unidades."
      ],
      "metadata": {
        "collapsed": false,
        "id": "rVHwiNd3_TQV"
      }
    },
    {
      "cell_type": "code",
      "execution_count": 391,
      "outputs": [
        {
          "output_type": "stream",
          "name": "stdout",
          "text": [
            "Model: \"sequential_10\"\n",
            "_________________________________________________________________\n",
            " Layer (type)                Output Shape              Param #   \n",
            "=================================================================\n",
            " dense_24 (Dense)            (None, 50)                3600      \n",
            "                                                                 \n",
            " dense_25 (Dense)            (None, 3)                 153       \n",
            "                                                                 \n",
            "=================================================================\n",
            "Total params: 3,753\n",
            "Trainable params: 3,753\n",
            "Non-trainable params: 0\n",
            "_________________________________________________________________\n"
          ]
        }
      ],
      "source": [
        "d_in = x_train_classifier.shape[1]\n",
        "modelo = keras.Sequential([\n",
        "    keras.layers.Dense(50, input_shape=(d_in,)),\n",
        "    keras.layers.Dense(3, activation='softmax')\n",
        "])\n",
        "\n",
        "modelo.summary()"
      ],
      "metadata": {
        "id": "CO0lbjPj_TQW",
        "colab": {
          "base_uri": "https://localhost:8080/"
        },
        "outputId": "7612584c-bf15-443d-fe40-77d99f8cbd4c"
      }
    },
    {
      "cell_type": "markdown",
      "source": [
        "Aplicamos One Hot encoding a la columna target de entrenamiento, para que tenga 3 columnas al igual que la salida del modelo:"
      ],
      "metadata": {
        "collapsed": false,
        "id": "IZ2XeEKi_TQW"
      }
    },
    {
      "cell_type": "code",
      "source": [
        "y_train_classifier = pd.get_dummies(y_train_classifier, columns=['tipo_precio_3'], drop_first=False)"
      ],
      "metadata": {
        "id": "2jzMgy7b5js1"
      },
      "execution_count": 392,
      "outputs": []
    },
    {
      "cell_type": "markdown",
      "source": [
        "Compilamos el modelo con optimizador Adam y loss de crossentropy categórico. Luego entrenamos con los datos de train y predecimos con test:"
      ],
      "metadata": {
        "collapsed": false,
        "id": "tP9PVcKR_TQW"
      }
    },
    {
      "cell_type": "code",
      "execution_count": 393,
      "outputs": [],
      "source": [
        "modelo.compile(\n",
        "    optimizer=keras.optimizers.Adam(learning_rate=0.001),\n",
        "    loss='categorical_crossentropy',\n",
        "    metrics=['AUC', 'Accuracy', 'Recall', 'Precision'],\n",
        ")\n",
        "\n",
        "cant_epochs=100\n",
        "historia = modelo.fit(x_train_classifier, y_train_classifier, epochs=cant_epochs, verbose=False, use_multiprocessing=True, workers=4)"
      ],
      "metadata": {
        "id": "BZnWP4OU_TQX"
      }
    },
    {
      "cell_type": "code",
      "source": [
        "y_pred_clasificacion = modelo.predict(x_test_classifier)"
      ],
      "metadata": {
        "colab": {
          "base_uri": "https://localhost:8080/"
        },
        "id": "JNz3xaWK6Aca",
        "outputId": "4c54f2d5-68eb-462c-fd94-08a9ae0a7b91"
      },
      "execution_count": 394,
      "outputs": [
        {
          "output_type": "stream",
          "name": "stdout",
          "text": [
            "465/465 [==============================] - 1s 1ms/step\n"
          ]
        }
      ]
    },
    {
      "cell_type": "code",
      "execution_count": 395,
      "outputs": [
        {
          "output_type": "execute_result",
          "data": {
            "text/plain": [
              "<matplotlib.legend.Legend at 0x7fc173b5cfd0>"
            ]
          },
          "metadata": {},
          "execution_count": 395
        },
        {
          "output_type": "display_data",
          "data": {
            "text/plain": [
              "<Figure size 432x288 with 1 Axes>"
            ],
            "image/png": "[encoded data removed]"
          },
          "metadata": {
            "needs_background": "light"
          }
        }
      ],
      "source": [
        "epochs = range(cant_epochs)\n",
        "\n",
        "plt.plot(epochs, historia.history['auc'], color='orange', label='AUC')\n",
        "plt.xlabel(\"Epochs\")\n",
        "plt.ylabel(\"AUC\")\n",
        "plt.title('Area bajo la curva por cantidad de épocas')\n",
        "plt.legend()"
      ],
      "metadata": {
        "id": "FY6s9jDN_TQX",
        "colab": {
          "base_uri": "https://localhost:8080/",
          "height": 312
        },
        "outputId": "710e624b-97f6-4731-fdb1-88a059253f17"
      }
    },
    {
      "cell_type": "markdown",
      "source": [
        "Reorganizamos los valores predichos para que queden en una sola columna, y comparamos con el conjunto de prueba:"
      ],
      "metadata": {
        "collapsed": false,
        "id": "f_9yDT0-_TQX"
      }
    },
    {
      "cell_type": "code",
      "execution_count": 396,
      "outputs": [],
      "source": [
        "y_pred_clasificacion_arr = np.apply_along_axis(convert_b_m_a, axis=1, arr=y_pred_clasificacion)"
      ],
      "metadata": {
        "id": "bKKV7SQ5_TQX"
      }
    },
    {
      "cell_type": "markdown",
      "source": [
        "Seguimos reacomodando los valores para poder calcular las métricas correspondientes, notemos que no pueden guardarse valores equivalentes al string 'medio' en el array:"
      ],
      "metadata": {
        "id": "wMY6UF4RI8Ip"
      }
    },
    {
      "cell_type": "code",
      "source": [
        "np.unique(y_pred_clasificacion_arr)"
      ],
      "metadata": {
        "colab": {
          "base_uri": "https://localhost:8080/"
        },
        "id": "qth1TiSnKsCs",
        "outputId": "529b1f14-567c-4300-fa7b-4c4fb92f392a"
      },
      "execution_count": 397,
      "outputs": [
        {
          "output_type": "execute_result",
          "data": {
            "text/plain": [
              "array(['alto', 'bajo', 'medi'], dtype='<U4')"
            ]
          },
          "metadata": {},
          "execution_count": 397
        }
      ]
    },
    {
      "cell_type": "markdown",
      "source": [
        "Aplicamos estrategias de transformación de datos:"
      ],
      "metadata": {
        "id": "CX9WD9mAJFPi"
      }
    },
    {
      "cell_type": "code",
      "source": [
        "y_pred_clasificacion_arr = np.where(y_pred_clasificacion_arr == 'medi', 'medio', y_pred_clasificacion_arr)"
      ],
      "metadata": {
        "id": "7_YbczvDLnY2"
      },
      "execution_count": 398,
      "outputs": []
    },
    {
      "cell_type": "code",
      "source": [
        "np.unique(y_pred_clasificacion_arr)"
      ],
      "metadata": {
        "colab": {
          "base_uri": "https://localhost:8080/"
        },
        "id": "MjGQWoBRI6S_",
        "outputId": "e2bbb263-a326-407a-dcb4-a53bf2df847d"
      },
      "execution_count": 399,
      "outputs": [
        {
          "output_type": "execute_result",
          "data": {
            "text/plain": [
              "array(['alto', 'bajo', 'medio'], dtype='<U5')"
            ]
          },
          "metadata": {},
          "execution_count": 399
        }
      ]
    },
    {
      "cell_type": "markdown",
      "source": [
        "Finalmente, calculamos las métricas:"
      ],
      "metadata": {
        "id": "pfpYZ7DrMQXT"
      }
    },
    {
      "cell_type": "code",
      "source": [
        "metricas_clasificacion(y_test_classifier, y_pred_clasificacion_arr)"
      ],
      "metadata": {
        "colab": {
          "base_uri": "https://localhost:8080/"
        },
        "id": "hS1ZCcYyGb_i",
        "outputId": "47ef6626-8363-4dd7-abb1-0519d1b971cb"
      },
      "execution_count": 400,
      "outputs": [
        {
          "output_type": "stream",
          "name": "stdout",
          "text": [
            "Accuracy: 0.57\n",
            "Precision: 0.61\n",
            "Recall: 0.5\n",
            "F1 Score: 0.5\n"
          ]
        }
      ]
    },
    {
      "cell_type": "markdown",
      "metadata": {
        "id": "JDpREdwKxB6m"
      },
      "source": [
        "## 3. Ensamble de Modelos"
      ]
    },
    {
      "cell_type": "markdown",
      "metadata": {
        "id": "KvLq10beDadg"
      },
      "source": [
        "### 3.1 Ensamble Híbrido: Voting - Clasificación"
      ]
    },
    {
      "cell_type": "markdown",
      "metadata": {
        "id": "EAT6HU3buhLU"
      },
      "source": [
        "#### 3.1.1 Preparación del dataset"
      ]
    },
    {
      "cell_type": "markdown",
      "metadata": {
        "id": "aZNjL2W-vZvC"
      },
      "source": [
        "Para la parte de ensambles, lo que haremos será utilizar nuevamente el dataset al cual se le aplicó una reducción de su dimensionalidad en el trabajo práctico n°1. \n",
        "\n",
        "Para esto lo que haremos será trabajar con una copia del dataset modificado al inicio del trabajo, el cual usa como base el reducido mencionado anteriormente."
      ]
    },
    {
      "cell_type": "markdown",
      "metadata": {
        "id": "fDp1eW_cHfxt"
      },
      "source": [
        "Para nuestra variable `target`, utilizaremos como convención la misma que fue planteada para el tp1. Ésta consiste en subdividir a la variable pxm2 (precio por metro cuadrado) en 3 intervalos, 25% a bajo, 50% a medio y el otro 25% restante a alto. A su vez, se hará la separación tambien por tipo de propiedad."
      ]
    },
    {
      "cell_type": "code",
      "execution_count": 401,
      "metadata": {
        "id": "7T0ZW9l-dcqI"
      },
      "outputs": [],
      "source": [
        "x_train_voting = x_train_classifier\n",
        "y_train_voting = y_train_classifier\n",
        "\n",
        "x_test_voting = x_test_classifier\n",
        "y_test_voting = y_test_classifier"
      ]
    },
    {
      "cell_type": "code",
      "execution_count": 402,
      "metadata": {
        "id": "sSKtHVSSgBhv",
        "colab": {
          "base_uri": "https://localhost:8080/"
        },
        "outputId": "e73001fd-4fe9-4f59-dd5a-cb68c883bca1"
      },
      "outputs": [
        {
          "output_type": "stream",
          "name": "stdout",
          "text": [
            "Se observaron: \n",
            " - 18566 registros de tipo 'bajo'. \n",
            " - 37145 registros de tipo 'medio'. \n",
            " - 18542 registros de tipo 'alto'.\n"
          ]
        }
      ],
      "source": [
        "bajo = y_train_voting['bajo'].sum() + y_test_voting[y_test_voting == 'bajo'].count()\n",
        "medio = y_train_voting['medio'].sum() + y_test_voting[y_test_voting == 'medio'].count()\n",
        "alto = y_train_voting['alto'].sum() + y_test_voting[y_test_voting == 'alto'].count()\n",
        "\n",
        "print(f\"Se observaron: \\n - {round(bajo,3)} registros de tipo 'bajo'. \\n - {round(medio,3)} registros de tipo 'medio'. \\n - {round(alto,3)} registros de tipo 'alto'.\")"
      ]
    },
    {
      "cell_type": "markdown",
      "metadata": {
        "id": "_kG7ZRlKuaxT"
      },
      "source": [
        "#### 3.1.2 Definición del Ensamble"
      ]
    },
    {
      "cell_type": "markdown",
      "metadata": {
        "id": "CGYLj6zEDcf7"
      },
      "source": [
        "Para el tipo de ensamble **voting**, lo que necesitaremos será contar con `n` cantidad de modelos previamente entrenados para luego someterlos a una votación. De la misma, saldrá la clasificación para la nueva instancia en base a lo que indique la mayoría de ellos."
      ]
    },
    {
      "cell_type": "markdown",
      "metadata": {
        "id": "FTMs6ZsBDd_Y"
      },
      "source": [
        "Elegimos tomar como modelos los mismos empleados en el TP1:\n",
        "\n",
        "\n",
        "*   Árbol de Decisión\n",
        "*   Random Forest\n",
        "*   KNN\n",
        "\n"
      ]
    },
    {
      "cell_type": "code",
      "execution_count": 403,
      "metadata": {
        "id": "dgIHIuvADf8f"
      },
      "outputs": [],
      "source": [
        "dcs_clf = DecisionTreeClassifier()\n",
        "rnd_clf = RandomForestClassifier()\n",
        "knn_clf = KNeighborsClassifier()"
      ]
    },
    {
      "cell_type": "markdown",
      "metadata": {
        "id": "AEgb4Z2xDon_"
      },
      "source": [
        "Una vez que contamos con los modelos que vamos a utilizar en el ensamble, procedemos a su creación. En este caso particular decidimos utilizar el tipo de votación hard el cual utilizará la regla de la mayoría. Por otro lado, utilizamos el hiperparámetro `estimators` para definir como nos vamos a referir a dichos modelos."
      ]
    },
    {
      "cell_type": "code",
      "execution_count": 404,
      "metadata": {
        "id": "WlSEwC0ODq26"
      },
      "outputs": [],
      "source": [
        "vot_clf = VotingClassifier(estimators = [('dcs', dcs_clf), ('rnd', rnd_clf), ('knn', knn_clf)], voting = 'hard')"
      ]
    },
    {
      "cell_type": "markdown",
      "metadata": {
        "id": "D8sgMCouvLx-"
      },
      "source": [
        "#### 3.1.3 Entrenamiento y Predicción"
      ]
    },
    {
      "cell_type": "markdown",
      "source": [
        "Reorganizamos los valores predichos para que queden en una sola columna, y comparamos con el conjunto de prueba:"
      ],
      "metadata": {
        "collapsed": false,
        "id": "_aTA577USlsB"
      }
    },
    {
      "cell_type": "code",
      "execution_count": 405,
      "outputs": [],
      "source": [
        "y_train_voting_arr = np.apply_along_axis(convert_b_m_a, axis=1, arr=y_train_voting)"
      ],
      "metadata": {
        "id": "ylyPOrZ9SlsC"
      }
    },
    {
      "cell_type": "markdown",
      "source": [
        "Seguimos reacomodando los valores para poder calcular las métricas correspondientes, notemos que no pueden guardarse valores equivalentes al string 'medio' en el array:"
      ],
      "metadata": {
        "id": "pMyijnL-SlsD"
      }
    },
    {
      "cell_type": "code",
      "source": [
        "np.unique(y_train_voting_arr)"
      ],
      "metadata": {
        "colab": {
          "base_uri": "https://localhost:8080/"
        },
        "outputId": "d2718cf6-e906-4a73-ad13-c2e83a53ba0b",
        "id": "oMGsKgJLSlsE"
      },
      "execution_count": 406,
      "outputs": [
        {
          "output_type": "execute_result",
          "data": {
            "text/plain": [
              "array(['alto', 'bajo', 'medi'], dtype='<U4')"
            ]
          },
          "metadata": {},
          "execution_count": 406
        }
      ]
    },
    {
      "cell_type": "markdown",
      "source": [
        "Aplicamos estrategias de transformación de datos:"
      ],
      "metadata": {
        "id": "mmDJFqfxSlsE"
      }
    },
    {
      "cell_type": "code",
      "source": [
        "y_train_voting_arr = np.where(y_train_voting_arr == 'medi', 'medio', y_train_voting_arr)"
      ],
      "metadata": {
        "id": "vK5dgr3SSlsE"
      },
      "execution_count": 407,
      "outputs": []
    },
    {
      "cell_type": "code",
      "source": [
        "np.unique(y_train_voting_arr)"
      ],
      "metadata": {
        "colab": {
          "base_uri": "https://localhost:8080/"
        },
        "outputId": "0b4d48d9-6279-4374-c07f-48227c195ea0",
        "id": "B0Wmo-6KSlsF"
      },
      "execution_count": 408,
      "outputs": [
        {
          "output_type": "execute_result",
          "data": {
            "text/plain": [
              "array(['alto', 'bajo', 'medio'], dtype='<U5')"
            ]
          },
          "metadata": {},
          "execution_count": 408
        }
      ]
    },
    {
      "cell_type": "markdown",
      "source": [
        "Finalmente, entrenamos el ensamle:"
      ],
      "metadata": {
        "id": "JAJbjjZ1SlsF"
      }
    },
    {
      "cell_type": "code",
      "execution_count": 409,
      "metadata": {
        "id": "3yr85PLiD1vO",
        "colab": {
          "base_uri": "https://localhost:8080/"
        },
        "outputId": "b6206045-7068-460c-8edb-cb9af021488d"
      },
      "outputs": [
        {
          "output_type": "execute_result",
          "data": {
            "text/plain": [
              "VotingClassifier(estimators=[('dcs', DecisionTreeClassifier()),\n",
              "                             ('rnd', RandomForestClassifier()),\n",
              "                             ('knn', KNeighborsClassifier())])"
            ]
          },
          "metadata": {},
          "execution_count": 409
        }
      ],
      "source": [
        "vot_clf.fit(x_train_voting, y_train_voting_arr)"
      ]
    },
    {
      "cell_type": "code",
      "source": [
        "y_pred_voting = vot_clf.predict(x_test_voting)"
      ],
      "metadata": {
        "id": "0mf1Le81Ujyc"
      },
      "execution_count": 410,
      "outputs": []
    },
    {
      "cell_type": "markdown",
      "metadata": {
        "id": "JTaTYoJYuv-M"
      },
      "source": [
        "#### 3.1.4 Métricas"
      ]
    },
    {
      "cell_type": "markdown",
      "metadata": {
        "id": "UoJ-lAV7Qz6M"
      },
      "source": [
        "Para poder determinar que tan bueno resulto el modelo, lo que haremos será observar las `métricas` resultantes de una predicción con los datos de test. Recordemos que nuestras funcinoes de metricas fueron definidas al inicio de este trabajo."
      ]
    },
    {
      "cell_type": "code",
      "execution_count": 411,
      "metadata": {
        "id": "I1klUyeDQ3zj",
        "colab": {
          "base_uri": "https://localhost:8080/"
        },
        "outputId": "c6221a4a-012e-46d4-8954-8053a3cdb220"
      },
      "outputs": [
        {
          "output_type": "stream",
          "name": "stdout",
          "text": [
            "Accuracy: 0.6\n",
            "Precision: 0.59\n",
            "Recall: 0.58\n",
            "F1 Score: 0.59\n"
          ]
        }
      ],
      "source": [
        "metricas_clasificacion(y_test_voting, y_pred_voting)"
      ]
    },
    {
      "cell_type": "markdown",
      "metadata": {
        "id": "QnFftUBRQ5zk"
      },
      "source": [
        "A su vez, también podemos visualizar los mismos a través de la siguiente matriz de confusión."
      ]
    },
    {
      "cell_type": "code",
      "execution_count": 412,
      "metadata": {
        "id": "I6EWIuOUQ7W7",
        "colab": {
          "base_uri": "https://localhost:8080/",
          "height": 296
        },
        "outputId": "c7c0498e-3597-4119-f6c4-c3f74cbaa3ca"
      },
      "outputs": [
        {
          "output_type": "execute_result",
          "data": {
            "text/plain": [
              "Text(33.0, 0.5, 'True')"
            ]
          },
          "metadata": {},
          "execution_count": 412
        },
        {
          "output_type": "display_data",
          "data": {
            "text/plain": [
              "<Figure size 432x288 with 2 Axes>"
            ],
            "image/png": "[encoded data removed]"
          },
          "metadata": {
            "needs_background": "light"
          }
        }
      ],
      "source": [
        "matrix = confusion_matrix(y_test_voting, y_pred_voting)\n",
        "sns.heatmap(matrix,cmap='GnBu',annot=True,fmt='g')\n",
        "plt.xlabel('Predicted')\n",
        "plt.ylabel('True')"
      ]
    },
    {
      "cell_type": "markdown",
      "metadata": {
        "id": "3gDV2ozmQ9mb"
      },
      "source": [
        "### 3.2 Ensamble Híbrido: Stacking - Regresión"
      ]
    },
    {
      "cell_type": "markdown",
      "metadata": {
        "id": "DRpAEJ7WrgeV"
      },
      "source": [
        "#### 3.1.1 Preparación del dataset"
      ]
    },
    {
      "cell_type": "markdown",
      "metadata": {
        "id": "XQwjdBg4rgeW"
      },
      "source": [
        "Nuevamente, utilizamos los datasets de train y test previamente separados:"
      ]
    },
    {
      "cell_type": "code",
      "execution_count": 494,
      "metadata": {
        "id": "9obURdGWrgeW"
      },
      "outputs": [],
      "source": [
        "x_train_stacking = x_train_regressor\n",
        "y_train_stacking = y_train_regressor\n",
        "\n",
        "x_test_stacking = x_test_regressor\n",
        "y_test_stacking = y_test_regressor"
      ]
    },
    {
      "cell_type": "markdown",
      "source": [
        "#### 3.2.2 Definición del Ensamble\n"
      ],
      "metadata": {
        "id": "4FjGFid7Y7Fj"
      }
    },
    {
      "cell_type": "markdown",
      "metadata": {
        "id": "i3EG9oZ3Q_zL"
      },
      "source": [
        "Lo que haremos en esta nueva sección, será implementar un nuevo tipo de ensable híbrido con la salvedad de que esta vez utilizaremos el tipo `cascading`.\n",
        "El mismo se basa en el entrenamiento de distintos `modelos base`, y a su vez utilizará un `meta-modelo` el cual realizará su predicción en base a las predicciones de los diferentes modelos comentados anteriormente. \n",
        "\n",
        "Como es indicado por el enunciado del trabajo se utilizarán modelos de regresión. En particular, decidimos trabajar con:\n",
        "\n",
        "\n",
        "*   KNN\n",
        "*   XGBoost\n",
        "*   AdaBoost\n",
        "\n"
      ]
    },
    {
      "cell_type": "code",
      "execution_count": 495,
      "metadata": {
        "id": "RABxXC92RBwq"
      },
      "outputs": [],
      "source": [
        "knn_rgs = KNeighborsRegressor()\n",
        "xgb_rgs = XGBRegressor()\n",
        "adb_rgs = AdaBoostRegressor()"
      ]
    },
    {
      "cell_type": "markdown",
      "metadata": {
        "id": "eoI5ilXVRD06"
      },
      "source": [
        "Luego utilizamos los mismos para definir nuestro modelo base, en el cual luego se basará el meta-modelo."
      ]
    },
    {
      "cell_type": "code",
      "execution_count": 496,
      "metadata": {
        "id": "qK74SKO-RF4U"
      },
      "outputs": [],
      "source": [
        "base_models = [('KNN', knn_rgs),\n",
        "               ('XGBoost', xgb_rgs),\n",
        "               ('AdaBoost', adb_rgs)]"
      ]
    },
    {
      "cell_type": "markdown",
      "metadata": {
        "id": "C7j2qzBXRHd6"
      },
      "source": [
        "Como mencionamos, a continuación los utilizaremos para definir nuestro meta-modelo. Para este último, decidimos emplear el modelo de regresión logistica."
      ]
    },
    {
      "cell_type": "code",
      "execution_count": 512,
      "metadata": {
        "id": "8mRJmKOSRJCy"
      },
      "outputs": [],
      "source": [
        "from sklearn.ensemble import GradientBoostingRegressor\n",
        "\n",
        "meta_model = GradientBoostingRegressor()"
      ]
    },
    {
      "cell_type": "markdown",
      "metadata": {
        "id": "PnA6P4zORKsq"
      },
      "source": [
        "Creamos nuestro ensamble indicando como modelos estimadores Knn, XGBoost y AdaBoost, y como estimador final el modelo de Regresión Lineal."
      ]
    },
    {
      "cell_type": "code",
      "source": [
        "s = 5\n",
        "n = 2"
      ],
      "metadata": {
        "id": "6j70-9G75VW2"
      },
      "execution_count": 513,
      "outputs": []
    },
    {
      "cell_type": "code",
      "execution_count": 514,
      "metadata": {
        "id": "YWOHgLGcRMHr"
      },
      "outputs": [],
      "source": [
        "stacking_model = StackingRegressor(estimators=base_models, \n",
        "                                    final_estimator=meta_model, \n",
        "                                    passthrough=True, \n",
        "                                    cv=s,\n",
        "                                    verbose=n)"
      ]
    },
    {
      "cell_type": "markdown",
      "source": [
        "#### 3.2.3 Entrenamiento y Predicción"
      ],
      "metadata": {
        "id": "GYCuFlWQZhlo"
      }
    },
    {
      "cell_type": "code",
      "source": [
        "model_scores = defaultdict()\n",
        "\n",
        "for name, model in base_models:\n",
        "    print('Evaluating {}'.format(name))\n",
        "    scores = evaluate_model(model, x_train_stacking, y_train_stacking, s, n)\n",
        "    model_scores[name] = scores"
      ],
      "metadata": {
        "colab": {
          "base_uri": "https://localhost:8080/"
        },
        "id": "QomGOhfXEgg7",
        "outputId": "194b07d2-158d-4691-956b-781280ec6b76"
      },
      "execution_count": 500,
      "outputs": [
        {
          "output_type": "stream",
          "name": "stdout",
          "text": [
            "Evaluating KNN\n"
          ]
        },
        {
          "output_type": "stream",
          "name": "stderr",
          "text": [
            "[Parallel(n_jobs=3)]: Using backend LokyBackend with 3 concurrent workers.\n",
            "[Parallel(n_jobs=3)]: Done  10 out of  10 | elapsed:  1.8min finished\n",
            "[Parallel(n_jobs=3)]: Using backend LokyBackend with 3 concurrent workers.\n"
          ]
        },
        {
          "output_type": "stream",
          "name": "stdout",
          "text": [
            "Evaluating XGBoost\n"
          ]
        },
        {
          "output_type": "stream",
          "name": "stderr",
          "text": [
            "[Parallel(n_jobs=3)]: Done  10 out of  10 | elapsed:  1.2min finished\n",
            "[Parallel(n_jobs=3)]: Using backend LokyBackend with 3 concurrent workers.\n"
          ]
        },
        {
          "output_type": "stream",
          "name": "stdout",
          "text": [
            "Evaluating AdaBoost\n"
          ]
        },
        {
          "output_type": "stream",
          "name": "stderr",
          "text": [
            "[Parallel(n_jobs=3)]: Done  10 out of  10 | elapsed:  1.8min finished\n"
          ]
        }
      ]
    },
    {
      "cell_type": "markdown",
      "source": [
        "Veamos cómo resultaron los scores de los modelos:"
      ],
      "metadata": {
        "id": "hyJIbF3HsxK8"
      }
    },
    {
      "cell_type": "code",
      "source": [
        "plot_results(model_scores, name='stacking_model_cv')"
      ],
      "metadata": {
        "colab": {
          "base_uri": "https://localhost:8080/",
          "height": 542
        },
        "id": "CPzQs8HBsuR4",
        "outputId": "eb217981-2fff-4d99-b98c-01f4d65e82cb"
      },
      "execution_count": 519,
      "outputs": [
        {
          "output_type": "display_data",
          "data": {
            "text/html": [
              "<html>\n",
              "<head><meta charset=\"utf-8\" /></head>\n",
              "<body>\n",
              "    <div>            <script src=\"https://cdnjs.cloudflare.com/ajax/libs/mathjax/2.7.5/MathJax.js?config=TeX-AMS-MML_SVG\"></script><script type=\"text/javascript\">if (window.MathJax) {MathJax.Hub.Config({SVG: {font: \"STIX-Web\"}});}</script>                <script type=\"text/javascript\">window.PlotlyConfig = {MathJaxConfig: 'local'};</script>\n",
              "        <script src=\"https://cdn.plot.ly/plotly-2.8.3.min.js\"></script>                <div id=\"f43a9d58-0334-4f61-92b3-9ac21926f3f6\" class=\"plotly-graph-div\" style=\"height:525px; width:100%;\"></div>            <script type=\"text/javascript\">                                    window.PLOTLYENV=window.PLOTLYENV || {};                                    if (document.getElementById(\"f43a9d58-0334-4f61-92b3-9ac21926f3f6\")) {                    Plotly.newPlot(                        \"f43a9d58-0334-4f61-92b3-9ac21926f3f6\",                        [{\"boxpoints\":\"all\",\"jitter\":0.5,\"line\":{\"width\":1},\"marker\":{\"size\":2},\"name\":\"KNN\",\"whiskerwidth\":0.2,\"y\":[-17100433170.193855,-18164699179.10037,-13039629223.506037,-11287520226.793531,-13078638091.593252,-15627185647.225872,-19131380236.95116,-13337477809.173029,-12967890661.539345,-11696517248.174694],\"type\":\"box\"},{\"boxpoints\":\"all\",\"jitter\":0.5,\"line\":{\"width\":1},\"marker\":{\"size\":2},\"name\":\"XGBoost\",\"whiskerwidth\":0.2,\"y\":[-14588703447.338871,-15827463387.8718,-11487575997.697329,-8936215932.218523,-11093737912.999708,-14153844590.561321,-15721691201.108109,-11386964097.378239,-10669453146.746244,-10258824535.860266],\"type\":\"box\"},{\"boxpoints\":\"all\",\"jitter\":0.5,\"line\":{\"width\":1},\"marker\":{\"size\":2},\"name\":\"AdaBoost\",\"whiskerwidth\":0.2,\"y\":[-287900109080.1268,-69362480598.65721,-167808426676.78046,-53385013510.55188,-164637704810.02032,-33805855513.202465,-97139210943.97508,-216422048287.4645,-29302731583.04281,-148547085823.39575],\"type\":\"box\"}],                        {\"template\":{\"data\":{\"bar\":[{\"error_x\":{\"color\":\"#2a3f5f\"},\"error_y\":{\"color\":\"#2a3f5f\"},\"marker\":{\"line\":{\"color\":\"#E5ECF6\",\"width\":0.5},\"pattern\":{\"fillmode\":\"overlay\",\"size\":10,\"solidity\":0.2}},\"type\":\"bar\"}],\"barpolar\":[{\"marker\":{\"line\":{\"color\":\"#E5ECF6\",\"width\":0.5},\"pattern\":{\"fillmode\":\"overlay\",\"size\":10,\"solidity\":0.2}},\"type\":\"barpolar\"}],\"carpet\":[{\"aaxis\":{\"endlinecolor\":\"#2a3f5f\",\"gridcolor\":\"white\",\"linecolor\":\"white\",\"minorgridcolor\":\"white\",\"startlinecolor\":\"#2a3f5f\"},\"baxis\":{\"endlinecolor\":\"#2a3f5f\",\"gridcolor\":\"white\",\"linecolor\":\"white\",\"minorgridcolor\":\"white\",\"startlinecolor\":\"#2a3f5f\"},\"type\":\"carpet\"}],\"choropleth\":[{\"colorbar\":{\"outlinewidth\":0,\"ticks\":\"\"},\"type\":\"choropleth\"}],\"contour\":[{\"colorbar\":{\"outlinewidth\":0,\"ticks\":\"\"},\"colorscale\":[[0.0,\"#0d0887\"],[0.1111111111111111,\"#46039f\"],[0.2222222222222222,\"#7201a8\"],[0.3333333333333333,\"#9c179e\"],[0.4444444444444444,\"#bd3786\"],[0.5555555555555556,\"#d8576b\"],[0.6666666666666666,\"#ed7953\"],[0.7777777777777778,\"#fb9f3a\"],[0.8888888888888888,\"#fdca26\"],[1.0,\"#f0f921\"]],\"type\":\"contour\"}],\"contourcarpet\":[{\"colorbar\":{\"outlinewidth\":0,\"ticks\":\"\"},\"type\":\"contourcarpet\"}],\"heatmap\":[{\"colorbar\":{\"outlinewidth\":0,\"ticks\":\"\"},\"colorscale\":[[0.0,\"#0d0887\"],[0.1111111111111111,\"#46039f\"],[0.2222222222222222,\"#7201a8\"],[0.3333333333333333,\"#9c179e\"],[0.4444444444444444,\"#bd3786\"],[0.5555555555555556,\"#d8576b\"],[0.6666666666666666,\"#ed7953\"],[0.7777777777777778,\"#fb9f3a\"],[0.8888888888888888,\"#fdca26\"],[1.0,\"#f0f921\"]],\"type\":\"heatmap\"}],\"heatmapgl\":[{\"colorbar\":{\"outlinewidth\":0,\"ticks\":\"\"},\"colorscale\":[[0.0,\"#0d0887\"],[0.1111111111111111,\"#46039f\"],[0.2222222222222222,\"#7201a8\"],[0.3333333333333333,\"#9c179e\"],[0.4444444444444444,\"#bd3786\"],[0.5555555555555556,\"#d8576b\"],[0.6666666666666666,\"#ed7953\"],[0.7777777777777778,\"#fb9f3a\"],[0.8888888888888888,\"#fdca26\"],[1.0,\"#f0f921\"]],\"type\":\"heatmapgl\"}],\"histogram\":[{\"marker\":{\"pattern\":{\"fillmode\":\"overlay\",\"size\":10,\"solidity\":0.2}},\"type\":\"histogram\"}],\"histogram2d\":[{\"colorbar\":{\"outlinewidth\":0,\"ticks\":\"\"},\"colorscale\":[[0.0,\"#0d0887\"],[0.1111111111111111,\"#46039f\"],[0.2222222222222222,\"#7201a8\"],[0.3333333333333333,\"#9c179e\"],[0.4444444444444444,\"#bd3786\"],[0.5555555555555556,\"#d8576b\"],[0.6666666666666666,\"#ed7953\"],[0.7777777777777778,\"#fb9f3a\"],[0.8888888888888888,\"#fdca26\"],[1.0,\"#f0f921\"]],\"type\":\"histogram2d\"}],\"histogram2dcontour\":[{\"colorbar\":{\"outlinewidth\":0,\"ticks\":\"\"},\"colorscale\":[[0.0,\"#0d0887\"],[0.1111111111111111,\"#46039f\"],[0.2222222222222222,\"#7201a8\"],[0.3333333333333333,\"#9c179e\"],[0.4444444444444444,\"#bd3786\"],[0.5555555555555556,\"#d8576b\"],[0.6666666666666666,\"#ed7953\"],[0.7777777777777778,\"#fb9f3a\"],[0.8888888888888888,\"#fdca26\"],[1.0,\"#f0f921\"]],\"type\":\"histogram2dcontour\"}],\"mesh3d\":[{\"colorbar\":{\"outlinewidth\":0,\"ticks\":\"\"},\"type\":\"mesh3d\"}],\"parcoords\":[{\"line\":{\"colorbar\":{\"outlinewidth\":0,\"ticks\":\"\"}},\"type\":\"parcoords\"}],\"pie\":[{\"automargin\":true,\"type\":\"pie\"}],\"scatter\":[{\"marker\":{\"colorbar\":{\"outlinewidth\":0,\"ticks\":\"\"}},\"type\":\"scatter\"}],\"scatter3d\":[{\"line\":{\"colorbar\":{\"outlinewidth\":0,\"ticks\":\"\"}},\"marker\":{\"colorbar\":{\"outlinewidth\":0,\"ticks\":\"\"}},\"type\":\"scatter3d\"}],\"scattercarpet\":[{\"marker\":{\"colorbar\":{\"outlinewidth\":0,\"ticks\":\"\"}},\"type\":\"scattercarpet\"}],\"scattergeo\":[{\"marker\":{\"colorbar\":{\"outlinewidth\":0,\"ticks\":\"\"}},\"type\":\"scattergeo\"}],\"scattergl\":[{\"marker\":{\"colorbar\":{\"outlinewidth\":0,\"ticks\":\"\"}},\"type\":\"scattergl\"}],\"scattermapbox\":[{\"marker\":{\"colorbar\":{\"outlinewidth\":0,\"ticks\":\"\"}},\"type\":\"scattermapbox\"}],\"scatterpolar\":[{\"marker\":{\"colorbar\":{\"outlinewidth\":0,\"ticks\":\"\"}},\"type\":\"scatterpolar\"}],\"scatterpolargl\":[{\"marker\":{\"colorbar\":{\"outlinewidth\":0,\"ticks\":\"\"}},\"type\":\"scatterpolargl\"}],\"scatterternary\":[{\"marker\":{\"colorbar\":{\"outlinewidth\":0,\"ticks\":\"\"}},\"type\":\"scatterternary\"}],\"surface\":[{\"colorbar\":{\"outlinewidth\":0,\"ticks\":\"\"},\"colorscale\":[[0.0,\"#0d0887\"],[0.1111111111111111,\"#46039f\"],[0.2222222222222222,\"#7201a8\"],[0.3333333333333333,\"#9c179e\"],[0.4444444444444444,\"#bd3786\"],[0.5555555555555556,\"#d8576b\"],[0.6666666666666666,\"#ed7953\"],[0.7777777777777778,\"#fb9f3a\"],[0.8888888888888888,\"#fdca26\"],[1.0,\"#f0f921\"]],\"type\":\"surface\"}],\"table\":[{\"cells\":{\"fill\":{\"color\":\"#EBF0F8\"},\"line\":{\"color\":\"white\"}},\"header\":{\"fill\":{\"color\":\"#C8D4E3\"},\"line\":{\"color\":\"white\"}},\"type\":\"table\"}]},\"layout\":{\"annotationdefaults\":{\"arrowcolor\":\"#2a3f5f\",\"arrowhead\":0,\"arrowwidth\":1},\"autotypenumbers\":\"strict\",\"coloraxis\":{\"colorbar\":{\"outlinewidth\":0,\"ticks\":\"\"}},\"colorscale\":{\"diverging\":[[0,\"#8e0152\"],[0.1,\"#c51b7d\"],[0.2,\"#de77ae\"],[0.3,\"#f1b6da\"],[0.4,\"#fde0ef\"],[0.5,\"#f7f7f7\"],[0.6,\"#e6f5d0\"],[0.7,\"#b8e186\"],[0.8,\"#7fbc41\"],[0.9,\"#4d9221\"],[1,\"#276419\"]],\"sequential\":[[0.0,\"#0d0887\"],[0.1111111111111111,\"#46039f\"],[0.2222222222222222,\"#7201a8\"],[0.3333333333333333,\"#9c179e\"],[0.4444444444444444,\"#bd3786\"],[0.5555555555555556,\"#d8576b\"],[0.6666666666666666,\"#ed7953\"],[0.7777777777777778,\"#fb9f3a\"],[0.8888888888888888,\"#fdca26\"],[1.0,\"#f0f921\"]],\"sequentialminus\":[[0.0,\"#0d0887\"],[0.1111111111111111,\"#46039f\"],[0.2222222222222222,\"#7201a8\"],[0.3333333333333333,\"#9c179e\"],[0.4444444444444444,\"#bd3786\"],[0.5555555555555556,\"#d8576b\"],[0.6666666666666666,\"#ed7953\"],[0.7777777777777778,\"#fb9f3a\"],[0.8888888888888888,\"#fdca26\"],[1.0,\"#f0f921\"]]},\"colorway\":[\"#636efa\",\"#EF553B\",\"#00cc96\",\"#ab63fa\",\"#FFA15A\",\"#19d3f3\",\"#FF6692\",\"#B6E880\",\"#FF97FF\",\"#FECB52\"],\"font\":{\"color\":\"#2a3f5f\"},\"geo\":{\"bgcolor\":\"white\",\"lakecolor\":\"white\",\"landcolor\":\"#E5ECF6\",\"showlakes\":true,\"showland\":true,\"subunitcolor\":\"white\"},\"hoverlabel\":{\"align\":\"left\"},\"hovermode\":\"closest\",\"mapbox\":{\"style\":\"light\"},\"paper_bgcolor\":\"white\",\"plot_bgcolor\":\"#E5ECF6\",\"polar\":{\"angularaxis\":{\"gridcolor\":\"white\",\"linecolor\":\"white\",\"ticks\":\"\"},\"bgcolor\":\"#E5ECF6\",\"radialaxis\":{\"gridcolor\":\"white\",\"linecolor\":\"white\",\"ticks\":\"\"}},\"scene\":{\"xaxis\":{\"backgroundcolor\":\"#E5ECF6\",\"gridcolor\":\"white\",\"gridwidth\":2,\"linecolor\":\"white\",\"showbackground\":true,\"ticks\":\"\",\"zerolinecolor\":\"white\"},\"yaxis\":{\"backgroundcolor\":\"#E5ECF6\",\"gridcolor\":\"white\",\"gridwidth\":2,\"linecolor\":\"white\",\"showbackground\":true,\"ticks\":\"\",\"zerolinecolor\":\"white\"},\"zaxis\":{\"backgroundcolor\":\"#E5ECF6\",\"gridcolor\":\"white\",\"gridwidth\":2,\"linecolor\":\"white\",\"showbackground\":true,\"ticks\":\"\",\"zerolinecolor\":\"white\"}},\"shapedefaults\":{\"line\":{\"color\":\"#2a3f5f\"}},\"ternary\":{\"aaxis\":{\"gridcolor\":\"white\",\"linecolor\":\"white\",\"ticks\":\"\"},\"baxis\":{\"gridcolor\":\"white\",\"linecolor\":\"white\",\"ticks\":\"\"},\"bgcolor\":\"#E5ECF6\",\"caxis\":{\"gridcolor\":\"white\",\"linecolor\":\"white\",\"ticks\":\"\"}},\"title\":{\"x\":0.05},\"xaxis\":{\"automargin\":true,\"gridcolor\":\"white\",\"linecolor\":\"white\",\"ticks\":\"\",\"title\":{\"standoff\":15},\"zerolinecolor\":\"white\",\"zerolinewidth\":2},\"yaxis\":{\"automargin\":true,\"gridcolor\":\"white\",\"linecolor\":\"white\",\"ticks\":\"\",\"title\":{\"standoff\":15},\"zerolinecolor\":\"white\",\"zerolinewidth\":2}}},\"title\":{\"text\":\"Performance of Different Models Using 5-Fold Cross-Validation\"},\"paper_bgcolor\":\"rgb(243, 243, 243)\",\"plot_bgcolor\":\"rgb(243, 243, 243)\",\"xaxis\":{\"title\":{\"text\":\"Model\"}},\"yaxis\":{\"title\":{\"text\":\"Error Cuadr\\u00e1tico Medio\"}},\"showlegend\":false},                        {\"responsive\": true}                    ).then(function(){\n",
              "                            \n",
              "var gd = document.getElementById('f43a9d58-0334-4f61-92b3-9ac21926f3f6');\n",
              "var x = new MutationObserver(function (mutations, observer) {{\n",
              "        var display = window.getComputedStyle(gd).display;\n",
              "        if (!display || display === 'none') {{\n",
              "            console.log([gd, 'removed!']);\n",
              "            Plotly.purge(gd);\n",
              "            observer.disconnect();\n",
              "        }}\n",
              "}});\n",
              "\n",
              "// Listen for the removal of the full notebook cells\n",
              "var notebookContainer = gd.closest('#notebook-container');\n",
              "if (notebookContainer) {{\n",
              "    x.observe(notebookContainer, {childList: true});\n",
              "}}\n",
              "\n",
              "// Listen for the clearing of the current output cell\n",
              "var outputEl = gd.closest('.output');\n",
              "if (outputEl) {{\n",
              "    x.observe(outputEl, {childList: true});\n",
              "}}\n",
              "\n",
              "                        })                };                            </script>        </div>\n",
              "</body>\n",
              "</html>"
            ]
          },
          "metadata": {}
        }
      ]
    },
    {
      "cell_type": "markdown",
      "source": [
        "Entrenamos el modelo:"
      ],
      "metadata": {
        "id": "uduejW9os8-J"
      }
    },
    {
      "cell_type": "code",
      "source": [
        "stacking_model.fit(x_train_stacking, y_train_stacking)"
      ],
      "metadata": {
        "colab": {
          "base_uri": "https://localhost:8080/"
        },
        "id": "VT_HO24fk7kR",
        "outputId": "493453ee-589e-43ee-8d16-23788c30d146"
      },
      "execution_count": 515,
      "outputs": [
        {
          "output_type": "stream",
          "name": "stdout",
          "text": [
            "[04:31:51] WARNING: /workspace/src/objective/regression_obj.cu:152: reg:linear is now deprecated in favor of reg:squarederror.\n"
          ]
        },
        {
          "output_type": "stream",
          "name": "stderr",
          "text": [
            "[Parallel(n_jobs=1)]: Using backend SequentialBackend with 1 concurrent workers.\n",
            "[Parallel(n_jobs=1)]: Done   1 out of   1 | elapsed:   19.4s remaining:    0.0s\n",
            "[Parallel(n_jobs=1)]: Done   5 out of   5 | elapsed:  1.4min finished\n",
            "[Parallel(n_jobs=1)]: Using backend SequentialBackend with 1 concurrent workers.\n"
          ]
        },
        {
          "output_type": "stream",
          "name": "stdout",
          "text": [
            "[04:33:49] WARNING: /workspace/src/objective/regression_obj.cu:152: reg:linear is now deprecated in favor of reg:squarederror.\n"
          ]
        },
        {
          "output_type": "stream",
          "name": "stderr",
          "text": [
            "[Parallel(n_jobs=1)]: Done   1 out of   1 | elapsed:    8.9s remaining:    0.0s\n"
          ]
        },
        {
          "output_type": "stream",
          "name": "stdout",
          "text": [
            "[04:33:58] WARNING: /workspace/src/objective/regression_obj.cu:152: reg:linear is now deprecated in favor of reg:squarederror.\n",
            "[04:34:10] WARNING: /workspace/src/objective/regression_obj.cu:152: reg:linear is now deprecated in favor of reg:squarederror.\n",
            "[04:34:19] WARNING: /workspace/src/objective/regression_obj.cu:152: reg:linear is now deprecated in favor of reg:squarederror.\n",
            "[04:34:27] WARNING: /workspace/src/objective/regression_obj.cu:152: reg:linear is now deprecated in favor of reg:squarederror.\n"
          ]
        },
        {
          "output_type": "stream",
          "name": "stderr",
          "text": [
            "[Parallel(n_jobs=1)]: Done   5 out of   5 | elapsed:   47.6s finished\n",
            "[Parallel(n_jobs=1)]: Using backend SequentialBackend with 1 concurrent workers.\n",
            "[Parallel(n_jobs=1)]: Done   1 out of   1 | elapsed:   12.8s remaining:    0.0s\n",
            "[Parallel(n_jobs=1)]: Done   5 out of   5 | elapsed:  1.1min finished\n"
          ]
        },
        {
          "output_type": "execute_result",
          "data": {
            "text/plain": [
              "StackingRegressor(cv=5,\n",
              "                  estimators=[('KNN', KNeighborsRegressor()),\n",
              "                              ('XGBoost', XGBRegressor()),\n",
              "                              ('AdaBoost', AdaBoostRegressor())],\n",
              "                  final_estimator=GradientBoostingRegressor(), passthrough=True,\n",
              "                  verbose=2)"
            ]
          },
          "metadata": {},
          "execution_count": 515
        }
      ]
    },
    {
      "cell_type": "markdown",
      "source": [
        "Finalmente haremos la predicción:"
      ],
      "metadata": {
        "id": "567lujdizE8r"
      }
    },
    {
      "cell_type": "code",
      "source": [
        "y_pred_stacking = stacking_model.predict(x_test_stacking)"
      ],
      "metadata": {
        "id": "_Cw7e8GzzEFC"
      },
      "execution_count": 516,
      "outputs": []
    },
    {
      "cell_type": "markdown",
      "source": [
        "#### 3.2.4 Métricas"
      ],
      "metadata": {
        "id": "mUjE089xzI7j"
      }
    },
    {
      "cell_type": "markdown",
      "source": [
        "Para poder evaluar la performance que obtuvo nuestro modelo utilizaremos la métrica de evaluación del error cuadrático medio (MSE) como se pide por enunciado."
      ],
      "metadata": {
        "id": "dLNhGzU6zNVc"
      }
    },
    {
      "cell_type": "code",
      "source": [
        "mse = metrics.mean_squared_error(\n",
        "        y_true  = y_test_stacking,\n",
        "        y_pred  = y_pred_stacking,\n",
        "        squared = True\n",
        "       )\n",
        "\n",
        "print(f\"El error según la métrica 'Mean Square Error' de test es: {mse}\")"
      ],
      "metadata": {
        "id": "ZgpouA6A0e1-",
        "colab": {
          "base_uri": "https://localhost:8080/"
        },
        "outputId": "51efa144-7a88-4b32-9540-7c4fab50fb8b"
      },
      "execution_count": 517,
      "outputs": [
        {
          "output_type": "stream",
          "name": "stdout",
          "text": [
            "El error según la métrica 'Mean Square Error' de test es: 196148449292.13702\n"
          ]
        }
      ]
    },
    {
      "cell_type": "markdown",
      "source": [
        "## Conclusiones"
      ],
      "metadata": {
        "id": "VFntMJUkIzEu"
      }
    },
    {
      "cell_type": "markdown",
      "source": [
        "1. Procesamiento del Lenguaje Natural \n",
        "\n",
        "  a. usamos Minqing Hu y Bing Liu para la deteccion de aspectos y regex para filtrar posibles valores\n",
        "\n",
        "2. Redes Neuronales\n",
        "3. Ensamble de Modelos"
      ],
      "metadata": {
        "id": "CE40zH4PI4xY"
      }
    }
  ],
  "metadata": {
    "kernelspec": {
      "display_name": "Python 3",
      "language": "python",
      "name": "python3"
    },
    "language_info": {
      "codemirror_mode": {
        "name": "ipython",
        "version": 2
      },
      "file_extension": ".py",
      "mimetype": "text/x-python",
      "name": "python",
      "nbconvert_exporter": "python",
      "pygments_lexer": "ipython2",
      "version": "2.7.6"
    },
    "colab": {
      "provenance": [],
      "collapsed_sections": [
        "JDpREdwKxB6m",
        "KvLq10beDadg",
        "_kG7ZRlKuaxT",
        "EAT6HU3buhLU",
        "D8sgMCouvLx-",
        "JTaTYoJYuv-M",
        "3gDV2ozmQ9mb",
        "VFntMJUkIzEu"
      ],
      "toc_visible": true
    }
  },
  "nbformat": 4,
  "nbformat_minor": 0
}