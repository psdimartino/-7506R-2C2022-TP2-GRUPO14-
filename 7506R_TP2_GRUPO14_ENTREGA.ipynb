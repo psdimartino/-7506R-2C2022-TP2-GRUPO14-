{
 "cells": [
  {
   "cell_type": "markdown",
   "source": [
    "______________________________________\n",
    "# <center>**Trabajo Practico Nº2 para la Materia *Organización de Datos***</center>\n",
    "\n",
    "*Integrantes*:\n",
    "- 103963\tCarolina Di Matteo\tcdimatteo@fi.uba.ar\n",
    "- 101231\tPablo Salvador Dimartino\tpdimartino@fi.uba.ar\n",
    "- 100113\tJuan Sebastian Burgos\tjsburgos@fi.uba.ar\n",
    "- 104415\tValentina Laura Correa\tvcorrea@fi.uba.ar\n",
    "\n",
    "*Grupo*: 14\n",
    "\n",
    "*Repositorio*: [github](https://github.com/valencorrea/7506R-2C2022-GRUPO14)\n",
    "\n",
    "*Curso*: Rodriguez\n",
    "\n",
    "*Cuatrimestre*: 2c2022\n",
    "\n",
    "Datos provistos por [properati](https://www.properati.com.ar).\n",
    "______________________________________\n"
   ],
   "metadata": {
    "collapsed": false,
    "id": "ALhQpMoS2Do2"
   }
  },
  {
   "cell_type": "markdown",
   "source": [
    "## Introducción"
   ],
   "metadata": {
    "id": "jrObdaVTw13E"
   }
  },
  {
   "cell_type": "markdown",
   "source": [
    "El presente trabajo práctico es una continuación del ‘TP1: Propiedades en Venta’. \n",
    "\n",
    "En la entrega anterior se propuso aplicar técnicas de análisis exploratorio, preprocesamiento de datos, agrupamiento, clasificación y regresión. Siguiendo esta línea, y con el objetivo de continuar resolviendo problemas reales de ciencia de datos, en esta segunda parte se implementarán nuevos modelos predictivos a partir de los anteriormente mencionados. \n",
    "\n",
    "En esta oportunidad se buscará demostrar los conocimientos adquiridos sobre procesamiento del lenguaje natural, redes neuronales y ensamble de modelos. Para esto se utilizarán tanto datasets provistos por la materia, tomados de la página de la empresa Properati, como los generados por el grupo en el trabajo anterior."
   ],
   "metadata": {
    "id": "8Tot765gvLP2"
   }
  },
  {
   "cell_type": "markdown",
   "source": [
    "## 0. Setup"
   ],
   "metadata": {
    "id": "civIgEQKvQ6A"
   }
  },
  {
   "cell_type": "markdown",
   "source": [
    "### Importación de bibliotecas"
   ],
   "metadata": {
    "id": "vrqonJJjvVay"
   }
  },
  {
   "cell_type": "code",
   "execution_count": 75,
   "outputs": [
    {
     "name": "stdout",
     "output_type": "stream",
     "text": [
      "Requirement already satisfied: visualkeras in c:\\users\\salvador\\anaconda3\\envs\\datos\\lib\\site-packages (0.0.2)\n",
      "Requirement already satisfied: aggdraw>=1.3.11 in c:\\users\\salvador\\anaconda3\\envs\\datos\\lib\\site-packages (from visualkeras) (1.3.15)\n",
      "Requirement already satisfied: pillow>=6.2.0 in c:\\users\\salvador\\anaconda3\\envs\\datos\\lib\\site-packages (from visualkeras) (9.2.0)\n",
      "Requirement already satisfied: numpy>=1.18.1 in c:\\users\\salvador\\anaconda3\\envs\\datos\\lib\\site-packages (from visualkeras) (1.21.5)\n",
      "Note: you may need to restart the kernel to use updated packages.\n"
     ]
    }
   ],
   "source": [
    "pip install visualkeras"
   ],
   "metadata": {
    "id": "h6RrCiyq2Do7",
    "colab": {
     "base_uri": "https://localhost:8080/"
    },
    "outputId": "3e7b3e93-b112-4351-a933-5d45f291d371"
   }
  },
  {
   "cell_type": "code",
   "source": [
    "pip install unidecode"
   ],
   "metadata": {
    "id": "vdZzPMc93I-C",
    "colab": {
     "base_uri": "https://localhost:8080/"
    },
    "outputId": "045bdfc2-9805-43c2-c41d-1cd20aa7efce"
   },
   "execution_count": 76,
   "outputs": [
    {
     "name": "stdout",
     "output_type": "stream",
     "text": [
      "Requirement already satisfied: unidecode in c:\\users\\salvador\\anaconda3\\envs\\datos\\lib\\site-packages (1.2.0)\n",
      "Note: you may need to restart the kernel to use updated packages.\n"
     ]
    }
   ]
  },
  {
   "cell_type": "code",
   "source": [
    "pip install types-all"
   ],
   "metadata": {
    "id": "7SrZ6Pvh8b_K",
    "colab": {
     "base_uri": "https://localhost:8080/"
    },
    "outputId": "2aff2586-af7e-4665-9009-c3ba548ce286"
   },
   "execution_count": 77,
   "outputs": [
    {
     "name": "stdout",
     "output_type": "stream",
     "text": [
      "Requirement already satisfied: types-all in c:\\users\\salvador\\anaconda3\\envs\\datos\\lib\\site-packages (1.0.0)\n",
      "Requirement already satisfied: types-Jinja2 in c:\\users\\salvador\\anaconda3\\envs\\datos\\lib\\site-packages (from types-all) (2.11.9)\n",
      "Requirement already satisfied: types-Pillow in c:\\users\\salvador\\anaconda3\\envs\\datos\\lib\\site-packages (from types-all) (9.3.0.4)\n",
      "Requirement already satisfied: types-maxminddb in c:\\users\\salvador\\anaconda3\\envs\\datos\\lib\\site-packages (from types-all) (1.5.0)\n",
      "Requirement already satisfied: types-protobuf in c:\\users\\salvador\\anaconda3\\envs\\datos\\lib\\site-packages (from types-all) (4.21.0.2)\n",
      "Requirement already satisfied: types-cryptography in c:\\users\\salvador\\anaconda3\\envs\\datos\\lib\\site-packages (from types-all) (3.3.23.2)\n",
      "Requirement already satisfied: types-typed-ast in c:\\users\\salvador\\anaconda3\\envs\\datos\\lib\\site-packages (from types-all) (1.5.8.3)\n",
      "Requirement already satisfied: types-click in c:\\users\\salvador\\anaconda3\\envs\\datos\\lib\\site-packages (from types-all) (7.1.8)\n",
      "Requirement already satisfied: types-geoip2 in c:\\users\\salvador\\anaconda3\\envs\\datos\\lib\\site-packages (from types-all) (3.0.0)\n",
      "Requirement already satisfied: types-termcolor in c:\\users\\salvador\\anaconda3\\envs\\datos\\lib\\site-packages (from types-all) (1.1.6)\n",
      "Requirement already satisfied: types-dateparser in c:\\users\\salvador\\anaconda3\\envs\\datos\\lib\\site-packages (from types-all) (1.1.4.4)\n",
      "Requirement already satisfied: types-decorator in c:\\users\\salvador\\anaconda3\\envs\\datos\\lib\\site-packages (from types-all) (5.1.8.1)\n",
      "Requirement already satisfied: types-itsdangerous in c:\\users\\salvador\\anaconda3\\envs\\datos\\lib\\site-packages (from types-all) (1.1.6)\n",
      "Requirement already satisfied: types-python-gflags in c:\\users\\salvador\\anaconda3\\envs\\datos\\lib\\site-packages (from types-all) (3.1.7.1)\n",
      "Requirement already satisfied: types-click-spinner in c:\\users\\salvador\\anaconda3\\envs\\datos\\lib\\site-packages (from types-all) (0.1.13.1)\n",
      "Requirement already satisfied: types-paramiko in c:\\users\\salvador\\anaconda3\\envs\\datos\\lib\\site-packages (from types-all) (2.12.0.1)\n",
      "Requirement already satisfied: types-Werkzeug in c:\\users\\salvador\\anaconda3\\envs\\datos\\lib\\site-packages (from types-all) (1.0.9)\n",
      "Requirement already satisfied: types-Deprecated in c:\\users\\salvador\\anaconda3\\envs\\datos\\lib\\site-packages (from types-all) (1.2.9)\n",
      "Requirement already satisfied: types-dataclasses in c:\\users\\salvador\\anaconda3\\envs\\datos\\lib\\site-packages (from types-all) (0.6.6)\n",
      "Requirement already satisfied: types-JACK-Client in c:\\users\\salvador\\anaconda3\\envs\\datos\\lib\\site-packages (from types-all) (0.5.10.3)\n",
      "Requirement already satisfied: types-MarkupSafe in c:\\users\\salvador\\anaconda3\\envs\\datos\\lib\\site-packages (from types-all) (1.1.10)\n",
      "Requirement already satisfied: types-python-dateutil in c:\\users\\salvador\\anaconda3\\envs\\datos\\lib\\site-packages (from types-all) (2.8.19.5)\n",
      "Requirement already satisfied: types-backports in c:\\users\\salvador\\anaconda3\\envs\\datos\\lib\\site-packages (from types-all) (0.1.3)\n",
      "Requirement already satisfied: types-scribe in c:\\users\\salvador\\anaconda3\\envs\\datos\\lib\\site-packages (from types-all) (2.0.0)\n",
      "Requirement already satisfied: types-bleach in c:\\users\\salvador\\anaconda3\\envs\\datos\\lib\\site-packages (from types-all) (5.0.3.1)\n",
      "Requirement already satisfied: types-tabulate in c:\\users\\salvador\\anaconda3\\envs\\datos\\lib\\site-packages (from types-all) (0.9.0.0)\n",
      "Requirement already satisfied: types-PyJWT in c:\\users\\salvador\\anaconda3\\envs\\datos\\lib\\site-packages (from types-all) (1.7.1)\n",
      "Requirement already satisfied: types-annoy in c:\\users\\salvador\\anaconda3\\envs\\datos\\lib\\site-packages (from types-all) (1.17.8.1)\n",
      "Requirement already satisfied: types-tzlocal in c:\\users\\salvador\\anaconda3\\envs\\datos\\lib\\site-packages (from types-all) (4.2.2.2)\n",
      "Requirement already satisfied: types-openssl-python in c:\\users\\salvador\\anaconda3\\envs\\datos\\lib\\site-packages (from types-all) (0.1.3)\n",
      "Requirement already satisfied: types-fb303 in c:\\users\\salvador\\anaconda3\\envs\\datos\\lib\\site-packages (from types-all) (1.0.0)\n",
      "Requirement already satisfied: types-cachetools in c:\\users\\salvador\\anaconda3\\envs\\datos\\lib\\site-packages (from types-all) (5.2.1)\n",
      "Requirement already satisfied: types-docopt in c:\\users\\salvador\\anaconda3\\envs\\datos\\lib\\site-packages (from types-all) (0.6.11)\n",
      "Requirement already satisfied: types-pycurl in c:\\users\\salvador\\anaconda3\\envs\\datos\\lib\\site-packages (from types-all) (7.45.2.0)\n",
      "Requirement already satisfied: types-DateTimeRange in c:\\users\\salvador\\anaconda3\\envs\\datos\\lib\\site-packages (from types-all) (1.2.8)\n",
      "Requirement already satisfied: types-docutils in c:\\users\\salvador\\anaconda3\\envs\\datos\\lib\\site-packages (from types-all) (0.19.1.1)\n",
      "Requirement already satisfied: types-PyYAML in c:\\users\\salvador\\anaconda3\\envs\\datos\\lib\\site-packages (from types-all) (6.0.12.2)\n",
      "Requirement already satisfied: types-tornado in c:\\users\\salvador\\anaconda3\\envs\\datos\\lib\\site-packages (from types-all) (5.1.1)\n",
      "Requirement already satisfied: types-nmap in c:\\users\\salvador\\anaconda3\\envs\\datos\\lib\\site-packages (from types-all) (0.1.6)\n",
      "Requirement already satisfied: types-contextvars in c:\\users\\salvador\\anaconda3\\envs\\datos\\lib\\site-packages (from types-all) (2.4.7)\n",
      "Requirement already satisfied: types-pyfarmhash in c:\\users\\salvador\\anaconda3\\envs\\datos\\lib\\site-packages (from types-all) (0.3.1)\n",
      "Requirement already satisfied: types-ipaddress in c:\\users\\salvador\\anaconda3\\envs\\datos\\lib\\site-packages (from types-all) (1.0.8)\n",
      "Requirement already satisfied: types-pathlib2 in c:\\users\\salvador\\anaconda3\\envs\\datos\\lib\\site-packages (from types-all) (2.3.0)\n",
      "Requirement already satisfied: types-Markdown in c:\\users\\salvador\\anaconda3\\envs\\datos\\lib\\site-packages (from types-all) (3.4.2.1)\n",
      "Requirement already satisfied: types-emoji in c:\\users\\salvador\\anaconda3\\envs\\datos\\lib\\site-packages (from types-all) (2.1.0.1)\n",
      "Requirement already satisfied: types-python-slugify in c:\\users\\salvador\\anaconda3\\envs\\datos\\lib\\site-packages (from types-all) (7.0.0.1)\n",
      "Requirement already satisfied: types-mypy-extensions in c:\\users\\salvador\\anaconda3\\envs\\datos\\lib\\site-packages (from types-all) (0.4.24)\n",
      "Requirement already satisfied: types-croniter in c:\\users\\salvador\\anaconda3\\envs\\datos\\lib\\site-packages (from types-all) (1.3.2.1)\n",
      "Requirement already satisfied: types-waitress in c:\\users\\salvador\\anaconda3\\envs\\datos\\lib\\site-packages (from types-all) (2.1.4.3)\n",
      "Requirement already satisfied: types-Flask in c:\\users\\salvador\\anaconda3\\envs\\datos\\lib\\site-packages (from types-all) (1.1.6)\n",
      "Requirement already satisfied: types-kazoo in c:\\users\\salvador\\anaconda3\\envs\\datos\\lib\\site-packages (from types-all) (0.1.3)\n",
      "Requirement already satisfied: types-backports-abc in c:\\users\\salvador\\anaconda3\\envs\\datos\\lib\\site-packages (from types-all) (0.5.2)\n",
      "Requirement already satisfied: types-frozendict in c:\\users\\salvador\\anaconda3\\envs\\datos\\lib\\site-packages (from types-all) (2.0.9)\n",
      "Requirement already satisfied: types-atomicwrites in c:\\users\\salvador\\anaconda3\\envs\\datos\\lib\\site-packages (from types-all) (1.4.5.1)\n",
      "Requirement already satisfied: types-aiofiles in c:\\users\\salvador\\anaconda3\\envs\\datos\\lib\\site-packages (from types-all) (22.1.0.4)\n",
      "Requirement already satisfied: types-enum34 in c:\\users\\salvador\\anaconda3\\envs\\datos\\lib\\site-packages (from types-all) (1.1.8)\n",
      "Requirement already satisfied: types-boto in c:\\users\\salvador\\anaconda3\\envs\\datos\\lib\\site-packages (from types-all) (2.49.18.3)\n",
      "Requirement already satisfied: types-mock in c:\\users\\salvador\\anaconda3\\envs\\datos\\lib\\site-packages (from types-all) (4.0.15.2)\n",
      "Requirement already satisfied: types-requests in c:\\users\\salvador\\anaconda3\\envs\\datos\\lib\\site-packages (from types-all) (2.28.11.6)\n",
      "Requirement already satisfied: types-polib in c:\\users\\salvador\\anaconda3\\envs\\datos\\lib\\site-packages (from types-all) (1.1.12.1)\n",
      "Requirement already satisfied: types-xxhash in c:\\users\\salvador\\anaconda3\\envs\\datos\\lib\\site-packages (from types-all) (3.0.5.1)\n",
      "Requirement already satisfied: types-first in c:\\users\\salvador\\anaconda3\\envs\\datos\\lib\\site-packages (from types-all) (2.0.5)\n",
      "Requirement already satisfied: types-pyvmomi in c:\\users\\salvador\\anaconda3\\envs\\datos\\lib\\site-packages (from types-all) (8.0.0.0)\n",
      "Requirement already satisfied: types-six in c:\\users\\salvador\\anaconda3\\envs\\datos\\lib\\site-packages (from types-all) (1.16.21.4)\n",
      "Requirement already satisfied: types-pymssql in c:\\users\\salvador\\anaconda3\\envs\\datos\\lib\\site-packages (from types-all) (2.1.0)\n",
      "Requirement already satisfied: types-chardet in c:\\users\\salvador\\anaconda3\\envs\\datos\\lib\\site-packages (from types-all) (5.0.4.1)\n",
      "Requirement already satisfied: types-pkg-resources in c:\\users\\salvador\\anaconda3\\envs\\datos\\lib\\site-packages (from types-all) (0.1.3)\n",
      "Requirement already satisfied: types-PyMySQL in c:\\users\\salvador\\anaconda3\\envs\\datos\\lib\\site-packages (from types-all) (1.0.19.1)\n",
      "Requirement already satisfied: types-characteristic in c:\\users\\salvador\\anaconda3\\envs\\datos\\lib\\site-packages (from types-all) (14.3.7)\n",
      "Requirement already satisfied: types-Routes in c:\\users\\salvador\\anaconda3\\envs\\datos\\lib\\site-packages (from types-all) (2.5.0)\n",
      "Requirement already satisfied: types-toml in c:\\users\\salvador\\anaconda3\\envs\\datos\\lib\\site-packages (from types-all) (0.10.8.1)\n",
      "Requirement already satisfied: types-retry in c:\\users\\salvador\\anaconda3\\envs\\datos\\lib\\site-packages (from types-all) (0.9.9)\n",
      "Requirement already satisfied: types-singledispatch in c:\\users\\salvador\\anaconda3\\envs\\datos\\lib\\site-packages (from types-all) (3.7.5.1)\n",
      "Requirement already satisfied: types-futures in c:\\users\\salvador\\anaconda3\\envs\\datos\\lib\\site-packages (from types-all) (3.3.8)\n",
      "Requirement already satisfied: types-simplejson in c:\\users\\salvador\\anaconda3\\envs\\datos\\lib\\site-packages (from types-all) (3.18.0.0)\n",
      "Requirement already satisfied: types-filelock in c:\\users\\salvador\\anaconda3\\envs\\datos\\lib\\site-packages (from types-all) (3.2.7)\n",
      "Requirement already satisfied: types-colorama in c:\\users\\salvador\\anaconda3\\envs\\datos\\lib\\site-packages (from types-all) (0.4.15.4)\n",
      "Requirement already satisfied: types-orjson in c:\\users\\salvador\\anaconda3\\envs\\datos\\lib\\site-packages (from types-all) (3.6.2)\n",
      "Requirement already satisfied: types-ujson in c:\\users\\salvador\\anaconda3\\envs\\datos\\lib\\site-packages (from types-all) (5.6.0.0)\n",
      "Requirement already satisfied: types-pytz in c:\\users\\salvador\\anaconda3\\envs\\datos\\lib\\site-packages (from types-all) (2022.7.0.0)\n",
      "Requirement already satisfied: types-certifi in c:\\users\\salvador\\anaconda3\\envs\\datos\\lib\\site-packages (from types-all) (2021.10.8.3)\n",
      "Requirement already satisfied: types-pysftp in c:\\users\\salvador\\anaconda3\\envs\\datos\\lib\\site-packages (from types-all) (0.2.17)\n",
      "Requirement already satisfied: types-pyRFC3339 in c:\\users\\salvador\\anaconda3\\envs\\datos\\lib\\site-packages (from types-all) (1.1.1.1)\n",
      "Requirement already satisfied: types-redis in c:\\users\\salvador\\anaconda3\\envs\\datos\\lib\\site-packages (from types-all) (4.3.21.6)\n",
      "Requirement already satisfied: types-pyaudio in c:\\users\\salvador\\anaconda3\\envs\\datos\\lib\\site-packages (from types-all) (0.2.16.4)\n",
      "Requirement already satisfied: types-freezegun in c:\\users\\salvador\\anaconda3\\envs\\datos\\lib\\site-packages (from types-all) (1.1.10)\n",
      "Requirement already satisfied: types-urllib3<1.27 in c:\\users\\salvador\\anaconda3\\envs\\datos\\lib\\site-packages (from types-requests->types-all) (1.26.25.4)\n",
      "Note: you may need to restart the kernel to use updated packages.\n"
     ]
    }
   ]
  },
  {
   "cell_type": "markdown",
   "source": [
    "### Funciones auxiliares"
   ],
   "metadata": {
    "id": "Wbnc_RGevbaL"
   }
  },
  {
   "cell_type": "code",
   "execution_count": 78,
   "outputs": [],
   "source": [
    "def metricas_clasificacion(y_test, y_pred):\n",
    "    print(f'Accuracy: {round(accuracy_score(y_test, y_pred),2)}')\n",
    "    print(f'Precision: {round(precision_score(y_test, y_pred, average=\"macro\"),2)}')\n",
    "    print(f'Recall: {round(recall_score(y_test, y_pred, average=\"macro\"),2)}')\n",
    "    print(f'F1 Score: {round(f1_score(y_test, y_pred, average=\"macro\"),2)}')"
   ],
   "metadata": {
    "collapsed": false
   }
  },
  {
   "cell_type": "code",
   "source": [
    "def prediccion_y_metricas_regresion(regressor, x_test, y_test):\n",
    "  \n",
    "  y_pred = regressor.predict(x_test)\n",
    "\n",
    "  pct = np.sum(y_test.values == y_pred) / len(y_test) * 100\n",
    "\n",
    "  print(f\"Se obtuvo un {round(pct,3)}% de aciertos.\")\n",
    "\n",
    "  mse = metrics.mean_squared_error(\n",
    "        y_true  = y_test,\n",
    "        y_pred  = y_pred,\n",
    "        squared = True\n",
    "       )\n",
    "\n",
    "  print(f\"El error según la métrica 'Mean Square Error' de test es: {mse}\")\n",
    "\n",
    "  rmse = metrics.mean_squared_error(\n",
    "        y_true  = y_test,\n",
    "        y_pred  = y_pred,\n",
    "        squared = False\n",
    "       )\n",
    "\n",
    "  print(f\"El error según la métrica 'Root Mean Square Error' de test es: {rmse}\")\n",
    "\n",
    "  print(f\"El coeficiente de determinación de test es: {regressor.score(x_test, y_test)}\")\n",
    "  \n",
    "  return y_pred"
   ],
   "metadata": {
    "id": "c8p6gNJzfuGw"
   },
   "execution_count": 79,
   "outputs": []
  },
  {
   "cell_type": "code",
   "execution_count": 80,
   "outputs": [],
   "source": [
    "#Importación de librerías\n",
    "\n",
    "import numpy as np\n",
    "import matplotlib.pyplot as plt\n",
    "import seaborn as sns\n",
    "import pandas as pd\n",
    "\n",
    "from xgboost import XGBRegressor\n",
    "from scipy.stats import zscore\n",
    "from sklearn.preprocessing import StandardScaler\n",
    "from tensorflow import keras\n",
    "from sklearn.metrics import confusion_matrix\n",
    "from sklearn.ensemble import StackingRegressor\n",
    "from sklearn.ensemble import AdaBoostRegressor\n",
    "from sklearn.neighbors import KNeighborsRegressor\n",
    "from sklearn.tree import DecisionTreeClassifier\n",
    "from sklearn.ensemble import RandomForestClassifier\n",
    "from sklearn.neighbors import KNeighborsClassifier\n",
    "from sklearn.ensemble import VotingClassifier\n",
    "from collections import Counter\n",
    "import unidecode\n",
    "import re\n",
    "from joblib import load, dump\n",
    "from sklearn.metrics import make_scorer\n",
    "from sklearn.model_selection import RandomizedSearchCV, StratifiedKFold\n",
    "from keras.metrics import MeanSquaredError\n",
    "from sklearn.metrics import recall_score, accuracy_score, f1_score, precision_score\n",
    "from sklearn import metrics\n",
    "from sklearn.model_selection import cross_val_score, RepeatedStratifiedKFold\n",
    "from collections import defaultdict\n",
    "\n",
    "#Configuración de Warnings\n",
    "import warnings\n",
    "warnings.filterwarnings('ignore')\n",
    "warnings.simplefilter(action='ignore', category=FutureWarning)\n",
    "warnings.simplefilter(action='ignore', category=UserWarning)\n",
    "\n",
    "#Ejecución con Drive\n",
    "if 'google.colab' in str(get_ipython()):\n",
    "    IN_COLAB = True\n",
    "else:\n",
    "    IN_COLAB = False\n",
    "\n",
    "if IN_COLAB :\n",
    "    from google.colab import drive\n",
    "    drive.mount('/content/drive')\n",
    "\n",
    "    properati = pd.read_csv('/content/drive/MyDrive/📔 Organización de Datos (75.06)/TPS/TP2/1d_df_reducido.csv')\n",
    "    properati_decrip = pd.read_csv('/content/drive/MyDrive/📔 Organización de Datos (75.06)/TPS/TP1/properati_argentina_2021_decrip.csv')\n",
    "    stop_words = '/content/drive/MyDrive/📔 Organización de Datos (75.06)/TPS/TP2/stopwords.txt'\n",
    "else:\n",
    "    # properati = pd.read_csv('./1d_df_reducido.csv')\n",
    "    df_train = pd.read_csv('./DATASETS/df_train_tp1.csv')\n",
    "    df_test = pd.read_csv('./DATASETS/df_test_tp1.csv')\n",
    "    properati_decrip = pd.read_csv('properati_argentina_2021_decrip.csv')\n",
    "    stop_words = 'stopwords'"
   ],
   "metadata": {
    "collapsed": false
   }
  },
  {
   "cell_type": "code",
   "source": [
    "def format_aspects(line, word):\n",
    "    format = r\"\\W*([\\w]+)\"\n",
    "    n = 2\n",
    "    x = re.search(r'{}\\W*{}{}'.format(format*n, word, format*n), line)\n",
    "    if x is not None:\n",
    "        return x.group()\n",
    "    else:\n",
    "        return \"\""
   ],
   "metadata": {
    "id": "CCKsO-A5w7TQ"
   },
   "execution_count": 81,
   "outputs": []
  },
  {
   "cell_type": "code",
   "source": [
    "def convert_b_m_a(x):\n",
    "    mx = max(x[0], x[1], x[2])\n",
    "    if mx == x[0]:\n",
    "        return 'bajo'\n",
    "    elif mx == x[1]:\n",
    "        return 'medio'\n",
    "    elif mx == x[2]:\n",
    "        return 'alto'"
   ],
   "metadata": {
    "id": "3suAr0ciwY91"
   },
   "execution_count": 82,
   "outputs": []
  },
  {
   "cell_type": "code",
   "source": [
    "def estandarizar(df, columns):\n",
    "  sscaler = StandardScaler()\n",
    "\n",
    "  for col in columns:\n",
    "    df[col] = sscaler.fit_transform(pd.DataFrame(df[col]))"
   ],
   "metadata": {
    "id": "0LF1eyB9l4nt"
   },
   "execution_count": 83,
   "outputs": []
  },
  {
   "cell_type": "code",
   "execution_count": 84,
   "outputs": [],
   "source": [
    "def limpiar_values_de_aspects(df, aspects, values):\n",
    "    i = 0\n",
    "    for aspect in aspects:\n",
    "        for word in values[i]:\n",
    "            df[aspect] = df[aspect].apply(lambda line: word if word in line else line)\n",
    "        df[aspect] = df[aspect].apply(lambda line: line if len(line.split())<2 else '')\n",
    "        i = i+1"
   ],
   "metadata": {
    "id": "AAEy2PV92DpO"
   }
  },
  {
   "cell_type": "code",
   "source": [
    "def evaluate_model(model, x, y, splits, n):\n",
    "    cv = RepeatedStratifiedKFold(n_splits=splits, n_repeats=n, random_state=1)\n",
    "    scores = cross_val_score(model, x, y, scoring='neg_mean_squared_error', cv=cv, verbose=1, n_jobs=3, error_score='raise')\n",
    "    return scores"
   ],
   "metadata": {
    "id": "tDt5-bPcEn_m"
   },
   "execution_count": 85,
   "outputs": []
  },
  {
   "cell_type": "code",
   "source": [
    "import plotly.graph_objects as go\n",
    "\n",
    "def plot_results(model_scores, name):\n",
    "    \n",
    "    model_names = list(model_scores.keys())\n",
    "    results = [model_scores[model] for model in model_names]\n",
    "    fig = go.Figure()\n",
    "    for model, result in zip(model_names, results):\n",
    "        fig.add_trace(go.Box(\n",
    "            y=result,\n",
    "            name=model,\n",
    "            boxpoints='all',\n",
    "            jitter=0.5,\n",
    "            whiskerwidth=0.2,\n",
    "            marker_size=2,\n",
    "            line_width=1)\n",
    "        )\n",
    "    \n",
    "    fig.update_layout(\n",
    "    title='Performance of Different Models Using 5-Fold Cross-Validation',\n",
    "    paper_bgcolor='rgb(243, 243, 243)',\n",
    "    plot_bgcolor='rgb(243, 243, 243)',\n",
    "    xaxis_title='Model',\n",
    "    yaxis_title='Error Cuadrático Medio',\n",
    "    showlegend=False)\n",
    "    fig.show()"
   ],
   "metadata": {
    "id": "NImxsouY4HaJ"
   },
   "execution_count": 86,
   "outputs": []
  },
  {
   "cell_type": "markdown",
   "source": [
    "### Preparación de datasets"
   ],
   "metadata": {
    "id": "yG33nESmvkqN"
   }
  },
  {
   "cell_type": "code",
   "execution_count": 87,
   "outputs": [],
   "source": [
    "df_train_x = df_train.drop([\"property_price\", \"tipo_precio_3\"], axis=\"columns\")\n",
    "df_train_y_regresion = df_train[\"property_price\"]\n",
    "df_train_y_clasificacion = df_train[\"tipo_precio_3\"]\n",
    "\n",
    "df_test_x = df_test.drop([\"property_price\", \"tipo_precio_3\"], axis=\"columns\")\n",
    "df_test_y_regresion = df_test[\"property_price\"]\n",
    "df_test_y_clasificacion = df_test[\"tipo_precio_3\"]"
   ],
   "metadata": {
    "id": "TG2e42GCvuKG"
   }
  },
  {
   "cell_type": "markdown",
   "source": [
    "## 1. Procesamiento del Lenguaje Natural"
   ],
   "metadata": {
    "collapsed": false,
    "id": "DajLENWv2DpA"
   }
  },
  {
   "cell_type": "code",
   "execution_count": 88,
   "outputs": [
    {
     "data": {
      "text/plain": "                             id  start_date  end_date    latitud   longitud  \\\n0      mQStJ0NPSYuW7WA/0yOYuA==      737971    737991 -34.576973 -58.406591   \n1      Gi/LqlLpBXSMH9vD5kWUcw==      737867    737868 -34.610046 -58.361382   \n2      iYU9D39208HZ55k43esCsQ==      737875    738097 -34.569770 -58.431032   \n3      u8oPwCg2R/C105SlZ9nlaQ==      738132    738182 -34.579756 -58.406144   \n4      RZ744+VZFnLS5FWxmtTJ7A==      737875    738097 -34.569770 -58.431032   \n...                         ...         ...       ...        ...        ...   \n74246  gjDlqGq2nWf+CPc551sOLA==      737802    737946 -34.572157 -58.494807   \n74247  iUcJrjtJZ2tfUn8MCeINXg==      737797    737946 -34.583718 -58.484141   \n74248  0AykXoJ/wWbfvBxIZpmROw==      737802    737946 -34.572512 -58.478717   \n74249  n0zZ/20zmO5ixVaixtu4vw==      737802    737946 -34.572512 -58.478717   \n74250  hal/efGbnEY3vCt3/DQ55A==      737802    737946 -34.572512 -58.478717   \n\n       property_rooms  property_surface_total  property_price tipo_precio_3  \\\n0                 7.0                   415.0          6200.0          bajo   \n1                 4.0                   194.0          5000.0          bajo   \n2                 4.0                   260.0         11111.0          bajo   \n3                 3.0                   120.0          7500.0          bajo   \n4                 4.0                   165.0         11111.0          bajo   \n...               ...                     ...             ...           ...   \n74246             3.0                     1.0        285000.0          alto   \n74247             4.0                     1.0        498000.0          alto   \n74248             5.0                     1.0        598000.0          alto   \n74249             5.0                     1.0        598000.0          alto   \n74250             5.0                     1.0        628000.0          alto   \n\n       place_l4_Agronomía  ...  place_l4_Villa Ortuzar  \\\n0                       0  ...                       0   \n1                       0  ...                       0   \n2                       0  ...                       0   \n3                       0  ...                       0   \n4                       0  ...                       0   \n...                   ...  ...                     ...   \n74246                   0  ...                       0   \n74247                   0  ...                       0   \n74248                   0  ...                       0   \n74249                   0  ...                       0   \n74250                   0  ...                       0   \n\n       place_l4_Villa Pueyrredón  place_l4_Villa Real  \\\n0                              0                    0   \n1                              0                    0   \n2                              0                    0   \n3                              0                    0   \n4                              0                    0   \n...                          ...                  ...   \n74246                          0                    0   \n74247                          0                    0   \n74248                          0                    0   \n74249                          0                    0   \n74250                          0                    0   \n\n       place_l4_Villa Riachuelo  place_l4_Villa Santa Rita  \\\n0                             0                          0   \n1                             0                          0   \n2                             0                          0   \n3                             0                          0   \n4                             0                          0   \n...                         ...                        ...   \n74246                         0                          0   \n74247                         0                          0   \n74248                         0                          0   \n74249                         0                          0   \n74250                         0                          0   \n\n       place_l4_Villa Soldati  place_l4_Villa Urquiza  \\\n0                           0                       0   \n1                           0                       0   \n2                           0                       0   \n3                           0                       0   \n4                           0                       0   \n...                       ...                     ...   \n74246                       0                       1   \n74247                       0                       1   \n74248                       0                       1   \n74249                       0                       1   \n74250                       0                       1   \n\n       place_l4_Villa del Parque  property_type_Departamento  property_type_PH  \n0                              0                           1                 0  \n1                              0                           1                 0  \n2                              0                           1                 0  \n3                              0                           1                 0  \n4                              0                           1                 0  \n...                          ...                         ...               ...  \n74246                          0                           1                 0  \n74247                          0                           0                 0  \n74248                          0                           1                 0  \n74249                          0                           1                 0  \n74250                          0                           1                 0  \n\n[74251 rows x 72 columns]",
      "text/html": "<div>\n<style scoped>\n    .dataframe tbody tr th:only-of-type {\n        vertical-align: middle;\n    }\n\n    .dataframe tbody tr th {\n        vertical-align: top;\n    }\n\n    .dataframe thead th {\n        text-align: right;\n    }\n</style>\n<table border=\"1\" class=\"dataframe\">\n  <thead>\n    <tr style=\"text-align: right;\">\n      <th></th>\n      <th>id</th>\n      <th>start_date</th>\n      <th>end_date</th>\n      <th>latitud</th>\n      <th>longitud</th>\n      <th>property_rooms</th>\n      <th>property_surface_total</th>\n      <th>property_price</th>\n      <th>tipo_precio_3</th>\n      <th>place_l4_Agronomía</th>\n      <th>...</th>\n      <th>place_l4_Villa Ortuzar</th>\n      <th>place_l4_Villa Pueyrredón</th>\n      <th>place_l4_Villa Real</th>\n      <th>place_l4_Villa Riachuelo</th>\n      <th>place_l4_Villa Santa Rita</th>\n      <th>place_l4_Villa Soldati</th>\n      <th>place_l4_Villa Urquiza</th>\n      <th>place_l4_Villa del Parque</th>\n      <th>property_type_Departamento</th>\n      <th>property_type_PH</th>\n    </tr>\n  </thead>\n  <tbody>\n    <tr>\n      <th>0</th>\n      <td>mQStJ0NPSYuW7WA/0yOYuA==</td>\n      <td>737971</td>\n      <td>737991</td>\n      <td>-34.576973</td>\n      <td>-58.406591</td>\n      <td>7.0</td>\n      <td>415.0</td>\n      <td>6200.0</td>\n      <td>bajo</td>\n      <td>0</td>\n      <td>...</td>\n      <td>0</td>\n      <td>0</td>\n      <td>0</td>\n      <td>0</td>\n      <td>0</td>\n      <td>0</td>\n      <td>0</td>\n      <td>0</td>\n      <td>1</td>\n      <td>0</td>\n    </tr>\n    <tr>\n      <th>1</th>\n      <td>Gi/LqlLpBXSMH9vD5kWUcw==</td>\n      <td>737867</td>\n      <td>737868</td>\n      <td>-34.610046</td>\n      <td>-58.361382</td>\n      <td>4.0</td>\n      <td>194.0</td>\n      <td>5000.0</td>\n      <td>bajo</td>\n      <td>0</td>\n      <td>...</td>\n      <td>0</td>\n      <td>0</td>\n      <td>0</td>\n      <td>0</td>\n      <td>0</td>\n      <td>0</td>\n      <td>0</td>\n      <td>0</td>\n      <td>1</td>\n      <td>0</td>\n    </tr>\n    <tr>\n      <th>2</th>\n      <td>iYU9D39208HZ55k43esCsQ==</td>\n      <td>737875</td>\n      <td>738097</td>\n      <td>-34.569770</td>\n      <td>-58.431032</td>\n      <td>4.0</td>\n      <td>260.0</td>\n      <td>11111.0</td>\n      <td>bajo</td>\n      <td>0</td>\n      <td>...</td>\n      <td>0</td>\n      <td>0</td>\n      <td>0</td>\n      <td>0</td>\n      <td>0</td>\n      <td>0</td>\n      <td>0</td>\n      <td>0</td>\n      <td>1</td>\n      <td>0</td>\n    </tr>\n    <tr>\n      <th>3</th>\n      <td>u8oPwCg2R/C105SlZ9nlaQ==</td>\n      <td>738132</td>\n      <td>738182</td>\n      <td>-34.579756</td>\n      <td>-58.406144</td>\n      <td>3.0</td>\n      <td>120.0</td>\n      <td>7500.0</td>\n      <td>bajo</td>\n      <td>0</td>\n      <td>...</td>\n      <td>0</td>\n      <td>0</td>\n      <td>0</td>\n      <td>0</td>\n      <td>0</td>\n      <td>0</td>\n      <td>0</td>\n      <td>0</td>\n      <td>1</td>\n      <td>0</td>\n    </tr>\n    <tr>\n      <th>4</th>\n      <td>RZ744+VZFnLS5FWxmtTJ7A==</td>\n      <td>737875</td>\n      <td>738097</td>\n      <td>-34.569770</td>\n      <td>-58.431032</td>\n      <td>4.0</td>\n      <td>165.0</td>\n      <td>11111.0</td>\n      <td>bajo</td>\n      <td>0</td>\n      <td>...</td>\n      <td>0</td>\n      <td>0</td>\n      <td>0</td>\n      <td>0</td>\n      <td>0</td>\n      <td>0</td>\n      <td>0</td>\n      <td>0</td>\n      <td>1</td>\n      <td>0</td>\n    </tr>\n    <tr>\n      <th>...</th>\n      <td>...</td>\n      <td>...</td>\n      <td>...</td>\n      <td>...</td>\n      <td>...</td>\n      <td>...</td>\n      <td>...</td>\n      <td>...</td>\n      <td>...</td>\n      <td>...</td>\n      <td>...</td>\n      <td>...</td>\n      <td>...</td>\n      <td>...</td>\n      <td>...</td>\n      <td>...</td>\n      <td>...</td>\n      <td>...</td>\n      <td>...</td>\n      <td>...</td>\n      <td>...</td>\n    </tr>\n    <tr>\n      <th>74246</th>\n      <td>gjDlqGq2nWf+CPc551sOLA==</td>\n      <td>737802</td>\n      <td>737946</td>\n      <td>-34.572157</td>\n      <td>-58.494807</td>\n      <td>3.0</td>\n      <td>1.0</td>\n      <td>285000.0</td>\n      <td>alto</td>\n      <td>0</td>\n      <td>...</td>\n      <td>0</td>\n      <td>0</td>\n      <td>0</td>\n      <td>0</td>\n      <td>0</td>\n      <td>0</td>\n      <td>1</td>\n      <td>0</td>\n      <td>1</td>\n      <td>0</td>\n    </tr>\n    <tr>\n      <th>74247</th>\n      <td>iUcJrjtJZ2tfUn8MCeINXg==</td>\n      <td>737797</td>\n      <td>737946</td>\n      <td>-34.583718</td>\n      <td>-58.484141</td>\n      <td>4.0</td>\n      <td>1.0</td>\n      <td>498000.0</td>\n      <td>alto</td>\n      <td>0</td>\n      <td>...</td>\n      <td>0</td>\n      <td>0</td>\n      <td>0</td>\n      <td>0</td>\n      <td>0</td>\n      <td>0</td>\n      <td>1</td>\n      <td>0</td>\n      <td>0</td>\n      <td>0</td>\n    </tr>\n    <tr>\n      <th>74248</th>\n      <td>0AykXoJ/wWbfvBxIZpmROw==</td>\n      <td>737802</td>\n      <td>737946</td>\n      <td>-34.572512</td>\n      <td>-58.478717</td>\n      <td>5.0</td>\n      <td>1.0</td>\n      <td>598000.0</td>\n      <td>alto</td>\n      <td>0</td>\n      <td>...</td>\n      <td>0</td>\n      <td>0</td>\n      <td>0</td>\n      <td>0</td>\n      <td>0</td>\n      <td>0</td>\n      <td>1</td>\n      <td>0</td>\n      <td>1</td>\n      <td>0</td>\n    </tr>\n    <tr>\n      <th>74249</th>\n      <td>n0zZ/20zmO5ixVaixtu4vw==</td>\n      <td>737802</td>\n      <td>737946</td>\n      <td>-34.572512</td>\n      <td>-58.478717</td>\n      <td>5.0</td>\n      <td>1.0</td>\n      <td>598000.0</td>\n      <td>alto</td>\n      <td>0</td>\n      <td>...</td>\n      <td>0</td>\n      <td>0</td>\n      <td>0</td>\n      <td>0</td>\n      <td>0</td>\n      <td>0</td>\n      <td>1</td>\n      <td>0</td>\n      <td>1</td>\n      <td>0</td>\n    </tr>\n    <tr>\n      <th>74250</th>\n      <td>hal/efGbnEY3vCt3/DQ55A==</td>\n      <td>737802</td>\n      <td>737946</td>\n      <td>-34.572512</td>\n      <td>-58.478717</td>\n      <td>5.0</td>\n      <td>1.0</td>\n      <td>628000.0</td>\n      <td>alto</td>\n      <td>0</td>\n      <td>...</td>\n      <td>0</td>\n      <td>0</td>\n      <td>0</td>\n      <td>0</td>\n      <td>0</td>\n      <td>0</td>\n      <td>1</td>\n      <td>0</td>\n      <td>1</td>\n      <td>0</td>\n    </tr>\n  </tbody>\n</table>\n<p>74251 rows × 72 columns</p>\n</div>"
     },
     "execution_count": 88,
     "metadata": {},
     "output_type": "execute_result"
    }
   ],
   "source": [
    "df_train"
   ],
   "metadata": {
    "collapsed": false
   }
  },
  {
   "cell_type": "markdown",
   "source": [
    "### 1.a Ampliación del dataset\n",
    "___"
   ],
   "metadata": {
    "id": "mmjJ3qskuJyJ"
   }
  },
  {
   "cell_type": "markdown",
   "source": [
    "Hagamos un merge del dataset original y el de descripciones, y quedémonos únicamente con las columnas `id` y `property_description`:"
   ],
   "metadata": {
    "id": "904YC-oLyddb"
   }
  },
  {
   "cell_type": "code",
   "execution_count": 89,
   "outputs": [
    {
     "data": {
      "text/plain": "                         id                               property_description\n0  1gMQ4rXcpnPs+hhvW11Jdw==  ESPECTACULAR 4 AMBIENTES, DORMITORIO SUITE, BA...\n1  p7gmyqzdOy/+odHwH5oPyg==  Excelente departamento, piso alto con una herm...\n2  ZYkS+4dCz1vUENzAREcX9w==  Corredor Responsable: Gustavo Guastello - C.U....\n3  UL/s8zoicLDXXwhaelBgFQ==  Corredor Responsable: GRACIELA MENAZZI CMCPDJL...\n4  wnz+hkCE7RVBNcqDQEtFSw==  Muy lindo y funcional departamento de un ambie...\n5  +QvrIZqpMPRxlz+ilj1LkA==  Corredor Responsable: Mario Gabriel Gerez - CM...\n6  MGM2azMohIovCwT8jcExeQ==  Corredor Responsable: Ariel Champanier / Andre...\n7  uLDfFrhFSDasD1UObhqHmg==  HERMOSO 2 AMB. EN EN EDIFICIO \"BLACK\" DEL COMP...\n8  6iHL1ay2QcrLeLh+K33ziw==  Corredor Responsable: Daniel Acosta - CUCICBA ...\n9  8J08zxRGfHVQ3dzTyopnWQ==  Excelente 3 ambientes en Torre Aisenson en lo ...",
      "text/html": "<div>\n<style scoped>\n    .dataframe tbody tr th:only-of-type {\n        vertical-align: middle;\n    }\n\n    .dataframe tbody tr th {\n        vertical-align: top;\n    }\n\n    .dataframe thead th {\n        text-align: right;\n    }\n</style>\n<table border=\"1\" class=\"dataframe\">\n  <thead>\n    <tr style=\"text-align: right;\">\n      <th></th>\n      <th>id</th>\n      <th>property_description</th>\n    </tr>\n  </thead>\n  <tbody>\n    <tr>\n      <th>0</th>\n      <td>1gMQ4rXcpnPs+hhvW11Jdw==</td>\n      <td>ESPECTACULAR 4 AMBIENTES, DORMITORIO SUITE, BA...</td>\n    </tr>\n    <tr>\n      <th>1</th>\n      <td>p7gmyqzdOy/+odHwH5oPyg==</td>\n      <td>Excelente departamento, piso alto con una herm...</td>\n    </tr>\n    <tr>\n      <th>2</th>\n      <td>ZYkS+4dCz1vUENzAREcX9w==</td>\n      <td>Corredor Responsable: Gustavo Guastello - C.U....</td>\n    </tr>\n    <tr>\n      <th>3</th>\n      <td>UL/s8zoicLDXXwhaelBgFQ==</td>\n      <td>Corredor Responsable: GRACIELA MENAZZI CMCPDJL...</td>\n    </tr>\n    <tr>\n      <th>4</th>\n      <td>wnz+hkCE7RVBNcqDQEtFSw==</td>\n      <td>Muy lindo y funcional departamento de un ambie...</td>\n    </tr>\n    <tr>\n      <th>5</th>\n      <td>+QvrIZqpMPRxlz+ilj1LkA==</td>\n      <td>Corredor Responsable: Mario Gabriel Gerez - CM...</td>\n    </tr>\n    <tr>\n      <th>6</th>\n      <td>MGM2azMohIovCwT8jcExeQ==</td>\n      <td>Corredor Responsable: Ariel Champanier / Andre...</td>\n    </tr>\n    <tr>\n      <th>7</th>\n      <td>uLDfFrhFSDasD1UObhqHmg==</td>\n      <td>HERMOSO 2 AMB. EN EN EDIFICIO \"BLACK\" DEL COMP...</td>\n    </tr>\n    <tr>\n      <th>8</th>\n      <td>6iHL1ay2QcrLeLh+K33ziw==</td>\n      <td>Corredor Responsable: Daniel Acosta - CUCICBA ...</td>\n    </tr>\n    <tr>\n      <th>9</th>\n      <td>8J08zxRGfHVQ3dzTyopnWQ==</td>\n      <td>Excelente 3 ambientes en Torre Aisenson en lo ...</td>\n    </tr>\n  </tbody>\n</table>\n</div>"
     },
     "execution_count": 89,
     "metadata": {},
     "output_type": "execute_result"
    }
   ],
   "source": [
    "df_decrip = pd.merge(properati, properati_decrip, on=\"id\")\n",
    "df_decrip = df_decrip[[\"id\", \"property_description\"]]\n",
    "df_decrip.head(10)"
   ],
   "metadata": {
    "colab": {
     "base_uri": "https://localhost:8080/",
     "height": 363
    },
    "id": "vRbU2jpk2Do_",
    "outputId": "44fcabfb-0e8b-496a-881f-0de5fbc8f3e6"
   }
  },
  {
   "cell_type": "markdown",
   "source": [
    "Busquemos aspectos de una propiedad utilizando la columna `property_description`."
   ],
   "metadata": {
    "id": "uCEL8YyUxYaa"
   }
  },
  {
   "cell_type": "markdown",
   "source": [
    "Veamos cuántos registros nulos existen:"
   ],
   "metadata": {
    "id": "tAEE-G_QzCXj"
   }
  },
  {
   "cell_type": "code",
   "execution_count": 90,
   "outputs": [
    {
     "name": "stdout",
     "output_type": "stream",
     "text": [
      "Hay 0 datos nulos.\n"
     ]
    }
   ],
   "source": [
    "print(f\"Hay {df_decrip['property_description'].isna().sum()} datos nulos.\")"
   ],
   "metadata": {
    "colab": {
     "base_uri": "https://localhost:8080/"
    },
    "id": "ydHTArN62DpA",
    "outputId": "532aec7a-b0bc-4f97-d56d-80ee53135a25"
   }
  },
  {
   "cell_type": "markdown",
   "source": [
    "Veamos cuáles son las 100 palabras más comunes en el campo de descripción de propiedades:"
   ],
   "metadata": {
    "id": "t4hiRECrz3Wa"
   }
  },
  {
   "cell_type": "code",
   "execution_count": 91,
   "outputs": [
    {
     "data": {
      "text/plain": "[('de', 858011),\n ('y', 507798),\n ('con', 401876),\n ('la', 290201),\n ('en', 278181),\n ('a', 243761),\n ('el', 169956),\n ('del', 153280),\n ('que', 140058),\n ('por', 133636),\n ('al', 125215),\n ('-', 113886),\n ('un', 103720),\n ('las', 90713),\n ('los', 88438),\n ('para', 88196),\n ('se', 63111),\n ('DE', 56458),\n ('son', 56422),\n ('2', 52793),\n ('es', 50385),\n ('una', 48933),\n ('3', 41260),\n ('cocina', 38889),\n ('ambientes', 38850),\n ('valor', 38421),\n ('esta', 38294),\n ('muy', 36893),\n ('x', 36800),\n ('Av.', 36631),\n ('comedor', 35535),\n ('baño', 35477),\n ('Y', 34142),\n ('CON', 33915),\n ('no', 33913),\n ('piso', 33349),\n ('o', 33053),\n ('/', 32255),\n ('tu', 32102),\n ('A', 32063),\n ('hasta', 30270),\n ('balcón', 29805),\n ('inmueble', 28725),\n ('casa', 28656),\n ('No', 28636),\n ('propiedad.', 28071),\n ('30%', 27685),\n ('departamento', 27671),\n ('EN', 27267),\n ('cuadras', 27071),\n ('Corredor', 26992),\n ('préstamo', 26921),\n ('cuota', 26781),\n ('medidas', 26423),\n ('Responsable:', 25971),\n ('living', 25952),\n ('4', 25851),\n ('Lendar', 25572),\n ('querés!', 25422),\n ('podés.', 25363),\n ('Accedé', 25355),\n ('Simulá', 25350),\n ('#', 25249),\n ('ID', 25232),\n ('MLS', 25228),\n ('CUCICBA', 24648),\n ('El', 24542),\n ('edificio', 24306),\n ('dos', 24304),\n ('cuenta', 24243),\n ('personas', 23936),\n ('completo', 23797),\n ('propiedad', 23312),\n ('salida', 23058),\n ('parte', 22278),\n (',', 22138),\n ('pisos', 21621),\n ('encuentra', 21617),\n ('frente', 21612),\n ('Las', 21073),\n ('1', 20966),\n ('amplio', 20885),\n ('Comprá', 20794),\n ('\\\\n\\\\n', 20733),\n ('vista', 19912),\n ('presente', 19511),\n ('dormitorio', 19499),\n ('Ley', 19317),\n ('gran', 19097),\n ('La', 18860),\n ('placard', 18484),\n ('espacio', 18475),\n ('metros', 18400),\n ('m2', 17976),\n ('Los', 17521),\n ('<br>', 17369),\n ('accesible', 17076),\n ('su', 16597),\n ('dormitorios', 16161),\n ('sobre', 16145)]"
     },
     "execution_count": 91,
     "metadata": {},
     "output_type": "execute_result"
    }
   ],
   "source": [
    "Counter(\" \".join(df_decrip[\"property_description\"]).split()).most_common(100)"
   ],
   "metadata": {
    "colab": {
     "base_uri": "https://localhost:8080/"
    },
    "id": "WpAlq6jJ2DpC",
    "outputId": "ba6d7ea0-e0b6-4446-d3e2-550d723373d2"
   }
  },
  {
   "cell_type": "markdown",
   "source": [
    "Podemos observar que podríamos optimizar el texto mediante algunas técnicas de reducción y/o transformación. Entre otras:"
   ],
   "metadata": {
    "id": "iwnQ6tgt0MRV"
   }
  },
  {
   "cell_type": "markdown",
   "source": [
    "Eliminemos la etiqueta `<br>` de html:"
   ],
   "metadata": {
    "id": "qK78Ucya0Ugr"
   }
  },
  {
   "cell_type": "code",
   "source": [
    "df_decrip[\"property_description\"] = df_decrip[\"property_description\"].apply(lambda line: line.replace(\"<br>\", \" \"))"
   ],
   "metadata": {
    "id": "_o_B51Zk0hGz"
   },
   "execution_count": 92,
   "outputs": []
  },
  {
   "cell_type": "markdown",
   "source": [
    "Transformemos todas las palabras a minúsculas, de modo que el contador no realice distinciones:"
   ],
   "metadata": {
    "id": "pyNp4Y520yHS"
   }
  },
  {
   "cell_type": "code",
   "source": [
    "df_decrip[\"property_description\"] = df_decrip[\"property_description\"].apply(lambda line: line.lower())"
   ],
   "metadata": {
    "id": "VWBmcgfI04Ge"
   },
   "execution_count": 93,
   "outputs": []
  },
  {
   "cell_type": "markdown",
   "source": [
    "Quitemos los tildes de las letras:"
   ],
   "metadata": {
    "id": "WpSPMtks1bZz"
   }
  },
  {
   "cell_type": "code",
   "source": [
    "df_decrip[\"property_description\"] = df_decrip[\"property_description\"].apply(lambda line: unidecode.unidecode(line))"
   ],
   "metadata": {
    "id": "KWHrTmAG1dGn"
   },
   "execution_count": 94,
   "outputs": []
  },
  {
   "cell_type": "markdown",
   "source": [
    "Eliminemos los símbolos:"
   ],
   "metadata": {
    "id": "tpUndCZy1j2X"
   }
  },
  {
   "cell_type": "code",
   "source": [
    "df_decrip[\"property_description\"] = df_decrip[\"property_description\"].apply(lambda line: re.sub(r'[^\\w]', ' ', line))"
   ],
   "metadata": {
    "id": "sWcF2SIJ1lfG"
   },
   "execution_count": 95,
   "outputs": []
  },
  {
   "cell_type": "markdown",
   "source": [
    "Eliminemos los espacios múltiples entre palabras:"
   ],
   "metadata": {
    "id": "bdqDlvqN1rL1"
   }
  },
  {
   "cell_type": "code",
   "execution_count": 96,
   "outputs": [],
   "source": [
    "df_decrip[\"property_description\"] = df_decrip[\"property_description\"].apply(lambda line: re.sub(\"\\s\\s+\" , \" \", line))"
   ],
   "metadata": {
    "id": "uQvajcwC2DpE"
   }
  },
  {
   "cell_type": "markdown",
   "source": [
    "Utilizando el contenido del archivo `stop_words.txt`, eliminemos palabras sin significado del datset y colocamos los cambios en uno nuevo:"
   ],
   "metadata": {
    "id": "BzcWZSJY4GPs"
   }
  },
  {
   "cell_type": "code",
   "source": [
    "df_nostopwords = df_decrip.copy()"
   ],
   "metadata": {
    "id": "EGQxcCEHBxnY"
   },
   "execution_count": 97,
   "outputs": []
  },
  {
   "cell_type": "code",
   "execution_count": 98,
   "outputs": [],
   "source": [
    "with open(stop_words) as f:\n",
    "    lines = f.read().splitlines()\n",
    "\n",
    "f = lambda x: ' '.join([item for item in x.split() if item not in lines])\n",
    "\n",
    "df_nostopwords[\"property_description\"] = df_nostopwords[\"property_description\"].apply(f)"
   ],
   "metadata": {
    "id": "FrOeCCBY2DpF"
   }
  },
  {
   "cell_type": "markdown",
   "source": [
    "Luego de estas transformaciones, veamos cuáles son las palabras más utilizadas:"
   ],
   "metadata": {
    "id": "JYXs-85EVQwx"
   }
  },
  {
   "cell_type": "code",
   "execution_count": 99,
   "outputs": [
    {
     "data": {
      "text/plain": "[('cocina', 89461),\n ('2', 88206),\n ('bano', 74431),\n ('3', 74276),\n ('ambientes', 71519),\n ('balcon', 71288),\n ('comedor', 68491),\n ('piso', 67831),\n ('living', 63838),\n ('propiedad', 62563),\n ('departamento', 54477),\n ('edificio', 53423),\n ('av', 50589),\n ('1', 50145),\n ('dormitorio', 48863),\n ('completo', 48392),\n ('pisos', 46213),\n ('4', 46048),\n ('frente', 44714),\n ('expensas', 44287),\n ('n', 44025),\n ('excelente', 41316),\n ('corredor', 41146),\n ('medidas', 41048),\n ('x', 40904),\n ('inmueble', 40569),\n ('responsable', 37724),\n ('amplio', 36356),\n ('m2', 34044),\n ('30', 34028),\n ('placard', 33950),\n ('casa', 32678),\n ('dormitorios', 32258),\n ('lavadero', 31877),\n ('c', 31791),\n ('cuadras', 31167),\n ('luminoso', 30549),\n ('cucicba', 30414),\n ('accede', 29383),\n ('terraza', 29330),\n ('ley', 27849),\n ('aire', 27700),\n ('lendar', 27450),\n ('queres', 27417),\n ('prestamo', 27367),\n ('vista', 26980),\n ('venta', 26867),\n ('cuota', 26857),\n ('podes', 26581),\n ('salida', 26111),\n ('ubicacion', 25548),\n ('simula', 25537),\n ('id', 25236),\n ('cochera', 25233),\n ('mls', 25231),\n ('personas', 24976),\n ('espacio', 24794),\n ('5', 24267),\n ('planta', 23609),\n ('zona', 23397),\n ('compra', 23247),\n ('metros', 23075),\n ('independiente', 23073),\n ('inmobiliario', 22866),\n ('patio', 22296),\n ('servicio', 22214),\n ('principal', 21845),\n ('barrio', 21306),\n ('ubicado', 21088),\n ('linea', 20910),\n ('parrilla', 20747),\n ('mesada', 20703),\n ('suite', 20635),\n ('toilette', 20555),\n ('acceso', 20485),\n ('presente', 19926),\n ('servicios', 19773),\n ('accesible', 19275),\n ('subte', 18716),\n ('unidades', 18413),\n ('agua', 18371),\n ('mas', 18246),\n ('acondicionado', 18043),\n ('hall', 17971),\n ('b', 17718),\n ('operacion', 17568),\n ('aviso', 17401),\n ('unidad', 16996),\n ('24', 16901),\n ('comercial', 16527),\n ('madera', 16500),\n ('doble', 16416),\n ('propietario', 16374),\n ('calefaccion', 16298),\n ('calidad', 16140),\n ('entrada', 15983),\n ('discapacidades', 15931),\n ('informacion', 15902),\n ('estacion', 15816),\n ('operaciones', 15668)]"
     },
     "execution_count": 99,
     "metadata": {},
     "output_type": "execute_result"
    }
   ],
   "source": [
    "Counter(\" \".join(df_nostopwords[\"property_description\"]).split()).most_common(100)"
   ],
   "metadata": {
    "colab": {
     "base_uri": "https://localhost:8080/"
    },
    "id": "FNYcv0DM2DpG",
    "outputId": "eed3ff96-3911-4d2a-a042-969e76b82e01"
   }
  },
  {
   "cell_type": "markdown",
   "source": [
    "Seleccionemos los aspectos que nos parecen relevantes, para luego buscar sus posibles valores.\n",
    "\n",
    "Para esto, elegimos: `cocina`, `pisos`, `calefaccion`, `expensas`, `lavadero`, `balcon`, `cochera` y `aire` y limpiamos cualquier tipo de formato restante en el dataset:"
   ],
   "metadata": {
    "collapsed": false,
    "id": "Ai_Odw_x2DpG"
   }
  },
  {
   "cell_type": "code",
   "source": [
    "aspectos = ['cocina', 'pisos', 'calefaccion', 'expensas', 'lavadero', 'balcon', 'cochera', 'aire']"
   ],
   "metadata": {
    "id": "BkHpD1gtB7e_"
   },
   "execution_count": 100,
   "outputs": []
  },
  {
   "cell_type": "code",
   "execution_count": 101,
   "outputs": [
    {
     "ename": "KeyboardInterrupt",
     "evalue": "",
     "output_type": "error",
     "traceback": [
      "\u001B[1;31m---------------------------------------------------------------------------\u001B[0m",
      "\u001B[1;31mKeyboardInterrupt\u001B[0m                         Traceback (most recent call last)",
      "Cell \u001B[1;32mIn [101], line 2\u001B[0m\n\u001B[0;32m      1\u001B[0m \u001B[38;5;28;01mfor\u001B[39;00m word \u001B[38;5;129;01min\u001B[39;00m aspectos:\n\u001B[1;32m----> 2\u001B[0m     df_nostopwords[word] \u001B[38;5;241m=\u001B[39m \u001B[43mdf_nostopwords\u001B[49m\u001B[43m[\u001B[49m\u001B[38;5;124;43m\"\u001B[39;49m\u001B[38;5;124;43mproperty_description\u001B[39;49m\u001B[38;5;124;43m\"\u001B[39;49m\u001B[43m]\u001B[49m\u001B[38;5;241;43m.\u001B[39;49m\u001B[43mapply\u001B[49m\u001B[43m(\u001B[49m\u001B[38;5;28;43;01mlambda\u001B[39;49;00m\u001B[43m \u001B[49m\u001B[43mline\u001B[49m\u001B[43m:\u001B[49m\u001B[43m \u001B[49m\u001B[43mformat_aspects\u001B[49m\u001B[43m(\u001B[49m\u001B[43mline\u001B[49m\u001B[43m,\u001B[49m\u001B[43m \u001B[49m\u001B[43mword\u001B[49m\u001B[43m)\u001B[49m\u001B[43m)\u001B[49m\n",
      "File \u001B[1;32m~\\anaconda3\\envs\\datos\\lib\\site-packages\\pandas\\core\\series.py:4771\u001B[0m, in \u001B[0;36mSeries.apply\u001B[1;34m(self, func, convert_dtype, args, **kwargs)\u001B[0m\n\u001B[0;32m   4661\u001B[0m \u001B[38;5;28;01mdef\u001B[39;00m \u001B[38;5;21mapply\u001B[39m(\n\u001B[0;32m   4662\u001B[0m     \u001B[38;5;28mself\u001B[39m,\n\u001B[0;32m   4663\u001B[0m     func: AggFuncType,\n\u001B[1;32m   (...)\u001B[0m\n\u001B[0;32m   4666\u001B[0m     \u001B[38;5;241m*\u001B[39m\u001B[38;5;241m*\u001B[39mkwargs,\n\u001B[0;32m   4667\u001B[0m ) \u001B[38;5;241m-\u001B[39m\u001B[38;5;241m>\u001B[39m DataFrame \u001B[38;5;241m|\u001B[39m Series:\n\u001B[0;32m   4668\u001B[0m     \u001B[38;5;124;03m\"\"\"\u001B[39;00m\n\u001B[0;32m   4669\u001B[0m \u001B[38;5;124;03m    Invoke function on values of Series.\u001B[39;00m\n\u001B[0;32m   4670\u001B[0m \n\u001B[1;32m   (...)\u001B[0m\n\u001B[0;32m   4769\u001B[0m \u001B[38;5;124;03m    dtype: float64\u001B[39;00m\n\u001B[0;32m   4770\u001B[0m \u001B[38;5;124;03m    \"\"\"\u001B[39;00m\n\u001B[1;32m-> 4771\u001B[0m     \u001B[38;5;28;01mreturn\u001B[39;00m \u001B[43mSeriesApply\u001B[49m\u001B[43m(\u001B[49m\u001B[38;5;28;43mself\u001B[39;49m\u001B[43m,\u001B[49m\u001B[43m \u001B[49m\u001B[43mfunc\u001B[49m\u001B[43m,\u001B[49m\u001B[43m \u001B[49m\u001B[43mconvert_dtype\u001B[49m\u001B[43m,\u001B[49m\u001B[43m \u001B[49m\u001B[43margs\u001B[49m\u001B[43m,\u001B[49m\u001B[43m \u001B[49m\u001B[43mkwargs\u001B[49m\u001B[43m)\u001B[49m\u001B[38;5;241;43m.\u001B[39;49m\u001B[43mapply\u001B[49m\u001B[43m(\u001B[49m\u001B[43m)\u001B[49m\n",
      "File \u001B[1;32m~\\anaconda3\\envs\\datos\\lib\\site-packages\\pandas\\core\\apply.py:1105\u001B[0m, in \u001B[0;36mSeriesApply.apply\u001B[1;34m(self)\u001B[0m\n\u001B[0;32m   1102\u001B[0m     \u001B[38;5;28;01mreturn\u001B[39;00m \u001B[38;5;28mself\u001B[39m\u001B[38;5;241m.\u001B[39mapply_str()\n\u001B[0;32m   1104\u001B[0m \u001B[38;5;66;03m# self.f is Callable\u001B[39;00m\n\u001B[1;32m-> 1105\u001B[0m \u001B[38;5;28;01mreturn\u001B[39;00m \u001B[38;5;28;43mself\u001B[39;49m\u001B[38;5;241;43m.\u001B[39;49m\u001B[43mapply_standard\u001B[49m\u001B[43m(\u001B[49m\u001B[43m)\u001B[49m\n",
      "File \u001B[1;32m~\\anaconda3\\envs\\datos\\lib\\site-packages\\pandas\\core\\apply.py:1156\u001B[0m, in \u001B[0;36mSeriesApply.apply_standard\u001B[1;34m(self)\u001B[0m\n\u001B[0;32m   1154\u001B[0m     \u001B[38;5;28;01melse\u001B[39;00m:\n\u001B[0;32m   1155\u001B[0m         values \u001B[38;5;241m=\u001B[39m obj\u001B[38;5;241m.\u001B[39mastype(\u001B[38;5;28mobject\u001B[39m)\u001B[38;5;241m.\u001B[39m_values\n\u001B[1;32m-> 1156\u001B[0m         mapped \u001B[38;5;241m=\u001B[39m \u001B[43mlib\u001B[49m\u001B[38;5;241;43m.\u001B[39;49m\u001B[43mmap_infer\u001B[49m\u001B[43m(\u001B[49m\n\u001B[0;32m   1157\u001B[0m \u001B[43m            \u001B[49m\u001B[43mvalues\u001B[49m\u001B[43m,\u001B[49m\n\u001B[0;32m   1158\u001B[0m \u001B[43m            \u001B[49m\u001B[43mf\u001B[49m\u001B[43m,\u001B[49m\n\u001B[0;32m   1159\u001B[0m \u001B[43m            \u001B[49m\u001B[43mconvert\u001B[49m\u001B[38;5;241;43m=\u001B[39;49m\u001B[38;5;28;43mself\u001B[39;49m\u001B[38;5;241;43m.\u001B[39;49m\u001B[43mconvert_dtype\u001B[49m\u001B[43m,\u001B[49m\n\u001B[0;32m   1160\u001B[0m \u001B[43m        \u001B[49m\u001B[43m)\u001B[49m\n\u001B[0;32m   1162\u001B[0m \u001B[38;5;28;01mif\u001B[39;00m \u001B[38;5;28mlen\u001B[39m(mapped) \u001B[38;5;129;01mand\u001B[39;00m \u001B[38;5;28misinstance\u001B[39m(mapped[\u001B[38;5;241m0\u001B[39m], ABCSeries):\n\u001B[0;32m   1163\u001B[0m     \u001B[38;5;66;03m# GH#43986 Need to do list(mapped) in order to get treated as nested\u001B[39;00m\n\u001B[0;32m   1164\u001B[0m     \u001B[38;5;66;03m#  See also GH#25959 regarding EA support\u001B[39;00m\n\u001B[0;32m   1165\u001B[0m     \u001B[38;5;28;01mreturn\u001B[39;00m obj\u001B[38;5;241m.\u001B[39m_constructor_expanddim(\u001B[38;5;28mlist\u001B[39m(mapped), index\u001B[38;5;241m=\u001B[39mobj\u001B[38;5;241m.\u001B[39mindex)\n",
      "File \u001B[1;32m~\\anaconda3\\envs\\datos\\lib\\site-packages\\pandas\\_libs\\lib.pyx:2918\u001B[0m, in \u001B[0;36mpandas._libs.lib.map_infer\u001B[1;34m()\u001B[0m\n",
      "Cell \u001B[1;32mIn [101], line 2\u001B[0m, in \u001B[0;36m<lambda>\u001B[1;34m(line)\u001B[0m\n\u001B[0;32m      1\u001B[0m \u001B[38;5;28;01mfor\u001B[39;00m word \u001B[38;5;129;01min\u001B[39;00m aspectos:\n\u001B[1;32m----> 2\u001B[0m     df_nostopwords[word] \u001B[38;5;241m=\u001B[39m df_nostopwords[\u001B[38;5;124m\"\u001B[39m\u001B[38;5;124mproperty_description\u001B[39m\u001B[38;5;124m\"\u001B[39m]\u001B[38;5;241m.\u001B[39mapply(\u001B[38;5;28;01mlambda\u001B[39;00m line: \u001B[43mformat_aspects\u001B[49m\u001B[43m(\u001B[49m\u001B[43mline\u001B[49m\u001B[43m,\u001B[49m\u001B[43m \u001B[49m\u001B[43mword\u001B[49m\u001B[43m)\u001B[49m)\n",
      "Cell \u001B[1;32mIn [81], line 4\u001B[0m, in \u001B[0;36mformat_aspects\u001B[1;34m(line, word)\u001B[0m\n\u001B[0;32m      2\u001B[0m \u001B[38;5;28mformat\u001B[39m \u001B[38;5;241m=\u001B[39m \u001B[38;5;124mr\u001B[39m\u001B[38;5;124m\"\u001B[39m\u001B[38;5;124m\\\u001B[39m\u001B[38;5;124mW*([\u001B[39m\u001B[38;5;124m\\\u001B[39m\u001B[38;5;124mw]+)\u001B[39m\u001B[38;5;124m\"\u001B[39m\n\u001B[0;32m      3\u001B[0m n \u001B[38;5;241m=\u001B[39m \u001B[38;5;241m2\u001B[39m\n\u001B[1;32m----> 4\u001B[0m x \u001B[38;5;241m=\u001B[39m \u001B[43mre\u001B[49m\u001B[38;5;241;43m.\u001B[39;49m\u001B[43msearch\u001B[49m\u001B[43m(\u001B[49m\u001B[38;5;124;43mr\u001B[39;49m\u001B[38;5;124;43m'\u001B[39;49m\u001B[38;5;132;43;01m{}\u001B[39;49;00m\u001B[38;5;124;43m\\\u001B[39;49m\u001B[38;5;124;43mW*\u001B[39;49m\u001B[38;5;132;43;01m{}\u001B[39;49;00m\u001B[38;5;132;43;01m{}\u001B[39;49;00m\u001B[38;5;124;43m'\u001B[39;49m\u001B[38;5;241;43m.\u001B[39;49m\u001B[43mformat\u001B[49m\u001B[43m(\u001B[49m\u001B[38;5;28;43mformat\u001B[39;49m\u001B[38;5;241;43m*\u001B[39;49m\u001B[43mn\u001B[49m\u001B[43m,\u001B[49m\u001B[43m \u001B[49m\u001B[43mword\u001B[49m\u001B[43m,\u001B[49m\u001B[43m \u001B[49m\u001B[38;5;28;43mformat\u001B[39;49m\u001B[38;5;241;43m*\u001B[39;49m\u001B[43mn\u001B[49m\u001B[43m)\u001B[49m\u001B[43m,\u001B[49m\u001B[43m \u001B[49m\u001B[43mline\u001B[49m\u001B[43m)\u001B[49m\n\u001B[0;32m      5\u001B[0m \u001B[38;5;28;01mif\u001B[39;00m x \u001B[38;5;129;01mis\u001B[39;00m \u001B[38;5;129;01mnot\u001B[39;00m \u001B[38;5;28;01mNone\u001B[39;00m:\n\u001B[0;32m      6\u001B[0m     \u001B[38;5;28;01mreturn\u001B[39;00m x\u001B[38;5;241m.\u001B[39mgroup()\n",
      "\u001B[1;31mKeyboardInterrupt\u001B[0m: "
     ]
    }
   ],
   "source": [
    "for word in aspectos:\n",
    "    df_nostopwords[word] = df_nostopwords[\"property_description\"].apply(lambda line: format_aspects(line, word))"
   ],
   "metadata": {
    "id": "AnaswxtR2DpH"
   }
  },
  {
   "cell_type": "markdown",
   "source": [
    "Veamos cuáles son las 15 palabras más comunes para cada uno de los aspectos elegidos:"
   ],
   "metadata": {
    "id": "EDsk7Bjgx116"
   }
  },
  {
   "cell_type": "code",
   "source": [
    "cant_val_aspectos = 15"
   ],
   "metadata": {
    "id": "eYdLqsvGyNcj"
   },
   "execution_count": null,
   "outputs": []
  },
  {
   "cell_type": "markdown",
   "source": [
    "#### Aspecto `cocina`\n",
    "\n",
    "\n"
   ],
   "metadata": {
    "id": "wWJKdB85y1l0"
   }
  },
  {
   "cell_type": "code",
   "execution_count": null,
   "outputs": [],
   "source": [
    "Counter(\" \".join(df_nostopwords[\"cocina\"]).split()).most_common(cant_val_aspectos)"
   ],
   "metadata": {
    "id": "l-7v9FP82DpH",
    "colab": {
     "base_uri": "https://localhost:8080/"
    },
    "outputId": "6bea24da-1ae1-4df4-eb9a-5fddb082398b"
   }
  },
  {
   "cell_type": "markdown",
   "source": [
    "Para `cocina`, los valores podrían ser: \n",
    "- integrada\n",
    "- lavadero\n",
    "- completa"
   ],
   "metadata": {
    "collapsed": false,
    "id": "6ACLlV0F2DpI"
   }
  },
  {
   "cell_type": "markdown",
   "source": [
    "#### Aspecto `pisos`"
   ],
   "metadata": {
    "id": "1XQ4TVyUzSqc"
   }
  },
  {
   "cell_type": "code",
   "execution_count": null,
   "outputs": [],
   "source": [
    "Counter(\" \".join(df_nostopwords[\"pisos\"]).split()).most_common(cant_val_aspectos)"
   ],
   "metadata": {
    "id": "UQQMsrnL2DpI",
    "colab": {
     "base_uri": "https://localhost:8080/"
    },
    "outputId": "a261ec0d-9cd6-4277-98b0-7b18d0b28211"
   }
  },
  {
   "cell_type": "markdown",
   "source": [
    "Para `pisos`, los valores podrían ser: \n",
    "- porcelanato\n",
    "- parquet\n",
    "- ceramicos"
   ],
   "metadata": {
    "collapsed": false,
    "id": "l39ZahiN2DpJ"
   }
  },
  {
   "cell_type": "markdown",
   "source": [
    "#### Aspecto `calefaccion`"
   ],
   "metadata": {
    "id": "a4pG3YbW1wnt"
   }
  },
  {
   "cell_type": "code",
   "execution_count": null,
   "outputs": [],
   "source": [
    "Counter(\" \".join(df_nostopwords[\"calefaccion\"]).split()).most_common(cant_val_aspectos)"
   ],
   "metadata": {
    "id": "RPZApHfA2DpJ",
    "colab": {
     "base_uri": "https://localhost:8080/"
    },
    "outputId": "67f4d899-74cf-4d93-ea99-c89946b6f262"
   }
  },
  {
   "cell_type": "markdown",
   "source": [
    "Para `calefaccion`, los valores podrían ser: \n",
    "- radiadores\n",
    "- radiante\n",
    "- central\n",
    "- individual"
   ],
   "metadata": {
    "collapsed": false,
    "id": "Mt-7dfsl2DpK"
   }
  },
  {
   "cell_type": "markdown",
   "source": [
    "#### Aspecto `expensas`"
   ],
   "metadata": {
    "id": "XfzRZc861ysa"
   }
  },
  {
   "cell_type": "code",
   "execution_count": null,
   "outputs": [],
   "source": [
    "Counter(\" \".join(df_nostopwords[\"expensas\"]).split()).most_common(cant_val_aspectos*2)"
   ],
   "metadata": {
    "id": "iRKPdGhA2DpK",
    "colab": {
     "base_uri": "https://localhost:8080/"
    },
    "outputId": "e89ec902-f5d3-45e5-df24-45d796fd889b"
   }
  },
  {
   "cell_type": "markdown",
   "source": [
    "Para `expensas`, los valores podrían ser: \n",
    "- serviocios\n",
    "- impuestos \n",
    "- bajas"
   ],
   "metadata": {
    "collapsed": false,
    "id": "C7EiojY82DpK"
   }
  },
  {
   "cell_type": "markdown",
   "source": [
    "#### Aspecto `lavadero`"
   ],
   "metadata": {
    "id": "ZVVvuLxu11U0"
   }
  },
  {
   "cell_type": "code",
   "execution_count": null,
   "outputs": [],
   "source": [
    "Counter(\" \".join(df_nostopwords[\"lavadero\"]).split()).most_common(cant_val_aspectos)"
   ],
   "metadata": {
    "id": "sAzBKC5c2DpK",
    "colab": {
     "base_uri": "https://localhost:8080/"
    },
    "outputId": "c811e281-914c-4804-fe87-064ada17a12d"
   }
  },
  {
   "cell_type": "markdown",
   "source": [
    "Para `lavadero`, los valores podrían ser: \n",
    "- independiente\n",
    "- cocina\n",
    "- comedor"
   ],
   "metadata": {
    "collapsed": false,
    "id": "i8zxU-Co2DpL"
   }
  },
  {
   "cell_type": "markdown",
   "source": [
    "#### Aspecto `balcon`"
   ],
   "metadata": {
    "id": "0opxhwgx122i"
   }
  },
  {
   "cell_type": "code",
   "execution_count": null,
   "outputs": [],
   "source": [
    "Counter(\" \".join(df_nostopwords[\"balcon\"]).split()).most_common(cant_val_aspectos)"
   ],
   "metadata": {
    "id": "geCmhGct2DpL",
    "colab": {
     "base_uri": "https://localhost:8080/"
    },
    "outputId": "7f9103b9-03aa-4035-dd78-c3a1c435e833"
   }
  },
  {
   "cell_type": "markdown",
   "source": [
    "Para `balcon`, los valores podrían ser: \n",
    "- frente\n",
    "- amplio \n",
    "- terraza \n",
    "- salida \n",
    "- corrido\n",
    "- luminoso"
   ],
   "metadata": {
    "collapsed": false,
    "id": "GUiM00PQ2DpL"
   }
  },
  {
   "cell_type": "markdown",
   "source": [
    "#### Aspecto `cochera`"
   ],
   "metadata": {
    "id": "W05qxE7f138s"
   }
  },
  {
   "cell_type": "code",
   "execution_count": null,
   "outputs": [],
   "source": [
    "Counter(\" \".join(df_nostopwords[\"cochera\"]).split()).most_common(cant_val_aspectos*2)"
   ],
   "metadata": {
    "id": "vF7x7sFV2DpL",
    "colab": {
     "base_uri": "https://localhost:8080/"
    },
    "outputId": "aa1e9494-2db9-48dd-8101-5987d80ccb55"
   }
  },
  {
   "cell_type": "markdown",
   "source": [
    "Para `cochera`, los valores podrían ser: \n",
    "- fija\n",
    "- cubierta"
   ],
   "metadata": {
    "collapsed": false,
    "id": "_sGYjhjF2DpM"
   }
  },
  {
   "cell_type": "markdown",
   "source": [
    "#### Aspecto `aire`"
   ],
   "metadata": {
    "id": "ehAh9leY2Lfu"
   }
  },
  {
   "cell_type": "code",
   "execution_count": null,
   "outputs": [],
   "source": [
    "Counter(\" \".join(df_nostopwords[\"aire\"]).split()).most_common(cant_val_aspectos)"
   ],
   "metadata": {
    "id": "eQlqeMRa2DpM",
    "colab": {
     "base_uri": "https://localhost:8080/"
    },
    "outputId": "fa0a82b5-9f5b-4ab4-80b7-f0090e746727"
   }
  },
  {
   "cell_type": "markdown",
   "source": [
    "Para `aire`, posibles valores son: \n",
    "- split \n",
    "- central \n",
    "- acondicionado"
   ],
   "metadata": {
    "collapsed": false,
    "id": "9hWHT90P2DpM"
   }
  },
  {
   "cell_type": "markdown",
   "source": [
    "#### Consolidación de valores"
   ],
   "metadata": {
    "id": "fF4R61si2RJI"
   }
  },
  {
   "cell_type": "markdown",
   "source": [
    "A continuación creamos la variable `values`, que contiene los posibles valores para cada uno de los aspectos elegidos:"
   ],
   "metadata": {
    "collapsed": false,
    "id": "ZTu9pPYV2DpN"
   }
  },
  {
   "cell_type": "code",
   "execution_count": null,
   "outputs": [],
   "source": [
    "values_cocina = ['integrada' , 'lavadero' , 'completa']\n",
    "values_pisos = ['porcelanato' , 'parquet' , 'ceramicos']\n",
    "values_calefaccion = ['radiadores' , 'radiante' , 'central' , 'individual']\n",
    "values_expensas = ['serviocios' , 'impuestos' , 'bajas']\n",
    "values_lavadero = ['independiente' , 'cocina' , 'comedor']\n",
    "values_balcon = ['frente' , 'amplio' , 'terraza' , 'salida' , 'corrido' , 'luminoso']\n",
    "values_cochera = ['fija' , 'cubierta']\n",
    "values_aire = ['split' , 'central' , 'acondicionado']"
   ],
   "metadata": {
    "id": "8woiCcO32DpN"
   }
  },
  {
   "cell_type": "code",
   "source": [
    "values = [values_cocina, values_pisos, values_calefaccion, values_expensas, values_lavadero, values_balcon, values_cochera, values_aire]"
   ],
   "metadata": {
    "id": "CFU_0j0EGUE5"
   },
   "execution_count": null,
   "outputs": []
  },
  {
   "cell_type": "markdown",
   "source": [
    "En primer lugar, creamos un dataset auxiliar que tenga los IDs y las columnas de los aspectos:"
   ],
   "metadata": {
    "collapsed": false,
    "id": "B9JpAzOi2DpN"
   }
  },
  {
   "cell_type": "code",
   "execution_count": null,
   "outputs": [],
   "source": [
    "aux_df = df_nostopwords.copy()\n",
    "aux_df.drop('property_description', inplace=True, axis=1)"
   ],
   "metadata": {
    "id": "Z617kPUE2DpN"
   }
  },
  {
   "cell_type": "markdown",
   "source": [
    "Luego creamos una función a la que -pasándole un dataset, los aspectos y el listado de valores posibles- reemplace el contenido de las columnas por los valores correspondientes."
   ],
   "metadata": {
    "collapsed": false,
    "id": "qpHzefm72DpO"
   }
  },
  {
   "cell_type": "markdown",
   "source": [
    "Modificamos las columnas de los aspectos, para que sólo queden los valores correspondientes:"
   ],
   "metadata": {
    "collapsed": false,
    "id": "8A7lmncH2DpO"
   }
  },
  {
   "cell_type": "code",
   "execution_count": null,
   "outputs": [],
   "source": [
    "limpiar_values_de_aspects(aux_df, aspectos, values)\n",
    "aux_df.head(20)"
   ],
   "metadata": {
    "id": "WXhzGxCl2DpO",
    "colab": {
     "base_uri": "https://localhost:8080/",
     "height": 677
    },
    "outputId": "3355d0c0-87e8-4707-b349-e4d9b468bfa9"
   }
  },
  {
   "cell_type": "markdown",
   "source": [
    "Por último hacemos el merge con el dataset original, teniendo en cuenta los IDs:"
   ],
   "metadata": {
    "collapsed": false,
    "id": "Ia2LxOLq2DpP"
   }
  },
  {
   "cell_type": "code",
   "execution_count": null,
   "outputs": [],
   "source": [
    "df = properati.copy()\n",
    "df = pd.merge(df,aux_df, on=\"id\")\n",
    "df.head(20)"
   ],
   "metadata": {
    "id": "I2x-X60t2DpP",
    "colab": {
     "base_uri": "https://localhost:8080/",
     "height": 914
    },
    "outputId": "9aa74e5a-0b67-4010-a31b-a2f67689e136"
   }
  },
  {
   "cell_type": "markdown",
   "source": [
    "#### Exportación de Datos"
   ],
   "metadata": {
    "id": "rN3FutIEHrf2"
   }
  },
  {
   "cell_type": "markdown",
   "source": [
    "Exportamos los datasets generados:"
   ],
   "metadata": {
    "id": "xd-CoUsZHtL9"
   }
  },
  {
   "cell_type": "code",
   "source": [
    "if IN_COLAB:\n",
    "  path = '/content/drive/MyDrive/📔 Organización de Datos (75.06)/TPS/TP2/DATASETS/1a_df_nostopwords.csv'\n",
    "else:\n",
    "  path = 'DATASETS/1a_df_nostopwords.csv'\n",
    "\n",
    "df_nostopwords.to_csv(path)"
   ],
   "metadata": {
    "id": "qr1jlB8QH16Z"
   },
   "execution_count": null,
   "outputs": []
  },
  {
   "cell_type": "code",
   "source": [
    "if IN_COLAB:\n",
    "  path = '/content/drive/MyDrive/📔 Organización de Datos (75.06)/TPS/TP2/DATASETS/1a_df_ampliado.csv'\n",
    "else:\n",
    "  path = 'DATASETS/1a_df_ampliado.csv'\n",
    "\n",
    "df.to_csv(path)"
   ],
   "metadata": {
    "id": "QTsLoqr-IHOX"
   },
   "execution_count": null,
   "outputs": []
  },
  {
   "cell_type": "markdown",
   "source": [
    "### 1.b Modelos\n",
    "___"
   ],
   "metadata": {
    "collapsed": false,
    "id": "fI1Fi95S2DpP"
   }
  },
  {
   "cell_type": "markdown",
   "source": [
    "#### Sin optimización de hiperparámetros"
   ],
   "metadata": {
    "id": "ldOrNGnEaE5H"
   }
  },
  {
   "cell_type": "markdown",
   "source": [
    "Entrenemos un modelo de XGBoost con los mismos hiperparámetros utilizados en el TP1."
   ],
   "metadata": {
    "id": "a2X0YkeUUL1X"
   }
  },
  {
   "cell_type": "markdown",
   "source": [
    "En esta línea, cargamos en memoria el modelo efectivamente utilizado:"
   ],
   "metadata": {
    "id": "8Yayhjd5UeFF"
   }
  },
  {
   "cell_type": "code",
   "source": [
    "if IN_COLAB:\n",
    "  path = '/content/drive/MyDrive/📔 Organización de Datos (75.06)/TPS/TP1/MODELOS/XGB_Regressor_Train.joblib'\n",
    "else:\n",
    "  path = './MODELOS/XGB_Regressor_Train.joblib'\n",
    "\n",
    "XGB_Regressor_TP1 = load(path)"
   ],
   "metadata": {
    "id": "4Dy4yjqVStRM",
    "colab": {
     "base_uri": "https://localhost:8080/"
    },
    "outputId": "66157fc7-8ec1-4998-94cc-4d1a9f896b5f"
   },
   "execution_count": null,
   "outputs": []
  },
  {
   "cell_type": "markdown",
   "source": [
    "Realizamos One Hot Encoding para las variables cualitativas:"
   ],
   "metadata": {
    "collapsed": false,
    "id": "WqUMr9_r2DpQ"
   }
  },
  {
   "cell_type": "code",
   "execution_count": null,
   "outputs": [],
   "source": [
    "df_dummies = pd.get_dummies(df, columns=['place_l4', 'property_type', 'cocina', 'pisos', 'lavadero', 'calefaccion', 'expensas', 'balcon', 'cochera', 'aire'], drop_first=True)\n",
    "df_dummies.head(5)"
   ],
   "metadata": {
    "id": "5e0r2Yj-2DpQ",
    "colab": {
     "base_uri": "https://localhost:8080/",
     "height": 300
    },
    "outputId": "9345f93a-6a15-48ed-ebd9-8004cb87637f"
   }
  },
  {
   "cell_type": "markdown",
   "source": [
    "Separamos el dataset en train y test con una proporción 80% para train y 20% para test:"
   ],
   "metadata": {
    "collapsed": false,
    "id": "3_nVpVTT2DpQ"
   }
  },
  {
   "cell_type": "code",
   "source": [
    "train = df_dummies.sample(frac=0.8, random_state=200)\n",
    "\n",
    "y_train = train[\"property_price\"]\n",
    "\n",
    "train.drop([\"property_price\", \"id\"], inplace=True, axis=1)"
   ],
   "metadata": {
    "id": "PVTe5BA6VGQc"
   },
   "execution_count": null,
   "outputs": []
  },
  {
   "cell_type": "code",
   "execution_count": null,
   "outputs": [],
   "source": [
    "test = df_dummies.drop(train.index)\n",
    "\n",
    "y_test = test[\"property_price\"]\n",
    "\n",
    "test.drop([\"property_price\", \"id\"], inplace=True, axis=1)"
   ],
   "metadata": {
    "id": "kfuLZtKU2DpQ"
   }
  },
  {
   "cell_type": "markdown",
   "source": [
    "Entrenamos el modelo:"
   ],
   "metadata": {
    "id": "I6cp1CI3ZKLx"
   }
  },
  {
   "cell_type": "code",
   "source": [
    "XGB_Regressor_TP1.fit(train, y_train)"
   ],
   "metadata": {
    "id": "44zRgoATZLkr",
    "colab": {
     "base_uri": "https://localhost:8080/"
    },
    "outputId": "8bf54d69-f126-40a2-a43d-9f4f9c58b003"
   },
   "execution_count": null,
   "outputs": []
  },
  {
   "cell_type": "markdown",
   "source": [
    "Hagamos las predicciones y veamos cómo resultaron las métricas del modelo:"
   ],
   "metadata": {
    "id": "PxQTRsiZZmeq"
   }
  },
  {
   "cell_type": "code",
   "source": [
    "y_pred = prediccion_y_metricas_regresion(XGB_Regressor_TP1, test, y_test)"
   ],
   "metadata": {
    "id": "kQ5AadFSfxhE",
    "colab": {
     "base_uri": "https://localhost:8080/"
    },
    "outputId": "044f7dba-5555-4d62-b84e-494ca9febd99"
   },
   "execution_count": null,
   "outputs": []
  },
  {
   "cell_type": "markdown",
   "source": [
    "#### Con optimización de hiperparámetros"
   ],
   "metadata": {
    "id": "CkJCoGXnaN1y"
   }
  },
  {
   "cell_type": "markdown",
   "source": [
    "Veamos cómo se comporta el score con la optimización de hiperparámetros:"
   ],
   "metadata": {
    "collapsed": false,
    "id": "Su2wKojB2DpR"
   }
  },
  {
   "cell_type": "code",
   "execution_count": null,
   "outputs": [],
   "source": [
    "params_grid = {'learning_rate': [0.05, 0.10, 0.15, 0.20, 0.25, 0.30 ],\n",
    "               'max_depth': [3, 4, 5, 6, 8, 10, 12, 15],\n",
    "               'min_child_weight': [1, 3, 5, 7],\n",
    "               'gamma': [ 0.0, 0.1, 0.2 , 0.3, 0.4 ],\n",
    "               'colsample_bytree' : [ 0.3, 0.4, 0.5 , 0.7 ]}\n",
    "\n",
    "randomCV = RandomizedSearchCV(estimator = XGBRegressor(),\n",
    "                              param_distributions = params_grid,\n",
    "                              scoring = make_scorer(accuracy_score),\n",
    "                              cv = StratifiedKFold(n_splits = 5),\n",
    "                              n_iter = 5)\n",
    "\n",
    "randomCV.fit(train, y_train)"
   ],
   "metadata": {
    "id": "7RTpJeq92DpS",
    "colab": {
     "base_uri": "https://localhost:8080/"
    },
    "outputId": "c628a9ba-c22a-41d7-fe70-c2cac713f798"
   }
  },
  {
   "cell_type": "code",
   "execution_count": null,
   "outputs": [],
   "source": [
    "y_pred = prediccion_y_metricas_regresion(randomCV.best_estimator_, test, y_test)"
   ],
   "metadata": {
    "id": "fbhhPYpZ2DpS",
    "colab": {
     "base_uri": "https://localhost:8080/"
    },
    "outputId": "445c5c25-7359-4fca-c120-6a9f3880e749"
   }
  },
  {
   "cell_type": "markdown",
   "source": [
    "Observamos que el score disminuyó levemente."
   ],
   "metadata": {
    "collapsed": false,
    "id": "aRCfkfFX2DpT"
   }
  },
  {
   "cell_type": "markdown",
   "source": [
    "#### Métricas previas"
   ],
   "metadata": {
    "id": "kz5rCsJj3qAz"
   }
  },
  {
   "cell_type": "markdown",
   "source": [
    "Veamos que las métricas obtenidas en el TP1 fueron, para dataset de train:"
   ],
   "metadata": {
    "id": "Muyb5pFT6GPg"
   }
  },
  {
   "cell_type": "markdown",
   "source": [
    "Se obtuvo un 0.0% de aciertos.\n",
    "\n",
    "El error según la métrica 'Mean Square Error' de test es: 70586895109.33229\n",
    "\n",
    "El error según la métrica 'Root Mean Square Error' de test es: 265681.9435139172\n",
    "\n",
    "El coeficiente de determinación de test es: 0.44112156174433736"
   ],
   "metadata": {
    "id": "SJ0EtoxH6ZyI"
   }
  },
  {
   "cell_type": "markdown",
   "source": [
    "Y, para el dataset reducido:"
   ],
   "metadata": {
    "id": "wHp2bi-c69Zo"
   }
  },
  {
   "cell_type": "markdown",
   "source": [
    "Se obtuvo un 0.0% de aciertos.\n",
    "\n",
    "El error según la métrica 'Mean Square Error' de test es: 78861262549.04588\n",
    "\n",
    "El error según la métrica 'Root Mean Square Error' de test es: 280822.4751494187\n",
    "\n",
    "El coeficiente de determinación de test es: 0.3756084725923362"
   ],
   "metadata": {
    "id": "UlVs07V16_bV"
   }
  },
  {
   "cell_type": "markdown",
   "source": [
    "Y podemos concluir que las métricas en comparación mejoraron un 43% aproximadamente."
   ],
   "metadata": {
    "id": "WelhmICh7UNT"
   }
  },
  {
   "cell_type": "markdown",
   "source": [
    "#### Exportación de Datos"
   ],
   "metadata": {
    "id": "_f0JxWEL8GUY"
   }
  },
  {
   "cell_type": "markdown",
   "source": [
    "Finalmente, exportamos el modelo utilizado para predecir, resultante de la optimización de hiperparámetros:"
   ],
   "metadata": {
    "id": "Zza9STS88Ko6"
   }
  },
  {
   "cell_type": "code",
   "source": [
    "if IN_COLAB:\n",
    "  path = '/content/drive/MyDrive/📔 Organización de Datos (75.06)/TPS/TP2/MODELOS/XGB_Regressor.joblib'\n",
    "else:\n",
    "  path = './MODELOS/XGB_Regressor.joblib'\n",
    "\n",
    "dump(randomCV.best_estimator_, path)"
   ],
   "metadata": {
    "id": "RNVI92fe8WEP",
    "colab": {
     "base_uri": "https://localhost:8080/"
    },
    "outputId": "9e1b9542-5eec-4f40-edbc-ebf7c8cecc42"
   },
   "execution_count": null,
   "outputs": []
  },
  {
   "cell_type": "markdown",
   "source": [
    "## 2. Redes Neuronales"
   ],
   "metadata": {
    "collapsed": false,
    "id": "HWpWT3GZ_TQT"
   }
  },
  {
   "cell_type": "markdown",
   "source": [
    "Trabajemos con el dataset reducido del primer TP y entrenemos dos modelos de redes neuronales para regresión y clasificación."
   ],
   "metadata": {
    "id": "o5Npv7MVLad3"
   }
  },
  {
   "cell_type": "markdown",
   "source": [
    "Aplicamos One Hot Encoding y separamos en train y test:"
   ],
   "metadata": {
    "id": "7wRCkK8XMHDb"
   }
  },
  {
   "cell_type": "code",
   "execution_count": 117,
   "outputs": [],
   "source": [
    "# df_train_x = df_train.drop([\"property_price\", \"tipo_precio_3\"], axis=\"columns\")\n",
    "# df_train_y_regresion = df_train[\"property_price\"]\n",
    "# df_train_y_clasificacion = df_train[\"tipo_precio_3\"]\n",
    "#\n",
    "# df_test_x = df_test.drop([\"property_price\", \"tipo_precio_3\"], axis=\"columns\")\n",
    "# df_test_y_regresion = df_test[\"property_price\"]\n",
    "# df_test_y_clasificacion = df_test[\"tipo_precio_3\"]"
   ],
   "metadata": {
    "collapsed": false
   }
  },
  {
   "cell_type": "code",
   "source": [
    "# df_properati = pd.get_dummies(properati, columns=['place_l4', 'property_type'], drop_first=False)\n",
    "\n",
    "# properati_x_train = df_properati.sample(frac=0.8, random_state=200)\n",
    "# properati_y_train = properati_x_train[\"property_price\"]\n",
    "# properati_x_train.drop([\"property_price\"], inplace=True, axis=1)\n",
    "#\n",
    "# properati_x_test = df_properati.drop(properati_x_train.index)\n",
    "# properati_y_test = properati_x_test[\"property_price\"]\n",
    "# properati_x_test.drop([\"property_price\"], inplace=True, axis=1)"
   ],
   "metadata": {
    "id": "2gl5TKHVjFWU"
   },
   "execution_count": 118,
   "outputs": []
  },
  {
   "cell_type": "code",
   "source": [
    "# x_train_regresion = df_train_x.drop([\"id\"], axis=1).copy()\n",
    "# y_train_regresion = df_train_y_regresion.copy()\n",
    "# x_test_regresion = df_test_x.drop([\"id\"], axis=1).copy()\n",
    "# y_test_regresion = df_test_y_regresion.copy()"
   ],
   "metadata": {
    "id": "jUfurX9ZMG15"
   },
   "execution_count": 119,
   "outputs": []
  },
  {
   "cell_type": "code",
   "source": [
    "# x_train_regresion.drop([\"id\"], inplace=True, axis=1)\n",
    "#\n",
    "# x_test_regresion.drop([\"id\"], inplace=True, axis=1)"
   ],
   "metadata": {
    "id": "PSvAjpkM1avz"
   },
   "execution_count": 120,
   "outputs": []
  },
  {
   "cell_type": "code",
   "source": [
    "# x_train_clasificacion = properati_x_train.copy()\n",
    "# y_train_clasificacion = properati_y_train.copy()\n",
    "# x_test_clasificacion = properati_x_test.copy()\n",
    "# y_test_clasificacion = properati_y_test.copy()\n",
    "# x_train_clasificacion = df_train_x.drop([\"id\"], axis=1).copy()\n",
    "# y_train_clasificacion = df_train_y_clasificacion.copy()\n",
    "# x_test_clasificacion = df_test_x.drop([\"id\"], axis=1).copy()\n",
    "# y_test_clasificacion = df_test_y_clasificacion.copy()"
   ],
   "metadata": {
    "id": "M6PaYzXiMVrR"
   },
   "execution_count": 121,
   "outputs": []
  },
  {
   "cell_type": "code",
   "source": [
    "# x_train_classifier[\"property_m2price\"] = y_train_classifier / x_train_classifier[\"property_surface_total\"]\n",
    "# x_train_classifier.sort_values(by=[\"property_m2price\"], inplace=True)\n",
    "# x_train_classifier['tipo_precio_3'] = pd.qcut(x=x_train_classifier.loc[properati['property_type'] == 'Departamento']['property_m2price'], q=4, labels=['bajo', 'medio', 'medio2', 'alto']).replace(\"medio2\",\"medio\")\n",
    "# x_train_classifier['tipo_precio_3'].fillna(pd.qcut(x=x_train_classifier.loc[properati['property_type'] == 'Casa']['property_m2price'], q=4, labels=['bajo', 'medio', 'medio2', 'alto']).replace(\"medio2\",\"medio\"), inplace=True)\n",
    "# x_train_classifier['tipo_precio_3'].fillna(pd.qcut(x=x_train_classifier.loc[properati['property_type'] == 'PH']['property_m2price'], q=4, labels=['bajo', 'medio', 'medio2', 'alto']).replace(\"medio2\",\"medio\"), inplace=True)\n",
    "#\n",
    "# x_test_classifier[\"property_m2price\"] = y_test_classifier / x_test_classifier[\"property_surface_total\"]\n",
    "# x_test_classifier.sort_values(by=[\"property_m2price\"], inplace=True)\n",
    "# x_test_classifier['tipo_precio_3'] = pd.qcut(x=x_test_classifier.loc[properati['property_type'] == 'Departamento']['property_m2price'], q=4, labels=['bajo', 'medio', 'medio2', 'alto']).replace(\"medio2\",\"medio\")\n",
    "# x_test_classifier['tipo_precio_3'].fillna(pd.qcut(x=x_test_classifier.loc[properati['property_type'] == 'Casa']['property_m2price'], q=4, labels=['bajo', 'medio', 'medio2', 'alto']).replace(\"medio2\",\"medio\"), inplace=True)\n",
    "# x_test_classifier['tipo_precio_3'].fillna(pd.qcut(x=x_test_classifier.loc[properati['property_type'] == 'PH']['property_m2price'], q=4, labels=['bajo', 'medio', 'medio2', 'alto']).replace(\"medio2\",\"medio\"), inplace=True)"
   ],
   "metadata": {
    "id": "lhr_SBo9OWIM"
   },
   "execution_count": 122,
   "outputs": []
  },
  {
   "cell_type": "code",
   "execution_count": 123,
   "outputs": [],
   "source": [
    "# y_train_classifier = x_train_classifier[\"tipo_precio_3\"]\n",
    "# x_train_classifier.drop([\"id\", \"tipo_precio_3\", \"property_m2price\"], inplace=True, axis=1)\n",
    "#\n",
    "# y_test_classifier = x_test_classifier[\"tipo_precio_3\"]\n",
    "# x_test_classifier.drop([\"id\", \"tipo_precio_3\", \"property_m2price\"], inplace=True, axis=1)"
   ],
   "metadata": {
    "id": "AgsGLgI-_TQV"
   }
  },
  {
   "cell_type": "markdown",
   "source": [
    "### 2.a Regresión\n",
    "___"
   ],
   "metadata": {
    "id": "2HjJDe4W_iY-"
   }
  },
  {
   "cell_type": "markdown",
   "source": [
    "#### 2.a.1 Preparación del dataset"
   ],
   "metadata": {
    "id": "5xI2H0xyYm_B"
   }
  },
  {
   "cell_type": "code",
   "execution_count": 124,
   "outputs": [],
   "source": [
    "x_train_regresion = df_train_x.drop([\"id\"], axis=1).copy()\n",
    "y_train_regresion = df_train_y_regresion.copy()\n",
    "x_test_regresion = df_test_x.drop([\"id\"], axis=1).copy()\n",
    "y_test_regresion = df_test_y_regresion.copy()"
   ],
   "metadata": {
    "collapsed": false
   }
  },
  {
   "cell_type": "markdown",
   "source": [
    "Normalizamos las entradas con StandardScaler:"
   ],
   "metadata": {
    "collapsed": false,
    "id": "PKPRQVFS_TQT"
   }
  },
  {
   "cell_type": "code",
   "source": [
    "estandarizar(x_train_regresion, ['start_date', 'end_date', 'latitud', 'longitud', 'property_rooms', 'property_surface_total'])"
   ],
   "metadata": {
    "id": "s3xTEOkRlufG"
   },
   "execution_count": 125,
   "outputs": []
  },
  {
   "cell_type": "code",
   "execution_count": 126,
   "outputs": [
    {
     "data": {
      "text/plain": "   start_date  end_date   latitud  longitud  property_rooms  \\\n0   -0.013962 -0.503294  0.719583  0.842780        3.378343   \n1   -1.018754 -1.315343 -0.536796  2.035631        0.985222   \n2   -0.941462  0.196521  0.993212  0.197907        0.985222   \n3    1.541533  0.757694  0.613858  0.854585        0.187515   \n4   -0.941462  0.196521  0.993212  0.197907        0.985222   \n\n   property_surface_total  place_l4_Agronomía  place_l4_Almagro  \\\n0                5.038170                   0                 0   \n1                1.655539                   0                 0   \n2                2.665736                   0                 0   \n3                0.522893                   0                 0   \n4                1.211664                   0                 0   \n\n   place_l4_Balvanera  place_l4_Barracas  ...  place_l4_Villa Ortuzar  \\\n0                   0                  0  ...                       0   \n1                   0                  0  ...                       0   \n2                   0                  0  ...                       0   \n3                   0                  0  ...                       0   \n4                   0                  0  ...                       0   \n\n   place_l4_Villa Pueyrredón  place_l4_Villa Real  place_l4_Villa Riachuelo  \\\n0                          0                    0                         0   \n1                          0                    0                         0   \n2                          0                    0                         0   \n3                          0                    0                         0   \n4                          0                    0                         0   \n\n   place_l4_Villa Santa Rita  place_l4_Villa Soldati  place_l4_Villa Urquiza  \\\n0                          0                       0                       0   \n1                          0                       0                       0   \n2                          0                       0                       0   \n3                          0                       0                       0   \n4                          0                       0                       0   \n\n   place_l4_Villa del Parque  property_type_Departamento  property_type_PH  \n0                          0                           1                 0  \n1                          0                           1                 0  \n2                          0                           1                 0  \n3                          0                           1                 0  \n4                          0                           1                 0  \n\n[5 rows x 69 columns]",
      "text/html": "<div>\n<style scoped>\n    .dataframe tbody tr th:only-of-type {\n        vertical-align: middle;\n    }\n\n    .dataframe tbody tr th {\n        vertical-align: top;\n    }\n\n    .dataframe thead th {\n        text-align: right;\n    }\n</style>\n<table border=\"1\" class=\"dataframe\">\n  <thead>\n    <tr style=\"text-align: right;\">\n      <th></th>\n      <th>start_date</th>\n      <th>end_date</th>\n      <th>latitud</th>\n      <th>longitud</th>\n      <th>property_rooms</th>\n      <th>property_surface_total</th>\n      <th>place_l4_Agronomía</th>\n      <th>place_l4_Almagro</th>\n      <th>place_l4_Balvanera</th>\n      <th>place_l4_Barracas</th>\n      <th>...</th>\n      <th>place_l4_Villa Ortuzar</th>\n      <th>place_l4_Villa Pueyrredón</th>\n      <th>place_l4_Villa Real</th>\n      <th>place_l4_Villa Riachuelo</th>\n      <th>place_l4_Villa Santa Rita</th>\n      <th>place_l4_Villa Soldati</th>\n      <th>place_l4_Villa Urquiza</th>\n      <th>place_l4_Villa del Parque</th>\n      <th>property_type_Departamento</th>\n      <th>property_type_PH</th>\n    </tr>\n  </thead>\n  <tbody>\n    <tr>\n      <th>0</th>\n      <td>-0.013962</td>\n      <td>-0.503294</td>\n      <td>0.719583</td>\n      <td>0.842780</td>\n      <td>3.378343</td>\n      <td>5.038170</td>\n      <td>0</td>\n      <td>0</td>\n      <td>0</td>\n      <td>0</td>\n      <td>...</td>\n      <td>0</td>\n      <td>0</td>\n      <td>0</td>\n      <td>0</td>\n      <td>0</td>\n      <td>0</td>\n      <td>0</td>\n      <td>0</td>\n      <td>1</td>\n      <td>0</td>\n    </tr>\n    <tr>\n      <th>1</th>\n      <td>-1.018754</td>\n      <td>-1.315343</td>\n      <td>-0.536796</td>\n      <td>2.035631</td>\n      <td>0.985222</td>\n      <td>1.655539</td>\n      <td>0</td>\n      <td>0</td>\n      <td>0</td>\n      <td>0</td>\n      <td>...</td>\n      <td>0</td>\n      <td>0</td>\n      <td>0</td>\n      <td>0</td>\n      <td>0</td>\n      <td>0</td>\n      <td>0</td>\n      <td>0</td>\n      <td>1</td>\n      <td>0</td>\n    </tr>\n    <tr>\n      <th>2</th>\n      <td>-0.941462</td>\n      <td>0.196521</td>\n      <td>0.993212</td>\n      <td>0.197907</td>\n      <td>0.985222</td>\n      <td>2.665736</td>\n      <td>0</td>\n      <td>0</td>\n      <td>0</td>\n      <td>0</td>\n      <td>...</td>\n      <td>0</td>\n      <td>0</td>\n      <td>0</td>\n      <td>0</td>\n      <td>0</td>\n      <td>0</td>\n      <td>0</td>\n      <td>0</td>\n      <td>1</td>\n      <td>0</td>\n    </tr>\n    <tr>\n      <th>3</th>\n      <td>1.541533</td>\n      <td>0.757694</td>\n      <td>0.613858</td>\n      <td>0.854585</td>\n      <td>0.187515</td>\n      <td>0.522893</td>\n      <td>0</td>\n      <td>0</td>\n      <td>0</td>\n      <td>0</td>\n      <td>...</td>\n      <td>0</td>\n      <td>0</td>\n      <td>0</td>\n      <td>0</td>\n      <td>0</td>\n      <td>0</td>\n      <td>0</td>\n      <td>0</td>\n      <td>1</td>\n      <td>0</td>\n    </tr>\n    <tr>\n      <th>4</th>\n      <td>-0.941462</td>\n      <td>0.196521</td>\n      <td>0.993212</td>\n      <td>0.197907</td>\n      <td>0.985222</td>\n      <td>1.211664</td>\n      <td>0</td>\n      <td>0</td>\n      <td>0</td>\n      <td>0</td>\n      <td>...</td>\n      <td>0</td>\n      <td>0</td>\n      <td>0</td>\n      <td>0</td>\n      <td>0</td>\n      <td>0</td>\n      <td>0</td>\n      <td>0</td>\n      <td>1</td>\n      <td>0</td>\n    </tr>\n  </tbody>\n</table>\n<p>5 rows × 69 columns</p>\n</div>"
     },
     "execution_count": 126,
     "metadata": {},
     "output_type": "execute_result"
    }
   ],
   "source": [
    "x_train_regresion.head(5)"
   ],
   "metadata": {
    "id": "kypRw7jF_TQT",
    "colab": {
     "base_uri": "https://localhost:8080/",
     "height": 317
    },
    "outputId": "65083d9f-0051-468d-f547-44ff133f80c7"
   }
  },
  {
   "cell_type": "markdown",
   "source": [
    "#### 2.a.2 Definición de la red"
   ],
   "metadata": {
    "id": "NjqmQr4pYrEE"
   }
  },
  {
   "cell_type": "markdown",
   "source": [
    "Creo una función que me permite generar un modelo a partir de sus hiperparámetros:"
   ],
   "metadata": {
    "collapsed": false
   }
  },
  {
   "cell_type": "code",
   "execution_count": 201,
   "outputs": [],
   "source": [
    "import math\n",
    "from keras.wrappers.scikit_learn import KerasClassifier\n",
    "from keras import Sequential\n",
    "from keras.layers import Dense\n",
    "\n",
    "cantidad_de_columnas = x_train_regresion.shape[1]\n",
    "\n",
    "def crearRed(hidden_layers, first_layer_nodes, last_layer_nodes, activation_func):\n",
    "\n",
    "    sequential = Sequential()\n",
    "    sequential.add(keras.layers.Dense(cantidad_de_columnas, input_shape=(cantidad_de_columnas,), activation=activation_func))\n",
    "\n",
    "    if hidden_layers is 0 or hidden_layers is 1:\n",
    "        decremento = 0\n",
    "    else:\n",
    "        decremento = math.ceil((first_layer_nodes - last_layer_nodes) / (hidden_layers - 1))\n",
    "\n",
    "    for i in range (0, hidden_layers):\n",
    "        nodos = first_layer_nodes - decremento * i\n",
    "        sequential.add(Dense(nodos, activation=activation_func))\n",
    "\n",
    "    sequential.add(Dense(1, activation=activation_func))\n",
    "\n",
    "    sequential.compile(\n",
    "        optimizer=keras.optimizers.RMSprop(learning_rate=0.001),\n",
    "        loss='mse',\n",
    "        metrics=[MeanSquaredError()]\n",
    "    )\n",
    "\n",
    "    return sequential\n",
    "\n",
    "\n",
    "modelo =  KerasClassifier(build_fn=crearRed, verbose = False)\n",
    "# crearRed(1, 15, 5, 'relu').summary()"
   ],
   "metadata": {
    "collapsed": false
   }
  },
  {
   "cell_type": "code",
   "execution_count": 202,
   "outputs": [],
   "source": [
    "from sklearn.model_selection import GridSearchCV\n",
    "\n",
    "param_grid = dict(\n",
    "    hidden_layers=[1, 2],\n",
    "    first_layer_nodes = [math.ceil(cantidad_de_columnas * 0.6), math.ceil(cantidad_de_columnas * 0.5)],\n",
    "    last_layer_nodes = [5, cantidad_de_columnas * 0.5],\n",
    "    activation_func = ['sigmoid', 'relu', 'tanh'],\n",
    "    batch_size = [100],\n",
    "    epochs = [60]\n",
    ")\n",
    "\n",
    "grid = GridSearchCV(estimator = modelo, param_grid = param_grid)"
   ],
   "metadata": {
    "collapsed": false
   }
  },
  {
   "cell_type": "code",
   "execution_count": 203,
   "outputs": [
    {
     "data": {
      "text/plain": "GridSearchCV(estimator=<keras.wrappers.scikit_learn.KerasClassifier object at 0x000001F8A1291690>,\n             param_grid={'activation_func': ['sigmoid', 'relu', 'tanh'],\n                         'batch_size': [100], 'epochs': [60],\n                         'first_layer_nodes': [42, 35], 'hidden_layers': [1, 2],\n                         'last_layer_nodes': [5, 34.5]})",
      "text/html": "<style>#sk-container-id-2 {color: black;background-color: white;}#sk-container-id-2 pre{padding: 0;}#sk-container-id-2 div.sk-toggleable {background-color: white;}#sk-container-id-2 label.sk-toggleable__label {cursor: pointer;display: block;width: 100%;margin-bottom: 0;padding: 0.3em;box-sizing: border-box;text-align: center;}#sk-container-id-2 label.sk-toggleable__label-arrow:before {content: \"▸\";float: left;margin-right: 0.25em;color: #696969;}#sk-container-id-2 label.sk-toggleable__label-arrow:hover:before {color: black;}#sk-container-id-2 div.sk-estimator:hover label.sk-toggleable__label-arrow:before {color: black;}#sk-container-id-2 div.sk-toggleable__content {max-height: 0;max-width: 0;overflow: hidden;text-align: left;background-color: #f0f8ff;}#sk-container-id-2 div.sk-toggleable__content pre {margin: 0.2em;color: black;border-radius: 0.25em;background-color: #f0f8ff;}#sk-container-id-2 input.sk-toggleable__control:checked~div.sk-toggleable__content {max-height: 200px;max-width: 100%;overflow: auto;}#sk-container-id-2 input.sk-toggleable__control:checked~label.sk-toggleable__label-arrow:before {content: \"▾\";}#sk-container-id-2 div.sk-estimator input.sk-toggleable__control:checked~label.sk-toggleable__label {background-color: #d4ebff;}#sk-container-id-2 div.sk-label input.sk-toggleable__control:checked~label.sk-toggleable__label {background-color: #d4ebff;}#sk-container-id-2 input.sk-hidden--visually {border: 0;clip: rect(1px 1px 1px 1px);clip: rect(1px, 1px, 1px, 1px);height: 1px;margin: -1px;overflow: hidden;padding: 0;position: absolute;width: 1px;}#sk-container-id-2 div.sk-estimator {font-family: monospace;background-color: #f0f8ff;border: 1px dotted black;border-radius: 0.25em;box-sizing: border-box;margin-bottom: 0.5em;}#sk-container-id-2 div.sk-estimator:hover {background-color: #d4ebff;}#sk-container-id-2 div.sk-parallel-item::after {content: \"\";width: 100%;border-bottom: 1px solid gray;flex-grow: 1;}#sk-container-id-2 div.sk-label:hover label.sk-toggleable__label {background-color: #d4ebff;}#sk-container-id-2 div.sk-serial::before {content: \"\";position: absolute;border-left: 1px solid gray;box-sizing: border-box;top: 0;bottom: 0;left: 50%;z-index: 0;}#sk-container-id-2 div.sk-serial {display: flex;flex-direction: column;align-items: center;background-color: white;padding-right: 0.2em;padding-left: 0.2em;position: relative;}#sk-container-id-2 div.sk-item {position: relative;z-index: 1;}#sk-container-id-2 div.sk-parallel {display: flex;align-items: stretch;justify-content: center;background-color: white;position: relative;}#sk-container-id-2 div.sk-item::before, #sk-container-id-2 div.sk-parallel-item::before {content: \"\";position: absolute;border-left: 1px solid gray;box-sizing: border-box;top: 0;bottom: 0;left: 50%;z-index: -1;}#sk-container-id-2 div.sk-parallel-item {display: flex;flex-direction: column;z-index: 1;position: relative;background-color: white;}#sk-container-id-2 div.sk-parallel-item:first-child::after {align-self: flex-end;width: 50%;}#sk-container-id-2 div.sk-parallel-item:last-child::after {align-self: flex-start;width: 50%;}#sk-container-id-2 div.sk-parallel-item:only-child::after {width: 0;}#sk-container-id-2 div.sk-dashed-wrapped {border: 1px dashed gray;margin: 0 0.4em 0.5em 0.4em;box-sizing: border-box;padding-bottom: 0.4em;background-color: white;}#sk-container-id-2 div.sk-label label {font-family: monospace;font-weight: bold;display: inline-block;line-height: 1.2em;}#sk-container-id-2 div.sk-label-container {text-align: center;}#sk-container-id-2 div.sk-container {/* jupyter's `normalize.less` sets `[hidden] { display: none; }` but bootstrap.min.css set `[hidden] { display: none !important; }` so we also need the `!important` here to be able to override the default hidden behavior on the sphinx rendered scikit-learn.org. See: https://github.com/scikit-learn/scikit-learn/issues/21755 */display: inline-block !important;position: relative;}#sk-container-id-2 div.sk-text-repr-fallback {display: none;}</style><div id=\"sk-container-id-2\" class=\"sk-top-container\"><div class=\"sk-text-repr-fallback\"><pre>GridSearchCV(estimator=&lt;keras.wrappers.scikit_learn.KerasClassifier object at 0x000001F8A1291690&gt;,\n             param_grid={&#x27;activation_func&#x27;: [&#x27;sigmoid&#x27;, &#x27;relu&#x27;, &#x27;tanh&#x27;],\n                         &#x27;batch_size&#x27;: [100], &#x27;epochs&#x27;: [60],\n                         &#x27;first_layer_nodes&#x27;: [42, 35], &#x27;hidden_layers&#x27;: [1, 2],\n                         &#x27;last_layer_nodes&#x27;: [5, 34.5]})</pre><b>In a Jupyter environment, please rerun this cell to show the HTML representation or trust the notebook. <br />On GitHub, the HTML representation is unable to render, please try loading this page with nbviewer.org.</b></div><div class=\"sk-container\" hidden><div class=\"sk-item sk-dashed-wrapped\"><div class=\"sk-label-container\"><div class=\"sk-label sk-toggleable\"><input class=\"sk-toggleable__control sk-hidden--visually\" id=\"sk-estimator-id-5\" type=\"checkbox\" ><label for=\"sk-estimator-id-5\" class=\"sk-toggleable__label sk-toggleable__label-arrow\">GridSearchCV</label><div class=\"sk-toggleable__content\"><pre>GridSearchCV(estimator=&lt;keras.wrappers.scikit_learn.KerasClassifier object at 0x000001F8A1291690&gt;,\n             param_grid={&#x27;activation_func&#x27;: [&#x27;sigmoid&#x27;, &#x27;relu&#x27;, &#x27;tanh&#x27;],\n                         &#x27;batch_size&#x27;: [100], &#x27;epochs&#x27;: [60],\n                         &#x27;first_layer_nodes&#x27;: [42, 35], &#x27;hidden_layers&#x27;: [1, 2],\n                         &#x27;last_layer_nodes&#x27;: [5, 34.5]})</pre></div></div></div><div class=\"sk-parallel\"><div class=\"sk-parallel-item\"><div class=\"sk-item\"><div class=\"sk-label-container\"><div class=\"sk-label sk-toggleable\"><input class=\"sk-toggleable__control sk-hidden--visually\" id=\"sk-estimator-id-6\" type=\"checkbox\" ><label for=\"sk-estimator-id-6\" class=\"sk-toggleable__label sk-toggleable__label-arrow\">estimator: KerasClassifier</label><div class=\"sk-toggleable__content\"><pre>&lt;keras.wrappers.scikit_learn.KerasClassifier object at 0x000001F8A1291690&gt;</pre></div></div></div><div class=\"sk-serial\"><div class=\"sk-item\"><div class=\"sk-estimator sk-toggleable\"><input class=\"sk-toggleable__control sk-hidden--visually\" id=\"sk-estimator-id-7\" type=\"checkbox\" ><label for=\"sk-estimator-id-7\" class=\"sk-toggleable__label sk-toggleable__label-arrow\">KerasClassifier</label><div class=\"sk-toggleable__content\"><pre>&lt;keras.wrappers.scikit_learn.KerasClassifier object at 0x000001F8A1291690&gt;</pre></div></div></div></div></div></div></div></div></div></div>"
     },
     "execution_count": 203,
     "metadata": {},
     "output_type": "execute_result"
    }
   ],
   "source": [
    "grid.fit(x_train_regresion,y_train_regresion)"
   ],
   "metadata": {
    "collapsed": false
   }
  },
  {
   "cell_type": "code",
   "execution_count": 206,
   "outputs": [
    {
     "name": "stdout",
     "output_type": "stream",
     "text": [
      "nan\n",
      "{'activation_func': 'sigmoid', 'batch_size': 100, 'epochs': 60, 'first_layer_nodes': 42, 'hidden_layers': 1, 'last_layer_nodes': 5}\n"
     ]
    },
    {
     "data": {
      "text/plain": "{'build_fn': <function __main__.crearRed(hidden_layers, first_layer_nodes, last_layer_nodes, activation_func)>,\n 'sk_params': {'verbose': False,\n  'activation_func': 'sigmoid',\n  'batch_size': 100,\n  'epochs': 60,\n  'first_layer_nodes': 42,\n  'hidden_layers': 1,\n  'last_layer_nodes': 5},\n 'classes_': array([5.000000e+03, 6.200000e+03, 7.500000e+03, ..., 4.200000e+06,\n        7.149999e+06, 8.500000e+06]),\n 'n_classes_': 4170,\n 'model': <keras.engine.sequential.Sequential at 0x1f8a169c9a0>}"
     },
     "execution_count": 206,
     "metadata": {},
     "output_type": "execute_result"
    }
   ],
   "source": [
    "print(grid.best_score_)\n",
    "print(grid.best_params_)\n",
    "grid.best_estimator_"
   ],
   "metadata": {
    "collapsed": false
   }
  },
  {
   "cell_type": "markdown",
   "source": [
    "Creamos el modelo con 2 capas ocultas, entrada de igual cantidad de columnas que el dataset, y salida de 1 parámetro:"
   ],
   "metadata": {
    "collapsed": false,
    "id": "76ZJ71U6_TQU"
   }
  },
  {
   "cell_type": "code",
   "execution_count": 218,
   "outputs": [
    {
     "name": "stdout",
     "output_type": "stream",
     "text": [
      "Model: \"sequential_212\"\n",
      "_________________________________________________________________\n",
      " Layer (type)                Output Shape              Param #   \n",
      "=================================================================\n",
      " dense_739 (Dense)           (None, 69)                4830      \n",
      "                                                                 \n",
      " dense_740 (Dense)           (None, 42)                2940      \n",
      "                                                                 \n",
      " dense_741 (Dense)           (None, 1)                 43        \n",
      "                                                                 \n",
      "=================================================================\n",
      "Total params: 7,813\n",
      "Trainable params: 7,813\n",
      "Non-trainable params: 0\n",
      "_________________________________________________________________\n"
     ]
    }
   ],
   "source": [
    "d_in = x_train_regresion.shape[1]\n",
    "\n",
    "modelo = keras.Sequential([\n",
    "    keras.layers.Dense(d_in, input_shape=(d_in,), activation='sigmoid'),\n",
    "    keras.layers.Dense(42, activation='sigmoid'),\n",
    "    keras.layers.Dense(1)\n",
    "])\n",
    "\n",
    "modelo.summary()"
   ],
   "metadata": {
    "id": "Of791qYL_TQU",
    "colab": {
     "base_uri": "https://localhost:8080/"
    },
    "outputId": "36ad3621-7858-4935-c6ae-d77034f53b1b"
   }
  },
  {
   "cell_type": "markdown",
   "source": [
    "#### 2.a.3 Entrenamiento y Predicción"
   ],
   "metadata": {
    "id": "Ao8GekM5YxJE"
   }
  },
  {
   "cell_type": "markdown",
   "source": [
    "Compilamos el modelo utilizando RMSprop como optimizador, entrenamos y predecimos:"
   ],
   "metadata": {
    "id": "P-dGpK-MZJjK"
   }
  },
  {
   "cell_type": "code",
   "execution_count": 219,
   "outputs": [
    {
     "name": "stdout",
     "output_type": "stream",
     "text": [
      "582/582 [==============================] - 1s 759us/step\n"
     ]
    }
   ],
   "source": [
    "modelo.compile(\n",
    "    optimizer=keras.optimizers.RMSprop(learning_rate=0.001),\n",
    "    loss='mse',\n",
    "    metrics=[MeanSquaredError()]\n",
    ")\n",
    "\n",
    "cant_epochs = 100\n",
    "historia = modelo.fit(x_train_regresion,\n",
    "                      y_train_regresion,\n",
    "                      epochs=cant_epochs,\n",
    "                      verbose=False,\n",
    "                      use_multiprocessing=True,\n",
    "                      workers=4)\n",
    "\n",
    "y_pred_regresion = modelo.predict(x_test_regresion)"
   ],
   "metadata": {
    "id": "lLv5SJT5_TQU",
    "colab": {
     "base_uri": "https://localhost:8080/"
    },
    "outputId": "5273abe8-c428-4dda-8bd9-d49bc7f9bb22"
   }
  },
  {
   "cell_type": "markdown",
   "source": [
    "#### 2.a.4 Métricas"
   ],
   "metadata": {
    "id": "Lm9p0azkY7Jc"
   }
  },
  {
   "cell_type": "markdown",
   "source": [
    "Veamos cómo se comporta la función de pérdida según la cantidad de épocas utilizadas:"
   ],
   "metadata": {
    "id": "vmBg6ev_ZO-e"
   }
  },
  {
   "cell_type": "code",
   "execution_count": 220,
   "outputs": [
    {
     "data": {
      "text/plain": "<matplotlib.legend.Legend at 0x1f89dcaf160>"
     },
     "execution_count": 220,
     "metadata": {},
     "output_type": "execute_result"
    },
    {
     "data": {
      "text/plain": "<Figure size 640x480 with 1 Axes>",
      "image/png": "[encoded data removed]"
     },
     "metadata": {},
     "output_type": "display_data"
    }
   ],
   "source": [
    "epochs = range(cant_epochs)\n",
    "plt.plot(epochs, historia.history['loss'], color='orange', label='MSE')\n",
    "plt.xlabel(\"epochs\")\n",
    "plt.ylabel(\"MSE\")\n",
    "plt.title('Error cuadrático medio por cantidad de épocas')\n",
    "plt.legend()"
   ],
   "metadata": {
    "id": "BzNqiJex_TQU",
    "colab": {
     "base_uri": "https://localhost:8080/",
     "height": 312
    },
    "outputId": "214e1825-e3d1-4d66-f0db-9b0cdf7a2550"
   }
  },
  {
   "cell_type": "code",
   "execution_count": 221,
   "outputs": [
    {
     "name": "stdout",
     "output_type": "stream",
     "text": [
      "582/582 [==============================] - 1s 947us/step - loss: 173270253568.0000 - mean_squared_error: 173270253568.0000\n",
      "El error relativo porcentual promedio es: 0.92 y su mediana es: 0.93\n",
      "El error MSE es: 173270253568.0\n"
     ]
    }
   ],
   "source": [
    "res = modelo.evaluate(x_test_regresion, y_test_regresion)\n",
    "error = np.absolute(np.diagonal(np.subtract(y_test_regresion.values, y_pred_regresion)))\n",
    "error_porcentual = error / y_test_regresion.values\n",
    "print('El error relativo porcentual promedio es:', round(np.mean(error_porcentual),2), 'y su mediana es:', round(np.median(error_porcentual),2))\n",
    "print('El error MSE es:', round(res[1],2))"
   ],
   "metadata": {
    "id": "I8bkgfzi_TQV",
    "colab": {
     "base_uri": "https://localhost:8080/"
    },
    "outputId": "592302a4-6a6f-4df4-ab34-495c9f4e028c"
   }
  },
  {
   "cell_type": "markdown",
   "source": [
    "#### 2.a.5 Exportación de Datos"
   ],
   "metadata": {
    "id": "BeRZVagKeKzO"
   }
  },
  {
   "cell_type": "markdown",
   "source": [
    "Finalmente, exportamos el modelo utilizado:"
   ],
   "metadata": {
    "id": "lO3v9OUzeKzP"
   }
  },
  {
   "cell_type": "code",
   "source": [
    "if IN_COLAB:\n",
    "  path = '/content/drive/MyDrive/📔 Organización de Datos (75.06)/TPS/TP2/MODELOS/Redes_Regressor.joblib'\n",
    "else:\n",
    "  path = './MODELOS/Redes_Regressor.joblib'\n",
    "\n",
    "dump(modelo, path)"
   ],
   "metadata": {
    "colab": {
     "base_uri": "https://localhost:8080/"
    },
    "outputId": "ac67727c-79b0-4c22-bb79-7bd9362015f4",
    "id": "tSuqGenveKzP"
   },
   "execution_count": 131,
   "outputs": [
    {
     "name": "stdout",
     "output_type": "stream",
     "text": [
      "INFO:tensorflow:Assets written to: ram://dfb6c406-6921-4064-85ef-8dd0dd37032c/assets\n"
     ]
    },
    {
     "data": {
      "text/plain": "['./MODELOS/Redes_Regressor.joblib']"
     },
     "execution_count": 131,
     "metadata": {},
     "output_type": "execute_result"
    }
   ]
  },
  {
   "cell_type": "markdown",
   "source": [
    "### 2.b Clasificación\n",
    "___"
   ],
   "metadata": {
    "collapsed": false,
    "id": "dXdWW-m9_TQV"
   }
  },
  {
   "cell_type": "markdown",
   "source": [
    "#### 2.b.1 Preparación del dataset"
   ],
   "metadata": {
    "id": "b176QcPLZj9N"
   }
  },
  {
   "cell_type": "code",
   "execution_count": 132,
   "outputs": [],
   "source": [
    "x_train_clasificacion = df_train_x.drop([\"id\"], axis=1).copy()\n",
    "y_train_clasificacion = df_train_y_clasificacion.copy()\n",
    "x_test_clasificacion = df_test_x.drop([\"id\"], axis=1).copy()\n",
    "y_test_clasificacion = df_test_y_clasificacion.copy()"
   ],
   "metadata": {
    "collapsed": false
   }
  },
  {
   "cell_type": "markdown",
   "source": [
    "Normalizamos mediante Z-Score:"
   ],
   "metadata": {
    "collapsed": false,
    "id": "JPjRt6tTOWIL"
   }
  },
  {
   "cell_type": "code",
   "source": [
    "x_train_clasificacion[['start_date', 'end_date', 'latitud', 'longitud', 'property_rooms', 'property_surface_total']] = zscore(x_train_clasificacion[['start_date', 'end_date', 'latitud', 'longitud', 'property_rooms', 'property_surface_total']], axis=1)\n",
    "\n",
    "x_test_clasificacion[['start_date', 'end_date', 'latitud', 'longitud', 'property_rooms', 'property_surface_total']] = zscore(x_test_clasificacion[['start_date', 'end_date', 'latitud', 'longitud', 'property_rooms', 'property_surface_total']], axis=1)"
   ],
   "metadata": {
    "id": "qDlv11yi8sR1"
   },
   "execution_count": 133,
   "outputs": []
  },
  {
   "cell_type": "markdown",
   "source": [
    "Aplicamos One Hot encoding a la columna target de entrenamiento, para que tenga 3 columnas al igual que la salida del modelo:"
   ],
   "metadata": {
    "collapsed": false,
    "id": "IZ2XeEKi_TQW"
   }
  },
  {
   "cell_type": "code",
   "source": [
    "y_train_clasificacion = pd.get_dummies(y_train_clasificacion, columns=['tipo_precio_3'], drop_first=False)"
   ],
   "metadata": {
    "id": "2jzMgy7b5js1"
   },
   "execution_count": 134,
   "outputs": []
  },
  {
   "cell_type": "markdown",
   "source": [
    "#### 2.b.2 Definición de la red"
   ],
   "metadata": {
    "id": "ubndHWDlZosm"
   }
  },
  {
   "cell_type": "markdown",
   "source": [
    "Modelamos con 1 capa oculta de 50 unidades, que recibe como entrada las columnas del dataset. La salida tiene 3 unidades."
   ],
   "metadata": {
    "collapsed": false,
    "id": "rVHwiNd3_TQV"
   }
  },
  {
   "cell_type": "code",
   "execution_count": 135,
   "outputs": [
    {
     "name": "stdout",
     "output_type": "stream",
     "text": [
      "Model: \"sequential_2\"\n",
      "_________________________________________________________________\n",
      " Layer (type)                Output Shape              Param #   \n",
      "=================================================================\n",
      " dense_6 (Dense)             (None, 50)                3500      \n",
      "                                                                 \n",
      " dense_7 (Dense)             (None, 3)                 153       \n",
      "                                                                 \n",
      "=================================================================\n",
      "Total params: 3,653\n",
      "Trainable params: 3,653\n",
      "Non-trainable params: 0\n",
      "_________________________________________________________________\n"
     ]
    }
   ],
   "source": [
    "d_in = x_train_clasificacion.shape[1]\n",
    "\n",
    "modelo = keras.Sequential([\n",
    "    keras.layers.Dense(50, input_shape=(d_in,)),\n",
    "    keras.layers.Dense(3, activation='softmax')\n",
    "])\n",
    "\n",
    "modelo.summary()"
   ],
   "metadata": {
    "id": "CO0lbjPj_TQW",
    "colab": {
     "base_uri": "https://localhost:8080/"
    },
    "outputId": "1001676c-3cba-46c2-ec5c-2037f6456e3e"
   }
  },
  {
   "cell_type": "markdown",
   "source": [
    "#### 2.b.3 Preparación del dataset"
   ],
   "metadata": {
    "id": "phaglpnGaCUe"
   }
  },
  {
   "cell_type": "markdown",
   "source": [
    "Compilamos el modelo con optimizador Adam y loss de crossentropy categórico. Procedemos a entrenar y predecir:"
   ],
   "metadata": {
    "collapsed": false,
    "id": "tP9PVcKR_TQW"
   }
  },
  {
   "cell_type": "code",
   "execution_count": 136,
   "outputs": [],
   "source": [
    "modelo.compile(\n",
    "    optimizer=keras.optimizers.Adam(learning_rate=0.001),\n",
    "    loss='categorical_crossentropy',\n",
    "    metrics=['AUC', 'Accuracy', 'Recall', 'Precision'],\n",
    ")\n",
    "\n",
    "cant_epochs=100\n",
    "historia = modelo.fit(x_train_clasificacion, y_train_clasificacion, epochs=cant_epochs, verbose=False, use_multiprocessing=True, workers=4)"
   ],
   "metadata": {
    "id": "BZnWP4OU_TQX"
   }
  },
  {
   "cell_type": "code",
   "source": [
    "y_pred_clasificacion = modelo.predict(x_test_clasificacion)"
   ],
   "metadata": {
    "colab": {
     "base_uri": "https://localhost:8080/"
    },
    "id": "JNz3xaWK6Aca",
    "outputId": "3528ae04-109c-4e62-c26f-28a5895c9349"
   },
   "execution_count": 137,
   "outputs": [
    {
     "name": "stdout",
     "output_type": "stream",
     "text": [
      "582/582 [==============================] - 0s 707us/step\n"
     ]
    }
   ]
  },
  {
   "cell_type": "markdown",
   "source": [
    "#### 2.b.4 Métricas"
   ],
   "metadata": {
    "id": "W-KMjjHwaFjg"
   }
  },
  {
   "cell_type": "markdown",
   "source": [
    "En este caso, veamos cómo se comporta la métrica AUC, y -por tanto-, cómo se comprota el acierto según la cantidad de épocas utilizada:"
   ],
   "metadata": {
    "id": "ez-lm0I4aXhi"
   }
  },
  {
   "cell_type": "code",
   "execution_count": 138,
   "outputs": [
    {
     "data": {
      "text/plain": "<matplotlib.legend.Legend at 0x1f86f2aa410>"
     },
     "execution_count": 138,
     "metadata": {},
     "output_type": "execute_result"
    },
    {
     "data": {
      "text/plain": "<Figure size 640x480 with 1 Axes>",
      "image/png": "[encoded data removed]"
     },
     "metadata": {},
     "output_type": "display_data"
    }
   ],
   "source": [
    "epochs = range(cant_epochs)\n",
    "\n",
    "plt.plot(epochs, historia.history['auc'], color='orange', label='AUC')\n",
    "plt.xlabel(\"Epochs\")\n",
    "plt.ylabel(\"AUC\")\n",
    "plt.title('Area bajo la curva por cantidad de épocas')\n",
    "plt.legend()"
   ],
   "metadata": {
    "id": "FY6s9jDN_TQX",
    "colab": {
     "base_uri": "https://localhost:8080/",
     "height": 312
    },
    "outputId": "92099716-14d4-4180-a056-75237cbca7ef"
   }
  },
  {
   "cell_type": "markdown",
   "source": [
    "Reorganizamos los valores predichos para que queden en una sola columna, y comparamos con el conjunto de prueba:"
   ],
   "metadata": {
    "collapsed": false,
    "id": "f_9yDT0-_TQX"
   }
  },
  {
   "cell_type": "code",
   "execution_count": 139,
   "outputs": [],
   "source": [
    "y_pred_clasificacion_arr = np.apply_along_axis(convert_b_m_a, axis=1, arr=y_pred_clasificacion)"
   ],
   "metadata": {
    "id": "bKKV7SQ5_TQX"
   }
  },
  {
   "cell_type": "markdown",
   "source": [
    "Seguimos reacomodando los valores para poder calcular las métricas correspondientes, notemos que no pueden guardarse valores equivalentes al string 'medio' en el array:"
   ],
   "metadata": {
    "id": "wMY6UF4RI8Ip"
   }
  },
  {
   "cell_type": "code",
   "source": [
    "np.unique(y_pred_clasificacion_arr)"
   ],
   "metadata": {
    "colab": {
     "base_uri": "https://localhost:8080/"
    },
    "id": "qth1TiSnKsCs",
    "outputId": "81f40da8-a27b-4b55-e9ac-1ae0963a0ae7"
   },
   "execution_count": 140,
   "outputs": [
    {
     "data": {
      "text/plain": "array(['alto', 'bajo', 'medio'], dtype='<U5')"
     },
     "execution_count": 140,
     "metadata": {},
     "output_type": "execute_result"
    }
   ]
  },
  {
   "cell_type": "markdown",
   "source": [
    "Aplicamos estrategias de transformación de datos:"
   ],
   "metadata": {
    "id": "CX9WD9mAJFPi"
   }
  },
  {
   "cell_type": "code",
   "source": [
    "y_pred_clasificacion_arr = np.where(y_pred_clasificacion_arr == 'medi', 'medio', y_pred_clasificacion_arr)"
   ],
   "metadata": {
    "id": "7_YbczvDLnY2"
   },
   "execution_count": 141,
   "outputs": []
  },
  {
   "cell_type": "code",
   "source": [
    "np.unique(y_pred_clasificacion_arr)"
   ],
   "metadata": {
    "colab": {
     "base_uri": "https://localhost:8080/"
    },
    "id": "MjGQWoBRI6S_",
    "outputId": "e882496c-f3b8-4afc-804f-3a23261d6b09"
   },
   "execution_count": 142,
   "outputs": [
    {
     "data": {
      "text/plain": "array(['alto', 'bajo', 'medio'], dtype='<U5')"
     },
     "execution_count": 142,
     "metadata": {},
     "output_type": "execute_result"
    }
   ]
  },
  {
   "cell_type": "markdown",
   "source": [
    "Finalmente, calculamos las métricas:"
   ],
   "metadata": {
    "id": "pfpYZ7DrMQXT"
   }
  },
  {
   "cell_type": "code",
   "source": [
    "metricas_clasificacion(y_test_clasificacion, y_pred_clasificacion_arr)"
   ],
   "metadata": {
    "colab": {
     "base_uri": "https://localhost:8080/"
    },
    "id": "hS1ZCcYyGb_i",
    "outputId": "cf8b045e-ef5c-4899-f337-a53604f12b3b"
   },
   "execution_count": 143,
   "outputs": [
    {
     "name": "stdout",
     "output_type": "stream",
     "text": [
      "Accuracy: 0.28\n",
      "Precision: 0.22\n",
      "Recall: 0.33\n",
      "F1 Score: 0.21\n"
     ]
    }
   ]
  },
  {
   "cell_type": "markdown",
   "source": [
    "#### 2.a.5 Exportación de Datos"
   ],
   "metadata": {
    "id": "5SsWSPw1fJYm"
   }
  },
  {
   "cell_type": "markdown",
   "source": [
    "Finalmente, exportamos el modelo utilizado:"
   ],
   "metadata": {
    "id": "IlgF2MmmfJYn"
   }
  },
  {
   "cell_type": "code",
   "source": [
    "if IN_COLAB:\n",
    "  path = '/content/drive/MyDrive/📔 Organización de Datos (75.06)/TPS/TP2/MODELOS/Redes_Classifier.joblib'\n",
    "else:\n",
    "  path = './MODELOS/Redes_Classifier.joblib'\n",
    "\n",
    "dump(modelo, path)"
   ],
   "metadata": {
    "colab": {
     "base_uri": "https://localhost:8080/"
    },
    "outputId": "48479ec0-085c-4964-aa1d-b771dc5643e4",
    "id": "yjKFj8TjfJYn"
   },
   "execution_count": 144,
   "outputs": [
    {
     "name": "stdout",
     "output_type": "stream",
     "text": [
      "INFO:tensorflow:Assets written to: ram://b66984ae-bf18-4d1f-a219-21ea0d0fa440/assets\n"
     ]
    },
    {
     "data": {
      "text/plain": "['./MODELOS/Redes_Classifier.joblib']"
     },
     "execution_count": 144,
     "metadata": {},
     "output_type": "execute_result"
    }
   ]
  },
  {
   "cell_type": "markdown",
   "metadata": {
    "id": "JDpREdwKxB6m"
   },
   "source": [
    "## 3. Ensamble de Modelos"
   ]
  },
  {
   "cell_type": "markdown",
   "metadata": {
    "id": "KvLq10beDadg"
   },
   "source": [
    "### 3.1 Ensamble Híbrido: Voting - Clasificación\n",
    "___"
   ]
  },
  {
   "cell_type": "markdown",
   "metadata": {
    "id": "EAT6HU3buhLU"
   },
   "source": [
    "#### 3.1.1 Preparación del dataset"
   ]
  },
  {
   "cell_type": "markdown",
   "metadata": {
    "id": "aZNjL2W-vZvC"
   },
   "source": [
    "Para la parte de ensambles, lo que haremos será utilizar nuevamente el dataset al cual se le aplicó una reducción de su dimensionalidad en el trabajo práctico n°1. \n",
    "\n",
    "Para esto lo que haremos será trabajar con una copia del dataset modificado al inicio del trabajo, el cual usa como base el reducido mencionado anteriormente."
   ]
  },
  {
   "cell_type": "markdown",
   "metadata": {
    "id": "fDp1eW_cHfxt"
   },
   "source": [
    "Para nuestra variable `target`, utilizaremos como convención la misma que fue planteada para el tp1. Ésta consiste en subdividir a la variable pxm2 (precio por metro cuadrado) en 3 intervalos, 25% a bajo, 50% a medio y el otro 25% restante a alto. A su vez, se hará la separación tambien por tipo de propiedad."
   ]
  },
  {
   "cell_type": "code",
   "execution_count": 145,
   "metadata": {
    "id": "7T0ZW9l-dcqI"
   },
   "outputs": [],
   "source": [
    "x_train_voting = x_train_clasificacion\n",
    "y_train_voting = y_train_clasificacion\n",
    "\n",
    "x_test_voting = x_test_clasificacion\n",
    "y_test_voting = y_test_clasificacion"
   ]
  },
  {
   "cell_type": "code",
   "execution_count": 146,
   "metadata": {
    "id": "sSKtHVSSgBhv",
    "colab": {
     "base_uri": "https://localhost:8080/"
    },
    "outputId": "7e1113cf-f776-44ed-aa44-8b5f1b5e75cb"
   },
   "outputs": [
    {
     "name": "stdout",
     "output_type": "stream",
     "text": [
      "Se observaron: \n",
      " - 23227 registros de tipo 'bajo'. \n",
      " - 46459 registros de tipo 'medio'. \n",
      " - 23170 registros de tipo 'alto'.\n"
     ]
    }
   ],
   "source": [
    "bajo = y_train_voting['bajo'].sum() + y_test_voting[y_test_voting == 'bajo'].count()\n",
    "medio = y_train_voting['medio'].sum() + y_test_voting[y_test_voting == 'medio'].count()\n",
    "alto = y_train_voting['alto'].sum() + y_test_voting[y_test_voting == 'alto'].count()\n",
    "\n",
    "print(f\"Se observaron: \\n - {round(bajo,3)} registros de tipo 'bajo'. \\n - {round(medio,3)} registros de tipo 'medio'. \\n - {round(alto,3)} registros de tipo 'alto'.\")"
   ]
  },
  {
   "cell_type": "markdown",
   "metadata": {
    "id": "_kG7ZRlKuaxT"
   },
   "source": [
    "#### 3.1.2 Definición del Ensamble"
   ]
  },
  {
   "cell_type": "markdown",
   "metadata": {
    "id": "CGYLj6zEDcf7"
   },
   "source": [
    "Para el tipo de ensamble **voting**, lo que necesitaremos será contar con `n` cantidad de modelos previamente entrenados para luego someterlos a una votación. De la misma, saldrá la clasificación para la nueva instancia en base a lo que indique la mayoría de ellos."
   ]
  },
  {
   "cell_type": "markdown",
   "metadata": {
    "id": "FTMs6ZsBDd_Y"
   },
   "source": [
    "Elegimos tomar como modelos los mismos empleados en el TP1:\n",
    "\n",
    "\n",
    "*   Árbol de Decisión\n",
    "*   Random Forest\n",
    "*   KNN\n",
    "\n"
   ]
  },
  {
   "cell_type": "code",
   "execution_count": 147,
   "metadata": {
    "id": "dgIHIuvADf8f"
   },
   "outputs": [],
   "source": [
    "dcs_clf = DecisionTreeClassifier()\n",
    "rnd_clf = RandomForestClassifier()\n",
    "knn_clf = KNeighborsClassifier()"
   ]
  },
  {
   "cell_type": "markdown",
   "metadata": {
    "id": "AEgb4Z2xDon_"
   },
   "source": [
    "Una vez que contamos con los modelos que vamos a utilizar en el ensamble, procedemos a su creación. En este caso particular decidimos utilizar el tipo de votación hard el cual utilizará la regla de la mayoría. Por otro lado, utilizamos el hiperparámetro `estimators` para definir como nos vamos a referir a dichos modelos."
   ]
  },
  {
   "cell_type": "code",
   "execution_count": 148,
   "metadata": {
    "id": "WlSEwC0ODq26"
   },
   "outputs": [],
   "source": [
    "vot_clf = VotingClassifier(estimators = [('dcs', dcs_clf), ('rnd', rnd_clf), ('knn', knn_clf)], voting = 'hard')"
   ]
  },
  {
   "cell_type": "markdown",
   "metadata": {
    "id": "D8sgMCouvLx-"
   },
   "source": [
    "#### 3.1.3 Entrenamiento y Predicción"
   ]
  },
  {
   "cell_type": "markdown",
   "source": [
    "Reorganizamos los valores predichos para que queden en una sola columna, y comparamos con el conjunto de prueba:"
   ],
   "metadata": {
    "collapsed": false,
    "id": "_aTA577USlsB"
   }
  },
  {
   "cell_type": "code",
   "execution_count": 149,
   "outputs": [],
   "source": [
    "y_train_voting_arr = np.apply_along_axis(convert_b_m_a, axis=1, arr=y_train_voting)"
   ],
   "metadata": {
    "id": "ylyPOrZ9SlsC"
   }
  },
  {
   "cell_type": "markdown",
   "source": [
    "Seguimos reacomodando los valores para poder calcular las métricas correspondientes, notemos que no pueden guardarse valores equivalentes al string 'medio' en el array:"
   ],
   "metadata": {
    "id": "pMyijnL-SlsD"
   }
  },
  {
   "cell_type": "code",
   "source": [
    "np.unique(y_train_voting_arr)"
   ],
   "metadata": {
    "colab": {
     "base_uri": "https://localhost:8080/"
    },
    "outputId": "2c77fc73-9a4d-4580-b206-36a9e61b5c29",
    "id": "oMGsKgJLSlsE"
   },
   "execution_count": 150,
   "outputs": [
    {
     "data": {
      "text/plain": "array(['alto', 'bajo', 'medio'], dtype='<U5')"
     },
     "execution_count": 150,
     "metadata": {},
     "output_type": "execute_result"
    }
   ]
  },
  {
   "cell_type": "markdown",
   "source": [
    "Aplicamos estrategias de transformación de datos:"
   ],
   "metadata": {
    "id": "mmDJFqfxSlsE"
   }
  },
  {
   "cell_type": "code",
   "source": [
    "y_train_voting_arr = np.where(y_train_voting_arr == 'medi', 'medio', y_train_voting_arr)"
   ],
   "metadata": {
    "id": "vK5dgr3SSlsE"
   },
   "execution_count": 151,
   "outputs": []
  },
  {
   "cell_type": "code",
   "source": [
    "np.unique(y_train_voting_arr)"
   ],
   "metadata": {
    "colab": {
     "base_uri": "https://localhost:8080/"
    },
    "outputId": "ee0fcdf4-e5de-452b-a201-a00eac955590",
    "id": "B0Wmo-6KSlsF"
   },
   "execution_count": 152,
   "outputs": [
    {
     "data": {
      "text/plain": "array(['alto', 'bajo', 'medio'], dtype='<U5')"
     },
     "execution_count": 152,
     "metadata": {},
     "output_type": "execute_result"
    }
   ]
  },
  {
   "cell_type": "markdown",
   "source": [
    "Finalmente, entrenamos el ensamle:"
   ],
   "metadata": {
    "id": "JAJbjjZ1SlsF"
   }
  },
  {
   "cell_type": "code",
   "execution_count": 153,
   "metadata": {
    "id": "3yr85PLiD1vO",
    "colab": {
     "base_uri": "https://localhost:8080/"
    },
    "outputId": "8d7a3c46-504b-47cc-910a-61dcdafca1af"
   },
   "outputs": [
    {
     "data": {
      "text/plain": "VotingClassifier(estimators=[('dcs', DecisionTreeClassifier()),\n                             ('rnd', RandomForestClassifier()),\n                             ('knn', KNeighborsClassifier())])",
      "text/html": "<style>#sk-container-id-1 {color: black;background-color: white;}#sk-container-id-1 pre{padding: 0;}#sk-container-id-1 div.sk-toggleable {background-color: white;}#sk-container-id-1 label.sk-toggleable__label {cursor: pointer;display: block;width: 100%;margin-bottom: 0;padding: 0.3em;box-sizing: border-box;text-align: center;}#sk-container-id-1 label.sk-toggleable__label-arrow:before {content: \"▸\";float: left;margin-right: 0.25em;color: #696969;}#sk-container-id-1 label.sk-toggleable__label-arrow:hover:before {color: black;}#sk-container-id-1 div.sk-estimator:hover label.sk-toggleable__label-arrow:before {color: black;}#sk-container-id-1 div.sk-toggleable__content {max-height: 0;max-width: 0;overflow: hidden;text-align: left;background-color: #f0f8ff;}#sk-container-id-1 div.sk-toggleable__content pre {margin: 0.2em;color: black;border-radius: 0.25em;background-color: #f0f8ff;}#sk-container-id-1 input.sk-toggleable__control:checked~div.sk-toggleable__content {max-height: 200px;max-width: 100%;overflow: auto;}#sk-container-id-1 input.sk-toggleable__control:checked~label.sk-toggleable__label-arrow:before {content: \"▾\";}#sk-container-id-1 div.sk-estimator input.sk-toggleable__control:checked~label.sk-toggleable__label {background-color: #d4ebff;}#sk-container-id-1 div.sk-label input.sk-toggleable__control:checked~label.sk-toggleable__label {background-color: #d4ebff;}#sk-container-id-1 input.sk-hidden--visually {border: 0;clip: rect(1px 1px 1px 1px);clip: rect(1px, 1px, 1px, 1px);height: 1px;margin: -1px;overflow: hidden;padding: 0;position: absolute;width: 1px;}#sk-container-id-1 div.sk-estimator {font-family: monospace;background-color: #f0f8ff;border: 1px dotted black;border-radius: 0.25em;box-sizing: border-box;margin-bottom: 0.5em;}#sk-container-id-1 div.sk-estimator:hover {background-color: #d4ebff;}#sk-container-id-1 div.sk-parallel-item::after {content: \"\";width: 100%;border-bottom: 1px solid gray;flex-grow: 1;}#sk-container-id-1 div.sk-label:hover label.sk-toggleable__label {background-color: #d4ebff;}#sk-container-id-1 div.sk-serial::before {content: \"\";position: absolute;border-left: 1px solid gray;box-sizing: border-box;top: 0;bottom: 0;left: 50%;z-index: 0;}#sk-container-id-1 div.sk-serial {display: flex;flex-direction: column;align-items: center;background-color: white;padding-right: 0.2em;padding-left: 0.2em;position: relative;}#sk-container-id-1 div.sk-item {position: relative;z-index: 1;}#sk-container-id-1 div.sk-parallel {display: flex;align-items: stretch;justify-content: center;background-color: white;position: relative;}#sk-container-id-1 div.sk-item::before, #sk-container-id-1 div.sk-parallel-item::before {content: \"\";position: absolute;border-left: 1px solid gray;box-sizing: border-box;top: 0;bottom: 0;left: 50%;z-index: -1;}#sk-container-id-1 div.sk-parallel-item {display: flex;flex-direction: column;z-index: 1;position: relative;background-color: white;}#sk-container-id-1 div.sk-parallel-item:first-child::after {align-self: flex-end;width: 50%;}#sk-container-id-1 div.sk-parallel-item:last-child::after {align-self: flex-start;width: 50%;}#sk-container-id-1 div.sk-parallel-item:only-child::after {width: 0;}#sk-container-id-1 div.sk-dashed-wrapped {border: 1px dashed gray;margin: 0 0.4em 0.5em 0.4em;box-sizing: border-box;padding-bottom: 0.4em;background-color: white;}#sk-container-id-1 div.sk-label label {font-family: monospace;font-weight: bold;display: inline-block;line-height: 1.2em;}#sk-container-id-1 div.sk-label-container {text-align: center;}#sk-container-id-1 div.sk-container {/* jupyter's `normalize.less` sets `[hidden] { display: none; }` but bootstrap.min.css set `[hidden] { display: none !important; }` so we also need the `!important` here to be able to override the default hidden behavior on the sphinx rendered scikit-learn.org. See: https://github.com/scikit-learn/scikit-learn/issues/21755 */display: inline-block !important;position: relative;}#sk-container-id-1 div.sk-text-repr-fallback {display: none;}</style><div id=\"sk-container-id-1\" class=\"sk-top-container\"><div class=\"sk-text-repr-fallback\"><pre>VotingClassifier(estimators=[(&#x27;dcs&#x27;, DecisionTreeClassifier()),\n                             (&#x27;rnd&#x27;, RandomForestClassifier()),\n                             (&#x27;knn&#x27;, KNeighborsClassifier())])</pre><b>In a Jupyter environment, please rerun this cell to show the HTML representation or trust the notebook. <br />On GitHub, the HTML representation is unable to render, please try loading this page with nbviewer.org.</b></div><div class=\"sk-container\" hidden><div class=\"sk-item sk-dashed-wrapped\"><div class=\"sk-label-container\"><div class=\"sk-label sk-toggleable\"><input class=\"sk-toggleable__control sk-hidden--visually\" id=\"sk-estimator-id-1\" type=\"checkbox\" ><label for=\"sk-estimator-id-1\" class=\"sk-toggleable__label sk-toggleable__label-arrow\">VotingClassifier</label><div class=\"sk-toggleable__content\"><pre>VotingClassifier(estimators=[(&#x27;dcs&#x27;, DecisionTreeClassifier()),\n                             (&#x27;rnd&#x27;, RandomForestClassifier()),\n                             (&#x27;knn&#x27;, KNeighborsClassifier())])</pre></div></div></div><div class=\"sk-parallel\"><div class=\"sk-parallel-item\"><div class=\"sk-item\"><div class=\"sk-label-container\"><div class=\"sk-label sk-toggleable\"><label>dcs</label></div></div><div class=\"sk-serial\"><div class=\"sk-item\"><div class=\"sk-estimator sk-toggleable\"><input class=\"sk-toggleable__control sk-hidden--visually\" id=\"sk-estimator-id-2\" type=\"checkbox\" ><label for=\"sk-estimator-id-2\" class=\"sk-toggleable__label sk-toggleable__label-arrow\">DecisionTreeClassifier</label><div class=\"sk-toggleable__content\"><pre>DecisionTreeClassifier()</pre></div></div></div></div></div></div><div class=\"sk-parallel-item\"><div class=\"sk-item\"><div class=\"sk-label-container\"><div class=\"sk-label sk-toggleable\"><label>rnd</label></div></div><div class=\"sk-serial\"><div class=\"sk-item\"><div class=\"sk-estimator sk-toggleable\"><input class=\"sk-toggleable__control sk-hidden--visually\" id=\"sk-estimator-id-3\" type=\"checkbox\" ><label for=\"sk-estimator-id-3\" class=\"sk-toggleable__label sk-toggleable__label-arrow\">RandomForestClassifier</label><div class=\"sk-toggleable__content\"><pre>RandomForestClassifier()</pre></div></div></div></div></div></div><div class=\"sk-parallel-item\"><div class=\"sk-item\"><div class=\"sk-label-container\"><div class=\"sk-label sk-toggleable\"><label>knn</label></div></div><div class=\"sk-serial\"><div class=\"sk-item\"><div class=\"sk-estimator sk-toggleable\"><input class=\"sk-toggleable__control sk-hidden--visually\" id=\"sk-estimator-id-4\" type=\"checkbox\" ><label for=\"sk-estimator-id-4\" class=\"sk-toggleable__label sk-toggleable__label-arrow\">KNeighborsClassifier</label><div class=\"sk-toggleable__content\"><pre>KNeighborsClassifier()</pre></div></div></div></div></div></div></div></div></div></div>"
     },
     "execution_count": 153,
     "metadata": {},
     "output_type": "execute_result"
    }
   ],
   "source": [
    "vot_clf.fit(x_train_voting, y_train_voting_arr)"
   ]
  },
  {
   "cell_type": "code",
   "source": [
    "y_pred_voting = vot_clf.predict(x_test_voting)"
   ],
   "metadata": {
    "id": "0mf1Le81Ujyc"
   },
   "execution_count": 154,
   "outputs": []
  },
  {
   "cell_type": "markdown",
   "metadata": {
    "id": "JTaTYoJYuv-M"
   },
   "source": [
    "#### 3.1.4 Métricas"
   ]
  },
  {
   "cell_type": "markdown",
   "metadata": {
    "id": "UoJ-lAV7Qz6M"
   },
   "source": [
    "Para poder determinar que tan bueno resulto el modelo, lo que haremos será observar las `métricas` resultantes de una predicción con los datos de test. Recordemos que nuestras funcinoes de metricas fueron definidas al inicio de este trabajo."
   ]
  },
  {
   "cell_type": "code",
   "execution_count": 155,
   "metadata": {
    "id": "I1klUyeDQ3zj",
    "colab": {
     "base_uri": "https://localhost:8080/"
    },
    "outputId": "4169d9ec-d357-49ff-a018-2e5bc5b50afe"
   },
   "outputs": [
    {
     "name": "stdout",
     "output_type": "stream",
     "text": [
      "Accuracy: 0.19\n",
      "Precision: 0.19\n",
      "Recall: 0.21\n",
      "F1 Score: 0.17\n"
     ]
    }
   ],
   "source": [
    "metricas_clasificacion(y_test_voting, y_pred_voting)"
   ]
  },
  {
   "cell_type": "markdown",
   "metadata": {
    "id": "QnFftUBRQ5zk"
   },
   "source": [
    "A su vez, también podemos visualizar los mismos a través de la siguiente matriz de confusión."
   ]
  },
  {
   "cell_type": "code",
   "execution_count": 156,
   "metadata": {
    "id": "I6EWIuOUQ7W7",
    "colab": {
     "base_uri": "https://localhost:8080/",
     "height": 296
    },
    "outputId": "bd3827f3-4119-424a-b408-8190687e763e"
   },
   "outputs": [
    {
     "data": {
      "text/plain": "Text(52.722222222222214, 0.5, 'True')"
     },
     "execution_count": 156,
     "metadata": {},
     "output_type": "execute_result"
    },
    {
     "data": {
      "text/plain": "<Figure size 640x480 with 2 Axes>",
      "image/png": "[encoded data removed]"
     },
     "metadata": {},
     "output_type": "display_data"
    }
   ],
   "source": [
    "matrix = confusion_matrix(y_test_voting, y_pred_voting)\n",
    "sns.heatmap(matrix,cmap='GnBu',annot=True,fmt='g')\n",
    "plt.xlabel('Predicted')\n",
    "plt.ylabel('True')"
   ]
  },
  {
   "cell_type": "markdown",
   "source": [
    "#### 3.1.4 Exportación de Datos"
   ],
   "metadata": {
    "id": "tm_FRzR7fvEH"
   }
  },
  {
   "cell_type": "markdown",
   "source": [
    "Finalmente, exportamos el modelo utilizado:"
   ],
   "metadata": {
    "id": "b04Kqm-IfvEI"
   }
  },
  {
   "cell_type": "code",
   "source": [
    "if IN_COLAB:\n",
    "  path = '/content/drive/MyDrive/📔 Organización de Datos (75.06)/TPS/TP2/MODELOS/Voting_Classifier.joblib'\n",
    "else:\n",
    "  path = './MODELOS/Voting_Classifier.joblib'\n",
    "\n",
    "dump(vot_clf, path)"
   ],
   "metadata": {
    "colab": {
     "base_uri": "https://localhost:8080/"
    },
    "outputId": "a5a462c0-d000-462f-9654-b9f7f87c03cc",
    "id": "flZ1yIxzfvEJ"
   },
   "execution_count": 157,
   "outputs": [
    {
     "data": {
      "text/plain": "['./MODELOS/Voting_Classifier.joblib']"
     },
     "execution_count": 157,
     "metadata": {},
     "output_type": "execute_result"
    }
   ]
  },
  {
   "cell_type": "markdown",
   "metadata": {
    "id": "3gDV2ozmQ9mb"
   },
   "source": [
    "### 3.2 Ensamble Híbrido: Stacking - Regresión\n",
    "___"
   ]
  },
  {
   "cell_type": "markdown",
   "metadata": {
    "id": "DRpAEJ7WrgeV"
   },
   "source": [
    "#### 3.1.1 Preparación del dataset"
   ]
  },
  {
   "cell_type": "markdown",
   "metadata": {
    "id": "XQwjdBg4rgeW"
   },
   "source": [
    "Nuevamente, utilizamos los datasets de train y test previamente separados:"
   ]
  },
  {
   "cell_type": "code",
   "execution_count": 158,
   "metadata": {
    "id": "9obURdGWrgeW"
   },
   "outputs": [],
   "source": [
    "x_train_stacking = x_train_regresion\n",
    "y_train_stacking = y_train_regresion\n",
    "\n",
    "x_test_stacking = x_test_regresion\n",
    "y_test_stacking = y_test_regresion"
   ]
  },
  {
   "cell_type": "markdown",
   "source": [
    "#### 3.2.2 Definición del Ensamble\n"
   ],
   "metadata": {
    "id": "4FjGFid7Y7Fj"
   }
  },
  {
   "cell_type": "markdown",
   "metadata": {
    "id": "i3EG9oZ3Q_zL"
   },
   "source": [
    "Lo que haremos en esta nueva sección, será implementar un nuevo tipo de ensable híbrido con la salvedad de que esta vez utilizaremos el tipo `cascading`.\n",
    "El mismo se basa en el entrenamiento de distintos `modelos base`, y a su vez utilizará un `meta-modelo` el cual realizará su predicción en base a las predicciones de los diferentes modelos comentados anteriormente. \n",
    "\n",
    "Como es indicado por el enunciado del trabajo se utilizarán modelos de regresión. En particular, decidimos trabajar con:\n",
    "\n",
    "\n",
    "*   KNN\n",
    "*   XGBoost\n",
    "*   AdaBoost\n",
    "\n"
   ]
  },
  {
   "cell_type": "code",
   "execution_count": 159,
   "metadata": {
    "id": "RABxXC92RBwq"
   },
   "outputs": [],
   "source": [
    "knn_rgs = KNeighborsRegressor()\n",
    "xgb_rgs = XGBRegressor()\n",
    "adb_rgs = AdaBoostRegressor()"
   ]
  },
  {
   "cell_type": "markdown",
   "metadata": {
    "id": "eoI5ilXVRD06"
   },
   "source": [
    "Luego utilizamos los mismos para definir nuestro modelo base, en el cual luego se basará el meta-modelo."
   ]
  },
  {
   "cell_type": "code",
   "execution_count": 160,
   "metadata": {
    "id": "qK74SKO-RF4U"
   },
   "outputs": [],
   "source": [
    "base_models = [('KNN', knn_rgs),\n",
    "               ('XGBoost', xgb_rgs),\n",
    "               ('AdaBoost', adb_rgs)]"
   ]
  },
  {
   "cell_type": "markdown",
   "metadata": {
    "id": "C7j2qzBXRHd6"
   },
   "source": [
    "Como mencionamos, a continuación los utilizaremos para definir nuestro meta-modelo. Para este último, decidimos emplear el modelo de regresión logistica."
   ]
  },
  {
   "cell_type": "code",
   "execution_count": 161,
   "metadata": {
    "id": "8mRJmKOSRJCy"
   },
   "outputs": [],
   "source": [
    "from sklearn.ensemble import GradientBoostingRegressor\n",
    "\n",
    "meta_model = GradientBoostingRegressor()"
   ]
  },
  {
   "cell_type": "markdown",
   "metadata": {
    "id": "PnA6P4zORKsq"
   },
   "source": [
    "Creamos nuestro ensamble indicando como modelos estimadores Knn, XGBoost y AdaBoost, y como estimador final el modelo de Regresión Lineal."
   ]
  },
  {
   "cell_type": "code",
   "source": [
    "s = 5\n",
    "n = 2"
   ],
   "metadata": {
    "id": "6j70-9G75VW2"
   },
   "execution_count": 162,
   "outputs": []
  },
  {
   "cell_type": "code",
   "execution_count": 163,
   "metadata": {
    "id": "YWOHgLGcRMHr"
   },
   "outputs": [],
   "source": [
    "stacking_model = StackingRegressor(estimators=base_models, \n",
    "                                    final_estimator=meta_model, \n",
    "                                    passthrough=True, \n",
    "                                    cv=s,\n",
    "                                    verbose=n)"
   ]
  },
  {
   "cell_type": "markdown",
   "source": [
    "#### 3.2.3 Entrenamiento y Predicción"
   ],
   "metadata": {
    "id": "GYCuFlWQZhlo"
   }
  },
  {
   "cell_type": "code",
   "source": [
    "model_scores = defaultdict()\n",
    "\n",
    "for name, model in base_models:\n",
    "    print('Evaluating {}'.format(name))\n",
    "    scores = evaluate_model(model, x_train_stacking, y_train_stacking, s, n)\n",
    "    model_scores[name] = scores"
   ],
   "metadata": {
    "colab": {
     "base_uri": "https://localhost:8080/"
    },
    "id": "QomGOhfXEgg7",
    "outputId": "802af35c-5845-4c92-d28b-7984416c3c4e"
   },
   "execution_count": 164,
   "outputs": [
    {
     "name": "stdout",
     "output_type": "stream",
     "text": [
      "Evaluating KNN\n"
     ]
    },
    {
     "name": "stderr",
     "output_type": "stream",
     "text": [
      "[Parallel(n_jobs=3)]: Using backend LokyBackend with 3 concurrent workers.\n",
      "[Parallel(n_jobs=3)]: Done  10 out of  10 | elapsed:   36.5s finished\n"
     ]
    },
    {
     "name": "stdout",
     "output_type": "stream",
     "text": [
      "Evaluating XGBoost\n"
     ]
    },
    {
     "name": "stderr",
     "output_type": "stream",
     "text": [
      "[Parallel(n_jobs=3)]: Using backend LokyBackend with 3 concurrent workers.\n",
      "[Parallel(n_jobs=3)]: Done  10 out of  10 | elapsed:   39.7s finished\n"
     ]
    },
    {
     "name": "stdout",
     "output_type": "stream",
     "text": [
      "Evaluating AdaBoost\n"
     ]
    },
    {
     "name": "stderr",
     "output_type": "stream",
     "text": [
      "[Parallel(n_jobs=3)]: Using backend LokyBackend with 3 concurrent workers.\n",
      "Exception ignored in: <function WeakKeyDictionary.__init__.<locals>.remove at 0x000001F8190105E0>\n",
      "Traceback (most recent call last):\n",
      "  File \"C:\\Users\\Salvador\\anaconda3\\envs\\datos\\lib\\weakref.py\", line 371, in remove\n",
      "KeyboardInterrupt: \n"
     ]
    },
    {
     "ename": "KeyboardInterrupt",
     "evalue": "",
     "output_type": "error",
     "traceback": [
      "\u001B[1;31m---------------------------------------------------------------------------\u001B[0m",
      "\u001B[1;31mKeyboardInterrupt\u001B[0m                         Traceback (most recent call last)",
      "Cell \u001B[1;32mIn [164], line 5\u001B[0m\n\u001B[0;32m      3\u001B[0m \u001B[38;5;28;01mfor\u001B[39;00m name, model \u001B[38;5;129;01min\u001B[39;00m base_models:\n\u001B[0;32m      4\u001B[0m     \u001B[38;5;28mprint\u001B[39m(\u001B[38;5;124m'\u001B[39m\u001B[38;5;124mEvaluating \u001B[39m\u001B[38;5;132;01m{}\u001B[39;00m\u001B[38;5;124m'\u001B[39m\u001B[38;5;241m.\u001B[39mformat(name))\n\u001B[1;32m----> 5\u001B[0m     scores \u001B[38;5;241m=\u001B[39m \u001B[43mevaluate_model\u001B[49m\u001B[43m(\u001B[49m\u001B[43mmodel\u001B[49m\u001B[43m,\u001B[49m\u001B[43m \u001B[49m\u001B[43mx_train_stacking\u001B[49m\u001B[43m,\u001B[49m\u001B[43m \u001B[49m\u001B[43my_train_stacking\u001B[49m\u001B[43m,\u001B[49m\u001B[43m \u001B[49m\u001B[43ms\u001B[49m\u001B[43m,\u001B[49m\u001B[43m \u001B[49m\u001B[43mn\u001B[49m\u001B[43m)\u001B[49m\n\u001B[0;32m      6\u001B[0m     model_scores[name] \u001B[38;5;241m=\u001B[39m scores\n",
      "Cell \u001B[1;32mIn [85], line 3\u001B[0m, in \u001B[0;36mevaluate_model\u001B[1;34m(model, x, y, splits, n)\u001B[0m\n\u001B[0;32m      1\u001B[0m \u001B[38;5;28;01mdef\u001B[39;00m \u001B[38;5;21mevaluate_model\u001B[39m(model, x, y, splits, n):\n\u001B[0;32m      2\u001B[0m     cv \u001B[38;5;241m=\u001B[39m RepeatedStratifiedKFold(n_splits\u001B[38;5;241m=\u001B[39msplits, n_repeats\u001B[38;5;241m=\u001B[39mn, random_state\u001B[38;5;241m=\u001B[39m\u001B[38;5;241m1\u001B[39m)\n\u001B[1;32m----> 3\u001B[0m     scores \u001B[38;5;241m=\u001B[39m \u001B[43mcross_val_score\u001B[49m\u001B[43m(\u001B[49m\u001B[43mmodel\u001B[49m\u001B[43m,\u001B[49m\u001B[43m \u001B[49m\u001B[43mx\u001B[49m\u001B[43m,\u001B[49m\u001B[43m \u001B[49m\u001B[43my\u001B[49m\u001B[43m,\u001B[49m\u001B[43m \u001B[49m\u001B[43mscoring\u001B[49m\u001B[38;5;241;43m=\u001B[39;49m\u001B[38;5;124;43m'\u001B[39;49m\u001B[38;5;124;43mneg_mean_squared_error\u001B[39;49m\u001B[38;5;124;43m'\u001B[39;49m\u001B[43m,\u001B[49m\u001B[43m \u001B[49m\u001B[43mcv\u001B[49m\u001B[38;5;241;43m=\u001B[39;49m\u001B[43mcv\u001B[49m\u001B[43m,\u001B[49m\u001B[43m \u001B[49m\u001B[43mverbose\u001B[49m\u001B[38;5;241;43m=\u001B[39;49m\u001B[38;5;241;43m1\u001B[39;49m\u001B[43m,\u001B[49m\u001B[43m \u001B[49m\u001B[43mn_jobs\u001B[49m\u001B[38;5;241;43m=\u001B[39;49m\u001B[38;5;241;43m3\u001B[39;49m\u001B[43m,\u001B[49m\u001B[43m \u001B[49m\u001B[43merror_score\u001B[49m\u001B[38;5;241;43m=\u001B[39;49m\u001B[38;5;124;43m'\u001B[39;49m\u001B[38;5;124;43mraise\u001B[39;49m\u001B[38;5;124;43m'\u001B[39;49m\u001B[43m)\u001B[49m\n\u001B[0;32m      4\u001B[0m     \u001B[38;5;28;01mreturn\u001B[39;00m scores\n",
      "File \u001B[1;32m~\\anaconda3\\envs\\datos\\lib\\site-packages\\sklearn\\model_selection\\_validation.py:515\u001B[0m, in \u001B[0;36mcross_val_score\u001B[1;34m(estimator, X, y, groups, scoring, cv, n_jobs, verbose, fit_params, pre_dispatch, error_score)\u001B[0m\n\u001B[0;32m    512\u001B[0m \u001B[38;5;66;03m# To ensure multimetric format is not supported\u001B[39;00m\n\u001B[0;32m    513\u001B[0m scorer \u001B[38;5;241m=\u001B[39m check_scoring(estimator, scoring\u001B[38;5;241m=\u001B[39mscoring)\n\u001B[1;32m--> 515\u001B[0m cv_results \u001B[38;5;241m=\u001B[39m \u001B[43mcross_validate\u001B[49m\u001B[43m(\u001B[49m\n\u001B[0;32m    516\u001B[0m \u001B[43m    \u001B[49m\u001B[43mestimator\u001B[49m\u001B[38;5;241;43m=\u001B[39;49m\u001B[43mestimator\u001B[49m\u001B[43m,\u001B[49m\n\u001B[0;32m    517\u001B[0m \u001B[43m    \u001B[49m\u001B[43mX\u001B[49m\u001B[38;5;241;43m=\u001B[39;49m\u001B[43mX\u001B[49m\u001B[43m,\u001B[49m\n\u001B[0;32m    518\u001B[0m \u001B[43m    \u001B[49m\u001B[43my\u001B[49m\u001B[38;5;241;43m=\u001B[39;49m\u001B[43my\u001B[49m\u001B[43m,\u001B[49m\n\u001B[0;32m    519\u001B[0m \u001B[43m    \u001B[49m\u001B[43mgroups\u001B[49m\u001B[38;5;241;43m=\u001B[39;49m\u001B[43mgroups\u001B[49m\u001B[43m,\u001B[49m\n\u001B[0;32m    520\u001B[0m \u001B[43m    \u001B[49m\u001B[43mscoring\u001B[49m\u001B[38;5;241;43m=\u001B[39;49m\u001B[43m{\u001B[49m\u001B[38;5;124;43m\"\u001B[39;49m\u001B[38;5;124;43mscore\u001B[39;49m\u001B[38;5;124;43m\"\u001B[39;49m\u001B[43m:\u001B[49m\u001B[43m \u001B[49m\u001B[43mscorer\u001B[49m\u001B[43m}\u001B[49m\u001B[43m,\u001B[49m\n\u001B[0;32m    521\u001B[0m \u001B[43m    \u001B[49m\u001B[43mcv\u001B[49m\u001B[38;5;241;43m=\u001B[39;49m\u001B[43mcv\u001B[49m\u001B[43m,\u001B[49m\n\u001B[0;32m    522\u001B[0m \u001B[43m    \u001B[49m\u001B[43mn_jobs\u001B[49m\u001B[38;5;241;43m=\u001B[39;49m\u001B[43mn_jobs\u001B[49m\u001B[43m,\u001B[49m\n\u001B[0;32m    523\u001B[0m \u001B[43m    \u001B[49m\u001B[43mverbose\u001B[49m\u001B[38;5;241;43m=\u001B[39;49m\u001B[43mverbose\u001B[49m\u001B[43m,\u001B[49m\n\u001B[0;32m    524\u001B[0m \u001B[43m    \u001B[49m\u001B[43mfit_params\u001B[49m\u001B[38;5;241;43m=\u001B[39;49m\u001B[43mfit_params\u001B[49m\u001B[43m,\u001B[49m\n\u001B[0;32m    525\u001B[0m \u001B[43m    \u001B[49m\u001B[43mpre_dispatch\u001B[49m\u001B[38;5;241;43m=\u001B[39;49m\u001B[43mpre_dispatch\u001B[49m\u001B[43m,\u001B[49m\n\u001B[0;32m    526\u001B[0m \u001B[43m    \u001B[49m\u001B[43merror_score\u001B[49m\u001B[38;5;241;43m=\u001B[39;49m\u001B[43merror_score\u001B[49m\u001B[43m,\u001B[49m\n\u001B[0;32m    527\u001B[0m \u001B[43m\u001B[49m\u001B[43m)\u001B[49m\n\u001B[0;32m    528\u001B[0m \u001B[38;5;28;01mreturn\u001B[39;00m cv_results[\u001B[38;5;124m\"\u001B[39m\u001B[38;5;124mtest_score\u001B[39m\u001B[38;5;124m\"\u001B[39m]\n",
      "File \u001B[1;32m~\\anaconda3\\envs\\datos\\lib\\site-packages\\sklearn\\model_selection\\_validation.py:266\u001B[0m, in \u001B[0;36mcross_validate\u001B[1;34m(estimator, X, y, groups, scoring, cv, n_jobs, verbose, fit_params, pre_dispatch, return_train_score, return_estimator, error_score)\u001B[0m\n\u001B[0;32m    263\u001B[0m \u001B[38;5;66;03m# We clone the estimator to make sure that all the folds are\u001B[39;00m\n\u001B[0;32m    264\u001B[0m \u001B[38;5;66;03m# independent, and that it is pickle-able.\u001B[39;00m\n\u001B[0;32m    265\u001B[0m parallel \u001B[38;5;241m=\u001B[39m Parallel(n_jobs\u001B[38;5;241m=\u001B[39mn_jobs, verbose\u001B[38;5;241m=\u001B[39mverbose, pre_dispatch\u001B[38;5;241m=\u001B[39mpre_dispatch)\n\u001B[1;32m--> 266\u001B[0m results \u001B[38;5;241m=\u001B[39m \u001B[43mparallel\u001B[49m\u001B[43m(\u001B[49m\n\u001B[0;32m    267\u001B[0m \u001B[43m    \u001B[49m\u001B[43mdelayed\u001B[49m\u001B[43m(\u001B[49m\u001B[43m_fit_and_score\u001B[49m\u001B[43m)\u001B[49m\u001B[43m(\u001B[49m\n\u001B[0;32m    268\u001B[0m \u001B[43m        \u001B[49m\u001B[43mclone\u001B[49m\u001B[43m(\u001B[49m\u001B[43mestimator\u001B[49m\u001B[43m)\u001B[49m\u001B[43m,\u001B[49m\n\u001B[0;32m    269\u001B[0m \u001B[43m        \u001B[49m\u001B[43mX\u001B[49m\u001B[43m,\u001B[49m\n\u001B[0;32m    270\u001B[0m \u001B[43m        \u001B[49m\u001B[43my\u001B[49m\u001B[43m,\u001B[49m\n\u001B[0;32m    271\u001B[0m \u001B[43m        \u001B[49m\u001B[43mscorers\u001B[49m\u001B[43m,\u001B[49m\n\u001B[0;32m    272\u001B[0m \u001B[43m        \u001B[49m\u001B[43mtrain\u001B[49m\u001B[43m,\u001B[49m\n\u001B[0;32m    273\u001B[0m \u001B[43m        \u001B[49m\u001B[43mtest\u001B[49m\u001B[43m,\u001B[49m\n\u001B[0;32m    274\u001B[0m \u001B[43m        \u001B[49m\u001B[43mverbose\u001B[49m\u001B[43m,\u001B[49m\n\u001B[0;32m    275\u001B[0m \u001B[43m        \u001B[49m\u001B[38;5;28;43;01mNone\u001B[39;49;00m\u001B[43m,\u001B[49m\n\u001B[0;32m    276\u001B[0m \u001B[43m        \u001B[49m\u001B[43mfit_params\u001B[49m\u001B[43m,\u001B[49m\n\u001B[0;32m    277\u001B[0m \u001B[43m        \u001B[49m\u001B[43mreturn_train_score\u001B[49m\u001B[38;5;241;43m=\u001B[39;49m\u001B[43mreturn_train_score\u001B[49m\u001B[43m,\u001B[49m\n\u001B[0;32m    278\u001B[0m \u001B[43m        \u001B[49m\u001B[43mreturn_times\u001B[49m\u001B[38;5;241;43m=\u001B[39;49m\u001B[38;5;28;43;01mTrue\u001B[39;49;00m\u001B[43m,\u001B[49m\n\u001B[0;32m    279\u001B[0m \u001B[43m        \u001B[49m\u001B[43mreturn_estimator\u001B[49m\u001B[38;5;241;43m=\u001B[39;49m\u001B[43mreturn_estimator\u001B[49m\u001B[43m,\u001B[49m\n\u001B[0;32m    280\u001B[0m \u001B[43m        \u001B[49m\u001B[43merror_score\u001B[49m\u001B[38;5;241;43m=\u001B[39;49m\u001B[43merror_score\u001B[49m\u001B[43m,\u001B[49m\n\u001B[0;32m    281\u001B[0m \u001B[43m    \u001B[49m\u001B[43m)\u001B[49m\n\u001B[0;32m    282\u001B[0m \u001B[43m    \u001B[49m\u001B[38;5;28;43;01mfor\u001B[39;49;00m\u001B[43m \u001B[49m\u001B[43mtrain\u001B[49m\u001B[43m,\u001B[49m\u001B[43m \u001B[49m\u001B[43mtest\u001B[49m\u001B[43m \u001B[49m\u001B[38;5;129;43;01min\u001B[39;49;00m\u001B[43m \u001B[49m\u001B[43mcv\u001B[49m\u001B[38;5;241;43m.\u001B[39;49m\u001B[43msplit\u001B[49m\u001B[43m(\u001B[49m\u001B[43mX\u001B[49m\u001B[43m,\u001B[49m\u001B[43m \u001B[49m\u001B[43my\u001B[49m\u001B[43m,\u001B[49m\u001B[43m \u001B[49m\u001B[43mgroups\u001B[49m\u001B[43m)\u001B[49m\n\u001B[0;32m    283\u001B[0m \u001B[43m\u001B[49m\u001B[43m)\u001B[49m\n\u001B[0;32m    285\u001B[0m _warn_or_raise_about_fit_failures(results, error_score)\n\u001B[0;32m    287\u001B[0m \u001B[38;5;66;03m# For callabe scoring, the return type is only know after calling. If the\u001B[39;00m\n\u001B[0;32m    288\u001B[0m \u001B[38;5;66;03m# return type is a dictionary, the error scores can now be inserted with\u001B[39;00m\n\u001B[0;32m    289\u001B[0m \u001B[38;5;66;03m# the correct key.\u001B[39;00m\n",
      "File \u001B[1;32m~\\anaconda3\\envs\\datos\\lib\\site-packages\\joblib\\parallel.py:1061\u001B[0m, in \u001B[0;36mParallel.__call__\u001B[1;34m(self, iterable)\u001B[0m\n\u001B[0;32m   1058\u001B[0m     \u001B[38;5;28mself\u001B[39m\u001B[38;5;241m.\u001B[39m_iterating \u001B[38;5;241m=\u001B[39m \u001B[38;5;28;01mFalse\u001B[39;00m\n\u001B[0;32m   1060\u001B[0m \u001B[38;5;28;01mwith\u001B[39;00m \u001B[38;5;28mself\u001B[39m\u001B[38;5;241m.\u001B[39m_backend\u001B[38;5;241m.\u001B[39mretrieval_context():\n\u001B[1;32m-> 1061\u001B[0m     \u001B[38;5;28;43mself\u001B[39;49m\u001B[38;5;241;43m.\u001B[39;49m\u001B[43mretrieve\u001B[49m\u001B[43m(\u001B[49m\u001B[43m)\u001B[49m\n\u001B[0;32m   1062\u001B[0m \u001B[38;5;66;03m# Make sure that we get a last message telling us we are done\u001B[39;00m\n\u001B[0;32m   1063\u001B[0m elapsed_time \u001B[38;5;241m=\u001B[39m time\u001B[38;5;241m.\u001B[39mtime() \u001B[38;5;241m-\u001B[39m \u001B[38;5;28mself\u001B[39m\u001B[38;5;241m.\u001B[39m_start_time\n",
      "File \u001B[1;32m~\\anaconda3\\envs\\datos\\lib\\site-packages\\joblib\\parallel.py:938\u001B[0m, in \u001B[0;36mParallel.retrieve\u001B[1;34m(self)\u001B[0m\n\u001B[0;32m    936\u001B[0m \u001B[38;5;28;01mtry\u001B[39;00m:\n\u001B[0;32m    937\u001B[0m     \u001B[38;5;28;01mif\u001B[39;00m \u001B[38;5;28mgetattr\u001B[39m(\u001B[38;5;28mself\u001B[39m\u001B[38;5;241m.\u001B[39m_backend, \u001B[38;5;124m'\u001B[39m\u001B[38;5;124msupports_timeout\u001B[39m\u001B[38;5;124m'\u001B[39m, \u001B[38;5;28;01mFalse\u001B[39;00m):\n\u001B[1;32m--> 938\u001B[0m         \u001B[38;5;28mself\u001B[39m\u001B[38;5;241m.\u001B[39m_output\u001B[38;5;241m.\u001B[39mextend(\u001B[43mjob\u001B[49m\u001B[38;5;241;43m.\u001B[39;49m\u001B[43mget\u001B[49m\u001B[43m(\u001B[49m\u001B[43mtimeout\u001B[49m\u001B[38;5;241;43m=\u001B[39;49m\u001B[38;5;28;43mself\u001B[39;49m\u001B[38;5;241;43m.\u001B[39;49m\u001B[43mtimeout\u001B[49m\u001B[43m)\u001B[49m)\n\u001B[0;32m    939\u001B[0m     \u001B[38;5;28;01melse\u001B[39;00m:\n\u001B[0;32m    940\u001B[0m         \u001B[38;5;28mself\u001B[39m\u001B[38;5;241m.\u001B[39m_output\u001B[38;5;241m.\u001B[39mextend(job\u001B[38;5;241m.\u001B[39mget())\n",
      "File \u001B[1;32m~\\anaconda3\\envs\\datos\\lib\\site-packages\\joblib\\_parallel_backends.py:542\u001B[0m, in \u001B[0;36mLokyBackend.wrap_future_result\u001B[1;34m(future, timeout)\u001B[0m\n\u001B[0;32m    539\u001B[0m \u001B[38;5;124;03m\"\"\"Wrapper for Future.result to implement the same behaviour as\u001B[39;00m\n\u001B[0;32m    540\u001B[0m \u001B[38;5;124;03mAsyncResults.get from multiprocessing.\"\"\"\u001B[39;00m\n\u001B[0;32m    541\u001B[0m \u001B[38;5;28;01mtry\u001B[39;00m:\n\u001B[1;32m--> 542\u001B[0m     \u001B[38;5;28;01mreturn\u001B[39;00m \u001B[43mfuture\u001B[49m\u001B[38;5;241;43m.\u001B[39;49m\u001B[43mresult\u001B[49m\u001B[43m(\u001B[49m\u001B[43mtimeout\u001B[49m\u001B[38;5;241;43m=\u001B[39;49m\u001B[43mtimeout\u001B[49m\u001B[43m)\u001B[49m\n\u001B[0;32m    543\u001B[0m \u001B[38;5;28;01mexcept\u001B[39;00m CfTimeoutError \u001B[38;5;28;01mas\u001B[39;00m e:\n\u001B[0;32m    544\u001B[0m     \u001B[38;5;28;01mraise\u001B[39;00m \u001B[38;5;167;01mTimeoutError\u001B[39;00m \u001B[38;5;28;01mfrom\u001B[39;00m \u001B[38;5;21;01me\u001B[39;00m\n",
      "File \u001B[1;32m~\\anaconda3\\envs\\datos\\lib\\concurrent\\futures\\_base.py:453\u001B[0m, in \u001B[0;36mFuture.result\u001B[1;34m(self, timeout)\u001B[0m\n\u001B[0;32m    450\u001B[0m \u001B[38;5;28;01melif\u001B[39;00m \u001B[38;5;28mself\u001B[39m\u001B[38;5;241m.\u001B[39m_state \u001B[38;5;241m==\u001B[39m FINISHED:\n\u001B[0;32m    451\u001B[0m     \u001B[38;5;28;01mreturn\u001B[39;00m \u001B[38;5;28mself\u001B[39m\u001B[38;5;241m.\u001B[39m__get_result()\n\u001B[1;32m--> 453\u001B[0m \u001B[38;5;28;43mself\u001B[39;49m\u001B[38;5;241;43m.\u001B[39;49m\u001B[43m_condition\u001B[49m\u001B[38;5;241;43m.\u001B[39;49m\u001B[43mwait\u001B[49m\u001B[43m(\u001B[49m\u001B[43mtimeout\u001B[49m\u001B[43m)\u001B[49m\n\u001B[0;32m    455\u001B[0m \u001B[38;5;28;01mif\u001B[39;00m \u001B[38;5;28mself\u001B[39m\u001B[38;5;241m.\u001B[39m_state \u001B[38;5;129;01min\u001B[39;00m [CANCELLED, CANCELLED_AND_NOTIFIED]:\n\u001B[0;32m    456\u001B[0m     \u001B[38;5;28;01mraise\u001B[39;00m CancelledError()\n",
      "File \u001B[1;32m~\\anaconda3\\envs\\datos\\lib\\threading.py:320\u001B[0m, in \u001B[0;36mCondition.wait\u001B[1;34m(self, timeout)\u001B[0m\n\u001B[0;32m    318\u001B[0m \u001B[38;5;28;01mtry\u001B[39;00m:    \u001B[38;5;66;03m# restore state no matter what (e.g., KeyboardInterrupt)\u001B[39;00m\n\u001B[0;32m    319\u001B[0m     \u001B[38;5;28;01mif\u001B[39;00m timeout \u001B[38;5;129;01mis\u001B[39;00m \u001B[38;5;28;01mNone\u001B[39;00m:\n\u001B[1;32m--> 320\u001B[0m         \u001B[43mwaiter\u001B[49m\u001B[38;5;241;43m.\u001B[39;49m\u001B[43macquire\u001B[49m\u001B[43m(\u001B[49m\u001B[43m)\u001B[49m\n\u001B[0;32m    321\u001B[0m         gotit \u001B[38;5;241m=\u001B[39m \u001B[38;5;28;01mTrue\u001B[39;00m\n\u001B[0;32m    322\u001B[0m     \u001B[38;5;28;01melse\u001B[39;00m:\n",
      "\u001B[1;31mKeyboardInterrupt\u001B[0m: "
     ]
    }
   ]
  },
  {
   "cell_type": "markdown",
   "source": [
    "Veamos cómo resultaron los scores de los modelos:"
   ],
   "metadata": {
    "id": "hyJIbF3HsxK8"
   }
  },
  {
   "cell_type": "code",
   "source": [
    "plot_results(model_scores, name='stacking_model_cv')"
   ],
   "metadata": {
    "colab": {
     "base_uri": "https://localhost:8080/",
     "height": 542
    },
    "id": "CPzQs8HBsuR4",
    "outputId": "ba891566-9a23-4fab-b9be-a7afcd81e7b6"
   },
   "execution_count": null,
   "outputs": []
  },
  {
   "cell_type": "markdown",
   "source": [
    "Entrenamos el modelo:"
   ],
   "metadata": {
    "id": "uduejW9os8-J"
   }
  },
  {
   "cell_type": "code",
   "source": [
    "stacking_model.fit(x_train_stacking, y_train_stacking)"
   ],
   "metadata": {
    "colab": {
     "base_uri": "https://localhost:8080/"
    },
    "id": "VT_HO24fk7kR",
    "outputId": "7ab9cdd6-b461-4ce7-f2c1-b4446a04a6f8"
   },
   "execution_count": null,
   "outputs": []
  },
  {
   "cell_type": "markdown",
   "source": [
    "Finalmente haremos la predicción:"
   ],
   "metadata": {
    "id": "567lujdizE8r"
   }
  },
  {
   "cell_type": "code",
   "source": [
    "y_pred_stacking = stacking_model.predict(x_test_stacking)"
   ],
   "metadata": {
    "id": "_Cw7e8GzzEFC"
   },
   "execution_count": null,
   "outputs": []
  },
  {
   "cell_type": "markdown",
   "source": [
    "#### 3.2.4 Métricas"
   ],
   "metadata": {
    "id": "mUjE089xzI7j"
   }
  },
  {
   "cell_type": "markdown",
   "source": [
    "Para poder evaluar la performance que obtuvo nuestro modelo utilizaremos la métrica de evaluación del error cuadrático medio (MSE) como se pide por enunciado."
   ],
   "metadata": {
    "id": "dLNhGzU6zNVc"
   }
  },
  {
   "cell_type": "code",
   "source": [
    "mse = metrics.mean_squared_error(\n",
    "        y_true  = y_test_stacking,\n",
    "        y_pred  = y_pred_stacking,\n",
    "        squared = True\n",
    "       )\n",
    "\n",
    "print(f\"El error según la métrica 'Mean Square Error' de test es: {mse}\")"
   ],
   "metadata": {
    "id": "ZgpouA6A0e1-",
    "colab": {
     "base_uri": "https://localhost:8080/"
    },
    "outputId": "459eb0aa-4889-45c4-869d-fc83280ddd84"
   },
   "execution_count": null,
   "outputs": []
  },
  {
   "cell_type": "markdown",
   "source": [
    "#### 3.2.4 Exportación de Datos"
   ],
   "metadata": {
    "id": "qQk2khn_gLmD"
   }
  },
  {
   "cell_type": "markdown",
   "source": [
    "Finalmente, exportamos el modelo utilizado:"
   ],
   "metadata": {
    "id": "gmlWq5XygLmE"
   }
  },
  {
   "cell_type": "code",
   "source": [
    "if IN_COLAB:\n",
    "  path = '/content/drive/MyDrive/📔 Organización de Datos (75.06)/TPS/TP2/MODELOS/Stacking_Regressor.joblib'\n",
    "else:\n",
    "  path = './MODELOS/Stacking_Regressor.joblib'\n",
    "\n",
    "dump(stacking_model, path)"
   ],
   "metadata": {
    "colab": {
     "base_uri": "https://localhost:8080/"
    },
    "outputId": "55f12e07-f440-4b03-943e-cbec60544be7",
    "id": "6ruQqkIZgLmE"
   },
   "execution_count": null,
   "outputs": []
  },
  {
   "cell_type": "markdown",
   "source": [
    "## Conclusiones"
   ],
   "metadata": {
    "id": "VFntMJUkIzEu"
   }
  },
  {
   "cell_type": "markdown",
   "source": [
    "A modo de finalización de este trabajo, haremos un pequeño repaso sobre todos los puntos que analizamos y sus respectivos resultados y/o observaciones hechos por nosotros:\n",
    "\n",
    "Sobre el análisis realizado en el apartado de **procesamiento del lenguaje natural**, y en particular haciendo referencia a las métricas que obtuvimos luego del entrenamiento y predicción con el dataset producto de la ampliación, utilizando el modelo XGBoost, pudimos observar que si bien aún las métricas no nos resultan del todo satisfactorias cumplen con el objetivo de mejorar las resultantes del trabajo anterior. Más allá de que la cantidad de aciertos continúa sin incrementar, tanto el error MSE como el RMSE decrecieron ofreciendo mejores resultados. Por otro lado, el coeficiente de determinación se incrementó notoriamente llegando casi a un 0.9%. \n",
    "\n",
    "En cuanto a lo referido sobre **redes neuronales**, la comparación será directamente en base a los nuevos modelos ya que el dataset utilizado es compartido en ambos trabajos. Dicho esto, el error cometido en el modelo de regresión es significativamente pequeño. Teniendo en cuenta los resultantes del TP1, si utilizamos el menor luego de que éstos tuvieron su optimización de parámetros correspondiente, notamos que el que mejor performa es XGBoost con un MSE de 51650994876 (al cual de todas formas le atribuímos arrastre de error en nuestro planteo). Utilizando redes neuronales cometemos tan solo un error cuadrático medio equivalente a 1.36. Por otro lado, en lo que respecta al modelo de clasificación, obtuvimos resultados bastante similares. Si bien tanto el accuracy, precisión y F1-Score dieron distintos, la diferencia es de tan solo uno/dos puntos. Con esto concluimos que para clasificación no se notan mejoras por sobre los modelos utilizados en el trabajo anterior.\n",
    "\n",
    "Como último requerimiento se pidió estudiar las métricas tanto para regresión como clasificación pero haciendo uso de **ensambles**, en particular de tipo híbridos. En lo que respecta al utilizado para clasificación (Voting) obtuvimos mejores resultados para las métricas de Accuracy, Recall y F1-Score. Sin embargo, aunque en Precisión disminuyó un poco, esta diferencia continúa siendo no significativa. Pasando al ensamble de regresión (Stacking) el MSE resultante que obtuvimos fue 238481755830. Creemos que nuevamente estamos cometiendo involuntariamente algún arrastre de error en alguno de los incisos desarrollados, ya que este error es incluso mayor a los cometidos en los modelos individuales desarrollados en el TP1, y no estaría respetando la regla principal de ‘*La sabiduría de las multitudes*’."
   ],
   "metadata": {
    "id": "CE40zH4PI4xY"
   }
  }
 ],
 "metadata": {
  "kernelspec": {
   "display_name": "Python 3",
   "language": "python",
   "name": "python3"
  },
  "language_info": {
   "codemirror_mode": {
    "name": "ipython",
    "version": 2
   },
   "file_extension": ".py",
   "mimetype": "text/x-python",
   "name": "python",
   "nbconvert_exporter": "python",
   "pygments_lexer": "ipython2",
   "version": "2.7.6"
  },
  "colab": {
   "provenance": [],
   "collapsed_sections": [
    "EAT6HU3buhLU",
    "_kG7ZRlKuaxT",
    "D8sgMCouvLx-"
   ]
  }
 },
 "nbformat": 4,
 "nbformat_minor": 0
}
