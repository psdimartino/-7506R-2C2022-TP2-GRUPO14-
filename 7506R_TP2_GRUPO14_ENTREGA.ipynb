{
  "cells": [
    {
      "cell_type": "markdown",
      "metadata": {
        "collapsed": false,
        "id": "ALhQpMoS2Do2"
      },
      "source": [
        "______________________________________\n",
        "# <center>**Trabajo Practico Nº2 para la Materia *Organización de Datos***</center>\n",
        "\n",
        "*Integrantes*:\n",
        "- 103963\tCarolina Di Matteo\tcdimatteo@fi.uba.ar\n",
        "- 101231\tPablo Salvador Dimartino\tpdimartino@fi.uba.ar\n",
        "- 100113\tJuan Sebastian Burgos\tjsburgos@fi.uba.ar\n",
        "- 104415\tValentina Laura Correa\tvcorrea@fi.uba.ar\n",
        "\n",
        "*Grupo*: 14\n",
        "\n",
        "*Repositorio*: [github](https://github.com/valencorrea/7506R-2C2022-GRUPO14)\n",
        "\n",
        "*Curso*: Rodriguez\n",
        "\n",
        "*Cuatrimestre*: 2c2022\n",
        "\n",
        "Datos provistos por [properati](https://www.properati.com.ar).\n",
        "______________________________________\n"
      ]
    },
    {
      "cell_type": "markdown",
      "metadata": {
        "id": "jrObdaVTw13E"
      },
      "source": [
        "## Introducción"
      ]
    },
    {
      "cell_type": "markdown",
      "metadata": {
        "id": "8Tot765gvLP2"
      },
      "source": [
        "El presente trabajo práctico es una continuación del ‘TP1: Propiedades en Venta’. \n",
        "\n",
        "En la entrega anterior se propuso aplicar técnicas de análisis exploratorio, preprocesamiento de datos, agrupamiento, clasificación y regresión. Siguiendo esta línea, y con el objetivo de continuar resolviendo problemas reales de ciencia de datos, en esta segunda parte se implementarán nuevos modelos predictivos a partir de los anteriormente mencionados. \n",
        "\n",
        "En esta oportunidad se buscará demostrar los conocimientos adquiridos sobre procesamiento del lenguaje natural, redes neuronales y ensamble de modelos. Para esto se utilizarán tanto datasets provistos por la materia, tomados de la página de la empresa Properati, como los datasets de train y test generados en el trabajo anterior."
      ]
    },
    {
      "cell_type": "markdown",
      "metadata": {
        "id": "civIgEQKvQ6A"
      },
      "source": [
        "## 0. Setup"
      ]
    },
    {
      "cell_type": "markdown",
      "metadata": {
        "id": "vrqonJJjvVay"
      },
      "source": [
        "### Importación de bibliotecas"
      ]
    },
    {
      "cell_type": "code",
      "execution_count": 22,
      "metadata": {
        "colab": {
          "base_uri": "https://localhost:8080/"
        },
        "id": "h6RrCiyq2Do7",
        "outputId": "fa56554a-0995-4ff2-9508-f29bc98fa435"
      },
      "outputs": [
        {
          "output_type": "stream",
          "name": "stdout",
          "text": [
            "Looking in indexes: https://pypi.org/simple, https://us-python.pkg.dev/colab-wheels/public/simple/\n",
            "Requirement already satisfied: visualkeras in /usr/local/lib/python3.8/dist-packages (0.0.2)\n",
            "Requirement already satisfied: numpy>=1.18.1 in /usr/local/lib/python3.8/dist-packages (from visualkeras) (1.21.6)\n",
            "Requirement already satisfied: aggdraw>=1.3.11 in /usr/local/lib/python3.8/dist-packages (from visualkeras) (1.3.15)\n",
            "Requirement already satisfied: pillow>=6.2.0 in /usr/local/lib/python3.8/dist-packages (from visualkeras) (7.1.2)\n"
          ]
        }
      ],
      "source": [
        "pip install visualkeras"
      ]
    },
    {
      "cell_type": "code",
      "execution_count": 23,
      "metadata": {
        "colab": {
          "base_uri": "https://localhost:8080/"
        },
        "id": "vdZzPMc93I-C",
        "outputId": "86911d47-eeaf-4cfd-d9ee-3fa357d7100d"
      },
      "outputs": [
        {
          "output_type": "stream",
          "name": "stdout",
          "text": [
            "Looking in indexes: https://pypi.org/simple, https://us-python.pkg.dev/colab-wheels/public/simple/\n",
            "Requirement already satisfied: unidecode in /usr/local/lib/python3.8/dist-packages (1.3.6)\n"
          ]
        }
      ],
      "source": [
        "pip install unidecode"
      ]
    },
    {
      "cell_type": "code",
      "execution_count": 24,
      "metadata": {
        "colab": {
          "base_uri": "https://localhost:8080/"
        },
        "id": "7SrZ6Pvh8b_K",
        "outputId": "6864dbae-5015-4624-a744-e49c772b91dc"
      },
      "outputs": [
        {
          "output_type": "stream",
          "name": "stdout",
          "text": [
            "Looking in indexes: https://pypi.org/simple, https://us-python.pkg.dev/colab-wheels/public/simple/\n",
            "Requirement already satisfied: types-all in /usr/local/lib/python3.8/dist-packages (1.0.0)\n",
            "Requirement already satisfied: types-contextvars in /usr/local/lib/python3.8/dist-packages (from types-all) (2.4.7)\n",
            "Requirement already satisfied: types-pycurl in /usr/local/lib/python3.8/dist-packages (from types-all) (7.45.2.0)\n",
            "Requirement already satisfied: types-python-dateutil in /usr/local/lib/python3.8/dist-packages (from types-all) (2.8.19.5)\n",
            "Requirement already satisfied: types-fb303 in /usr/local/lib/python3.8/dist-packages (from types-all) (1.0.0)\n",
            "Requirement already satisfied: types-annoy in /usr/local/lib/python3.8/dist-packages (from types-all) (1.17.8.1)\n",
            "Requirement already satisfied: types-python-slugify in /usr/local/lib/python3.8/dist-packages (from types-all) (7.0.0.1)\n",
            "Requirement already satisfied: types-protobuf in /usr/local/lib/python3.8/dist-packages (from types-all) (4.21.0.2)\n",
            "Requirement already satisfied: types-typed-ast in /usr/local/lib/python3.8/dist-packages (from types-all) (1.5.8.3)\n",
            "Requirement already satisfied: types-chardet in /usr/local/lib/python3.8/dist-packages (from types-all) (5.0.4.1)\n",
            "Requirement already satisfied: types-frozendict in /usr/local/lib/python3.8/dist-packages (from types-all) (2.0.9)\n",
            "Requirement already satisfied: types-DateTimeRange in /usr/local/lib/python3.8/dist-packages (from types-all) (1.2.8)\n",
            "Requirement already satisfied: types-freezegun in /usr/local/lib/python3.8/dist-packages (from types-all) (1.1.10)\n",
            "Requirement already satisfied: types-ujson in /usr/local/lib/python3.8/dist-packages (from types-all) (5.6.0.0)\n",
            "Requirement already satisfied: types-tornado in /usr/local/lib/python3.8/dist-packages (from types-all) (5.1.1)\n",
            "Requirement already satisfied: types-xxhash in /usr/local/lib/python3.8/dist-packages (from types-all) (3.0.5.1)\n",
            "Requirement already satisfied: types-emoji in /usr/local/lib/python3.8/dist-packages (from types-all) (2.1.0.1)\n",
            "Requirement already satisfied: types-enum34 in /usr/local/lib/python3.8/dist-packages (from types-all) (1.1.8)\n",
            "Requirement already satisfied: types-redis in /usr/local/lib/python3.8/dist-packages (from types-all) (4.3.21.6)\n",
            "Requirement already satisfied: types-pathlib2 in /usr/local/lib/python3.8/dist-packages (from types-all) (2.3.0)\n",
            "Requirement already satisfied: types-openssl-python in /usr/local/lib/python3.8/dist-packages (from types-all) (0.1.3)\n",
            "Requirement already satisfied: types-PyYAML in /usr/local/lib/python3.8/dist-packages (from types-all) (6.0.12.2)\n",
            "Requirement already satisfied: types-boto in /usr/local/lib/python3.8/dist-packages (from types-all) (2.49.18.3)\n",
            "Requirement already satisfied: types-Jinja2 in /usr/local/lib/python3.8/dist-packages (from types-all) (2.11.9)\n",
            "Requirement already satisfied: types-tzlocal in /usr/local/lib/python3.8/dist-packages (from types-all) (4.2.2.2)\n",
            "Requirement already satisfied: types-decorator in /usr/local/lib/python3.8/dist-packages (from types-all) (5.1.8.1)\n",
            "Requirement already satisfied: types-Flask in /usr/local/lib/python3.8/dist-packages (from types-all) (1.1.6)\n",
            "Requirement already satisfied: types-nmap in /usr/local/lib/python3.8/dist-packages (from types-all) (0.1.6)\n",
            "Requirement already satisfied: types-dataclasses in /usr/local/lib/python3.8/dist-packages (from types-all) (0.6.6)\n",
            "Requirement already satisfied: types-singledispatch in /usr/local/lib/python3.8/dist-packages (from types-all) (3.7.5.1)\n",
            "Requirement already satisfied: types-toml in /usr/local/lib/python3.8/dist-packages (from types-all) (0.10.8.1)\n",
            "Requirement already satisfied: types-python-gflags in /usr/local/lib/python3.8/dist-packages (from types-all) (3.1.7.1)\n",
            "Requirement already satisfied: types-pysftp in /usr/local/lib/python3.8/dist-packages (from types-all) (0.2.17)\n",
            "Requirement already satisfied: types-pyvmomi in /usr/local/lib/python3.8/dist-packages (from types-all) (8.0.0.0)\n",
            "Requirement already satisfied: types-geoip2 in /usr/local/lib/python3.8/dist-packages (from types-all) (3.0.0)\n",
            "Requirement already satisfied: types-PyJWT in /usr/local/lib/python3.8/dist-packages (from types-all) (1.7.1)\n",
            "Requirement already satisfied: types-ipaddress in /usr/local/lib/python3.8/dist-packages (from types-all) (1.0.8)\n",
            "Requirement already satisfied: types-retry in /usr/local/lib/python3.8/dist-packages (from types-all) (0.9.9)\n",
            "Requirement already satisfied: types-pymssql in /usr/local/lib/python3.8/dist-packages (from types-all) (2.1.0)\n",
            "Requirement already satisfied: types-Werkzeug in /usr/local/lib/python3.8/dist-packages (from types-all) (1.0.9)\n",
            "Requirement already satisfied: types-atomicwrites in /usr/local/lib/python3.8/dist-packages (from types-all) (1.4.5.1)\n",
            "Requirement already satisfied: types-MarkupSafe in /usr/local/lib/python3.8/dist-packages (from types-all) (1.1.10)\n",
            "Requirement already satisfied: types-docutils in /usr/local/lib/python3.8/dist-packages (from types-all) (0.19.1.1)\n",
            "Requirement already satisfied: types-filelock in /usr/local/lib/python3.8/dist-packages (from types-all) (3.2.7)\n",
            "Requirement already satisfied: types-characteristic in /usr/local/lib/python3.8/dist-packages (from types-all) (14.3.7)\n",
            "Requirement already satisfied: types-requests in /usr/local/lib/python3.8/dist-packages (from types-all) (2.28.11.7)\n",
            "Requirement already satisfied: types-Routes in /usr/local/lib/python3.8/dist-packages (from types-all) (2.5.0)\n",
            "Requirement already satisfied: types-backports-abc in /usr/local/lib/python3.8/dist-packages (from types-all) (0.5.2)\n",
            "Requirement already satisfied: types-aiofiles in /usr/local/lib/python3.8/dist-packages (from types-all) (22.1.0.4)\n",
            "Requirement already satisfied: types-tabulate in /usr/local/lib/python3.8/dist-packages (from types-all) (0.9.0.0)\n",
            "Requirement already satisfied: types-pyfarmhash in /usr/local/lib/python3.8/dist-packages (from types-all) (0.3.1)\n",
            "Requirement already satisfied: types-pkg-resources in /usr/local/lib/python3.8/dist-packages (from types-all) (0.1.3)\n",
            "Requirement already satisfied: types-cryptography in /usr/local/lib/python3.8/dist-packages (from types-all) (3.3.23.2)\n",
            "Requirement already satisfied: types-maxminddb in /usr/local/lib/python3.8/dist-packages (from types-all) (1.5.0)\n",
            "Requirement already satisfied: types-six in /usr/local/lib/python3.8/dist-packages (from types-all) (1.16.21.4)\n",
            "Requirement already satisfied: types-scribe in /usr/local/lib/python3.8/dist-packages (from types-all) (2.0.0)\n",
            "Requirement already satisfied: types-itsdangerous in /usr/local/lib/python3.8/dist-packages (from types-all) (1.1.6)\n",
            "Requirement already satisfied: types-dateparser in /usr/local/lib/python3.8/dist-packages (from types-all) (1.1.4.4)\n",
            "Requirement already satisfied: types-pyRFC3339 in /usr/local/lib/python3.8/dist-packages (from types-all) (1.1.1.1)\n",
            "Requirement already satisfied: types-Deprecated in /usr/local/lib/python3.8/dist-packages (from types-all) (1.2.9)\n",
            "Requirement already satisfied: types-polib in /usr/local/lib/python3.8/dist-packages (from types-all) (1.1.12.1)\n",
            "Requirement already satisfied: types-pytz in /usr/local/lib/python3.8/dist-packages (from types-all) (2022.7.0.0)\n",
            "Requirement already satisfied: types-click in /usr/local/lib/python3.8/dist-packages (from types-all) (7.1.8)\n",
            "Requirement already satisfied: types-waitress in /usr/local/lib/python3.8/dist-packages (from types-all) (2.1.4.3)\n",
            "Requirement already satisfied: types-certifi in /usr/local/lib/python3.8/dist-packages (from types-all) (2021.10.8.3)\n",
            "Requirement already satisfied: types-futures in /usr/local/lib/python3.8/dist-packages (from types-all) (3.3.8)\n",
            "Requirement already satisfied: types-backports in /usr/local/lib/python3.8/dist-packages (from types-all) (0.1.3)\n",
            "Requirement already satisfied: types-click-spinner in /usr/local/lib/python3.8/dist-packages (from types-all) (0.1.13.1)\n",
            "Requirement already satisfied: types-PyMySQL in /usr/local/lib/python3.8/dist-packages (from types-all) (1.0.19.1)\n",
            "Requirement already satisfied: types-croniter in /usr/local/lib/python3.8/dist-packages (from types-all) (1.3.2.1)\n",
            "Requirement already satisfied: types-Pillow in /usr/local/lib/python3.8/dist-packages (from types-all) (9.3.0.4)\n",
            "Requirement already satisfied: types-colorama in /usr/local/lib/python3.8/dist-packages (from types-all) (0.4.15.4)\n",
            "Requirement already satisfied: types-kazoo in /usr/local/lib/python3.8/dist-packages (from types-all) (0.1.3)\n",
            "Requirement already satisfied: types-JACK-Client in /usr/local/lib/python3.8/dist-packages (from types-all) (0.5.10.3)\n",
            "Requirement already satisfied: types-simplejson in /usr/local/lib/python3.8/dist-packages (from types-all) (3.18.0.0)\n",
            "Requirement already satisfied: types-orjson in /usr/local/lib/python3.8/dist-packages (from types-all) (3.6.2)\n",
            "Requirement already satisfied: types-mypy-extensions in /usr/local/lib/python3.8/dist-packages (from types-all) (0.4.24)\n",
            "Requirement already satisfied: types-Markdown in /usr/local/lib/python3.8/dist-packages (from types-all) (3.4.2.1)\n",
            "Requirement already satisfied: types-pyaudio in /usr/local/lib/python3.8/dist-packages (from types-all) (0.2.16.4)\n",
            "Requirement already satisfied: types-paramiko in /usr/local/lib/python3.8/dist-packages (from types-all) (2.12.0.1)\n",
            "Requirement already satisfied: types-mock in /usr/local/lib/python3.8/dist-packages (from types-all) (4.0.15.2)\n",
            "Requirement already satisfied: types-termcolor in /usr/local/lib/python3.8/dist-packages (from types-all) (1.1.6)\n",
            "Requirement already satisfied: types-cachetools in /usr/local/lib/python3.8/dist-packages (from types-all) (5.2.1)\n",
            "Requirement already satisfied: types-first in /usr/local/lib/python3.8/dist-packages (from types-all) (2.0.5)\n",
            "Requirement already satisfied: types-docopt in /usr/local/lib/python3.8/dist-packages (from types-all) (0.6.11)\n",
            "Requirement already satisfied: types-bleach in /usr/local/lib/python3.8/dist-packages (from types-all) (5.0.3.1)\n",
            "Requirement already satisfied: types-urllib3<1.27 in /usr/local/lib/python3.8/dist-packages (from types-requests->types-all) (1.26.25.4)\n"
          ]
        }
      ],
      "source": [
        "pip install types-all"
      ]
    },
    {
      "cell_type": "markdown",
      "metadata": {
        "id": "Wbnc_RGevbaL"
      },
      "source": [
        "### Funciones auxiliares"
      ]
    },
    {
      "cell_type": "code",
      "execution_count": 25,
      "metadata": {
        "id": "PsfFEfXmYbIs"
      },
      "outputs": [],
      "source": [
        "def metricas_clasificacion(y_test, y_pred):\n",
        "    print(f'Accuracy: {round(accuracy_score(y_test, y_pred),2)}')\n",
        "    print(f'Precision: {round(precision_score(y_test, y_pred, average=\"macro\"),2)}')\n",
        "    print(f'Recall: {round(recall_score(y_test, y_pred, average=\"macro\"),2)}')\n",
        "    print(f'F1 Score: {round(f1_score(y_test, y_pred, average=\"macro\"),2)}')"
      ]
    },
    {
      "cell_type": "code",
      "execution_count": 26,
      "metadata": {
        "id": "c8p6gNJzfuGw"
      },
      "outputs": [],
      "source": [
        "def prediccion_y_metricas_regresion(regressor, x_test, y_test):\n",
        "  \n",
        "  y_pred = regressor.predict(x_test)\n",
        "\n",
        "  pct = np.sum(y_test.values == y_pred) / len(y_test) * 100\n",
        "\n",
        "  print(f\"Se obtuvo un {round(pct,3)}% de aciertos.\")\n",
        "\n",
        "  mse = metrics.mean_squared_error(\n",
        "        y_true  = y_test,\n",
        "        y_pred  = y_pred,\n",
        "        squared = True\n",
        "       )\n",
        "\n",
        "  print(f\"El error según la métrica 'Mean Square Error' de test es: {mse}\")\n",
        "\n",
        "  rmse = metrics.mean_squared_error(\n",
        "        y_true  = y_test,\n",
        "        y_pred  = y_pred,\n",
        "        squared = False\n",
        "       )\n",
        "\n",
        "  print(f\"El error según la métrica 'Root Mean Square Error' de test es: {rmse}\")\n",
        "\n",
        "  print(f\"El coeficiente de determinación de test es: {regressor.score(x_test, y_test)}\")\n",
        "  \n",
        "  return y_pred"
      ]
    },
    {
      "cell_type": "code",
      "execution_count": 27,
      "metadata": {
        "colab": {
          "base_uri": "https://localhost:8080/"
        },
        "id": "phMCF_yHYbIt",
        "outputId": "a4c33feb-2b36-48aa-b99c-97e21bf33076"
      },
      "outputs": [
        {
          "output_type": "stream",
          "name": "stdout",
          "text": [
            "Drive already mounted at /content/drive; to attempt to forcibly remount, call drive.mount(\"/content/drive\", force_remount=True).\n"
          ]
        }
      ],
      "source": [
        "#Importación de librerías\n",
        "\n",
        "import numpy as np\n",
        "import matplotlib.pyplot as plt\n",
        "import seaborn as sns\n",
        "import pandas as pd\n",
        "\n",
        "from xgboost import XGBRegressor\n",
        "from xgboost import plot_importance\n",
        "from scipy.stats import zscore\n",
        "from sklearn.preprocessing import StandardScaler\n",
        "from tensorflow import keras\n",
        "from sklearn.metrics import confusion_matrix\n",
        "from sklearn.ensemble import StackingRegressor\n",
        "from sklearn.ensemble import AdaBoostRegressor\n",
        "from sklearn.neighbors import KNeighborsRegressor\n",
        "from sklearn.tree import DecisionTreeClassifier\n",
        "from sklearn.ensemble import RandomForestClassifier\n",
        "from sklearn.neighbors import KNeighborsClassifier\n",
        "from sklearn.ensemble import VotingClassifier\n",
        "from collections import Counter\n",
        "import unidecode\n",
        "import re\n",
        "from joblib import load, dump\n",
        "from sklearn.metrics import make_scorer\n",
        "from sklearn.model_selection import RandomizedSearchCV, StratifiedKFold\n",
        "from keras.metrics import MeanSquaredError\n",
        "from sklearn.metrics import recall_score, accuracy_score, f1_score, precision_score, r2_score\n",
        "from sklearn import metrics\n",
        "from sklearn.model_selection import cross_val_score, RepeatedStratifiedKFold\n",
        "from collections import defaultdict\n",
        "\n",
        "#Configuración de Warnings\n",
        "import warnings\n",
        "warnings.filterwarnings('ignore')\n",
        "warnings.simplefilter(action='ignore', category=FutureWarning)\n",
        "warnings.simplefilter(action='ignore', category=UserWarning)\n",
        "\n",
        "#Ejecución con Drive\n",
        "if 'google.colab' in str(get_ipython()):\n",
        "    IN_COLAB = True\n",
        "else:\n",
        "    IN_COLAB = False\n",
        "\n",
        "if IN_COLAB :\n",
        "    from google.colab import drive\n",
        "    drive.mount('/content/drive')\n",
        "\n",
        "    df_train = pd.read_csv('/content/drive/MyDrive/📒 Organización de Datos (75.06)/TPS/TP2/DATASETS/df_train_tp1.csv')\n",
        "    df_test = pd.read_csv('/content/drive/MyDrive/📒 Organización de Datos (75.06)/TPS/TP2/DATASETS/df_test_tp1.csv')\n",
        "    properati_descrip = pd.read_csv('/content/drive/MyDrive/📒 Organización de Datos (75.06)/TPS/TP1/properati_argentina_2021_decrip.csv')\n",
        "    stop_words = '/content/drive/MyDrive/📒 Organización de Datos (75.06)/TPS/TP2/stopwords.txt'\n",
        "else:\n",
        "    df_train = pd.read_csv('./DATASETS/df_train_tp1.csv')\n",
        "    df_test = pd.read_csv('./DATASETS/df_test_tp1.csv')\n",
        "    properati_descrip = pd.read_csv('properati_argentina_2021_decrip.csv')\n",
        "    stop_words = 'stopwords'"
      ]
    },
    {
      "cell_type": "markdown",
      "metadata": {
        "collapsed": false,
        "id": "NsB6i6y8YbIv"
      },
      "source": [
        "### Funciones auxiliares"
      ]
    },
    {
      "cell_type": "code",
      "execution_count": 28,
      "metadata": {
        "id": "r4xaQZK_YbIv"
      },
      "outputs": [],
      "source": [
        "def metricas_clasificacion(y_test, y_pred):\n",
        "    print(f'Accuracy: {round(accuracy_score(y_test, y_pred),2)}')\n",
        "    print(f'Precision: {round(precision_score(y_test, y_pred, average=\"macro\"),2)}')\n",
        "    print(f'Recall: {round(recall_score(y_test, y_pred, average=\"macro\"),2)}')\n",
        "    print(f'F1 Score: {round(f1_score(y_test, y_pred, average=\"macro\"),2)}')"
      ]
    },
    {
      "cell_type": "code",
      "execution_count": 29,
      "metadata": {
        "id": "bM21a1rUYbIv"
      },
      "outputs": [],
      "source": [
        "def prediccion_y_metricas_regresion(regressor, x_test, y_test):\n",
        "\n",
        "  y_pred = regressor.predict(x_test)\n",
        "\n",
        "  print(f\"Se obtuvo un Score de {round(regressor.score(x_test, y_test)*100,3)}%\")\n",
        "\n",
        "  mse = metrics.mean_squared_error(\n",
        "        y_true  = y_test,\n",
        "        y_pred  = y_pred,\n",
        "        squared = True\n",
        "       )\n",
        "\n",
        "  print(f\"El error según la métrica 'Mean Square Error' de test es: {mse}\")\n",
        "\n",
        "  rmse = metrics.mean_squared_error(\n",
        "        y_true  = y_test,\n",
        "        y_pred  = y_pred,\n",
        "        squared = False\n",
        "       )\n",
        "\n",
        "  print(f\"El error según la métrica 'Root Mean Square Error' de test es: {rmse}\")\n",
        "\n",
        "  return"
      ]
    },
    {
      "cell_type": "code",
      "execution_count": 30,
      "metadata": {
        "id": "CCKsO-A5w7TQ"
      },
      "outputs": [],
      "source": [
        "def format_aspects(line, word):\n",
        "    format = r\"\\W*([\\w]+)\"\n",
        "    n = 2\n",
        "    x = re.search(r'{}\\W*{}{}'.format(format*n, word, format*n), line)\n",
        "    if x is not None:\n",
        "        return x.group()\n",
        "    else:\n",
        "        return \"\""
      ]
    },
    {
      "cell_type": "code",
      "execution_count": 31,
      "metadata": {
        "id": "3suAr0ciwY91"
      },
      "outputs": [],
      "source": [
        "def convert_b_m_a(x):\n",
        "    mx = max(x[0], x[1], x[2])\n",
        "    if mx == x[0]:\n",
        "        return 'bajo'\n",
        "    elif mx == x[1]:\n",
        "        return 'medio'\n",
        "    elif mx == x[2]:\n",
        "        return 'alto'"
      ]
    },
    {
      "cell_type": "code",
      "execution_count": 32,
      "metadata": {
        "id": "0LF1eyB9l4nt"
      },
      "outputs": [],
      "source": [
        "def estandarizar(df, columns):\n",
        "  sscaler = StandardScaler()\n",
        "\n",
        "  for col in columns:\n",
        "    df[col] = sscaler.fit_transform(pd.DataFrame(df[col]))"
      ]
    },
    {
      "cell_type": "code",
      "execution_count": 33,
      "metadata": {
        "id": "AAEy2PV92DpO"
      },
      "outputs": [],
      "source": [
        "def limpiar_values_de_aspects(df, aspects, values):\n",
        "    i = 0\n",
        "    for aspect in aspects:\n",
        "        for word in values[i]:\n",
        "            df[aspect] = df[aspect].apply(lambda line: word if word in line else line)\n",
        "        df[aspect] = df[aspect].apply(lambda line: line if len(line.split())<2 else '')\n",
        "        i = i+1"
      ]
    },
    {
      "cell_type": "code",
      "execution_count": 34,
      "metadata": {
        "id": "tDt5-bPcEn_m"
      },
      "outputs": [],
      "source": [
        "def evaluate_model(model, x, y, splits, n):\n",
        "    cv = RepeatedStratifiedKFold(n_splits=splits, n_repeats=n, random_state=1)\n",
        "    scores = cross_val_score(model, x, y, scoring='neg_mean_squared_error', cv=cv, verbose=1, n_jobs=3, error_score='raise')\n",
        "    return scores"
      ]
    },
    {
      "cell_type": "code",
      "execution_count": 35,
      "metadata": {
        "id": "NImxsouY4HaJ"
      },
      "outputs": [],
      "source": [
        "import plotly.graph_objects as go\n",
        "\n",
        "def plot_results(model_scores, name):\n",
        "    \n",
        "    model_names = list(model_scores.keys())\n",
        "    results = [model_scores[model] for model in model_names]\n",
        "    fig = go.Figure()\n",
        "    for model, result in zip(model_names, results):\n",
        "        fig.add_trace(go.Box(\n",
        "            y=result,\n",
        "            name=model,\n",
        "            boxpoints='all',\n",
        "            jitter=0.5,\n",
        "            whiskerwidth=0.2,\n",
        "            marker_size=2,\n",
        "            line_width=1)\n",
        "        )\n",
        "    \n",
        "    fig.update_layout(\n",
        "    title='Performance of Different Models Using 5-Fold Cross-Validation',\n",
        "    paper_bgcolor='rgb(243, 243, 243)',\n",
        "    plot_bgcolor='rgb(243, 243, 243)',\n",
        "    xaxis_title='Model',\n",
        "    yaxis_title='Error Cuadrático Medio',\n",
        "    showlegend=False)\n",
        "    fig.show()"
      ]
    },
    {
      "cell_type": "markdown",
      "metadata": {
        "id": "yG33nESmvkqN"
      },
      "source": [
        "### Preparación de datasets"
      ]
    },
    {
      "cell_type": "code",
      "execution_count": 36,
      "metadata": {
        "id": "TG2e42GCvuKG"
      },
      "outputs": [],
      "source": [
        "df_train_x = df_train.drop([\"property_price\", \"tipo_precio_3\"], axis=\"columns\")\n",
        "df_train_y_regresion = df_train[\"property_price\"]\n",
        "df_train_y_clasificacion = df_train[\"tipo_precio_3\"]\n",
        "\n",
        "df_test_x = df_test.drop([\"property_price\", \"tipo_precio_3\"], axis=\"columns\")\n",
        "df_test_y_regresion = df_test[\"property_price\"]\n",
        "df_test_y_clasificacion = df_test[\"tipo_precio_3\"]"
      ]
    },
    {
      "cell_type": "markdown",
      "metadata": {
        "collapsed": false,
        "id": "DajLENWv2DpA"
      },
      "source": [
        "## 1. Procesamiento del Lenguaje Natural"
      ]
    },
    {
      "cell_type": "markdown",
      "metadata": {
        "id": "mmjJ3qskuJyJ"
      },
      "source": [
        "### 1. a) Ampliación del dataset\n",
        "___"
      ]
    },
    {
      "cell_type": "markdown",
      "metadata": {
        "id": "904YC-oLyddb"
      },
      "source": [
        "Hagamos un merge del dataset original y el de descripciones, y quedémonos únicamente con las columnas `id` y `property_description`:"
      ]
    },
    {
      "cell_type": "code",
      "execution_count": 37,
      "metadata": {
        "id": "vRbU2jpk2Do_"
      },
      "outputs": [],
      "source": [
        "df_descrip = pd.merge(df_train_x, properati_descrip, on=\"id\")\n",
        "df_descrip = df_descrip[[\"id\", \"property_description\"]]\n",
        "\n",
        "df_test_descrip = pd.merge(df_test_x, properati_descrip, on=\"id\")\n",
        "df_test_descrip = df_test_descrip[[\"id\", \"property_description\"]]"
      ]
    },
    {
      "cell_type": "code",
      "execution_count": 38,
      "metadata": {
        "colab": {
          "base_uri": "https://localhost:8080/",
          "height": 424
        },
        "id": "ARR9bo_3YbIy",
        "outputId": "d45cbc8e-246b-4dd5-9a6a-219793cb2f3f"
      },
      "outputs": [
        {
          "output_type": "execute_result",
          "data": {
            "text/plain": [
              "                             id  \\\n",
              "0      ahcEMvB66wjPz0SYWZQDBw==   \n",
              "1      M0g0l0s6S13X+cZlGkUo8g==   \n",
              "2      V/KMMLRRx/Nn+g3m5lrW7A==   \n",
              "3      odR0QjYc3xtaYfqNJvbOSQ==   \n",
              "4      RqOcPIKYYZDG+CFMq2c1RA==   \n",
              "...                         ...   \n",
              "18600  g2fBcuyxiq3V0GdPATLFDw==   \n",
              "18601  2jfcV70r5M8iASKFbpFEqA==   \n",
              "18602  H4X7bNq04pK7U6fCcbxYNg==   \n",
              "18603  QWBP5Zp0TBUlFrzP9GO9bA==   \n",
              "18604  pKo6hHHPBZJydrHIn5S5Tg==   \n",
              "\n",
              "                                    property_description  \n",
              "0      Corredor Responsable: Juan Carlos Treco - CUCI...  \n",
              "1      Corredor Responsable: Micaela Perez / Lucas Fe...  \n",
              "2      Corredor Responsable: Gustavo Guastello - C.U....  \n",
              "3      PH A ESTRENAR SANCHEZ DE LORIA AL 1500 Y CONST...  \n",
              "4      EXCELENTE SEMIPISO 3 AMB C/BALCON LUMINOSO EN ...  \n",
              "...                                                  ...  \n",
              "18600  Venta DEPARTAMENTO 2 Ambientes Villa Ortuzar. ...  \n",
              "18601  Departamento a estrenar monoambiente, luminoso...  \n",
              "18602  Corredor Responsable: Daniel Acosta - CUCICBA ...  \n",
              "18603  El departamento se ubica en la PB y contiene:<...  \n",
              "18604  Departamento tipo PH en el hermoso edificio hi...  \n",
              "\n",
              "[18605 rows x 2 columns]"
            ],
            "text/html": [
              "\n",
              "  <div id=\"df-96724d6a-831a-4ab7-ace0-862bbe7ba2c7\">\n",
              "    <div class=\"colab-df-container\">\n",
              "      <div>\n",
              "<style scoped>\n",
              "    .dataframe tbody tr th:only-of-type {\n",
              "        vertical-align: middle;\n",
              "    }\n",
              "\n",
              "    .dataframe tbody tr th {\n",
              "        vertical-align: top;\n",
              "    }\n",
              "\n",
              "    .dataframe thead th {\n",
              "        text-align: right;\n",
              "    }\n",
              "</style>\n",
              "<table border=\"1\" class=\"dataframe\">\n",
              "  <thead>\n",
              "    <tr style=\"text-align: right;\">\n",
              "      <th></th>\n",
              "      <th>id</th>\n",
              "      <th>property_description</th>\n",
              "    </tr>\n",
              "  </thead>\n",
              "  <tbody>\n",
              "    <tr>\n",
              "      <th>0</th>\n",
              "      <td>ahcEMvB66wjPz0SYWZQDBw==</td>\n",
              "      <td>Corredor Responsable: Juan Carlos Treco - CUCI...</td>\n",
              "    </tr>\n",
              "    <tr>\n",
              "      <th>1</th>\n",
              "      <td>M0g0l0s6S13X+cZlGkUo8g==</td>\n",
              "      <td>Corredor Responsable: Micaela Perez / Lucas Fe...</td>\n",
              "    </tr>\n",
              "    <tr>\n",
              "      <th>2</th>\n",
              "      <td>V/KMMLRRx/Nn+g3m5lrW7A==</td>\n",
              "      <td>Corredor Responsable: Gustavo Guastello - C.U....</td>\n",
              "    </tr>\n",
              "    <tr>\n",
              "      <th>3</th>\n",
              "      <td>odR0QjYc3xtaYfqNJvbOSQ==</td>\n",
              "      <td>PH A ESTRENAR SANCHEZ DE LORIA AL 1500 Y CONST...</td>\n",
              "    </tr>\n",
              "    <tr>\n",
              "      <th>4</th>\n",
              "      <td>RqOcPIKYYZDG+CFMq2c1RA==</td>\n",
              "      <td>EXCELENTE SEMIPISO 3 AMB C/BALCON LUMINOSO EN ...</td>\n",
              "    </tr>\n",
              "    <tr>\n",
              "      <th>...</th>\n",
              "      <td>...</td>\n",
              "      <td>...</td>\n",
              "    </tr>\n",
              "    <tr>\n",
              "      <th>18600</th>\n",
              "      <td>g2fBcuyxiq3V0GdPATLFDw==</td>\n",
              "      <td>Venta DEPARTAMENTO 2 Ambientes Villa Ortuzar. ...</td>\n",
              "    </tr>\n",
              "    <tr>\n",
              "      <th>18601</th>\n",
              "      <td>2jfcV70r5M8iASKFbpFEqA==</td>\n",
              "      <td>Departamento a estrenar monoambiente, luminoso...</td>\n",
              "    </tr>\n",
              "    <tr>\n",
              "      <th>18602</th>\n",
              "      <td>H4X7bNq04pK7U6fCcbxYNg==</td>\n",
              "      <td>Corredor Responsable: Daniel Acosta - CUCICBA ...</td>\n",
              "    </tr>\n",
              "    <tr>\n",
              "      <th>18603</th>\n",
              "      <td>QWBP5Zp0TBUlFrzP9GO9bA==</td>\n",
              "      <td>El departamento se ubica en la PB y contiene:&lt;...</td>\n",
              "    </tr>\n",
              "    <tr>\n",
              "      <th>18604</th>\n",
              "      <td>pKo6hHHPBZJydrHIn5S5Tg==</td>\n",
              "      <td>Departamento tipo PH en el hermoso edificio hi...</td>\n",
              "    </tr>\n",
              "  </tbody>\n",
              "</table>\n",
              "<p>18605 rows × 2 columns</p>\n",
              "</div>\n",
              "      <button class=\"colab-df-convert\" onclick=\"convertToInteractive('df-96724d6a-831a-4ab7-ace0-862bbe7ba2c7')\"\n",
              "              title=\"Convert this dataframe to an interactive table.\"\n",
              "              style=\"display:none;\">\n",
              "        \n",
              "  <svg xmlns=\"http://www.w3.org/2000/svg\" height=\"24px\"viewBox=\"0 0 24 24\"\n",
              "       width=\"24px\">\n",
              "    <path d=\"M0 0h24v24H0V0z\" fill=\"none\"/>\n",
              "    <path d=\"M18.56 5.44l.94 2.06.94-2.06 2.06-.94-2.06-.94-.94-2.06-.94 2.06-2.06.94zm-11 1L8.5 8.5l.94-2.06 2.06-.94-2.06-.94L8.5 2.5l-.94 2.06-2.06.94zm10 10l.94 2.06.94-2.06 2.06-.94-2.06-.94-.94-2.06-.94 2.06-2.06.94z\"/><path d=\"M17.41 7.96l-1.37-1.37c-.4-.4-.92-.59-1.43-.59-.52 0-1.04.2-1.43.59L10.3 9.45l-7.72 7.72c-.78.78-.78 2.05 0 2.83L4 21.41c.39.39.9.59 1.41.59.51 0 1.02-.2 1.41-.59l7.78-7.78 2.81-2.81c.8-.78.8-2.07 0-2.86zM5.41 20L4 18.59l7.72-7.72 1.47 1.35L5.41 20z\"/>\n",
              "  </svg>\n",
              "      </button>\n",
              "      \n",
              "  <style>\n",
              "    .colab-df-container {\n",
              "      display:flex;\n",
              "      flex-wrap:wrap;\n",
              "      gap: 12px;\n",
              "    }\n",
              "\n",
              "    .colab-df-convert {\n",
              "      background-color: #E8F0FE;\n",
              "      border: none;\n",
              "      border-radius: 50%;\n",
              "      cursor: pointer;\n",
              "      display: none;\n",
              "      fill: #1967D2;\n",
              "      height: 32px;\n",
              "      padding: 0 0 0 0;\n",
              "      width: 32px;\n",
              "    }\n",
              "\n",
              "    .colab-df-convert:hover {\n",
              "      background-color: #E2EBFA;\n",
              "      box-shadow: 0px 1px 2px rgba(60, 64, 67, 0.3), 0px 1px 3px 1px rgba(60, 64, 67, 0.15);\n",
              "      fill: #174EA6;\n",
              "    }\n",
              "\n",
              "    [theme=dark] .colab-df-convert {\n",
              "      background-color: #3B4455;\n",
              "      fill: #D2E3FC;\n",
              "    }\n",
              "\n",
              "    [theme=dark] .colab-df-convert:hover {\n",
              "      background-color: #434B5C;\n",
              "      box-shadow: 0px 1px 3px 1px rgba(0, 0, 0, 0.15);\n",
              "      filter: drop-shadow(0px 1px 2px rgba(0, 0, 0, 0.3));\n",
              "      fill: #FFFFFF;\n",
              "    }\n",
              "  </style>\n",
              "\n",
              "      <script>\n",
              "        const buttonEl =\n",
              "          document.querySelector('#df-96724d6a-831a-4ab7-ace0-862bbe7ba2c7 button.colab-df-convert');\n",
              "        buttonEl.style.display =\n",
              "          google.colab.kernel.accessAllowed ? 'block' : 'none';\n",
              "\n",
              "        async function convertToInteractive(key) {\n",
              "          const element = document.querySelector('#df-96724d6a-831a-4ab7-ace0-862bbe7ba2c7');\n",
              "          const dataTable =\n",
              "            await google.colab.kernel.invokeFunction('convertToInteractive',\n",
              "                                                     [key], {});\n",
              "          if (!dataTable) return;\n",
              "\n",
              "          const docLinkHtml = 'Like what you see? Visit the ' +\n",
              "            '<a target=\"_blank\" href=https://colab.research.google.com/notebooks/data_table.ipynb>data table notebook</a>'\n",
              "            + ' to learn more about interactive tables.';\n",
              "          element.innerHTML = '';\n",
              "          dataTable['output_type'] = 'display_data';\n",
              "          await google.colab.output.renderOutput(dataTable, element);\n",
              "          const docLink = document.createElement('div');\n",
              "          docLink.innerHTML = docLinkHtml;\n",
              "          element.appendChild(docLink);\n",
              "        }\n",
              "      </script>\n",
              "    </div>\n",
              "  </div>\n",
              "  "
            ]
          },
          "metadata": {},
          "execution_count": 38
        }
      ],
      "source": [
        "df_test_descrip"
      ]
    },
    {
      "cell_type": "markdown",
      "metadata": {
        "id": "uCEL8YyUxYaa"
      },
      "source": [
        "Busquemos aspectos de una propiedad utilizando la columna `property_description`."
      ]
    },
    {
      "cell_type": "markdown",
      "metadata": {
        "id": "tAEE-G_QzCXj"
      },
      "source": [
        "Veamos cuántos registros nulos existen:"
      ]
    },
    {
      "cell_type": "code",
      "execution_count": 39,
      "metadata": {
        "colab": {
          "base_uri": "https://localhost:8080/"
        },
        "id": "ydHTArN62DpA",
        "outputId": "29210cd5-3448-4103-cd5a-bcdad34687b8"
      },
      "outputs": [
        {
          "output_type": "stream",
          "name": "stdout",
          "text": [
            "Hay 0 datos nulos.\n"
          ]
        }
      ],
      "source": [
        "print(f\"Hay {df_descrip['property_description'].isna().sum()} datos nulos.\")"
      ]
    },
    {
      "cell_type": "markdown",
      "metadata": {
        "id": "t4hiRECrz3Wa"
      },
      "source": [
        "Veamos cuáles son las 100 palabras más comunes en el campo de descripción de propiedades:"
      ]
    },
    {
      "cell_type": "code",
      "execution_count": 40,
      "metadata": {
        "colab": {
          "base_uri": "https://localhost:8080/"
        },
        "id": "WpAlq6jJ2DpC",
        "outputId": "54b6c68a-9861-4488-8f3c-09476bc93f04"
      },
      "outputs": [
        {
          "output_type": "execute_result",
          "data": {
            "text/plain": [
              "[('de', 857976),\n",
              " ('y', 507778),\n",
              " ('con', 401867),\n",
              " ('la', 290195),\n",
              " ('en', 278176),\n",
              " ('a', 243751),\n",
              " ('el', 169952),\n",
              " ('del', 153279),\n",
              " ('que', 140055),\n",
              " ('por', 133635),\n",
              " ('al', 125215),\n",
              " ('-', 113875),\n",
              " ('un', 103716),\n",
              " ('las', 90713),\n",
              " ('los', 88435),\n",
              " ('para', 88190),\n",
              " ('se', 63109),\n",
              " ('DE', 56457),\n",
              " ('son', 56420),\n",
              " ('2', 52790),\n",
              " ('es', 50384),\n",
              " ('una', 48927),\n",
              " ('3', 41258),\n",
              " ('cocina', 38889),\n",
              " ('ambientes', 38848),\n",
              " ('valor', 38420),\n",
              " ('esta', 38292),\n",
              " ('muy', 36893),\n",
              " ('x', 36800),\n",
              " ('Av.', 36630),\n",
              " ('comedor', 35535),\n",
              " ('baño', 35476),\n",
              " ('Y', 34141),\n",
              " ('CON', 33915),\n",
              " ('no', 33912),\n",
              " ('piso', 33348),\n",
              " ('o', 33050),\n",
              " ('/', 32253),\n",
              " ('tu', 32101),\n",
              " ('A', 32063),\n",
              " ('hasta', 30269),\n",
              " ('balcón', 29805),\n",
              " ('inmueble', 28725),\n",
              " ('casa', 28655),\n",
              " ('No', 28635),\n",
              " ('propiedad.', 28070),\n",
              " ('30%', 27684),\n",
              " ('departamento', 27670),\n",
              " ('EN', 27267),\n",
              " ('cuadras', 27069),\n",
              " ('Corredor', 26991),\n",
              " ('préstamo', 26920),\n",
              " ('cuota', 26780),\n",
              " ('medidas', 26422),\n",
              " ('Responsable:', 25970),\n",
              " ('living', 25952),\n",
              " ('4', 25848),\n",
              " ('Lendar', 25571),\n",
              " ('querés!', 25421),\n",
              " ('podés.', 25362),\n",
              " ('Accedé', 25354),\n",
              " ('Simulá', 25349),\n",
              " ('#', 25248),\n",
              " ('ID', 25231),\n",
              " ('MLS', 25227),\n",
              " ('CUCICBA', 24648),\n",
              " ('El', 24541),\n",
              " ('edificio', 24305),\n",
              " ('dos', 24304),\n",
              " ('cuenta', 24241),\n",
              " ('personas', 23936),\n",
              " ('completo', 23797),\n",
              " ('propiedad', 23309),\n",
              " ('salida', 23058),\n",
              " ('parte', 22277),\n",
              " (',', 22138),\n",
              " ('pisos', 21621),\n",
              " ('encuentra', 21617),\n",
              " ('frente', 21612),\n",
              " ('Las', 21073),\n",
              " ('1', 20964),\n",
              " ('amplio', 20885),\n",
              " ('Comprá', 20793),\n",
              " ('\\\\n\\\\n', 20732),\n",
              " ('vista', 19912),\n",
              " ('presente', 19511),\n",
              " ('dormitorio', 19499),\n",
              " ('Ley', 19317),\n",
              " ('gran', 19096),\n",
              " ('La', 18859),\n",
              " ('placard', 18483),\n",
              " ('espacio', 18475),\n",
              " ('metros', 18400),\n",
              " ('m2', 17976),\n",
              " ('Los', 17521),\n",
              " ('<br>', 17369),\n",
              " ('accesible', 17076),\n",
              " ('su', 16596),\n",
              " ('dormitorios', 16161),\n",
              " ('sobre', 16145)]"
            ]
          },
          "metadata": {},
          "execution_count": 40
        }
      ],
      "source": [
        "Counter(\" \".join(df_descrip[\"property_description\"]).split()).most_common(100)"
      ]
    },
    {
      "cell_type": "markdown",
      "metadata": {
        "id": "iwnQ6tgt0MRV"
      },
      "source": [
        "Podemos observar que podríamos optimizar el texto mediante algunas técnicas de reducción y/o transformación. Entre otras:"
      ]
    },
    {
      "cell_type": "markdown",
      "metadata": {
        "id": "qK78Ucya0Ugr"
      },
      "source": [
        "Eliminemos la etiqueta `<br>` de html:"
      ]
    },
    {
      "cell_type": "code",
      "execution_count": 41,
      "metadata": {
        "id": "_o_B51Zk0hGz"
      },
      "outputs": [],
      "source": [
        "df_descrip[\"property_description\"] = df_descrip[\"property_description\"].apply(lambda line: line.replace(\"<br>\", \" \"))\n",
        "df_test_descrip[\"property_description\"] = df_test_descrip[\"property_description\"].apply(lambda line: line.replace(\"<br>\", \" \"))"
      ]
    },
    {
      "cell_type": "markdown",
      "metadata": {
        "id": "pyNp4Y520yHS"
      },
      "source": [
        "Transformemos todas las palabras a minúsculas, de modo que el contador no realice distinciones:"
      ]
    },
    {
      "cell_type": "code",
      "execution_count": 42,
      "metadata": {
        "id": "VWBmcgfI04Ge"
      },
      "outputs": [],
      "source": [
        "df_descrip[\"property_description\"] = df_descrip[\"property_description\"].apply(lambda line: line.lower())\n",
        "df_test_descrip[\"property_description\"] = df_test_descrip[\"property_description\"].apply(lambda line: line.lower())\n"
      ]
    },
    {
      "cell_type": "markdown",
      "metadata": {
        "id": "WpSPMtks1bZz"
      },
      "source": [
        "Quitemos los tíldes de las letras:"
      ]
    },
    {
      "cell_type": "code",
      "execution_count": 43,
      "metadata": {
        "id": "KWHrTmAG1dGn"
      },
      "outputs": [],
      "source": [
        "df_descrip[\"property_description\"] = df_descrip[\"property_description\"].apply(lambda line: unidecode.unidecode(line))\n",
        "df_test_descrip[\"property_description\"] = df_test_descrip[\"property_description\"].apply(lambda line: unidecode.unidecode(line))"
      ]
    },
    {
      "cell_type": "markdown",
      "metadata": {
        "id": "tpUndCZy1j2X"
      },
      "source": [
        "Eliminemos los símbolos:"
      ]
    },
    {
      "cell_type": "code",
      "execution_count": 44,
      "metadata": {
        "id": "sWcF2SIJ1lfG"
      },
      "outputs": [],
      "source": [
        "df_descrip[\"property_description\"] = df_descrip[\"property_description\"].apply(lambda line: re.sub(r'[^\\w]', ' ', line))\n",
        "df_test_descrip[\"property_description\"] = df_test_descrip[\"property_description\"].apply(lambda line: re.sub(r'[^\\w]', ' ', line))"
      ]
    },
    {
      "cell_type": "markdown",
      "metadata": {
        "id": "bdqDlvqN1rL1"
      },
      "source": [
        "Eliminemos los espacios múltiples entre palabras:"
      ]
    },
    {
      "cell_type": "code",
      "execution_count": 45,
      "metadata": {
        "id": "uQvajcwC2DpE"
      },
      "outputs": [],
      "source": [
        "df_descrip[\"property_description\"] = df_descrip[\"property_description\"].apply(lambda line: re.sub(\"\\s\\s+\" , \" \", line))\n",
        "df_test_descrip[\"property_description\"] = df_test_descrip[\"property_description\"].apply(lambda line: re.sub(\"\\s\\s+\" , \" \", line))"
      ]
    },
    {
      "cell_type": "markdown",
      "metadata": {
        "id": "BzcWZSJY4GPs"
      },
      "source": [
        "Utilizando el contenido del archivo `stop_words.txt`, eliminemos palabras sin significado del datset y coloquemos los cambios en uno nuevo:"
      ]
    },
    {
      "cell_type": "code",
      "execution_count": 46,
      "metadata": {
        "id": "FrOeCCBY2DpF"
      },
      "outputs": [],
      "source": [
        "with open(stop_words) as f:\n",
        "    lines = f.read().splitlines()\n",
        "\n",
        "f = lambda x: ' '.join([item for item in x.split() if item not in lines])\n",
        "\n",
        "df_descrip[\"property_description\"] = df_descrip[\"property_description\"].apply(f)\n",
        "df_test_descrip[\"property_description\"] = df_test_descrip[\"property_description\"].apply(f)"
      ]
    },
    {
      "cell_type": "markdown",
      "metadata": {
        "id": "JYXs-85EVQwx"
      },
      "source": [
        "Luego de estas transformaciones, veamos cuáles son las palabras más utilizadas:"
      ]
    },
    {
      "cell_type": "code",
      "execution_count": 47,
      "metadata": {
        "id": "FNYcv0DM2DpG",
        "colab": {
          "base_uri": "https://localhost:8080/"
        },
        "outputId": "b2f01a9a-c8bf-4c98-e071-3bb2fb08d98b"
      },
      "outputs": [
        {
          "output_type": "execute_result",
          "data": {
            "text/plain": [
              "[('cocina', 89456),\n",
              " ('2', 88135),\n",
              " ('bano', 74427),\n",
              " ('3', 74274),\n",
              " ('ambientes', 71516),\n",
              " ('balcon', 71288),\n",
              " ('comedor', 68490),\n",
              " ('piso', 67830),\n",
              " ('living', 63835),\n",
              " ('propiedad', 62558),\n",
              " ('departamento', 54476),\n",
              " ('edificio', 53419),\n",
              " ('av', 50583),\n",
              " ('1', 50142),\n",
              " ('dormitorio', 48859),\n",
              " ('completo', 48391),\n",
              " ('pisos', 46211),\n",
              " ('4', 45870),\n",
              " ('frente', 44713),\n",
              " ('expensas', 44285),\n",
              " ('n', 44023),\n",
              " ('excelente', 41313),\n",
              " ('corredor', 41145),\n",
              " ('medidas', 41046),\n",
              " ('x', 40904),\n",
              " ('inmueble', 40569),\n",
              " ('responsable', 37723),\n",
              " ('amplio', 36354),\n",
              " ('m2', 34044),\n",
              " ('30', 34027),\n",
              " ('placard', 33948),\n",
              " ('casa', 32676),\n",
              " ('dormitorios', 32257),\n",
              " ('lavadero', 31875),\n",
              " ('c', 31791),\n",
              " ('cuadras', 31165),\n",
              " ('luminoso', 30549),\n",
              " ('cucicba', 30414),\n",
              " ('accede', 29382),\n",
              " ('terraza', 29328),\n",
              " ('ley', 27849),\n",
              " ('aire', 27700),\n",
              " ('lendar', 27449),\n",
              " ('queres', 27416),\n",
              " ('prestamo', 27366),\n",
              " ('vista', 26980),\n",
              " ('venta', 26865),\n",
              " ('cuota', 26856),\n",
              " ('podes', 26580),\n",
              " ('salida', 26111),\n",
              " ('ubicacion', 25546),\n",
              " ('simula', 25536),\n",
              " ('id', 25235),\n",
              " ('cochera', 25233),\n",
              " ('mls', 25230),\n",
              " ('personas', 24976),\n",
              " ('espacio', 24793),\n",
              " ('5', 24267),\n",
              " ('planta', 23607),\n",
              " ('zona', 23396),\n",
              " ('compra', 23246),\n",
              " ('metros', 23075),\n",
              " ('independiente', 23073),\n",
              " ('inmobiliario', 22866),\n",
              " ('patio', 22293),\n",
              " ('servicio', 22214),\n",
              " ('principal', 21845),\n",
              " ('barrio', 21305),\n",
              " ('ubicado', 21087),\n",
              " ('linea', 20909),\n",
              " ('parrilla', 20747),\n",
              " ('mesada', 20701),\n",
              " ('suite', 20635),\n",
              " ('toilette', 20554),\n",
              " ('acceso', 20482),\n",
              " ('presente', 19926),\n",
              " ('servicios', 19773),\n",
              " ('accesible', 19275),\n",
              " ('subte', 18715),\n",
              " ('unidades', 18413),\n",
              " ('agua', 18368),\n",
              " ('mas', 18246),\n",
              " ('acondicionado', 18043),\n",
              " ('hall', 17968),\n",
              " ('b', 17717),\n",
              " ('operacion', 17568),\n",
              " ('aviso', 17401),\n",
              " ('unidad', 16996),\n",
              " ('24', 16901),\n",
              " ('comercial', 16525),\n",
              " ('madera', 16499),\n",
              " ('doble', 16414),\n",
              " ('propietario', 16374),\n",
              " ('calefaccion', 16294),\n",
              " ('calidad', 16139),\n",
              " ('entrada', 15982),\n",
              " ('discapacidades', 15931),\n",
              " ('informacion', 15902),\n",
              " ('estacion', 15816),\n",
              " ('operaciones', 15668)]"
            ]
          },
          "metadata": {},
          "execution_count": 47
        }
      ],
      "source": [
        "Counter(\" \".join(df_descrip[\"property_description\"]).split()).most_common(100)"
      ]
    },
    {
      "cell_type": "code",
      "source": [
        "sorted_idx = XGB_Regressor.feature_importances_.argsort()\n",
        "sorted_idx = sorted_idx[-15:]\n",
        "plt.barh(df_test_dummies.columns[sorted_idx], XGB_Regressor.feature_importances_[sorted_idx])\n",
        "plt.xlabel(\"Xgboost Feature Importance\")"
      ],
      "metadata": {
        "id": "DPh_Q-PC5oq1"
      },
      "execution_count": null,
      "outputs": []
    },
    {
      "cell_type": "markdown",
      "metadata": {
        "collapsed": false,
        "id": "Ai_Odw_x2DpG"
      },
      "source": [
        "Seleccionemos los aspectos que nos parecen relevantes, para luego buscar sus posibles valores.\n",
        "\n",
        "Para esto, elegimos: `cocina`, `pisos`, `calefaccion`, `expensas`, `lavadero`, `balcon`, `cochera` y `aire` y limpiamos cualquier tipo de formato restante en el dataset:"
      ]
    },
    {
      "cell_type": "code",
      "execution_count": 48,
      "metadata": {
        "id": "BkHpD1gtB7e_"
      },
      "outputs": [],
      "source": [
        "aspectos = ['cocina', 'pisos', 'calefaccion', 'expensas', 'lavadero', 'balcon', 'cochera', 'aire']"
      ]
    },
    {
      "cell_type": "code",
      "execution_count": 51,
      "metadata": {
        "id": "AnaswxtR2DpH"
      },
      "outputs": [],
      "source": [
        "for word in aspectos:\n",
        "    df_descrip[word] = df_descrip[\"property_description\"].apply(lambda line: format_aspects(line, word))\n",
        "    df_test_descrip[word] = df_test_descrip[\"property_description\"].apply(lambda line: format_aspects(line, word))"
      ]
    },
    {
      "cell_type": "markdown",
      "metadata": {
        "id": "EDsk7Bjgx116"
      },
      "source": [
        "Veamos cuáles son las 15 palabras más comunes para cada uno de los aspectos elegidos:"
      ]
    },
    {
      "cell_type": "code",
      "execution_count": 52,
      "metadata": {
        "id": "eYdLqsvGyNcj"
      },
      "outputs": [],
      "source": [
        "cant_val_aspectos = 15"
      ]
    },
    {
      "cell_type": "markdown",
      "metadata": {
        "id": "wWJKdB85y1l0"
      },
      "source": [
        "#### Aspecto `cocina`\n",
        "\n",
        "\n"
      ]
    },
    {
      "cell_type": "code",
      "execution_count": 53,
      "metadata": {
        "id": "l-7v9FP82DpH",
        "colab": {
          "base_uri": "https://localhost:8080/"
        },
        "outputId": "d8885ff9-f71c-4623-aaba-7547e5459f08"
      },
      "outputs": [
        {
          "output_type": "execute_result",
          "data": {
            "text/plain": [
              "[('cocina', 62808),\n",
              " ('comedor', 19198),\n",
              " ('integrada', 11530),\n",
              " ('living', 9979),\n",
              " ('bano', 8949),\n",
              " ('lavadero', 6978),\n",
              " ('balcon', 6225),\n",
              " ('independiente', 6077),\n",
              " ('completo', 5385),\n",
              " ('diario', 4992),\n",
              " ('muebles', 4829),\n",
              " ('separada', 4746),\n",
              " ('amplia', 4518),\n",
              " ('toilette', 3963),\n",
              " ('completa', 3692)]"
            ]
          },
          "metadata": {},
          "execution_count": 53
        }
      ],
      "source": [
        "Counter(\" \".join(df_descrip[\"cocina\"]).split()).most_common(cant_val_aspectos)"
      ]
    },
    {
      "cell_type": "markdown",
      "metadata": {
        "collapsed": false,
        "id": "6ACLlV0F2DpI"
      },
      "source": [
        "Para `cocina`, los valores podrían ser: \n",
        "- integrada\n",
        "- lavadero\n",
        "- completa"
      ]
    },
    {
      "cell_type": "markdown",
      "metadata": {
        "id": "1XQ4TVyUzSqc"
      },
      "source": [
        "#### Aspecto `pisos`"
      ]
    },
    {
      "cell_type": "code",
      "execution_count": 54,
      "metadata": {
        "id": "UQQMsrnL2DpI",
        "colab": {
          "base_uri": "https://localhost:8080/"
        },
        "outputId": "daece343-564a-479e-d781-ffb6964ff0d2"
      },
      "outputs": [
        {
          "output_type": "execute_result",
          "data": {
            "text/plain": [
              "[('pisos', 31828),\n",
              " ('parquet', 6394),\n",
              " ('madera', 4426),\n",
              " ('porcelanato', 4025),\n",
              " ('living', 3671),\n",
              " ('edificio', 3621),\n",
              " ('comedor', 3155),\n",
              " ('unidades', 1821),\n",
              " ('cocina', 1754),\n",
              " ('departamentos', 1662),\n",
              " ('bano', 1576),\n",
              " ('2', 1411),\n",
              " ('4', 1313),\n",
              " ('3', 1241),\n",
              " ('ambientes', 1201)]"
            ]
          },
          "metadata": {},
          "execution_count": 54
        }
      ],
      "source": [
        "Counter(\" \".join(df_descrip[\"pisos\"]).split()).most_common(cant_val_aspectos)"
      ]
    },
    {
      "cell_type": "markdown",
      "metadata": {
        "collapsed": false,
        "id": "l39ZahiN2DpJ"
      },
      "source": [
        "Para `pisos`, los valores podrían ser: \n",
        "- porcelanato\n",
        "- parquet\n",
        "- madera"
      ]
    },
    {
      "cell_type": "markdown",
      "metadata": {
        "id": "a4pG3YbW1wnt"
      },
      "source": [
        "#### Aspecto `calefaccion`"
      ]
    },
    {
      "cell_type": "code",
      "execution_count": 55,
      "metadata": {
        "id": "RPZApHfA2DpJ",
        "colab": {
          "base_uri": "https://localhost:8080/"
        },
        "outputId": "d9f98a93-1404-4b93-9162-5d7613b11540"
      },
      "outputs": [
        {
          "output_type": "execute_result",
          "data": {
            "text/plain": [
              "[('calefaccion', 15446),\n",
              " ('radiante', 4448),\n",
              " ('losa', 3916),\n",
              " ('central', 3444),\n",
              " ('caliente', 2653),\n",
              " ('agua', 2257),\n",
              " ('radiadores', 2052),\n",
              " ('individual', 1921),\n",
              " ('aire', 1777),\n",
              " ('piso', 1527),\n",
              " ('caldera', 1246),\n",
              " ('tiro', 1197),\n",
              " ('acondicionado', 1097),\n",
              " ('servicios', 1056),\n",
              " ('ambientes', 798)]"
            ]
          },
          "metadata": {},
          "execution_count": 55
        }
      ],
      "source": [
        "Counter(\" \".join(df_descrip[\"calefaccion\"]).split()).most_common(cant_val_aspectos)"
      ]
    },
    {
      "cell_type": "markdown",
      "metadata": {
        "collapsed": false,
        "id": "Mt-7dfsl2DpK"
      },
      "source": [
        "Para `calefaccion`, los valores podrían ser: \n",
        "- radiadores\n",
        "- radiante\n",
        "- central\n",
        "- individual"
      ]
    },
    {
      "cell_type": "markdown",
      "metadata": {
        "id": "XfzRZc861ysa"
      },
      "source": [
        "#### Aspecto `expensas`"
      ]
    },
    {
      "cell_type": "code",
      "execution_count": 56,
      "metadata": {
        "id": "iRKPdGhA2DpK",
        "colab": {
          "base_uri": "https://localhost:8080/"
        },
        "outputId": "3f577c27-94bc-4289-acfe-1ab1b02c00bb"
      },
      "outputs": [
        {
          "output_type": "execute_result",
          "data": {
            "text/plain": [
              "[('expensas', 35163),\n",
              " ('servicios', 6846),\n",
              " ('impuestos', 5906),\n",
              " ('valores', 5559),\n",
              " ('bajas', 4879),\n",
              " ('funcionales', 4365),\n",
              " ('000', 3296),\n",
              " ('abl', 2445),\n",
              " ('medidas', 1959),\n",
              " ('aysa', 1606),\n",
              " ('sujetos', 1542),\n",
              " ('propiedad', 1276),\n",
              " ('superficies', 1260),\n",
              " ('indicados', 1242),\n",
              " ('consignadas', 1189),\n",
              " ('2021', 1147),\n",
              " ('tasas', 1143),\n",
              " ('mensuales', 1138),\n",
              " ('consignado', 1084),\n",
              " ('gastos', 1053),\n",
              " ('presente', 1046),\n",
              " ('ambientes', 1044),\n",
              " ('sujeto', 947),\n",
              " ('500', 942),\n",
              " ('edificio', 915),\n",
              " ('aprox', 867),\n",
              " ('4', 835),\n",
              " ('incluyen', 829),\n",
              " ('2', 819),\n",
              " ('3', 806)]"
            ]
          },
          "metadata": {},
          "execution_count": 56
        }
      ],
      "source": [
        "Counter(\" \".join(df_descrip[\"expensas\"]).split()).most_common(cant_val_aspectos*2)"
      ]
    },
    {
      "cell_type": "markdown",
      "metadata": {
        "collapsed": false,
        "id": "C7EiojY82DpK"
      },
      "source": [
        "Para `expensas`, los valores podrían ser: \n",
        "- servicios\n",
        "- impuestos \n",
        "- bajas"
      ]
    },
    {
      "cell_type": "markdown",
      "metadata": {
        "id": "ZVVvuLxu11U0"
      },
      "source": [
        "#### Aspecto `lavadero`"
      ]
    },
    {
      "cell_type": "code",
      "execution_count": 57,
      "metadata": {
        "id": "sAzBKC5c2DpK",
        "colab": {
          "base_uri": "https://localhost:8080/"
        },
        "outputId": "fe9a0900-7f48-4371-fca0-f6d6ed1c2adb"
      },
      "outputs": [
        {
          "output_type": "execute_result",
          "data": {
            "text/plain": [
              "[('lavadero', 28548),\n",
              " ('independiente', 7972),\n",
              " ('cocina', 7923),\n",
              " ('comedor', 4376),\n",
              " ('bano', 4342),\n",
              " ('diario', 3175),\n",
              " ('servicio', 2922),\n",
              " ('dependencia', 2920),\n",
              " ('incorporado', 2506),\n",
              " ('completo', 2102),\n",
              " ('patio', 1882),\n",
              " ('separado', 1807),\n",
              " ('balcon', 1738),\n",
              " ('espacio', 1736),\n",
              " ('toilette', 1385)]"
            ]
          },
          "metadata": {},
          "execution_count": 57
        }
      ],
      "source": [
        "Counter(\" \".join(df_descrip[\"lavadero\"]).split()).most_common(cant_val_aspectos)"
      ]
    },
    {
      "cell_type": "markdown",
      "metadata": {
        "collapsed": false,
        "id": "i8zxU-Co2DpL"
      },
      "source": [
        "Para `lavadero`, los valores podrían ser: \n",
        "- independiente\n",
        "- cocina\n",
        "- comedor"
      ]
    },
    {
      "cell_type": "markdown",
      "metadata": {
        "id": "0opxhwgx122i"
      },
      "source": [
        "#### Aspecto `balcon`"
      ]
    },
    {
      "cell_type": "code",
      "execution_count": 58,
      "metadata": {
        "id": "geCmhGct2DpL",
        "colab": {
          "base_uri": "https://localhost:8080/"
        },
        "outputId": "9fc3514d-e62c-4e98-a455-06f306429a0a"
      },
      "outputs": [
        {
          "output_type": "execute_result",
          "data": {
            "text/plain": [
              "[('balcon', 42917),\n",
              " ('salida', 9996),\n",
              " ('frente', 9711),\n",
              " ('comedor', 8052),\n",
              " ('ambientes', 6387),\n",
              " ('corrido', 6126),\n",
              " ('cocina', 4569),\n",
              " ('living', 4207),\n",
              " ('vista', 4051),\n",
              " ('amplio', 3716),\n",
              " ('terraza', 3682),\n",
              " ('aterrazado', 3172),\n",
              " ('2', 3151),\n",
              " ('luminoso', 2855),\n",
              " ('3', 2684)]"
            ]
          },
          "metadata": {},
          "execution_count": 58
        }
      ],
      "source": [
        "Counter(\" \".join(df_descrip[\"balcon\"]).split()).most_common(cant_val_aspectos)"
      ]
    },
    {
      "cell_type": "markdown",
      "metadata": {
        "collapsed": false,
        "id": "GUiM00PQ2DpL"
      },
      "source": [
        "Para `balcon`, los valores podrían ser: \n",
        "- frente\n",
        "- amplio \n",
        "- terraza \n",
        "- salida \n",
        "- corrido\n",
        "- luminoso"
      ]
    },
    {
      "cell_type": "markdown",
      "metadata": {
        "id": "W05qxE7f138s"
      },
      "source": [
        "#### Aspecto `cochera`"
      ]
    },
    {
      "cell_type": "code",
      "execution_count": 59,
      "metadata": {
        "id": "vF7x7sFV2DpL",
        "colab": {
          "base_uri": "https://localhost:8080/"
        },
        "outputId": "add8b57c-0969-49bc-d094-137d02afba17"
      },
      "outputs": [
        {
          "output_type": "execute_result",
          "data": {
            "text/plain": [
              "[('cochera', 17208),\n",
              " ('cocheras', 7359),\n",
              " ('fija', 4756),\n",
              " ('cubierta', 4118),\n",
              " ('ambientes', 3484),\n",
              " ('baulera', 2863),\n",
              " ('2', 2467),\n",
              " ('edificio', 2119),\n",
              " ('balcon', 1521),\n",
              " ('3', 1399),\n",
              " ('opcional', 1307),\n",
              " ('1', 1132),\n",
              " ('fijas', 1080),\n",
              " ('terraza', 1007),\n",
              " ('dependencia', 979),\n",
              " ('posibilidad', 958),\n",
              " ('piso', 826),\n",
              " ('frente', 780),\n",
              " ('bano', 760),\n",
              " ('disponibles', 759),\n",
              " ('departamento', 759),\n",
              " ('4', 753),\n",
              " ('servicio', 729),\n",
              " ('planta', 701),\n",
              " ('parrilla', 699),\n",
              " ('espacio', 615),\n",
              " ('subsuelo', 598),\n",
              " ('amenities', 586),\n",
              " ('completo', 553),\n",
              " ('patio', 525)]"
            ]
          },
          "metadata": {},
          "execution_count": 59
        }
      ],
      "source": [
        "Counter(\" \".join(df_descrip[\"cochera\"]).split()).most_common(cant_val_aspectos*2)"
      ]
    },
    {
      "cell_type": "markdown",
      "metadata": {
        "collapsed": false,
        "id": "_sGYjhjF2DpM"
      },
      "source": [
        "Para `cochera`, los valores podrían ser: \n",
        "- fija\n",
        "- cubierta"
      ]
    },
    {
      "cell_type": "markdown",
      "metadata": {
        "id": "ehAh9leY2Lfu"
      },
      "source": [
        "#### Aspecto `aire`"
      ]
    },
    {
      "cell_type": "code",
      "execution_count": 60,
      "metadata": {
        "id": "eQlqeMRa2DpM",
        "colab": {
          "base_uri": "https://localhost:8080/"
        },
        "outputId": "a1796fdf-a7be-45ce-ab3f-d0806e9c103e"
      },
      "outputs": [
        {
          "output_type": "execute_result",
          "data": {
            "text/plain": [
              "[('aire', 20578),\n",
              " ('acondicionado', 14337),\n",
              " ('frio', 5985),\n",
              " ('aires', 5809),\n",
              " ('split', 2204),\n",
              " ('ciudad', 2020),\n",
              " ('acondicionados', 1961),\n",
              " ('luz', 1851),\n",
              " ('equipos', 1585),\n",
              " ('calefaccion', 1493),\n",
              " ('instalacion', 1413),\n",
              " ('ambientes', 1411),\n",
              " ('living', 1138),\n",
              " ('central', 1062),\n",
              " ('balcon', 1002)]"
            ]
          },
          "metadata": {},
          "execution_count": 60
        }
      ],
      "source": [
        "Counter(\" \".join(df_descrip[\"aire\"]).split()).most_common(cant_val_aspectos)"
      ]
    },
    {
      "cell_type": "markdown",
      "metadata": {
        "collapsed": false,
        "id": "9hWHT90P2DpM"
      },
      "source": [
        "Para `aire`, posibles valores son: \n",
        "- split \n",
        "- central \n",
        "- acondicionado"
      ]
    },
    {
      "cell_type": "markdown",
      "metadata": {
        "id": "fF4R61si2RJI"
      },
      "source": [
        "#### Consolidación de valores"
      ]
    },
    {
      "cell_type": "markdown",
      "metadata": {
        "collapsed": false,
        "id": "ZTu9pPYV2DpN"
      },
      "source": [
        "A continuación creamos la variable `values`, que contiene los posibles valores para cada uno de los aspectos elegidos:"
      ]
    },
    {
      "cell_type": "code",
      "execution_count": 61,
      "metadata": {
        "id": "8woiCcO32DpN"
      },
      "outputs": [],
      "source": [
        "values_cocina = ['integrada' , 'lavadero' , 'completa']\n",
        "values_pisos = ['porcelanato' , 'parquet' , 'madera']\n",
        "values_calefaccion = ['radiadores' , 'radiante' , 'central' , 'individual']\n",
        "values_expensas = ['serviocios' , 'impuestos' , 'bajas']\n",
        "values_lavadero = ['independiente' , 'cocina' , 'comedor']\n",
        "values_balcon = ['frente' , 'amplio' , 'terraza' , 'salida' , 'corrido' , 'luminoso']\n",
        "values_cochera = ['fija' , 'cubierta']\n",
        "values_aire = ['split' , 'central' , 'acondicionado']"
      ]
    },
    {
      "cell_type": "code",
      "execution_count": 62,
      "metadata": {
        "id": "CFU_0j0EGUE5"
      },
      "outputs": [],
      "source": [
        "values = [values_cocina, values_pisos, values_calefaccion, values_expensas, values_lavadero, values_balcon, values_cochera, values_aire]"
      ]
    },
    {
      "cell_type": "markdown",
      "metadata": {
        "collapsed": false,
        "id": "B9JpAzOi2DpN"
      },
      "source": [
        "En primer lugar, creamos un dataset auxiliar que tenga los IDs y las columnas de los aspectos:"
      ]
    },
    {
      "cell_type": "code",
      "execution_count": 63,
      "metadata": {
        "id": "Z617kPUE2DpN"
      },
      "outputs": [],
      "source": [
        "aux_df = df_descrip.copy()\n",
        "aux_df_test = df_test_descrip.copy()\n",
        "\n",
        "aux_df.drop('property_description', inplace=True, axis=1)\n",
        "aux_df_test.drop('property_description', inplace=True, axis=1)"
      ]
    },
    {
      "cell_type": "markdown",
      "metadata": {
        "collapsed": false,
        "id": "qpHzefm72DpO"
      },
      "source": [
        "Luego creamos una función a la que -pasándole un dataset, los aspectos y el listado de valores posibles- reemplace el contenido de las columnas por los valores correspondientes."
      ]
    },
    {
      "cell_type": "markdown",
      "metadata": {
        "collapsed": false,
        "id": "8A7lmncH2DpO"
      },
      "source": [
        "Modificamos las columnas de los aspectos, para que sólo queden los valores correspondientes:"
      ]
    },
    {
      "cell_type": "code",
      "execution_count": 64,
      "metadata": {
        "id": "WXhzGxCl2DpO",
        "colab": {
          "base_uri": "https://localhost:8080/",
          "height": 0
        },
        "outputId": "0c3b96cf-64b3-4c31-c917-e1f7f1521186"
      },
      "outputs": [
        {
          "output_type": "execute_result",
          "data": {
            "text/plain": [
              "                          id    cocina pisos calefaccion   expensas  \\\n",
              "0   mQStJ0NPSYuW7WA/0yOYuA==                                          \n",
              "1   Gi/LqlLpBXSMH9vD5kWUcw==                                          \n",
              "2   iYU9D39208HZ55k43esCsQ==                    radiante              \n",
              "3   u8oPwCg2R/C105SlZ9nlaQ==  lavadero                                \n",
              "4   RZ744+VZFnLS5FWxmtTJ7A==                    radiante              \n",
              "5   NbzjXoT+aeAnxr2lTv1Whw==                    radiante              \n",
              "6   5lBJkaOpRzdbcOFuJ59/4A==  lavadero                                \n",
              "7   WUZ/JS1/1oszsRErSr8PJg==                                          \n",
              "8   EKIOdcAhuwcww5BfkZ+6ig==                                          \n",
              "9   QmnVieT3iXh1oktdzYLRlw==                                          \n",
              "10  hwKrPY/jtN9LHTfrBn0icQ==                                          \n",
              "11  22U4lOQGJ/V8qegwRwe8lw==                                          \n",
              "12  pcjSyDd82IYXeVAPrpXjyw==                                          \n",
              "13  GfWpjTvrEdhVibSYOUXiAA==                                          \n",
              "14  M5IUi8ASsbZEycYtMbzxdw==                                          \n",
              "15  MMvaHE4jydryetM6loC2nw==                                          \n",
              "16  8QDiKrZx64C0FxyfLsesHA==                                          \n",
              "17  70wNmuUXl6DK0PjTj/6/2A==                                          \n",
              "18  0doVMJvCbwNr0TYfUtkMQg==                              impuestos   \n",
              "19  zp/cmtmUY2AlxUYMnXBKbw==                                          \n",
              "\n",
              "         lavadero   balcon cochera           aire  \n",
              "0         comedor  terraza                         \n",
              "1                                                  \n",
              "2                  terraza                         \n",
              "3          cocina   salida                         \n",
              "4                  terraza                         \n",
              "5                  terraza                         \n",
              "6          cocina                                  \n",
              "7                                                  \n",
              "8                                                  \n",
              "9                                                  \n",
              "10                                                 \n",
              "11                                                 \n",
              "12                                                 \n",
              "13                                                 \n",
              "14                                                 \n",
              "15                                                 \n",
              "16                                                 \n",
              "17                                                 \n",
              "18                                                 \n",
              "19  independiente  terraza          acondicionado  "
            ],
            "text/html": [
              "\n",
              "  <div id=\"df-296538b0-fd2b-4b6f-934b-7ee4ba606e10\">\n",
              "    <div class=\"colab-df-container\">\n",
              "      <div>\n",
              "<style scoped>\n",
              "    .dataframe tbody tr th:only-of-type {\n",
              "        vertical-align: middle;\n",
              "    }\n",
              "\n",
              "    .dataframe tbody tr th {\n",
              "        vertical-align: top;\n",
              "    }\n",
              "\n",
              "    .dataframe thead th {\n",
              "        text-align: right;\n",
              "    }\n",
              "</style>\n",
              "<table border=\"1\" class=\"dataframe\">\n",
              "  <thead>\n",
              "    <tr style=\"text-align: right;\">\n",
              "      <th></th>\n",
              "      <th>id</th>\n",
              "      <th>cocina</th>\n",
              "      <th>pisos</th>\n",
              "      <th>calefaccion</th>\n",
              "      <th>expensas</th>\n",
              "      <th>lavadero</th>\n",
              "      <th>balcon</th>\n",
              "      <th>cochera</th>\n",
              "      <th>aire</th>\n",
              "    </tr>\n",
              "  </thead>\n",
              "  <tbody>\n",
              "    <tr>\n",
              "      <th>0</th>\n",
              "      <td>mQStJ0NPSYuW7WA/0yOYuA==</td>\n",
              "      <td></td>\n",
              "      <td></td>\n",
              "      <td></td>\n",
              "      <td></td>\n",
              "      <td>comedor</td>\n",
              "      <td>terraza</td>\n",
              "      <td></td>\n",
              "      <td></td>\n",
              "    </tr>\n",
              "    <tr>\n",
              "      <th>1</th>\n",
              "      <td>Gi/LqlLpBXSMH9vD5kWUcw==</td>\n",
              "      <td></td>\n",
              "      <td></td>\n",
              "      <td></td>\n",
              "      <td></td>\n",
              "      <td></td>\n",
              "      <td></td>\n",
              "      <td></td>\n",
              "      <td></td>\n",
              "    </tr>\n",
              "    <tr>\n",
              "      <th>2</th>\n",
              "      <td>iYU9D39208HZ55k43esCsQ==</td>\n",
              "      <td></td>\n",
              "      <td></td>\n",
              "      <td>radiante</td>\n",
              "      <td></td>\n",
              "      <td></td>\n",
              "      <td>terraza</td>\n",
              "      <td></td>\n",
              "      <td></td>\n",
              "    </tr>\n",
              "    <tr>\n",
              "      <th>3</th>\n",
              "      <td>u8oPwCg2R/C105SlZ9nlaQ==</td>\n",
              "      <td>lavadero</td>\n",
              "      <td></td>\n",
              "      <td></td>\n",
              "      <td></td>\n",
              "      <td>cocina</td>\n",
              "      <td>salida</td>\n",
              "      <td></td>\n",
              "      <td></td>\n",
              "    </tr>\n",
              "    <tr>\n",
              "      <th>4</th>\n",
              "      <td>RZ744+VZFnLS5FWxmtTJ7A==</td>\n",
              "      <td></td>\n",
              "      <td></td>\n",
              "      <td>radiante</td>\n",
              "      <td></td>\n",
              "      <td></td>\n",
              "      <td>terraza</td>\n",
              "      <td></td>\n",
              "      <td></td>\n",
              "    </tr>\n",
              "    <tr>\n",
              "      <th>5</th>\n",
              "      <td>NbzjXoT+aeAnxr2lTv1Whw==</td>\n",
              "      <td></td>\n",
              "      <td></td>\n",
              "      <td>radiante</td>\n",
              "      <td></td>\n",
              "      <td></td>\n",
              "      <td>terraza</td>\n",
              "      <td></td>\n",
              "      <td></td>\n",
              "    </tr>\n",
              "    <tr>\n",
              "      <th>6</th>\n",
              "      <td>5lBJkaOpRzdbcOFuJ59/4A==</td>\n",
              "      <td>lavadero</td>\n",
              "      <td></td>\n",
              "      <td></td>\n",
              "      <td></td>\n",
              "      <td>cocina</td>\n",
              "      <td></td>\n",
              "      <td></td>\n",
              "      <td></td>\n",
              "    </tr>\n",
              "    <tr>\n",
              "      <th>7</th>\n",
              "      <td>WUZ/JS1/1oszsRErSr8PJg==</td>\n",
              "      <td></td>\n",
              "      <td></td>\n",
              "      <td></td>\n",
              "      <td></td>\n",
              "      <td></td>\n",
              "      <td></td>\n",
              "      <td></td>\n",
              "      <td></td>\n",
              "    </tr>\n",
              "    <tr>\n",
              "      <th>8</th>\n",
              "      <td>EKIOdcAhuwcww5BfkZ+6ig==</td>\n",
              "      <td></td>\n",
              "      <td></td>\n",
              "      <td></td>\n",
              "      <td></td>\n",
              "      <td></td>\n",
              "      <td></td>\n",
              "      <td></td>\n",
              "      <td></td>\n",
              "    </tr>\n",
              "    <tr>\n",
              "      <th>9</th>\n",
              "      <td>QmnVieT3iXh1oktdzYLRlw==</td>\n",
              "      <td></td>\n",
              "      <td></td>\n",
              "      <td></td>\n",
              "      <td></td>\n",
              "      <td></td>\n",
              "      <td></td>\n",
              "      <td></td>\n",
              "      <td></td>\n",
              "    </tr>\n",
              "    <tr>\n",
              "      <th>10</th>\n",
              "      <td>hwKrPY/jtN9LHTfrBn0icQ==</td>\n",
              "      <td></td>\n",
              "      <td></td>\n",
              "      <td></td>\n",
              "      <td></td>\n",
              "      <td></td>\n",
              "      <td></td>\n",
              "      <td></td>\n",
              "      <td></td>\n",
              "    </tr>\n",
              "    <tr>\n",
              "      <th>11</th>\n",
              "      <td>22U4lOQGJ/V8qegwRwe8lw==</td>\n",
              "      <td></td>\n",
              "      <td></td>\n",
              "      <td></td>\n",
              "      <td></td>\n",
              "      <td></td>\n",
              "      <td></td>\n",
              "      <td></td>\n",
              "      <td></td>\n",
              "    </tr>\n",
              "    <tr>\n",
              "      <th>12</th>\n",
              "      <td>pcjSyDd82IYXeVAPrpXjyw==</td>\n",
              "      <td></td>\n",
              "      <td></td>\n",
              "      <td></td>\n",
              "      <td></td>\n",
              "      <td></td>\n",
              "      <td></td>\n",
              "      <td></td>\n",
              "      <td></td>\n",
              "    </tr>\n",
              "    <tr>\n",
              "      <th>13</th>\n",
              "      <td>GfWpjTvrEdhVibSYOUXiAA==</td>\n",
              "      <td></td>\n",
              "      <td></td>\n",
              "      <td></td>\n",
              "      <td></td>\n",
              "      <td></td>\n",
              "      <td></td>\n",
              "      <td></td>\n",
              "      <td></td>\n",
              "    </tr>\n",
              "    <tr>\n",
              "      <th>14</th>\n",
              "      <td>M5IUi8ASsbZEycYtMbzxdw==</td>\n",
              "      <td></td>\n",
              "      <td></td>\n",
              "      <td></td>\n",
              "      <td></td>\n",
              "      <td></td>\n",
              "      <td></td>\n",
              "      <td></td>\n",
              "      <td></td>\n",
              "    </tr>\n",
              "    <tr>\n",
              "      <th>15</th>\n",
              "      <td>MMvaHE4jydryetM6loC2nw==</td>\n",
              "      <td></td>\n",
              "      <td></td>\n",
              "      <td></td>\n",
              "      <td></td>\n",
              "      <td></td>\n",
              "      <td></td>\n",
              "      <td></td>\n",
              "      <td></td>\n",
              "    </tr>\n",
              "    <tr>\n",
              "      <th>16</th>\n",
              "      <td>8QDiKrZx64C0FxyfLsesHA==</td>\n",
              "      <td></td>\n",
              "      <td></td>\n",
              "      <td></td>\n",
              "      <td></td>\n",
              "      <td></td>\n",
              "      <td></td>\n",
              "      <td></td>\n",
              "      <td></td>\n",
              "    </tr>\n",
              "    <tr>\n",
              "      <th>17</th>\n",
              "      <td>70wNmuUXl6DK0PjTj/6/2A==</td>\n",
              "      <td></td>\n",
              "      <td></td>\n",
              "      <td></td>\n",
              "      <td></td>\n",
              "      <td></td>\n",
              "      <td></td>\n",
              "      <td></td>\n",
              "      <td></td>\n",
              "    </tr>\n",
              "    <tr>\n",
              "      <th>18</th>\n",
              "      <td>0doVMJvCbwNr0TYfUtkMQg==</td>\n",
              "      <td></td>\n",
              "      <td></td>\n",
              "      <td></td>\n",
              "      <td>impuestos</td>\n",
              "      <td></td>\n",
              "      <td></td>\n",
              "      <td></td>\n",
              "      <td></td>\n",
              "    </tr>\n",
              "    <tr>\n",
              "      <th>19</th>\n",
              "      <td>zp/cmtmUY2AlxUYMnXBKbw==</td>\n",
              "      <td></td>\n",
              "      <td></td>\n",
              "      <td></td>\n",
              "      <td></td>\n",
              "      <td>independiente</td>\n",
              "      <td>terraza</td>\n",
              "      <td></td>\n",
              "      <td>acondicionado</td>\n",
              "    </tr>\n",
              "  </tbody>\n",
              "</table>\n",
              "</div>\n",
              "      <button class=\"colab-df-convert\" onclick=\"convertToInteractive('df-296538b0-fd2b-4b6f-934b-7ee4ba606e10')\"\n",
              "              title=\"Convert this dataframe to an interactive table.\"\n",
              "              style=\"display:none;\">\n",
              "        \n",
              "  <svg xmlns=\"http://www.w3.org/2000/svg\" height=\"24px\"viewBox=\"0 0 24 24\"\n",
              "       width=\"24px\">\n",
              "    <path d=\"M0 0h24v24H0V0z\" fill=\"none\"/>\n",
              "    <path d=\"M18.56 5.44l.94 2.06.94-2.06 2.06-.94-2.06-.94-.94-2.06-.94 2.06-2.06.94zm-11 1L8.5 8.5l.94-2.06 2.06-.94-2.06-.94L8.5 2.5l-.94 2.06-2.06.94zm10 10l.94 2.06.94-2.06 2.06-.94-2.06-.94-.94-2.06-.94 2.06-2.06.94z\"/><path d=\"M17.41 7.96l-1.37-1.37c-.4-.4-.92-.59-1.43-.59-.52 0-1.04.2-1.43.59L10.3 9.45l-7.72 7.72c-.78.78-.78 2.05 0 2.83L4 21.41c.39.39.9.59 1.41.59.51 0 1.02-.2 1.41-.59l7.78-7.78 2.81-2.81c.8-.78.8-2.07 0-2.86zM5.41 20L4 18.59l7.72-7.72 1.47 1.35L5.41 20z\"/>\n",
              "  </svg>\n",
              "      </button>\n",
              "      \n",
              "  <style>\n",
              "    .colab-df-container {\n",
              "      display:flex;\n",
              "      flex-wrap:wrap;\n",
              "      gap: 12px;\n",
              "    }\n",
              "\n",
              "    .colab-df-convert {\n",
              "      background-color: #E8F0FE;\n",
              "      border: none;\n",
              "      border-radius: 50%;\n",
              "      cursor: pointer;\n",
              "      display: none;\n",
              "      fill: #1967D2;\n",
              "      height: 32px;\n",
              "      padding: 0 0 0 0;\n",
              "      width: 32px;\n",
              "    }\n",
              "\n",
              "    .colab-df-convert:hover {\n",
              "      background-color: #E2EBFA;\n",
              "      box-shadow: 0px 1px 2px rgba(60, 64, 67, 0.3), 0px 1px 3px 1px rgba(60, 64, 67, 0.15);\n",
              "      fill: #174EA6;\n",
              "    }\n",
              "\n",
              "    [theme=dark] .colab-df-convert {\n",
              "      background-color: #3B4455;\n",
              "      fill: #D2E3FC;\n",
              "    }\n",
              "\n",
              "    [theme=dark] .colab-df-convert:hover {\n",
              "      background-color: #434B5C;\n",
              "      box-shadow: 0px 1px 3px 1px rgba(0, 0, 0, 0.15);\n",
              "      filter: drop-shadow(0px 1px 2px rgba(0, 0, 0, 0.3));\n",
              "      fill: #FFFFFF;\n",
              "    }\n",
              "  </style>\n",
              "\n",
              "      <script>\n",
              "        const buttonEl =\n",
              "          document.querySelector('#df-296538b0-fd2b-4b6f-934b-7ee4ba606e10 button.colab-df-convert');\n",
              "        buttonEl.style.display =\n",
              "          google.colab.kernel.accessAllowed ? 'block' : 'none';\n",
              "\n",
              "        async function convertToInteractive(key) {\n",
              "          const element = document.querySelector('#df-296538b0-fd2b-4b6f-934b-7ee4ba606e10');\n",
              "          const dataTable =\n",
              "            await google.colab.kernel.invokeFunction('convertToInteractive',\n",
              "                                                     [key], {});\n",
              "          if (!dataTable) return;\n",
              "\n",
              "          const docLinkHtml = 'Like what you see? Visit the ' +\n",
              "            '<a target=\"_blank\" href=https://colab.research.google.com/notebooks/data_table.ipynb>data table notebook</a>'\n",
              "            + ' to learn more about interactive tables.';\n",
              "          element.innerHTML = '';\n",
              "          dataTable['output_type'] = 'display_data';\n",
              "          await google.colab.output.renderOutput(dataTable, element);\n",
              "          const docLink = document.createElement('div');\n",
              "          docLink.innerHTML = docLinkHtml;\n",
              "          element.appendChild(docLink);\n",
              "        }\n",
              "      </script>\n",
              "    </div>\n",
              "  </div>\n",
              "  "
            ]
          },
          "metadata": {},
          "execution_count": 64
        }
      ],
      "source": [
        "limpiar_values_de_aspects(aux_df, aspectos, values)\n",
        "limpiar_values_de_aspects(aux_df_test, aspectos, values)\n",
        "aux_df.head(20)"
      ]
    },
    {
      "cell_type": "markdown",
      "metadata": {
        "collapsed": false,
        "id": "Ia2LxOLq2DpP"
      },
      "source": [
        "Por último hacemos el merge con el dataset original, teniendo en cuenta los IDs:"
      ]
    },
    {
      "cell_type": "code",
      "execution_count": 65,
      "metadata": {
        "id": "I2x-X60t2DpP",
        "colab": {
          "base_uri": "https://localhost:8080/",
          "height": 0
        },
        "outputId": "08805b35-b557-4e91-eb31-f3cfe2a84d3d"
      },
      "outputs": [
        {
          "output_type": "execute_result",
          "data": {
            "text/plain": [
              "    start_date  end_date    latitud   longitud  property_rooms  \\\n",
              "0       737971    737991 -34.576973 -58.406591             7.0   \n",
              "1       737867    737868 -34.610046 -58.361382             4.0   \n",
              "2       737875    738097 -34.569770 -58.431032             4.0   \n",
              "3       738132    738182 -34.579756 -58.406144             3.0   \n",
              "4       737875    738097 -34.569770 -58.431032             4.0   \n",
              "5       737875    738097 -34.569770 -58.431032             4.0   \n",
              "6       738019    738182 -34.647545 -58.497062             5.0   \n",
              "7       737829    737871 -34.608300 -58.371200             5.0   \n",
              "8       737838    737847 -34.605406 -58.400957             1.0   \n",
              "9       737956    738048 -34.592467 -58.445158             1.0   \n",
              "10      737999    738001 -34.562379 -58.454491             3.0   \n",
              "11      737999    738001 -34.628692 -58.463322             3.0   \n",
              "12      737999    738001 -34.562379 -58.454491             3.0   \n",
              "13      737999    738001 -34.605478 -58.404722             3.0   \n",
              "14      737860    737946 -34.605862 -58.422360             3.0   \n",
              "15      737999    738002 -34.593817 -58.404138             3.0   \n",
              "16      737999    738001 -34.628692 -58.463322             3.0   \n",
              "17      737999    738001 -34.605478 -58.404722             3.0   \n",
              "18      737924    737924 -34.633013 -58.527117             2.0   \n",
              "19      737910    737918 -34.562379 -58.454491             5.0   \n",
              "\n",
              "    property_surface_total  place_l4_Agronomía  place_l4_Almagro  \\\n",
              "0                    415.0                   0                 0   \n",
              "1                    194.0                   0                 0   \n",
              "2                    260.0                   0                 0   \n",
              "3                    120.0                   0                 0   \n",
              "4                    165.0                   0                 0   \n",
              "5                    165.0                   0                 0   \n",
              "6                    132.0                   0                 0   \n",
              "7                    300.0                   0                 0   \n",
              "8                    325.0                   0                 0   \n",
              "9                    122.0                   0                 0   \n",
              "10                    50.0                   0                 0   \n",
              "11                    50.0                   0                 0   \n",
              "12                    50.0                   0                 0   \n",
              "13                    50.0                   0                 0   \n",
              "14                    50.0                   0                 1   \n",
              "15                    50.0                   0                 0   \n",
              "16                    50.0                   0                 0   \n",
              "17                    50.0                   0                 0   \n",
              "18                   240.0                   0                 0   \n",
              "19                   139.0                   0                 0   \n",
              "\n",
              "    place_l4_Balvanera  place_l4_Barracas  ...  property_type_Departamento  \\\n",
              "0                    0                  0  ...                           1   \n",
              "1                    0                  0  ...                           1   \n",
              "2                    0                  0  ...                           1   \n",
              "3                    0                  0  ...                           1   \n",
              "4                    0                  0  ...                           1   \n",
              "5                    0                  0  ...                           1   \n",
              "6                    0                  0  ...                           0   \n",
              "7                    0                  0  ...                           0   \n",
              "8                    0                  0  ...                           1   \n",
              "9                    0                  0  ...                           1   \n",
              "10                   0                  0  ...                           0   \n",
              "11                   0                  0  ...                           1   \n",
              "12                   0                  0  ...                           1   \n",
              "13                   0                  0  ...                           1   \n",
              "14                   0                  0  ...                           1   \n",
              "15                   0                  0  ...                           1   \n",
              "16                   0                  0  ...                           0   \n",
              "17                   0                  0  ...                           0   \n",
              "18                   0                  0  ...                           0   \n",
              "19                   0                  0  ...                           1   \n",
              "\n",
              "    property_type_PH    cocina  pisos  calefaccion   expensas       lavadero  \\\n",
              "0                  0                                                 comedor   \n",
              "1                  0                                                           \n",
              "2                  0                      radiante                             \n",
              "3                  0  lavadero                                        cocina   \n",
              "4                  0                      radiante                             \n",
              "5                  0                      radiante                             \n",
              "6                  1  lavadero                                        cocina   \n",
              "7                  0                                                           \n",
              "8                  0                                                           \n",
              "9                  0                                                           \n",
              "10                 1                                                           \n",
              "11                 0                                                           \n",
              "12                 0                                                           \n",
              "13                 0                                                           \n",
              "14                 0                                                           \n",
              "15                 0                                                           \n",
              "16                 1                                                           \n",
              "17                 1                                                           \n",
              "18                 0                                impuestos                  \n",
              "19                 0                                           independiente   \n",
              "\n",
              "     balcon  cochera           aire  \n",
              "0   terraza                          \n",
              "1                                    \n",
              "2   terraza                          \n",
              "3    salida                          \n",
              "4   terraza                          \n",
              "5   terraza                          \n",
              "6                                    \n",
              "7                                    \n",
              "8                                    \n",
              "9                                    \n",
              "10                                   \n",
              "11                                   \n",
              "12                                   \n",
              "13                                   \n",
              "14                                   \n",
              "15                                   \n",
              "16                                   \n",
              "17                                   \n",
              "18                                   \n",
              "19  terraza           acondicionado  \n",
              "\n",
              "[20 rows x 77 columns]"
            ],
            "text/html": [
              "\n",
              "  <div id=\"df-6376cabe-ce88-4b78-8724-dca922c419a2\">\n",
              "    <div class=\"colab-df-container\">\n",
              "      <div>\n",
              "<style scoped>\n",
              "    .dataframe tbody tr th:only-of-type {\n",
              "        vertical-align: middle;\n",
              "    }\n",
              "\n",
              "    .dataframe tbody tr th {\n",
              "        vertical-align: top;\n",
              "    }\n",
              "\n",
              "    .dataframe thead th {\n",
              "        text-align: right;\n",
              "    }\n",
              "</style>\n",
              "<table border=\"1\" class=\"dataframe\">\n",
              "  <thead>\n",
              "    <tr style=\"text-align: right;\">\n",
              "      <th></th>\n",
              "      <th>start_date</th>\n",
              "      <th>end_date</th>\n",
              "      <th>latitud</th>\n",
              "      <th>longitud</th>\n",
              "      <th>property_rooms</th>\n",
              "      <th>property_surface_total</th>\n",
              "      <th>place_l4_Agronomía</th>\n",
              "      <th>place_l4_Almagro</th>\n",
              "      <th>place_l4_Balvanera</th>\n",
              "      <th>place_l4_Barracas</th>\n",
              "      <th>...</th>\n",
              "      <th>property_type_Departamento</th>\n",
              "      <th>property_type_PH</th>\n",
              "      <th>cocina</th>\n",
              "      <th>pisos</th>\n",
              "      <th>calefaccion</th>\n",
              "      <th>expensas</th>\n",
              "      <th>lavadero</th>\n",
              "      <th>balcon</th>\n",
              "      <th>cochera</th>\n",
              "      <th>aire</th>\n",
              "    </tr>\n",
              "  </thead>\n",
              "  <tbody>\n",
              "    <tr>\n",
              "      <th>0</th>\n",
              "      <td>737971</td>\n",
              "      <td>737991</td>\n",
              "      <td>-34.576973</td>\n",
              "      <td>-58.406591</td>\n",
              "      <td>7.0</td>\n",
              "      <td>415.0</td>\n",
              "      <td>0</td>\n",
              "      <td>0</td>\n",
              "      <td>0</td>\n",
              "      <td>0</td>\n",
              "      <td>...</td>\n",
              "      <td>1</td>\n",
              "      <td>0</td>\n",
              "      <td></td>\n",
              "      <td></td>\n",
              "      <td></td>\n",
              "      <td></td>\n",
              "      <td>comedor</td>\n",
              "      <td>terraza</td>\n",
              "      <td></td>\n",
              "      <td></td>\n",
              "    </tr>\n",
              "    <tr>\n",
              "      <th>1</th>\n",
              "      <td>737867</td>\n",
              "      <td>737868</td>\n",
              "      <td>-34.610046</td>\n",
              "      <td>-58.361382</td>\n",
              "      <td>4.0</td>\n",
              "      <td>194.0</td>\n",
              "      <td>0</td>\n",
              "      <td>0</td>\n",
              "      <td>0</td>\n",
              "      <td>0</td>\n",
              "      <td>...</td>\n",
              "      <td>1</td>\n",
              "      <td>0</td>\n",
              "      <td></td>\n",
              "      <td></td>\n",
              "      <td></td>\n",
              "      <td></td>\n",
              "      <td></td>\n",
              "      <td></td>\n",
              "      <td></td>\n",
              "      <td></td>\n",
              "    </tr>\n",
              "    <tr>\n",
              "      <th>2</th>\n",
              "      <td>737875</td>\n",
              "      <td>738097</td>\n",
              "      <td>-34.569770</td>\n",
              "      <td>-58.431032</td>\n",
              "      <td>4.0</td>\n",
              "      <td>260.0</td>\n",
              "      <td>0</td>\n",
              "      <td>0</td>\n",
              "      <td>0</td>\n",
              "      <td>0</td>\n",
              "      <td>...</td>\n",
              "      <td>1</td>\n",
              "      <td>0</td>\n",
              "      <td></td>\n",
              "      <td></td>\n",
              "      <td>radiante</td>\n",
              "      <td></td>\n",
              "      <td></td>\n",
              "      <td>terraza</td>\n",
              "      <td></td>\n",
              "      <td></td>\n",
              "    </tr>\n",
              "    <tr>\n",
              "      <th>3</th>\n",
              "      <td>738132</td>\n",
              "      <td>738182</td>\n",
              "      <td>-34.579756</td>\n",
              "      <td>-58.406144</td>\n",
              "      <td>3.0</td>\n",
              "      <td>120.0</td>\n",
              "      <td>0</td>\n",
              "      <td>0</td>\n",
              "      <td>0</td>\n",
              "      <td>0</td>\n",
              "      <td>...</td>\n",
              "      <td>1</td>\n",
              "      <td>0</td>\n",
              "      <td>lavadero</td>\n",
              "      <td></td>\n",
              "      <td></td>\n",
              "      <td></td>\n",
              "      <td>cocina</td>\n",
              "      <td>salida</td>\n",
              "      <td></td>\n",
              "      <td></td>\n",
              "    </tr>\n",
              "    <tr>\n",
              "      <th>4</th>\n",
              "      <td>737875</td>\n",
              "      <td>738097</td>\n",
              "      <td>-34.569770</td>\n",
              "      <td>-58.431032</td>\n",
              "      <td>4.0</td>\n",
              "      <td>165.0</td>\n",
              "      <td>0</td>\n",
              "      <td>0</td>\n",
              "      <td>0</td>\n",
              "      <td>0</td>\n",
              "      <td>...</td>\n",
              "      <td>1</td>\n",
              "      <td>0</td>\n",
              "      <td></td>\n",
              "      <td></td>\n",
              "      <td>radiante</td>\n",
              "      <td></td>\n",
              "      <td></td>\n",
              "      <td>terraza</td>\n",
              "      <td></td>\n",
              "      <td></td>\n",
              "    </tr>\n",
              "    <tr>\n",
              "      <th>5</th>\n",
              "      <td>737875</td>\n",
              "      <td>738097</td>\n",
              "      <td>-34.569770</td>\n",
              "      <td>-58.431032</td>\n",
              "      <td>4.0</td>\n",
              "      <td>165.0</td>\n",
              "      <td>0</td>\n",
              "      <td>0</td>\n",
              "      <td>0</td>\n",
              "      <td>0</td>\n",
              "      <td>...</td>\n",
              "      <td>1</td>\n",
              "      <td>0</td>\n",
              "      <td></td>\n",
              "      <td></td>\n",
              "      <td>radiante</td>\n",
              "      <td></td>\n",
              "      <td></td>\n",
              "      <td>terraza</td>\n",
              "      <td></td>\n",
              "      <td></td>\n",
              "    </tr>\n",
              "    <tr>\n",
              "      <th>6</th>\n",
              "      <td>738019</td>\n",
              "      <td>738182</td>\n",
              "      <td>-34.647545</td>\n",
              "      <td>-58.497062</td>\n",
              "      <td>5.0</td>\n",
              "      <td>132.0</td>\n",
              "      <td>0</td>\n",
              "      <td>0</td>\n",
              "      <td>0</td>\n",
              "      <td>0</td>\n",
              "      <td>...</td>\n",
              "      <td>0</td>\n",
              "      <td>1</td>\n",
              "      <td>lavadero</td>\n",
              "      <td></td>\n",
              "      <td></td>\n",
              "      <td></td>\n",
              "      <td>cocina</td>\n",
              "      <td></td>\n",
              "      <td></td>\n",
              "      <td></td>\n",
              "    </tr>\n",
              "    <tr>\n",
              "      <th>7</th>\n",
              "      <td>737829</td>\n",
              "      <td>737871</td>\n",
              "      <td>-34.608300</td>\n",
              "      <td>-58.371200</td>\n",
              "      <td>5.0</td>\n",
              "      <td>300.0</td>\n",
              "      <td>0</td>\n",
              "      <td>0</td>\n",
              "      <td>0</td>\n",
              "      <td>0</td>\n",
              "      <td>...</td>\n",
              "      <td>0</td>\n",
              "      <td>0</td>\n",
              "      <td></td>\n",
              "      <td></td>\n",
              "      <td></td>\n",
              "      <td></td>\n",
              "      <td></td>\n",
              "      <td></td>\n",
              "      <td></td>\n",
              "      <td></td>\n",
              "    </tr>\n",
              "    <tr>\n",
              "      <th>8</th>\n",
              "      <td>737838</td>\n",
              "      <td>737847</td>\n",
              "      <td>-34.605406</td>\n",
              "      <td>-58.400957</td>\n",
              "      <td>1.0</td>\n",
              "      <td>325.0</td>\n",
              "      <td>0</td>\n",
              "      <td>0</td>\n",
              "      <td>0</td>\n",
              "      <td>0</td>\n",
              "      <td>...</td>\n",
              "      <td>1</td>\n",
              "      <td>0</td>\n",
              "      <td></td>\n",
              "      <td></td>\n",
              "      <td></td>\n",
              "      <td></td>\n",
              "      <td></td>\n",
              "      <td></td>\n",
              "      <td></td>\n",
              "      <td></td>\n",
              "    </tr>\n",
              "    <tr>\n",
              "      <th>9</th>\n",
              "      <td>737956</td>\n",
              "      <td>738048</td>\n",
              "      <td>-34.592467</td>\n",
              "      <td>-58.445158</td>\n",
              "      <td>1.0</td>\n",
              "      <td>122.0</td>\n",
              "      <td>0</td>\n",
              "      <td>0</td>\n",
              "      <td>0</td>\n",
              "      <td>0</td>\n",
              "      <td>...</td>\n",
              "      <td>1</td>\n",
              "      <td>0</td>\n",
              "      <td></td>\n",
              "      <td></td>\n",
              "      <td></td>\n",
              "      <td></td>\n",
              "      <td></td>\n",
              "      <td></td>\n",
              "      <td></td>\n",
              "      <td></td>\n",
              "    </tr>\n",
              "    <tr>\n",
              "      <th>10</th>\n",
              "      <td>737999</td>\n",
              "      <td>738001</td>\n",
              "      <td>-34.562379</td>\n",
              "      <td>-58.454491</td>\n",
              "      <td>3.0</td>\n",
              "      <td>50.0</td>\n",
              "      <td>0</td>\n",
              "      <td>0</td>\n",
              "      <td>0</td>\n",
              "      <td>0</td>\n",
              "      <td>...</td>\n",
              "      <td>0</td>\n",
              "      <td>1</td>\n",
              "      <td></td>\n",
              "      <td></td>\n",
              "      <td></td>\n",
              "      <td></td>\n",
              "      <td></td>\n",
              "      <td></td>\n",
              "      <td></td>\n",
              "      <td></td>\n",
              "    </tr>\n",
              "    <tr>\n",
              "      <th>11</th>\n",
              "      <td>737999</td>\n",
              "      <td>738001</td>\n",
              "      <td>-34.628692</td>\n",
              "      <td>-58.463322</td>\n",
              "      <td>3.0</td>\n",
              "      <td>50.0</td>\n",
              "      <td>0</td>\n",
              "      <td>0</td>\n",
              "      <td>0</td>\n",
              "      <td>0</td>\n",
              "      <td>...</td>\n",
              "      <td>1</td>\n",
              "      <td>0</td>\n",
              "      <td></td>\n",
              "      <td></td>\n",
              "      <td></td>\n",
              "      <td></td>\n",
              "      <td></td>\n",
              "      <td></td>\n",
              "      <td></td>\n",
              "      <td></td>\n",
              "    </tr>\n",
              "    <tr>\n",
              "      <th>12</th>\n",
              "      <td>737999</td>\n",
              "      <td>738001</td>\n",
              "      <td>-34.562379</td>\n",
              "      <td>-58.454491</td>\n",
              "      <td>3.0</td>\n",
              "      <td>50.0</td>\n",
              "      <td>0</td>\n",
              "      <td>0</td>\n",
              "      <td>0</td>\n",
              "      <td>0</td>\n",
              "      <td>...</td>\n",
              "      <td>1</td>\n",
              "      <td>0</td>\n",
              "      <td></td>\n",
              "      <td></td>\n",
              "      <td></td>\n",
              "      <td></td>\n",
              "      <td></td>\n",
              "      <td></td>\n",
              "      <td></td>\n",
              "      <td></td>\n",
              "    </tr>\n",
              "    <tr>\n",
              "      <th>13</th>\n",
              "      <td>737999</td>\n",
              "      <td>738001</td>\n",
              "      <td>-34.605478</td>\n",
              "      <td>-58.404722</td>\n",
              "      <td>3.0</td>\n",
              "      <td>50.0</td>\n",
              "      <td>0</td>\n",
              "      <td>0</td>\n",
              "      <td>0</td>\n",
              "      <td>0</td>\n",
              "      <td>...</td>\n",
              "      <td>1</td>\n",
              "      <td>0</td>\n",
              "      <td></td>\n",
              "      <td></td>\n",
              "      <td></td>\n",
              "      <td></td>\n",
              "      <td></td>\n",
              "      <td></td>\n",
              "      <td></td>\n",
              "      <td></td>\n",
              "    </tr>\n",
              "    <tr>\n",
              "      <th>14</th>\n",
              "      <td>737860</td>\n",
              "      <td>737946</td>\n",
              "      <td>-34.605862</td>\n",
              "      <td>-58.422360</td>\n",
              "      <td>3.0</td>\n",
              "      <td>50.0</td>\n",
              "      <td>0</td>\n",
              "      <td>1</td>\n",
              "      <td>0</td>\n",
              "      <td>0</td>\n",
              "      <td>...</td>\n",
              "      <td>1</td>\n",
              "      <td>0</td>\n",
              "      <td></td>\n",
              "      <td></td>\n",
              "      <td></td>\n",
              "      <td></td>\n",
              "      <td></td>\n",
              "      <td></td>\n",
              "      <td></td>\n",
              "      <td></td>\n",
              "    </tr>\n",
              "    <tr>\n",
              "      <th>15</th>\n",
              "      <td>737999</td>\n",
              "      <td>738002</td>\n",
              "      <td>-34.593817</td>\n",
              "      <td>-58.404138</td>\n",
              "      <td>3.0</td>\n",
              "      <td>50.0</td>\n",
              "      <td>0</td>\n",
              "      <td>0</td>\n",
              "      <td>0</td>\n",
              "      <td>0</td>\n",
              "      <td>...</td>\n",
              "      <td>1</td>\n",
              "      <td>0</td>\n",
              "      <td></td>\n",
              "      <td></td>\n",
              "      <td></td>\n",
              "      <td></td>\n",
              "      <td></td>\n",
              "      <td></td>\n",
              "      <td></td>\n",
              "      <td></td>\n",
              "    </tr>\n",
              "    <tr>\n",
              "      <th>16</th>\n",
              "      <td>737999</td>\n",
              "      <td>738001</td>\n",
              "      <td>-34.628692</td>\n",
              "      <td>-58.463322</td>\n",
              "      <td>3.0</td>\n",
              "      <td>50.0</td>\n",
              "      <td>0</td>\n",
              "      <td>0</td>\n",
              "      <td>0</td>\n",
              "      <td>0</td>\n",
              "      <td>...</td>\n",
              "      <td>0</td>\n",
              "      <td>1</td>\n",
              "      <td></td>\n",
              "      <td></td>\n",
              "      <td></td>\n",
              "      <td></td>\n",
              "      <td></td>\n",
              "      <td></td>\n",
              "      <td></td>\n",
              "      <td></td>\n",
              "    </tr>\n",
              "    <tr>\n",
              "      <th>17</th>\n",
              "      <td>737999</td>\n",
              "      <td>738001</td>\n",
              "      <td>-34.605478</td>\n",
              "      <td>-58.404722</td>\n",
              "      <td>3.0</td>\n",
              "      <td>50.0</td>\n",
              "      <td>0</td>\n",
              "      <td>0</td>\n",
              "      <td>0</td>\n",
              "      <td>0</td>\n",
              "      <td>...</td>\n",
              "      <td>0</td>\n",
              "      <td>1</td>\n",
              "      <td></td>\n",
              "      <td></td>\n",
              "      <td></td>\n",
              "      <td></td>\n",
              "      <td></td>\n",
              "      <td></td>\n",
              "      <td></td>\n",
              "      <td></td>\n",
              "    </tr>\n",
              "    <tr>\n",
              "      <th>18</th>\n",
              "      <td>737924</td>\n",
              "      <td>737924</td>\n",
              "      <td>-34.633013</td>\n",
              "      <td>-58.527117</td>\n",
              "      <td>2.0</td>\n",
              "      <td>240.0</td>\n",
              "      <td>0</td>\n",
              "      <td>0</td>\n",
              "      <td>0</td>\n",
              "      <td>0</td>\n",
              "      <td>...</td>\n",
              "      <td>0</td>\n",
              "      <td>0</td>\n",
              "      <td></td>\n",
              "      <td></td>\n",
              "      <td></td>\n",
              "      <td>impuestos</td>\n",
              "      <td></td>\n",
              "      <td></td>\n",
              "      <td></td>\n",
              "      <td></td>\n",
              "    </tr>\n",
              "    <tr>\n",
              "      <th>19</th>\n",
              "      <td>737910</td>\n",
              "      <td>737918</td>\n",
              "      <td>-34.562379</td>\n",
              "      <td>-58.454491</td>\n",
              "      <td>5.0</td>\n",
              "      <td>139.0</td>\n",
              "      <td>0</td>\n",
              "      <td>0</td>\n",
              "      <td>0</td>\n",
              "      <td>0</td>\n",
              "      <td>...</td>\n",
              "      <td>1</td>\n",
              "      <td>0</td>\n",
              "      <td></td>\n",
              "      <td></td>\n",
              "      <td></td>\n",
              "      <td></td>\n",
              "      <td>independiente</td>\n",
              "      <td>terraza</td>\n",
              "      <td></td>\n",
              "      <td>acondicionado</td>\n",
              "    </tr>\n",
              "  </tbody>\n",
              "</table>\n",
              "<p>20 rows × 77 columns</p>\n",
              "</div>\n",
              "      <button class=\"colab-df-convert\" onclick=\"convertToInteractive('df-6376cabe-ce88-4b78-8724-dca922c419a2')\"\n",
              "              title=\"Convert this dataframe to an interactive table.\"\n",
              "              style=\"display:none;\">\n",
              "        \n",
              "  <svg xmlns=\"http://www.w3.org/2000/svg\" height=\"24px\"viewBox=\"0 0 24 24\"\n",
              "       width=\"24px\">\n",
              "    <path d=\"M0 0h24v24H0V0z\" fill=\"none\"/>\n",
              "    <path d=\"M18.56 5.44l.94 2.06.94-2.06 2.06-.94-2.06-.94-.94-2.06-.94 2.06-2.06.94zm-11 1L8.5 8.5l.94-2.06 2.06-.94-2.06-.94L8.5 2.5l-.94 2.06-2.06.94zm10 10l.94 2.06.94-2.06 2.06-.94-2.06-.94-.94-2.06-.94 2.06-2.06.94z\"/><path d=\"M17.41 7.96l-1.37-1.37c-.4-.4-.92-.59-1.43-.59-.52 0-1.04.2-1.43.59L10.3 9.45l-7.72 7.72c-.78.78-.78 2.05 0 2.83L4 21.41c.39.39.9.59 1.41.59.51 0 1.02-.2 1.41-.59l7.78-7.78 2.81-2.81c.8-.78.8-2.07 0-2.86zM5.41 20L4 18.59l7.72-7.72 1.47 1.35L5.41 20z\"/>\n",
              "  </svg>\n",
              "      </button>\n",
              "      \n",
              "  <style>\n",
              "    .colab-df-container {\n",
              "      display:flex;\n",
              "      flex-wrap:wrap;\n",
              "      gap: 12px;\n",
              "    }\n",
              "\n",
              "    .colab-df-convert {\n",
              "      background-color: #E8F0FE;\n",
              "      border: none;\n",
              "      border-radius: 50%;\n",
              "      cursor: pointer;\n",
              "      display: none;\n",
              "      fill: #1967D2;\n",
              "      height: 32px;\n",
              "      padding: 0 0 0 0;\n",
              "      width: 32px;\n",
              "    }\n",
              "\n",
              "    .colab-df-convert:hover {\n",
              "      background-color: #E2EBFA;\n",
              "      box-shadow: 0px 1px 2px rgba(60, 64, 67, 0.3), 0px 1px 3px 1px rgba(60, 64, 67, 0.15);\n",
              "      fill: #174EA6;\n",
              "    }\n",
              "\n",
              "    [theme=dark] .colab-df-convert {\n",
              "      background-color: #3B4455;\n",
              "      fill: #D2E3FC;\n",
              "    }\n",
              "\n",
              "    [theme=dark] .colab-df-convert:hover {\n",
              "      background-color: #434B5C;\n",
              "      box-shadow: 0px 1px 3px 1px rgba(0, 0, 0, 0.15);\n",
              "      filter: drop-shadow(0px 1px 2px rgba(0, 0, 0, 0.3));\n",
              "      fill: #FFFFFF;\n",
              "    }\n",
              "  </style>\n",
              "\n",
              "      <script>\n",
              "        const buttonEl =\n",
              "          document.querySelector('#df-6376cabe-ce88-4b78-8724-dca922c419a2 button.colab-df-convert');\n",
              "        buttonEl.style.display =\n",
              "          google.colab.kernel.accessAllowed ? 'block' : 'none';\n",
              "\n",
              "        async function convertToInteractive(key) {\n",
              "          const element = document.querySelector('#df-6376cabe-ce88-4b78-8724-dca922c419a2');\n",
              "          const dataTable =\n",
              "            await google.colab.kernel.invokeFunction('convertToInteractive',\n",
              "                                                     [key], {});\n",
              "          if (!dataTable) return;\n",
              "\n",
              "          const docLinkHtml = 'Like what you see? Visit the ' +\n",
              "            '<a target=\"_blank\" href=https://colab.research.google.com/notebooks/data_table.ipynb>data table notebook</a>'\n",
              "            + ' to learn more about interactive tables.';\n",
              "          element.innerHTML = '';\n",
              "          dataTable['output_type'] = 'display_data';\n",
              "          await google.colab.output.renderOutput(dataTable, element);\n",
              "          const docLink = document.createElement('div');\n",
              "          docLink.innerHTML = docLinkHtml;\n",
              "          element.appendChild(docLink);\n",
              "        }\n",
              "      </script>\n",
              "    </div>\n",
              "  </div>\n",
              "  "
            ]
          },
          "metadata": {},
          "execution_count": 65
        }
      ],
      "source": [
        "df = df_train_x.copy()\n",
        "df = pd.merge(df,aux_df, on=\"id\")\n",
        "df.drop(\"id\", inplace=True, axis=\"columns\")\n",
        "\n",
        "df_test = df_test_x.copy()\n",
        "df_test = pd.merge(df_test,aux_df_test, on=\"id\")\n",
        "df_test.drop(\"id\", inplace=True, axis=\"columns\")\n",
        "\n",
        "df.head(20)"
      ]
    },
    {
      "cell_type": "markdown",
      "metadata": {
        "id": "rN3FutIEHrf2"
      },
      "source": [
        "#### Exportación de Datos"
      ]
    },
    {
      "cell_type": "markdown",
      "metadata": {
        "id": "xd-CoUsZHtL9"
      },
      "source": [
        "Exportamos los datasets generados:"
      ]
    },
    {
      "cell_type": "code",
      "execution_count": 66,
      "metadata": {
        "id": "qr1jlB8QH16Z"
      },
      "outputs": [],
      "source": [
        "if IN_COLAB:\n",
        "  path = '/content/drive/MyDrive/📒 Organización de Datos (75.06)/TPS/TP2/DATASETS/1a_df_descrip.csv'\n",
        "else:\n",
        "  path = 'DATASETS/1a_df_descrip.csv'\n",
        "\n",
        "df_descrip.to_csv(path)"
      ]
    },
    {
      "cell_type": "code",
      "execution_count": 67,
      "metadata": {
        "id": "QTsLoqr-IHOX"
      },
      "outputs": [],
      "source": [
        "if IN_COLAB:\n",
        "  path = '/content/drive/MyDrive/📒 Organización de Datos (75.06)/TPS/TP2/DATASETS/1a_df_ampliado.csv'\n",
        "else:\n",
        "  path = 'DATASETS/1a_df_ampliado.csv'\n",
        "\n",
        "df.to_csv(path)"
      ]
    },
    {
      "cell_type": "markdown",
      "metadata": {
        "collapsed": false,
        "id": "fI1Fi95S2DpP"
      },
      "source": [
        "### 1. b) Modelos\n",
        "___"
      ]
    },
    {
      "cell_type": "markdown",
      "metadata": {
        "id": "ldOrNGnEaE5H"
      },
      "source": [
        "#### Sin optimización de hiperparámetros"
      ]
    },
    {
      "cell_type": "markdown",
      "metadata": {
        "id": "a2X0YkeUUL1X"
      },
      "source": [
        "Entrenemos un modelo de XGBoost con los mismos hiperparámetros utilizados en el TP1."
      ]
    },
    {
      "cell_type": "markdown",
      "metadata": {
        "collapsed": false,
        "id": "WqUMr9_r2DpQ"
      },
      "source": [
        "Realizamos One Hot Encoding para las nuevas variables cualitativas:"
      ]
    },
    {
      "cell_type": "code",
      "execution_count": 68,
      "metadata": {
        "id": "5e0r2Yj-2DpQ",
        "colab": {
          "base_uri": "https://localhost:8080/",
          "height": 300
        },
        "outputId": "e7fecf2b-0af1-47c6-9221-6ca3a7677210"
      },
      "outputs": [
        {
          "output_type": "execute_result",
          "data": {
            "text/plain": [
              "   start_date  end_date    latitud   longitud  property_rooms  \\\n",
              "0      737971    737991 -34.576973 -58.406591             7.0   \n",
              "1      737867    737868 -34.610046 -58.361382             4.0   \n",
              "2      737875    738097 -34.569770 -58.431032             4.0   \n",
              "3      738132    738182 -34.579756 -58.406144             3.0   \n",
              "4      737875    738097 -34.569770 -58.431032             4.0   \n",
              "\n",
              "   property_surface_total  place_l4_Agronomía  place_l4_Almagro  \\\n",
              "0                   415.0                   0                 0   \n",
              "1                   194.0                   0                 0   \n",
              "2                   260.0                   0                 0   \n",
              "3                   120.0                   0                 0   \n",
              "4                   165.0                   0                 0   \n",
              "\n",
              "   place_l4_Balvanera  place_l4_Barracas  ...  balcon_corrido  balcon_frente  \\\n",
              "0                   0                  0  ...               0              0   \n",
              "1                   0                  0  ...               0              0   \n",
              "2                   0                  0  ...               0              0   \n",
              "3                   0                  0  ...               0              0   \n",
              "4                   0                  0  ...               0              0   \n",
              "\n",
              "   balcon_luminoso  balcon_salida  balcon_terraza  cochera_cubierta  \\\n",
              "0                0              0               1                 0   \n",
              "1                0              0               0                 0   \n",
              "2                0              0               1                 0   \n",
              "3                0              1               0                 0   \n",
              "4                0              0               1                 0   \n",
              "\n",
              "   cochera_fija  aire_acondicionado  aire_central  aire_split  \n",
              "0             0                   0             0           0  \n",
              "1             0                   0             0           0  \n",
              "2             0                   0             0           0  \n",
              "3             0                   0             0           0  \n",
              "4             0                   0             0           0  \n",
              "\n",
              "[5 rows x 95 columns]"
            ],
            "text/html": [
              "\n",
              "  <div id=\"df-4574aff0-79fb-4e8d-b112-a667324b9d6b\">\n",
              "    <div class=\"colab-df-container\">\n",
              "      <div>\n",
              "<style scoped>\n",
              "    .dataframe tbody tr th:only-of-type {\n",
              "        vertical-align: middle;\n",
              "    }\n",
              "\n",
              "    .dataframe tbody tr th {\n",
              "        vertical-align: top;\n",
              "    }\n",
              "\n",
              "    .dataframe thead th {\n",
              "        text-align: right;\n",
              "    }\n",
              "</style>\n",
              "<table border=\"1\" class=\"dataframe\">\n",
              "  <thead>\n",
              "    <tr style=\"text-align: right;\">\n",
              "      <th></th>\n",
              "      <th>start_date</th>\n",
              "      <th>end_date</th>\n",
              "      <th>latitud</th>\n",
              "      <th>longitud</th>\n",
              "      <th>property_rooms</th>\n",
              "      <th>property_surface_total</th>\n",
              "      <th>place_l4_Agronomía</th>\n",
              "      <th>place_l4_Almagro</th>\n",
              "      <th>place_l4_Balvanera</th>\n",
              "      <th>place_l4_Barracas</th>\n",
              "      <th>...</th>\n",
              "      <th>balcon_corrido</th>\n",
              "      <th>balcon_frente</th>\n",
              "      <th>balcon_luminoso</th>\n",
              "      <th>balcon_salida</th>\n",
              "      <th>balcon_terraza</th>\n",
              "      <th>cochera_cubierta</th>\n",
              "      <th>cochera_fija</th>\n",
              "      <th>aire_acondicionado</th>\n",
              "      <th>aire_central</th>\n",
              "      <th>aire_split</th>\n",
              "    </tr>\n",
              "  </thead>\n",
              "  <tbody>\n",
              "    <tr>\n",
              "      <th>0</th>\n",
              "      <td>737971</td>\n",
              "      <td>737991</td>\n",
              "      <td>-34.576973</td>\n",
              "      <td>-58.406591</td>\n",
              "      <td>7.0</td>\n",
              "      <td>415.0</td>\n",
              "      <td>0</td>\n",
              "      <td>0</td>\n",
              "      <td>0</td>\n",
              "      <td>0</td>\n",
              "      <td>...</td>\n",
              "      <td>0</td>\n",
              "      <td>0</td>\n",
              "      <td>0</td>\n",
              "      <td>0</td>\n",
              "      <td>1</td>\n",
              "      <td>0</td>\n",
              "      <td>0</td>\n",
              "      <td>0</td>\n",
              "      <td>0</td>\n",
              "      <td>0</td>\n",
              "    </tr>\n",
              "    <tr>\n",
              "      <th>1</th>\n",
              "      <td>737867</td>\n",
              "      <td>737868</td>\n",
              "      <td>-34.610046</td>\n",
              "      <td>-58.361382</td>\n",
              "      <td>4.0</td>\n",
              "      <td>194.0</td>\n",
              "      <td>0</td>\n",
              "      <td>0</td>\n",
              "      <td>0</td>\n",
              "      <td>0</td>\n",
              "      <td>...</td>\n",
              "      <td>0</td>\n",
              "      <td>0</td>\n",
              "      <td>0</td>\n",
              "      <td>0</td>\n",
              "      <td>0</td>\n",
              "      <td>0</td>\n",
              "      <td>0</td>\n",
              "      <td>0</td>\n",
              "      <td>0</td>\n",
              "      <td>0</td>\n",
              "    </tr>\n",
              "    <tr>\n",
              "      <th>2</th>\n",
              "      <td>737875</td>\n",
              "      <td>738097</td>\n",
              "      <td>-34.569770</td>\n",
              "      <td>-58.431032</td>\n",
              "      <td>4.0</td>\n",
              "      <td>260.0</td>\n",
              "      <td>0</td>\n",
              "      <td>0</td>\n",
              "      <td>0</td>\n",
              "      <td>0</td>\n",
              "      <td>...</td>\n",
              "      <td>0</td>\n",
              "      <td>0</td>\n",
              "      <td>0</td>\n",
              "      <td>0</td>\n",
              "      <td>1</td>\n",
              "      <td>0</td>\n",
              "      <td>0</td>\n",
              "      <td>0</td>\n",
              "      <td>0</td>\n",
              "      <td>0</td>\n",
              "    </tr>\n",
              "    <tr>\n",
              "      <th>3</th>\n",
              "      <td>738132</td>\n",
              "      <td>738182</td>\n",
              "      <td>-34.579756</td>\n",
              "      <td>-58.406144</td>\n",
              "      <td>3.0</td>\n",
              "      <td>120.0</td>\n",
              "      <td>0</td>\n",
              "      <td>0</td>\n",
              "      <td>0</td>\n",
              "      <td>0</td>\n",
              "      <td>...</td>\n",
              "      <td>0</td>\n",
              "      <td>0</td>\n",
              "      <td>0</td>\n",
              "      <td>1</td>\n",
              "      <td>0</td>\n",
              "      <td>0</td>\n",
              "      <td>0</td>\n",
              "      <td>0</td>\n",
              "      <td>0</td>\n",
              "      <td>0</td>\n",
              "    </tr>\n",
              "    <tr>\n",
              "      <th>4</th>\n",
              "      <td>737875</td>\n",
              "      <td>738097</td>\n",
              "      <td>-34.569770</td>\n",
              "      <td>-58.431032</td>\n",
              "      <td>4.0</td>\n",
              "      <td>165.0</td>\n",
              "      <td>0</td>\n",
              "      <td>0</td>\n",
              "      <td>0</td>\n",
              "      <td>0</td>\n",
              "      <td>...</td>\n",
              "      <td>0</td>\n",
              "      <td>0</td>\n",
              "      <td>0</td>\n",
              "      <td>0</td>\n",
              "      <td>1</td>\n",
              "      <td>0</td>\n",
              "      <td>0</td>\n",
              "      <td>0</td>\n",
              "      <td>0</td>\n",
              "      <td>0</td>\n",
              "    </tr>\n",
              "  </tbody>\n",
              "</table>\n",
              "<p>5 rows × 95 columns</p>\n",
              "</div>\n",
              "      <button class=\"colab-df-convert\" onclick=\"convertToInteractive('df-4574aff0-79fb-4e8d-b112-a667324b9d6b')\"\n",
              "              title=\"Convert this dataframe to an interactive table.\"\n",
              "              style=\"display:none;\">\n",
              "        \n",
              "  <svg xmlns=\"http://www.w3.org/2000/svg\" height=\"24px\"viewBox=\"0 0 24 24\"\n",
              "       width=\"24px\">\n",
              "    <path d=\"M0 0h24v24H0V0z\" fill=\"none\"/>\n",
              "    <path d=\"M18.56 5.44l.94 2.06.94-2.06 2.06-.94-2.06-.94-.94-2.06-.94 2.06-2.06.94zm-11 1L8.5 8.5l.94-2.06 2.06-.94-2.06-.94L8.5 2.5l-.94 2.06-2.06.94zm10 10l.94 2.06.94-2.06 2.06-.94-2.06-.94-.94-2.06-.94 2.06-2.06.94z\"/><path d=\"M17.41 7.96l-1.37-1.37c-.4-.4-.92-.59-1.43-.59-.52 0-1.04.2-1.43.59L10.3 9.45l-7.72 7.72c-.78.78-.78 2.05 0 2.83L4 21.41c.39.39.9.59 1.41.59.51 0 1.02-.2 1.41-.59l7.78-7.78 2.81-2.81c.8-.78.8-2.07 0-2.86zM5.41 20L4 18.59l7.72-7.72 1.47 1.35L5.41 20z\"/>\n",
              "  </svg>\n",
              "      </button>\n",
              "      \n",
              "  <style>\n",
              "    .colab-df-container {\n",
              "      display:flex;\n",
              "      flex-wrap:wrap;\n",
              "      gap: 12px;\n",
              "    }\n",
              "\n",
              "    .colab-df-convert {\n",
              "      background-color: #E8F0FE;\n",
              "      border: none;\n",
              "      border-radius: 50%;\n",
              "      cursor: pointer;\n",
              "      display: none;\n",
              "      fill: #1967D2;\n",
              "      height: 32px;\n",
              "      padding: 0 0 0 0;\n",
              "      width: 32px;\n",
              "    }\n",
              "\n",
              "    .colab-df-convert:hover {\n",
              "      background-color: #E2EBFA;\n",
              "      box-shadow: 0px 1px 2px rgba(60, 64, 67, 0.3), 0px 1px 3px 1px rgba(60, 64, 67, 0.15);\n",
              "      fill: #174EA6;\n",
              "    }\n",
              "\n",
              "    [theme=dark] .colab-df-convert {\n",
              "      background-color: #3B4455;\n",
              "      fill: #D2E3FC;\n",
              "    }\n",
              "\n",
              "    [theme=dark] .colab-df-convert:hover {\n",
              "      background-color: #434B5C;\n",
              "      box-shadow: 0px 1px 3px 1px rgba(0, 0, 0, 0.15);\n",
              "      filter: drop-shadow(0px 1px 2px rgba(0, 0, 0, 0.3));\n",
              "      fill: #FFFFFF;\n",
              "    }\n",
              "  </style>\n",
              "\n",
              "      <script>\n",
              "        const buttonEl =\n",
              "          document.querySelector('#df-4574aff0-79fb-4e8d-b112-a667324b9d6b button.colab-df-convert');\n",
              "        buttonEl.style.display =\n",
              "          google.colab.kernel.accessAllowed ? 'block' : 'none';\n",
              "\n",
              "        async function convertToInteractive(key) {\n",
              "          const element = document.querySelector('#df-4574aff0-79fb-4e8d-b112-a667324b9d6b');\n",
              "          const dataTable =\n",
              "            await google.colab.kernel.invokeFunction('convertToInteractive',\n",
              "                                                     [key], {});\n",
              "          if (!dataTable) return;\n",
              "\n",
              "          const docLinkHtml = 'Like what you see? Visit the ' +\n",
              "            '<a target=\"_blank\" href=https://colab.research.google.com/notebooks/data_table.ipynb>data table notebook</a>'\n",
              "            + ' to learn more about interactive tables.';\n",
              "          element.innerHTML = '';\n",
              "          dataTable['output_type'] = 'display_data';\n",
              "          await google.colab.output.renderOutput(dataTable, element);\n",
              "          const docLink = document.createElement('div');\n",
              "          docLink.innerHTML = docLinkHtml;\n",
              "          element.appendChild(docLink);\n",
              "        }\n",
              "      </script>\n",
              "    </div>\n",
              "  </div>\n",
              "  "
            ]
          },
          "metadata": {},
          "execution_count": 68
        }
      ],
      "source": [
        "df_dummies = pd.get_dummies(df, columns=['cocina', 'pisos', 'lavadero', 'calefaccion', 'expensas', 'balcon', 'cochera', 'aire'], drop_first=True)\n",
        "df_test_dummies = pd.get_dummies(df_test, columns=['cocina', 'pisos', 'lavadero', 'calefaccion', 'expensas', 'balcon', 'cochera', 'aire'], drop_first=True)\n",
        "df_dummies.head(5)"
      ]
    },
    {
      "cell_type": "markdown",
      "metadata": {
        "id": "I6cp1CI3ZKLx"
      },
      "source": [
        "Entrenamos el modelo:"
      ]
    },
    {
      "cell_type": "code",
      "execution_count": 69,
      "metadata": {
        "id": "xB_KKhnsYbI-",
        "colab": {
          "base_uri": "https://localhost:8080/"
        },
        "outputId": "718b31c5-a233-4d5e-ce14-33106d6437cd"
      },
      "outputs": [
        {
          "output_type": "stream",
          "name": "stdout",
          "text": [
            "[15:05:07] WARNING: /workspace/src/objective/regression_obj.cu:152: reg:linear is now deprecated in favor of reg:squarederror.\n"
          ]
        },
        {
          "output_type": "execute_result",
          "data": {
            "text/plain": [
              "XGBRegressor(colsample_bytree=0.3, gamma=0.1, learning_rate=0.3, max_depth=6,\n",
              "             min_child_weight=5)"
            ]
          },
          "metadata": {},
          "execution_count": 69
        }
      ],
      "source": [
        "XGB_Regressor = XGBRegressor(min_child_weight = 5, max_depth = 6, learning_rate = 0.3, gamma = 0.1, colsample_bytree = 0.3)\n",
        "XGB_Regressor.fit(df_dummies, df_train_y_regresion)"
      ]
    },
    {
      "cell_type": "markdown",
      "metadata": {
        "collapsed": false,
        "id": "jFxKFFBiYbI-"
      },
      "source": [
        "Hagamos las predicciones y veamos cómo resultaron las métricas del modelo:"
      ]
    },
    {
      "cell_type": "code",
      "execution_count": 70,
      "metadata": {
        "id": "LwETgGxdYbI-",
        "colab": {
          "base_uri": "https://localhost:8080/"
        },
        "outputId": "c1c3163d-b4b9-445a-c9f9-e39534578580"
      },
      "outputs": [
        {
          "output_type": "stream",
          "name": "stdout",
          "text": [
            "Se obtuvo un Score de 58.104%\n",
            "El error según la métrica 'Mean Square Error' de test es: 52915641808.548645\n",
            "El error según la métrica 'Root Mean Square Error' de test es: 230034.00141837433\n"
          ]
        }
      ],
      "source": [
        "prediccion_y_metricas_regresion(XGB_Regressor,df_test_dummies, df_test_y_regresion)"
      ]
    },
    {
      "cell_type": "markdown",
      "metadata": {
        "collapsed": false,
        "id": "wz5IDS8dYbI-"
      },
      "source": [
        "##### Importancia de features"
      ]
    },
    {
      "cell_type": "markdown",
      "source": [
        "Estudiemos cuáles son los atributos más importantes para los aspectos elegidos:"
      ],
      "metadata": {
        "id": "nDgn3wkPFA8e"
      }
    },
    {
      "cell_type": "markdown",
      "source": [
        "###### Apecto cocina"
      ],
      "metadata": {
        "id": "JxUdt56_CmMq"
      }
    },
    {
      "cell_type": "code",
      "source": [
        "aspecto_id = list()\n",
        "\n",
        "for aspecto in list(filter(lambda x: x.startswith('cocina_'), df_dummies.columns.tolist())):\n",
        "  aspecto_id.append(df_dummies.columns.get_loc(aspecto))"
      ],
      "metadata": {
        "id": "hFJOpgj-CvbL"
      },
      "execution_count": 117,
      "outputs": []
    },
    {
      "cell_type": "code",
      "source": [
        "plt.barh(df_test_dummies.columns[aspecto_id], XGB_Regressor.feature_importances_[aspecto_id])\n",
        "plt.xlabel(\"Importancia de Atributos\")\n",
        "plt.ylabel(\"Aspecto cocina\")"
      ],
      "metadata": {
        "colab": {
          "base_uri": "https://localhost:8080/",
          "height": 296
        },
        "id": "w39dV0_l-Ckp",
        "outputId": "182c1da8-ac1d-417a-cbf1-6f501575c80d"
      },
      "execution_count": 141,
      "outputs": [
        {
          "output_type": "execute_result",
          "data": {
            "text/plain": [
              "Text(0, 0.5, 'Aspecto cocina')"
            ]
          },
          "metadata": {},
          "execution_count": 141
        },
        {
          "output_type": "display_data",
          "data": {
            "text/plain": [
              "<Figure size 432x288 with 1 Axes>"
            ],
            "image/png": "[encoded data removed]"
          },
          "metadata": {
            "needs_background": "light"
          }
        }
      ]
    },
    {
      "cell_type": "markdown",
      "source": [
        "Veamos que, para el aspecto `cocina` el atributo más importante es: *integrada*."
      ],
      "metadata": {
        "id": "PuNCYrZDFk9b"
      }
    },
    {
      "cell_type": "markdown",
      "source": [
        "###### Apecto pisos"
      ],
      "metadata": {
        "id": "0gp2RXuNF1Y0"
      }
    },
    {
      "cell_type": "code",
      "source": [
        "aspecto_id = list()\n",
        "\n",
        "for aspecto in list(filter(lambda x: x.startswith('pisos_'), df_dummies.columns.tolist())):\n",
        "  aspecto_id.append(df_dummies.columns.get_loc(aspecto))"
      ],
      "metadata": {
        "id": "a60CG-0uF1Y0"
      },
      "execution_count": 142,
      "outputs": []
    },
    {
      "cell_type": "code",
      "source": [
        "plt.barh(df_test_dummies.columns[aspecto_id], XGB_Regressor.feature_importances_[aspecto_id])\n",
        "plt.xlabel(\"Importancia de Atributos\")\n",
        "plt.ylabel(\"Aspecto pisos\")"
      ],
      "metadata": {
        "colab": {
          "base_uri": "https://localhost:8080/",
          "height": 296
        },
        "outputId": "3c3062b4-f2b8-4d02-b6b7-1950aa6fe706",
        "id": "_FM-HjZ_F1Y1"
      },
      "execution_count": 143,
      "outputs": [
        {
          "output_type": "execute_result",
          "data": {
            "text/plain": [
              "Text(0, 0.5, 'Aspecto pisos')"
            ]
          },
          "metadata": {},
          "execution_count": 143
        },
        {
          "output_type": "display_data",
          "data": {
            "text/plain": [
              "<Figure size 432x288 with 1 Axes>"
            ],
            "image/png": "[encoded data removed]"
          },
          "metadata": {
            "needs_background": "light"
          }
        }
      ]
    },
    {
      "cell_type": "markdown",
      "source": [
        "Veamos que, para el aspecto `pisos` el atributo más importante es: *madera*."
      ],
      "metadata": {
        "id": "L57GIYX3F1Y1"
      }
    },
    {
      "cell_type": "markdown",
      "source": [
        "###### Apecto calefaccion"
      ],
      "metadata": {
        "id": "BrjRtFeDF1f_"
      }
    },
    {
      "cell_type": "code",
      "source": [
        "aspecto_id = list()\n",
        "\n",
        "for aspecto in list(filter(lambda x: x.startswith('calefaccion_'), df_dummies.columns.tolist())):\n",
        "  aspecto_id.append(df_dummies.columns.get_loc(aspecto))"
      ],
      "metadata": {
        "id": "Y8KTh8TbF1f_"
      },
      "execution_count": 144,
      "outputs": []
    },
    {
      "cell_type": "code",
      "source": [
        "plt.barh(df_test_dummies.columns[aspecto_id], XGB_Regressor.feature_importances_[aspecto_id])\n",
        "plt.xlabel(\"Importancia de Atributos\")\n",
        "plt.ylabel(\"Aspecto calefaccion\")"
      ],
      "metadata": {
        "colab": {
          "base_uri": "https://localhost:8080/",
          "height": 296
        },
        "outputId": "675bb0df-8e1e-466a-b41d-617af438d344",
        "id": "viDay3L0F1f_"
      },
      "execution_count": 145,
      "outputs": [
        {
          "output_type": "execute_result",
          "data": {
            "text/plain": [
              "Text(0, 0.5, 'Aspecto calefaccion')"
            ]
          },
          "metadata": {},
          "execution_count": 145
        },
        {
          "output_type": "display_data",
          "data": {
            "text/plain": [
              "<Figure size 432x288 with 1 Axes>"
            ],
            "image/png": "[encoded data removed]"
          },
          "metadata": {
            "needs_background": "light"
          }
        }
      ]
    },
    {
      "cell_type": "markdown",
      "source": [
        "Veamos que, para el aspecto `calefaccion` el atributo más importante es: *radiante*."
      ],
      "metadata": {
        "id": "R_qiJLXlF1f_"
      }
    },
    {
      "cell_type": "markdown",
      "source": [
        "###### Apecto expensas"
      ],
      "metadata": {
        "id": "au9YA6i5F1nQ"
      }
    },
    {
      "cell_type": "code",
      "source": [
        "aspecto_id = list()\n",
        "\n",
        "for aspecto in list(filter(lambda x: x.startswith('expensas_'), df_dummies.columns.tolist())):\n",
        "  aspecto_id.append(df_dummies.columns.get_loc(aspecto))"
      ],
      "metadata": {
        "id": "fhmbuqxXF1nQ"
      },
      "execution_count": 146,
      "outputs": []
    },
    {
      "cell_type": "code",
      "source": [
        "plt.barh(df_test_dummies.columns[aspecto_id], XGB_Regressor.feature_importances_[aspecto_id])\n",
        "plt.xlabel(\"Importancia de Atributos\")\n",
        "plt.ylabel(\"Aspecto expensas\")"
      ],
      "metadata": {
        "colab": {
          "base_uri": "https://localhost:8080/",
          "height": 296
        },
        "outputId": "e6807ea0-d5a3-4eb3-f545-a4c87dad71f0",
        "id": "pQQ45SIGF1nQ"
      },
      "execution_count": 147,
      "outputs": [
        {
          "output_type": "execute_result",
          "data": {
            "text/plain": [
              "Text(0, 0.5, 'Aspecto expensas')"
            ]
          },
          "metadata": {},
          "execution_count": 147
        },
        {
          "output_type": "display_data",
          "data": {
            "text/plain": [
              "<Figure size 432x288 with 1 Axes>"
            ],
            "image/png": "[encoded data removed]"
          },
          "metadata": {
            "needs_background": "light"
          }
        }
      ]
    },
    {
      "cell_type": "markdown",
      "source": [
        "Veamos que, para el aspecto `expensas` el atributo más importante es: *impuestos*."
      ],
      "metadata": {
        "id": "ros9MjIbF1nQ"
      }
    },
    {
      "cell_type": "markdown",
      "source": [
        "###### Apecto lavadero"
      ],
      "metadata": {
        "id": "Ffp8z3zFF1v9"
      }
    },
    {
      "cell_type": "code",
      "source": [
        "aspecto_id = list()\n",
        "\n",
        "for aspecto in list(filter(lambda x: x.startswith('lavadero_'), df_dummies.columns.tolist())):\n",
        "  aspecto_id.append(df_dummies.columns.get_loc(aspecto))"
      ],
      "metadata": {
        "id": "94D5gjIlF1v-"
      },
      "execution_count": 148,
      "outputs": []
    },
    {
      "cell_type": "code",
      "source": [
        "plt.barh(df_test_dummies.columns[aspecto_id], XGB_Regressor.feature_importances_[aspecto_id])\n",
        "plt.xlabel(\"Importancia de Atributos\")\n",
        "plt.ylabel(\"Aspecto lavadero\")"
      ],
      "metadata": {
        "colab": {
          "base_uri": "https://localhost:8080/",
          "height": 296
        },
        "outputId": "9782146c-88e7-40c8-baf0-76353ded8201",
        "id": "qXPXi_G-F1v-"
      },
      "execution_count": 149,
      "outputs": [
        {
          "output_type": "execute_result",
          "data": {
            "text/plain": [
              "Text(0, 0.5, 'Aspecto lavadero')"
            ]
          },
          "metadata": {},
          "execution_count": 149
        },
        {
          "output_type": "display_data",
          "data": {
            "text/plain": [
              "<Figure size 432x288 with 1 Axes>"
            ],
            "image/png": "[encoded data removed]"
          },
          "metadata": {
            "needs_background": "light"
          }
        }
      ]
    },
    {
      "cell_type": "markdown",
      "source": [
        "Veamos que, para el aspecto `lavadero` el atributo más importante es: *cocina*."
      ],
      "metadata": {
        "id": "zL_Pku0UF1v-"
      }
    },
    {
      "cell_type": "markdown",
      "source": [
        "###### Apecto balcon"
      ],
      "metadata": {
        "id": "l7d1vOTrF14k"
      }
    },
    {
      "cell_type": "code",
      "source": [
        "aspecto_id = list()\n",
        "\n",
        "for aspecto in list(filter(lambda x: x.startswith('balcon_'), df_dummies.columns.tolist())):\n",
        "  aspecto_id.append(df_dummies.columns.get_loc(aspecto))"
      ],
      "metadata": {
        "id": "ClYZPx6HF14k"
      },
      "execution_count": 150,
      "outputs": []
    },
    {
      "cell_type": "code",
      "source": [
        "plt.barh(df_test_dummies.columns[aspecto_id], XGB_Regressor.feature_importances_[aspecto_id])\n",
        "plt.xlabel(\"Importancia de Atributos\")\n",
        "plt.ylabel(\"Aspecto balcon\")"
      ],
      "metadata": {
        "colab": {
          "base_uri": "https://localhost:8080/",
          "height": 296
        },
        "outputId": "b13c7706-5b77-426d-f245-02c2eba0684d",
        "id": "FR-4iEUQF14l"
      },
      "execution_count": 151,
      "outputs": [
        {
          "output_type": "execute_result",
          "data": {
            "text/plain": [
              "Text(0, 0.5, 'Aspecto balcon')"
            ]
          },
          "metadata": {},
          "execution_count": 151
        },
        {
          "output_type": "display_data",
          "data": {
            "text/plain": [
              "<Figure size 432x288 with 1 Axes>"
            ],
            "image/png": "[encoded data removed]"
          },
          "metadata": {
            "needs_background": "light"
          }
        }
      ]
    },
    {
      "cell_type": "markdown",
      "source": [
        "Veamos que, para el aspecto `balcon` el atributo más importante es: *terraza*."
      ],
      "metadata": {
        "id": "2vfjBfJCF14l"
      }
    },
    {
      "cell_type": "markdown",
      "source": [
        "###### Apecto cochera"
      ],
      "metadata": {
        "id": "87MN8BlTF2AL"
      }
    },
    {
      "cell_type": "code",
      "source": [
        "aspecto_id = list()\n",
        "\n",
        "for aspecto in list(filter(lambda x: x.startswith('cochera_'), df_dummies.columns.tolist())):\n",
        "  aspecto_id.append(df_dummies.columns.get_loc(aspecto))"
      ],
      "metadata": {
        "id": "8BULr6T8F2AM"
      },
      "execution_count": 152,
      "outputs": []
    },
    {
      "cell_type": "code",
      "source": [
        "plt.barh(df_test_dummies.columns[aspecto_id], XGB_Regressor.feature_importances_[aspecto_id])\n",
        "plt.xlabel(\"Importancia de Atributos\")\n",
        "plt.ylabel(\"Aspecto cochera\")"
      ],
      "metadata": {
        "colab": {
          "base_uri": "https://localhost:8080/",
          "height": 296
        },
        "outputId": "93464196-a962-4776-86f2-92782c6fdde2",
        "id": "SxJzCW3yF2AM"
      },
      "execution_count": 153,
      "outputs": [
        {
          "output_type": "execute_result",
          "data": {
            "text/plain": [
              "Text(0, 0.5, 'Aspecto cochera')"
            ]
          },
          "metadata": {},
          "execution_count": 153
        },
        {
          "output_type": "display_data",
          "data": {
            "text/plain": [
              "<Figure size 432x288 with 1 Axes>"
            ],
            "image/png": "[encoded data removed]"
          },
          "metadata": {
            "needs_background": "light"
          }
        }
      ]
    },
    {
      "cell_type": "markdown",
      "source": [
        "Veamos que, para el aspecto `cochera` el atributo más importante es: *fija*."
      ],
      "metadata": {
        "id": "Bies0n61F2AM"
      }
    },
    {
      "cell_type": "markdown",
      "source": [
        "###### Apecto aire"
      ],
      "metadata": {
        "id": "UIepC0DvF2Hl"
      }
    },
    {
      "cell_type": "code",
      "source": [
        "aspecto_id = list()\n",
        "\n",
        "for aspecto in list(filter(lambda x: x.startswith('aire_'), df_dummies.columns.tolist())):\n",
        "  aspecto_id.append(df_dummies.columns.get_loc(aspecto))"
      ],
      "metadata": {
        "id": "j60DBX4RF2Hl"
      },
      "execution_count": 154,
      "outputs": []
    },
    {
      "cell_type": "code",
      "source": [
        "plt.barh(df_test_dummies.columns[aspecto_id], XGB_Regressor.feature_importances_[aspecto_id])\n",
        "plt.xlabel(\"Importancia de Atributos\")\n",
        "plt.ylabel(\"Aspecto aire\")"
      ],
      "metadata": {
        "colab": {
          "base_uri": "https://localhost:8080/",
          "height": 296
        },
        "outputId": "70d85d03-fffc-469c-b73b-02c501bb184f",
        "id": "QATA7-k9F2Hl"
      },
      "execution_count": 155,
      "outputs": [
        {
          "output_type": "execute_result",
          "data": {
            "text/plain": [
              "Text(0, 0.5, 'Aspecto aire')"
            ]
          },
          "metadata": {},
          "execution_count": 155
        },
        {
          "output_type": "display_data",
          "data": {
            "text/plain": [
              "<Figure size 432x288 with 1 Axes>"
            ],
            "image/png": "[encoded data removed]"
          },
          "metadata": {
            "needs_background": "light"
          }
        }
      ]
    },
    {
      "cell_type": "markdown",
      "source": [
        "Veamos que, para el aspecto `aire` el atributo más importante es: *split*."
      ],
      "metadata": {
        "id": "7_dKSoWuF2Hm"
      }
    },
    {
      "cell_type": "markdown",
      "metadata": {
        "id": "CkJCoGXnaN1y"
      },
      "source": [
        "#### Con optimización de hiperparámetros"
      ]
    },
    {
      "cell_type": "markdown",
      "metadata": {
        "collapsed": false,
        "id": "Su2wKojB2DpR"
      },
      "source": [
        "Veamos cómo se comporta el score con la optimización de hiperparámetros:"
      ]
    },
    {
      "cell_type": "code",
      "execution_count": 173,
      "metadata": {
        "id": "7RTpJeq92DpS",
        "colab": {
          "base_uri": "https://localhost:8080/"
        },
        "outputId": "5de435c5-88fb-4b03-9131-33409e167e32"
      },
      "outputs": [
        {
          "output_type": "stream",
          "name": "stdout",
          "text": [
            "[15:49:30] WARNING: /workspace/src/objective/regression_obj.cu:152: reg:linear is now deprecated in favor of reg:squarederror.\n",
            "[15:49:43] WARNING: /workspace/src/objective/regression_obj.cu:152: reg:linear is now deprecated in favor of reg:squarederror.\n",
            "[15:49:56] WARNING: /workspace/src/objective/regression_obj.cu:152: reg:linear is now deprecated in favor of reg:squarederror.\n",
            "[15:50:09] WARNING: /workspace/src/objective/regression_obj.cu:152: reg:linear is now deprecated in favor of reg:squarederror.\n",
            "[15:50:23] WARNING: /workspace/src/objective/regression_obj.cu:152: reg:linear is now deprecated in favor of reg:squarederror.\n",
            "[15:50:36] WARNING: /workspace/src/objective/regression_obj.cu:152: reg:linear is now deprecated in favor of reg:squarederror.\n",
            "[15:50:55] WARNING: /workspace/src/objective/regression_obj.cu:152: reg:linear is now deprecated in favor of reg:squarederror.\n",
            "[15:51:14] WARNING: /workspace/src/objective/regression_obj.cu:152: reg:linear is now deprecated in favor of reg:squarederror.\n",
            "[15:51:33] WARNING: /workspace/src/objective/regression_obj.cu:152: reg:linear is now deprecated in favor of reg:squarederror.\n",
            "[15:51:52] WARNING: /workspace/src/objective/regression_obj.cu:152: reg:linear is now deprecated in favor of reg:squarederror.\n",
            "[15:52:12] WARNING: /workspace/src/objective/regression_obj.cu:152: reg:linear is now deprecated in favor of reg:squarederror.\n",
            "[15:52:32] WARNING: /workspace/src/objective/regression_obj.cu:152: reg:linear is now deprecated in favor of reg:squarederror.\n",
            "[15:52:52] WARNING: /workspace/src/objective/regression_obj.cu:152: reg:linear is now deprecated in favor of reg:squarederror.\n",
            "[15:53:13] WARNING: /workspace/src/objective/regression_obj.cu:152: reg:linear is now deprecated in favor of reg:squarederror.\n",
            "[15:53:33] WARNING: /workspace/src/objective/regression_obj.cu:152: reg:linear is now deprecated in favor of reg:squarederror.\n",
            "[15:53:53] WARNING: /workspace/src/objective/regression_obj.cu:152: reg:linear is now deprecated in favor of reg:squarederror.\n",
            "[15:54:16] WARNING: /workspace/src/objective/regression_obj.cu:152: reg:linear is now deprecated in favor of reg:squarederror.\n",
            "[15:54:40] WARNING: /workspace/src/objective/regression_obj.cu:152: reg:linear is now deprecated in favor of reg:squarederror.\n",
            "[15:55:05] WARNING: /workspace/src/objective/regression_obj.cu:152: reg:linear is now deprecated in favor of reg:squarederror.\n",
            "[15:55:29] WARNING: /workspace/src/objective/regression_obj.cu:152: reg:linear is now deprecated in favor of reg:squarederror.\n",
            "[15:55:52] WARNING: /workspace/src/objective/regression_obj.cu:152: reg:linear is now deprecated in favor of reg:squarederror.\n",
            "[15:56:09] WARNING: /workspace/src/objective/regression_obj.cu:152: reg:linear is now deprecated in favor of reg:squarederror.\n",
            "[15:56:25] WARNING: /workspace/src/objective/regression_obj.cu:152: reg:linear is now deprecated in favor of reg:squarederror.\n",
            "[15:56:42] WARNING: /workspace/src/objective/regression_obj.cu:152: reg:linear is now deprecated in favor of reg:squarederror.\n",
            "[15:56:59] WARNING: /workspace/src/objective/regression_obj.cu:152: reg:linear is now deprecated in favor of reg:squarederror.\n",
            "[15:57:16] WARNING: /workspace/src/objective/regression_obj.cu:152: reg:linear is now deprecated in favor of reg:squarederror.\n"
          ]
        },
        {
          "output_type": "execute_result",
          "data": {
            "text/plain": [
              "RandomizedSearchCV(cv=StratifiedKFold(n_splits=5, random_state=None, shuffle=False),\n",
              "                   estimator=XGBRegressor(), n_iter=5,\n",
              "                   param_distributions={'colsample_bytree': [0.3, 0.4, 0.5, 0.7,\n",
              "                                                             0.8],\n",
              "                                        'gamma': [0.1, 0.2, 0.3, 0.4, 0.5],\n",
              "                                        'learning_rate': [0.2, 0.25, 0.3],\n",
              "                                        'max_depth': [4, 5, 6, 8, 10],\n",
              "                                        'min_child_weight': [1, 3, 5, 7, 9]},\n",
              "                   scoring=make_scorer(r2_score))"
            ]
          },
          "metadata": {},
          "execution_count": 173
        }
      ],
      "source": [
        "params_grid = {'learning_rate': [0.20, 0.25, 0.30],\n",
        "               'max_depth': [4, 5, 6, 8, 10],\n",
        "               'min_child_weight': [1, 3, 5, 7, 9],\n",
        "               'gamma': [0.1, 0.2 , 0.3, 0.4, 0.5],\n",
        "               'colsample_bytree' : [0.3, 0.4, 0.5, 0.7, 0.8]}\n",
        "\n",
        "randomCV = RandomizedSearchCV(estimator = XGBRegressor(),\n",
        "                              param_distributions = params_grid,\n",
        "                              scoring = make_scorer(r2_score),\n",
        "                              cv = StratifiedKFold(n_splits = 5),\n",
        "                              n_iter = 5)\n",
        "\n",
        "randomCV.fit(df_dummies, df_train_y_regresion)"
      ]
    },
    {
      "cell_type": "code",
      "execution_count": 174,
      "metadata": {
        "id": "ZByp96loYbI_",
        "colab": {
          "base_uri": "https://localhost:8080/"
        },
        "outputId": "3362266b-bd62-489f-d811-21b7743a1258"
      },
      "outputs": [
        {
          "output_type": "execute_result",
          "data": {
            "text/plain": [
              "{'min_child_weight': 9,\n",
              " 'max_depth': 10,\n",
              " 'learning_rate': 0.2,\n",
              " 'gamma': 0.5,\n",
              " 'colsample_bytree': 0.5}"
            ]
          },
          "metadata": {},
          "execution_count": 174
        }
      ],
      "source": [
        "randomCV.best_params_"
      ]
    },
    {
      "cell_type": "code",
      "execution_count": 175,
      "metadata": {
        "id": "8TW5uQtMYbI_",
        "colab": {
          "base_uri": "https://localhost:8080/"
        },
        "outputId": "a1be0fd5-a1a0-4054-8c77-7708bf803313"
      },
      "outputs": [
        {
          "output_type": "stream",
          "name": "stdout",
          "text": [
            "Se obtuvo un Score de 59.705%\n",
            "El error según la métrica 'Mean Square Error' de test es: 50893493568.09678\n",
            "El error según la métrica 'Root Mean Square Error' de test es: 225595.86336654486\n"
          ]
        }
      ],
      "source": [
        "prediccion_y_metricas_regresion(randomCV.best_estimator_,df_test_dummies, df_test_y_regresion)"
      ]
    },
    {
      "cell_type": "markdown",
      "metadata": {
        "collapsed": false,
        "id": "6Aka6rGNYbI_"
      },
      "source": [
        "Observamos que, si bien las métricas mejoraron, las diferencias al optimizar los parámetros no fueron muy significativas."
      ]
    },
    {
      "cell_type": "markdown",
      "metadata": {
        "collapsed": false,
        "id": "ESHIprJSYbI_"
      },
      "source": [
        "##### Importancia de features"
      ]
    },
    {
      "cell_type": "markdown",
      "source": [
        "Ahora veamos cómo se comporta la importancia de atributos con la optimización realizada:"
      ],
      "metadata": {
        "id": "oJShuuRoHF2r"
      }
    },
    {
      "cell_type": "markdown",
      "source": [
        "###### Apecto cocina"
      ],
      "metadata": {
        "id": "GKe7Aux4HVBW"
      }
    },
    {
      "cell_type": "code",
      "source": [
        "aspecto_id = list()\n",
        "\n",
        "for aspecto in list(filter(lambda x: x.startswith('cocina_'), df_dummies.columns.tolist())):\n",
        "  aspecto_id.append(df_dummies.columns.get_loc(aspecto))"
      ],
      "metadata": {
        "id": "4r-iB4_mHVBW"
      },
      "execution_count": 176,
      "outputs": []
    },
    {
      "cell_type": "code",
      "source": [
        "plt.barh(df_test_dummies.columns[aspecto_id], XGB_Regressor.feature_importances_[aspecto_id])\n",
        "plt.xlabel(\"Importancia de Atributos\")\n",
        "plt.ylabel(\"Aspecto cocina\")"
      ],
      "metadata": {
        "colab": {
          "base_uri": "https://localhost:8080/",
          "height": 296
        },
        "outputId": "5dc827b5-aaaf-404e-c335-2ceb277f8650",
        "id": "CZPbODvdHVBW"
      },
      "execution_count": 177,
      "outputs": [
        {
          "output_type": "execute_result",
          "data": {
            "text/plain": [
              "Text(0, 0.5, 'Aspecto cocina')"
            ]
          },
          "metadata": {},
          "execution_count": 177
        },
        {
          "output_type": "display_data",
          "data": {
            "text/plain": [
              "<Figure size 432x288 with 1 Axes>"
            ],
            "image/png": "[encoded data removed]"
          },
          "metadata": {
            "needs_background": "light"
          }
        }
      ]
    },
    {
      "cell_type": "markdown",
      "source": [
        "Nuevamente el atributo más importante es: *integrada*."
      ],
      "metadata": {
        "id": "6vbZ15zrHVBW"
      }
    },
    {
      "cell_type": "markdown",
      "source": [
        "###### Apecto pisos"
      ],
      "metadata": {
        "id": "4HxehiLvHVBX"
      }
    },
    {
      "cell_type": "code",
      "source": [
        "aspecto_id = list()\n",
        "\n",
        "for aspecto in list(filter(lambda x: x.startswith('pisos_'), df_dummies.columns.tolist())):\n",
        "  aspecto_id.append(df_dummies.columns.get_loc(aspecto))"
      ],
      "metadata": {
        "id": "JP0NJAFYHVBX"
      },
      "execution_count": 178,
      "outputs": []
    },
    {
      "cell_type": "code",
      "source": [
        "plt.barh(df_test_dummies.columns[aspecto_id], XGB_Regressor.feature_importances_[aspecto_id])\n",
        "plt.xlabel(\"Importancia de Atributos\")\n",
        "plt.ylabel(\"Aspecto pisos\")"
      ],
      "metadata": {
        "colab": {
          "base_uri": "https://localhost:8080/",
          "height": 296
        },
        "outputId": "e87cdc42-525e-45a0-dd92-b6321f5d9af8",
        "id": "2pTO8xr3HVBX"
      },
      "execution_count": 179,
      "outputs": [
        {
          "output_type": "execute_result",
          "data": {
            "text/plain": [
              "Text(0, 0.5, 'Aspecto pisos')"
            ]
          },
          "metadata": {},
          "execution_count": 179
        },
        {
          "output_type": "display_data",
          "data": {
            "text/plain": [
              "<Figure size 432x288 with 1 Axes>"
            ],
            "image/png": "[encoded data removed]"
          },
          "metadata": {
            "needs_background": "light"
          }
        }
      ]
    },
    {
      "cell_type": "markdown",
      "source": [
        "Nuevamente el atributo más importante es: *madera*."
      ],
      "metadata": {
        "id": "KFLUIBQ0HVBX"
      }
    },
    {
      "cell_type": "markdown",
      "source": [
        "###### Apecto calefaccion"
      ],
      "metadata": {
        "id": "tAw_txwJHVBX"
      }
    },
    {
      "cell_type": "code",
      "source": [
        "aspecto_id = list()\n",
        "\n",
        "for aspecto in list(filter(lambda x: x.startswith('calefaccion_'), df_dummies.columns.tolist())):\n",
        "  aspecto_id.append(df_dummies.columns.get_loc(aspecto))"
      ],
      "metadata": {
        "id": "2PX--BYCHVBX"
      },
      "execution_count": 180,
      "outputs": []
    },
    {
      "cell_type": "code",
      "source": [
        "plt.barh(df_test_dummies.columns[aspecto_id], XGB_Regressor.feature_importances_[aspecto_id])\n",
        "plt.xlabel(\"Importancia de Atributos\")\n",
        "plt.ylabel(\"Aspecto calefaccion\")"
      ],
      "metadata": {
        "colab": {
          "base_uri": "https://localhost:8080/",
          "height": 296
        },
        "outputId": "ed278fbf-116c-4ba9-cbaa-056ce3eaa13f",
        "id": "5KS3ThqJHVBX"
      },
      "execution_count": 181,
      "outputs": [
        {
          "output_type": "execute_result",
          "data": {
            "text/plain": [
              "Text(0, 0.5, 'Aspecto calefaccion')"
            ]
          },
          "metadata": {},
          "execution_count": 181
        },
        {
          "output_type": "display_data",
          "data": {
            "text/plain": [
              "<Figure size 432x288 with 1 Axes>"
            ],
            "image/png": "[encoded data removed]"
          },
          "metadata": {
            "needs_background": "light"
          }
        }
      ]
    },
    {
      "cell_type": "markdown",
      "source": [
        "Nuevamente el atributo más importante es: *radiante*."
      ],
      "metadata": {
        "id": "Qj49TSjPHVBX"
      }
    },
    {
      "cell_type": "markdown",
      "source": [
        "###### Apecto expensas"
      ],
      "metadata": {
        "id": "vBAV1ck_HVBX"
      }
    },
    {
      "cell_type": "code",
      "source": [
        "aspecto_id = list()\n",
        "\n",
        "for aspecto in list(filter(lambda x: x.startswith('expensas_'), df_dummies.columns.tolist())):\n",
        "  aspecto_id.append(df_dummies.columns.get_loc(aspecto))"
      ],
      "metadata": {
        "id": "ldqc6v0BHVBY"
      },
      "execution_count": 182,
      "outputs": []
    },
    {
      "cell_type": "code",
      "source": [
        "plt.barh(df_test_dummies.columns[aspecto_id], XGB_Regressor.feature_importances_[aspecto_id])\n",
        "plt.xlabel(\"Importancia de Atributos\")\n",
        "plt.ylabel(\"Aspecto expensas\")"
      ],
      "metadata": {
        "colab": {
          "base_uri": "https://localhost:8080/",
          "height": 296
        },
        "outputId": "c9d2f8f3-824c-4160-beb6-26bac0d8b92d",
        "id": "dquLtB6MHVBY"
      },
      "execution_count": 183,
      "outputs": [
        {
          "output_type": "execute_result",
          "data": {
            "text/plain": [
              "Text(0, 0.5, 'Aspecto expensas')"
            ]
          },
          "metadata": {},
          "execution_count": 183
        },
        {
          "output_type": "display_data",
          "data": {
            "text/plain": [
              "<Figure size 432x288 with 1 Axes>"
            ],
            "image/png": "[encoded data removed]"
          },
          "metadata": {
            "needs_background": "light"
          }
        }
      ]
    },
    {
      "cell_type": "markdown",
      "source": [
        "Nuevamente el atributo más importante es: *impuestos*."
      ],
      "metadata": {
        "id": "0s45kCORHVBY"
      }
    },
    {
      "cell_type": "markdown",
      "source": [
        "###### Apecto lavadero"
      ],
      "metadata": {
        "id": "PdcyCmiTHVBY"
      }
    },
    {
      "cell_type": "code",
      "source": [
        "aspecto_id = list()\n",
        "\n",
        "for aspecto in list(filter(lambda x: x.startswith('lavadero_'), df_dummies.columns.tolist())):\n",
        "  aspecto_id.append(df_dummies.columns.get_loc(aspecto))"
      ],
      "metadata": {
        "id": "t8F1W3IIHVBY"
      },
      "execution_count": 184,
      "outputs": []
    },
    {
      "cell_type": "code",
      "source": [
        "plt.barh(df_test_dummies.columns[aspecto_id], XGB_Regressor.feature_importances_[aspecto_id])\n",
        "plt.xlabel(\"Importancia de Atributos\")\n",
        "plt.ylabel(\"Aspecto lavadero\")"
      ],
      "metadata": {
        "colab": {
          "base_uri": "https://localhost:8080/",
          "height": 296
        },
        "outputId": "92653ca0-ae75-4ace-b01a-31939726ffee",
        "id": "pamqiViMHVBY"
      },
      "execution_count": 185,
      "outputs": [
        {
          "output_type": "execute_result",
          "data": {
            "text/plain": [
              "Text(0, 0.5, 'Aspecto lavadero')"
            ]
          },
          "metadata": {},
          "execution_count": 185
        },
        {
          "output_type": "display_data",
          "data": {
            "text/plain": [
              "<Figure size 432x288 with 1 Axes>"
            ],
            "image/png": "[encoded data removed]"
          },
          "metadata": {
            "needs_background": "light"
          }
        }
      ]
    },
    {
      "cell_type": "markdown",
      "source": [
        "Nuevamente el atributo más importante es: *cocina*."
      ],
      "metadata": {
        "id": "aR1-Za95HVBY"
      }
    },
    {
      "cell_type": "markdown",
      "source": [
        "###### Apecto balcon"
      ],
      "metadata": {
        "id": "HgbQ0mosHVBY"
      }
    },
    {
      "cell_type": "code",
      "source": [
        "aspecto_id = list()\n",
        "\n",
        "for aspecto in list(filter(lambda x: x.startswith('balcon_'), df_dummies.columns.tolist())):\n",
        "  aspecto_id.append(df_dummies.columns.get_loc(aspecto))"
      ],
      "metadata": {
        "id": "NdM5HsGHHVBZ"
      },
      "execution_count": 186,
      "outputs": []
    },
    {
      "cell_type": "code",
      "source": [
        "plt.barh(df_test_dummies.columns[aspecto_id], XGB_Regressor.feature_importances_[aspecto_id])\n",
        "plt.xlabel(\"Importancia de Atributos\")\n",
        "plt.ylabel(\"Aspecto balcon\")"
      ],
      "metadata": {
        "colab": {
          "base_uri": "https://localhost:8080/",
          "height": 296
        },
        "outputId": "e32f6716-4923-4359-d37e-155c630ab842",
        "id": "myBE8hMaHVBZ"
      },
      "execution_count": 187,
      "outputs": [
        {
          "output_type": "execute_result",
          "data": {
            "text/plain": [
              "Text(0, 0.5, 'Aspecto balcon')"
            ]
          },
          "metadata": {},
          "execution_count": 187
        },
        {
          "output_type": "display_data",
          "data": {
            "text/plain": [
              "<Figure size 432x288 with 1 Axes>"
            ],
            "image/png": "[encoded data removed]"
          },
          "metadata": {
            "needs_background": "light"
          }
        }
      ]
    },
    {
      "cell_type": "markdown",
      "source": [
        "Nuevamente el atributo más importante es: *terraza*."
      ],
      "metadata": {
        "id": "6BJPZY7UHVBZ"
      }
    },
    {
      "cell_type": "markdown",
      "source": [
        "###### Apecto cochera"
      ],
      "metadata": {
        "id": "fXsYD0w4HVBZ"
      }
    },
    {
      "cell_type": "code",
      "source": [
        "aspecto_id = list()\n",
        "\n",
        "for aspecto in list(filter(lambda x: x.startswith('cochera_'), df_dummies.columns.tolist())):\n",
        "  aspecto_id.append(df_dummies.columns.get_loc(aspecto))"
      ],
      "metadata": {
        "id": "i8m6lyDXHVBa"
      },
      "execution_count": 188,
      "outputs": []
    },
    {
      "cell_type": "code",
      "source": [
        "plt.barh(df_test_dummies.columns[aspecto_id], XGB_Regressor.feature_importances_[aspecto_id])\n",
        "plt.xlabel(\"Importancia de Atributos\")\n",
        "plt.ylabel(\"Aspecto cochera\")"
      ],
      "metadata": {
        "colab": {
          "base_uri": "https://localhost:8080/",
          "height": 296
        },
        "outputId": "8f5ab625-f54e-4562-b15d-08f74ef07195",
        "id": "4RUuJfzBHVBa"
      },
      "execution_count": 189,
      "outputs": [
        {
          "output_type": "execute_result",
          "data": {
            "text/plain": [
              "Text(0, 0.5, 'Aspecto cochera')"
            ]
          },
          "metadata": {},
          "execution_count": 189
        },
        {
          "output_type": "display_data",
          "data": {
            "text/plain": [
              "<Figure size 432x288 with 1 Axes>"
            ],
            "image/png": "[encoded data removed]"
          },
          "metadata": {
            "needs_background": "light"
          }
        }
      ]
    },
    {
      "cell_type": "markdown",
      "source": [
        "Nuevamente el atributo más importante es: *fija*."
      ],
      "metadata": {
        "id": "hxvILx6NHVBa"
      }
    },
    {
      "cell_type": "markdown",
      "source": [
        "###### Apecto aire"
      ],
      "metadata": {
        "id": "Pn_ohex5HVBa"
      }
    },
    {
      "cell_type": "code",
      "source": [
        "aspecto_id = list()\n",
        "\n",
        "for aspecto in list(filter(lambda x: x.startswith('aire_'), df_dummies.columns.tolist())):\n",
        "  aspecto_id.append(df_dummies.columns.get_loc(aspecto))"
      ],
      "metadata": {
        "id": "x6996KcuHVBa"
      },
      "execution_count": 190,
      "outputs": []
    },
    {
      "cell_type": "code",
      "source": [
        "plt.barh(df_test_dummies.columns[aspecto_id], XGB_Regressor.feature_importances_[aspecto_id])\n",
        "plt.xlabel(\"Importancia de Atributos\")\n",
        "plt.ylabel(\"Aspecto aire\")"
      ],
      "metadata": {
        "colab": {
          "base_uri": "https://localhost:8080/",
          "height": 296
        },
        "outputId": "80c29019-a356-4484-c79f-1be783730808",
        "id": "U0XKqtUvHVBb"
      },
      "execution_count": 191,
      "outputs": [
        {
          "output_type": "execute_result",
          "data": {
            "text/plain": [
              "Text(0, 0.5, 'Aspecto aire')"
            ]
          },
          "metadata": {},
          "execution_count": 191
        },
        {
          "output_type": "display_data",
          "data": {
            "text/plain": [
              "<Figure size 432x288 with 1 Axes>"
            ],
            "image/png": "[encoded data removed]"
          },
          "metadata": {
            "needs_background": "light"
          }
        }
      ]
    },
    {
      "cell_type": "markdown",
      "source": [
        "Nuevamente el atributo más importante es: *split*."
      ],
      "metadata": {
        "id": "pGP13GR6HVBb"
      }
    },
    {
      "cell_type": "markdown",
      "source": [
        "#### Conclusiones"
      ],
      "metadata": {
        "id": "4XRDET_pKIkZ"
      }
    },
    {
      "cell_type": "markdown",
      "source": [
        "Veamos que, con o sin optimización de parámetros, los atributos más importantes que encontramos para cada aspecto seleccionado fueron:\n",
        "- cocina: integrada\n",
        "- pisos: madera \n",
        "- calefaccion: radiante\n",
        "- expensas: impuestos\n",
        "- lavadero: cocina\n",
        "- balcon: terraza\n",
        "- cochera: fija\n",
        "- aire: split"
      ],
      "metadata": {
        "id": "sJ_oB19CKKK4"
      }
    },
    {
      "cell_type": "markdown",
      "metadata": {
        "id": "_f0JxWEL8GUY"
      },
      "source": [
        "#### Exportación del Modelo"
      ]
    },
    {
      "cell_type": "markdown",
      "metadata": {
        "id": "WfUfzEP7bUrz"
      },
      "source": [
        "Finalmente exportamos el modelo utilizado para predecir, resultante de la optimización de hiperparámetros:"
      ]
    },
    {
      "cell_type": "code",
      "execution_count": 192,
      "metadata": {
        "id": "RNVI92fe8WEP"
      },
      "outputs": [],
      "source": [
        "if IN_COLAB:\n",
        "  path = '/content/drive/MyDrive/📒 Organización de Datos (75.06)/TPS/TP2/MODELOS/XGB_Regressor.json'\n",
        "else:\n",
        "  path = './MODELOS/XGB_Regressor.json'\n",
        "\n",
        "randomCV.best_estimator_.save_model(path)"
      ]
    },
    {
      "cell_type": "markdown",
      "metadata": {
        "collapsed": false,
        "id": "l7vjuvrWbtpc"
      },
      "source": [
        "## 2. Redes Neuronales"
      ]
    },
    {
      "cell_type": "markdown",
      "metadata": {
        "id": "2HjJDe4W_iY-"
      },
      "source": [
        "### 2. a) Regresión\n",
        "___"
      ]
    },
    {
      "cell_type": "markdown",
      "metadata": {
        "id": "5xI2H0xyYm_B"
      },
      "source": [
        "#### Preparación del dataset"
      ]
    },
    {
      "cell_type": "code",
      "execution_count": 16,
      "metadata": {
        "id": "O6pCJgOiYbJB"
      },
      "outputs": [],
      "source": [
        "x_train_regresion = df_train_x.drop([\"id\"], axis=1).copy()\n",
        "y_train_regresion = df_train_y_regresion.copy()\n",
        "x_test_regresion = df_test_x.drop([\"id\"], axis=1).copy()\n",
        "y_test_regresion = df_test_y_regresion.copy()"
      ]
    },
    {
      "cell_type": "markdown",
      "metadata": {
        "collapsed": false,
        "id": "PKPRQVFS_TQT"
      },
      "source": [
        "Normalizamos las entradas con StandardScaler:"
      ]
    },
    {
      "cell_type": "code",
      "execution_count": 17,
      "metadata": {
        "id": "s3xTEOkRlufG"
      },
      "outputs": [],
      "source": [
        "estandarizar(x_train_regresion, ['start_date', 'end_date', 'latitud', 'longitud', 'property_rooms', 'property_surface_total'])\n",
        "estandarizar(x_test_regresion, ['start_date', 'end_date', 'latitud', 'longitud', 'property_rooms', 'property_surface_total'])"
      ]
    },
    {
      "cell_type": "code",
      "execution_count": 18,
      "metadata": {
        "colab": {
          "base_uri": "https://localhost:8080/",
          "height": 0
        },
        "id": "kypRw7jF_TQT",
        "outputId": "9b89dfe1-2d6c-4835-c78a-4e69df32ae9a"
      },
      "outputs": [
        {
          "output_type": "execute_result",
          "data": {
            "text/plain": [
              "   start_date  end_date   latitud  longitud  property_rooms  \\\n",
              "0   -0.013962 -0.503294  0.719583  0.842780        3.378343   \n",
              "1   -1.018754 -1.315343 -0.536796  2.035631        0.985222   \n",
              "2   -0.941462  0.196521  0.993212  0.197907        0.985222   \n",
              "3    1.541533  0.757694  0.613858  0.854585        0.187515   \n",
              "4   -0.941462  0.196521  0.993212  0.197907        0.985222   \n",
              "\n",
              "   property_surface_total  place_l4_Agronomía  place_l4_Almagro  \\\n",
              "0                5.038170                   0                 0   \n",
              "1                1.655539                   0                 0   \n",
              "2                2.665736                   0                 0   \n",
              "3                0.522893                   0                 0   \n",
              "4                1.211664                   0                 0   \n",
              "\n",
              "   place_l4_Balvanera  place_l4_Barracas  ...  place_l4_Villa Ortuzar  \\\n",
              "0                   0                  0  ...                       0   \n",
              "1                   0                  0  ...                       0   \n",
              "2                   0                  0  ...                       0   \n",
              "3                   0                  0  ...                       0   \n",
              "4                   0                  0  ...                       0   \n",
              "\n",
              "   place_l4_Villa Pueyrredón  place_l4_Villa Real  place_l4_Villa Riachuelo  \\\n",
              "0                          0                    0                         0   \n",
              "1                          0                    0                         0   \n",
              "2                          0                    0                         0   \n",
              "3                          0                    0                         0   \n",
              "4                          0                    0                         0   \n",
              "\n",
              "   place_l4_Villa Santa Rita  place_l4_Villa Soldati  place_l4_Villa Urquiza  \\\n",
              "0                          0                       0                       0   \n",
              "1                          0                       0                       0   \n",
              "2                          0                       0                       0   \n",
              "3                          0                       0                       0   \n",
              "4                          0                       0                       0   \n",
              "\n",
              "   place_l4_Villa del Parque  property_type_Departamento  property_type_PH  \n",
              "0                          0                           1                 0  \n",
              "1                          0                           1                 0  \n",
              "2                          0                           1                 0  \n",
              "3                          0                           1                 0  \n",
              "4                          0                           1                 0  \n",
              "\n",
              "[5 rows x 69 columns]"
            ],
            "text/html": [
              "\n",
              "  <div id=\"df-9f4c4718-d152-4ecc-9e98-cc2f5534b364\">\n",
              "    <div class=\"colab-df-container\">\n",
              "      <div>\n",
              "<style scoped>\n",
              "    .dataframe tbody tr th:only-of-type {\n",
              "        vertical-align: middle;\n",
              "    }\n",
              "\n",
              "    .dataframe tbody tr th {\n",
              "        vertical-align: top;\n",
              "    }\n",
              "\n",
              "    .dataframe thead th {\n",
              "        text-align: right;\n",
              "    }\n",
              "</style>\n",
              "<table border=\"1\" class=\"dataframe\">\n",
              "  <thead>\n",
              "    <tr style=\"text-align: right;\">\n",
              "      <th></th>\n",
              "      <th>start_date</th>\n",
              "      <th>end_date</th>\n",
              "      <th>latitud</th>\n",
              "      <th>longitud</th>\n",
              "      <th>property_rooms</th>\n",
              "      <th>property_surface_total</th>\n",
              "      <th>place_l4_Agronomía</th>\n",
              "      <th>place_l4_Almagro</th>\n",
              "      <th>place_l4_Balvanera</th>\n",
              "      <th>place_l4_Barracas</th>\n",
              "      <th>...</th>\n",
              "      <th>place_l4_Villa Ortuzar</th>\n",
              "      <th>place_l4_Villa Pueyrredón</th>\n",
              "      <th>place_l4_Villa Real</th>\n",
              "      <th>place_l4_Villa Riachuelo</th>\n",
              "      <th>place_l4_Villa Santa Rita</th>\n",
              "      <th>place_l4_Villa Soldati</th>\n",
              "      <th>place_l4_Villa Urquiza</th>\n",
              "      <th>place_l4_Villa del Parque</th>\n",
              "      <th>property_type_Departamento</th>\n",
              "      <th>property_type_PH</th>\n",
              "    </tr>\n",
              "  </thead>\n",
              "  <tbody>\n",
              "    <tr>\n",
              "      <th>0</th>\n",
              "      <td>-0.013962</td>\n",
              "      <td>-0.503294</td>\n",
              "      <td>0.719583</td>\n",
              "      <td>0.842780</td>\n",
              "      <td>3.378343</td>\n",
              "      <td>5.038170</td>\n",
              "      <td>0</td>\n",
              "      <td>0</td>\n",
              "      <td>0</td>\n",
              "      <td>0</td>\n",
              "      <td>...</td>\n",
              "      <td>0</td>\n",
              "      <td>0</td>\n",
              "      <td>0</td>\n",
              "      <td>0</td>\n",
              "      <td>0</td>\n",
              "      <td>0</td>\n",
              "      <td>0</td>\n",
              "      <td>0</td>\n",
              "      <td>1</td>\n",
              "      <td>0</td>\n",
              "    </tr>\n",
              "    <tr>\n",
              "      <th>1</th>\n",
              "      <td>-1.018754</td>\n",
              "      <td>-1.315343</td>\n",
              "      <td>-0.536796</td>\n",
              "      <td>2.035631</td>\n",
              "      <td>0.985222</td>\n",
              "      <td>1.655539</td>\n",
              "      <td>0</td>\n",
              "      <td>0</td>\n",
              "      <td>0</td>\n",
              "      <td>0</td>\n",
              "      <td>...</td>\n",
              "      <td>0</td>\n",
              "      <td>0</td>\n",
              "      <td>0</td>\n",
              "      <td>0</td>\n",
              "      <td>0</td>\n",
              "      <td>0</td>\n",
              "      <td>0</td>\n",
              "      <td>0</td>\n",
              "      <td>1</td>\n",
              "      <td>0</td>\n",
              "    </tr>\n",
              "    <tr>\n",
              "      <th>2</th>\n",
              "      <td>-0.941462</td>\n",
              "      <td>0.196521</td>\n",
              "      <td>0.993212</td>\n",
              "      <td>0.197907</td>\n",
              "      <td>0.985222</td>\n",
              "      <td>2.665736</td>\n",
              "      <td>0</td>\n",
              "      <td>0</td>\n",
              "      <td>0</td>\n",
              "      <td>0</td>\n",
              "      <td>...</td>\n",
              "      <td>0</td>\n",
              "      <td>0</td>\n",
              "      <td>0</td>\n",
              "      <td>0</td>\n",
              "      <td>0</td>\n",
              "      <td>0</td>\n",
              "      <td>0</td>\n",
              "      <td>0</td>\n",
              "      <td>1</td>\n",
              "      <td>0</td>\n",
              "    </tr>\n",
              "    <tr>\n",
              "      <th>3</th>\n",
              "      <td>1.541533</td>\n",
              "      <td>0.757694</td>\n",
              "      <td>0.613858</td>\n",
              "      <td>0.854585</td>\n",
              "      <td>0.187515</td>\n",
              "      <td>0.522893</td>\n",
              "      <td>0</td>\n",
              "      <td>0</td>\n",
              "      <td>0</td>\n",
              "      <td>0</td>\n",
              "      <td>...</td>\n",
              "      <td>0</td>\n",
              "      <td>0</td>\n",
              "      <td>0</td>\n",
              "      <td>0</td>\n",
              "      <td>0</td>\n",
              "      <td>0</td>\n",
              "      <td>0</td>\n",
              "      <td>0</td>\n",
              "      <td>1</td>\n",
              "      <td>0</td>\n",
              "    </tr>\n",
              "    <tr>\n",
              "      <th>4</th>\n",
              "      <td>-0.941462</td>\n",
              "      <td>0.196521</td>\n",
              "      <td>0.993212</td>\n",
              "      <td>0.197907</td>\n",
              "      <td>0.985222</td>\n",
              "      <td>1.211664</td>\n",
              "      <td>0</td>\n",
              "      <td>0</td>\n",
              "      <td>0</td>\n",
              "      <td>0</td>\n",
              "      <td>...</td>\n",
              "      <td>0</td>\n",
              "      <td>0</td>\n",
              "      <td>0</td>\n",
              "      <td>0</td>\n",
              "      <td>0</td>\n",
              "      <td>0</td>\n",
              "      <td>0</td>\n",
              "      <td>0</td>\n",
              "      <td>1</td>\n",
              "      <td>0</td>\n",
              "    </tr>\n",
              "  </tbody>\n",
              "</table>\n",
              "<p>5 rows × 69 columns</p>\n",
              "</div>\n",
              "      <button class=\"colab-df-convert\" onclick=\"convertToInteractive('df-9f4c4718-d152-4ecc-9e98-cc2f5534b364')\"\n",
              "              title=\"Convert this dataframe to an interactive table.\"\n",
              "              style=\"display:none;\">\n",
              "        \n",
              "  <svg xmlns=\"http://www.w3.org/2000/svg\" height=\"24px\"viewBox=\"0 0 24 24\"\n",
              "       width=\"24px\">\n",
              "    <path d=\"M0 0h24v24H0V0z\" fill=\"none\"/>\n",
              "    <path d=\"M18.56 5.44l.94 2.06.94-2.06 2.06-.94-2.06-.94-.94-2.06-.94 2.06-2.06.94zm-11 1L8.5 8.5l.94-2.06 2.06-.94-2.06-.94L8.5 2.5l-.94 2.06-2.06.94zm10 10l.94 2.06.94-2.06 2.06-.94-2.06-.94-.94-2.06-.94 2.06-2.06.94z\"/><path d=\"M17.41 7.96l-1.37-1.37c-.4-.4-.92-.59-1.43-.59-.52 0-1.04.2-1.43.59L10.3 9.45l-7.72 7.72c-.78.78-.78 2.05 0 2.83L4 21.41c.39.39.9.59 1.41.59.51 0 1.02-.2 1.41-.59l7.78-7.78 2.81-2.81c.8-.78.8-2.07 0-2.86zM5.41 20L4 18.59l7.72-7.72 1.47 1.35L5.41 20z\"/>\n",
              "  </svg>\n",
              "      </button>\n",
              "      \n",
              "  <style>\n",
              "    .colab-df-container {\n",
              "      display:flex;\n",
              "      flex-wrap:wrap;\n",
              "      gap: 12px;\n",
              "    }\n",
              "\n",
              "    .colab-df-convert {\n",
              "      background-color: #E8F0FE;\n",
              "      border: none;\n",
              "      border-radius: 50%;\n",
              "      cursor: pointer;\n",
              "      display: none;\n",
              "      fill: #1967D2;\n",
              "      height: 32px;\n",
              "      padding: 0 0 0 0;\n",
              "      width: 32px;\n",
              "    }\n",
              "\n",
              "    .colab-df-convert:hover {\n",
              "      background-color: #E2EBFA;\n",
              "      box-shadow: 0px 1px 2px rgba(60, 64, 67, 0.3), 0px 1px 3px 1px rgba(60, 64, 67, 0.15);\n",
              "      fill: #174EA6;\n",
              "    }\n",
              "\n",
              "    [theme=dark] .colab-df-convert {\n",
              "      background-color: #3B4455;\n",
              "      fill: #D2E3FC;\n",
              "    }\n",
              "\n",
              "    [theme=dark] .colab-df-convert:hover {\n",
              "      background-color: #434B5C;\n",
              "      box-shadow: 0px 1px 3px 1px rgba(0, 0, 0, 0.15);\n",
              "      filter: drop-shadow(0px 1px 2px rgba(0, 0, 0, 0.3));\n",
              "      fill: #FFFFFF;\n",
              "    }\n",
              "  </style>\n",
              "\n",
              "      <script>\n",
              "        const buttonEl =\n",
              "          document.querySelector('#df-9f4c4718-d152-4ecc-9e98-cc2f5534b364 button.colab-df-convert');\n",
              "        buttonEl.style.display =\n",
              "          google.colab.kernel.accessAllowed ? 'block' : 'none';\n",
              "\n",
              "        async function convertToInteractive(key) {\n",
              "          const element = document.querySelector('#df-9f4c4718-d152-4ecc-9e98-cc2f5534b364');\n",
              "          const dataTable =\n",
              "            await google.colab.kernel.invokeFunction('convertToInteractive',\n",
              "                                                     [key], {});\n",
              "          if (!dataTable) return;\n",
              "\n",
              "          const docLinkHtml = 'Like what you see? Visit the ' +\n",
              "            '<a target=\"_blank\" href=https://colab.research.google.com/notebooks/data_table.ipynb>data table notebook</a>'\n",
              "            + ' to learn more about interactive tables.';\n",
              "          element.innerHTML = '';\n",
              "          dataTable['output_type'] = 'display_data';\n",
              "          await google.colab.output.renderOutput(dataTable, element);\n",
              "          const docLink = document.createElement('div');\n",
              "          docLink.innerHTML = docLinkHtml;\n",
              "          element.appendChild(docLink);\n",
              "        }\n",
              "      </script>\n",
              "    </div>\n",
              "  </div>\n",
              "  "
            ]
          },
          "metadata": {},
          "execution_count": 18
        }
      ],
      "source": [
        "x_train_regresion.head(5)"
      ]
    },
    {
      "cell_type": "markdown",
      "metadata": {
        "id": "NjqmQr4pYrEE"
      },
      "source": [
        "#### Búsqueda del mejor modelo"
      ]
    },
    {
      "cell_type": "markdown",
      "metadata": {
        "collapsed": false,
        "id": "YcLCeAlpYbJB"
      },
      "source": [
        "Creo una función que me permite generar un modelo a partir de sus hiperparámetros. Esta función tiene como parámetros la cantidad de nodos de la primera y anteúltima capa, la cantidad de capas ocultas, la función de activación y el optimizador. Todos los modelos que genera a excepción de los casos sin capas ocultas) tienen forma de 'pirámide'."
      ]
    },
    {
      "cell_type": "code",
      "execution_count": 19,
      "metadata": {
        "id": "1PmE7SUBYbJC"
      },
      "outputs": [],
      "source": [
        "import math\n",
        "from keras.wrappers.scikit_learn import KerasClassifier, KerasRegressor\n",
        "from keras import Sequential\n",
        "from keras.layers import Dense\n",
        "\n",
        "cantidad_de_columnas = x_train_regresion.shape[1]\n",
        "\n",
        "def crear_modelo(hidden_layers, first_layer_nodes, last_layer_nodes, activation_func, optimizer):\n",
        "\n",
        "    sequential = Sequential()\n",
        "    sequential.add(keras.layers.Dense(cantidad_de_columnas, input_shape=(cantidad_de_columnas,), activation=activation_func))\n",
        "\n",
        "    if hidden_layers is 0 or hidden_layers is 1:\n",
        "        decremento = 0\n",
        "    else:\n",
        "        decremento = math.ceil((first_layer_nodes - last_layer_nodes) / (hidden_layers - 1))\n",
        "\n",
        "    for i in range (0, hidden_layers):\n",
        "        nodos = first_layer_nodes - decremento * i\n",
        "        sequential.add(Dense(nodos, activation=activation_func))\n",
        "\n",
        "    sequential.add(Dense(1, activation=activation_func))\n",
        "\n",
        "    sequential.compile(\n",
        "        optimizer=optimizer,\n",
        "        loss='mse',\n",
        "        metrics=['mse', 'mean_absolute_percentage_error']\n",
        "    )\n",
        "\n",
        "    return sequential\n",
        "\n",
        "\n",
        "modelo =  KerasRegressor(build_fn=crear_modelo, verbose = False)"
      ]
    },
    {
      "cell_type": "markdown",
      "metadata": {
        "collapsed": false,
        "id": "GZKgIanzYbJC"
      },
      "source": [
        "Luego busco el mejor modelo a partir de una grilla de parámetros arbitrarios con el método de 'GridSearchCV'. El criterio de mejor modelo es el que tenga menor error cuadrado, o lo que es equivalente, mayor error cuadrado negado. Nos limitamos en la cantidad de folds en el CV por el consumo temporal."
      ]
    },
    {
      "cell_type": "code",
      "execution_count": 20,
      "metadata": {
        "id": "FAskXCRgYbJC"
      },
      "outputs": [],
      "source": [
        "from sklearn.model_selection import GridSearchCV\n",
        "\n",
        "param_grid = dict(\n",
        "    hidden_layers=[1, 2],\n",
        "    first_layer_nodes = [math.ceil(cantidad_de_columnas * 0.7), math.ceil(cantidad_de_columnas * 0.5)],\n",
        "    last_layer_nodes = [5, cantidad_de_columnas * 0.5],\n",
        "    activation_func = ['sigmoid', 'relu', 'tanh'],\n",
        "    batch_size = [100],\n",
        "    epochs = [60],\n",
        "    optimizer=['RMSprop', 'adam']\n",
        ")\n",
        "\n",
        "grid = GridSearchCV(\n",
        "    estimator = modelo,\n",
        "    param_grid = param_grid,\n",
        "    n_jobs=-1, cv=3,\n",
        "    error_score='raise',\n",
        "    scoring='neg_mean_squared_error'\n",
        ")"
      ]
    },
    {
      "cell_type": "markdown",
      "metadata": {
        "collapsed": false,
        "id": "hp3x0Os-YbJC"
      },
      "source": [
        "Entrenamos todos los modelos"
      ]
    },
    {
      "cell_type": "code",
      "execution_count": 21,
      "metadata": {
        "colab": {
          "base_uri": "https://localhost:8080/",
          "height": 311
        },
        "id": "Dw36t_Y1YbJC",
        "outputId": "7da16a46-dd64-47e7-cc8e-3c44252273d7"
      },
      "outputs": [
        {
          "output_type": "error",
          "ename": "KeyboardInterrupt",
          "evalue": "ignored",
          "traceback": [
            "\u001b[0;31m---------------------------------------------------------------------------\u001b[0m",
            "\u001b[0;31mKeyboardInterrupt\u001b[0m                         Traceback (most recent call last)",
            "\u001b[0;32m<ipython-input-21-4f547d2e7560>\u001b[0m in \u001b[0;36m<module>\u001b[0;34m\u001b[0m\n\u001b[0;32m----> 1\u001b[0;31m \u001b[0mgrid_result\u001b[0m \u001b[0;34m=\u001b[0m \u001b[0mgrid\u001b[0m\u001b[0;34m.\u001b[0m\u001b[0mfit\u001b[0m\u001b[0;34m(\u001b[0m\u001b[0mx_train_regresion\u001b[0m\u001b[0;34m,\u001b[0m \u001b[0my_train_regresion\u001b[0m\u001b[0;34m)\u001b[0m\u001b[0;34m\u001b[0m\u001b[0;34m\u001b[0m\u001b[0m\n\u001b[0m",
            "\u001b[0;32m/usr/local/lib/python3.8/dist-packages/sklearn/model_selection/_search.py\u001b[0m in \u001b[0;36mfit\u001b[0;34m(self, X, y, groups, **fit_params)\u001b[0m\n\u001b[1;32m    889\u001b[0m                 \u001b[0;32mreturn\u001b[0m \u001b[0mresults\u001b[0m\u001b[0;34m\u001b[0m\u001b[0;34m\u001b[0m\u001b[0m\n\u001b[1;32m    890\u001b[0m \u001b[0;34m\u001b[0m\u001b[0m\n\u001b[0;32m--> 891\u001b[0;31m             \u001b[0mself\u001b[0m\u001b[0;34m.\u001b[0m\u001b[0m_run_search\u001b[0m\u001b[0;34m(\u001b[0m\u001b[0mevaluate_candidates\u001b[0m\u001b[0;34m)\u001b[0m\u001b[0;34m\u001b[0m\u001b[0;34m\u001b[0m\u001b[0m\n\u001b[0m\u001b[1;32m    892\u001b[0m \u001b[0;34m\u001b[0m\u001b[0m\n\u001b[1;32m    893\u001b[0m             \u001b[0;31m# multimetric is determined here because in the case of a callable\u001b[0m\u001b[0;34m\u001b[0m\u001b[0;34m\u001b[0m\u001b[0;34m\u001b[0m\u001b[0m\n",
            "\u001b[0;32m/usr/local/lib/python3.8/dist-packages/sklearn/model_selection/_search.py\u001b[0m in \u001b[0;36m_run_search\u001b[0;34m(self, evaluate_candidates)\u001b[0m\n\u001b[1;32m   1390\u001b[0m     \u001b[0;32mdef\u001b[0m \u001b[0m_run_search\u001b[0m\u001b[0;34m(\u001b[0m\u001b[0mself\u001b[0m\u001b[0;34m,\u001b[0m \u001b[0mevaluate_candidates\u001b[0m\u001b[0;34m)\u001b[0m\u001b[0;34m:\u001b[0m\u001b[0;34m\u001b[0m\u001b[0;34m\u001b[0m\u001b[0m\n\u001b[1;32m   1391\u001b[0m         \u001b[0;34m\"\"\"Search all candidates in param_grid\"\"\"\u001b[0m\u001b[0;34m\u001b[0m\u001b[0;34m\u001b[0m\u001b[0m\n\u001b[0;32m-> 1392\u001b[0;31m         \u001b[0mevaluate_candidates\u001b[0m\u001b[0;34m(\u001b[0m\u001b[0mParameterGrid\u001b[0m\u001b[0;34m(\u001b[0m\u001b[0mself\u001b[0m\u001b[0;34m.\u001b[0m\u001b[0mparam_grid\u001b[0m\u001b[0;34m)\u001b[0m\u001b[0;34m)\u001b[0m\u001b[0;34m\u001b[0m\u001b[0;34m\u001b[0m\u001b[0m\n\u001b[0m\u001b[1;32m   1393\u001b[0m \u001b[0;34m\u001b[0m\u001b[0m\n\u001b[1;32m   1394\u001b[0m \u001b[0;34m\u001b[0m\u001b[0m\n",
            "\u001b[0;32m/usr/local/lib/python3.8/dist-packages/sklearn/model_selection/_search.py\u001b[0m in \u001b[0;36mevaluate_candidates\u001b[0;34m(candidate_params, cv, more_results)\u001b[0m\n\u001b[1;32m    836\u001b[0m                     )\n\u001b[1;32m    837\u001b[0m \u001b[0;34m\u001b[0m\u001b[0m\n\u001b[0;32m--> 838\u001b[0;31m                 out = parallel(\n\u001b[0m\u001b[1;32m    839\u001b[0m                     delayed(_fit_and_score)(\n\u001b[1;32m    840\u001b[0m                         \u001b[0mclone\u001b[0m\u001b[0;34m(\u001b[0m\u001b[0mbase_estimator\u001b[0m\u001b[0;34m)\u001b[0m\u001b[0;34m,\u001b[0m\u001b[0;34m\u001b[0m\u001b[0;34m\u001b[0m\u001b[0m\n",
            "\u001b[0;32m/usr/local/lib/python3.8/dist-packages/joblib/parallel.py\u001b[0m in \u001b[0;36m__call__\u001b[0;34m(self, iterable)\u001b[0m\n\u001b[1;32m   1096\u001b[0m \u001b[0;34m\u001b[0m\u001b[0m\n\u001b[1;32m   1097\u001b[0m             \u001b[0;32mwith\u001b[0m \u001b[0mself\u001b[0m\u001b[0;34m.\u001b[0m\u001b[0m_backend\u001b[0m\u001b[0;34m.\u001b[0m\u001b[0mretrieval_context\u001b[0m\u001b[0;34m(\u001b[0m\u001b[0;34m)\u001b[0m\u001b[0;34m:\u001b[0m\u001b[0;34m\u001b[0m\u001b[0;34m\u001b[0m\u001b[0m\n\u001b[0;32m-> 1098\u001b[0;31m                 \u001b[0mself\u001b[0m\u001b[0;34m.\u001b[0m\u001b[0mretrieve\u001b[0m\u001b[0;34m(\u001b[0m\u001b[0;34m)\u001b[0m\u001b[0;34m\u001b[0m\u001b[0;34m\u001b[0m\u001b[0m\n\u001b[0m\u001b[1;32m   1099\u001b[0m             \u001b[0;31m# Make sure that we get a last message telling us we are done\u001b[0m\u001b[0;34m\u001b[0m\u001b[0;34m\u001b[0m\u001b[0;34m\u001b[0m\u001b[0m\n\u001b[1;32m   1100\u001b[0m             \u001b[0melapsed_time\u001b[0m \u001b[0;34m=\u001b[0m \u001b[0mtime\u001b[0m\u001b[0;34m.\u001b[0m\u001b[0mtime\u001b[0m\u001b[0;34m(\u001b[0m\u001b[0;34m)\u001b[0m \u001b[0;34m-\u001b[0m \u001b[0mself\u001b[0m\u001b[0;34m.\u001b[0m\u001b[0m_start_time\u001b[0m\u001b[0;34m\u001b[0m\u001b[0;34m\u001b[0m\u001b[0m\n",
            "\u001b[0;32m/usr/local/lib/python3.8/dist-packages/joblib/parallel.py\u001b[0m in \u001b[0;36mretrieve\u001b[0;34m(self)\u001b[0m\n\u001b[1;32m    973\u001b[0m             \u001b[0;32mtry\u001b[0m\u001b[0;34m:\u001b[0m\u001b[0;34m\u001b[0m\u001b[0;34m\u001b[0m\u001b[0m\n\u001b[1;32m    974\u001b[0m                 \u001b[0;32mif\u001b[0m \u001b[0mgetattr\u001b[0m\u001b[0;34m(\u001b[0m\u001b[0mself\u001b[0m\u001b[0;34m.\u001b[0m\u001b[0m_backend\u001b[0m\u001b[0;34m,\u001b[0m \u001b[0;34m'supports_timeout'\u001b[0m\u001b[0;34m,\u001b[0m \u001b[0;32mFalse\u001b[0m\u001b[0;34m)\u001b[0m\u001b[0;34m:\u001b[0m\u001b[0;34m\u001b[0m\u001b[0;34m\u001b[0m\u001b[0m\n\u001b[0;32m--> 975\u001b[0;31m                     \u001b[0mself\u001b[0m\u001b[0;34m.\u001b[0m\u001b[0m_output\u001b[0m\u001b[0;34m.\u001b[0m\u001b[0mextend\u001b[0m\u001b[0;34m(\u001b[0m\u001b[0mjob\u001b[0m\u001b[0;34m.\u001b[0m\u001b[0mget\u001b[0m\u001b[0;34m(\u001b[0m\u001b[0mtimeout\u001b[0m\u001b[0;34m=\u001b[0m\u001b[0mself\u001b[0m\u001b[0;34m.\u001b[0m\u001b[0mtimeout\u001b[0m\u001b[0;34m)\u001b[0m\u001b[0;34m)\u001b[0m\u001b[0;34m\u001b[0m\u001b[0;34m\u001b[0m\u001b[0m\n\u001b[0m\u001b[1;32m    976\u001b[0m                 \u001b[0;32melse\u001b[0m\u001b[0;34m:\u001b[0m\u001b[0;34m\u001b[0m\u001b[0;34m\u001b[0m\u001b[0m\n\u001b[1;32m    977\u001b[0m                     \u001b[0mself\u001b[0m\u001b[0;34m.\u001b[0m\u001b[0m_output\u001b[0m\u001b[0;34m.\u001b[0m\u001b[0mextend\u001b[0m\u001b[0;34m(\u001b[0m\u001b[0mjob\u001b[0m\u001b[0;34m.\u001b[0m\u001b[0mget\u001b[0m\u001b[0;34m(\u001b[0m\u001b[0;34m)\u001b[0m\u001b[0;34m)\u001b[0m\u001b[0;34m\u001b[0m\u001b[0;34m\u001b[0m\u001b[0m\n",
            "\u001b[0;32m/usr/local/lib/python3.8/dist-packages/joblib/_parallel_backends.py\u001b[0m in \u001b[0;36mwrap_future_result\u001b[0;34m(future, timeout)\u001b[0m\n\u001b[1;32m    565\u001b[0m         AsyncResults.get from multiprocessing.\"\"\"\n\u001b[1;32m    566\u001b[0m         \u001b[0;32mtry\u001b[0m\u001b[0;34m:\u001b[0m\u001b[0;34m\u001b[0m\u001b[0;34m\u001b[0m\u001b[0m\n\u001b[0;32m--> 567\u001b[0;31m             \u001b[0;32mreturn\u001b[0m \u001b[0mfuture\u001b[0m\u001b[0;34m.\u001b[0m\u001b[0mresult\u001b[0m\u001b[0;34m(\u001b[0m\u001b[0mtimeout\u001b[0m\u001b[0;34m=\u001b[0m\u001b[0mtimeout\u001b[0m\u001b[0;34m)\u001b[0m\u001b[0;34m\u001b[0m\u001b[0;34m\u001b[0m\u001b[0m\n\u001b[0m\u001b[1;32m    568\u001b[0m         \u001b[0;32mexcept\u001b[0m \u001b[0mCfTimeoutError\u001b[0m \u001b[0;32mas\u001b[0m \u001b[0me\u001b[0m\u001b[0;34m:\u001b[0m\u001b[0;34m\u001b[0m\u001b[0;34m\u001b[0m\u001b[0m\n\u001b[1;32m    569\u001b[0m             \u001b[0;32mraise\u001b[0m \u001b[0mTimeoutError\u001b[0m \u001b[0;32mfrom\u001b[0m \u001b[0me\u001b[0m\u001b[0;34m\u001b[0m\u001b[0;34m\u001b[0m\u001b[0m\n",
            "\u001b[0;32m/usr/lib/python3.8/concurrent/futures/_base.py\u001b[0m in \u001b[0;36mresult\u001b[0;34m(self, timeout)\u001b[0m\n\u001b[1;32m    437\u001b[0m                     \u001b[0;32mreturn\u001b[0m \u001b[0mself\u001b[0m\u001b[0;34m.\u001b[0m\u001b[0m__get_result\u001b[0m\u001b[0;34m(\u001b[0m\u001b[0;34m)\u001b[0m\u001b[0;34m\u001b[0m\u001b[0;34m\u001b[0m\u001b[0m\n\u001b[1;32m    438\u001b[0m \u001b[0;34m\u001b[0m\u001b[0m\n\u001b[0;32m--> 439\u001b[0;31m                 \u001b[0mself\u001b[0m\u001b[0;34m.\u001b[0m\u001b[0m_condition\u001b[0m\u001b[0;34m.\u001b[0m\u001b[0mwait\u001b[0m\u001b[0;34m(\u001b[0m\u001b[0mtimeout\u001b[0m\u001b[0;34m)\u001b[0m\u001b[0;34m\u001b[0m\u001b[0;34m\u001b[0m\u001b[0m\n\u001b[0m\u001b[1;32m    440\u001b[0m \u001b[0;34m\u001b[0m\u001b[0m\n\u001b[1;32m    441\u001b[0m                 \u001b[0;32mif\u001b[0m \u001b[0mself\u001b[0m\u001b[0;34m.\u001b[0m\u001b[0m_state\u001b[0m \u001b[0;32min\u001b[0m \u001b[0;34m[\u001b[0m\u001b[0mCANCELLED\u001b[0m\u001b[0;34m,\u001b[0m \u001b[0mCANCELLED_AND_NOTIFIED\u001b[0m\u001b[0;34m]\u001b[0m\u001b[0;34m:\u001b[0m\u001b[0;34m\u001b[0m\u001b[0;34m\u001b[0m\u001b[0m\n",
            "\u001b[0;32m/usr/lib/python3.8/threading.py\u001b[0m in \u001b[0;36mwait\u001b[0;34m(self, timeout)\u001b[0m\n\u001b[1;32m    300\u001b[0m         \u001b[0;32mtry\u001b[0m\u001b[0;34m:\u001b[0m    \u001b[0;31m# restore state no matter what (e.g., KeyboardInterrupt)\u001b[0m\u001b[0;34m\u001b[0m\u001b[0;34m\u001b[0m\u001b[0m\n\u001b[1;32m    301\u001b[0m             \u001b[0;32mif\u001b[0m \u001b[0mtimeout\u001b[0m \u001b[0;32mis\u001b[0m \u001b[0;32mNone\u001b[0m\u001b[0;34m:\u001b[0m\u001b[0;34m\u001b[0m\u001b[0;34m\u001b[0m\u001b[0m\n\u001b[0;32m--> 302\u001b[0;31m                 \u001b[0mwaiter\u001b[0m\u001b[0;34m.\u001b[0m\u001b[0macquire\u001b[0m\u001b[0;34m(\u001b[0m\u001b[0;34m)\u001b[0m\u001b[0;34m\u001b[0m\u001b[0;34m\u001b[0m\u001b[0m\n\u001b[0m\u001b[1;32m    303\u001b[0m                 \u001b[0mgotit\u001b[0m \u001b[0;34m=\u001b[0m \u001b[0;32mTrue\u001b[0m\u001b[0;34m\u001b[0m\u001b[0;34m\u001b[0m\u001b[0m\n\u001b[1;32m    304\u001b[0m             \u001b[0;32melse\u001b[0m\u001b[0;34m:\u001b[0m\u001b[0;34m\u001b[0m\u001b[0;34m\u001b[0m\u001b[0m\n",
            "\u001b[0;31mKeyboardInterrupt\u001b[0m: "
          ]
        }
      ],
      "source": [
        "grid_result = grid.fit(x_train_regresion, y_train_regresion)"
      ]
    },
    {
      "cell_type": "markdown",
      "metadata": {
        "collapsed": false,
        "id": "jZYImYgIYbJC"
      },
      "source": [
        "Los parámetros y métricas del mejor modelo fueron:"
      ]
    },
    {
      "cell_type": "code",
      "execution_count": null,
      "metadata": {
        "id": "ZxiiJ0yiYbJD"
      },
      "outputs": [],
      "source": [
        "print(\"El error absoluto porcentual promedio del mejor modelo fue de: \", grid_result.best_estimator_.model.metrics[2].result().numpy())\n",
        "print(\"El error absoluto cuadrado promedio del mejor modelo fue de: \", grid_result.best_estimator_.model.metrics[1].result().numpy())\n",
        "print(\"Los parámetros óptimizados fueron: \", grid.best_params_)"
      ]
    },
    {
      "cell_type": "code",
      "execution_count": null,
      "metadata": {
        "id": "2m18UAQcYbJD"
      },
      "outputs": [],
      "source": [
        "# print(\"Cross validation best model score: \", grid.best_score_) # Da un resultado negativo porque mientras mayor el valor absoluto, peor el modelo.\n",
        "# print(\"Cross validation best model parameters: \", grid.best_params_)"
      ]
    },
    {
      "cell_type": "markdown",
      "metadata": {
        "collapsed": false,
        "id": "ClJAuKyjYbJD"
      },
      "source": [
        "#### Predicción"
      ]
    },
    {
      "cell_type": "code",
      "execution_count": null,
      "metadata": {
        "id": "IfWBse1IYbJD"
      },
      "outputs": [],
      "source": [
        "grid_predict = grid.best_estimator_.model.evaluate(x_test_regresion, y_test_regresion)"
      ]
    },
    {
      "cell_type": "markdown",
      "metadata": {
        "collapsed": false,
        "id": "x0yLsjXHYbJD"
      },
      "source": [
        "#### Métricas"
      ]
    },
    {
      "cell_type": "code",
      "execution_count": null,
      "metadata": {
        "id": "GPBjxYIsYbJD"
      },
      "outputs": [],
      "source": [
        "print(\"El error absoluto porcentual promedio fue de: \", grid_predict[2])\n",
        "print(\"El error absoluto cuadrado promedio fue de: \", grid_predict[1])"
      ]
    },
    {
      "cell_type": "markdown",
      "metadata": {
        "id": "vmBg6ev_ZO-e"
      },
      "source": [
        "Veamos cómo se comporta la función de pérdida del mejor modelo según la cantidad de épocas utilizadas:"
      ]
    },
    {
      "cell_type": "code",
      "execution_count": null,
      "metadata": {
        "id": "BzNqiJex_TQU"
      },
      "outputs": [],
      "source": [
        "epochs = range(60)\n",
        "historia = grid_result.best_estimator_.model.history.history\n",
        "plt.plot(epochs, historia['mean_absolute_percentage_error'], color='orange', label='MSE')\n",
        "plt.xlabel(\"epochs\")\n",
        "plt.ylabel(\"MSE\")\n",
        "plt.title('Error cuadrático medio por cantidad de épocas')\n",
        "plt.legend()"
      ]
    },
    {
      "cell_type": "markdown",
      "metadata": {
        "id": "BeRZVagKeKzO"
      },
      "source": [
        "#### Exportación de Datos"
      ]
    },
    {
      "cell_type": "markdown",
      "metadata": {
        "id": "lO3v9OUzeKzP"
      },
      "source": [
        "Finalmente, exportamos el modelo utilizado:"
      ]
    },
    {
      "cell_type": "code",
      "execution_count": null,
      "metadata": {
        "id": "tSuqGenveKzP"
      },
      "outputs": [],
      "source": [
        "if IN_COLAB:\n",
        "  path = '/content/drive/MyDrive/📔 Organización de Datos (75.06)/TPS/TP2/MODELOS/Redes_Regressor.joblib'\n",
        "else:\n",
        "  path = './MODELOS/Redes_Regressor.joblib'\n",
        "\n",
        "dump(modelo, path)"
      ]
    },
    {
      "cell_type": "markdown",
      "metadata": {
        "collapsed": false,
        "id": "dXdWW-m9_TQV"
      },
      "source": [
        "### 2. b) Clasificación\n",
        "___\n"
      ]
    },
    {
      "cell_type": "markdown",
      "metadata": {
        "id": "b176QcPLZj9N"
      },
      "source": [
        "#### Preparación del dataset"
      ]
    },
    {
      "cell_type": "code",
      "execution_count": 62,
      "metadata": {
        "id": "Xogm6YaiYbJE"
      },
      "outputs": [],
      "source": [
        "x_train_clasificacion = df_train_x.drop([\"id\"], axis=1).copy()\n",
        "y_train_clasificacion = df_train_y_clasificacion.copy()\n",
        "x_test_clasificacion = df_test_x.drop([\"id\"], axis=1).copy()\n",
        "y_test_clasificacion = df_test_y_clasificacion.copy()"
      ]
    },
    {
      "cell_type": "code",
      "execution_count": 63,
      "metadata": {
        "colab": {
          "base_uri": "https://localhost:8080/",
          "height": 0
        },
        "id": "5J7-9NhpYbJF",
        "outputId": "211f5361-8dfe-41de-94f6-f68591408c7e"
      },
      "outputs": [
        {
          "output_type": "execute_result",
          "data": {
            "text/plain": [
              "       start_date  end_date    latitud   longitud  property_rooms  \\\n",
              "0          737971    737991 -34.576973 -58.406591             7.0   \n",
              "1          737867    737868 -34.610046 -58.361382             4.0   \n",
              "2          737875    738097 -34.569770 -58.431032             4.0   \n",
              "3          738132    738182 -34.579756 -58.406144             3.0   \n",
              "4          737875    738097 -34.569770 -58.431032             4.0   \n",
              "...           ...       ...        ...        ...             ...   \n",
              "74246      737802    737946 -34.572157 -58.494807             3.0   \n",
              "74247      737797    737946 -34.583718 -58.484141             4.0   \n",
              "74248      737802    737946 -34.572512 -58.478717             5.0   \n",
              "74249      737802    737946 -34.572512 -58.478717             5.0   \n",
              "74250      737802    737946 -34.572512 -58.478717             5.0   \n",
              "\n",
              "       property_surface_total  place_l4_Agronomía  place_l4_Almagro  \\\n",
              "0                       415.0                   0                 0   \n",
              "1                       194.0                   0                 0   \n",
              "2                       260.0                   0                 0   \n",
              "3                       120.0                   0                 0   \n",
              "4                       165.0                   0                 0   \n",
              "...                       ...                 ...               ...   \n",
              "74246                     1.0                   0                 0   \n",
              "74247                     1.0                   0                 0   \n",
              "74248                     1.0                   0                 0   \n",
              "74249                     1.0                   0                 0   \n",
              "74250                     1.0                   0                 0   \n",
              "\n",
              "       place_l4_Balvanera  place_l4_Barracas  ...  place_l4_Villa Ortuzar  \\\n",
              "0                       0                  0  ...                       0   \n",
              "1                       0                  0  ...                       0   \n",
              "2                       0                  0  ...                       0   \n",
              "3                       0                  0  ...                       0   \n",
              "4                       0                  0  ...                       0   \n",
              "...                   ...                ...  ...                     ...   \n",
              "74246                   0                  0  ...                       0   \n",
              "74247                   0                  0  ...                       0   \n",
              "74248                   0                  0  ...                       0   \n",
              "74249                   0                  0  ...                       0   \n",
              "74250                   0                  0  ...                       0   \n",
              "\n",
              "       place_l4_Villa Pueyrredón  place_l4_Villa Real  \\\n",
              "0                              0                    0   \n",
              "1                              0                    0   \n",
              "2                              0                    0   \n",
              "3                              0                    0   \n",
              "4                              0                    0   \n",
              "...                          ...                  ...   \n",
              "74246                          0                    0   \n",
              "74247                          0                    0   \n",
              "74248                          0                    0   \n",
              "74249                          0                    0   \n",
              "74250                          0                    0   \n",
              "\n",
              "       place_l4_Villa Riachuelo  place_l4_Villa Santa Rita  \\\n",
              "0                             0                          0   \n",
              "1                             0                          0   \n",
              "2                             0                          0   \n",
              "3                             0                          0   \n",
              "4                             0                          0   \n",
              "...                         ...                        ...   \n",
              "74246                         0                          0   \n",
              "74247                         0                          0   \n",
              "74248                         0                          0   \n",
              "74249                         0                          0   \n",
              "74250                         0                          0   \n",
              "\n",
              "       place_l4_Villa Soldati  place_l4_Villa Urquiza  \\\n",
              "0                           0                       0   \n",
              "1                           0                       0   \n",
              "2                           0                       0   \n",
              "3                           0                       0   \n",
              "4                           0                       0   \n",
              "...                       ...                     ...   \n",
              "74246                       0                       1   \n",
              "74247                       0                       1   \n",
              "74248                       0                       1   \n",
              "74249                       0                       1   \n",
              "74250                       0                       1   \n",
              "\n",
              "       place_l4_Villa del Parque  property_type_Departamento  property_type_PH  \n",
              "0                              0                           1                 0  \n",
              "1                              0                           1                 0  \n",
              "2                              0                           1                 0  \n",
              "3                              0                           1                 0  \n",
              "4                              0                           1                 0  \n",
              "...                          ...                         ...               ...  \n",
              "74246                          0                           1                 0  \n",
              "74247                          0                           0                 0  \n",
              "74248                          0                           1                 0  \n",
              "74249                          0                           1                 0  \n",
              "74250                          0                           1                 0  \n",
              "\n",
              "[74251 rows x 69 columns]"
            ],
            "text/html": [
              "\n",
              "  <div id=\"df-417caf47-a580-401b-ad35-aaee53d392f5\">\n",
              "    <div class=\"colab-df-container\">\n",
              "      <div>\n",
              "<style scoped>\n",
              "    .dataframe tbody tr th:only-of-type {\n",
              "        vertical-align: middle;\n",
              "    }\n",
              "\n",
              "    .dataframe tbody tr th {\n",
              "        vertical-align: top;\n",
              "    }\n",
              "\n",
              "    .dataframe thead th {\n",
              "        text-align: right;\n",
              "    }\n",
              "</style>\n",
              "<table border=\"1\" class=\"dataframe\">\n",
              "  <thead>\n",
              "    <tr style=\"text-align: right;\">\n",
              "      <th></th>\n",
              "      <th>start_date</th>\n",
              "      <th>end_date</th>\n",
              "      <th>latitud</th>\n",
              "      <th>longitud</th>\n",
              "      <th>property_rooms</th>\n",
              "      <th>property_surface_total</th>\n",
              "      <th>place_l4_Agronomía</th>\n",
              "      <th>place_l4_Almagro</th>\n",
              "      <th>place_l4_Balvanera</th>\n",
              "      <th>place_l4_Barracas</th>\n",
              "      <th>...</th>\n",
              "      <th>place_l4_Villa Ortuzar</th>\n",
              "      <th>place_l4_Villa Pueyrredón</th>\n",
              "      <th>place_l4_Villa Real</th>\n",
              "      <th>place_l4_Villa Riachuelo</th>\n",
              "      <th>place_l4_Villa Santa Rita</th>\n",
              "      <th>place_l4_Villa Soldati</th>\n",
              "      <th>place_l4_Villa Urquiza</th>\n",
              "      <th>place_l4_Villa del Parque</th>\n",
              "      <th>property_type_Departamento</th>\n",
              "      <th>property_type_PH</th>\n",
              "    </tr>\n",
              "  </thead>\n",
              "  <tbody>\n",
              "    <tr>\n",
              "      <th>0</th>\n",
              "      <td>737971</td>\n",
              "      <td>737991</td>\n",
              "      <td>-34.576973</td>\n",
              "      <td>-58.406591</td>\n",
              "      <td>7.0</td>\n",
              "      <td>415.0</td>\n",
              "      <td>0</td>\n",
              "      <td>0</td>\n",
              "      <td>0</td>\n",
              "      <td>0</td>\n",
              "      <td>...</td>\n",
              "      <td>0</td>\n",
              "      <td>0</td>\n",
              "      <td>0</td>\n",
              "      <td>0</td>\n",
              "      <td>0</td>\n",
              "      <td>0</td>\n",
              "      <td>0</td>\n",
              "      <td>0</td>\n",
              "      <td>1</td>\n",
              "      <td>0</td>\n",
              "    </tr>\n",
              "    <tr>\n",
              "      <th>1</th>\n",
              "      <td>737867</td>\n",
              "      <td>737868</td>\n",
              "      <td>-34.610046</td>\n",
              "      <td>-58.361382</td>\n",
              "      <td>4.0</td>\n",
              "      <td>194.0</td>\n",
              "      <td>0</td>\n",
              "      <td>0</td>\n",
              "      <td>0</td>\n",
              "      <td>0</td>\n",
              "      <td>...</td>\n",
              "      <td>0</td>\n",
              "      <td>0</td>\n",
              "      <td>0</td>\n",
              "      <td>0</td>\n",
              "      <td>0</td>\n",
              "      <td>0</td>\n",
              "      <td>0</td>\n",
              "      <td>0</td>\n",
              "      <td>1</td>\n",
              "      <td>0</td>\n",
              "    </tr>\n",
              "    <tr>\n",
              "      <th>2</th>\n",
              "      <td>737875</td>\n",
              "      <td>738097</td>\n",
              "      <td>-34.569770</td>\n",
              "      <td>-58.431032</td>\n",
              "      <td>4.0</td>\n",
              "      <td>260.0</td>\n",
              "      <td>0</td>\n",
              "      <td>0</td>\n",
              "      <td>0</td>\n",
              "      <td>0</td>\n",
              "      <td>...</td>\n",
              "      <td>0</td>\n",
              "      <td>0</td>\n",
              "      <td>0</td>\n",
              "      <td>0</td>\n",
              "      <td>0</td>\n",
              "      <td>0</td>\n",
              "      <td>0</td>\n",
              "      <td>0</td>\n",
              "      <td>1</td>\n",
              "      <td>0</td>\n",
              "    </tr>\n",
              "    <tr>\n",
              "      <th>3</th>\n",
              "      <td>738132</td>\n",
              "      <td>738182</td>\n",
              "      <td>-34.579756</td>\n",
              "      <td>-58.406144</td>\n",
              "      <td>3.0</td>\n",
              "      <td>120.0</td>\n",
              "      <td>0</td>\n",
              "      <td>0</td>\n",
              "      <td>0</td>\n",
              "      <td>0</td>\n",
              "      <td>...</td>\n",
              "      <td>0</td>\n",
              "      <td>0</td>\n",
              "      <td>0</td>\n",
              "      <td>0</td>\n",
              "      <td>0</td>\n",
              "      <td>0</td>\n",
              "      <td>0</td>\n",
              "      <td>0</td>\n",
              "      <td>1</td>\n",
              "      <td>0</td>\n",
              "    </tr>\n",
              "    <tr>\n",
              "      <th>4</th>\n",
              "      <td>737875</td>\n",
              "      <td>738097</td>\n",
              "      <td>-34.569770</td>\n",
              "      <td>-58.431032</td>\n",
              "      <td>4.0</td>\n",
              "      <td>165.0</td>\n",
              "      <td>0</td>\n",
              "      <td>0</td>\n",
              "      <td>0</td>\n",
              "      <td>0</td>\n",
              "      <td>...</td>\n",
              "      <td>0</td>\n",
              "      <td>0</td>\n",
              "      <td>0</td>\n",
              "      <td>0</td>\n",
              "      <td>0</td>\n",
              "      <td>0</td>\n",
              "      <td>0</td>\n",
              "      <td>0</td>\n",
              "      <td>1</td>\n",
              "      <td>0</td>\n",
              "    </tr>\n",
              "    <tr>\n",
              "      <th>...</th>\n",
              "      <td>...</td>\n",
              "      <td>...</td>\n",
              "      <td>...</td>\n",
              "      <td>...</td>\n",
              "      <td>...</td>\n",
              "      <td>...</td>\n",
              "      <td>...</td>\n",
              "      <td>...</td>\n",
              "      <td>...</td>\n",
              "      <td>...</td>\n",
              "      <td>...</td>\n",
              "      <td>...</td>\n",
              "      <td>...</td>\n",
              "      <td>...</td>\n",
              "      <td>...</td>\n",
              "      <td>...</td>\n",
              "      <td>...</td>\n",
              "      <td>...</td>\n",
              "      <td>...</td>\n",
              "      <td>...</td>\n",
              "      <td>...</td>\n",
              "    </tr>\n",
              "    <tr>\n",
              "      <th>74246</th>\n",
              "      <td>737802</td>\n",
              "      <td>737946</td>\n",
              "      <td>-34.572157</td>\n",
              "      <td>-58.494807</td>\n",
              "      <td>3.0</td>\n",
              "      <td>1.0</td>\n",
              "      <td>0</td>\n",
              "      <td>0</td>\n",
              "      <td>0</td>\n",
              "      <td>0</td>\n",
              "      <td>...</td>\n",
              "      <td>0</td>\n",
              "      <td>0</td>\n",
              "      <td>0</td>\n",
              "      <td>0</td>\n",
              "      <td>0</td>\n",
              "      <td>0</td>\n",
              "      <td>1</td>\n",
              "      <td>0</td>\n",
              "      <td>1</td>\n",
              "      <td>0</td>\n",
              "    </tr>\n",
              "    <tr>\n",
              "      <th>74247</th>\n",
              "      <td>737797</td>\n",
              "      <td>737946</td>\n",
              "      <td>-34.583718</td>\n",
              "      <td>-58.484141</td>\n",
              "      <td>4.0</td>\n",
              "      <td>1.0</td>\n",
              "      <td>0</td>\n",
              "      <td>0</td>\n",
              "      <td>0</td>\n",
              "      <td>0</td>\n",
              "      <td>...</td>\n",
              "      <td>0</td>\n",
              "      <td>0</td>\n",
              "      <td>0</td>\n",
              "      <td>0</td>\n",
              "      <td>0</td>\n",
              "      <td>0</td>\n",
              "      <td>1</td>\n",
              "      <td>0</td>\n",
              "      <td>0</td>\n",
              "      <td>0</td>\n",
              "    </tr>\n",
              "    <tr>\n",
              "      <th>74248</th>\n",
              "      <td>737802</td>\n",
              "      <td>737946</td>\n",
              "      <td>-34.572512</td>\n",
              "      <td>-58.478717</td>\n",
              "      <td>5.0</td>\n",
              "      <td>1.0</td>\n",
              "      <td>0</td>\n",
              "      <td>0</td>\n",
              "      <td>0</td>\n",
              "      <td>0</td>\n",
              "      <td>...</td>\n",
              "      <td>0</td>\n",
              "      <td>0</td>\n",
              "      <td>0</td>\n",
              "      <td>0</td>\n",
              "      <td>0</td>\n",
              "      <td>0</td>\n",
              "      <td>1</td>\n",
              "      <td>0</td>\n",
              "      <td>1</td>\n",
              "      <td>0</td>\n",
              "    </tr>\n",
              "    <tr>\n",
              "      <th>74249</th>\n",
              "      <td>737802</td>\n",
              "      <td>737946</td>\n",
              "      <td>-34.572512</td>\n",
              "      <td>-58.478717</td>\n",
              "      <td>5.0</td>\n",
              "      <td>1.0</td>\n",
              "      <td>0</td>\n",
              "      <td>0</td>\n",
              "      <td>0</td>\n",
              "      <td>0</td>\n",
              "      <td>...</td>\n",
              "      <td>0</td>\n",
              "      <td>0</td>\n",
              "      <td>0</td>\n",
              "      <td>0</td>\n",
              "      <td>0</td>\n",
              "      <td>0</td>\n",
              "      <td>1</td>\n",
              "      <td>0</td>\n",
              "      <td>1</td>\n",
              "      <td>0</td>\n",
              "    </tr>\n",
              "    <tr>\n",
              "      <th>74250</th>\n",
              "      <td>737802</td>\n",
              "      <td>737946</td>\n",
              "      <td>-34.572512</td>\n",
              "      <td>-58.478717</td>\n",
              "      <td>5.0</td>\n",
              "      <td>1.0</td>\n",
              "      <td>0</td>\n",
              "      <td>0</td>\n",
              "      <td>0</td>\n",
              "      <td>0</td>\n",
              "      <td>...</td>\n",
              "      <td>0</td>\n",
              "      <td>0</td>\n",
              "      <td>0</td>\n",
              "      <td>0</td>\n",
              "      <td>0</td>\n",
              "      <td>0</td>\n",
              "      <td>1</td>\n",
              "      <td>0</td>\n",
              "      <td>1</td>\n",
              "      <td>0</td>\n",
              "    </tr>\n",
              "  </tbody>\n",
              "</table>\n",
              "<p>74251 rows × 69 columns</p>\n",
              "</div>\n",
              "      <button class=\"colab-df-convert\" onclick=\"convertToInteractive('df-417caf47-a580-401b-ad35-aaee53d392f5')\"\n",
              "              title=\"Convert this dataframe to an interactive table.\"\n",
              "              style=\"display:none;\">\n",
              "        \n",
              "  <svg xmlns=\"http://www.w3.org/2000/svg\" height=\"24px\"viewBox=\"0 0 24 24\"\n",
              "       width=\"24px\">\n",
              "    <path d=\"M0 0h24v24H0V0z\" fill=\"none\"/>\n",
              "    <path d=\"M18.56 5.44l.94 2.06.94-2.06 2.06-.94-2.06-.94-.94-2.06-.94 2.06-2.06.94zm-11 1L8.5 8.5l.94-2.06 2.06-.94-2.06-.94L8.5 2.5l-.94 2.06-2.06.94zm10 10l.94 2.06.94-2.06 2.06-.94-2.06-.94-.94-2.06-.94 2.06-2.06.94z\"/><path d=\"M17.41 7.96l-1.37-1.37c-.4-.4-.92-.59-1.43-.59-.52 0-1.04.2-1.43.59L10.3 9.45l-7.72 7.72c-.78.78-.78 2.05 0 2.83L4 21.41c.39.39.9.59 1.41.59.51 0 1.02-.2 1.41-.59l7.78-7.78 2.81-2.81c.8-.78.8-2.07 0-2.86zM5.41 20L4 18.59l7.72-7.72 1.47 1.35L5.41 20z\"/>\n",
              "  </svg>\n",
              "      </button>\n",
              "      \n",
              "  <style>\n",
              "    .colab-df-container {\n",
              "      display:flex;\n",
              "      flex-wrap:wrap;\n",
              "      gap: 12px;\n",
              "    }\n",
              "\n",
              "    .colab-df-convert {\n",
              "      background-color: #E8F0FE;\n",
              "      border: none;\n",
              "      border-radius: 50%;\n",
              "      cursor: pointer;\n",
              "      display: none;\n",
              "      fill: #1967D2;\n",
              "      height: 32px;\n",
              "      padding: 0 0 0 0;\n",
              "      width: 32px;\n",
              "    }\n",
              "\n",
              "    .colab-df-convert:hover {\n",
              "      background-color: #E2EBFA;\n",
              "      box-shadow: 0px 1px 2px rgba(60, 64, 67, 0.3), 0px 1px 3px 1px rgba(60, 64, 67, 0.15);\n",
              "      fill: #174EA6;\n",
              "    }\n",
              "\n",
              "    [theme=dark] .colab-df-convert {\n",
              "      background-color: #3B4455;\n",
              "      fill: #D2E3FC;\n",
              "    }\n",
              "\n",
              "    [theme=dark] .colab-df-convert:hover {\n",
              "      background-color: #434B5C;\n",
              "      box-shadow: 0px 1px 3px 1px rgba(0, 0, 0, 0.15);\n",
              "      filter: drop-shadow(0px 1px 2px rgba(0, 0, 0, 0.3));\n",
              "      fill: #FFFFFF;\n",
              "    }\n",
              "  </style>\n",
              "\n",
              "      <script>\n",
              "        const buttonEl =\n",
              "          document.querySelector('#df-417caf47-a580-401b-ad35-aaee53d392f5 button.colab-df-convert');\n",
              "        buttonEl.style.display =\n",
              "          google.colab.kernel.accessAllowed ? 'block' : 'none';\n",
              "\n",
              "        async function convertToInteractive(key) {\n",
              "          const element = document.querySelector('#df-417caf47-a580-401b-ad35-aaee53d392f5');\n",
              "          const dataTable =\n",
              "            await google.colab.kernel.invokeFunction('convertToInteractive',\n",
              "                                                     [key], {});\n",
              "          if (!dataTable) return;\n",
              "\n",
              "          const docLinkHtml = 'Like what you see? Visit the ' +\n",
              "            '<a target=\"_blank\" href=https://colab.research.google.com/notebooks/data_table.ipynb>data table notebook</a>'\n",
              "            + ' to learn more about interactive tables.';\n",
              "          element.innerHTML = '';\n",
              "          dataTable['output_type'] = 'display_data';\n",
              "          await google.colab.output.renderOutput(dataTable, element);\n",
              "          const docLink = document.createElement('div');\n",
              "          docLink.innerHTML = docLinkHtml;\n",
              "          element.appendChild(docLink);\n",
              "        }\n",
              "      </script>\n",
              "    </div>\n",
              "  </div>\n",
              "  "
            ]
          },
          "metadata": {},
          "execution_count": 63
        }
      ],
      "source": [
        "x_train_clasificacion"
      ]
    },
    {
      "cell_type": "markdown",
      "metadata": {
        "collapsed": false,
        "id": "JPjRt6tTOWIL"
      },
      "source": [
        "Normalizamos mediante Z-Score:"
      ]
    },
    {
      "cell_type": "code",
      "execution_count": 64,
      "metadata": {
        "id": "qDlv11yi8sR1"
      },
      "outputs": [],
      "source": [
        "x_train_clasificacion[['start_date', 'end_date', 'latitud', 'longitud', 'property_rooms', 'property_surface_total']] = zscore(x_train_clasificacion[['start_date', 'end_date', 'latitud', 'longitud', 'property_rooms', 'property_surface_total']], axis=1)\n",
        "\n",
        "x_test_clasificacion[['start_date', 'end_date', 'latitud', 'longitud', 'property_rooms', 'property_surface_total']] = zscore(x_test_clasificacion[['start_date', 'end_date', 'latitud', 'longitud', 'property_rooms', 'property_surface_total']], axis=1)"
      ]
    },
    {
      "cell_type": "markdown",
      "metadata": {
        "collapsed": false,
        "id": "IZ2XeEKi_TQW"
      },
      "source": [
        "Aplicamos One Hot encoding a la columna target de entrenamiento y test, para que tenga 3 columnas al igual que la salida del modelo:"
      ]
    },
    {
      "cell_type": "code",
      "execution_count": 65,
      "metadata": {
        "id": "2jzMgy7b5js1"
      },
      "outputs": [],
      "source": [
        "y_train_clasificacion = pd.get_dummies(y_train_clasificacion, columns=['tipo_precio_3'], drop_first=False)\n",
        "y_test_clasificacion = pd.get_dummies(y_test_clasificacion, columns=['tipo_precio_3'], drop_first=False)"
      ]
    },
    {
      "cell_type": "markdown",
      "metadata": {
        "id": "ubndHWDlZosm"
      },
      "source": [
        "#### Búsqueda del mejor modelo"
      ]
    },
    {
      "cell_type": "markdown",
      "metadata": {
        "collapsed": false,
        "id": "h2Jm2Y9mYbJG"
      },
      "source": [
        "Creo una función que me permite generar un modelo a partir de sus hiperparámetros. Esta función tiene como parámetros la cantidad de nodos de la primera y anteúltima capa, la cantidad de capas ocultas, la función de activación y el optimizador. Todos los modelos que genera a excepción de los casos sin capas ocultas) tienen forma de 'pirámide'."
      ]
    },
    {
      "cell_type": "code",
      "execution_count": null,
      "metadata": {
        "colab": {
          "background_save": true
        },
        "id": "Ou_E3XH2YbJG"
      },
      "outputs": [],
      "source": [
        "cantidad_de_columnas = x_train_clasificacion.shape[1]\n",
        "\n",
        "def crear_modelo(hidden_layers, first_layer_nodes, last_layer_nodes, activation_func, optimizer):\n",
        "\n",
        "    sequential = Sequential()\n",
        "    sequential.add(keras.layers.Dense(first_layer_nodes, input_shape=(cantidad_de_columnas,)))\n",
        "\n",
        "    if hidden_layers is 0 or hidden_layers is 1:\n",
        "        decremento = 0\n",
        "    else:\n",
        "        decremento = math.ceil((first_layer_nodes - last_layer_nodes) / (hidden_layers - 1))\n",
        "\n",
        "    for i in range (0, hidden_layers):\n",
        "        nodos = first_layer_nodes - decremento * i\n",
        "        sequential.add(Dense(nodos, activation=activation_func))\n",
        "\n",
        "    sequential.add(Dense(3, activation=activation_func))\n",
        "\n",
        "    sequential.compile(\n",
        "        optimizer=optimizer,\n",
        "        loss=None,\n",
        "        # metrics=['accuracy'],\n",
        "        metrics=['AUC', 'accuracy', 'Recall', 'Precision']\n",
        "    )\n",
        "\n",
        "    return sequential\n",
        "\n",
        "\n",
        "modelo =  KerasClassifier(build_fn=crear_modelo, verbose = False)\n",
        "# crear_modelo(0, 50, 5, 'softmax', 'adam').summary()"
      ]
    },
    {
      "cell_type": "markdown",
      "metadata": {
        "collapsed": false,
        "id": "K51rVuvIYbJG"
      },
      "source": [
        "Luego busco el mejor modelo a partir de una grilla de parámetros arbitrarios con el método de 'GridSearchCV'. Nos limitamos en la cantidad de folds en el CV por el consumo temporal."
      ]
    },
    {
      "cell_type": "code",
      "execution_count": null,
      "metadata": {
        "colab": {
          "background_save": true
        },
        "id": "uFSLdBgUYbJG"
      },
      "outputs": [],
      "source": [
        "from sklearn.model_selection import GridSearchCV\n",
        "\n",
        "# param_grid = dict(\n",
        "#     hidden_layers=[1, 2],\n",
        "#     first_layer_nodes = [math.ceil(cantidad_de_columnas * 0.7), math.ceil(cantidad_de_columnas * 0.5)],\n",
        "#     last_layer_nodes = [5, cantidad_de_columnas * 0.5],\n",
        "#     activation_func = ['softmax'],\n",
        "#     batch_size = [100],\n",
        "#     epochs = [60],\n",
        "#     optimizer=['adam']\n",
        "# )\n",
        "\n",
        "param_grid = dict(\n",
        "    hidden_layers=[0],\n",
        "    first_layer_nodes = [50],\n",
        "    last_layer_nodes = [5],\n",
        "    activation_func = ['softmax'],\n",
        "    batch_size = [100],\n",
        "    epochs = [60],\n",
        "    optimizer=['adam']\n",
        ")\n",
        "\n",
        "grid = GridSearchCV(\n",
        "    estimator = modelo,\n",
        "    param_grid = param_grid,\n",
        "    n_jobs=-1, cv=3,\n",
        "    error_score='raise',\n",
        "    scoring='accuracy'\n",
        ")"
      ]
    },
    {
      "cell_type": "markdown",
      "metadata": {
        "collapsed": false,
        "id": "wZ27vdKOYbJG"
      },
      "source": [
        "Entrenamos todos los modelos"
      ]
    },
    {
      "cell_type": "code",
      "execution_count": null,
      "metadata": {
        "colab": {
          "background_save": true
        },
        "id": "NZdOxbyIYbJH"
      },
      "outputs": [],
      "source": [
        "# y_train_clasificacion = y_train_clasificacion.map({'bajo': 0, 'medio': 1, 'alto': 2})\n",
        "grid_result = grid.fit(x_train_clasificacion, y_train_clasificacion)\n",
        "# y_train_clasificacion"
      ]
    },
    {
      "cell_type": "code",
      "execution_count": null,
      "metadata": {
        "colab": {
          "background_save": true
        },
        "id": "wGjgu5toYbJH"
      },
      "outputs": [],
      "source": [
        "# print(\"El error absoluto porcentual promedio del mejor modelo fue de: \", grid_result.best_estimator_.model.metrics[2].result().numpy())\n",
        "# print(\"El error absoluto cuadrado promedio del mejor modelo fue de: \", grid_result.best_estimator_.model.metrics[1].result().numpy())\n",
        "# print(\"Los parámetros óptimizados fueron: \", grid.best_params_)\n",
        "# print(\"El score del mejor modelo fue: \", grid.best_score_)\n",
        "print(grid_result.best_estimator_.model.metrics[2].name)\n",
        "print(grid_result.best_estimator_.model.metrics[2].result().numpy())"
      ]
    },
    {
      "cell_type": "code",
      "execution_count": null,
      "metadata": {
        "colab": {
          "background_save": true
        },
        "id": "3oRHIhd6YbJH"
      },
      "outputs": [],
      "source": [
        "result = grid.best_estimator_.model.predict(x_test_clasificacion)"
      ]
    },
    {
      "cell_type": "code",
      "execution_count": null,
      "metadata": {
        "colab": {
          "background_save": true
        },
        "id": "kcMZ7bJXYbJH"
      },
      "outputs": [],
      "source": [
        "# grid.best_estimator_.model.summary()\n",
        "# result\n",
        "# grid.predict(x_test_clasificacion)\n",
        "result"
      ]
    },
    {
      "cell_type": "code",
      "execution_count": null,
      "metadata": {
        "colab": {
          "background_save": true
        },
        "id": "PQvyCuGxYbJH"
      },
      "outputs": [],
      "source": [
        "grid.predict(x_test_clasificacion)"
      ]
    },
    {
      "cell_type": "code",
      "execution_count": null,
      "metadata": {
        "colab": {
          "background_save": true
        },
        "id": "szvtUyPtYbJI"
      },
      "outputs": [],
      "source": [
        "grid_result"
      ]
    },
    {
      "cell_type": "code",
      "execution_count": null,
      "metadata": {
        "colab": {
          "background_save": true
        },
        "id": "SvVIsG8hYbJI"
      },
      "outputs": [],
      "source": [
        "y_train_clasificacion"
      ]
    },
    {
      "cell_type": "code",
      "execution_count": null,
      "metadata": {
        "colab": {
          "background_save": true
        },
        "id": "CO0lbjPj_TQW"
      },
      "outputs": [],
      "source": [
        "d_in = x_train_clasificacion.shape[1]\n",
        "\n",
        "modelo = keras.Sequential([\n",
        "    keras.layers.Dense(50, input_shape=(d_in,)),\n",
        "    keras.layers.Dense(3, activation='softmax')\n",
        "])\n",
        "\n",
        "modelo.summary()"
      ]
    },
    {
      "cell_type": "markdown",
      "metadata": {
        "collapsed": false,
        "id": "tP9PVcKR_TQW"
      },
      "source": [
        "Compilamos el modelo con optimizador Adam y loss de crossentropy categórico. Procedemos a entrenar y predecir:"
      ]
    },
    {
      "cell_type": "code",
      "execution_count": null,
      "metadata": {
        "colab": {
          "background_save": true
        },
        "id": "BZnWP4OU_TQX"
      },
      "outputs": [],
      "source": [
        "modelo.compile(\n",
        "    optimizer=keras.optimizers.Adam(learning_rate=0.001),\n",
        "    loss='categorical_crossentropy',\n",
        "    metrics=['AUC', 'Accuracy', 'Recall', 'Precision'],\n",
        ")\n",
        "\n",
        "cant_epochs=100\n",
        "historia = modelo.fit(x_train_clasificacion, y_train_clasificacion, epochs=cant_epochs, verbose=False, use_multiprocessing=True, workers=4)"
      ]
    },
    {
      "cell_type": "code",
      "execution_count": null,
      "metadata": {
        "colab": {
          "background_save": true
        },
        "id": "JNz3xaWK6Aca"
      },
      "outputs": [],
      "source": [
        "y_pred_clasificacion = modelo.predict(x_test_clasificacion)"
      ]
    },
    {
      "cell_type": "markdown",
      "metadata": {
        "id": "W-KMjjHwaFjg"
      },
      "source": [
        "#### Métricas"
      ]
    },
    {
      "cell_type": "markdown",
      "metadata": {
        "id": "ez-lm0I4aXhi"
      },
      "source": [
        "En este caso, veamos cómo se comporta la métrica AUC, y -por tanto-, cómo se comprota el acierto según la cantidad de épocas utilizada:"
      ]
    },
    {
      "cell_type": "code",
      "execution_count": null,
      "metadata": {
        "colab": {
          "background_save": true
        },
        "id": "FY6s9jDN_TQX"
      },
      "outputs": [],
      "source": [
        "epochs = range(cant_epochs)\n",
        "\n",
        "plt.plot(epochs, historia.history['Accuracy'], color='orange', label='AUC')\n",
        "plt.xlabel(\"Epochs\")\n",
        "plt.ylabel(\"AUC\")\n",
        "plt.title('Area bajo la curva por cantidad de épocas')\n",
        "plt.legend()"
      ]
    },
    {
      "cell_type": "markdown",
      "metadata": {
        "collapsed": false,
        "id": "f_9yDT0-_TQX"
      },
      "source": [
        "Reorganizamos los valores predichos para que queden en una sola columna, y comparamos con el conjunto de prueba:"
      ]
    },
    {
      "cell_type": "code",
      "execution_count": null,
      "metadata": {
        "colab": {
          "background_save": true
        },
        "id": "bKKV7SQ5_TQX"
      },
      "outputs": [],
      "source": [
        "y_pred_clasificacion_arr = np.apply_along_axis(convert_b_m_a, axis=1, arr=y_pred_clasificacion)"
      ]
    },
    {
      "cell_type": "markdown",
      "metadata": {
        "id": "wMY6UF4RI8Ip"
      },
      "source": [
        "Seguimos reacomodando los valores para poder calcular las métricas correspondientes, notemos que no pueden guardarse valores equivalentes al string 'medio' en el array:"
      ]
    },
    {
      "cell_type": "code",
      "execution_count": null,
      "metadata": {
        "colab": {
          "background_save": true
        },
        "id": "qth1TiSnKsCs"
      },
      "outputs": [],
      "source": [
        "np.unique(y_pred_clasificacion_arr)"
      ]
    },
    {
      "cell_type": "markdown",
      "metadata": {
        "id": "CX9WD9mAJFPi"
      },
      "source": [
        "Aplicamos estrategias de transformación de datos:"
      ]
    },
    {
      "cell_type": "code",
      "execution_count": null,
      "metadata": {
        "colab": {
          "background_save": true
        },
        "id": "7_YbczvDLnY2"
      },
      "outputs": [],
      "source": [
        "# y_pred_clasificacion_arr = np.where(y_pred_clasificacion_arr == 'medi', 'medio', y_pred_clasificacion_arr)"
      ]
    },
    {
      "cell_type": "code",
      "execution_count": null,
      "metadata": {
        "colab": {
          "background_save": true
        },
        "id": "MjGQWoBRI6S_"
      },
      "outputs": [],
      "source": [
        "# np.unique(y_pred_clasificacion_arr)"
      ]
    },
    {
      "cell_type": "markdown",
      "metadata": {
        "id": "pfpYZ7DrMQXT"
      },
      "source": [
        "Finalmente, calculamos las métricas:"
      ]
    },
    {
      "cell_type": "code",
      "execution_count": null,
      "metadata": {
        "colab": {
          "background_save": true
        },
        "id": "hS1ZCcYyGb_i"
      },
      "outputs": [],
      "source": [
        "# metricas_clasificacion(y_test_clasificacion, y_pred_clasificacion_arr)"
      ]
    },
    {
      "cell_type": "markdown",
      "metadata": {
        "id": "5SsWSPw1fJYm"
      },
      "source": [
        "#### Exportación de Datos"
      ]
    },
    {
      "cell_type": "markdown",
      "metadata": {
        "id": "IlgF2MmmfJYn"
      },
      "source": [
        "Finalmente, exportamos el modelo utilizado:"
      ]
    },
    {
      "cell_type": "code",
      "execution_count": null,
      "metadata": {
        "colab": {
          "background_save": true
        },
        "id": "yjKFj8TjfJYn"
      },
      "outputs": [],
      "source": [
        "if IN_COLAB:\n",
        "  path = '/content/drive/MyDrive/📔 Organización de Datos (75.06)/TPS/TP2/MODELOS/Redes_Classifier.joblib'\n",
        "else:\n",
        "  path = './MODELOS/Redes_Classifier.joblib'\n",
        "\n",
        "dump(modelo, path)"
      ]
    },
    {
      "cell_type": "markdown",
      "source": [
        "## 2. Redes Neuronales"
      ],
      "metadata": {
        "collapsed": false,
        "id": "HWpWT3GZ_TQT"
      }
    },
    {
      "cell_type": "markdown",
      "source": [
        "### 2. a) Regresión\n",
        "___"
      ],
      "metadata": {
        "id": "edXksJWHzsab"
      }
    },
    {
      "cell_type": "markdown",
      "source": [
        "#### Preparación del dataset"
      ],
      "metadata": {
        "id": "SGjFUp_mzsab"
      }
    },
    {
      "cell_type": "code",
      "execution_count": null,
      "outputs": [],
      "source": [
        "x_train_regresion = df_train_x.drop([\"id\"], axis=1).copy()\n",
        "y_train_regresion = df_train_y_regresion.copy()\n",
        "x_test_regresion = df_test_x.drop([\"id\"], axis=1).copy()\n",
        "y_test_regresion = df_test_y_regresion.copy()"
      ],
      "metadata": {
        "id": "WOP3nJGtzk5U"
      }
    },
    {
      "cell_type": "markdown",
      "source": [
        "Normalizamos las entradas con StandardScaler:"
      ],
      "metadata": {
        "collapsed": false,
        "id": "xC4EkI-fzsab"
      }
    },
    {
      "cell_type": "code",
      "source": [
        "estandarizar(x_train_regresion, ['start_date', 'end_date', 'latitud', 'longitud', 'property_rooms', 'property_surface_total'])\n",
        "estandarizar(x_test_regresion, ['start_date', 'end_date', 'latitud', 'longitud', 'property_rooms', 'property_surface_total'])"
      ],
      "metadata": {
        "id": "0hCOzh0yzsac"
      },
      "execution_count": null,
      "outputs": []
    },
    {
      "cell_type": "markdown",
      "source": [
        "#### Búsqueda del mejor modelo"
      ],
      "metadata": {
        "id": "p7xMVyzQzsac"
      }
    },
    {
      "cell_type": "markdown",
      "source": [
        "Creo una función que me permite generar un modelo a partir de sus hiperparámetros. Esta función tiene como parámetros la cantidad de nodos de la primera y anteúltima capa, la cantidad de capas ocultas, la función de activación y el optimizador. Todos los modelos que genera a excepción de los casos sin capas ocultas) tienen forma de 'pirámide'."
      ],
      "metadata": {
        "collapsed": false,
        "id": "2cXBaLkzzk5V"
      }
    },
    {
      "cell_type": "code",
      "execution_count": null,
      "outputs": [],
      "source": [
        "cantidad_de_columnas = x_train_regresion.shape[1]\n",
        "\n",
        "def crear_modelo(hidden_layers, first_layer_nodes, last_layer_nodes, activation_func, optimizer):\n",
        "\n",
        "    sequential = Sequential()\n",
        "    sequential.add(keras.layers.Dense(cantidad_de_columnas, input_shape=(cantidad_de_columnas,), activation=activation_func))\n",
        "\n",
        "    if hidden_layers is 0 or hidden_layers is 1:\n",
        "        decremento = 0\n",
        "    else:\n",
        "        decremento = math.ceil((first_layer_nodes - last_layer_nodes) / (hidden_layers - 1))\n",
        "\n",
        "    for i in range (0, hidden_layers):\n",
        "        nodos = first_layer_nodes - decremento * i\n",
        "        sequential.add(Dense(nodos, activation=activation_func))\n",
        "\n",
        "    sequential.add(Dense(1, activation=activation_func))\n",
        "\n",
        "    sequential.compile(\n",
        "        optimizer=optimizer,\n",
        "        loss='mse',\n",
        "        metrics=['mse', 'mean_absolute_percentage_error']\n",
        "    )\n",
        "\n",
        "    return sequential\n",
        "\n",
        "\n",
        "modelo =  KerasRegressor(build_fn=crear_modelo, verbose = False)"
      ],
      "metadata": {
        "id": "Ml4GODVxzk5V"
      }
    },
    {
      "cell_type": "markdown",
      "source": [
        "Luego busco el mejor modelo a partir de una grilla de parámetros arbitrarios con el método de 'GridSearchCV'. El criterio de mejor modelo es el que tenga menor error cuadrado, o lo que es equivalente, mayor error cuadrado negado. Nos limitamos en la cantidad de folds en el CV por el consumo temporal."
      ],
      "metadata": {
        "collapsed": false,
        "id": "MdmkQKkpzk5V"
      }
    },
    {
      "cell_type": "code",
      "execution_count": null,
      "outputs": [],
      "source": [
        "param_grid = dict(\n",
        "    hidden_layers=[0, 1],\n",
        "    first_layer_nodes = [math.ceil(cantidad_de_columnas * 0.7), math.ceil(cantidad_de_columnas * 0.5)],\n",
        "    last_layer_nodes = [5, cantidad_de_columnas * 0.5],\n",
        "    activation_func = ['sigmoid', 'relu', 'tanh'],\n",
        "    batch_size = [100],\n",
        "    epochs = [30],\n",
        "    optimizer=['RMSprop', 'adam'],\n",
        ")\n",
        "\n",
        "grid = GridSearchCV(\n",
        "    estimator = modelo,\n",
        "    param_grid = param_grid,\n",
        "    cv=5,\n",
        "    error_score='raise',\n",
        "    scoring='neg_mean_squared_error',\n",
        "    verbose=3,\n",
        ")"
      ],
      "metadata": {
        "id": "Hogn2O5-zk5V"
      }
    },
    {
      "cell_type": "markdown",
      "source": [
        "Entrenamos todos los modelos"
      ],
      "metadata": {
        "collapsed": false,
        "id": "D1bj88wbzk5V"
      }
    },
    {
      "cell_type": "code",
      "execution_count": null,
      "outputs": [
        {
          "name": "stdout",
          "output_type": "stream",
          "text": [
            "Fitting 5 folds for each of 48 candidates, totalling 240 fits\n"
          ]
        },
        {
          "name": "stderr",
          "output_type": "stream",
          "text": [
            "2022-12-26 00:19:37.683654: I tensorflow/core/platform/cpu_feature_guard.cc:193] This TensorFlow binary is optimized with oneAPI Deep Neural Network Library (oneDNN) to use the following CPU instructions in performance-critical operations:  AVX2 FMA\n",
            "To enable them in other operations, rebuild TensorFlow with the appropriate compiler flags.\n",
            "2022-12-26 00:19:37.732506: I tensorflow/core/platform/cpu_feature_guard.cc:193] This TensorFlow binary is optimized with oneAPI Deep Neural Network Library (oneDNN) to use the following CPU instructions in performance-critical operations:  AVX2 FMA\n",
            "To enable them in other operations, rebuild TensorFlow with the appropriate compiler flags.\n",
            "2022-12-26 00:19:37.740021: I tensorflow/core/platform/cpu_feature_guard.cc:193] This TensorFlow binary is optimized with oneAPI Deep Neural Network Library (oneDNN) to use the following CPU instructions in performance-critical operations:  AVX2 FMA\n",
            "To enable them in other operations, rebuild TensorFlow with the appropriate compiler flags.\n",
            "2022-12-26 00:19:37.745570: I tensorflow/core/platform/cpu_feature_guard.cc:193] This TensorFlow binary is optimized with oneAPI Deep Neural Network Library (oneDNN) to use the following CPU instructions in performance-critical operations:  AVX2 FMA\n",
            "To enable them in other operations, rebuild TensorFlow with the appropriate compiler flags.\n",
            "2022-12-26 00:19:39.308206: I tensorflow/core/platform/cpu_feature_guard.cc:193] This TensorFlow binary is optimized with oneAPI Deep Neural Network Library (oneDNN) to use the following CPU instructions in performance-critical operations:  AVX2 FMA\n",
            "To enable them in other operations, rebuild TensorFlow with the appropriate compiler flags.\n",
            "2022-12-26 00:19:39.320550: I tensorflow/core/platform/cpu_feature_guard.cc:193] This TensorFlow binary is optimized with oneAPI Deep Neural Network Library (oneDNN) to use the following CPU instructions in performance-critical operations:  AVX2 FMA\n",
            "To enable them in other operations, rebuild TensorFlow with the appropriate compiler flags.\n",
            "2022-12-26 00:19:39.407848: I tensorflow/core/platform/cpu_feature_guard.cc:193] This TensorFlow binary is optimized with oneAPI Deep Neural Network Library (oneDNN) to use the following CPU instructions in performance-critical operations:  AVX2 FMA\n",
            "To enable them in other operations, rebuild TensorFlow with the appropriate compiler flags.\n",
            "2022-12-26 00:19:39.457748: I tensorflow/core/platform/cpu_feature_guard.cc:193] This TensorFlow binary is optimized with oneAPI Deep Neural Network Library (oneDNN) to use the following CPU instructions in performance-critical operations:  AVX2 FMA\n",
            "To enable them in other operations, rebuild TensorFlow with the appropriate compiler flags.\n",
            "2022-12-26 00:19:39.525168: W tensorflow/tsl/framework/cpu_allocator_impl.cc:82] Allocation of 32788800 exceeds 10% of free system memory.\n",
            "2022-12-26 00:19:39.544281: W tensorflow/tsl/framework/cpu_allocator_impl.cc:82] Allocation of 32789352 exceeds 10% of free system memory.\n",
            "2022-12-26 00:19:39.579306: W tensorflow/tsl/framework/cpu_allocator_impl.cc:82] Allocation of 32789352 exceeds 10% of free system memory.\n",
            "2022-12-26 00:19:39.646399: W tensorflow/tsl/framework/cpu_allocator_impl.cc:82] Allocation of 32789352 exceeds 10% of free system memory.\n",
            "2022-12-26 00:19:54.349403: I tensorflow/core/platform/cpu_feature_guard.cc:193] This TensorFlow binary is optimized with oneAPI Deep Neural Network Library (oneDNN) to use the following CPU instructions in performance-critical operations:  AVX2 FMA\n",
            "To enable them in other operations, rebuild TensorFlow with the appropriate compiler flags.\n",
            "2022-12-26 00:19:54.841631: I tensorflow/core/platform/cpu_feature_guard.cc:193] This TensorFlow binary is optimized with oneAPI Deep Neural Network Library (oneDNN) to use the following CPU instructions in performance-critical operations:  AVX2 FMA\n",
            "To enable them in other operations, rebuild TensorFlow with the appropriate compiler flags.\n",
            "2022-12-26 00:19:54.908857: I tensorflow/core/platform/cpu_feature_guard.cc:193] This TensorFlow binary is optimized with oneAPI Deep Neural Network Library (oneDNN) to use the following CPU instructions in performance-critical operations:  AVX2 FMA\n",
            "To enable them in other operations, rebuild TensorFlow with the appropriate compiler flags.\n",
            "2022-12-26 00:19:55.094087: I tensorflow/core/platform/cpu_feature_guard.cc:193] This TensorFlow binary is optimized with oneAPI Deep Neural Network Library (oneDNN) to use the following CPU instructions in performance-critical operations:  AVX2 FMA\n",
            "To enable them in other operations, rebuild TensorFlow with the appropriate compiler flags.\n",
            "2022-12-26 00:19:55.796258: I tensorflow/core/platform/cpu_feature_guard.cc:193] This TensorFlow binary is optimized with oneAPI Deep Neural Network Library (oneDNN) to use the following CPU instructions in performance-critical operations:  AVX2 FMA\n",
            "To enable them in other operations, rebuild TensorFlow with the appropriate compiler flags.\n",
            "2022-12-26 00:19:56.098335: I tensorflow/core/platform/cpu_feature_guard.cc:193] This TensorFlow binary is optimized with oneAPI Deep Neural Network Library (oneDNN) to use the following CPU instructions in performance-critical operations:  AVX2 FMA\n",
            "To enable them in other operations, rebuild TensorFlow with the appropriate compiler flags.\n",
            "2022-12-26 00:19:56.186765: I tensorflow/core/platform/cpu_feature_guard.cc:193] This TensorFlow binary is optimized with oneAPI Deep Neural Network Library (oneDNN) to use the following CPU instructions in performance-critical operations:  AVX2 FMA\n",
            "To enable them in other operations, rebuild TensorFlow with the appropriate compiler flags.\n",
            "2022-12-26 00:19:56.245879: W tensorflow/tsl/framework/cpu_allocator_impl.cc:82] Allocation of 32788800 exceeds 10% of free system memory.\n",
            "2022-12-26 00:19:56.344263: W tensorflow/tsl/framework/cpu_allocator_impl.cc:82] Allocation of 32789352 exceeds 10% of free system memory.\n",
            "2022-12-26 00:19:56.391609: I tensorflow/core/platform/cpu_feature_guard.cc:193] This TensorFlow binary is optimized with oneAPI Deep Neural Network Library (oneDNN) to use the following CPU instructions in performance-critical operations:  AVX2 FMA\n",
            "To enable them in other operations, rebuild TensorFlow with the appropriate compiler flags.\n",
            "2022-12-26 00:19:56.552448: W tensorflow/tsl/framework/cpu_allocator_impl.cc:82] Allocation of 32789352 exceeds 10% of free system memory.\n",
            "2022-12-26 00:20:11.133218: I tensorflow/core/platform/cpu_feature_guard.cc:193] This TensorFlow binary is optimized with oneAPI Deep Neural Network Library (oneDNN) to use the following CPU instructions in performance-critical operations:  AVX2 FMA\n",
            "To enable them in other operations, rebuild TensorFlow with the appropriate compiler flags.\n",
            "2022-12-26 00:20:11.464182: I tensorflow/core/platform/cpu_feature_guard.cc:193] This TensorFlow binary is optimized with oneAPI Deep Neural Network Library (oneDNN) to use the following CPU instructions in performance-critical operations:  AVX2 FMA\n",
            "To enable them in other operations, rebuild TensorFlow with the appropriate compiler flags.\n",
            "2022-12-26 00:20:12.070792: I tensorflow/core/platform/cpu_feature_guard.cc:193] This TensorFlow binary is optimized with oneAPI Deep Neural Network Library (oneDNN) to use the following CPU instructions in performance-critical operations:  AVX2 FMA\n",
            "To enable them in other operations, rebuild TensorFlow with the appropriate compiler flags.\n",
            "2022-12-26 00:20:12.178735: I tensorflow/core/platform/cpu_feature_guard.cc:193] This TensorFlow binary is optimized with oneAPI Deep Neural Network Library (oneDNN) to use the following CPU instructions in performance-critical operations:  AVX2 FMA\n",
            "To enable them in other operations, rebuild TensorFlow with the appropriate compiler flags.\n",
            "2022-12-26 00:20:12.521473: I tensorflow/core/platform/cpu_feature_guard.cc:193] This TensorFlow binary is optimized with oneAPI Deep Neural Network Library (oneDNN) to use the following CPU instructions in performance-critical operations:  AVX2 FMA\n",
            "To enable them in other operations, rebuild TensorFlow with the appropriate compiler flags.\n",
            "2022-12-26 00:20:12.688488: W tensorflow/tsl/framework/cpu_allocator_impl.cc:82] Allocation of 32789352 exceeds 10% of free system memory.\n",
            "2022-12-26 00:20:12.810426: I tensorflow/core/platform/cpu_feature_guard.cc:193] This TensorFlow binary is optimized with oneAPI Deep Neural Network Library (oneDNN) to use the following CPU instructions in performance-critical operations:  AVX2 FMA\n",
            "To enable them in other operations, rebuild TensorFlow with the appropriate compiler flags.\n",
            "2022-12-26 00:20:12.971400: W tensorflow/tsl/framework/cpu_allocator_impl.cc:82] Allocation of 32789352 exceeds 10% of free system memory.\n",
            "2022-12-26 00:20:13.556160: I tensorflow/core/platform/cpu_feature_guard.cc:193] This TensorFlow binary is optimized with oneAPI Deep Neural Network Library (oneDNN) to use the following CPU instructions in performance-critical operations:  AVX2 FMA\n",
            "To enable them in other operations, rebuild TensorFlow with the appropriate compiler flags.\n",
            "2022-12-26 00:20:13.557259: I tensorflow/core/platform/cpu_feature_guard.cc:193] This TensorFlow binary is optimized with oneAPI Deep Neural Network Library (oneDNN) to use the following CPU instructions in performance-critical operations:  AVX2 FMA\n",
            "To enable them in other operations, rebuild TensorFlow with the appropriate compiler flags.\n",
            "2022-12-26 00:20:13.855608: W tensorflow/tsl/framework/cpu_allocator_impl.cc:82] Allocation of 32788800 exceeds 10% of free system memory.\n",
            "2022-12-26 00:20:13.987930: W tensorflow/tsl/framework/cpu_allocator_impl.cc:82] Allocation of 32789352 exceeds 10% of free system memory.\n",
            "2022-12-26 00:20:28.956637: W tensorflow/tsl/framework/cpu_allocator_impl.cc:82] Allocation of 32789352 exceeds 10% of free system memory.\n",
            "2022-12-26 00:20:29.162479: W tensorflow/tsl/framework/cpu_allocator_impl.cc:82] Allocation of 32789352 exceeds 10% of free system memory.\n",
            "2022-12-26 00:20:29.281997: W tensorflow/tsl/framework/cpu_allocator_impl.cc:82] Allocation of 32789352 exceeds 10% of free system memory.\n"
          ]
        }
      ],
      "source": [
        "grid_result = grid.fit(x_train_regresion, y_train_regresion)"
      ],
      "metadata": {
        "pycharm": {
          "is_executing": true
        },
        "id": "vAGfChHwzk5W",
        "outputId": "52729791-741c-4d75-a1dc-58d8ce24f299"
      }
    },
    {
      "cell_type": "markdown",
      "source": [
        "Los parámetros y métricas del mejor modelo fueron:"
      ],
      "metadata": {
        "collapsed": false,
        "id": "oXr6xMtbzk5W"
      }
    },
    {
      "cell_type": "code",
      "execution_count": null,
      "outputs": [],
      "source": [
        "print(\"El error absoluto porcentual promedio del mejor modelo fue de: \", grid_result.best_estimator_.model.metrics[2].result().numpy())\n",
        "print(\"El error absoluto cuadrado promedio del mejor modelo fue de: \", grid_result.best_estimator_.model.metrics[1].result().numpy())\n",
        "print(\"Los parámetros óptimizados fueron: \", grid.best_params_)"
      ],
      "metadata": {
        "pycharm": {
          "is_executing": true
        },
        "id": "Rm43msuYzk5W"
      }
    },
    {
      "cell_type": "markdown",
      "source": [
        "#### Predicción"
      ],
      "metadata": {
        "collapsed": false,
        "id": "z5pDm2Qyzk5W"
      }
    },
    {
      "cell_type": "code",
      "execution_count": null,
      "outputs": [],
      "source": [
        "grid_predict = grid.best_estimator_.model.evaluate(x_test_regresion, y_test_regresion)"
      ],
      "metadata": {
        "pycharm": {
          "is_executing": true
        },
        "id": "VHGvdEARzk5W"
      }
    },
    {
      "cell_type": "markdown",
      "source": [
        "#### Métricas"
      ],
      "metadata": {
        "collapsed": false,
        "id": "4TMcQYB7zk5W"
      }
    },
    {
      "cell_type": "code",
      "execution_count": null,
      "outputs": [],
      "source": [
        "print(\"El error absoluto porcentual promedio fue de: \", grid_predict[2])\n",
        "print(\"El error absoluto cuadrado promedio (mse) fue de: \", grid_predict[1])"
      ],
      "metadata": {
        "pycharm": {
          "is_executing": true
        },
        "id": "YSuiZ4n0zk5X"
      }
    },
    {
      "cell_type": "markdown",
      "source": [
        "Veamos cómo se comporta la función de pérdida del mejor modelo según la cantidad de épocas utilizadas:"
      ],
      "metadata": {
        "id": "58t3XAvlzsaf"
      }
    },
    {
      "cell_type": "code",
      "execution_count": null,
      "outputs": [],
      "source": [
        "# epochs = range(60)\n",
        "# historia = grid_result.best_estimator_.model.history.history\n",
        "# historia\n",
        "# plt.plot(epochs, historia['mean_absolute_percentage_error'], color='orange', label='MSE')\n",
        "# plt.xlabel(\"epochs\")\n",
        "# plt.ylabel(\"MSE\")\n",
        "# plt.title('Error cuadrático medio por cantidad de épocas')\n",
        "# plt.legend()\n",
        "# print(grid_result.best_estimator_.model.metrics[0].result().numpy(), grid_result.best_estimator_.model.metrics[0].name)\n",
        "max(grid_result.cv_results_[\"mean_test_score\"])\n",
        "grid_result.best_estimator_.model.history.params"
      ],
      "metadata": {
        "pycharm": {
          "is_executing": true
        },
        "id": "HKhiWDuozsaf"
      }
    },
    {
      "cell_type": "code",
      "execution_count": null,
      "outputs": [],
      "source": [
        "y_pred = grid.predict(x_test_regresion)\n",
        "\n",
        "mse = metrics.mean_squared_error(\n",
        "    y_true  = y_test_regresion,\n",
        "    y_pred  = y_pred,\n",
        "    squared = True\n",
        ")\n",
        "\n",
        "print(f\"El error según la métrica 'Mean Square Error' de test es: {mse}\")\n",
        "\n",
        "rmse = metrics.mean_squared_error(\n",
        "    y_true  = y_test_regresion,\n",
        "    y_pred  = y_pred,\n",
        "    squared = False\n",
        ")\n",
        "\n",
        "print(f\"El error según la métrica 'Root Mean Square Error' de test es: {rmse}\")"
      ],
      "metadata": {
        "pycharm": {
          "is_executing": true
        },
        "id": "KZ_51FZezk5X"
      }
    },
    {
      "cell_type": "markdown",
      "source": [
        "#### Exportación de Datos"
      ],
      "metadata": {
        "id": "PoA8iPn_zsag"
      }
    },
    {
      "cell_type": "markdown",
      "source": [
        "Finalmente, exportamos el modelo utilizado:"
      ],
      "metadata": {
        "id": "8cciKqwPzsag"
      }
    },
    {
      "cell_type": "code",
      "source": [
        "if IN_COLAB:\n",
        "  path = '/content/drive/MyDrive/📔 Organización de Datos (75.06)/TPS/TP2/MODELOS/Redes_Regressor.json'\n",
        "else:\n",
        "  path = './MODELOS/Redes_Regressor.json'\n",
        "\n",
        "grid.best_estimator_.save_model(path)"
      ],
      "metadata": {
        "pycharm": {
          "is_executing": true
        },
        "id": "CtWpCJ4Azsag"
      },
      "execution_count": null,
      "outputs": []
    },
    {
      "cell_type": "markdown",
      "source": [
        "### 2. b) Clasificación\n",
        "___"
      ],
      "metadata": {
        "collapsed": false,
        "id": "vuQ7iPYVzsag"
      }
    },
    {
      "cell_type": "markdown",
      "source": [
        "#### Preparación del dataset"
      ],
      "metadata": {
        "id": "JACqE6QSzsag"
      }
    },
    {
      "cell_type": "code",
      "execution_count": null,
      "outputs": [],
      "source": [
        "x_train_clasificacion = df_train_x.drop([\"id\"], axis=1).copy()\n",
        "y_train_clasificacion = df_train_y_clasificacion.copy()\n",
        "x_test_clasificacion = df_test_x.drop([\"id\"], axis=1).copy()\n",
        "y_test_clasificacion = df_test_y_clasificacion.copy()"
      ],
      "metadata": {
        "pycharm": {
          "is_executing": true
        },
        "id": "l8m8aFIFzk5Y"
      }
    },
    {
      "cell_type": "markdown",
      "source": [
        "Normalizamos mediante Z-Score:"
      ],
      "metadata": {
        "collapsed": false,
        "id": "SJvYwj0czsah"
      }
    },
    {
      "cell_type": "code",
      "source": [
        "x_train_clasificacion[['start_date', 'end_date', 'latitud', 'longitud', 'property_rooms', 'property_surface_total']] = zscore(x_train_clasificacion[['start_date', 'end_date', 'latitud', 'longitud', 'property_rooms', 'property_surface_total']], axis=1)\n",
        "\n",
        "x_test_clasificacion[['start_date', 'end_date', 'latitud', 'longitud', 'property_rooms', 'property_surface_total']] = zscore(x_test_clasificacion[['start_date', 'end_date', 'latitud', 'longitud', 'property_rooms', 'property_surface_total']], axis=1)"
      ],
      "metadata": {
        "pycharm": {
          "is_executing": true
        },
        "id": "yrMbMnxczsah"
      },
      "execution_count": null,
      "outputs": []
    },
    {
      "cell_type": "markdown",
      "source": [
        "Aplicamos One Hot encoding a la columna target de entrenamiento y test, para que tenga 3 columnas al igual que la salida del modelo:"
      ],
      "metadata": {
        "collapsed": false,
        "id": "5Mv8xyxlzsah"
      }
    },
    {
      "cell_type": "code",
      "source": [
        "y_train_clasificacion = pd.get_dummies(y_train_clasificacion, columns=['tipo_precio_3'], drop_first=False)\n",
        "y_test_clasificacion = pd.get_dummies(y_test_clasificacion, columns=['tipo_precio_3'], drop_first=False)"
      ],
      "metadata": {
        "pycharm": {
          "is_executing": true
        },
        "id": "vjYgmR4pzsah"
      },
      "execution_count": null,
      "outputs": []
    },
    {
      "cell_type": "markdown",
      "source": [
        "#### Búsqueda del mejor modelo"
      ],
      "metadata": {
        "collapsed": false,
        "id": "FRJvEvmgzk5Y"
      }
    },
    {
      "cell_type": "markdown",
      "source": [
        "Función auxiliar para que GridSearchCV realice el scoring de forma correcta."
      ],
      "metadata": {
        "collapsed": false,
        "id": "U9zlwCi5zk5Z"
      }
    },
    {
      "cell_type": "code",
      "execution_count": null,
      "outputs": [],
      "source": [
        "def my_categorical_accuracy(y_true, y_pred) :\n",
        "    y_pred_df = pd.DataFrame(data=y_pred, columns=['alto', 'bajo', 'medio'])\n",
        "    res = round(accuracy_score(y_true, y_pred_df), 2)\n",
        "    return res"
      ],
      "metadata": {
        "pycharm": {
          "is_executing": true
        },
        "id": "pQ0IK_Qxzk5Z"
      }
    },
    {
      "cell_type": "markdown",
      "source": [
        "Creamos una función que permite generar un modelo a partir de sus hiperparámetros configurables.\n",
        "Esta función recibe como parámetros la cantidad de capas ocultas extra, la cantidad de nodos de la última capa oculta, la función de activación y metadata del clasificador."
      ],
      "metadata": {
        "collapsed": false,
        "id": "c0J1hDU-zk5Z"
      }
    },
    {
      "cell_type": "code",
      "execution_count": null,
      "outputs": [],
      "source": [
        "def crear_modelo(extra_hidden_layers, last_layer_nodes, activation_func, optimizer, metricas, loss_func, meta):\n",
        "\n",
        "    n_features_in_ = meta[\"n_features_in_\"]\n",
        "    X_shape_ = meta[\"X_shape_\"]\n",
        "    n_classes_ = meta[\"n_classes_\"]\n",
        "\n",
        "    sequential = Sequential()\n",
        "    sequential.add(keras.layers.Dense(n_features_in_ * 0.7, input_shape=X_shape_[1:], activation=activation_func))\n",
        "\n",
        "    if last_layer_nodes > n_features_in_:\n",
        "        decremento = 0\n",
        "    elif extra_hidden_layers is 0 or extra_hidden_layers is 1:\n",
        "        decremento = 0\n",
        "    else:\n",
        "        decremento = math.ceil((n_features_in_ - last_layer_nodes) / (extra_hidden_layers - 1))\n",
        "\n",
        "    for i in range (0, extra_hidden_layers):\n",
        "        nodos = n_features_in_ - decremento * i\n",
        "        sequential.add(Dense(nodos, activation=activation_func))\n",
        "\n",
        "    sequential.add(Dense(n_classes_, activation='softmax'))\n",
        "\n",
        "    return sequential\n"
      ],
      "metadata": {
        "pycharm": {
          "is_executing": true
        },
        "id": "dg9awKUKzk5Z"
      }
    },
    {
      "cell_type": "markdown",
      "source": [
        "Creamos un modelo base, necesario según la documentación de SciKeras - KerasClassifier.\n",
        "Este modelo base será editado por GridSearchCV al buscar los hiperparámetros."
      ],
      "metadata": {
        "collapsed": false,
        "id": "n4Z7v7CDzk5Z"
      }
    },
    {
      "cell_type": "code",
      "execution_count": null,
      "outputs": [],
      "source": [
        "base_model = KerasClassifier(crear_modelo,\n",
        "                             loss=\"categorical_crossentropy\",\n",
        "                             extra_hidden_layers=1,\n",
        "                             last_layer_nodes=1,\n",
        "                             activation_func='sigmoid',\n",
        "                             )"
      ],
      "metadata": {
        "pycharm": {
          "is_executing": true
        },
        "id": "WOLmiuwmzk5Z"
      }
    },
    {
      "cell_type": "markdown",
      "source": [
        "Definimos los hiperparámetros posibles. Además de los necesarios por la función crear_modelo, agregamos diferentes optimizadores, learning rates y cantidad de épocas."
      ],
      "metadata": {
        "collapsed": false,
        "id": "1R_Rz0qjzk5a"
      }
    },
    {
      "cell_type": "code",
      "execution_count": null,
      "outputs": [],
      "source": [
        "param_grid = dict(\n",
        "    extra_hidden_layers=[0, 1],\n",
        "    last_layer_nodes = [10, 20],\n",
        "    activation_func = ['relu', 'softmax'],\n",
        "    batch_size = [100],\n",
        "    epochs = [5, 20],\n",
        "    optimizer__learning_rate = [0.001, 0.0001],\n",
        "    optimizer = [\"adam\", \"sge\"],\n",
        "    loss_func = [\"categorical_crossentropy\"],\n",
        ")\n",
        "\n",
        "gs = GridSearchCV(base_model,\n",
        "                  param_grid = param_grid,\n",
        "                  cv=5,\n",
        "                  scoring=make_scorer(my_categorical_accuracy),\n",
        "                  verbose=0,\n",
        ")"
      ],
      "metadata": {
        "pycharm": {
          "is_executing": true
        },
        "id": "hbqfwAqazk5a"
      }
    },
    {
      "cell_type": "markdown",
      "source": [
        "Entrenamos los diferentes modelos y obtenemos los mejores parámetros."
      ],
      "metadata": {
        "collapsed": false,
        "id": "61QMxbDizk5a"
      }
    },
    {
      "cell_type": "code",
      "execution_count": null,
      "outputs": [],
      "source": [
        "gs.fit(x_train_clasificacion, y_train_clasificacion)\n",
        "print(\"Los parámetros óptimizados fueron: \", gs.best_params_)"
      ],
      "metadata": {
        "pycharm": {
          "is_executing": true
        },
        "id": "pVFzyZQlzk5a"
      }
    },
    {
      "cell_type": "markdown",
      "source": [
        "Predecimos con el dataset de test"
      ],
      "metadata": {
        "collapsed": false,
        "id": "TpyjTxUgzk5a"
      }
    },
    {
      "cell_type": "code",
      "execution_count": null,
      "outputs": [],
      "source": [
        "y_pr = gs.predict(x_test_clasificacion)"
      ],
      "metadata": {
        "pycharm": {
          "is_executing": true
        },
        "id": "WKcU0tJpzk5a"
      }
    },
    {
      "cell_type": "markdown",
      "source": [
        "#### Métricas\n",
        "Transformamos el array devuelto por el modelo a un dataframe de iguales columnas que y_test_clasificacion"
      ],
      "metadata": {
        "id": "lZgRxnNjzsak"
      }
    },
    {
      "cell_type": "code",
      "execution_count": null,
      "outputs": [],
      "source": [
        "y_pr_df = pd.DataFrame(data=y_pr, columns=['alto', 'bajo', 'medio'])"
      ],
      "metadata": {
        "pycharm": {
          "is_executing": true
        },
        "id": "gIJKLjzCzk5b"
      }
    },
    {
      "cell_type": "markdown",
      "source": [
        "Calculamos las métricas"
      ],
      "metadata": {
        "collapsed": false,
        "id": "kOpgWZGszk5b"
      }
    },
    {
      "cell_type": "code",
      "execution_count": null,
      "outputs": [],
      "source": [
        "metricas_clasificacion(y_test_clasificacion, y_pr_df)"
      ],
      "metadata": {
        "pycharm": {
          "is_executing": true
        },
        "id": "X66wcqFQzk5b"
      }
    },
    {
      "cell_type": "markdown",
      "source": [
        "#### Exportación de Datos"
      ],
      "metadata": {
        "id": "woBjd6Opzsak"
      }
    },
    {
      "cell_type": "markdown",
      "source": [
        "Finalmente, exportamos el modelo utilizado:"
      ],
      "metadata": {
        "id": "KxCKE1IJzsak"
      }
    },
    {
      "cell_type": "code",
      "source": [
        "if IN_COLAB:\n",
        "  path = '/content/drive/MyDrive/📔 Organización de Datos (75.06)/TPS/TP2/MODELOS/Redes_Classifier.json'\n",
        "else:\n",
        "  path = './MODELOS/Redes_Classifier.json'\n",
        "\n",
        "gs.best_estimator_.save_model(path)"
      ],
      "metadata": {
        "pycharm": {
          "is_executing": true
        },
        "id": "ZUj--K70zsak"
      },
      "execution_count": null,
      "outputs": []
    },
    {
      "cell_type": "markdown",
      "metadata": {
        "id": "JDpREdwKxB6m"
      },
      "source": [
        "## 3. Ensamble de Modelos"
      ]
    },
    {
      "cell_type": "markdown",
      "metadata": {
        "id": "KvLq10beDadg"
      },
      "source": [
        "### 3. a) Voting - Clasificación\n",
        "___"
      ]
    },
    {
      "cell_type": "markdown",
      "metadata": {
        "id": "EAT6HU3buhLU"
      },
      "source": [
        "#### Preparación del dataset"
      ]
    },
    {
      "cell_type": "markdown",
      "metadata": {
        "id": "aZNjL2W-vZvC"
      },
      "source": [
        "Para la parte de ensambles, lo que haremos será utilizar nuevamente el dataset al cual se le aplicó una reducción de su dimensionalidad en el trabajo práctico n°1. \n",
        "\n",
        "Para esto lo que haremos será trabajar con una copia del dataset modificado al inicio del trabajo, el cual usa como base el reducido mencionado anteriormente."
      ]
    },
    {
      "cell_type": "markdown",
      "metadata": {
        "id": "fDp1eW_cHfxt"
      },
      "source": [
        "Para nuestra variable `target`, utilizaremos como convención la misma que fue planteada para el tp1. Ésta consiste en subdividir a la variable pxm2 (precio por metro cuadrado) en 3 intervalos, 25% a bajo, 50% a medio y el otro 25% restante a alto. A su vez, se hará la separación tambien por tipo de propiedad."
      ]
    },
    {
      "cell_type": "code",
      "execution_count": 66,
      "metadata": {
        "id": "7T0ZW9l-dcqI"
      },
      "outputs": [],
      "source": [
        "x_train_voting = x_train_clasificacion\n",
        "y_train_voting = y_train_clasificacion\n",
        "\n",
        "x_test_voting = x_test_clasificacion\n",
        "y_test_voting = y_test_clasificacion"
      ]
    },
    {
      "cell_type": "code",
      "execution_count": 75,
      "metadata": {
        "colab": {
          "base_uri": "https://localhost:8080/"
        },
        "id": "sSKtHVSSgBhv",
        "outputId": "7aa3496e-06d6-4554-9116-598df92b20e0"
      },
      "outputs": [
        {
          "output_type": "stream",
          "name": "stdout",
          "text": [
            "Se observaron:\n",
            "- 23227 registros de tipo 'bajo'.\n",
            "- 46459 registros de tipo 'medio'.\n",
            "- 23170 registros de tipo 'alto'.\n"
          ]
        }
      ],
      "source": [
        "bajo = y_train_voting['bajo'].sum() + y_test_voting.bajo.sum()\n",
        "medio = y_train_voting['medio'].sum() + y_test_voting.medio.sum()\n",
        "alto = y_train_voting['alto'].sum() + y_test_voting.alto.sum()\n",
        "\n",
        "print(f\"Se observaron:\")\n",
        "print(f\"- {round(bajo,3)} registros de tipo 'bajo'.\")\n",
        "print(f\"- {round(medio,3)} registros de tipo 'medio'.\")\n",
        "print(f\"- {round(alto,3)} registros de tipo 'alto'.\")"
      ]
    },
    {
      "cell_type": "markdown",
      "metadata": {
        "id": "_kG7ZRlKuaxT"
      },
      "source": [
        "#### Definición del Ensamble"
      ]
    },
    {
      "cell_type": "markdown",
      "metadata": {
        "id": "CGYLj6zEDcf7"
      },
      "source": [
        "Para el tipo de ensamble **voting**, lo que necesitaremos será contar con `n` cantidad de modelos previamente entrenados para luego someterlos a una votación. De la misma, saldrá la clasificación para la nueva instancia en base a lo que indique la mayoría de ellos."
      ]
    },
    {
      "cell_type": "markdown",
      "metadata": {
        "id": "FTMs6ZsBDd_Y"
      },
      "source": [
        "Elegimos tomar como modelos los mismos empleados en el TP1:\n",
        "\n",
        "\n",
        "*   Árbol de Decisión\n",
        "*   Random Forest\n",
        "*   KNN\n",
        "\n"
      ]
    },
    {
      "cell_type": "markdown",
      "metadata": {
        "id": "U437nPqDP87B"
      },
      "source": [
        "En esta línea, cargamos en memoria los modelos previamente guardados:"
      ]
    },
    {
      "cell_type": "code",
      "execution_count": 76,
      "metadata": {
        "id": "_k9OCodePoJD"
      },
      "outputs": [],
      "source": [
        "if IN_COLAB:\n",
        "  path = '/content/drive/MyDrive/📒 Organización de Datos (75.06)/TPS/TP1/MODELOS/DecisionTree_Classfier.joblib'\n",
        "else:\n",
        "  path = './MODELOS/DecisionTree_Classfier.joblib'\n",
        "\n",
        "dcs_clf = load(path)"
      ]
    },
    {
      "cell_type": "code",
      "execution_count": 77,
      "metadata": {
        "id": "a7IWWmUoPwGH"
      },
      "outputs": [],
      "source": [
        "if IN_COLAB:\n",
        "  path = '/content/drive/MyDrive/📒 Organización de Datos (75.06)/TPS/TP1/MODELOS/RandomForest_Classfier.joblib'\n",
        "else:\n",
        "  path = './MODELOS/RandomForest_Classfier.joblib'\n",
        "\n",
        "rnd_clf = load(path)"
      ]
    },
    {
      "cell_type": "code",
      "execution_count": 78,
      "metadata": {
        "id": "sx-_-Q9xPc29"
      },
      "outputs": [],
      "source": [
        "if IN_COLAB:\n",
        "  path = '/content/drive/MyDrive/📒 Organización de Datos (75.06)/TPS/TP1/MODELOS/KNN_Classfier.joblib'\n",
        "else:\n",
        "  path = './MODELOS/KNN_Classfier.joblib'\n",
        "\n",
        "knn_clf = load(path)"
      ]
    },
    {
      "cell_type": "markdown",
      "metadata": {
        "id": "Lz62MXjMR6eu"
      },
      "source": [
        "Recordemos que estos modelos fueron optimizados con los siguientes hiperparámetros y valores:\n",
        "\n",
        "- **Decision Tree**:\n",
        "    * ccp_alpha: 0.0001\n",
        "    * criterion: gini\n",
        "    * max_depth: 21\n",
        "- **Random Forest**: \n",
        "    * ccp_alpha: 0.0001\n",
        "    * criterion: entropy \n",
        "    * max_depth: 25\n",
        "    * n_estimators: 55\n",
        "- **K Nearest Neighbors**: \n",
        "    * algorithm: kd_tree\n",
        "    * leaf_size: 5\n",
        "    * n_jobs: -1\n",
        "    * n_neighbors: 3\n",
        "    * weights: distance"
      ]
    },
    {
      "cell_type": "markdown",
      "metadata": {
        "id": "AEgb4Z2xDon_"
      },
      "source": [
        "Una vez que contamos con los modelos que vamos a utilizar en el ensamble, procedemos a su creación. En este caso particular decidimos utilizar el tipo de votación `hard` el cual utilizará la regla de la mayoría. Por otro lado, utilizamos el hiperparámetro `estimators` para definir como nos vamos a referir a dichos modelos."
      ]
    },
    {
      "cell_type": "code",
      "execution_count": 79,
      "metadata": {
        "id": "WlSEwC0ODq26"
      },
      "outputs": [],
      "source": [
        "vot_clf = VotingClassifier(estimators = [('dcs', dcs_clf), ('rnd', rnd_clf), ('knn', knn_clf)], voting = 'hard')"
      ]
    },
    {
      "cell_type": "markdown",
      "metadata": {
        "id": "D8sgMCouvLx-"
      },
      "source": [
        "#### Entrenamiento y Predicción"
      ]
    },
    {
      "cell_type": "markdown",
      "metadata": {
        "collapsed": false,
        "id": "_aTA577USlsB"
      },
      "source": [
        "Reorganizamos los valores predichos para que queden en una sola columna. Luego, procedemos a comparar con el conjunto de prueba:"
      ]
    },
    {
      "cell_type": "code",
      "execution_count": 80,
      "metadata": {
        "id": "ylyPOrZ9SlsC"
      },
      "outputs": [],
      "source": [
        "y_train_voting_arr = np.apply_along_axis(convert_b_m_a, axis=1, arr=y_train_voting)"
      ]
    },
    {
      "cell_type": "markdown",
      "metadata": {
        "id": "pMyijnL-SlsD"
      },
      "source": [
        "Seguimos reacomodando los valores para poder calcular las métricas correspondientes, notemos que no pueden guardarse valores equivalentes al string 'medio' en el array:"
      ]
    },
    {
      "cell_type": "code",
      "execution_count": 81,
      "metadata": {
        "colab": {
          "base_uri": "https://localhost:8080/"
        },
        "id": "oMGsKgJLSlsE",
        "outputId": "aa8c29f3-9a5c-4ef3-f56e-e992a4bc474e"
      },
      "outputs": [
        {
          "output_type": "execute_result",
          "data": {
            "text/plain": [
              "array(['alto', 'bajo', 'medio'], dtype='<U5')"
            ]
          },
          "metadata": {},
          "execution_count": 81
        }
      ],
      "source": [
        "np.unique(y_train_voting_arr)"
      ]
    },
    {
      "cell_type": "markdown",
      "metadata": {
        "id": "mmDJFqfxSlsE"
      },
      "source": [
        "Aplicamos estrategias de transformación de datos:"
      ]
    },
    {
      "cell_type": "code",
      "execution_count": 82,
      "metadata": {
        "id": "vK5dgr3SSlsE"
      },
      "outputs": [],
      "source": [
        "y_train_voting_arr = np.where(y_train_voting_arr == 'medi', 'medio', y_train_voting_arr)"
      ]
    },
    {
      "cell_type": "code",
      "execution_count": 83,
      "metadata": {
        "colab": {
          "base_uri": "https://localhost:8080/"
        },
        "id": "B0Wmo-6KSlsF",
        "outputId": "baae9009-5976-4512-85d4-ee5702c71214"
      },
      "outputs": [
        {
          "output_type": "execute_result",
          "data": {
            "text/plain": [
              "array(['alto', 'bajo', 'medio'], dtype='<U5')"
            ]
          },
          "metadata": {},
          "execution_count": 83
        }
      ],
      "source": [
        "np.unique(y_train_voting_arr)"
      ]
    },
    {
      "cell_type": "markdown",
      "metadata": {
        "id": "JAJbjjZ1SlsF"
      },
      "source": [
        "Finalmente, `entrenamos` el ensamble:"
      ]
    },
    {
      "cell_type": "code",
      "execution_count": 84,
      "metadata": {
        "colab": {
          "base_uri": "https://localhost:8080/"
        },
        "id": "3yr85PLiD1vO",
        "outputId": "99637dc3-6d42-4237-870a-f307868d356d"
      },
      "outputs": [
        {
          "output_type": "execute_result",
          "data": {
            "text/plain": [
              "VotingClassifier(estimators=[('dcs',\n",
              "                              DecisionTreeClassifier(ccp_alpha=0.0001,\n",
              "                                                     max_depth=21)),\n",
              "                             ('rnd',\n",
              "                              RandomForestClassifier(ccp_alpha=0.0001,\n",
              "                                                     criterion='entropy',\n",
              "                                                     max_depth=25,\n",
              "                                                     n_estimators=55,\n",
              "                                                     random_state=5)),\n",
              "                             ('knn',\n",
              "                              KNeighborsClassifier(algorithm='kd_tree',\n",
              "                                                   leaf_size=5, n_jobs=-1,\n",
              "                                                   n_neighbors=3,\n",
              "                                                   weights='distance'))])"
            ]
          },
          "metadata": {},
          "execution_count": 84
        }
      ],
      "source": [
        "vot_clf.fit(x_train_voting, y_train_voting_arr)"
      ]
    },
    {
      "cell_type": "code",
      "execution_count": 85,
      "metadata": {
        "id": "0mf1Le81Ujyc"
      },
      "outputs": [],
      "source": [
        "y_pred_voting = vot_clf.predict(x_test_voting)"
      ]
    },
    {
      "cell_type": "markdown",
      "metadata": {
        "id": "0ZIFAhvgNv4p"
      },
      "source": [
        "Reaplicamos la reorganización de valores para el dataset de test:"
      ]
    },
    {
      "cell_type": "code",
      "execution_count": 86,
      "metadata": {
        "id": "J44P4lPZNhzo"
      },
      "outputs": [],
      "source": [
        "y_test_voting_arr = np.apply_along_axis(convert_b_m_a, axis=1, arr=y_test_voting)"
      ]
    },
    {
      "cell_type": "code",
      "execution_count": 87,
      "metadata": {
        "colab": {
          "base_uri": "https://localhost:8080/"
        },
        "id": "Q2i17oA6N3v6",
        "outputId": "dcfeeae9-2dad-4ab3-a77e-5bd6c2309671"
      },
      "outputs": [
        {
          "output_type": "execute_result",
          "data": {
            "text/plain": [
              "array(['alto', 'bajo', 'medio'], dtype='<U5')"
            ]
          },
          "metadata": {},
          "execution_count": 87
        }
      ],
      "source": [
        "np.unique(y_test_voting_arr)"
      ]
    },
    {
      "cell_type": "markdown",
      "metadata": {
        "id": "JTaTYoJYuv-M"
      },
      "source": [
        "#### Métricas"
      ]
    },
    {
      "cell_type": "markdown",
      "metadata": {
        "id": "UoJ-lAV7Qz6M"
      },
      "source": [
        "Para poder determinar que tan bueno resulto el modelo, lo que haremos será observar las `métricas` resultantes de una predicción con los datos de test. Recordemos que nuestras funciones de metricas fueron definidas al inicio de este trabajo."
      ]
    },
    {
      "cell_type": "code",
      "execution_count": 88,
      "metadata": {
        "colab": {
          "base_uri": "https://localhost:8080/"
        },
        "id": "I1klUyeDQ3zj",
        "outputId": "235008ad-118c-4a5a-f067-bf1611dc4d4a"
      },
      "outputs": [
        {
          "output_type": "stream",
          "name": "stdout",
          "text": [
            "Accuracy: 0.63\n",
            "Precision: 0.65\n",
            "Recall: 0.57\n",
            "F1 Score: 0.59\n"
          ]
        }
      ],
      "source": [
        "metricas_clasificacion(y_test_voting_arr, y_pred_voting)"
      ]
    },
    {
      "cell_type": "markdown",
      "source": [
        "Como se puede observar, el ensamble resultante predice bastante bien, aunque podriamos obtener mejores métricas. Si bien el Accuracy y la precision son buenas, al momento de calcular el recall tenemos un valor un poco menor, el cual repercute directamente en el F1 Score ya que como sabemos este tiene en cuenta las métricas tanto de Precision como Recall."
      ],
      "metadata": {
        "id": "IUBYcfzEmtxg"
      }
    },
    {
      "cell_type": "markdown",
      "metadata": {
        "id": "QnFftUBRQ5zk"
      },
      "source": [
        "A su vez, también podemos visualizar los mismos a través de la siguiente matriz de confusión."
      ]
    },
    {
      "cell_type": "code",
      "execution_count": 89,
      "metadata": {
        "colab": {
          "base_uri": "https://localhost:8080/",
          "height": 296
        },
        "id": "I6EWIuOUQ7W7",
        "outputId": "c2f0e330-edfc-4f1f-b404-d240c8fd1fa1"
      },
      "outputs": [
        {
          "output_type": "execute_result",
          "data": {
            "text/plain": [
              "Text(33.0, 0.5, 'True')"
            ]
          },
          "metadata": {},
          "execution_count": 89
        },
        {
          "output_type": "display_data",
          "data": {
            "text/plain": [
              "<Figure size 432x288 with 2 Axes>"
            ],
            "image/png": "[encoded data removed]"
          },
          "metadata": {
            "needs_background": "light"
          }
        }
      ],
      "source": [
        "matrix = confusion_matrix(y_test_voting_arr, y_pred_voting)\n",
        "sns.heatmap(matrix,cmap='GnBu',annot=True,fmt='g')\n",
        "plt.xlabel('Predicted')\n",
        "plt.ylabel('True')"
      ]
    },
    {
      "cell_type": "markdown",
      "source": [
        "Nuevamente aqui se puede observar que la celda que presenta mayores valores por una amplia diferencia es la `[0][0]`. Notemos que las que le siguen en cantidad se ubican en `[1][0]` y `[2][0]`, las cuales hacen que las métricas decrementen su valor. Cercano a estos valores esta la celda de `[2][2]` en donde volvemos a tener saldo positivo, al igual que cuando tenemos en cuenta la `[1][1]` que por mas que sean algunos registros menos, sigue siendo una cantidad significante. Concluimos luego que los resultados se correlacionan con la matríz de confusión."
      ],
      "metadata": {
        "id": "V_OyAMISpdFz"
      }
    },
    {
      "cell_type": "markdown",
      "metadata": {
        "id": "tm_FRzR7fvEH"
      },
      "source": [
        "#### Exportación de Datos"
      ]
    },
    {
      "cell_type": "markdown",
      "metadata": {
        "id": "b04Kqm-IfvEI"
      },
      "source": [
        "Finalmente, exportamos el ensamble utilizado:"
      ]
    },
    {
      "cell_type": "code",
      "execution_count": 90,
      "metadata": {
        "colab": {
          "base_uri": "https://localhost:8080/"
        },
        "id": "flZ1yIxzfvEJ",
        "outputId": "dfb2507e-2da9-4321-a770-4de40b6529a6"
      },
      "outputs": [
        {
          "output_type": "execute_result",
          "data": {
            "text/plain": [
              "['/content/drive/MyDrive/📒 Organización de Datos (75.06)/TPS/TP2/MODELOS/Voting_Classifier.joblib']"
            ]
          },
          "metadata": {},
          "execution_count": 90
        }
      ],
      "source": [
        "if IN_COLAB:\n",
        "  path = '/content/drive/MyDrive/📒 Organización de Datos (75.06)/TPS/TP2/MODELOS/Voting_Classifier.joblib'\n",
        "else:\n",
        "  path = './MODELOS/Voting_Classifier.joblib'\n",
        "\n",
        "dump(vot_clf, path)"
      ]
    },
    {
      "cell_type": "markdown",
      "metadata": {
        "id": "3gDV2ozmQ9mb"
      },
      "source": [
        "### 3. b) Stacking - Regresión\n",
        "___"
      ]
    },
    {
      "cell_type": "markdown",
      "metadata": {
        "id": "DRpAEJ7WrgeV"
      },
      "source": [
        "#### Preparación del dataset"
      ]
    },
    {
      "cell_type": "markdown",
      "metadata": {
        "id": "XQwjdBg4rgeW"
      },
      "source": [
        "Nuevamente, utilizamos los datasets de train y test previamente definidos:"
      ]
    },
    {
      "cell_type": "code",
      "execution_count": 91,
      "metadata": {
        "id": "9obURdGWrgeW"
      },
      "outputs": [],
      "source": [
        "x_train_stacking = x_train_regresion\n",
        "y_train_stacking = y_train_regresion\n",
        "\n",
        "x_test_stacking = x_test_regresion\n",
        "y_test_stacking = y_test_regresion"
      ]
    },
    {
      "cell_type": "markdown",
      "metadata": {
        "id": "4FjGFid7Y7Fj"
      },
      "source": [
        "#### Definición del Ensamble\n"
      ]
    },
    {
      "cell_type": "markdown",
      "metadata": {
        "id": "i3EG9oZ3Q_zL"
      },
      "source": [
        "Lo que haremos en esta nueva sección, será implementar un nuevo tipo de ensable híbrido con la salvedad de que esta vez utilizaremos el tipo `cascading`.\n",
        "El mismo se basa en el entrenamiento de distintos `modelos base`, y a su vez utilizará un `meta-modelo` el cual realizará su predicción en base a las predicciones de los diferentes modelos comentados anteriormente. \n",
        "\n",
        "Como es indicado por el enunciado del trabajo se utilizarán modelos de regresión. En particular, decidimos trabajar con:\n",
        "\n",
        "\n",
        "*   KNN\n",
        "*   XGBoost\n",
        "*   AdaBoost\n",
        "\n"
      ]
    },
    {
      "cell_type": "markdown",
      "metadata": {
        "id": "uZ1GwmfuRe0C"
      },
      "source": [
        "En esta línea, cargamos en memoria los modelos previamente guardados del TP1 realizado con anterioridad:"
      ]
    },
    {
      "cell_type": "code",
      "execution_count": 92,
      "metadata": {
        "id": "-Y0wFABHQOhS"
      },
      "outputs": [],
      "source": [
        "if IN_COLAB:\n",
        "  path = '/content/drive/MyDrive/📒 Organización de Datos (75.06)/TPS/TP1/MODELOS/KNN_Regressor_Train.joblib'\n",
        "else:\n",
        "  path = './MODELOS/KNN_Regressor_Train.joblib'\n",
        "\n",
        "knn_rgs = load(path)"
      ]
    },
    {
      "cell_type": "code",
      "execution_count": 93,
      "metadata": {
        "colab": {
          "base_uri": "https://localhost:8080/"
        },
        "id": "4zvVhilyQRDj",
        "outputId": "8a7d20be-3e5f-4b50-d94b-73b835c8d716"
      },
      "outputs": [
        {
          "output_type": "stream",
          "name": "stdout",
          "text": [
            "[00:30:28] WARNING: /workspace/src/objective/regression_obj.cu:152: reg:linear is now deprecated in favor of reg:squarederror.\n"
          ]
        }
      ],
      "source": [
        "if IN_COLAB:\n",
        "  path = '/content/drive/MyDrive/📒 Organización de Datos (75.06)/TPS/TP1/MODELOS/XGB_Regressor_Train.joblib'\n",
        "else:\n",
        "  path = './MODELOS/XGB_Regressor_Train.joblib'\n",
        "\n",
        "xgb_rgs = load(path)"
      ]
    },
    {
      "cell_type": "code",
      "execution_count": 94,
      "metadata": {
        "id": "pBui1YlcQQ7E"
      },
      "outputs": [],
      "source": [
        "if IN_COLAB:\n",
        "  path = '/content/drive/MyDrive/📒 Organización de Datos (75.06)/TPS/TP1/MODELOS/AdaB_Regressor_Train.joblib'\n",
        "else:\n",
        "  path = './MODELOS/AdaB_Regressor_Train.joblib'\n",
        "\n",
        "adb_rgs = load(path)"
      ]
    },
    {
      "cell_type": "markdown",
      "metadata": {
        "id": "KGi5lWsDTnpA"
      },
      "source": [
        "A modo de recordatorio, enunciamos los hiperparámetros con los que estos modelos fueron optimizados:\n",
        "\n",
        "- **K Nearest Neighbors**: \n",
        "    * weights: uniform\n",
        "    * n_neighbors: 51\n",
        "    * metric: chebyshev\n",
        "    * leaf_size: 22\n",
        "    * algorithm: ball_tree\n",
        "- **Extreme Gradient Boosting**: \n",
        "    * min_child_weight: 5\n",
        "    * max_depth: 6\n",
        "    * learning_rate: 0.3\n",
        "    * gamma: 0.1\n",
        "    * colsample_bytree: 0.3\n",
        "- **Adaptive Boosting**: \n",
        "    * n_estimators: 10\n",
        "    * learning_rate: 1.02"
      ]
    },
    {
      "cell_type": "markdown",
      "metadata": {
        "id": "eoI5ilXVRD06"
      },
      "source": [
        "Luego utilizamos los mismos para definir nuestro modelo base, en el cual luego se basará el meta-modelo."
      ]
    },
    {
      "cell_type": "code",
      "execution_count": 95,
      "metadata": {
        "id": "qK74SKO-RF4U"
      },
      "outputs": [],
      "source": [
        "base_models = [('KNN', knn_rgs),\n",
        "               ('XGBoost', xgb_rgs),\n",
        "               ('AdaBoost', adb_rgs)]"
      ]
    },
    {
      "cell_type": "markdown",
      "metadata": {
        "id": "C7j2qzBXRHd6"
      },
      "source": [
        "Como mencionamos, a continuación los utilizaremos para definir nuestro meta-modelo. Para este último, decidimos emplear el modelo de regresión logistica."
      ]
    },
    {
      "cell_type": "code",
      "execution_count": 96,
      "metadata": {
        "id": "8mRJmKOSRJCy"
      },
      "outputs": [],
      "source": [
        "from sklearn.ensemble import GradientBoostingRegressor\n",
        "\n",
        "meta_model = GradientBoostingRegressor()"
      ]
    },
    {
      "cell_type": "markdown",
      "metadata": {
        "id": "PnA6P4zORKsq"
      },
      "source": [
        "Creamos nuestro ensamble indicando como modelos estimadores Knn, XGBoost y AdaBoost, y como estimador final el modelo de Regresión Lineal."
      ]
    },
    {
      "cell_type": "code",
      "execution_count": 97,
      "metadata": {
        "id": "6j70-9G75VW2"
      },
      "outputs": [],
      "source": [
        "s = 5\n",
        "n = 2"
      ]
    },
    {
      "cell_type": "code",
      "execution_count": 98,
      "metadata": {
        "id": "YWOHgLGcRMHr"
      },
      "outputs": [],
      "source": [
        "stacking_model = StackingRegressor(estimators=base_models, \n",
        "                                    final_estimator=meta_model, \n",
        "                                    passthrough=True, \n",
        "                                    cv=s,\n",
        "                                    verbose=n)"
      ]
    },
    {
      "cell_type": "markdown",
      "metadata": {
        "id": "GYCuFlWQZhlo"
      },
      "source": [
        "#### Entrenamiento y Predicción"
      ]
    },
    {
      "cell_type": "markdown",
      "source": [
        "Una vez conformado el ensamble que decidimos utilizar, ahora si estamos en condiciones de pasar a realizar su entrenamiento."
      ],
      "metadata": {
        "id": "wIS8S06CrcwY"
      }
    },
    {
      "cell_type": "code",
      "execution_count": 99,
      "metadata": {
        "colab": {
          "base_uri": "https://localhost:8080/"
        },
        "id": "QomGOhfXEgg7",
        "outputId": "edc45690-84d9-4470-f51b-8fcfb63eb963"
      },
      "outputs": [
        {
          "output_type": "stream",
          "name": "stdout",
          "text": [
            "Evaluating KNN\n"
          ]
        },
        {
          "output_type": "stream",
          "name": "stderr",
          "text": [
            "[Parallel(n_jobs=3)]: Using backend LokyBackend with 3 concurrent workers.\n",
            "[Parallel(n_jobs=3)]: Done  10 out of  10 | elapsed: 13.1min finished\n",
            "[Parallel(n_jobs=3)]: Using backend LokyBackend with 3 concurrent workers.\n"
          ]
        },
        {
          "output_type": "stream",
          "name": "stdout",
          "text": [
            "Evaluating XGBoost\n"
          ]
        },
        {
          "output_type": "stream",
          "name": "stderr",
          "text": [
            "[Parallel(n_jobs=3)]: Done  10 out of  10 | elapsed:  1.1min finished\n",
            "[Parallel(n_jobs=3)]: Using backend LokyBackend with 3 concurrent workers.\n"
          ]
        },
        {
          "output_type": "stream",
          "name": "stdout",
          "text": [
            "Evaluating AdaBoost\n"
          ]
        },
        {
          "output_type": "stream",
          "name": "stderr",
          "text": [
            "[Parallel(n_jobs=3)]: Done  10 out of  10 | elapsed:   27.1s finished\n"
          ]
        }
      ],
      "source": [
        "model_scores = defaultdict()\n",
        "\n",
        "for name, model in base_models:\n",
        "    print('Evaluating {}'.format(name))\n",
        "    scores = evaluate_model(model, x_train_stacking, y_train_stacking, s, n)\n",
        "    model_scores[name] = scores"
      ]
    },
    {
      "cell_type": "markdown",
      "metadata": {
        "id": "hyJIbF3HsxK8"
      },
      "source": [
        "Una vez que realizamos una iteración por cada uno de los modelos base, evaluamos cómo resultaron los scores de los mismos a través del siguiente gráfico. En éste se puede apreciar la relación de cada uno de los modelos, y a su vez tener una noción concreta de sus principales métricas (mediana, q1, q3, mánimo y máximo)."
      ]
    },
    {
      "cell_type": "code",
      "execution_count": 100,
      "metadata": {
        "colab": {
          "base_uri": "https://localhost:8080/",
          "height": 542
        },
        "id": "CPzQs8HBsuR4",
        "outputId": "6e627a64-00e4-4c82-fbfd-4ff3e1ac5835"
      },
      "outputs": [
        {
          "output_type": "display_data",
          "data": {
            "text/html": [
              "<html>\n",
              "<head><meta charset=\"utf-8\" /></head>\n",
              "<body>\n",
              "    <div>            <script src=\"https://cdnjs.cloudflare.com/ajax/libs/mathjax/2.7.5/MathJax.js?config=TeX-AMS-MML_SVG\"></script><script type=\"text/javascript\">if (window.MathJax) {MathJax.Hub.Config({SVG: {font: \"STIX-Web\"}});}</script>                <script type=\"text/javascript\">window.PlotlyConfig = {MathJaxConfig: 'local'};</script>\n",
              "        <script src=\"https://cdn.plot.ly/plotly-2.8.3.min.js\"></script>                <div id=\"4092681b-6c8b-4ba0-a3ae-4c26bc25e6d3\" class=\"plotly-graph-div\" style=\"height:525px; width:100%;\"></div>            <script type=\"text/javascript\">                                    window.PLOTLYENV=window.PLOTLYENV || {};                                    if (document.getElementById(\"4092681b-6c8b-4ba0-a3ae-4c26bc25e6d3\")) {                    Plotly.newPlot(                        \"4092681b-6c8b-4ba0-a3ae-4c26bc25e6d3\",                        [{\"boxpoints\":\"all\",\"jitter\":0.5,\"line\":{\"width\":1},\"marker\":{\"size\":2},\"name\":\"KNN\",\"whiskerwidth\":0.2,\"y\":[-21428775757.75755,-16201215328.812365,-17848391140.408684,-19763250501.8644,-17695749481.532146,-21657111489.639683,-16672426912.50796,-17847617677.27545,-19154713152.768898,-17543341189.858273],\"type\":\"box\"},{\"boxpoints\":\"all\",\"jitter\":0.5,\"line\":{\"width\":1},\"marker\":{\"size\":2},\"name\":\"XGBoost\",\"whiskerwidth\":0.2,\"y\":[-12982427106.775623,-8485467481.563318,-8157098015.72927,-11247594172.816221,-8759145370.370293,-12944688780.391924,-8497278206.171427,-8680600079.800514,-10389681057.153002,-8248096018.172669],\"type\":\"box\"},{\"boxpoints\":\"all\",\"jitter\":0.5,\"line\":{\"width\":1},\"marker\":{\"size\":2},\"name\":\"AdaBoost\",\"whiskerwidth\":0.2,\"y\":[-26717422906.89227,-28134704945.46074,-27041080039.86731,-23771692729.733738,-24517626402.191345,-27940002281.537373,-25324230344.669437,-29691821631.09539,-23991214276.47447,-22600643674.862305],\"type\":\"box\"}],                        {\"template\":{\"data\":{\"bar\":[{\"error_x\":{\"color\":\"#2a3f5f\"},\"error_y\":{\"color\":\"#2a3f5f\"},\"marker\":{\"line\":{\"color\":\"#E5ECF6\",\"width\":0.5},\"pattern\":{\"fillmode\":\"overlay\",\"size\":10,\"solidity\":0.2}},\"type\":\"bar\"}],\"barpolar\":[{\"marker\":{\"line\":{\"color\":\"#E5ECF6\",\"width\":0.5},\"pattern\":{\"fillmode\":\"overlay\",\"size\":10,\"solidity\":0.2}},\"type\":\"barpolar\"}],\"carpet\":[{\"aaxis\":{\"endlinecolor\":\"#2a3f5f\",\"gridcolor\":\"white\",\"linecolor\":\"white\",\"minorgridcolor\":\"white\",\"startlinecolor\":\"#2a3f5f\"},\"baxis\":{\"endlinecolor\":\"#2a3f5f\",\"gridcolor\":\"white\",\"linecolor\":\"white\",\"minorgridcolor\":\"white\",\"startlinecolor\":\"#2a3f5f\"},\"type\":\"carpet\"}],\"choropleth\":[{\"colorbar\":{\"outlinewidth\":0,\"ticks\":\"\"},\"type\":\"choropleth\"}],\"contour\":[{\"colorbar\":{\"outlinewidth\":0,\"ticks\":\"\"},\"colorscale\":[[0.0,\"#0d0887\"],[0.1111111111111111,\"#46039f\"],[0.2222222222222222,\"#7201a8\"],[0.3333333333333333,\"#9c179e\"],[0.4444444444444444,\"#bd3786\"],[0.5555555555555556,\"#d8576b\"],[0.6666666666666666,\"#ed7953\"],[0.7777777777777778,\"#fb9f3a\"],[0.8888888888888888,\"#fdca26\"],[1.0,\"#f0f921\"]],\"type\":\"contour\"}],\"contourcarpet\":[{\"colorbar\":{\"outlinewidth\":0,\"ticks\":\"\"},\"type\":\"contourcarpet\"}],\"heatmap\":[{\"colorbar\":{\"outlinewidth\":0,\"ticks\":\"\"},\"colorscale\":[[0.0,\"#0d0887\"],[0.1111111111111111,\"#46039f\"],[0.2222222222222222,\"#7201a8\"],[0.3333333333333333,\"#9c179e\"],[0.4444444444444444,\"#bd3786\"],[0.5555555555555556,\"#d8576b\"],[0.6666666666666666,\"#ed7953\"],[0.7777777777777778,\"#fb9f3a\"],[0.8888888888888888,\"#fdca26\"],[1.0,\"#f0f921\"]],\"type\":\"heatmap\"}],\"heatmapgl\":[{\"colorbar\":{\"outlinewidth\":0,\"ticks\":\"\"},\"colorscale\":[[0.0,\"#0d0887\"],[0.1111111111111111,\"#46039f\"],[0.2222222222222222,\"#7201a8\"],[0.3333333333333333,\"#9c179e\"],[0.4444444444444444,\"#bd3786\"],[0.5555555555555556,\"#d8576b\"],[0.6666666666666666,\"#ed7953\"],[0.7777777777777778,\"#fb9f3a\"],[0.8888888888888888,\"#fdca26\"],[1.0,\"#f0f921\"]],\"type\":\"heatmapgl\"}],\"histogram\":[{\"marker\":{\"pattern\":{\"fillmode\":\"overlay\",\"size\":10,\"solidity\":0.2}},\"type\":\"histogram\"}],\"histogram2d\":[{\"colorbar\":{\"outlinewidth\":0,\"ticks\":\"\"},\"colorscale\":[[0.0,\"#0d0887\"],[0.1111111111111111,\"#46039f\"],[0.2222222222222222,\"#7201a8\"],[0.3333333333333333,\"#9c179e\"],[0.4444444444444444,\"#bd3786\"],[0.5555555555555556,\"#d8576b\"],[0.6666666666666666,\"#ed7953\"],[0.7777777777777778,\"#fb9f3a\"],[0.8888888888888888,\"#fdca26\"],[1.0,\"#f0f921\"]],\"type\":\"histogram2d\"}],\"histogram2dcontour\":[{\"colorbar\":{\"outlinewidth\":0,\"ticks\":\"\"},\"colorscale\":[[0.0,\"#0d0887\"],[0.1111111111111111,\"#46039f\"],[0.2222222222222222,\"#7201a8\"],[0.3333333333333333,\"#9c179e\"],[0.4444444444444444,\"#bd3786\"],[0.5555555555555556,\"#d8576b\"],[0.6666666666666666,\"#ed7953\"],[0.7777777777777778,\"#fb9f3a\"],[0.8888888888888888,\"#fdca26\"],[1.0,\"#f0f921\"]],\"type\":\"histogram2dcontour\"}],\"mesh3d\":[{\"colorbar\":{\"outlinewidth\":0,\"ticks\":\"\"},\"type\":\"mesh3d\"}],\"parcoords\":[{\"line\":{\"colorbar\":{\"outlinewidth\":0,\"ticks\":\"\"}},\"type\":\"parcoords\"}],\"pie\":[{\"automargin\":true,\"type\":\"pie\"}],\"scatter\":[{\"marker\":{\"colorbar\":{\"outlinewidth\":0,\"ticks\":\"\"}},\"type\":\"scatter\"}],\"scatter3d\":[{\"line\":{\"colorbar\":{\"outlinewidth\":0,\"ticks\":\"\"}},\"marker\":{\"colorbar\":{\"outlinewidth\":0,\"ticks\":\"\"}},\"type\":\"scatter3d\"}],\"scattercarpet\":[{\"marker\":{\"colorbar\":{\"outlinewidth\":0,\"ticks\":\"\"}},\"type\":\"scattercarpet\"}],\"scattergeo\":[{\"marker\":{\"colorbar\":{\"outlinewidth\":0,\"ticks\":\"\"}},\"type\":\"scattergeo\"}],\"scattergl\":[{\"marker\":{\"colorbar\":{\"outlinewidth\":0,\"ticks\":\"\"}},\"type\":\"scattergl\"}],\"scattermapbox\":[{\"marker\":{\"colorbar\":{\"outlinewidth\":0,\"ticks\":\"\"}},\"type\":\"scattermapbox\"}],\"scatterpolar\":[{\"marker\":{\"colorbar\":{\"outlinewidth\":0,\"ticks\":\"\"}},\"type\":\"scatterpolar\"}],\"scatterpolargl\":[{\"marker\":{\"colorbar\":{\"outlinewidth\":0,\"ticks\":\"\"}},\"type\":\"scatterpolargl\"}],\"scatterternary\":[{\"marker\":{\"colorbar\":{\"outlinewidth\":0,\"ticks\":\"\"}},\"type\":\"scatterternary\"}],\"surface\":[{\"colorbar\":{\"outlinewidth\":0,\"ticks\":\"\"},\"colorscale\":[[0.0,\"#0d0887\"],[0.1111111111111111,\"#46039f\"],[0.2222222222222222,\"#7201a8\"],[0.3333333333333333,\"#9c179e\"],[0.4444444444444444,\"#bd3786\"],[0.5555555555555556,\"#d8576b\"],[0.6666666666666666,\"#ed7953\"],[0.7777777777777778,\"#fb9f3a\"],[0.8888888888888888,\"#fdca26\"],[1.0,\"#f0f921\"]],\"type\":\"surface\"}],\"table\":[{\"cells\":{\"fill\":{\"color\":\"#EBF0F8\"},\"line\":{\"color\":\"white\"}},\"header\":{\"fill\":{\"color\":\"#C8D4E3\"},\"line\":{\"color\":\"white\"}},\"type\":\"table\"}]},\"layout\":{\"annotationdefaults\":{\"arrowcolor\":\"#2a3f5f\",\"arrowhead\":0,\"arrowwidth\":1},\"autotypenumbers\":\"strict\",\"coloraxis\":{\"colorbar\":{\"outlinewidth\":0,\"ticks\":\"\"}},\"colorscale\":{\"diverging\":[[0,\"#8e0152\"],[0.1,\"#c51b7d\"],[0.2,\"#de77ae\"],[0.3,\"#f1b6da\"],[0.4,\"#fde0ef\"],[0.5,\"#f7f7f7\"],[0.6,\"#e6f5d0\"],[0.7,\"#b8e186\"],[0.8,\"#7fbc41\"],[0.9,\"#4d9221\"],[1,\"#276419\"]],\"sequential\":[[0.0,\"#0d0887\"],[0.1111111111111111,\"#46039f\"],[0.2222222222222222,\"#7201a8\"],[0.3333333333333333,\"#9c179e\"],[0.4444444444444444,\"#bd3786\"],[0.5555555555555556,\"#d8576b\"],[0.6666666666666666,\"#ed7953\"],[0.7777777777777778,\"#fb9f3a\"],[0.8888888888888888,\"#fdca26\"],[1.0,\"#f0f921\"]],\"sequentialminus\":[[0.0,\"#0d0887\"],[0.1111111111111111,\"#46039f\"],[0.2222222222222222,\"#7201a8\"],[0.3333333333333333,\"#9c179e\"],[0.4444444444444444,\"#bd3786\"],[0.5555555555555556,\"#d8576b\"],[0.6666666666666666,\"#ed7953\"],[0.7777777777777778,\"#fb9f3a\"],[0.8888888888888888,\"#fdca26\"],[1.0,\"#f0f921\"]]},\"colorway\":[\"#636efa\",\"#EF553B\",\"#00cc96\",\"#ab63fa\",\"#FFA15A\",\"#19d3f3\",\"#FF6692\",\"#B6E880\",\"#FF97FF\",\"#FECB52\"],\"font\":{\"color\":\"#2a3f5f\"},\"geo\":{\"bgcolor\":\"white\",\"lakecolor\":\"white\",\"landcolor\":\"#E5ECF6\",\"showlakes\":true,\"showland\":true,\"subunitcolor\":\"white\"},\"hoverlabel\":{\"align\":\"left\"},\"hovermode\":\"closest\",\"mapbox\":{\"style\":\"light\"},\"paper_bgcolor\":\"white\",\"plot_bgcolor\":\"#E5ECF6\",\"polar\":{\"angularaxis\":{\"gridcolor\":\"white\",\"linecolor\":\"white\",\"ticks\":\"\"},\"bgcolor\":\"#E5ECF6\",\"radialaxis\":{\"gridcolor\":\"white\",\"linecolor\":\"white\",\"ticks\":\"\"}},\"scene\":{\"xaxis\":{\"backgroundcolor\":\"#E5ECF6\",\"gridcolor\":\"white\",\"gridwidth\":2,\"linecolor\":\"white\",\"showbackground\":true,\"ticks\":\"\",\"zerolinecolor\":\"white\"},\"yaxis\":{\"backgroundcolor\":\"#E5ECF6\",\"gridcolor\":\"white\",\"gridwidth\":2,\"linecolor\":\"white\",\"showbackground\":true,\"ticks\":\"\",\"zerolinecolor\":\"white\"},\"zaxis\":{\"backgroundcolor\":\"#E5ECF6\",\"gridcolor\":\"white\",\"gridwidth\":2,\"linecolor\":\"white\",\"showbackground\":true,\"ticks\":\"\",\"zerolinecolor\":\"white\"}},\"shapedefaults\":{\"line\":{\"color\":\"#2a3f5f\"}},\"ternary\":{\"aaxis\":{\"gridcolor\":\"white\",\"linecolor\":\"white\",\"ticks\":\"\"},\"baxis\":{\"gridcolor\":\"white\",\"linecolor\":\"white\",\"ticks\":\"\"},\"bgcolor\":\"#E5ECF6\",\"caxis\":{\"gridcolor\":\"white\",\"linecolor\":\"white\",\"ticks\":\"\"}},\"title\":{\"x\":0.05},\"xaxis\":{\"automargin\":true,\"gridcolor\":\"white\",\"linecolor\":\"white\",\"ticks\":\"\",\"title\":{\"standoff\":15},\"zerolinecolor\":\"white\",\"zerolinewidth\":2},\"yaxis\":{\"automargin\":true,\"gridcolor\":\"white\",\"linecolor\":\"white\",\"ticks\":\"\",\"title\":{\"standoff\":15},\"zerolinecolor\":\"white\",\"zerolinewidth\":2}}},\"title\":{\"text\":\"Performance of Different Models Using 5-Fold Cross-Validation\"},\"paper_bgcolor\":\"rgb(243, 243, 243)\",\"plot_bgcolor\":\"rgb(243, 243, 243)\",\"xaxis\":{\"title\":{\"text\":\"Model\"}},\"yaxis\":{\"title\":{\"text\":\"Error Cuadr\\u00e1tico Medio\"}},\"showlegend\":false},                        {\"responsive\": true}                    ).then(function(){\n",
              "                            \n",
              "var gd = document.getElementById('4092681b-6c8b-4ba0-a3ae-4c26bc25e6d3');\n",
              "var x = new MutationObserver(function (mutations, observer) {{\n",
              "        var display = window.getComputedStyle(gd).display;\n",
              "        if (!display || display === 'none') {{\n",
              "            console.log([gd, 'removed!']);\n",
              "            Plotly.purge(gd);\n",
              "            observer.disconnect();\n",
              "        }}\n",
              "}});\n",
              "\n",
              "// Listen for the removal of the full notebook cells\n",
              "var notebookContainer = gd.closest('#notebook-container');\n",
              "if (notebookContainer) {{\n",
              "    x.observe(notebookContainer, {childList: true});\n",
              "}}\n",
              "\n",
              "// Listen for the clearing of the current output cell\n",
              "var outputEl = gd.closest('.output');\n",
              "if (outputEl) {{\n",
              "    x.observe(outputEl, {childList: true});\n",
              "}}\n",
              "\n",
              "                        })                };                            </script>        </div>\n",
              "</body>\n",
              "</html>"
            ]
          },
          "metadata": {}
        }
      ],
      "source": [
        "plot_results(model_scores, name='stacking_model_cv')"
      ]
    },
    {
      "cell_type": "markdown",
      "metadata": {
        "id": "uduejW9os8-J"
      },
      "source": [
        "Entrenamos el modelo:"
      ]
    },
    {
      "cell_type": "code",
      "execution_count": 101,
      "metadata": {
        "colab": {
          "base_uri": "https://localhost:8080/"
        },
        "id": "VT_HO24fk7kR",
        "outputId": "7f9d405b-8f69-4d6d-e534-5b4ce7bc7cff"
      },
      "outputs": [
        {
          "output_type": "stream",
          "name": "stdout",
          "text": [
            "[00:45:23] WARNING: /workspace/src/objective/regression_obj.cu:152: reg:linear is now deprecated in favor of reg:squarederror.\n"
          ]
        },
        {
          "output_type": "stream",
          "name": "stderr",
          "text": [
            "[Parallel(n_jobs=1)]: Using backend SequentialBackend with 1 concurrent workers.\n",
            "[Parallel(n_jobs=1)]: Done   1 out of   1 | elapsed:  2.0min remaining:    0.0s\n",
            "[Parallel(n_jobs=1)]: Done   5 out of   5 | elapsed:  9.0min finished\n",
            "[Parallel(n_jobs=1)]: Using backend SequentialBackend with 1 concurrent workers.\n"
          ]
        },
        {
          "output_type": "stream",
          "name": "stdout",
          "text": [
            "[00:54:42] WARNING: /workspace/src/objective/regression_obj.cu:152: reg:linear is now deprecated in favor of reg:squarederror.\n"
          ]
        },
        {
          "output_type": "stream",
          "name": "stderr",
          "text": [
            "[Parallel(n_jobs=1)]: Done   1 out of   1 | elapsed:    7.9s remaining:    0.0s\n"
          ]
        },
        {
          "output_type": "stream",
          "name": "stdout",
          "text": [
            "[00:54:50] WARNING: /workspace/src/objective/regression_obj.cu:152: reg:linear is now deprecated in favor of reg:squarederror.\n",
            "[00:54:58] WARNING: /workspace/src/objective/regression_obj.cu:152: reg:linear is now deprecated in favor of reg:squarederror.\n",
            "[00:55:05] WARNING: /workspace/src/objective/regression_obj.cu:152: reg:linear is now deprecated in favor of reg:squarederror.\n",
            "[00:55:13] WARNING: /workspace/src/objective/regression_obj.cu:152: reg:linear is now deprecated in favor of reg:squarederror.\n"
          ]
        },
        {
          "output_type": "stream",
          "name": "stderr",
          "text": [
            "[Parallel(n_jobs=1)]: Done   5 out of   5 | elapsed:   39.4s finished\n",
            "[Parallel(n_jobs=1)]: Using backend SequentialBackend with 1 concurrent workers.\n",
            "[Parallel(n_jobs=1)]: Done   1 out of   1 | elapsed:    3.7s remaining:    0.0s\n",
            "[Parallel(n_jobs=1)]: Done   5 out of   5 | elapsed:   18.5s finished\n"
          ]
        },
        {
          "output_type": "execute_result",
          "data": {
            "text/plain": [
              "StackingRegressor(cv=5,\n",
              "                  estimators=[('KNN',\n",
              "                               KNeighborsRegressor(algorithm='ball_tree',\n",
              "                                                   leaf_size=22,\n",
              "                                                   metric='chebyshev',\n",
              "                                                   n_neighbors=51)),\n",
              "                              ('XGBoost',\n",
              "                               XGBRegressor(colsample_bytree=0.3, gamma=0.1,\n",
              "                                            learning_rate=0.3, max_depth=6,\n",
              "                                            min_child_weight=5, missing=nan)),\n",
              "                              ('AdaBoost',\n",
              "                               AdaBoostRegressor(learning_rate=1.02,\n",
              "                                                 n_estimators=10))],\n",
              "                  final_estimator=GradientBoostingRegressor(), passthrough=True,\n",
              "                  verbose=2)"
            ]
          },
          "metadata": {},
          "execution_count": 101
        }
      ],
      "source": [
        "stacking_model.fit(x_train_stacking, y_train_stacking)"
      ]
    },
    {
      "cell_type": "markdown",
      "metadata": {
        "id": "567lujdizE8r"
      },
      "source": [
        "Finalmente haremos la predicción:"
      ]
    },
    {
      "cell_type": "code",
      "execution_count": 102,
      "metadata": {
        "id": "_Cw7e8GzzEFC"
      },
      "outputs": [],
      "source": [
        "y_pred_stacking = stacking_model.predict(x_test_stacking)"
      ]
    },
    {
      "cell_type": "markdown",
      "metadata": {
        "id": "mUjE089xzI7j"
      },
      "source": [
        "#### Métricas"
      ]
    },
    {
      "cell_type": "markdown",
      "metadata": {
        "id": "dLNhGzU6zNVc"
      },
      "source": [
        "Para poder evaluar la performance que obtuvo nuestro modelo utilizaremos la métrica de evaluación del `error cuadrático medio` (MSE) como se pide por enunciado."
      ]
    },
    {
      "cell_type": "code",
      "execution_count": 103,
      "metadata": {
        "colab": {
          "base_uri": "https://localhost:8080/"
        },
        "id": "ZgpouA6A0e1-",
        "outputId": "afbbb19f-82a1-4504-98fb-d6f89adab65a"
      },
      "outputs": [
        {
          "output_type": "stream",
          "name": "stdout",
          "text": [
            "El error según la métrica 'Mean Square Error' de test es: 109761158655.8607\n"
          ]
        }
      ],
      "source": [
        "mse = metrics.mean_squared_error(\n",
        "        y_true  = y_test_stacking,\n",
        "        y_pred  = y_pred_stacking,\n",
        "        squared = True\n",
        "       )\n",
        "\n",
        "print(f\"El error según la métrica 'Mean Square Error' de test es: {mse}\")"
      ]
    },
    {
      "cell_type": "markdown",
      "source": [
        "En la métrica MSE podemos ver que obtuvimos un error un tanto grosero. Luego de repasar las lógicas realizadas a lo largo de este punto como equipo decidimos atribuirlo a algún error involuntario cometido en el proceso."
      ],
      "metadata": {
        "id": "kOD_ohsJsinS"
      }
    },
    {
      "cell_type": "markdown",
      "metadata": {
        "id": "qQk2khn_gLmD"
      },
      "source": [
        "#### Exportación de Datos"
      ]
    },
    {
      "cell_type": "markdown",
      "metadata": {
        "id": "gmlWq5XygLmE"
      },
      "source": [
        "Finalmente, exportamos el modelo utilizado:"
      ]
    },
    {
      "cell_type": "code",
      "execution_count": 104,
      "metadata": {
        "colab": {
          "base_uri": "https://localhost:8080/"
        },
        "id": "6ruQqkIZgLmE",
        "outputId": "6dc06e2a-cd30-4cc9-a26a-7d6182b49873"
      },
      "outputs": [
        {
          "output_type": "execute_result",
          "data": {
            "text/plain": [
              "['/content/drive/MyDrive/📒 Organización de Datos (75.06)/TPS/TP2/MODELOS/Stacking_Regressor.joblib']"
            ]
          },
          "metadata": {},
          "execution_count": 104
        }
      ],
      "source": [
        "if IN_COLAB:\n",
        "  path = '/content/drive/MyDrive/📒 Organización de Datos (75.06)/TPS/TP2/MODELOS/Stacking_Regressor.joblib'\n",
        "else:\n",
        "  path = './MODELOS/Stacking_Regressor.joblib'\n",
        "\n",
        "dump(stacking_model, path)"
      ]
    },
    {
      "cell_type": "markdown",
      "metadata": {
        "id": "VFntMJUkIzEu"
      },
      "source": [
        "## Conclusiones"
      ]
    },
    {
      "cell_type": "markdown",
      "metadata": {
        "id": "CE40zH4PI4xY"
      },
      "source": [
        "A modo de finalización de este trabajo, haremos un pequeño repaso sobre todos los puntos que analizamos y sus respectivos resultados y/o observaciones hechos por nosotros:\n",
        "\n",
        "Sobre el análisis realizado en el apartado de **procesamiento del lenguaje natural**, y en particular haciendo referencia a las métricas que obtuvimos luego del entrenamiento y predicción con el dataset producto de la ampliación, utilizando el modelo XGBoost, pudimos observar que si bien aún las métricas no nos resultan del todo satisfactorias cumplen con el objetivo de mejorar las resultantes del trabajo anterior. Más allá de que la cantidad de aciertos continúa sin incrementar, tanto el MSE como el RMSE decrecieron ofreciendo mejores resultados. Por otro lado, el coeficiente de determinación se incrementó notoriamente llegando casi a un 0.9%. En lo que respecta a *feature importance*, realizamos la misma enfocándonos en los atributos de cada uno de los aspectos elegidos como más importantes del dataset general. Cabe destacar que obtuvimos los mismos resultados con y sin optimizar los hiperparámetros del modelo de regresión.\n",
        "\n",
        "En cuanto a lo referido sobre **redes neuronales**, la comparación será directamente en base a los nuevos modelos ya que el dataset utilizado es compartido en ambos trabajos. Dicho esto, el error cometido en el modelo de regresión es significativamente pequeño. Teniendo en cuenta los resultantes del TP1, si utilizamos el menor luego de que éstos tuvieron su optimización de parámetros correspondiente, notamos que el que mejor performa es XGBoost con un MSE de 51 mil millones (al cual de todas formas le atribuímos arrastre de error en nuestro planteo). Utilizando redes neuronales cometemos tan solo un error cuadrático medio equivalente a 1.36. Por otro lado, en lo que respecta al modelo de clasificación, obtuvimos resultados bastante similares. Si bien tanto el accuracy, precisión y F1-Score dieron distintos, la diferencia es de tan solo uno/dos puntos. Con esto concluimos que para clasificación no se notan mejoras por sobre los modelos utilizados en el trabajo anterior.\n",
        "\n",
        "Como último requerimiento se pidió estudiar las métricas tanto para regresión como clasificación pero haciendo uso de **ensambles**, en particular de tipo híbridos. En lo que respecta al utilizado para clasificación (Voting) obtuvimos mejores resultados para las métricas de Accuracy, Recall y F1-Score. Sin embargo, aunque en Precisión disminuyó un poco, esta diferencia continúa siendo no significativa. Pasando al ensamble de regresión (Stacking) el MSE resultante que obtuvimos fue 106 mil millones que si bien continúa siendo alto, luego de aplicar la optimización de hiperparámetros como nos fue recomendado como corrección de esta reentrega este número se redujo a la mitad que obtenido en la entrega inicial. Mas allá de esto, al continuar siendo este bastante grosero, creemos que nuevamente estamos cometiendo involuntariamente algún arrastre de error en alguno de los incisos desarrollados, ya que este error es incluso mayor a los cometidos en los modelos individuales desarrollados en el TP1, y no estaría respetando la regla principal de ‘*La sabiduría de las multitudes*’."
      ]
    }
  ],
  "metadata": {
    "colab": {
      "collapsed_sections": [
        "DajLENWv2DpA",
        "CkJCoGXnaN1y",
        "NjqmQr4pYrEE"
      ],
      "provenance": [],
      "toc_visible": true
    },
    "kernelspec": {
      "display_name": "Python 3",
      "language": "python",
      "name": "python3"
    },
    "language_info": {
      "codemirror_mode": {
        "name": "ipython",
        "version": 2
      },
      "file_extension": ".py",
      "mimetype": "text/x-python",
      "name": "python",
      "nbconvert_exporter": "python",
      "pygments_lexer": "ipython2",
      "version": "2.7.6"
    }
  },
  "nbformat": 4,
  "nbformat_minor": 0
}