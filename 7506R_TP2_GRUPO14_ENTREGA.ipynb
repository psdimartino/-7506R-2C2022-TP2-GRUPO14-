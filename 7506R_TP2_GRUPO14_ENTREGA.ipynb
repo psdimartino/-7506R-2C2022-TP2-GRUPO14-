{
  "cells": [
    {
      "cell_type": "markdown",
      "source": [
        "______________________________________\n",
        "# <center>**Trabajo Practico Nº2 para la Materia *Organización de Datos***</center>\n",
        "\n",
        "*Integrantes*:\n",
        "- 103963\tCarolina Di Matteo\tcdimatteo@fi.uba.ar\n",
        "- 101231\tPablo Salvador Dimartino\tpdimartino@fi.uba.ar\n",
        "- 100113\tJuan Sebastian Burgos\tjsburgos@fi.uba.ar\n",
        "- 104415\tValentina Laura Correa\tvcorrea@fi.uba.ar\n",
        "\n",
        "*Grupo*: 14\n",
        "\n",
        "*Repositorio*: [github](https://github.com/valencorrea/7506R-2C2022-GRUPO14)\n",
        "\n",
        "*Curso*: Rodriguez\n",
        "\n",
        "*Cuatrimestre*: 2c2022\n",
        "\n",
        "Datos provistos por [properati](https://www.properati.com.ar).\n",
        "______________________________________\n"
      ],
      "metadata": {
        "collapsed": false,
        "id": "ALhQpMoS2Do2"
      }
    },
    {
      "cell_type": "markdown",
      "source": [
        "## Introducción"
      ],
      "metadata": {
        "id": "jrObdaVTw13E"
      }
    },
    {
      "cell_type": "markdown",
      "source": [
        "El presente trabajo práctico es una continuación del ‘TP1: Propiedades en Venta’. \n",
        "\n",
        "En la entrega anterior se propuso aplicar técnicas de análisis exploratorio, preprocesamiento de datos, agrupamiento, clasificación y regresión. Siguiendo esta línea, y con el objetivo de continuar resolviendo problemas reales de ciencia de datos, en esta segunda parte se implementarán nuevos modelos predictivos a partir de los anteriormente mencionados. \n",
        "\n",
        "En esta oportunidad se buscará demostrar los conocimientos adquiridos sobre procesamiento del lenguaje natural, redes neuronales y ensamble de modelos. Para esto se utilizarán tanto datasets provistos por la materia, tomados de la página de la empresa Properati, como los generados por el grupo en el trabajo anterior."
      ],
      "metadata": {
        "id": "8Tot765gvLP2"
      }
    },
    {
      "cell_type": "markdown",
      "source": [
        "## 0. Setup"
      ],
      "metadata": {
        "id": "civIgEQKvQ6A"
      }
    },
    {
      "cell_type": "markdown",
      "source": [
        "### Importación de bibliotecas"
      ],
      "metadata": {
        "id": "vrqonJJjvVay"
      }
    },
    {
      "cell_type": "code",
      "execution_count": null,
      "outputs": [],
      "source": [
        "pip install visualkeras scikeras[tensorflow] scikeras[tensorflow-cpu] unidecode types-all tensorflow keras"
      ],
      "metadata": {
        "id": "h6RrCiyq2Do7"
      }
    },
    {
      "cell_type": "code",
      "execution_count": 3,
      "outputs": [
        {
          "output_type": "stream",
          "name": "stdout",
          "text": [
            "Mounted at /content/drive\n"
          ]
        }
      ],
      "source": [
        "#Importación de librerías\n",
        "\n",
        "import numpy as np\n",
        "import matplotlib.pyplot as plt\n",
        "import seaborn as sns\n",
        "import pandas as pd\n",
        "\n",
        "from xgboost import XGBRegressor\n",
        "from scipy.stats import zscore\n",
        "from sklearn.preprocessing import StandardScaler\n",
        "from tensorflow import keras\n",
        "from sklearn.metrics import confusion_matrix\n",
        "from sklearn.ensemble import StackingRegressor\n",
        "from sklearn.ensemble import AdaBoostRegressor\n",
        "from sklearn.neighbors import KNeighborsRegressor\n",
        "from sklearn.tree import DecisionTreeClassifier\n",
        "from sklearn.ensemble import RandomForestClassifier\n",
        "from sklearn.neighbors import KNeighborsClassifier\n",
        "from sklearn.ensemble import VotingClassifier\n",
        "from collections import Counter\n",
        "import unidecode\n",
        "import re\n",
        "from joblib import load, dump\n",
        "from sklearn.metrics import make_scorer\n",
        "from sklearn.model_selection import RandomizedSearchCV, StratifiedKFold\n",
        "from sklearn.metrics import recall_score, accuracy_score, f1_score, precision_score, r2_score\n",
        "from sklearn import metrics\n",
        "from sklearn.model_selection import cross_val_score, RepeatedStratifiedKFold\n",
        "from collections import defaultdict\n",
        "import math\n",
        "from keras.wrappers.scikit_learn import KerasRegressor\n",
        "from scikeras.wrappers import KerasClassifier\n",
        "from keras import Sequential\n",
        "from keras.layers import Dense\n",
        "from sklearn.model_selection import GridSearchCV\n",
        "import joblib\n",
        "#Configuración de Warnings\n",
        "import warnings\n",
        "warnings.filterwarnings('ignore')\n",
        "warnings.simplefilter(action='ignore', category=FutureWarning)\n",
        "warnings.simplefilter(action='ignore', category=UserWarning)\n",
        "\n",
        "#Ejecución con Drive\n",
        "if 'google.colab' in str(get_ipython()):\n",
        "    IN_COLAB = True\n",
        "else:\n",
        "    IN_COLAB = False\n",
        "\n",
        "if IN_COLAB :\n",
        "    from google.colab import drive\n",
        "    drive.mount('/content/drive')\n",
        "\n",
        "    df_train = pd.read_csv('/content/drive/MyDrive/Orga/DATASETS/df_train_tp1.csv')\n",
        "    df_test = pd.read_csv('/content/drive/MyDrive/Orga/DATASETS/df_test_tp1.csv')\n",
        "    properati_descrip = pd.read_csv('/content/drive/MyDrive/Orga/DATASETS/properati_argentina_2021_decrip.csv')\n",
        "    stop_words = '/content/drive/MyDrive/Orga/stopwords.txt'\n",
        "else:\n",
        "    df_train = pd.read_csv('./DATASETS/df_train_tp1.csv')\n",
        "    df_test = pd.read_csv('./DATASETS/df_test_tp1.csv')\n",
        "    properati_descrip = pd.read_csv('properati_argentina_2021_decrip.csv')\n",
        "    stop_words = 'stopwords'"
      ],
      "metadata": {
        "colab": {
          "base_uri": "https://localhost:8080/"
        },
        "id": "MND5t9E0PZoY",
        "outputId": "ba787558-d733-4d7f-8ba2-cbedeaa8201b"
      }
    },
    {
      "cell_type": "markdown",
      "source": [
        "### Funciones auxiliares"
      ],
      "metadata": {
        "collapsed": false,
        "id": "TyGRmDvLPZoY"
      }
    },
    {
      "cell_type": "code",
      "execution_count": 4,
      "outputs": [],
      "source": [
        "def metricas_clasificacion(y_test, y_pred):\n",
        "    print(f'Accuracy: {round(accuracy_score(y_test, y_pred),2)}')\n",
        "    print(f'Precision: {round(precision_score(y_test, y_pred, average=\"macro\"),2)}')\n",
        "    print(f'Recall: {round(recall_score(y_test, y_pred, average=\"macro\"),2)}')\n",
        "    print(f'F1 Score: {round(f1_score(y_test, y_pred, average=\"macro\"),2)}')"
      ],
      "metadata": {
        "id": "5BAwTlXKPZoZ"
      }
    },
    {
      "cell_type": "code",
      "execution_count": 5,
      "outputs": [],
      "source": [
        "def prediccion_y_metricas_regresion(regressor, x_test, y_test):\n",
        "\n",
        "  y_pred = regressor.predict(x_test)\n",
        "\n",
        "  print(f\"Se obtuvo un Score de {round(regressor.score(x_test, y_test)*100,3)}%\")\n",
        "\n",
        "  mse = metrics.mean_squared_error(\n",
        "        y_true  = y_test,\n",
        "        y_pred  = y_pred,\n",
        "        squared = True\n",
        "       )\n",
        "\n",
        "  print(f\"El error según la métrica 'Mean Square Error' de test es: {mse}\")\n",
        "\n",
        "  rmse = metrics.mean_squared_error(\n",
        "        y_true  = y_test,\n",
        "        y_pred  = y_pred,\n",
        "        squared = False\n",
        "       )\n",
        "\n",
        "  print(f\"El error según la métrica 'Root Mean Square Error' de test es: {rmse}\")\n",
        "\n",
        "  return"
      ],
      "metadata": {
        "id": "k8NF1mSRPZoZ"
      }
    },
    {
      "cell_type": "code",
      "source": [
        "def format_aspects(line, word):\n",
        "    format = r\"\\W*([\\w]+)\"\n",
        "    n = 2\n",
        "    x = re.search(r'{}\\W*{}{}'.format(format*n, word, format*n), line)\n",
        "    if x is not None:\n",
        "        return x.group()\n",
        "    else:\n",
        "        return \"\""
      ],
      "metadata": {
        "id": "CCKsO-A5w7TQ"
      },
      "execution_count": 6,
      "outputs": []
    },
    {
      "cell_type": "code",
      "source": [
        "def convert_b_m_a(x):\n",
        "    mx = max(x[0], x[1], x[2])\n",
        "    if mx == x[0]:\n",
        "        return 'bajo'\n",
        "    elif mx == x[1]:\n",
        "        return 'medio'\n",
        "    elif mx == x[2]:\n",
        "        return 'alto'"
      ],
      "metadata": {
        "id": "3suAr0ciwY91"
      },
      "execution_count": 7,
      "outputs": []
    },
    {
      "cell_type": "code",
      "source": [
        "def estandarizar(df, columns):\n",
        "  sscaler = StandardScaler()\n",
        "\n",
        "  for col in columns:\n",
        "    df[col] = sscaler.fit_transform(pd.DataFrame(df[col]))"
      ],
      "metadata": {
        "id": "0LF1eyB9l4nt"
      },
      "execution_count": 8,
      "outputs": []
    },
    {
      "cell_type": "code",
      "execution_count": 9,
      "outputs": [],
      "source": [
        "def limpiar_values_de_aspects(df, aspects, values):\n",
        "    i = 0\n",
        "    for aspect in aspects:\n",
        "        for word in values[i]:\n",
        "            df[aspect] = df[aspect].apply(lambda line: word if word in line else line)\n",
        "        df[aspect] = df[aspect].apply(lambda line: line if len(line.split())<2 else '')\n",
        "        i = i+1"
      ],
      "metadata": {
        "id": "AAEy2PV92DpO"
      }
    },
    {
      "cell_type": "code",
      "source": [
        "def evaluate_model(model, x, y, splits, n):\n",
        "    cv = RepeatedStratifiedKFold(n_splits=splits, n_repeats=n, random_state=1)\n",
        "    scores = cross_val_score(model, x, y, scoring='neg_mean_squared_error', cv=cv, verbose=1, n_jobs=3, error_score='raise')\n",
        "    return scores"
      ],
      "metadata": {
        "id": "tDt5-bPcEn_m"
      },
      "execution_count": 10,
      "outputs": []
    },
    {
      "cell_type": "code",
      "source": [
        "import plotly.graph_objects as go\n",
        "\n",
        "def plot_results(model_scores, name):\n",
        "    \n",
        "    model_names = list(model_scores.keys())\n",
        "    results = [model_scores[model] for model in model_names]\n",
        "    fig = go.Figure()\n",
        "    for model, result in zip(model_names, results):\n",
        "        fig.add_trace(go.Box(\n",
        "            y=result,\n",
        "            name=model,\n",
        "            boxpoints='all',\n",
        "            jitter=0.5,\n",
        "            whiskerwidth=0.2,\n",
        "            marker_size=2,\n",
        "            line_width=1)\n",
        "        )\n",
        "    \n",
        "    fig.update_layout(\n",
        "    title='Performance of Different Models Using 5-Fold Cross-Validation',\n",
        "    paper_bgcolor='rgb(243, 243, 243)',\n",
        "    plot_bgcolor='rgb(243, 243, 243)',\n",
        "    xaxis_title='Model',\n",
        "    yaxis_title='Error Cuadrático Medio',\n",
        "    showlegend=False)\n",
        "    fig.show()"
      ],
      "metadata": {
        "id": "NImxsouY4HaJ"
      },
      "execution_count": 11,
      "outputs": []
    },
    {
      "cell_type": "markdown",
      "source": [
        "### Preparación de datasets"
      ],
      "metadata": {
        "id": "yG33nESmvkqN"
      }
    },
    {
      "cell_type": "code",
      "execution_count": 12,
      "outputs": [],
      "source": [
        "df_train_x = df_train.drop([\"property_price\", \"tipo_precio_3\"], axis=\"columns\")\n",
        "df_train_y_regresion = df_train[\"property_price\"]\n",
        "df_train_y_clasificacion = df_train[\"tipo_precio_3\"]\n",
        "\n",
        "df_test_x = df_test.drop([\"property_price\", \"tipo_precio_3\"], axis=\"columns\")\n",
        "df_test_y_regresion = df_test[\"property_price\"]\n",
        "df_test_y_clasificacion = df_test[\"tipo_precio_3\"]"
      ],
      "metadata": {
        "id": "GiSa_opMPZob"
      }
    },
   {
   "cell_type": "markdown",
   "source": [
    "## 1. Procesamiento del Lenguaje Natural"
   ],
   "metadata": {
    "collapsed": false,
    "id": "DajLENWv2DpA"
   }
  },
  {
   "cell_type": "markdown",
   "source": [
    "### 1.a Ampliación del dataset\n",
    "___"
   ],
   "metadata": {
    "id": "mmjJ3qskuJyJ"
   }
  },
  {
   "cell_type": "markdown",
   "source": [
    "Hacemos un merge del dataset original y el de descripciones, y quedémonos únicamente con las columnas `id` y `property_description`:"
   ],
   "metadata": {
    "id": "904YC-oLyddb"
   }
  },
  {
   "cell_type": "code",
   "execution_count": 73,
   "outputs": [],
   "source": [
    "df_descrip = pd.merge(df_train_x, properati_descrip, on=\"id\")\n",
    "df_descrip = df_descrip[[\"id\", \"property_description\"]]\n",
    "\n",
    "df_test_descrip = pd.merge(df_test_x, properati_descrip, on=\"id\")\n",
    "df_test_descrip = df_test_descrip[[\"id\", \"property_description\"]]"
   ],
   "metadata": {
    "colab": {
     "base_uri": "https://localhost:8080/",
     "height": 363
    },
    "id": "vRbU2jpk2Do_",
    "outputId": "44fcabfb-0e8b-496a-881f-0de5fbc8f3e6"
   }
  },
  {
   "cell_type": "markdown",
   "source": [
    "Busquemos aspectos de una propiedad utilizando la columna `property_description`."
   ],
   "metadata": {
    "id": "uCEL8YyUxYaa"
   }
  },
  {
   "cell_type": "markdown",
   "source": [
    "Veamos cuántos registros nulos existen:"
   ],
   "metadata": {
    "id": "tAEE-G_QzCXj"
   }
  },
  {
   "cell_type": "code",
   "execution_count": 74,
   "outputs": [
    {
     "name": "stdout",
     "output_type": "stream",
     "text": [
      "Hay 0 datos nulos.\n"
     ]
    }
   ],
   "source": [
    "print(f\"Hay {df_descrip['property_description'].isna().sum()} datos nulos.\")"
   ],
   "metadata": {
    "colab": {
     "base_uri": "https://localhost:8080/"
    },
    "id": "ydHTArN62DpA",
    "outputId": "532aec7a-b0bc-4f97-d56d-80ee53135a25"
   }
  },
  {
   "cell_type": "markdown",
   "source": [
    "Veamos cuáles son las 100 palabras más comunes en el campo de descripción de propiedades:"
   ],
   "metadata": {
    "id": "t4hiRECrz3Wa"
   }
  },
  {
   "cell_type": "code",
   "execution_count": 75,
   "outputs": [
    {
     "data": {
      "text/plain": "[('de', 857976),\n ('y', 507778),\n ('con', 401867),\n ('la', 290195),\n ('en', 278176),\n ('a', 243751),\n ('el', 169952),\n ('del', 153279),\n ('que', 140055),\n ('por', 133635),\n ('al', 125215),\n ('-', 113875),\n ('un', 103716),\n ('las', 90713),\n ('los', 88435),\n ('para', 88190),\n ('se', 63109),\n ('DE', 56457),\n ('son', 56420),\n ('2', 52790),\n ('es', 50384),\n ('una', 48927),\n ('3', 41258),\n ('cocina', 38889),\n ('ambientes', 38848),\n ('valor', 38420),\n ('esta', 38292),\n ('muy', 36893),\n ('x', 36800),\n ('Av.', 36630),\n ('comedor', 35535),\n ('baño', 35476),\n ('Y', 34141),\n ('CON', 33915),\n ('no', 33912),\n ('piso', 33348),\n ('o', 33050),\n ('/', 32253),\n ('tu', 32101),\n ('A', 32063),\n ('hasta', 30269),\n ('balcón', 29805),\n ('inmueble', 28725),\n ('casa', 28655),\n ('No', 28635),\n ('propiedad.', 28070),\n ('30%', 27684),\n ('departamento', 27670),\n ('EN', 27267),\n ('cuadras', 27069),\n ('Corredor', 26991),\n ('préstamo', 26920),\n ('cuota', 26780),\n ('medidas', 26422),\n ('Responsable:', 25970),\n ('living', 25952),\n ('4', 25848),\n ('Lendar', 25571),\n ('querés!', 25421),\n ('podés.', 25362),\n ('Accedé', 25354),\n ('Simulá', 25349),\n ('#', 25248),\n ('ID', 25231),\n ('MLS', 25227),\n ('CUCICBA', 24648),\n ('El', 24541),\n ('edificio', 24305),\n ('dos', 24304),\n ('cuenta', 24241),\n ('personas', 23936),\n ('completo', 23797),\n ('propiedad', 23309),\n ('salida', 23058),\n ('parte', 22277),\n (',', 22138),\n ('pisos', 21621),\n ('encuentra', 21617),\n ('frente', 21612),\n ('Las', 21073),\n ('1', 20964),\n ('amplio', 20885),\n ('Comprá', 20793),\n ('\\\\n\\\\n', 20732),\n ('vista', 19912),\n ('presente', 19511),\n ('dormitorio', 19499),\n ('Ley', 19317),\n ('gran', 19096),\n ('La', 18859),\n ('placard', 18483),\n ('espacio', 18475),\n ('metros', 18400),\n ('m2', 17976),\n ('Los', 17521),\n ('<br>', 17369),\n ('accesible', 17076),\n ('su', 16596),\n ('dormitorios', 16161),\n ('sobre', 16145)]"
     },
     "execution_count": 75,
     "metadata": {},
     "output_type": "execute_result"
    }
   ],
   "source": [
    "Counter(\" \".join(df_descrip[\"property_description\"]).split()).most_common(100)"
   ],
   "metadata": {
    "colab": {
     "base_uri": "https://localhost:8080/"
    },
    "id": "WpAlq6jJ2DpC",
    "outputId": "ba6d7ea0-e0b6-4446-d3e2-550d723373d2"
   }
  },
  {
   "cell_type": "markdown",
   "source": [
    "Podemos observar que podríamos optimizar el texto mediante algunas técnicas de reducción y/o transformación. Entre otras:"
   ],
   "metadata": {
    "id": "iwnQ6tgt0MRV"
   }
  },
  {
   "cell_type": "markdown",
   "source": [
    "Eliminemos la etiqueta `<br>` de html:"
   ],
   "metadata": {
    "id": "qK78Ucya0Ugr"
   }
  },
  {
   "cell_type": "code",
   "source": [
    "df_descrip[\"property_description\"] = df_descrip[\"property_description\"].apply(lambda line: line.replace(\"<br>\", \" \"))\n",
    "df_test_descrip[\"property_description\"] = df_test_descrip[\"property_description\"].apply(lambda line: line.replace(\"<br>\", \" \"))"
   ],
   "metadata": {
    "id": "_o_B51Zk0hGz"
   },
   "execution_count": 76,
   "outputs": []
  },
  {
   "cell_type": "markdown",
   "source": [
    "Transformemos todas las palabras a minúsculas, de modo que el contador no realice distinciones:"
   ],
   "metadata": {
    "id": "pyNp4Y520yHS"
   }
  },
  {
   "cell_type": "code",
   "source": [
    "df_descrip[\"property_description\"] = df_descrip[\"property_description\"].apply(lambda line: line.lower())\n",
    "df_test_descrip[\"property_description\"] = df_test_descrip[\"property_description\"].apply(lambda line: line.lower())\n"
   ],
   "metadata": {
    "id": "VWBmcgfI04Ge"
   },
   "execution_count": 77,
   "outputs": []
  },
  {
   "cell_type": "markdown",
   "source": [
    "Quitemos los tíldes de las letras:"
   ],
   "metadata": {
    "id": "WpSPMtks1bZz"
   }
  },
  {
   "cell_type": "code",
   "source": [
    "df_descrip[\"property_description\"] = df_descrip[\"property_description\"].apply(lambda line: unidecode.unidecode(line))\n",
    "df_test_descrip[\"property_description\"] = df_test_descrip[\"property_description\"].apply(lambda line: unidecode.unidecode(line))"
   ],
   "metadata": {
    "id": "KWHrTmAG1dGn"
   },
   "execution_count": 78,
   "outputs": []
  },
  {
   "cell_type": "markdown",
   "source": [
    "Eliminemos los símbolos:"
   ],
   "metadata": {
    "id": "tpUndCZy1j2X"
   }
  },
  {
   "cell_type": "code",
   "source": [
    "df_descrip[\"property_description\"] = df_descrip[\"property_description\"].apply(lambda line: re.sub(r'[^\\w]', ' ', line))\n",
    "df_test_descrip[\"property_description\"] = df_test_descrip[\"property_description\"].apply(lambda line: re.sub(r'[^\\w]', ' ', line))"
   ],
   "metadata": {
    "id": "sWcF2SIJ1lfG"
   },
   "execution_count": 79,
   "outputs": []
  },
  {
   "cell_type": "markdown",
   "source": [
    "Eliminemos los espacios múltiples entre palabras:"
   ],
   "metadata": {
    "id": "bdqDlvqN1rL1"
   }
  },
  {
   "cell_type": "code",
   "execution_count": 80,
   "outputs": [],
   "source": [
    "df_descrip[\"property_description\"] = df_descrip[\"property_description\"].apply(lambda line: re.sub(\"\\s\\s+\" , \" \", line))\n",
    "df_test_descrip[\"property_description\"] = df_test_descrip[\"property_description\"].apply(lambda line: re.sub(\"\\s\\s+\" , \" \", line))"
   ],
   "metadata": {
    "id": "uQvajcwC2DpE"
   }
  },
  {
   "cell_type": "markdown",
   "source": [
    "Utilizando el contenido del archivo `stop_words.txt`, eliminemos palabras sin significado del datset y colocamos los cambios en uno nuevo:"
   ],
   "metadata": {
    "id": "BzcWZSJY4GPs"
   }
  },
  {
   "cell_type": "code",
   "execution_count": 81,
   "outputs": [],
   "source": [
    "with open(stop_words) as f:\n",
    "    lines = f.read().splitlines()\n",
    "\n",
    "f = lambda x: ' '.join([item for item in x.split() if item not in lines])\n",
    "\n",
    "df_descrip[\"property_description\"] = df_descrip[\"property_description\"].apply(f)\n",
    "df_test_descrip[\"property_description\"] = df_test_descrip[\"property_description\"].apply(f)"
   ],
   "metadata": {
    "id": "FrOeCCBY2DpF"
   }
  },
  {
   "cell_type": "markdown",
   "source": [
    "Luego de estas transformaciones, veamos cuáles son las palabras más utilizadas:"
   ],
   "metadata": {
    "id": "JYXs-85EVQwx"
   }
  },
  {
   "cell_type": "code",
   "execution_count": 82,
   "outputs": [
    {
     "data": {
      "text/plain": "[('cocina', 89458),\n ('2', 88203),\n ('bano', 74428),\n ('3', 74274),\n ('ambientes', 71516),\n ('balcon', 71288),\n ('comedor', 68490),\n ('piso', 67830),\n ('living', 63837),\n ('propiedad', 62558),\n ('departamento', 54476),\n ('edificio', 53422),\n ('av', 50583),\n ('1', 50142),\n ('dormitorio', 48859),\n ('completo', 48391),\n ('pisos', 46212),\n ('4', 46043),\n ('frente', 44713),\n ('expensas', 44286),\n ('n', 44023),\n ('excelente', 41314),\n ('corredor', 41145),\n ('medidas', 41046),\n ('x', 40904),\n ('inmueble', 40569),\n ('responsable', 37723),\n ('amplio', 36355),\n ('m2', 34044),\n ('30', 34027),\n ('placard', 33948),\n ('casa', 32676),\n ('dormitorios', 32257),\n ('lavadero', 31877),\n ('c', 31791),\n ('cuadras', 31165),\n ('luminoso', 30549),\n ('cucicba', 30414),\n ('accede', 29382),\n ('terraza', 29328),\n ('ley', 27849),\n ('aire', 27700),\n ('lendar', 27449),\n ('queres', 27416),\n ('prestamo', 27366),\n ('vista', 26980),\n ('venta', 26867),\n ('cuota', 26856),\n ('podes', 26580),\n ('salida', 26111),\n ('ubicacion', 25546),\n ('simula', 25536),\n ('id', 25235),\n ('cochera', 25233),\n ('mls', 25230),\n ('personas', 24976),\n ('espacio', 24793),\n ('5', 24267),\n ('planta', 23607),\n ('zona', 23396),\n ('compra', 23246),\n ('metros', 23075),\n ('independiente', 23073),\n ('inmobiliario', 22866),\n ('patio', 22294),\n ('servicio', 22214),\n ('principal', 21845),\n ('barrio', 21305),\n ('ubicado', 21087),\n ('linea', 20909),\n ('parrilla', 20747),\n ('mesada', 20701),\n ('suite', 20635),\n ('toilette', 20555),\n ('acceso', 20485),\n ('presente', 19926),\n ('servicios', 19773),\n ('accesible', 19275),\n ('subte', 18715),\n ('unidades', 18413),\n ('agua', 18371),\n ('mas', 18246),\n ('acondicionado', 18043),\n ('hall', 17969),\n ('b', 17717),\n ('operacion', 17568),\n ('aviso', 17401),\n ('unidad', 16996),\n ('24', 16901),\n ('comercial', 16525),\n ('madera', 16499),\n ('doble', 16416),\n ('propietario', 16374),\n ('calefaccion', 16297),\n ('calidad', 16139),\n ('entrada', 15982),\n ('discapacidades', 15931),\n ('informacion', 15902),\n ('estacion', 15816),\n ('operaciones', 15668)]"
     },
     "execution_count": 82,
     "metadata": {},
     "output_type": "execute_result"
    }
   ],
   "source": [
    "Counter(\" \".join(df_descrip[\"property_description\"]).split()).most_common(100)"
   ],
   "metadata": {
    "colab": {
     "base_uri": "https://localhost:8080/"
    },
    "id": "FNYcv0DM2DpG",
    "outputId": "eed3ff96-3911-4d2a-a042-969e76b82e01"
   }
  },
  {
   "cell_type": "markdown",
   "source": [
    "Seleccionemos los aspectos que nos parecen relevantes, para luego buscar sus posibles valores.\n",
    "\n",
    "Para esto, elegimos: `cocina`, `pisos`, `calefaccion`, `expensas`, `lavadero`, `balcon`, `cochera` y `aire` y limpiamos cualquier tipo de formato restante en el dataset:"
   ],
   "metadata": {
    "collapsed": false,
    "id": "Ai_Odw_x2DpG"
   }
  },
  {
   "cell_type": "code",
   "source": [
    "aspectos = ['cocina', 'pisos', 'calefaccion', 'expensas', 'lavadero', 'balcon', 'cochera', 'aire']"
   ],
   "metadata": {
    "id": "BkHpD1gtB7e_"
   },
   "execution_count": 83,
   "outputs": []
  },
  {
   "cell_type": "code",
   "execution_count": 84,
   "outputs": [],
   "source": [
    "for word in aspectos:\n",
    "    df_descrip[word] = df_descrip[\"property_description\"].apply(lambda line: format_aspects(line, word))\n",
    "    df_test_descrip[word] = df_test_descrip[\"property_description\"].apply(lambda line: format_aspects(line, word))"
   ],
   "metadata": {
    "id": "AnaswxtR2DpH"
   }
  },
  {
   "cell_type": "markdown",
   "source": [
    "Veamos cuáles son las 15 palabras más comunes para cada uno de los aspectos elegidos:"
   ],
   "metadata": {
    "id": "EDsk7Bjgx116"
   }
  },
  {
   "cell_type": "code",
   "source": [
    "cant_val_aspectos = 15"
   ],
   "metadata": {
    "id": "eYdLqsvGyNcj"
   },
   "execution_count": 85,
   "outputs": []
  },
  {
   "cell_type": "markdown",
   "source": [
    "#### Aspecto `cocina`"
   ],
   "metadata": {
    "id": "wWJKdB85y1l0"
   }
  },
  {
   "cell_type": "code",
   "execution_count": 86,
   "outputs": [
    {
     "data": {
      "text/plain": "[('cocina', 62810),\n ('comedor', 19198),\n ('integrada', 11530),\n ('living', 9979),\n ('bano', 8949),\n ('lavadero', 6978),\n ('balcon', 6225),\n ('independiente', 6077),\n ('completo', 5385),\n ('diario', 4992),\n ('muebles', 4829),\n ('separada', 4746),\n ('amplia', 4518),\n ('toilette', 3963),\n ('completa', 3692)]"
     },
     "execution_count": 86,
     "metadata": {},
     "output_type": "execute_result"
    }
   ],
   "source": [
    "Counter(\" \".join(df_descrip[\"cocina\"]).split()).most_common(cant_val_aspectos)"
   ],
   "metadata": {
    "id": "l-7v9FP82DpH",
    "colab": {
     "base_uri": "https://localhost:8080/"
    },
    "outputId": "6bea24da-1ae1-4df4-eb9a-5fddb082398b"
   }
  },
  {
   "cell_type": "markdown",
   "source": [
    "Para `cocina`, los valores podrían ser: \n",
    "- integrada\n",
    "- lavadero\n",
    "- completa"
   ],
   "metadata": {
    "collapsed": false,
    "id": "6ACLlV0F2DpI"
   }
  },
  {
   "cell_type": "markdown",
   "source": [
    "#### Aspecto `pisos`"
   ],
   "metadata": {
    "id": "1XQ4TVyUzSqc"
   }
  },
  {
   "cell_type": "code",
   "execution_count": 87,
   "outputs": [
    {
     "data": {
      "text/plain": "[('pisos', 31829),\n ('parquet', 6394),\n ('madera', 4426),\n ('porcelanato', 4025),\n ('living', 3671),\n ('edificio', 3624),\n ('comedor', 3155),\n ('unidades', 1821),\n ('cocina', 1754),\n ('departamentos', 1662),\n ('bano', 1576),\n ('2', 1411),\n ('4', 1314),\n ('3', 1241),\n ('ambientes', 1201)]"
     },
     "execution_count": 87,
     "metadata": {},
     "output_type": "execute_result"
    }
   ],
   "source": [
    "Counter(\" \".join(df_descrip[\"pisos\"]).split()).most_common(cant_val_aspectos)"
   ],
   "metadata": {
    "id": "UQQMsrnL2DpI",
    "colab": {
     "base_uri": "https://localhost:8080/"
    },
    "outputId": "a261ec0d-9cd6-4277-98b0-7b18d0b28211"
   }
  },
  {
   "cell_type": "markdown",
   "source": [
    "Para `pisos`, los valores podrían ser: \n",
    "- porcelanato\n",
    "- parquet\n",
    "- madera"
   ],
   "metadata": {
    "collapsed": false,
    "id": "l39ZahiN2DpJ"
   }
  },
  {
   "cell_type": "markdown",
   "source": [
    "#### Aspecto `calefaccion`"
   ],
   "metadata": {
    "id": "a4pG3YbW1wnt"
   }
  },
  {
   "cell_type": "code",
   "execution_count": 88,
   "outputs": [
    {
     "data": {
      "text/plain": "[('calefaccion', 15449),\n ('radiante', 4448),\n ('losa', 3916),\n ('central', 3444),\n ('caliente', 2653),\n ('agua', 2257),\n ('radiadores', 2052),\n ('individual', 1921),\n ('aire', 1777),\n ('piso', 1527),\n ('caldera', 1246),\n ('tiro', 1197),\n ('acondicionado', 1097),\n ('servicios', 1056),\n ('ambientes', 798)]"
     },
     "execution_count": 88,
     "metadata": {},
     "output_type": "execute_result"
    }
   ],
   "source": [
    "Counter(\" \".join(df_descrip[\"calefaccion\"]).split()).most_common(cant_val_aspectos)"
   ],
   "metadata": {
    "id": "RPZApHfA2DpJ",
    "colab": {
     "base_uri": "https://localhost:8080/"
    },
    "outputId": "67f4d899-74cf-4d93-ea99-c89946b6f262"
   }
  },
  {
   "cell_type": "markdown",
   "source": [
    "Para `calefaccion`, los valores podrían ser: \n",
    "- radiadores\n",
    "- radiante\n",
    "- central\n",
    "- individual"
   ],
   "metadata": {
    "collapsed": false,
    "id": "Mt-7dfsl2DpK"
   }
  },
  {
   "cell_type": "markdown",
   "source": [
    "#### Aspecto `expensas`"
   ],
   "metadata": {
    "id": "XfzRZc861ysa"
   }
  },
  {
   "cell_type": "code",
   "execution_count": 89,
   "outputs": [
    {
     "data": {
      "text/plain": "[('expensas', 35164),\n ('servicios', 6846),\n ('impuestos', 5906),\n ('valores', 5559),\n ('bajas', 4879),\n ('funcionales', 4365),\n ('000', 3296),\n ('abl', 2445),\n ('medidas', 1959),\n ('aysa', 1606),\n ('sujetos', 1542),\n ('propiedad', 1276),\n ('superficies', 1260),\n ('indicados', 1242),\n ('consignadas', 1189),\n ('2021', 1147),\n ('tasas', 1143),\n ('mensuales', 1138),\n ('consignado', 1084),\n ('gastos', 1053),\n ('presente', 1046),\n ('ambientes', 1044),\n ('sujeto', 947),\n ('500', 942),\n ('edificio', 915),\n ('aprox', 867),\n ('4', 836),\n ('incluyen', 829),\n ('2', 819),\n ('3', 806)]"
     },
     "execution_count": 89,
     "metadata": {},
     "output_type": "execute_result"
    }
   ],
   "source": [
    "Counter(\" \".join(df_descrip[\"expensas\"]).split()).most_common(cant_val_aspectos*2)"
   ],
   "metadata": {
    "id": "iRKPdGhA2DpK",
    "colab": {
     "base_uri": "https://localhost:8080/"
    },
    "outputId": "e89ec902-f5d3-45e5-df24-45d796fd889b"
   }
  },
  {
   "cell_type": "markdown",
   "source": [
    "Para `expensas`, los valores podrían ser: \n",
    "- servicios\n",
    "- impuestos \n",
    "- bajas"
   ],
   "metadata": {
    "collapsed": false,
    "id": "C7EiojY82DpK"
   }
  },
  {
   "cell_type": "markdown",
   "source": [
    "#### Aspecto `lavadero`"
   ],
   "metadata": {
    "id": "ZVVvuLxu11U0"
   }
  },
  {
   "cell_type": "code",
   "execution_count": 90,
   "outputs": [
    {
     "data": {
      "text/plain": "[('lavadero', 28549),\n ('independiente', 7972),\n ('cocina', 7923),\n ('comedor', 4376),\n ('bano', 4342),\n ('diario', 3175),\n ('servicio', 2922),\n ('dependencia', 2920),\n ('incorporado', 2506),\n ('completo', 2102),\n ('patio', 1882),\n ('separado', 1807),\n ('balcon', 1738),\n ('espacio', 1736),\n ('toilette', 1385)]"
     },
     "execution_count": 90,
     "metadata": {},
     "output_type": "execute_result"
    }
   ],
   "source": [
    "Counter(\" \".join(df_descrip[\"lavadero\"]).split()).most_common(cant_val_aspectos)"
   ],
   "metadata": {
    "id": "sAzBKC5c2DpK",
    "colab": {
     "base_uri": "https://localhost:8080/"
    },
    "outputId": "c811e281-914c-4804-fe87-064ada17a12d"
   }
  },
  {
   "cell_type": "markdown",
   "source": [
    "Para `lavadero`, los valores podrían ser: \n",
    "- independiente\n",
    "- cocina\n",
    "- comedor"
   ],
   "metadata": {
    "collapsed": false,
    "id": "i8zxU-Co2DpL"
   }
  },
  {
   "cell_type": "markdown",
   "source": [
    "#### Aspecto `balcon`"
   ],
   "metadata": {
    "id": "0opxhwgx122i"
   }
  },
  {
   "cell_type": "code",
   "execution_count": 91,
   "outputs": [
    {
     "data": {
      "text/plain": "[('balcon', 42917),\n ('salida', 9996),\n ('frente', 9711),\n ('comedor', 8052),\n ('ambientes', 6387),\n ('corrido', 6126),\n ('cocina', 4569),\n ('living', 4207),\n ('vista', 4051),\n ('amplio', 3716),\n ('terraza', 3682),\n ('aterrazado', 3172),\n ('2', 3151),\n ('luminoso', 2855),\n ('3', 2684)]"
     },
     "execution_count": 91,
     "metadata": {},
     "output_type": "execute_result"
    }
   ],
   "source": [
    "Counter(\" \".join(df_descrip[\"balcon\"]).split()).most_common(cant_val_aspectos)"
   ],
   "metadata": {
    "id": "geCmhGct2DpL",
    "colab": {
     "base_uri": "https://localhost:8080/"
    },
    "outputId": "7f9103b9-03aa-4035-dd78-c3a1c435e833"
   }
  },
  {
   "cell_type": "markdown",
   "source": [
    "Para `balcon`, los valores podrían ser: \n",
    "- frente\n",
    "- amplio \n",
    "- terraza \n",
    "- salida \n",
    "- corrido\n",
    "- luminoso"
   ],
   "metadata": {
    "collapsed": false,
    "id": "GUiM00PQ2DpL"
   }
  },
  {
   "cell_type": "markdown",
   "source": [
    "#### Aspecto `cochera`"
   ],
   "metadata": {
    "id": "W05qxE7f138s"
   }
  },
  {
   "cell_type": "code",
   "execution_count": 92,
   "outputs": [
    {
     "data": {
      "text/plain": "[('cochera', 17208),\n ('cocheras', 7359),\n ('fija', 4756),\n ('cubierta', 4118),\n ('ambientes', 3484),\n ('baulera', 2863),\n ('2', 2467),\n ('edificio', 2119),\n ('balcon', 1521),\n ('3', 1399),\n ('opcional', 1307),\n ('1', 1132),\n ('fijas', 1080),\n ('terraza', 1007),\n ('dependencia', 979),\n ('posibilidad', 958),\n ('piso', 826),\n ('frente', 780),\n ('bano', 760),\n ('disponibles', 759),\n ('departamento', 759),\n ('4', 753),\n ('servicio', 729),\n ('planta', 701),\n ('parrilla', 699),\n ('espacio', 615),\n ('subsuelo', 598),\n ('amenities', 586),\n ('completo', 553),\n ('patio', 525)]"
     },
     "execution_count": 92,
     "metadata": {},
     "output_type": "execute_result"
    }
   ],
   "source": [
    "Counter(\" \".join(df_descrip[\"cochera\"]).split()).most_common(cant_val_aspectos*2)"
   ],
   "metadata": {
    "id": "vF7x7sFV2DpL",
    "colab": {
     "base_uri": "https://localhost:8080/"
    },
    "outputId": "aa1e9494-2db9-48dd-8101-5987d80ccb55"
   }
  },
  {
   "cell_type": "markdown",
   "source": [
    "Para `cochera`, los valores podrían ser: \n",
    "- fija\n",
    "- cubierta"
   ],
   "metadata": {
    "collapsed": false,
    "id": "_sGYjhjF2DpM"
   }
  },
  {
   "cell_type": "markdown",
   "source": [
    "#### Aspecto `aire`"
   ],
   "metadata": {
    "id": "ehAh9leY2Lfu"
   }
  },
  {
   "cell_type": "code",
   "execution_count": 93,
   "outputs": [
    {
     "data": {
      "text/plain": "[('aire', 20578),\n ('acondicionado', 14337),\n ('frio', 5985),\n ('aires', 5809),\n ('split', 2204),\n ('ciudad', 2020),\n ('acondicionados', 1961),\n ('luz', 1851),\n ('equipos', 1585),\n ('calefaccion', 1493),\n ('instalacion', 1413),\n ('ambientes', 1411),\n ('living', 1138),\n ('central', 1062),\n ('balcon', 1002)]"
     },
     "execution_count": 93,
     "metadata": {},
     "output_type": "execute_result"
    }
   ],
   "source": [
    "Counter(\" \".join(df_descrip[\"aire\"]).split()).most_common(cant_val_aspectos)"
   ],
   "metadata": {
    "id": "eQlqeMRa2DpM",
    "colab": {
     "base_uri": "https://localhost:8080/"
    },
    "outputId": "fa0a82b5-9f5b-4ab4-80b7-f0090e746727"
   }
  },
  {
   "cell_type": "markdown",
   "source": [
    "Para `aire`, posibles valores son: \n",
    "- split \n",
    "- central \n",
    "- acondicionado"
   ],
   "metadata": {
    "collapsed": false,
    "id": "9hWHT90P2DpM"
   }
  },
  {
   "cell_type": "markdown",
   "source": [
    "#### Consolidación de valores"
   ],
   "metadata": {
    "id": "fF4R61si2RJI"
   }
  },
  {
   "cell_type": "markdown",
   "source": [
    "A continuación creamos la variable `values`, que contiene los posibles valores para cada uno de los aspectos elegidos:"
   ],
   "metadata": {
    "collapsed": false,
    "id": "ZTu9pPYV2DpN"
   }
  },
  {
   "cell_type": "code",
   "execution_count": 94,
   "outputs": [],
   "source": [
    "values_cocina = ['integrada' , 'lavadero' , 'completa']\n",
    "values_pisos = ['porcelanato' , 'parquet' , 'madera']\n",
    "values_calefaccion = ['radiadores' , 'radiante' , 'central' , 'individual']\n",
    "values_expensas = ['serviocios' , 'impuestos' , 'bajas']\n",
    "values_lavadero = ['independiente' , 'cocina' , 'comedor']\n",
    "values_balcon = ['frente' , 'amplio' , 'terraza' , 'salida' , 'corrido' , 'luminoso']\n",
    "values_cochera = ['fija' , 'cubierta']\n",
    "values_aire = ['split' , 'central' , 'acondicionado']"
   ],
   "metadata": {
    "id": "8woiCcO32DpN"
   }
  },
  {
   "cell_type": "code",
   "source": [
    "values = [values_cocina, values_pisos, values_calefaccion, values_expensas, values_lavadero, values_balcon, values_cochera, values_aire]"
   ],
   "metadata": {
    "id": "CFU_0j0EGUE5"
   },
   "execution_count": 95,
   "outputs": []
  },
  {
   "cell_type": "markdown",
   "source": [
    "En primer lugar, creamos un dataset auxiliar que tenga los IDs y las columnas de los aspectos:"
   ],
   "metadata": {
    "collapsed": false,
    "id": "B9JpAzOi2DpN"
   }
  },
  {
   "cell_type": "code",
   "execution_count": 96,
   "outputs": [],
   "source": [
    "aux_df = df_descrip.copy()\n",
    "aux_df_test = df_test_descrip.copy()\n",
    "\n",
    "aux_df.drop('property_description', inplace=True, axis=1)\n",
    "aux_df_test.drop('property_description', inplace=True, axis=1)"
   ],
   "metadata": {
    "id": "Z617kPUE2DpN"
   }
  },
  {
   "cell_type": "markdown",
   "source": [
    "Luego creamos una función a la que -pasándole un dataset, los aspectos y el listado de valores posibles- reemplace el contenido de las columnas por los valores correspondientes."
   ],
   "metadata": {
    "collapsed": false,
    "id": "qpHzefm72DpO"
   }
  },
  {
   "cell_type": "markdown",
   "source": [
    "Modificamos las columnas de los aspectos, para que sólo queden los valores correspondientes:"
   ],
   "metadata": {
    "collapsed": false,
    "id": "8A7lmncH2DpO"
   }
  },
  {
   "cell_type": "code",
   "execution_count": 97,
   "outputs": [],
   "source": [
    "limpiar_values_de_aspects(aux_df, aspectos, values)\n",
    "limpiar_values_de_aspects(aux_df_test, aspectos, values)"
   ],
   "metadata": {
    "id": "WXhzGxCl2DpO",
    "colab": {
     "base_uri": "https://localhost:8080/",
     "height": 677
    },
    "outputId": "3355d0c0-87e8-4707-b349-e4d9b468bfa9"
   }
  },
  {
   "cell_type": "markdown",
   "source": [
    "Por último hacemos el merge con el dataset original, teniendo en cuenta los IDs:"
   ],
   "metadata": {
    "collapsed": false,
    "id": "Ia2LxOLq2DpP"
   }
  },
  {
   "cell_type": "code",
   "execution_count": 98,
   "outputs": [],
   "source": [
    "df = df_train_x.copy()\n",
    "df = pd.merge(df,aux_df, on=\"id\")\n",
    "df.drop(\"id\", inplace=True, axis=\"columns\")\n",
    "\n",
    "df_test = df_test_x.copy()\n",
    "df_test = pd.merge(df_test,aux_df_test, on=\"id\")\n",
    "df_test.drop(\"id\", inplace=True, axis=\"columns\")"
   ],
   "metadata": {
    "id": "I2x-X60t2DpP",
    "colab": {
     "base_uri": "https://localhost:8080/",
     "height": 914
    },
    "outputId": "9aa74e5a-0b67-4010-a31b-a2f67689e136"
   }
  },
  {
   "cell_type": "markdown",
   "source": [
    "#### Exportación de Datos"
   ],
   "metadata": {
    "id": "rN3FutIEHrf2"
   }
  },
  {
   "cell_type": "markdown",
   "source": [
    "Exportamos los datasets generados:"
   ],
   "metadata": {
    "id": "xd-CoUsZHtL9"
   }
  },
  {
   "cell_type": "code",
   "source": [
    "if IN_COLAB:\n",
    "  path = '/content/drive/MyDrive/📔 Organización de Datos (75.06)/TPS/TP2/DATASETS/1a_df_descrip.csv'\n",
    "else:\n",
    "  path = 'DATASETS/1a_df_descrip.csv'\n",
    "\n",
    "df_descrip.to_csv(path)"
   ],
   "metadata": {
    "id": "qr1jlB8QH16Z"
   },
   "execution_count": 99,
   "outputs": []
  },
  {
   "cell_type": "code",
   "source": [
    "if IN_COLAB:\n",
    "  path = '/content/drive/MyDrive/📔 Organización de Datos (75.06)/TPS/TP2/DATASETS/1a_df_ampliado.csv'\n",
    "else:\n",
    "  path = 'DATASETS/1a_df_ampliado.csv'\n",
    "\n",
    "df.to_csv(path)"
   ],
   "metadata": {
    "id": "QTsLoqr-IHOX"
   },
   "execution_count": 100,
   "outputs": []
  },
  {
   "cell_type": "markdown",
   "source": [
    "### 1.b Modelos\n",
    "___"
   ],
   "metadata": {
    "collapsed": false,
    "id": "fI1Fi95S2DpP"
   }
  },
  {
   "cell_type": "markdown",
   "source": [
    "#### Sin optimización de hiperparámetros\n",
    "Entrenemos un modelo de XGBoost con los mismos hiperparámetros utilizados en el TP1."
   ],
   "metadata": {
    "id": "ldOrNGnEaE5H"
   }
  },
  {
   "cell_type": "markdown",
   "source": [
    "Realizamos One Hot Encoding para las nuevas variables cualitativas:"
   ],
   "metadata": {
    "collapsed": false,
    "id": "WqUMr9_r2DpQ"
   }
  },
  {
   "cell_type": "code",
   "execution_count": 101,
   "outputs": [],
   "source": [
    "df_dummies = pd.get_dummies(df, columns=['cocina', 'pisos', 'lavadero', 'calefaccion', 'expensas', 'balcon', 'cochera', 'aire'], drop_first=True)\n",
    "df_test_dummies = pd.get_dummies(df_test, columns=['cocina', 'pisos', 'lavadero', 'calefaccion', 'expensas', 'balcon', 'cochera', 'aire'], drop_first=True)"
   ],
   "metadata": {
    "id": "5e0r2Yj-2DpQ",
    "colab": {
     "base_uri": "https://localhost:8080/",
     "height": 300
    },
    "outputId": "9345f93a-6a15-48ed-ebd9-8004cb87637f"
   }
  },
  {
   "cell_type": "markdown",
   "source": [
    "Entrenamos el modelo:"
   ],
   "metadata": {
    "id": "I6cp1CI3ZKLx"
   }
  },
  {
   "cell_type": "code",
   "execution_count": 102,
   "outputs": [
    {
     "data": {
      "text/plain": "XGBRegressor(base_score=0.5, booster='gbtree', colsample_bylevel=1,\n             colsample_bynode=1, colsample_bytree=0.3, enable_categorical=False,\n             gamma=0.1, gpu_id=-1, importance_type=None,\n             interaction_constraints='', learning_rate=0.3, max_delta_step=0,\n             max_depth=6, min_child_weight=5, missing=nan,\n             monotone_constraints='()', n_estimators=100, n_jobs=4,\n             num_parallel_tree=1, predictor='auto', random_state=0, reg_alpha=0,\n             reg_lambda=1, scale_pos_weight=1, subsample=1, tree_method='exact',\n             validate_parameters=1, verbosity=None)",
      "text/html": "<style>#sk-container-id-2 {color: black;background-color: white;}#sk-container-id-2 pre{padding: 0;}#sk-container-id-2 div.sk-toggleable {background-color: white;}#sk-container-id-2 label.sk-toggleable__label {cursor: pointer;display: block;width: 100%;margin-bottom: 0;padding: 0.3em;box-sizing: border-box;text-align: center;}#sk-container-id-2 label.sk-toggleable__label-arrow:before {content: \"▸\";float: left;margin-right: 0.25em;color: #696969;}#sk-container-id-2 label.sk-toggleable__label-arrow:hover:before {color: black;}#sk-container-id-2 div.sk-estimator:hover label.sk-toggleable__label-arrow:before {color: black;}#sk-container-id-2 div.sk-toggleable__content {max-height: 0;max-width: 0;overflow: hidden;text-align: left;background-color: #f0f8ff;}#sk-container-id-2 div.sk-toggleable__content pre {margin: 0.2em;color: black;border-radius: 0.25em;background-color: #f0f8ff;}#sk-container-id-2 input.sk-toggleable__control:checked~div.sk-toggleable__content {max-height: 200px;max-width: 100%;overflow: auto;}#sk-container-id-2 input.sk-toggleable__control:checked~label.sk-toggleable__label-arrow:before {content: \"▾\";}#sk-container-id-2 div.sk-estimator input.sk-toggleable__control:checked~label.sk-toggleable__label {background-color: #d4ebff;}#sk-container-id-2 div.sk-label input.sk-toggleable__control:checked~label.sk-toggleable__label {background-color: #d4ebff;}#sk-container-id-2 input.sk-hidden--visually {border: 0;clip: rect(1px 1px 1px 1px);clip: rect(1px, 1px, 1px, 1px);height: 1px;margin: -1px;overflow: hidden;padding: 0;position: absolute;width: 1px;}#sk-container-id-2 div.sk-estimator {font-family: monospace;background-color: #f0f8ff;border: 1px dotted black;border-radius: 0.25em;box-sizing: border-box;margin-bottom: 0.5em;}#sk-container-id-2 div.sk-estimator:hover {background-color: #d4ebff;}#sk-container-id-2 div.sk-parallel-item::after {content: \"\";width: 100%;border-bottom: 1px solid gray;flex-grow: 1;}#sk-container-id-2 div.sk-label:hover label.sk-toggleable__label {background-color: #d4ebff;}#sk-container-id-2 div.sk-serial::before {content: \"\";position: absolute;border-left: 1px solid gray;box-sizing: border-box;top: 0;bottom: 0;left: 50%;z-index: 0;}#sk-container-id-2 div.sk-serial {display: flex;flex-direction: column;align-items: center;background-color: white;padding-right: 0.2em;padding-left: 0.2em;position: relative;}#sk-container-id-2 div.sk-item {position: relative;z-index: 1;}#sk-container-id-2 div.sk-parallel {display: flex;align-items: stretch;justify-content: center;background-color: white;position: relative;}#sk-container-id-2 div.sk-item::before, #sk-container-id-2 div.sk-parallel-item::before {content: \"\";position: absolute;border-left: 1px solid gray;box-sizing: border-box;top: 0;bottom: 0;left: 50%;z-index: -1;}#sk-container-id-2 div.sk-parallel-item {display: flex;flex-direction: column;z-index: 1;position: relative;background-color: white;}#sk-container-id-2 div.sk-parallel-item:first-child::after {align-self: flex-end;width: 50%;}#sk-container-id-2 div.sk-parallel-item:last-child::after {align-self: flex-start;width: 50%;}#sk-container-id-2 div.sk-parallel-item:only-child::after {width: 0;}#sk-container-id-2 div.sk-dashed-wrapped {border: 1px dashed gray;margin: 0 0.4em 0.5em 0.4em;box-sizing: border-box;padding-bottom: 0.4em;background-color: white;}#sk-container-id-2 div.sk-label label {font-family: monospace;font-weight: bold;display: inline-block;line-height: 1.2em;}#sk-container-id-2 div.sk-label-container {text-align: center;}#sk-container-id-2 div.sk-container {/* jupyter's `normalize.less` sets `[hidden] { display: none; }` but bootstrap.min.css set `[hidden] { display: none !important; }` so we also need the `!important` here to be able to override the default hidden behavior on the sphinx rendered scikit-learn.org. See: https://github.com/scikit-learn/scikit-learn/issues/21755 */display: inline-block !important;position: relative;}#sk-container-id-2 div.sk-text-repr-fallback {display: none;}</style><div id=\"sk-container-id-2\" class=\"sk-top-container\"><div class=\"sk-text-repr-fallback\"><pre>XGBRegressor(base_score=0.5, booster=&#x27;gbtree&#x27;, colsample_bylevel=1,\n             colsample_bynode=1, colsample_bytree=0.3, enable_categorical=False,\n             gamma=0.1, gpu_id=-1, importance_type=None,\n             interaction_constraints=&#x27;&#x27;, learning_rate=0.3, max_delta_step=0,\n             max_depth=6, min_child_weight=5, missing=nan,\n             monotone_constraints=&#x27;()&#x27;, n_estimators=100, n_jobs=4,\n             num_parallel_tree=1, predictor=&#x27;auto&#x27;, random_state=0, reg_alpha=0,\n             reg_lambda=1, scale_pos_weight=1, subsample=1, tree_method=&#x27;exact&#x27;,\n             validate_parameters=1, verbosity=None)</pre><b>In a Jupyter environment, please rerun this cell to show the HTML representation or trust the notebook. <br />On GitHub, the HTML representation is unable to render, please try loading this page with nbviewer.org.</b></div><div class=\"sk-container\" hidden><div class=\"sk-item\"><div class=\"sk-estimator sk-toggleable\"><input class=\"sk-toggleable__control sk-hidden--visually\" id=\"sk-estimator-id-4\" type=\"checkbox\" checked><label for=\"sk-estimator-id-4\" class=\"sk-toggleable__label sk-toggleable__label-arrow\">XGBRegressor</label><div class=\"sk-toggleable__content\"><pre>XGBRegressor(base_score=0.5, booster=&#x27;gbtree&#x27;, colsample_bylevel=1,\n             colsample_bynode=1, colsample_bytree=0.3, enable_categorical=False,\n             gamma=0.1, gpu_id=-1, importance_type=None,\n             interaction_constraints=&#x27;&#x27;, learning_rate=0.3, max_delta_step=0,\n             max_depth=6, min_child_weight=5, missing=nan,\n             monotone_constraints=&#x27;()&#x27;, n_estimators=100, n_jobs=4,\n             num_parallel_tree=1, predictor=&#x27;auto&#x27;, random_state=0, reg_alpha=0,\n             reg_lambda=1, scale_pos_weight=1, subsample=1, tree_method=&#x27;exact&#x27;,\n             validate_parameters=1, verbosity=None)</pre></div></div></div></div></div>"
     },
     "execution_count": 102,
     "metadata": {},
     "output_type": "execute_result"
    }
   ],
   "source": [
    "XGB_Regressor = XGBRegressor(min_child_weight = 5, max_depth = 6, learning_rate = 0.3, gamma = 0.1, colsample_bytree = 0.3)\n",
    "XGB_Regressor.fit(df_dummies, df_train_y_regresion)"
   ],
   "metadata": {
    "collapsed": false
   }
  },
  {
   "cell_type": "markdown",
   "source": [
    "Hagamos las predicciones y veamos cómo resultaron las métricas del modelo:"
   ],
   "metadata": {
    "collapsed": false
   }
  },
  {
   "cell_type": "code",
   "execution_count": 103,
   "outputs": [
    {
     "name": "stdout",
     "output_type": "stream",
     "text": [
      "Se obtuvo un Score de 58.018%\n",
      "La métrica 'Mean Square Error' de test es: 53023059874.91771\n",
      "La métrica 'Root Mean Square Error' de test es: 230267.3660658794\n"
     ]
    }
   ],
   "source": [
    "prediccion_y_metricas_regresion(XGB_Regressor,df_test_dummies, df_test_y_regresion)"
   ],
   "metadata": {
    "collapsed": false
   }
  },
  {
   "cell_type": "markdown",
   "source": [
    "### Importancia de features generales\n",
    "Graficamos los 15 features más importantes para el modelo con los hiperparámetros del TP1"
   ],
   "metadata": {
    "collapsed": false
   }
  },
  {
   "cell_type": "code",
   "execution_count": 104,
   "outputs": [
    {
     "data": {
      "text/plain": "<Figure size 640x480 with 1 Axes>",
      "image/png": "[encoded data removed]"
     },
     "metadata": {},
     "output_type": "display_data"
    }
   ],
   "source": [
    "sorted_idx = XGB_Regressor.feature_importances_.argsort()\n",
    "sorted_idx = sorted_idx[-15:]\n",
    "plt.barh(df_test_dummies.columns[sorted_idx], XGB_Regressor.feature_importances_[sorted_idx])\n",
    "a = plt.xlabel(\"Xgboost Feature Importance\")"
   ],
   "metadata": {
    "collapsed": false
   }
  },
  {
   "cell_type": "markdown",
   "source": [
    "Podemos observar que el feature más importante es la ubicación es la cantidad de habitaciones, seguido de cantidad de la cochera fija y ubicación en Palermo."
   ],
   "metadata": {
    "collapsed": false
   }
  },
  {
   "cell_type": "markdown",
   "source": [
    "### Importancia de features por aspecto agregado en el punto 1.a"
   ],
   "metadata": {
    "collapsed": false
   }
  },
  {
   "cell_type": "markdown",
   "source": [
    "Aspecto Cocina"
   ],
   "metadata": {
    "collapsed": false
   }
  },
  {
   "cell_type": "code",
   "execution_count": 105,
   "outputs": [
    {
     "data": {
      "text/plain": "<Figure size 640x480 with 1 Axes>",
      "image/png": "[encoded data removed]"
     },
     "metadata": {},
     "output_type": "display_data"
    }
   ],
   "source": [
    "aspecto_id = list()\n",
    "\n",
    "for aspecto in list(filter(lambda x: x.startswith('cocina_'), df_dummies.columns.tolist())):\n",
    "    aspecto_id.append(df_dummies.columns.get_loc(aspecto))\n",
    "\n",
    "plt.barh(df_test_dummies.columns[aspecto_id], XGB_Regressor.feature_importances_[aspecto_id])\n",
    "plt.xlabel(\"Importancia de Atributos\")\n",
    "a = plt.ylabel(\"Aspecto cocina\")"
   ],
   "metadata": {
    "collapsed": false
   }
  },
  {
   "cell_type": "markdown",
   "source": [
    "Aspecto Pisos"
   ],
   "metadata": {
    "collapsed": false
   }
  },
  {
   "cell_type": "code",
   "execution_count": 106,
   "outputs": [
    {
     "data": {
      "text/plain": "<Figure size 640x480 with 1 Axes>",
      "image/png": "[encoded data removed]"
     },
     "metadata": {},
     "output_type": "display_data"
    }
   ],
   "source": [
    "aspecto_id = list()\n",
    "\n",
    "for aspecto in list(filter(lambda x: x.startswith('pisos_'), df_dummies.columns.tolist())):\n",
    "    aspecto_id.append(df_dummies.columns.get_loc(aspecto))\n",
    "\n",
    "plt.barh(df_test_dummies.columns[aspecto_id], XGB_Regressor.feature_importances_[aspecto_id])\n",
    "plt.xlabel(\"Importancia de Atributos\")\n",
    "a = plt.ylabel(\"Aspecto pisos\")"
   ],
   "metadata": {
    "collapsed": false
   }
  },
  {
   "cell_type": "markdown",
   "source": [
    "Aspecto Calefaccion"
   ],
   "metadata": {
    "collapsed": false
   }
  },
  {
   "cell_type": "code",
   "execution_count": 107,
   "outputs": [
    {
     "data": {
      "text/plain": "<Figure size 640x480 with 1 Axes>",
      "image/png": "[encoded data removed]"
     },
     "metadata": {},
     "output_type": "display_data"
    }
   ],
   "source": [
    "aspecto_id = list()\n",
    "\n",
    "for aspecto in list(filter(lambda x: x.startswith('calefaccion_'), df_dummies.columns.tolist())):\n",
    "    aspecto_id.append(df_dummies.columns.get_loc(aspecto))\n",
    "\n",
    "plt.barh(df_test_dummies.columns[aspecto_id], XGB_Regressor.feature_importances_[aspecto_id])\n",
    "plt.xlabel(\"Importancia de Atributos\")\n",
    "a = plt.ylabel(\"Aspecto calefaccion\")"
   ],
   "metadata": {
    "collapsed": false
   }
  },
  {
   "cell_type": "markdown",
   "source": [
    "Aspecto Expensas"
   ],
   "metadata": {
    "collapsed": false
   }
  },
  {
   "cell_type": "code",
   "execution_count": 108,
   "outputs": [
    {
     "data": {
      "text/plain": "<Figure size 640x480 with 1 Axes>",
      "image/png": "[encoded data removed]"
     },
     "metadata": {},
     "output_type": "display_data"
    }
   ],
   "source": [
    "aspecto_id = list()\n",
    "\n",
    "for aspecto in list(filter(lambda x: x.startswith('expensas_'), df_dummies.columns.tolist())):\n",
    "    aspecto_id.append(df_dummies.columns.get_loc(aspecto))\n",
    "\n",
    "plt.barh(df_test_dummies.columns[aspecto_id], XGB_Regressor.feature_importances_[aspecto_id])\n",
    "plt.xlabel(\"Importancia de Atributos\")\n",
    "a = plt.ylabel(\"Aspecto expensas\")"
   ],
   "metadata": {
    "collapsed": false
   }
  },
  {
   "cell_type": "markdown",
   "source": [
    "Aspecto Lavadero"
   ],
   "metadata": {
    "collapsed": false
   }
  },
  {
   "cell_type": "code",
   "execution_count": 109,
   "outputs": [
    {
     "data": {
      "text/plain": "<Figure size 640x480 with 1 Axes>",
      "image/png": "[encoded data removed]"
     },
     "metadata": {},
     "output_type": "display_data"
    }
   ],
   "source": [
    "aspecto_id = list()\n",
    "\n",
    "for aspecto in list(filter(lambda x: x.startswith('lavadero_'), df_dummies.columns.tolist())):\n",
    "    aspecto_id.append(df_dummies.columns.get_loc(aspecto))\n",
    "\n",
    "plt.barh(df_test_dummies.columns[aspecto_id], XGB_Regressor.feature_importances_[aspecto_id])\n",
    "plt.xlabel(\"Importancia de Atributos\")\n",
    "a = plt.ylabel(\"Aspecto lavadero\")"
   ],
   "metadata": {
    "collapsed": false
   }
  },
  {
   "cell_type": "markdown",
   "source": [
    "Aspecto Balcon"
   ],
   "metadata": {
    "collapsed": false
   }
  },
  {
   "cell_type": "code",
   "execution_count": 110,
   "outputs": [
    {
     "data": {
      "text/plain": "<Figure size 640x480 with 1 Axes>",
      "image/png": "[encoded data removed]"
     },
     "metadata": {},
     "output_type": "display_data"
    }
   ],
   "source": [
    "aspecto_id = list()\n",
    "\n",
    "for aspecto in list(filter(lambda x: x.startswith('balcon_'), df_dummies.columns.tolist())):\n",
    "    aspecto_id.append(df_dummies.columns.get_loc(aspecto))\n",
    "\n",
    "plt.barh(df_test_dummies.columns[aspecto_id], XGB_Regressor.feature_importances_[aspecto_id])\n",
    "plt.xlabel(\"Importancia de Atributos\")\n",
    "a = plt.ylabel(\"Aspecto balcon\")"
   ],
   "metadata": {
    "collapsed": false
   }
  },
  {
   "cell_type": "markdown",
   "source": [
    "Aspecto Cochera"
   ],
   "metadata": {
    "collapsed": false
   }
  },
  {
   "cell_type": "code",
   "execution_count": 111,
   "outputs": [
    {
     "data": {
      "text/plain": "<Figure size 640x480 with 1 Axes>",
      "image/png": "[encoded data removed]"
     },
     "metadata": {},
     "output_type": "display_data"
    }
   ],
   "source": [
    "aspecto_id = list()\n",
    "\n",
    "for aspecto in list(filter(lambda x: x.startswith('cochera_'), df_dummies.columns.tolist())):\n",
    "    aspecto_id.append(df_dummies.columns.get_loc(aspecto))\n",
    "\n",
    "plt.barh(df_test_dummies.columns[aspecto_id], XGB_Regressor.feature_importances_[aspecto_id])\n",
    "plt.xlabel(\"Importancia de Atributos\")\n",
    "a = plt.ylabel(\"Aspecto cochera\")"
   ],
   "metadata": {
    "collapsed": false
   }
  },
  {
   "cell_type": "markdown",
   "source": [
    "Aspecto Aire"
   ],
   "metadata": {
    "collapsed": false
   }
  },
  {
   "cell_type": "code",
   "execution_count": 112,
   "outputs": [
    {
     "data": {
      "text/plain": "<Figure size 640x480 with 1 Axes>",
      "image/png": "[encoded data removed]"
     },
     "metadata": {},
     "output_type": "display_data"
    }
   ],
   "source": [
    "aspecto_id = list()\n",
    "\n",
    "for aspecto in list(filter(lambda x: x.startswith('aire_'), df_dummies.columns.tolist())):\n",
    "    aspecto_id.append(df_dummies.columns.get_loc(aspecto))\n",
    "\n",
    "plt.barh(df_test_dummies.columns[aspecto_id], XGB_Regressor.feature_importances_[aspecto_id])\n",
    "plt.xlabel(\"Importancia de Atributos\")\n",
    "a = plt.ylabel(\"Aspecto aire\")"
   ],
   "metadata": {
    "collapsed": false
   }
  },
  {
   "cell_type": "markdown",
   "source": [
    "## Con optimización de hiperparámetros"
   ],
   "metadata": {
    "id": "CkJCoGXnaN1y"
   }
  },
  {
   "cell_type": "markdown",
   "source": [
    "Veamos cómo se comporta el score con la optimización de hiperparámetros:"
   ],
   "metadata": {
    "collapsed": false,
    "id": "Su2wKojB2DpR"
   }
  },
  {
   "cell_type": "code",
   "execution_count": 113,
   "outputs": [
    {
     "data": {
      "text/plain": "RandomizedSearchCV(cv=5,\n                   estimator=XGBRegressor(base_score=None, booster=None,\n                                          colsample_bylevel=None,\n                                          colsample_bynode=None,\n                                          colsample_bytree=None,\n                                          enable_categorical=False, gamma=None,\n                                          gpu_id=None, importance_type=None,\n                                          interaction_constraints=None,\n                                          learning_rate=None,\n                                          max_delta_step=None, max_depth=None,\n                                          min_child_weight=None, missing=nan,\n                                          monotone_constraints=...\n                                          predictor=None, random_state=None,\n                                          reg_alpha=None, reg_lambda=None,\n                                          scale_pos_weight=None, subsample=None,\n                                          tree_method=None,\n                                          validate_parameters=None,\n                                          verbosity=None),\n                   n_iter=20,\n                   param_distributions={'colsample_bytree': [0.3, 0.5, 0.7],\n                                        'gamma': [0.1, 0.3, 0.5],\n                                        'learning_rate': [0.2, 0.25, 0.3],\n                                        'max_depth': [4, 6, 8, 10],\n                                        'min_child_weight': [1, 3, 5, 7, 9]},\n                   scoring=make_scorer(r2_score))",
      "text/html": "<style>#sk-container-id-3 {color: black;background-color: white;}#sk-container-id-3 pre{padding: 0;}#sk-container-id-3 div.sk-toggleable {background-color: white;}#sk-container-id-3 label.sk-toggleable__label {cursor: pointer;display: block;width: 100%;margin-bottom: 0;padding: 0.3em;box-sizing: border-box;text-align: center;}#sk-container-id-3 label.sk-toggleable__label-arrow:before {content: \"▸\";float: left;margin-right: 0.25em;color: #696969;}#sk-container-id-3 label.sk-toggleable__label-arrow:hover:before {color: black;}#sk-container-id-3 div.sk-estimator:hover label.sk-toggleable__label-arrow:before {color: black;}#sk-container-id-3 div.sk-toggleable__content {max-height: 0;max-width: 0;overflow: hidden;text-align: left;background-color: #f0f8ff;}#sk-container-id-3 div.sk-toggleable__content pre {margin: 0.2em;color: black;border-radius: 0.25em;background-color: #f0f8ff;}#sk-container-id-3 input.sk-toggleable__control:checked~div.sk-toggleable__content {max-height: 200px;max-width: 100%;overflow: auto;}#sk-container-id-3 input.sk-toggleable__control:checked~label.sk-toggleable__label-arrow:before {content: \"▾\";}#sk-container-id-3 div.sk-estimator input.sk-toggleable__control:checked~label.sk-toggleable__label {background-color: #d4ebff;}#sk-container-id-3 div.sk-label input.sk-toggleable__control:checked~label.sk-toggleable__label {background-color: #d4ebff;}#sk-container-id-3 input.sk-hidden--visually {border: 0;clip: rect(1px 1px 1px 1px);clip: rect(1px, 1px, 1px, 1px);height: 1px;margin: -1px;overflow: hidden;padding: 0;position: absolute;width: 1px;}#sk-container-id-3 div.sk-estimator {font-family: monospace;background-color: #f0f8ff;border: 1px dotted black;border-radius: 0.25em;box-sizing: border-box;margin-bottom: 0.5em;}#sk-container-id-3 div.sk-estimator:hover {background-color: #d4ebff;}#sk-container-id-3 div.sk-parallel-item::after {content: \"\";width: 100%;border-bottom: 1px solid gray;flex-grow: 1;}#sk-container-id-3 div.sk-label:hover label.sk-toggleable__label {background-color: #d4ebff;}#sk-container-id-3 div.sk-serial::before {content: \"\";position: absolute;border-left: 1px solid gray;box-sizing: border-box;top: 0;bottom: 0;left: 50%;z-index: 0;}#sk-container-id-3 div.sk-serial {display: flex;flex-direction: column;align-items: center;background-color: white;padding-right: 0.2em;padding-left: 0.2em;position: relative;}#sk-container-id-3 div.sk-item {position: relative;z-index: 1;}#sk-container-id-3 div.sk-parallel {display: flex;align-items: stretch;justify-content: center;background-color: white;position: relative;}#sk-container-id-3 div.sk-item::before, #sk-container-id-3 div.sk-parallel-item::before {content: \"\";position: absolute;border-left: 1px solid gray;box-sizing: border-box;top: 0;bottom: 0;left: 50%;z-index: -1;}#sk-container-id-3 div.sk-parallel-item {display: flex;flex-direction: column;z-index: 1;position: relative;background-color: white;}#sk-container-id-3 div.sk-parallel-item:first-child::after {align-self: flex-end;width: 50%;}#sk-container-id-3 div.sk-parallel-item:last-child::after {align-self: flex-start;width: 50%;}#sk-container-id-3 div.sk-parallel-item:only-child::after {width: 0;}#sk-container-id-3 div.sk-dashed-wrapped {border: 1px dashed gray;margin: 0 0.4em 0.5em 0.4em;box-sizing: border-box;padding-bottom: 0.4em;background-color: white;}#sk-container-id-3 div.sk-label label {font-family: monospace;font-weight: bold;display: inline-block;line-height: 1.2em;}#sk-container-id-3 div.sk-label-container {text-align: center;}#sk-container-id-3 div.sk-container {/* jupyter's `normalize.less` sets `[hidden] { display: none; }` but bootstrap.min.css set `[hidden] { display: none !important; }` so we also need the `!important` here to be able to override the default hidden behavior on the sphinx rendered scikit-learn.org. See: https://github.com/scikit-learn/scikit-learn/issues/21755 */display: inline-block !important;position: relative;}#sk-container-id-3 div.sk-text-repr-fallback {display: none;}</style><div id=\"sk-container-id-3\" class=\"sk-top-container\"><div class=\"sk-text-repr-fallback\"><pre>RandomizedSearchCV(cv=5,\n                   estimator=XGBRegressor(base_score=None, booster=None,\n                                          colsample_bylevel=None,\n                                          colsample_bynode=None,\n                                          colsample_bytree=None,\n                                          enable_categorical=False, gamma=None,\n                                          gpu_id=None, importance_type=None,\n                                          interaction_constraints=None,\n                                          learning_rate=None,\n                                          max_delta_step=None, max_depth=None,\n                                          min_child_weight=None, missing=nan,\n                                          monotone_constraints=...\n                                          predictor=None, random_state=None,\n                                          reg_alpha=None, reg_lambda=None,\n                                          scale_pos_weight=None, subsample=None,\n                                          tree_method=None,\n                                          validate_parameters=None,\n                                          verbosity=None),\n                   n_iter=20,\n                   param_distributions={&#x27;colsample_bytree&#x27;: [0.3, 0.5, 0.7],\n                                        &#x27;gamma&#x27;: [0.1, 0.3, 0.5],\n                                        &#x27;learning_rate&#x27;: [0.2, 0.25, 0.3],\n                                        &#x27;max_depth&#x27;: [4, 6, 8, 10],\n                                        &#x27;min_child_weight&#x27;: [1, 3, 5, 7, 9]},\n                   scoring=make_scorer(r2_score))</pre><b>In a Jupyter environment, please rerun this cell to show the HTML representation or trust the notebook. <br />On GitHub, the HTML representation is unable to render, please try loading this page with nbviewer.org.</b></div><div class=\"sk-container\" hidden><div class=\"sk-item sk-dashed-wrapped\"><div class=\"sk-label-container\"><div class=\"sk-label sk-toggleable\"><input class=\"sk-toggleable__control sk-hidden--visually\" id=\"sk-estimator-id-5\" type=\"checkbox\" ><label for=\"sk-estimator-id-5\" class=\"sk-toggleable__label sk-toggleable__label-arrow\">RandomizedSearchCV</label><div class=\"sk-toggleable__content\"><pre>RandomizedSearchCV(cv=5,\n                   estimator=XGBRegressor(base_score=None, booster=None,\n                                          colsample_bylevel=None,\n                                          colsample_bynode=None,\n                                          colsample_bytree=None,\n                                          enable_categorical=False, gamma=None,\n                                          gpu_id=None, importance_type=None,\n                                          interaction_constraints=None,\n                                          learning_rate=None,\n                                          max_delta_step=None, max_depth=None,\n                                          min_child_weight=None, missing=nan,\n                                          monotone_constraints=...\n                                          predictor=None, random_state=None,\n                                          reg_alpha=None, reg_lambda=None,\n                                          scale_pos_weight=None, subsample=None,\n                                          tree_method=None,\n                                          validate_parameters=None,\n                                          verbosity=None),\n                   n_iter=20,\n                   param_distributions={&#x27;colsample_bytree&#x27;: [0.3, 0.5, 0.7],\n                                        &#x27;gamma&#x27;: [0.1, 0.3, 0.5],\n                                        &#x27;learning_rate&#x27;: [0.2, 0.25, 0.3],\n                                        &#x27;max_depth&#x27;: [4, 6, 8, 10],\n                                        &#x27;min_child_weight&#x27;: [1, 3, 5, 7, 9]},\n                   scoring=make_scorer(r2_score))</pre></div></div></div><div class=\"sk-parallel\"><div class=\"sk-parallel-item\"><div class=\"sk-item\"><div class=\"sk-label-container\"><div class=\"sk-label sk-toggleable\"><input class=\"sk-toggleable__control sk-hidden--visually\" id=\"sk-estimator-id-6\" type=\"checkbox\" ><label for=\"sk-estimator-id-6\" class=\"sk-toggleable__label sk-toggleable__label-arrow\">estimator: XGBRegressor</label><div class=\"sk-toggleable__content\"><pre>XGBRegressor(base_score=None, booster=None, colsample_bylevel=None,\n             colsample_bynode=None, colsample_bytree=None,\n             enable_categorical=False, gamma=None, gpu_id=None,\n             importance_type=None, interaction_constraints=None,\n             learning_rate=None, max_delta_step=None, max_depth=None,\n             min_child_weight=None, missing=nan, monotone_constraints=None,\n             n_estimators=100, n_jobs=None, num_parallel_tree=None,\n             predictor=None, random_state=None, reg_alpha=None, reg_lambda=None,\n             scale_pos_weight=None, subsample=None, tree_method=None,\n             validate_parameters=None, verbosity=None)</pre></div></div></div><div class=\"sk-serial\"><div class=\"sk-item\"><div class=\"sk-estimator sk-toggleable\"><input class=\"sk-toggleable__control sk-hidden--visually\" id=\"sk-estimator-id-7\" type=\"checkbox\" ><label for=\"sk-estimator-id-7\" class=\"sk-toggleable__label sk-toggleable__label-arrow\">XGBRegressor</label><div class=\"sk-toggleable__content\"><pre>XGBRegressor(base_score=None, booster=None, colsample_bylevel=None,\n             colsample_bynode=None, colsample_bytree=None,\n             enable_categorical=False, gamma=None, gpu_id=None,\n             importance_type=None, interaction_constraints=None,\n             learning_rate=None, max_delta_step=None, max_depth=None,\n             min_child_weight=None, missing=nan, monotone_constraints=None,\n             n_estimators=100, n_jobs=None, num_parallel_tree=None,\n             predictor=None, random_state=None, reg_alpha=None, reg_lambda=None,\n             scale_pos_weight=None, subsample=None, tree_method=None,\n             validate_parameters=None, verbosity=None)</pre></div></div></div></div></div></div></div></div></div></div>"
     },
     "execution_count": 113,
     "metadata": {},
     "output_type": "execute_result"
    }
   ],
   "source": [
    "params_grid = {'learning_rate': [0.20, 0.25, 0.30],\n",
    "               'max_depth': [4, 6, 8, 10],\n",
    "               'min_child_weight': [1, 3, 5, 7, 9],\n",
    "               'gamma': [0.1, 0.3, 0.5],\n",
    "               'colsample_bytree' : [0.3, 0.5, 0.7]}\n",
    "\n",
    "randomCV = RandomizedSearchCV(estimator = XGBRegressor(),\n",
    "                              param_distributions = params_grid,\n",
    "                              scoring = make_scorer(r2_score),\n",
    "                              cv = 5,\n",
    "                              n_iter = 20)\n",
    "\n",
    "randomCV.fit(df_dummies, df_train_y_regresion)"
   ],
   "metadata": {
    "id": "7RTpJeq92DpS",
    "colab": {
     "base_uri": "https://localhost:8080/"
    },
    "outputId": "c628a9ba-c22a-41d7-fe70-c2cac713f798"
   }
  },
  {
   "cell_type": "code",
   "execution_count": 114,
   "outputs": [
    {
     "data": {
      "text/plain": "{'min_child_weight': 1,\n 'max_depth': 8,\n 'learning_rate': 0.3,\n 'gamma': 0.1,\n 'colsample_bytree': 0.3}"
     },
     "execution_count": 114,
     "metadata": {},
     "output_type": "execute_result"
    }
   ],
   "source": [
    "randomCV.best_params_"
   ],
   "metadata": {
    "collapsed": false
   }
  },
  {
   "cell_type": "code",
   "execution_count": 115,
   "outputs": [
    {
     "name": "stdout",
     "output_type": "stream",
     "text": [
      "Se obtuvo un Score de 57.964%\n",
      "La métrica 'Mean Square Error' de test es: 53091896539.97901\n",
      "La métrica 'Root Mean Square Error' de test es: 230416.7887545936\n"
     ]
    }
   ],
   "source": [
    "prediccion_y_metricas_regresion(randomCV.best_estimator_,df_test_dummies, df_test_y_regresion)"
   ],
   "metadata": {
    "collapsed": false
   }
  },
  {
   "cell_type": "markdown",
   "source": [
    "Observamos que, si bien las métricas mejoraron, las diferencias al optimizar los parámetros no fueron muy significativas."
   ],
   "metadata": {
    "collapsed": false
   }
  },
  {
   "cell_type": "markdown",
   "source": [
    "### Importancia de features\n",
    "Graficamos los 15 features más importantes para el modelo con los hiperparámetros optimizados"
   ],
   "metadata": {
    "collapsed": false
   }
  },
  {
   "cell_type": "code",
   "execution_count": 116,
   "outputs": [
    {
     "data": {
      "text/plain": "<Figure size 640x480 with 1 Axes>",
      "image/png": "[encoded data removed]"
     },
     "metadata": {},
     "output_type": "display_data"
    }
   ],
   "source": [
    "sorted_idx = randomCV.best_estimator_.feature_importances_.argsort()\n",
    "sorted_idx = sorted_idx[-15:]\n",
    "plt.barh(df_test_dummies.columns[sorted_idx], randomCV.best_estimator_.feature_importances_[sorted_idx])\n",
    "a = plt.xlabel(\"Xgboost Feature Importance\")"
   ],
   "metadata": {
    "collapsed": false
   }
  },
  {
   "cell_type": "markdown",
   "source": [
    "Podemos ver que la ubicación en Puerto Madero tiene más peso que en el modelo anterior. Cochera fija sigue siendo un feature importante, pero menos que anteriormente. La cantidad de habitaciones tiene mayor peso que el modelo anterior."
   ],
   "metadata": {
    "collapsed": false
   }
  },
  {
   "cell_type": "markdown",
   "source": [
    "### Importancia de features por aspecto agregado en el punto 1.a"
   ],
   "metadata": {
    "collapsed": false
   }
  },
  {
   "cell_type": "markdown",
   "source": [
    "Aspecto Cocina"
   ],
   "metadata": {
    "collapsed": false
   }
  },
  {
   "cell_type": "code",
   "execution_count": 117,
   "outputs": [
    {
     "data": {
      "text/plain": "<Figure size 640x480 with 1 Axes>",
      "image/png": "[encoded data removed]"
     },
     "metadata": {},
     "output_type": "display_data"
    }
   ],
   "source": [
    "aspecto_id = list()\n",
    "\n",
    "for aspecto in list(filter(lambda x: x.startswith('cocina_'), df_dummies.columns.tolist())):\n",
    "    aspecto_id.append(df_dummies.columns.get_loc(aspecto))\n",
    "\n",
    "plt.barh(df_test_dummies.columns[aspecto_id], randomCV.best_estimator_.feature_importances_[aspecto_id])\n",
    "plt.xlabel(\"Importancia de Atributos\")\n",
    "a = plt.ylabel(\"Aspecto cocina\")"
   ],
   "metadata": {
    "collapsed": false
   }
  },
  {
   "cell_type": "markdown",
   "source": [
    "Aspecto Pisos"
   ],
   "metadata": {
    "collapsed": false
   }
  },
  {
   "cell_type": "code",
   "execution_count": 118,
   "outputs": [
    {
     "data": {
      "text/plain": "<Figure size 640x480 with 1 Axes>",
      "image/png": "[encoded data removed]"
     },
     "metadata": {},
     "output_type": "display_data"
    }
   ],
   "source": [
    "aspecto_id = list()\n",
    "\n",
    "for aspecto in list(filter(lambda x: x.startswith('pisos_'), df_dummies.columns.tolist())):\n",
    "    aspecto_id.append(df_dummies.columns.get_loc(aspecto))\n",
    "\n",
    "plt.barh(df_test_dummies.columns[aspecto_id], randomCV.best_estimator_.feature_importances_[aspecto_id])\n",
    "plt.xlabel(\"Importancia de Atributos\")\n",
    "a = plt.ylabel(\"Aspecto pisos\")"
   ],
   "metadata": {
    "collapsed": false
   }
  },
  {
   "cell_type": "markdown",
   "source": [
    "Aspecto Calefaccion"
   ],
   "metadata": {
    "collapsed": false
   }
  },
  {
   "cell_type": "code",
   "execution_count": 119,
   "outputs": [
    {
     "data": {
      "text/plain": "<Figure size 640x480 with 1 Axes>",
      "image/png": "[encoded data removed]"
     },
     "metadata": {},
     "output_type": "display_data"
    }
   ],
   "source": [
    "aspecto_id = list()\n",
    "\n",
    "for aspecto in list(filter(lambda x: x.startswith('calefaccion_'), df_dummies.columns.tolist())):\n",
    "    aspecto_id.append(df_dummies.columns.get_loc(aspecto))\n",
    "\n",
    "plt.barh(df_test_dummies.columns[aspecto_id], randomCV.best_estimator_.feature_importances_[aspecto_id])\n",
    "plt.xlabel(\"Importancia de Atributos\")\n",
    "a = plt.ylabel(\"Aspecto calefaccion\")"
   ],
   "metadata": {
    "collapsed": false
   }
  },
  {
   "cell_type": "markdown",
   "source": [
    "Aspecto Expensas"
   ],
   "metadata": {
    "collapsed": false
   }
  },
  {
   "cell_type": "code",
   "execution_count": 120,
   "outputs": [
    {
     "data": {
      "text/plain": "<Figure size 640x480 with 1 Axes>",
      "image/png": "[encoded data removed]"
     },
     "metadata": {},
     "output_type": "display_data"
    }
   ],
   "source": [
    "aspecto_id = list()\n",
    "\n",
    "for aspecto in list(filter(lambda x: x.startswith('expensas_'), df_dummies.columns.tolist())):\n",
    "    aspecto_id.append(df_dummies.columns.get_loc(aspecto))\n",
    "\n",
    "plt.barh(df_test_dummies.columns[aspecto_id], randomCV.best_estimator_.feature_importances_[aspecto_id])\n",
    "plt.xlabel(\"Importancia de Atributos\")\n",
    "a = plt.ylabel(\"Aspecto expensas\")"
   ],
   "metadata": {
    "collapsed": false
   }
  },
  {
   "cell_type": "markdown",
   "source": [
    "Aspecto Lavadero"
   ],
   "metadata": {
    "collapsed": false
   }
  },
  {
   "cell_type": "code",
   "execution_count": 121,
   "outputs": [
    {
     "data": {
      "text/plain": "<Figure size 640x480 with 1 Axes>",
      "image/png": "[encoded data removed]"
     },
     "metadata": {},
     "output_type": "display_data"
    }
   ],
   "source": [
    "aspecto_id = list()\n",
    "\n",
    "for aspecto in list(filter(lambda x: x.startswith('lavadero_'), df_dummies.columns.tolist())):\n",
    "    aspecto_id.append(df_dummies.columns.get_loc(aspecto))\n",
    "\n",
    "plt.barh(df_test_dummies.columns[aspecto_id], randomCV.best_estimator_.feature_importances_[aspecto_id])\n",
    "plt.xlabel(\"Importancia de Atributos\")\n",
    "a = plt.ylabel(\"Aspecto lavadero\")"
   ],
   "metadata": {
    "collapsed": false
   }
  },
  {
   "cell_type": "markdown",
   "source": [
    "Aspecto Balcon"
   ],
   "metadata": {
    "collapsed": false
   }
  },
  {
   "cell_type": "code",
   "execution_count": 122,
   "outputs": [
    {
     "data": {
      "text/plain": "<Figure size 640x480 with 1 Axes>",
      "image/png": "[encoded data removed]"
     },
     "metadata": {},
     "output_type": "display_data"
    }
   ],
   "source": [
    "aspecto_id = list()\n",
    "\n",
    "for aspecto in list(filter(lambda x: x.startswith('balcon_'), df_dummies.columns.tolist())):\n",
    "    aspecto_id.append(df_dummies.columns.get_loc(aspecto))\n",
    "\n",
    "plt.barh(df_test_dummies.columns[aspecto_id], randomCV.best_estimator_.feature_importances_[aspecto_id])\n",
    "plt.xlabel(\"Importancia de Atributos\")\n",
    "a = plt.ylabel(\"Aspecto balcon\")"
   ],
   "metadata": {
    "collapsed": false
   }
  },
  {
   "cell_type": "markdown",
   "source": [
    "Aspecto Cochera"
   ],
   "metadata": {
    "collapsed": false
   }
  },
  {
   "cell_type": "code",
   "execution_count": 123,
   "outputs": [
    {
     "data": {
      "text/plain": "<Figure size 640x480 with 1 Axes>",
      "image/png": "[encoded data removed]"
     },
     "metadata": {},
     "output_type": "display_data"
    }
   ],
   "source": [
    "aspecto_id = list()\n",
    "\n",
    "for aspecto in list(filter(lambda x: x.startswith('cochera_'), df_dummies.columns.tolist())):\n",
    "    aspecto_id.append(df_dummies.columns.get_loc(aspecto))\n",
    "\n",
    "plt.barh(df_test_dummies.columns[aspecto_id], randomCV.best_estimator_.feature_importances_[aspecto_id])\n",
    "plt.xlabel(\"Importancia de Atributos\")\n",
    "a = plt.ylabel(\"Aspecto cochera\")"
   ],
   "metadata": {
    "collapsed": false
   }
  },
  {
   "cell_type": "markdown",
   "source": [
    "Aspecto Aire"
   ],
   "metadata": {
    "collapsed": false
   }
  },
  {
   "cell_type": "code",
   "execution_count": 124,
   "outputs": [
    {
     "data": {
      "text/plain": "<Figure size 640x480 with 1 Axes>",
      "image/png": "[encoded data removed]"
     },
     "metadata": {},
     "output_type": "display_data"
    }
   ],
   "source": [
    "aspecto_id = list()\n",
    "\n",
    "for aspecto in list(filter(lambda x: x.startswith('aire_'), df_dummies.columns.tolist())):\n",
    "    aspecto_id.append(df_dummies.columns.get_loc(aspecto))\n",
    "\n",
    "plt.barh(df_test_dummies.columns[aspecto_id], randomCV.best_estimator_.feature_importances_[aspecto_id])\n",
    "plt.xlabel(\"Importancia de Atributos\")\n",
    "a = plt.ylabel(\"Aspecto aire\")"
   ],
   "metadata": {
    "collapsed": false
   }
  },
  {
   "cell_type": "markdown",
   "source": [
    "#### Exportación del Modelo\n",
    "Finalmente exportamos el modelo utilizado para predecir, resultante de la optimización de hiperparámetros:"
   ],
   "metadata": {
    "id": "_f0JxWEL8GUY"
   }
  },
  {
   "cell_type": "code",
   "source": [
    "if IN_COLAB:\n",
    "  path = '/content/drive/MyDrive/📔 Organización de Datos (75.06)/TPS/TP2/MODELOS/XGB_Regressor.json'\n",
    "else:\n",
    "  path = './MODELOS/XGB_Regressor.json'\n",
    "\n",
    "randomCV.best_estimator_.save_model(path)"
   ],
   "metadata": {
    "id": "RNVI92fe8WEP",
    "colab": {
     "base_uri": "https://localhost:8080/"
    },
    "outputId": "9e1b9542-5eec-4f40-edbc-ebf7c8cecc42"
   },
   "execution_count": 125,
   "outputs": []
  },
    {
      "cell_type": "markdown",
      "source": [
        "## 2. Redes Neuronales"
      ],
      "metadata": {
        "collapsed": false,
        "id": "HWpWT3GZ_TQT"
      }
    },
    {
      "cell_type": "markdown",
      "source": [
        "### 2.a Regresión"
      ],
      "metadata": {
        "id": "2HjJDe4W_iY-"
      }
    },
    {
      "cell_type": "markdown",
      "source": [
        "#### 2.a.1 Preparación del dataset"
      ],
      "metadata": {
        "id": "5xI2H0xyYm_B"
      }
    },
    {
      "cell_type": "code",
      "execution_count": 13,
      "outputs": [],
      "source": [
        "x_train_regresion = df_train_x.drop([\"id\"], axis=1).copy()\n",
        "y_train_regresion = df_train_y_regresion.copy()\n",
        "x_test_regresion = df_test_x.drop([\"id\"], axis=1).copy()\n",
        "y_test_regresion = df_test_y_regresion.copy()"
      ],
      "metadata": {
        "id": "-0XN0CsGPZoq"
      }
    },
    {
      "cell_type": "markdown",
      "source": [
        "Normalizamos las entradas con StandardScaler:"
      ],
      "metadata": {
        "collapsed": false,
        "id": "PKPRQVFS_TQT"
      }
    },
    {
      "cell_type": "code",
      "source": [
        "x_train_regresion[['start_date', 'end_date', 'latitud', 'longitud', 'property_rooms', 'property_surface_total']] = zscore(x_train_regresion[['start_date', 'end_date', 'latitud', 'longitud', 'property_rooms', 'property_surface_total']], axis=1)\n",
        "\n",
        "x_test_regresion[['start_date', 'end_date', 'latitud', 'longitud', 'property_rooms', 'property_surface_total']] = zscore(x_test_regresion[['start_date', 'end_date', 'latitud', 'longitud', 'property_rooms', 'property_surface_total']], axis=1)"
      ],
      "metadata": {
        "id": "s3xTEOkRlufG"
      },
      "execution_count": 14,
      "outputs": []
    },
    {
      "cell_type": "markdown",
      "source": [
        "#### 2.a.2 Búsqueda del mejor modelo"
      ],
      "metadata": {
        "id": "NjqmQr4pYrEE"
      }
    },
    {
      "cell_type": "markdown",
      "source": [
        "Creo una función que me permite generar un modelo a partir de sus hiperparámetros. Esta función tiene como parámetros la cantidad de nodos de la primera y anteúltima capa, la cantidad de capas ocultas, la función de activación y el optimizador. Todos los modelos que genera a excepción de los casos sin capas ocultas) tienen forma de 'pirámide'."
      ],
      "metadata": {
        "collapsed": false,
        "id": "6VDNmTwAPZoq"
      }
    },
    {
      "cell_type": "code",
      "execution_count": 15,
      "outputs": [],
      "source": [
        "cantidad_de_columnas = x_train_regresion.shape[1]\n",
        "\n",
        "def crear_modelo(hidden_layers, first_layer_nodes, last_layer_nodes, activation_func, optimizer):\n",
        "\n",
        "    sequential = Sequential()\n",
        "    sequential.add(keras.layers.Dense(first_layer_nodes, input_shape=(cantidad_de_columnas,), activation='relu'))\n",
        "\n",
        "    if hidden_layers is 0 or hidden_layers is 1:\n",
        "        decremento = 0\n",
        "    else:\n",
        "        decremento = math.ceil((first_layer_nodes - last_layer_nodes) / (hidden_layers - 1))\n",
        "\n",
        "    for i in range (0, hidden_layers):\n",
        "        nodos = first_layer_nodes - decremento * i\n",
        "        sequential.add(Dense(nodos, activation=activation_func))\n",
        "\n",
        "    sequential.add(Dense(1, activation='linear'))\n",
        "\n",
        "    sequential.compile(\n",
        "        optimizer=optimizer,\n",
        "        loss='mse',\n",
        "        metrics=['mse', 'mean_absolute_percentage_error']\n",
        "    )\n",
        "\n",
        "    return sequential\n",
        "\n",
        "\n",
        "modelo =  KerasRegressor(build_fn=crear_modelo, verbose = False)"
      ],
      "metadata": {
        "id": "7ze_wRydPZor"
      }
    },
    {
      "cell_type": "markdown",
      "source": [
        "Luego busco el mejor modelo a partir de una grilla de parámetros arbitrarios con el método de 'GridSearchCV'. El criterio de mejor modelo es el que tenga menor error cuadrado, o lo que es equivalente, mayor error cuadrado negado. Nos limitamos en la cantidad de folds en el CV por el consumo temporal."
      ],
      "metadata": {
        "collapsed": false,
        "id": "FDt4leW8PZor"
      }
    },
    {
      "cell_type": "code",
      "execution_count": 16,
      "outputs": [],
      "source": [
        "param_grid = dict(\n",
        "    hidden_layers=[2, 4],\n",
        "    first_layer_nodes = [x_train_regresion.shape[1], math.ceil(cantidad_de_columnas * (2/3))],\n",
        "    last_layer_nodes = [5],\n",
        "    activation_func = ['sigmoid', 'relu'],\n",
        "    batch_size = [750],\n",
        "    epochs = [70],\n",
        "    optimizer=['RMSprop'],\n",
        ")\n",
        "\n",
        "grid = GridSearchCV(\n",
        "    estimator = modelo,\n",
        "    param_grid = param_grid,\n",
        "    cv=5,\n",
        "    error_score='raise',\n",
        "    scoring='neg_mean_squared_error',\n",
        "    verbose=0,\n",
        ")"
      ],
      "metadata": {
        "id": "D-jTXD9ePZor"
      }
    },
    {
      "cell_type": "markdown",
      "source": [
        "Entrenamos todos los modelos"
      ],
      "metadata": {
        "collapsed": false,
        "id": "dPf_1lmFPZor"
      }
    },
    {
      "cell_type": "code",
      "execution_count": 17,
      "outputs": [
        {
          "output_type": "execute_result",
          "data": {
            "text/plain": [
              "GridSearchCV(cv=5, error_score='raise',\n",
              "             estimator=<keras.wrappers.scikit_learn.KerasRegressor object at 0x7f4b0ab69df0>,\n",
              "             param_grid={'activation_func': ['sigmoid', 'relu'],\n",
              "                         'batch_size': [750], 'epochs': [70],\n",
              "                         'first_layer_nodes': [69, 46], 'hidden_layers': [2, 4],\n",
              "                         'last_layer_nodes': [5], 'optimizer': ['RMSprop']},\n",
              "             scoring='neg_mean_squared_error')"
            ]
          },
          "metadata": {},
          "execution_count": 17
        }
      ],
      "source": [
        "grid.fit(x_train_regresion, y_train_regresion)"
      ],
      "metadata": {
        "id": "bDQ6po3sPZor",
        "colab": {
          "base_uri": "https://localhost:8080/"
        },
        "outputId": "bb1390c2-3e21-491d-aae9-9764d64e6148"
      }
    },
    {
      "cell_type": "markdown",
      "source": [
        "Guardamos el historial de entrenamiento del mejor modelo"
      ],
      "metadata": {
        "collapsed": false,
        "id": "cV1Rqa4ePZor"
      }
    },
    {
      "cell_type": "code",
      "execution_count": 18,
      "outputs": [],
      "source": [
        "history = grid.best_estimator_.model.history.history"
      ],
      "metadata": {
        "id": "F0uYOOiKPZor"
      }
    },
    {
      "cell_type": "markdown",
      "source": [
        "Los parámetros y métricas del mejor modelo fueron:"
      ],
      "metadata": {
        "collapsed": false,
        "id": "OwJflakyPZor"
      }
    },
    {
      "cell_type": "code",
      "execution_count": 19,
      "outputs": [
        {
          "output_type": "stream",
          "name": "stdout",
          "text": [
            "El error absoluto porcentual promedio del mejor modelo fue de:  65.52518\n",
            "El error absoluto cuadrado promedio del mejor modelo fue de:  51179336000.0\n",
            "Los parámetros seleccionados por Grid search 5-fold cross validation fueron:  {'activation_func': 'relu', 'batch_size': 750, 'epochs': 70, 'first_layer_nodes': 69, 'hidden_layers': 4, 'last_layer_nodes': 5, 'optimizer': 'RMSprop'}\n"
          ]
        }
      ],
      "source": [
        "print(\"El error absoluto porcentual promedio del mejor modelo fue de: \", grid.best_estimator_.model.metrics[2].result().numpy())\n",
        "print(\"El error absoluto cuadrado promedio del mejor modelo fue de: \", grid.best_estimator_.model.metrics[1].result().numpy())\n",
        "print(\"Los parámetros seleccionados por Grid search 5-fold cross validation fueron: \", grid.best_params_)"
      ],
      "metadata": {
        "id": "xvRm_LzePZor",
        "colab": {
          "base_uri": "https://localhost:8080/"
        },
        "outputId": "cc725e72-0093-4100-d0ec-ec18cd07a129"
      }
    },
    {
      "cell_type": "markdown",
      "source": [
        "#### 2.a.3 Predicción"
      ],
      "metadata": {
        "collapsed": false,
        "id": "nML4oR-tPZos"
      }
    },
    {
      "cell_type": "code",
      "execution_count": 20,
      "outputs": [],
      "source": [
        "y_pred = grid.predict(x_test_regresion)"
      ],
      "metadata": {
        "id": "iTgPHhjkPZos"
      }
    },
    {
      "cell_type": "markdown",
      "source": [
        "#### 2.a.4 Métricas"
      ],
      "metadata": {
        "collapsed": false,
        "id": "oUGHJXphPZos"
      }
    },
    {
      "cell_type": "markdown",
      "source": [
        "Veamos cómo se comporta la función de pérdida del mejor modelo según la cantidad de épocas utilizadas:"
      ],
      "metadata": {
        "id": "vmBg6ev_ZO-e"
      }
    },
    {
      "cell_type": "code",
      "execution_count": 21,
      "outputs": [
        {
          "output_type": "execute_result",
          "data": {
            "text/plain": [
              "<matplotlib.legend.Legend at 0x7f4af9454c40>"
            ]
          },
          "metadata": {},
          "execution_count": 21
        },
        {
          "output_type": "display_data",
          "data": {
            "text/plain": [
              "<Figure size 432x288 with 1 Axes>"
            ],
            "image/png": "[encoded data removed]"
          },
          "metadata": {
            "needs_background": "light"
          }
        }
      ],
      "source": [
        "epochs = range(70)\n",
        "plt.plot(epochs, history['mse'], color='orange', label='MSE')\n",
        "plt.xlabel(\"epochs\")\n",
        "plt.ylabel(\"MSE\")\n",
        "plt.title('Error cuadrático medio por cantidad de épocas')\n",
        "plt.legend()"
      ],
      "metadata": {
        "id": "BzNqiJex_TQU",
        "colab": {
          "base_uri": "https://localhost:8080/",
          "height": 312
        },
        "outputId": "ce3ea472-ac6d-472a-9cc7-40ad74caa680"
      }
    },
    {
      "cell_type": "code",
      "execution_count": 34,
      "outputs": [
        {
          "output_type": "stream",
          "name": "stdout",
          "text": [
            "El error según la métrica 'Mean Square Error' de test es: 107144176406.78777\n",
            "El error según la métrica 'Root Mean Square Error' de test es: 327328.85055672645\n"
          ]
        }
      ],
      "source": [
        "mse = metrics.mean_squared_error(\n",
        "    y_true  = y_test_regresion,\n",
        "    y_pred  = y_pred,\n",
        "    squared = True\n",
        ")\n",
        "\n",
        "print(f\"La métrica 'Mean Square Error' de test es: {mse}\")\n",
        "\n",
        "rmse = metrics.mean_squared_error(\n",
        "    y_true  = y_test_regresion,\n",
        "    y_pred  = y_pred,\n",
        "    squared = False\n",
        ")\n",
        "\n",
        "print(f\"La métrica 'Root Mean Square Error' de test es: {rmse}\")"
      ],
      "metadata": {
        "id": "aXW_gEUwPZos",
        "colab": {
          "base_uri": "https://localhost:8080/"
        },
        "outputId": "ce0b4817-acf1-4627-d685-b83efa094348"
      }
    },
    {
      "cell_type": "markdown",
      "source": [
        "#### 2.a.5 Exportación de Datos"
      ],
      "metadata": {
        "id": "BeRZVagKeKzO"
      }
    },
    {
      "cell_type": "markdown",
      "source": [
        "Finalmente, exportamos el modelo utilizado:"
      ],
      "metadata": {
        "id": "lO3v9OUzeKzP"
      }
    },
    {
      "cell_type": "code",
      "source": [
        "if IN_COLAB:\n",
        "  path = '/content/drive/MyDrive/📔 Organización de Datos (75.06)/TPS/TP2/MODELOS/Redes_Regressor.joblib'\n",
        "else:\n",
        "  path = './MODELOS/Redes_Regressor.joblib'\n",
        "\n",
        "joblib.dump(grid.best_estimator_.model, path)"
      ],
      "metadata": {
        "id": "tSuqGenveKzP"
      },
      "execution_count": null,
      "outputs": []
    },
    {
      "cell_type": "markdown",
      "source": [
        "### 2.b Clasificación\n",
        "___"
      ],
      "metadata": {
        "collapsed": false,
        "id": "dXdWW-m9_TQV"
      }
    },
    {
      "cell_type": "markdown",
      "source": [
        "#### 2.b.1 Preparación del dataset"
      ],
      "metadata": {
        "id": "b176QcPLZj9N"
      }
    },
    {
      "cell_type": "code",
      "execution_count": 23,
      "outputs": [],
      "source": [
        "x_train_clasificacion = df_train_x.drop([\"id\"], axis=1).copy()\n",
        "y_train_clasificacion = df_train_y_clasificacion.copy()\n",
        "x_test_clasificacion = df_test_x.drop([\"id\"], axis=1).copy()\n",
        "y_test_clasificacion = df_test_y_clasificacion.copy()"
      ],
      "metadata": {
        "id": "LB4W8-OePZot"
      }
    },
    {
      "cell_type": "markdown",
      "source": [
        "Normalizamos mediante Z-Score:"
      ],
      "metadata": {
        "collapsed": false,
        "id": "JPjRt6tTOWIL"
      }
    },
    {
      "cell_type": "code",
      "source": [
        "x_train_clasificacion[['start_date', 'end_date', 'latitud', 'longitud', 'property_rooms', 'property_surface_total']] = zscore(x_train_clasificacion[['start_date', 'end_date', 'latitud', 'longitud', 'property_rooms', 'property_surface_total']], axis=1)\n",
        "\n",
        "x_test_clasificacion[['start_date', 'end_date', 'latitud', 'longitud', 'property_rooms', 'property_surface_total']] = zscore(x_test_clasificacion[['start_date', 'end_date', 'latitud', 'longitud', 'property_rooms', 'property_surface_total']], axis=1)"
      ],
      "metadata": {
        "id": "qDlv11yi8sR1"
      },
      "execution_count": 24,
      "outputs": []
    },
    {
      "cell_type": "markdown",
      "source": [
        "Aplicamos One Hot encoding a la columna target de entrenamiento y test, para que tenga 3 columnas al igual que la salida del modelo:"
      ],
      "metadata": {
        "collapsed": false,
        "id": "IZ2XeEKi_TQW"
      }
    },
    {
      "cell_type": "code",
      "source": [
        "y_train_clasificacion = pd.get_dummies(y_train_clasificacion, columns=['tipo_precio_3'], drop_first=False)\n",
        "y_test_clasificacion = pd.get_dummies(y_test_clasificacion, columns=['tipo_precio_3'], drop_first=False)"
      ],
      "metadata": {
        "id": "2jzMgy7b5js1"
      },
      "execution_count": 25,
      "outputs": []
    },
    {
      "cell_type": "markdown",
      "source": [
        "#### 2.b.2 Búsqueda del mejor modelo"
      ],
      "metadata": {
        "collapsed": false,
        "id": "cesnzx2oPZot"
      }
    },
    {
      "cell_type": "markdown",
      "source": [
        "Función auxiliar para que GridSearchCV realice el scoring de forma correcta."
      ],
      "metadata": {
        "collapsed": false,
        "id": "axZFUDgmPZot"
      }
    },
    {
      "cell_type": "code",
      "execution_count": 26,
      "outputs": [],
      "source": [
        "def my_categorical_accuracy(y_true, y_pred) :\n",
        "    y_pred_df = pd.DataFrame(data=y_pred, columns=['alto', 'bajo', 'medio'])\n",
        "    res = round(accuracy_score(y_true, y_pred_df), 2)\n",
        "    return res"
      ],
      "metadata": {
        "id": "kNFDozSVPZot"
      }
    },
    {
      "cell_type": "markdown",
      "source": [
        "Creamos una función que permite generar un modelo a partir de sus hiperparámetros configurables.\n",
        "Esta función recibe como parámetros la cantidad de capas ocultas extra, la cantidad de nodos de la última capa oculta, la función de activación y metadata del clasificador."
      ],
      "metadata": {
        "collapsed": false,
        "id": "ct7_V6h5PZot"
      }
    },
    {
      "cell_type": "code",
      "execution_count": 27,
      "outputs": [],
      "source": [
        "def crear_modelo(extra_hidden_layers, last_layer_nodes, activation_func, loss_func, meta):\n",
        "\n",
        "    n_features_in_ = meta[\"n_features_in_\"]\n",
        "    X_shape_ = meta[\"X_shape_\"]\n",
        "    n_classes_ = meta[\"n_classes_\"]\n",
        "\n",
        "    sequential = Sequential()\n",
        "    sequential.add(keras.layers.Dense(n_features_in_ * 0.7, input_shape=X_shape_[1:], activation='relu'))\n",
        "\n",
        "    if last_layer_nodes > n_features_in_:\n",
        "        decremento = 0\n",
        "    elif extra_hidden_layers is 0 or extra_hidden_layers is 1:\n",
        "        decremento = 0\n",
        "    else:\n",
        "        decremento = math.ceil((n_features_in_ - last_layer_nodes) / (extra_hidden_layers - 1))\n",
        "\n",
        "    for i in range (0, extra_hidden_layers):\n",
        "        nodos = n_features_in_ - decremento * i\n",
        "        sequential.add(Dense(nodos, activation=activation_func))\n",
        "\n",
        "    sequential.add(Dense(n_classes_, activation='softmax'))\n",
        "\n",
        "    sequential.compile(\n",
        "        loss=loss_func\n",
        "    )\n",
        "\n",
        "    return sequential\n"
      ],
      "metadata": {
        "id": "h1PMMhoJPZou"
      }
    },
    {
      "cell_type": "markdown",
      "source": [
        "Creamos un modelo base, necesario según la documentación de SciKeras - KerasClassifier.\n",
        "Este modelo base será editado por GridSearchCV al buscar los hiperparámetros."
      ],
      "metadata": {
        "collapsed": false,
        "id": "g0AA_bsKPZou"
      }
    },
    {
      "cell_type": "code",
      "execution_count": 28,
      "outputs": [],
      "source": [
        "base_model = KerasClassifier(\n",
        "    crear_modelo,\n",
        "    loss_func=\"categorical_crossentropy\",\n",
        "    extra_hidden_layers=1,\n",
        "    last_layer_nodes=1,\n",
        "    activation_func='sigmoid',\n",
        ")"
      ],
      "metadata": {
        "id": "WZKeI8eFPZou"
      }
    },
    {
      "cell_type": "markdown",
      "source": [
        "Definimos los hiperparámetros posibles. Además de los necesarios por la función crear_modelo, agregamos diferentes optimizadores, learning rates y cantidad de épocas."
      ],
      "metadata": {
        "collapsed": false,
        "id": "m-0ixNmiPZou"
      }
    },
    {
      "cell_type": "code",
      "execution_count": 29,
      "outputs": [],
      "source": [
        "param_grid = dict(\n",
        "    extra_hidden_layers=[1, 4],\n",
        "    last_layer_nodes = [5, 10, 20],\n",
        "    activation_func = ['relu', 'softmax'],\n",
        "    batch_size = [750],\n",
        "    epochs = [20],\n",
        "    optimizer__learning_rate = [0.001],\n",
        "    optimizer = [\"adam\", \"sge\"],\n",
        "    loss_func = [\"categorical_crossentropy\"],\n",
        ")\n",
        "\n",
        "gs = GridSearchCV(base_model,\n",
        "                  param_grid = param_grid,\n",
        "                  cv=5,\n",
        "                  scoring=make_scorer(my_categorical_accuracy),\n",
        "                  verbose=0,\n",
        "                  error_score='raise'\n",
        ")"
      ],
      "metadata": {
        "id": "3hB0iV1SPZou"
      }
    },
    {
      "cell_type": "markdown",
      "source": [
        "Entrenamos los diferentes modelos y obtenemos los mejores parámetros."
      ],
      "metadata": {
        "collapsed": false,
        "id": "HWCzUVluPZou"
      }
    },
    {
      "cell_type": "code",
      "execution_count": null,
      "outputs": [],
      "source": [
        "gs.fit(x_train_clasificacion, y_train_clasificacion)\n",
        "print(\"Los parámetros óptimizados fueron: \", gs.best_params_)"
      ],
      "metadata": {
        "id": "SF53hgDBPZou"
      }
    },
    {
      "cell_type": "markdown",
      "source": [
        "Predecimos con el dataset de test"
      ],
      "metadata": {
        "collapsed": false,
        "id": "M2Xh9LAbPZou"
      }
    },
    {
      "cell_type": "code",
      "execution_count": 31,
      "outputs": [
        {
          "output_type": "stream",
          "name": "stdout",
          "text": [
            "25/25 [==============================] - 0s 6ms/step\n"
          ]
        }
      ],
      "source": [
        "y_pr = gs.predict(x_test_clasificacion)"
      ],
      "metadata": {
        "id": "bIQFkTl7PZov",
        "colab": {
          "base_uri": "https://localhost:8080/"
        },
        "outputId": "5d919df8-e99b-4558-e7a1-c1463c29c470"
      }
    },
    {
      "cell_type": "markdown",
      "source": [
        "#### 2.b.4 Métricas\n",
        "Transformamos el array devuelto por el modelo a un dataframe de iguales columnas que y_test_clasificacion"
      ],
      "metadata": {
        "id": "W-KMjjHwaFjg"
      }
    },
    {
      "cell_type": "code",
      "execution_count": 32,
      "outputs": [],
      "source": [
        "y_pr_df = pd.DataFrame(data=y_pr, columns=['alto', 'bajo', 'medio'])"
      ],
      "metadata": {
        "id": "zIBYYeWiPZov"
      }
    },
    {
      "cell_type": "markdown",
      "source": [
        "Calculamos las métricas"
      ],
      "metadata": {
        "collapsed": false,
        "id": "39yU3guNPZov"
      }
    },
    {
      "cell_type": "code",
      "execution_count": 33,
      "outputs": [
        {
          "output_type": "stream",
          "name": "stdout",
          "text": [
            "Accuracy: 0.57\n",
            "Precision: 0.58\n",
            "Recall: 0.5\n",
            "F1 Score: 0.51\n"
          ]
        }
      ],
      "source": [
        "metricas_clasificacion(y_test_clasificacion, y_pr_df)"
      ],
      "metadata": {
        "id": "lf0IKJ61PZov",
        "colab": {
          "base_uri": "https://localhost:8080/"
        },
        "outputId": "99d53f77-e949-49df-bc37-6b6fd26a673c"
      }
    },
    {
      "cell_type": "markdown",
      "source": [
        "#### 2.b.5 Exportación de Datos"
      ],
      "metadata": {
        "id": "5SsWSPw1fJYm"
      }
    },
    {
      "cell_type": "markdown",
      "source": [
        "Finalmente, exportamos el modelo utilizado:"
      ],
      "metadata": {
        "id": "IlgF2MmmfJYn"
      }
    },
    {
      "cell_type": "code",
      "source": [
        "import joblib\n",
        "\n",
        "if IN_COLAB:\n",
        "  path = '/content/drive/MyDrive/📔 Organización de Datos (75.06)/TPS/TP2/MODELOS/Redes_Classifier.joblib'\n",
        "else:\n",
        "  path = './MODELOS/Redes_Classifier.joblib'\n",
        "\n",
        "joblib.dump(gs.best_estimator_, path)"
      ],
      "metadata": {
        "id": "yjKFj8TjfJYn"
      },
      "execution_count": null,
      "outputs": []
    },
    {
      "cell_type": "markdown",
      "source": [
        "## 3. Ensamble de Modelos"
      ],
      "metadata": {
        "collapsed": false,
        "id": "9QwbEkhQPZov"
      }
    },
    {
      "cell_type": "markdown",
      "source": [
        "### 3. a) Voting - Clasificación\n",
        "___"
      ],
      "metadata": {
        "collapsed": false,
        "id": "ChytO6eoPZov"
      }
    },
    {
      "cell_type": "markdown",
      "source": [
        "#### Preparación del dataset"
      ],
      "metadata": {
        "collapsed": false,
        "id": "wCOw5HJUPZov"
      }
    },
    {
      "cell_type": "markdown",
      "source": [
        "Para la parte de ensambles, lo que haremos será utilizar nuevamente el dataset al cual se le aplicó una reducción de su dimensionalidad en el trabajo práctico n°1.\n",
        "\n",
        "Para esto lo que haremos será trabajar con una copia del dataset modificado al inicio del trabajo, el cual usa como base el reducido mencionado anteriormente."
      ],
      "metadata": {
        "collapsed": false,
        "id": "fnhA_b0gPZov"
      }
    },
    {
      "cell_type": "markdown",
      "source": [
        "Para nuestra variable `target`, utilizaremos como convención la misma que fue planteada para el tp1. Ésta consiste en subdividir a la variable pxm2 (precio por metro cuadrado) en 3 intervalos, 25% a bajo, 50% a medio y el otro 25% restante a alto. A su vez, se hará la separación tambien por tipo de propiedad."
      ],
      "metadata": {
        "collapsed": false,
        "id": "4Q-cQ5IvPZow"
      }
    },
    {
      "cell_type": "code",
      "execution_count": 35,
      "outputs": [],
      "source": [
        "x_train_voting = df_train_x.drop([\"id\"], axis=1).copy()\n",
        "y_train_voting = df_train_y_clasificacion.copy()\n",
        "x_test_voting = df_test_x.drop([\"id\"], axis=1).copy()\n",
        "y_test_voting = df_test_y_clasificacion.copy()\n",
        "\n",
        "x_train_voting[['start_date', 'end_date', 'latitud', 'longitud', 'property_rooms', 'property_surface_total']] = zscore(x_train_voting[['start_date', 'end_date', 'latitud', 'longitud', 'property_rooms', 'property_surface_total']], axis=1)\n",
        "\n",
        "x_test_voting[['start_date', 'end_date', 'latitud', 'longitud', 'property_rooms', 'property_surface_total']] = zscore(x_test_voting[['start_date', 'end_date', 'latitud', 'longitud', 'property_rooms', 'property_surface_total']], axis=1)\n",
        "\n",
        "y_train_voting = pd.get_dummies(y_train_voting, columns=['tipo_precio_3'], drop_first=False)\n",
        "y_test_voting = pd.get_dummies(y_test_voting, columns=['tipo_precio_3'], drop_first=False)"
      ],
      "metadata": {
        "id": "P4kFm9TsPZow"
      }
    },
    {
      "cell_type": "code",
      "execution_count": 36,
      "outputs": [
        {
          "output_type": "stream",
          "name": "stdout",
          "text": [
            "Se observaron:\n",
            "- 23227 registros de tipo 'bajo'.\n",
            "- 46459 registros de tipo 'medio'.\n",
            "- 23170 registros de tipo 'alto'.\n"
          ]
        }
      ],
      "source": [
        "bajo = y_train_voting['bajo'].sum() + y_test_voting.bajo.sum()\n",
        "medio = y_train_voting['medio'].sum() + y_test_voting.medio.sum()\n",
        "alto = y_train_voting['alto'].sum() + y_test_voting.alto.sum()\n",
        "\n",
        "print(f\"Se observaron:\")\n",
        "print(f\"- {round(bajo,3)} registros de tipo 'bajo'.\")\n",
        "print(f\"- {round(medio,3)} registros de tipo 'medio'.\")\n",
        "print(f\"- {round(alto,3)} registros de tipo 'alto'.\")"
      ],
      "metadata": {
        "id": "JAQgnlMTPZow",
        "colab": {
          "base_uri": "https://localhost:8080/"
        },
        "outputId": "8eb2c228-739e-4d9c-d62a-5444410e6e0c"
      }
    },
    {
      "cell_type": "markdown",
      "source": [
        "#### Definición del Ensamble"
      ],
      "metadata": {
        "collapsed": false,
        "id": "pjxtXS6pPZow"
      }
    },
    {
      "cell_type": "markdown",
      "source": [
        "Para el tipo de ensamble **voting**, lo que necesitaremos será contar con `n` cantidad de modelos previamente entrenados para luego someterlos a una votación. De la misma, saldrá la clasificación para la nueva instancia en base a lo que indique la mayoría de ellos."
      ],
      "metadata": {
        "collapsed": false,
        "id": "ostUNNxiPZow"
      }
    },
    {
      "cell_type": "markdown",
      "source": [
        "Elegimos tomar como modelos los mismos empleados en el TP1:\n",
        "\n",
        "\n",
        "*   Árbol de Decisión\n",
        "*   Random Forest\n",
        "*   KNN\n",
        "\n"
      ],
      "metadata": {
        "collapsed": false,
        "id": "t7nYFBPZPZow"
      }
    },
    {
      "cell_type": "markdown",
      "source": [
        "En esta línea, cargamos en memoria los modelos previamente guardados:"
      ],
      "metadata": {
        "collapsed": false,
        "id": "JcGm7tkuPZow"
      }
    },
    {
      "cell_type": "code",
      "execution_count": 40,
      "outputs": [],
      "source": [
        "if IN_COLAB:\n",
        "  path = '/content/drive/MyDrive/Orga/MODELOS/DecisionTree_Classifier.joblib'\n",
        "else:\n",
        "  path = './MODELOS/DecisionTree_Classfier.joblib'\n",
        "\n",
        "dcs_clf = load(path)"
      ],
      "metadata": {
        "id": "pX9TUVKTPZow"
      }
    },
    {
      "cell_type": "code",
      "execution_count": 41,
      "outputs": [],
      "source": [
        "if IN_COLAB:\n",
        "  path = '/content/drive/MyDrive/Orga/MODELOS/RandomForest_Classifier.joblib'\n",
        "else:\n",
        "  path = './MODELOS/RandomForest_Classfier.joblib'\n",
        "\n",
        "rnd_clf = load(path)"
      ],
      "metadata": {
        "id": "v8r-BWL8PZow"
      }
    },
    {
      "cell_type": "code",
      "execution_count": 42,
      "outputs": [],
      "source": [
        "if IN_COLAB:\n",
        "  path = '/content/drive/MyDrive/Orga/MODELOS/KNN_Classifier.joblib'\n",
        "else:\n",
        "  path = './MODELOS/KNN_Classfier.joblib'\n",
        "\n",
        "knn_clf = load(path)"
      ],
      "metadata": {
        "id": "MDFEDr5DPZow"
      }
    },
    {
      "cell_type": "markdown",
      "source": [
        "Recordemos que estos modelos fueron optimizados con los siguientes hiperparámetros y valores:\n",
        "\n",
        "- **Decision Tree**:\n",
        "    * ccp_alpha: 0.0001\n",
        "    * criterion: gini\n",
        "    * max_depth: 21\n",
        "- **Random Forest**:\n",
        "    * ccp_alpha: 0.0001\n",
        "    * criterion: entropy\n",
        "    * max_depth: 25\n",
        "    * n_estimators: 55\n",
        "- **K Nearest Neighbors**:\n",
        "    * algorithm: kd_tree\n",
        "    * leaf_size: 5\n",
        "    * n_jobs: -1\n",
        "    * n_neighbors: 3\n",
        "    * weights: distance"
      ],
      "metadata": {
        "collapsed": false,
        "id": "2Oyw6dSyPZox"
      }
    },
    {
      "cell_type": "markdown",
      "source": [
        "Una vez que contamos con los modelos que vamos a utilizar en el ensamble, procedemos a su creación. En este caso particular decidimos utilizar el tipo de votación `hard` el cual utilizará la regla de la mayoría. Por otro lado, utilizamos el hiperparámetro `estimators` para definir como nos vamos a referir a dichos modelos."
      ],
      "metadata": {
        "collapsed": false,
        "id": "spPtPpcoPZox"
      }
    },
    {
      "cell_type": "code",
      "execution_count": 43,
      "outputs": [],
      "source": [
        "vot_clf = VotingClassifier(estimators = [('dcs', dcs_clf), ('rnd', rnd_clf), ('knn', knn_clf)], voting = 'hard')"
      ],
      "metadata": {
        "id": "8gydX0PSPZox"
      }
    },
    {
      "cell_type": "markdown",
      "source": [
        "#### Entrenamiento y Predicción"
      ],
      "metadata": {
        "collapsed": false,
        "id": "3uorz-6MPZox"
      }
    },
    {
      "cell_type": "markdown",
      "source": [
        "Reorganizamos los valores predichos para que queden en una sola columna. Luego, procedemos a comparar con el conjunto de prueba:"
      ],
      "metadata": {
        "collapsed": false,
        "id": "w_yA7TEuPZox"
      }
    },
    {
      "cell_type": "code",
      "execution_count": 44,
      "outputs": [],
      "source": [
        "y_train_voting_arr = np.apply_along_axis(convert_b_m_a, axis=1, arr=y_train_voting)"
      ],
      "metadata": {
        "id": "YCz23gLJPZox"
      }
    },
    {
      "cell_type": "markdown",
      "source": [
        "Seguimos reacomodando los valores para poder calcular las métricas correspondientes, notemos que no pueden guardarse valores equivalentes al string 'medio' en el array:"
      ],
      "metadata": {
        "collapsed": false,
        "id": "RGTCjvVgPZox"
      }
    },
    {
      "cell_type": "code",
      "execution_count": 45,
      "outputs": [
        {
          "output_type": "execute_result",
          "data": {
            "text/plain": [
              "array(['alto', 'bajo', 'medio'], dtype='<U5')"
            ]
          },
          "metadata": {},
          "execution_count": 45
        }
      ],
      "source": [
        "np.unique(y_train_voting_arr)"
      ],
      "metadata": {
        "id": "c_DHW8FBPZox",
        "colab": {
          "base_uri": "https://localhost:8080/"
        },
        "outputId": "126d654a-f2a4-4f53-8940-0bc83b293577"
      }
    },
    {
      "cell_type": "markdown",
      "source": [
        "Aplicamos estrategias de transformación de datos:"
      ],
      "metadata": {
        "collapsed": false,
        "id": "BJjeTZKFPZox"
      }
    },
    {
      "cell_type": "code",
      "execution_count": 46,
      "outputs": [],
      "source": [
        "y_train_voting_arr = np.where(y_train_voting_arr == 'medi', 'medio', y_train_voting_arr)"
      ],
      "metadata": {
        "id": "GncojlgOPZox"
      }
    },
    {
      "cell_type": "code",
      "execution_count": 47,
      "outputs": [
        {
          "output_type": "execute_result",
          "data": {
            "text/plain": [
              "array(['alto', 'bajo', 'medio'], dtype='<U5')"
            ]
          },
          "metadata": {},
          "execution_count": 47
        }
      ],
      "source": [
        "np.unique(y_train_voting_arr)"
      ],
      "metadata": {
        "id": "wDybkTtCPZox",
        "colab": {
          "base_uri": "https://localhost:8080/"
        },
        "outputId": "c3aa7ead-5f15-4e4a-825c-d281c778d823"
      }
    },
    {
      "cell_type": "markdown",
      "source": [
        "Finalmente, `entrenamos` el ensamble:"
      ],
      "metadata": {
        "collapsed": false,
        "id": "LWCXlmMZPZox"
      }
    },
    {
      "cell_type": "code",
      "execution_count": 48,
      "outputs": [
        {
          "output_type": "execute_result",
          "data": {
            "text/plain": [
              "VotingClassifier(estimators=[('dcs',\n",
              "                              DecisionTreeClassifier(ccp_alpha=0.0001,\n",
              "                                                     max_depth=21)),\n",
              "                             ('rnd',\n",
              "                              RandomForestClassifier(ccp_alpha=0.0001,\n",
              "                                                     criterion='entropy',\n",
              "                                                     max_depth=25,\n",
              "                                                     n_estimators=55,\n",
              "                                                     random_state=5)),\n",
              "                             ('knn',\n",
              "                              KNeighborsClassifier(algorithm='kd_tree',\n",
              "                                                   leaf_size=5, n_jobs=-1,\n",
              "                                                   n_neighbors=3,\n",
              "                                                   weights='distance'))])"
            ]
          },
          "metadata": {},
          "execution_count": 48
        }
      ],
      "source": [
        "vot_clf.fit(x_train_voting, y_train_voting_arr)"
      ],
      "metadata": {
        "id": "RyrlNxZGPZoy",
        "colab": {
          "base_uri": "https://localhost:8080/"
        },
        "outputId": "dd02960f-c748-4f99-a92c-679839300b0a"
      }
    },
    {
      "cell_type": "code",
      "execution_count": 49,
      "outputs": [],
      "source": [
        "y_pred_voting = vot_clf.predict(x_test_voting)"
      ],
      "metadata": {
        "id": "xOgaNzg3PZoy"
      }
    },
    {
      "cell_type": "markdown",
      "source": [
        "Reaplicamos la reorganización de valores para el dataset de test:"
      ],
      "metadata": {
        "collapsed": false,
        "id": "YWPoFhBxPZoy"
      }
    },
    {
      "cell_type": "code",
      "execution_count": 50,
      "outputs": [],
      "source": [
        "y_test_voting_arr = np.apply_along_axis(convert_b_m_a, axis=1, arr=y_test_voting)"
      ],
      "metadata": {
        "id": "9xXHwx8kPZoy"
      }
    },
    {
      "cell_type": "code",
      "execution_count": 51,
      "outputs": [
        {
          "output_type": "execute_result",
          "data": {
            "text/plain": [
              "array(['alto', 'bajo', 'medio'], dtype='<U5')"
            ]
          },
          "metadata": {},
          "execution_count": 51
        }
      ],
      "source": [
        "np.unique(y_test_voting_arr)"
      ],
      "metadata": {
        "id": "SGS9LF1jPZoy",
        "colab": {
          "base_uri": "https://localhost:8080/"
        },
        "outputId": "d7b1daea-f2df-4e05-a235-28f514e875d0"
      }
    },
    {
      "cell_type": "markdown",
      "source": [
        "#### Métricas"
      ],
      "metadata": {
        "collapsed": false,
        "id": "_aYLhQQAPZoy"
      }
    },
    {
      "cell_type": "markdown",
      "source": [
        "Para poder determinar que tan bueno resulto el modelo, lo que haremos será observar las `métricas` resultantes de una predicción con los datos de test. Recordemos que nuestras funciones de metricas fueron definidas al inicio de este trabajo."
      ],
      "metadata": {
        "collapsed": false,
        "id": "gCdbDYDFPZoy"
      }
    },
    {
      "cell_type": "code",
      "execution_count": 52,
      "outputs": [
        {
          "output_type": "stream",
          "name": "stdout",
          "text": [
            "Accuracy: 0.63\n",
            "Precision: 0.65\n",
            "Recall: 0.57\n",
            "F1 Score: 0.59\n"
          ]
        }
      ],
      "source": [
        "metricas_clasificacion(y_test_voting_arr, y_pred_voting)"
      ],
      "metadata": {
        "id": "koSGk_mMPZoy",
        "colab": {
          "base_uri": "https://localhost:8080/"
        },
        "outputId": "0b727436-6428-4538-83c6-5d5aedb0116c"
      }
    },
    {
      "cell_type": "markdown",
      "source": [
        "Como se puede observar, el ensamble resultante predice bastante bien, aunque podriamos obtener mejores métricas. Si bien el Accuracy y la precision son buenas, al momento de calcular el recall tenemos un valor un poco menor, el cual repercute directamente en el F1 Score ya que como sabemos este tiene en cuenta las métricas tanto de Precision como Recall."
      ],
      "metadata": {
        "collapsed": false,
        "id": "ll1oYOLBPZoy"
      }
    },
    {
      "cell_type": "markdown",
      "source": [
        "A su vez, también podemos visualizar los mismos a través de la siguiente matriz de confusión."
      ],
      "metadata": {
        "collapsed": false,
        "id": "88_SbxGaPZoy"
      }
    },
    {
      "cell_type": "code",
      "execution_count": 53,
      "outputs": [
        {
          "output_type": "execute_result",
          "data": {
            "text/plain": [
              "Text(33.0, 0.5, 'True')"
            ]
          },
          "metadata": {},
          "execution_count": 53
        },
        {
          "output_type": "display_data",
          "data": {
            "text/plain": [
              "<Figure size 432x288 with 2 Axes>"
            ],
            "image/png": "[encoded data removed]"
          },
          "metadata": {
            "needs_background": "light"
          }
        }
      ],
      "source": [
        "matrix = confusion_matrix(y_test_voting_arr, y_pred_voting)\n",
        "sns.heatmap(matrix,cmap='GnBu',annot=True,fmt='g')\n",
        "plt.xlabel('Predicted')\n",
        "plt.ylabel('True')"
      ],
      "metadata": {
        "id": "Du1YZ07VPZoy",
        "colab": {
          "base_uri": "https://localhost:8080/",
          "height": 296
        },
        "outputId": "22a7095a-b949-43cd-fae0-cc8029f168b7"
      }
    },
    {
      "cell_type": "markdown",
      "source": [
        "Nuevamente aqui se puede observar que la celda que presenta mayores valores por una amplia diferencia es la `[0][0]`. Notemos que las que le siguen en cantidad se ubican en `[1][0]` y `[2][0]`, las cuales hacen que las métricas decrementen su valor. Cercano a estos valores esta la celda de `[2][2]` en donde volvemos a tener saldo positivo, al igual que cuando tenemos en cuenta la `[1][1]` que por mas que sean algunos registros menos, sigue siendo una cantidad significante. Concluimos luego que los resultados se correlacionan con la matríz de confusión."
      ],
      "metadata": {
        "collapsed": false,
        "id": "mYNtEqqRPZoy"
      }
    },
    {
      "cell_type": "markdown",
      "source": [
        "#### Exportación de Datos"
      ],
      "metadata": {
        "collapsed": false,
        "id": "8sHV61zCPZoz"
      }
    },
    {
      "cell_type": "markdown",
      "source": [
        "Finalmente, exportamos el ensamble utilizado:"
      ],
      "metadata": {
        "collapsed": false,
        "id": "2pdm5wcIPZoz"
      }
    },
    {
      "cell_type": "code",
      "execution_count": 54,
      "outputs": [
        {
          "output_type": "execute_result",
          "data": {
            "text/plain": [
              "['/content/drive/MyDrive/Orga/MODELOS/Voting_Classifier.joblib']"
            ]
          },
          "metadata": {},
          "execution_count": 54
        }
      ],
      "source": [
        "if IN_COLAB:\n",
        "  path = '/content/drive/MyDrive/Orga/MODELOS/Voting_Classifier.joblib'\n",
        "else:\n",
        "  path = './MODELOS/Voting_Classifier.joblib'\n",
        "\n",
        "dump(vot_clf, path)"
      ],
      "metadata": {
        "id": "gXdLfREDPZo1",
        "colab": {
          "base_uri": "https://localhost:8080/"
        },
        "outputId": "848e1f21-565f-49ad-a7ef-0f0b8587eb7a"
      }
    },
    {
      "cell_type": "markdown",
      "source": [
        "### 3. b) Stacking - Regresión\n",
        "___"
      ],
      "metadata": {
        "collapsed": false,
        "id": "JWcJ1CUUPZo1"
      }
    },
    {
      "cell_type": "markdown",
      "source": [
        "#### Preparación del dataset"
      ],
      "metadata": {
        "collapsed": false,
        "id": "OObDM5-4PZo1"
      }
    },
    {
      "cell_type": "markdown",
      "source": [
        "Nuevamente, utilizamos los datasets de train y test previamente definidos:"
      ],
      "metadata": {
        "collapsed": false,
        "id": "4JPv2mhCPZo1"
      }
    },
    {
      "cell_type": "code",
      "execution_count": 30,
      "outputs": [],
      "source": [
        "x_train_stacking = df_train_x.drop([\"id\"], axis=1).copy()\n",
        "y_train_stacking = df_train_y_regresion.copy()\n",
        "x_test_stacking = df_test_x.drop([\"id\"], axis=1).copy()\n",
        "y_test_stacking = df_test_y_regresion.copy()\n",
        "\n",
        "x_train_stacking[['start_date', 'end_date', 'latitud', 'longitud', 'property_rooms', 'property_surface_total']] = zscore(x_train_stacking[['start_date', 'end_date', 'latitud', 'longitud', 'property_rooms', 'property_surface_total']], axis=1)\n",
        "\n",
        "x_test_stacking[['start_date', 'end_date', 'latitud', 'longitud', 'property_rooms', 'property_surface_total']] = zscore(x_test_stacking[['start_date', 'end_date', 'latitud', 'longitud', 'property_rooms', 'property_surface_total']], axis=1)"
      ],
      "metadata": {
        "id": "mbIHSVT5PZo1"
      }
    },
    {
      "cell_type": "markdown",
      "source": [
        "#### Definición del Ensamble\n"
      ],
      "metadata": {
        "collapsed": false,
        "id": "iEAyR6pzPZo1"
      }
    },
    {
      "cell_type": "markdown",
      "source": [
        "Lo que haremos en esta nueva sección, será implementar un nuevo tipo de ensable híbrido con la salvedad de que esta vez utilizaremos el tipo `cascading`.\n",
        "El mismo se basa en el entrenamiento de distintos `modelos base`, y a su vez utilizará un `meta-modelo` el cual realizará su predicción en base a las predicciones de los diferentes modelos comentados anteriormente.\n",
        "\n",
        "Como es indicado por el enunciado del trabajo se utilizarán modelos de regresión. En particular, decidimos trabajar con:\n",
        "\n",
        "\n",
        "*   KNN\n",
        "*   XGBoost\n",
        "*   AdaBoost\n",
        "\n"
      ],
      "metadata": {
        "collapsed": false,
        "id": "7mvRUXVWPZo1"
      }
    },
    {
      "cell_type": "markdown",
      "source": [
        "En esta línea, cargamos en memoria los modelos previamente guardados del TP1 realizado con anterioridad:"
      ],
      "metadata": {
        "collapsed": false,
        "id": "h1otDqeRPZo1"
      }
    },
    {
      "cell_type": "code",
      "execution_count": 31,
      "outputs": [],
      "source": [
        "if IN_COLAB:\n",
        "  path = '/content/drive/MyDrive/Orga/MODELOS/KNN_Regressor_Train.joblib'\n",
        "else:\n",
        "  path = './MODELOS/KNN_Regressor_Train.joblib'\n",
        "\n",
        "knn_rgs = load(path)"
      ],
      "metadata": {
        "id": "hoCE2iH-PZo1"
      }
    },
    {
      "cell_type": "code",
      "execution_count": 32,
      "outputs": [
        {
          "output_type": "stream",
          "name": "stdout",
          "text": [
            "[22:28:29] WARNING: /workspace/src/objective/regression_obj.cu:152: reg:linear is now deprecated in favor of reg:squarederror.\n"
          ]
        }
      ],
      "source": [
        "if IN_COLAB:\n",
        "  path = '/content/drive/MyDrive/Orga/MODELOS/XGB_Regressor_Train.joblib'\n",
        "else:\n",
        "  path = './MODELOS/XGB_Regressor_Train.joblib'\n",
        "\n",
        "xgb_rgs = load(path)"
      ],
      "metadata": {
        "id": "Jx6LJtO4PZo2",
        "colab": {
          "base_uri": "https://localhost:8080/"
        },
        "outputId": "8cac5ff5-daeb-4efc-b66a-f6daebba2d48"
      }
    },
    {
      "cell_type": "code",
      "execution_count": 33,
      "outputs": [],
      "source": [
        "if IN_COLAB:\n",
        "  path = '/content/drive/MyDrive/Orga/MODELOS/AdaB_Regressor_Train.joblib'\n",
        "else:\n",
        "  path = './MODELOS/AdaB_Regressor_Train.joblib'\n",
        "\n",
        "adb_rgs = load(path)"
      ],
      "metadata": {
        "id": "ySDRt6TDPZo2"
      }
    },
    {
      "cell_type": "markdown",
      "source": [
        "A modo de recordatorio, enunciamos los hiperparámetros con los que estos modelos fueron optimizados:\n",
        "\n",
        "- **K Nearest Neighbors**:\n",
        "    * weights: uniform\n",
        "    * n_neighbors: 51\n",
        "    * metric: chebyshev\n",
        "    * leaf_size: 22\n",
        "    * algorithm: ball_tree\n",
        "- **Extreme Gradient Boosting**:\n",
        "    * min_child_weight: 5\n",
        "    * max_depth: 6\n",
        "    * learning_rate: 0.3\n",
        "    * gamma: 0.1\n",
        "    * colsample_bytree: 0.3\n",
        "- **Adaptive Boosting**:\n",
        "    * n_estimators: 10\n",
        "    * learning_rate: 1.02"
      ],
      "metadata": {
        "collapsed": false,
        "id": "XhibVa52PZo2"
      }
    },
    {
      "cell_type": "markdown",
      "source": [
        "Luego utilizamos los mismos para definir nuestro modelo base, en el cual luego se basará el meta-modelo."
      ],
      "metadata": {
        "collapsed": false,
        "id": "BnKLxWe2PZo2"
      }
    },
    {
      "cell_type": "code",
      "execution_count": 34,
      "outputs": [],
      "source": [
        "base_models = [('KNN', knn_rgs),\n",
        "               ('XGBoost', xgb_rgs),\n",
        "               ('AdaBoost', adb_rgs)]"
      ],
      "metadata": {
        "id": "dwXiuyrwPZo2"
      }
    },
    {
      "cell_type": "markdown",
      "source": [
        "Como mencionamos, a continuación los utilizaremos para definir nuestro meta-modelo. Para este último, decidimos emplear el modelo de regresión logistica."
      ],
      "metadata": {
        "collapsed": false,
        "id": "BSMIzq8VPZo2"
      }
    },
    {
      "cell_type": "code",
      "execution_count": 35,
      "outputs": [],
      "source": [
        "from sklearn.ensemble import GradientBoostingRegressor\n",
        "\n",
        "meta_model = GradientBoostingRegressor()"
      ],
      "metadata": {
        "id": "dbaiXhBYPZo2"
      }
    },
    {
      "cell_type": "markdown",
      "source": [
        "Creamos nuestro ensamble indicando como modelos estimadores Knn, XGBoost y AdaBoost, y como estimador final el modelo de Regresión Lineal."
      ],
      "metadata": {
        "collapsed": false,
        "id": "EWOEJJYHPZo2"
      }
    },
    {
      "cell_type": "code",
      "execution_count": 36,
      "outputs": [],
      "source": [
        "s = 5\n",
        "n = 2"
      ],
      "metadata": {
        "id": "74G2aabvPZo2"
      }
    },
    {
      "cell_type": "code",
      "execution_count": 37,
      "outputs": [],
      "source": [
        "stacking_model = StackingRegressor(estimators=base_models,\n",
        "                                    final_estimator=meta_model,\n",
        "                                    passthrough=True,\n",
        "                                    cv=s,\n",
        "                                    verbose=n)"
      ],
      "metadata": {
        "id": "ffyEVBFkPZo3"
      }
    },
    {
      "cell_type": "markdown",
      "source": [
        "#### Entrenamiento y Predicción"
      ],
      "metadata": {
        "collapsed": false,
        "id": "FquzEpXaPZo3"
      }
    },
    {
      "cell_type": "markdown",
      "source": [
        "Una vez conformado el ensamble que decidimos utilizar, ahora si estamos en condiciones de pasar a realizar su entrenamiento."
      ],
      "metadata": {
        "collapsed": false,
        "id": "QoTJpi5LPZo3"
      }
    },
    {
      "cell_type": "code",
      "execution_count": 38,
      "outputs": [
        {
          "output_type": "stream",
          "name": "stdout",
          "text": [
            "Evaluating KNN\n"
          ]
        },
        {
          "output_type": "stream",
          "name": "stderr",
          "text": [
            "[Parallel(n_jobs=3)]: Using backend LokyBackend with 3 concurrent workers.\n",
            "[Parallel(n_jobs=3)]: Done  10 out of  10 | elapsed:   57.4s finished\n",
            "[Parallel(n_jobs=3)]: Using backend LokyBackend with 3 concurrent workers.\n"
          ]
        },
        {
          "output_type": "stream",
          "name": "stdout",
          "text": [
            "Evaluating XGBoost\n"
          ]
        },
        {
          "output_type": "stream",
          "name": "stderr",
          "text": [
            "[Parallel(n_jobs=3)]: Done  10 out of  10 | elapsed:   15.6s finished\n",
            "[Parallel(n_jobs=3)]: Using backend LokyBackend with 3 concurrent workers.\n"
          ]
        },
        {
          "output_type": "stream",
          "name": "stdout",
          "text": [
            "Evaluating AdaBoost\n"
          ]
        },
        {
          "output_type": "stream",
          "name": "stderr",
          "text": [
            "[Parallel(n_jobs=3)]: Done  10 out of  10 | elapsed:    4.3s finished\n"
          ]
        }
      ],
      "source": [
        "model_scores = defaultdict()\n",
        "\n",
        "for name, model in base_models:\n",
        "    print('Evaluating {}'.format(name))\n",
        "    scores = evaluate_model(model, x_test_stacking, y_test_stacking, s, n)\n",
        "    model_scores[name] = scores"
      ],
      "metadata": {
        "id": "A4ZN8Fv0PZo3",
        "colab": {
          "base_uri": "https://localhost:8080/"
        },
        "outputId": "18a24b2e-090b-4aad-9615-1d1e1d449e1b"
      }
    },
    {
      "cell_type": "markdown",
      "source": [
        "Una vez que realizamos una iteración por cada uno de los modelos base, evaluamos cómo resultaron los scores de los mismos a través del siguiente gráfico. En éste se puede apreciar la relación de cada uno de los modelos, y a su vez tener una noción concreta de sus principales métricas (mediana, q1, q3, mánimo y máximo)."
      ],
      "metadata": {
        "collapsed": false,
        "id": "VgP0A9MrPZo3"
      }
    },
    {
      "cell_type": "code",
      "execution_count": 39,
      "outputs": [
        {
          "output_type": "display_data",
          "data": {
            "text/html": [
              "<html>\n",
              "<head><meta charset=\"utf-8\" /></head>\n",
              "<body>\n",
              "    <div>            <script src=\"https://cdnjs.cloudflare.com/ajax/libs/mathjax/2.7.5/MathJax.js?config=TeX-AMS-MML_SVG\"></script><script type=\"text/javascript\">if (window.MathJax) {MathJax.Hub.Config({SVG: {font: \"STIX-Web\"}});}</script>                <script type=\"text/javascript\">window.PlotlyConfig = {MathJaxConfig: 'local'};</script>\n",
              "        <script src=\"https://cdn.plot.ly/plotly-2.8.3.min.js\"></script>                <div id=\"55d26992-cc81-43a6-83bd-51eda8bda1c8\" class=\"plotly-graph-div\" style=\"height:525px; width:100%;\"></div>            <script type=\"text/javascript\">                                    window.PLOTLYENV=window.PLOTLYENV || {};                                    if (document.getElementById(\"55d26992-cc81-43a6-83bd-51eda8bda1c8\")) {                    Plotly.newPlot(                        \"55d26992-cc81-43a6-83bd-51eda8bda1c8\",                        [{\"boxpoints\":\"all\",\"jitter\":0.5,\"line\":{\"width\":1},\"marker\":{\"size\":2},\"name\":\"KNN\",\"whiskerwidth\":0.2,\"y\":[-185963004483.7557,-68799731559.19135,-31966055061.39237,-23767361115.37678,-153897605568.47595,-182517015126.39587,-50034745326.81,-34990057885.146194,-37184306412.82666,-155052805970.77158],\"type\":\"box\"},{\"boxpoints\":\"all\",\"jitter\":0.5,\"line\":{\"width\":1},\"marker\":{\"size\":2},\"name\":\"XGBoost\",\"whiskerwidth\":0.2,\"y\":[-46286511559.03899,-94240710892.54251,-52371975907.91976,-16734045004.161938,-149265491410.5856,-42067002902.53807,-82807392930.15173,-29614572593.80047,-23256813451.559788,-145793948071.89648],\"type\":\"box\"},{\"boxpoints\":\"all\",\"jitter\":0.5,\"line\":{\"width\":1},\"marker\":{\"size\":2},\"name\":\"AdaBoost\",\"whiskerwidth\":0.2,\"y\":[-69813219358.78711,-105830915601.90486,-63960695438.04631,-48786266189.672165,-176730795685.08652,-73215008700.0675,-64484294224.04944,-63402254689.5423,-48627247616.92824,-166862642536.393],\"type\":\"box\"}],                        {\"template\":{\"data\":{\"bar\":[{\"error_x\":{\"color\":\"#2a3f5f\"},\"error_y\":{\"color\":\"#2a3f5f\"},\"marker\":{\"line\":{\"color\":\"#E5ECF6\",\"width\":0.5},\"pattern\":{\"fillmode\":\"overlay\",\"size\":10,\"solidity\":0.2}},\"type\":\"bar\"}],\"barpolar\":[{\"marker\":{\"line\":{\"color\":\"#E5ECF6\",\"width\":0.5},\"pattern\":{\"fillmode\":\"overlay\",\"size\":10,\"solidity\":0.2}},\"type\":\"barpolar\"}],\"carpet\":[{\"aaxis\":{\"endlinecolor\":\"#2a3f5f\",\"gridcolor\":\"white\",\"linecolor\":\"white\",\"minorgridcolor\":\"white\",\"startlinecolor\":\"#2a3f5f\"},\"baxis\":{\"endlinecolor\":\"#2a3f5f\",\"gridcolor\":\"white\",\"linecolor\":\"white\",\"minorgridcolor\":\"white\",\"startlinecolor\":\"#2a3f5f\"},\"type\":\"carpet\"}],\"choropleth\":[{\"colorbar\":{\"outlinewidth\":0,\"ticks\":\"\"},\"type\":\"choropleth\"}],\"contour\":[{\"colorbar\":{\"outlinewidth\":0,\"ticks\":\"\"},\"colorscale\":[[0.0,\"#0d0887\"],[0.1111111111111111,\"#46039f\"],[0.2222222222222222,\"#7201a8\"],[0.3333333333333333,\"#9c179e\"],[0.4444444444444444,\"#bd3786\"],[0.5555555555555556,\"#d8576b\"],[0.6666666666666666,\"#ed7953\"],[0.7777777777777778,\"#fb9f3a\"],[0.8888888888888888,\"#fdca26\"],[1.0,\"#f0f921\"]],\"type\":\"contour\"}],\"contourcarpet\":[{\"colorbar\":{\"outlinewidth\":0,\"ticks\":\"\"},\"type\":\"contourcarpet\"}],\"heatmap\":[{\"colorbar\":{\"outlinewidth\":0,\"ticks\":\"\"},\"colorscale\":[[0.0,\"#0d0887\"],[0.1111111111111111,\"#46039f\"],[0.2222222222222222,\"#7201a8\"],[0.3333333333333333,\"#9c179e\"],[0.4444444444444444,\"#bd3786\"],[0.5555555555555556,\"#d8576b\"],[0.6666666666666666,\"#ed7953\"],[0.7777777777777778,\"#fb9f3a\"],[0.8888888888888888,\"#fdca26\"],[1.0,\"#f0f921\"]],\"type\":\"heatmap\"}],\"heatmapgl\":[{\"colorbar\":{\"outlinewidth\":0,\"ticks\":\"\"},\"colorscale\":[[0.0,\"#0d0887\"],[0.1111111111111111,\"#46039f\"],[0.2222222222222222,\"#7201a8\"],[0.3333333333333333,\"#9c179e\"],[0.4444444444444444,\"#bd3786\"],[0.5555555555555556,\"#d8576b\"],[0.6666666666666666,\"#ed7953\"],[0.7777777777777778,\"#fb9f3a\"],[0.8888888888888888,\"#fdca26\"],[1.0,\"#f0f921\"]],\"type\":\"heatmapgl\"}],\"histogram\":[{\"marker\":{\"pattern\":{\"fillmode\":\"overlay\",\"size\":10,\"solidity\":0.2}},\"type\":\"histogram\"}],\"histogram2d\":[{\"colorbar\":{\"outlinewidth\":0,\"ticks\":\"\"},\"colorscale\":[[0.0,\"#0d0887\"],[0.1111111111111111,\"#46039f\"],[0.2222222222222222,\"#7201a8\"],[0.3333333333333333,\"#9c179e\"],[0.4444444444444444,\"#bd3786\"],[0.5555555555555556,\"#d8576b\"],[0.6666666666666666,\"#ed7953\"],[0.7777777777777778,\"#fb9f3a\"],[0.8888888888888888,\"#fdca26\"],[1.0,\"#f0f921\"]],\"type\":\"histogram2d\"}],\"histogram2dcontour\":[{\"colorbar\":{\"outlinewidth\":0,\"ticks\":\"\"},\"colorscale\":[[0.0,\"#0d0887\"],[0.1111111111111111,\"#46039f\"],[0.2222222222222222,\"#7201a8\"],[0.3333333333333333,\"#9c179e\"],[0.4444444444444444,\"#bd3786\"],[0.5555555555555556,\"#d8576b\"],[0.6666666666666666,\"#ed7953\"],[0.7777777777777778,\"#fb9f3a\"],[0.8888888888888888,\"#fdca26\"],[1.0,\"#f0f921\"]],\"type\":\"histogram2dcontour\"}],\"mesh3d\":[{\"colorbar\":{\"outlinewidth\":0,\"ticks\":\"\"},\"type\":\"mesh3d\"}],\"parcoords\":[{\"line\":{\"colorbar\":{\"outlinewidth\":0,\"ticks\":\"\"}},\"type\":\"parcoords\"}],\"pie\":[{\"automargin\":true,\"type\":\"pie\"}],\"scatter\":[{\"marker\":{\"colorbar\":{\"outlinewidth\":0,\"ticks\":\"\"}},\"type\":\"scatter\"}],\"scatter3d\":[{\"line\":{\"colorbar\":{\"outlinewidth\":0,\"ticks\":\"\"}},\"marker\":{\"colorbar\":{\"outlinewidth\":0,\"ticks\":\"\"}},\"type\":\"scatter3d\"}],\"scattercarpet\":[{\"marker\":{\"colorbar\":{\"outlinewidth\":0,\"ticks\":\"\"}},\"type\":\"scattercarpet\"}],\"scattergeo\":[{\"marker\":{\"colorbar\":{\"outlinewidth\":0,\"ticks\":\"\"}},\"type\":\"scattergeo\"}],\"scattergl\":[{\"marker\":{\"colorbar\":{\"outlinewidth\":0,\"ticks\":\"\"}},\"type\":\"scattergl\"}],\"scattermapbox\":[{\"marker\":{\"colorbar\":{\"outlinewidth\":0,\"ticks\":\"\"}},\"type\":\"scattermapbox\"}],\"scatterpolar\":[{\"marker\":{\"colorbar\":{\"outlinewidth\":0,\"ticks\":\"\"}},\"type\":\"scatterpolar\"}],\"scatterpolargl\":[{\"marker\":{\"colorbar\":{\"outlinewidth\":0,\"ticks\":\"\"}},\"type\":\"scatterpolargl\"}],\"scatterternary\":[{\"marker\":{\"colorbar\":{\"outlinewidth\":0,\"ticks\":\"\"}},\"type\":\"scatterternary\"}],\"surface\":[{\"colorbar\":{\"outlinewidth\":0,\"ticks\":\"\"},\"colorscale\":[[0.0,\"#0d0887\"],[0.1111111111111111,\"#46039f\"],[0.2222222222222222,\"#7201a8\"],[0.3333333333333333,\"#9c179e\"],[0.4444444444444444,\"#bd3786\"],[0.5555555555555556,\"#d8576b\"],[0.6666666666666666,\"#ed7953\"],[0.7777777777777778,\"#fb9f3a\"],[0.8888888888888888,\"#fdca26\"],[1.0,\"#f0f921\"]],\"type\":\"surface\"}],\"table\":[{\"cells\":{\"fill\":{\"color\":\"#EBF0F8\"},\"line\":{\"color\":\"white\"}},\"header\":{\"fill\":{\"color\":\"#C8D4E3\"},\"line\":{\"color\":\"white\"}},\"type\":\"table\"}]},\"layout\":{\"annotationdefaults\":{\"arrowcolor\":\"#2a3f5f\",\"arrowhead\":0,\"arrowwidth\":1},\"autotypenumbers\":\"strict\",\"coloraxis\":{\"colorbar\":{\"outlinewidth\":0,\"ticks\":\"\"}},\"colorscale\":{\"diverging\":[[0,\"#8e0152\"],[0.1,\"#c51b7d\"],[0.2,\"#de77ae\"],[0.3,\"#f1b6da\"],[0.4,\"#fde0ef\"],[0.5,\"#f7f7f7\"],[0.6,\"#e6f5d0\"],[0.7,\"#b8e186\"],[0.8,\"#7fbc41\"],[0.9,\"#4d9221\"],[1,\"#276419\"]],\"sequential\":[[0.0,\"#0d0887\"],[0.1111111111111111,\"#46039f\"],[0.2222222222222222,\"#7201a8\"],[0.3333333333333333,\"#9c179e\"],[0.4444444444444444,\"#bd3786\"],[0.5555555555555556,\"#d8576b\"],[0.6666666666666666,\"#ed7953\"],[0.7777777777777778,\"#fb9f3a\"],[0.8888888888888888,\"#fdca26\"],[1.0,\"#f0f921\"]],\"sequentialminus\":[[0.0,\"#0d0887\"],[0.1111111111111111,\"#46039f\"],[0.2222222222222222,\"#7201a8\"],[0.3333333333333333,\"#9c179e\"],[0.4444444444444444,\"#bd3786\"],[0.5555555555555556,\"#d8576b\"],[0.6666666666666666,\"#ed7953\"],[0.7777777777777778,\"#fb9f3a\"],[0.8888888888888888,\"#fdca26\"],[1.0,\"#f0f921\"]]},\"colorway\":[\"#636efa\",\"#EF553B\",\"#00cc96\",\"#ab63fa\",\"#FFA15A\",\"#19d3f3\",\"#FF6692\",\"#B6E880\",\"#FF97FF\",\"#FECB52\"],\"font\":{\"color\":\"#2a3f5f\"},\"geo\":{\"bgcolor\":\"white\",\"lakecolor\":\"white\",\"landcolor\":\"#E5ECF6\",\"showlakes\":true,\"showland\":true,\"subunitcolor\":\"white\"},\"hoverlabel\":{\"align\":\"left\"},\"hovermode\":\"closest\",\"mapbox\":{\"style\":\"light\"},\"paper_bgcolor\":\"white\",\"plot_bgcolor\":\"#E5ECF6\",\"polar\":{\"angularaxis\":{\"gridcolor\":\"white\",\"linecolor\":\"white\",\"ticks\":\"\"},\"bgcolor\":\"#E5ECF6\",\"radialaxis\":{\"gridcolor\":\"white\",\"linecolor\":\"white\",\"ticks\":\"\"}},\"scene\":{\"xaxis\":{\"backgroundcolor\":\"#E5ECF6\",\"gridcolor\":\"white\",\"gridwidth\":2,\"linecolor\":\"white\",\"showbackground\":true,\"ticks\":\"\",\"zerolinecolor\":\"white\"},\"yaxis\":{\"backgroundcolor\":\"#E5ECF6\",\"gridcolor\":\"white\",\"gridwidth\":2,\"linecolor\":\"white\",\"showbackground\":true,\"ticks\":\"\",\"zerolinecolor\":\"white\"},\"zaxis\":{\"backgroundcolor\":\"#E5ECF6\",\"gridcolor\":\"white\",\"gridwidth\":2,\"linecolor\":\"white\",\"showbackground\":true,\"ticks\":\"\",\"zerolinecolor\":\"white\"}},\"shapedefaults\":{\"line\":{\"color\":\"#2a3f5f\"}},\"ternary\":{\"aaxis\":{\"gridcolor\":\"white\",\"linecolor\":\"white\",\"ticks\":\"\"},\"baxis\":{\"gridcolor\":\"white\",\"linecolor\":\"white\",\"ticks\":\"\"},\"bgcolor\":\"#E5ECF6\",\"caxis\":{\"gridcolor\":\"white\",\"linecolor\":\"white\",\"ticks\":\"\"}},\"title\":{\"x\":0.05},\"xaxis\":{\"automargin\":true,\"gridcolor\":\"white\",\"linecolor\":\"white\",\"ticks\":\"\",\"title\":{\"standoff\":15},\"zerolinecolor\":\"white\",\"zerolinewidth\":2},\"yaxis\":{\"automargin\":true,\"gridcolor\":\"white\",\"linecolor\":\"white\",\"ticks\":\"\",\"title\":{\"standoff\":15},\"zerolinecolor\":\"white\",\"zerolinewidth\":2}}},\"title\":{\"text\":\"Performance of Different Models Using 5-Fold Cross-Validation\"},\"paper_bgcolor\":\"rgb(243, 243, 243)\",\"plot_bgcolor\":\"rgb(243, 243, 243)\",\"xaxis\":{\"title\":{\"text\":\"Model\"}},\"yaxis\":{\"title\":{\"text\":\"Error Cuadr\\u00e1tico Medio\"}},\"showlegend\":false},                        {\"responsive\": true}                    ).then(function(){\n",
              "                            \n",
              "var gd = document.getElementById('55d26992-cc81-43a6-83bd-51eda8bda1c8');\n",
              "var x = new MutationObserver(function (mutations, observer) {{\n",
              "        var display = window.getComputedStyle(gd).display;\n",
              "        if (!display || display === 'none') {{\n",
              "            console.log([gd, 'removed!']);\n",
              "            Plotly.purge(gd);\n",
              "            observer.disconnect();\n",
              "        }}\n",
              "}});\n",
              "\n",
              "// Listen for the removal of the full notebook cells\n",
              "var notebookContainer = gd.closest('#notebook-container');\n",
              "if (notebookContainer) {{\n",
              "    x.observe(notebookContainer, {childList: true});\n",
              "}}\n",
              "\n",
              "// Listen for the clearing of the current output cell\n",
              "var outputEl = gd.closest('.output');\n",
              "if (outputEl) {{\n",
              "    x.observe(outputEl, {childList: true});\n",
              "}}\n",
              "\n",
              "                        })                };                            </script>        </div>\n",
              "</body>\n",
              "</html>"
            ]
          },
          "metadata": {}
        }
      ],
      "source": [
        "plot_results(model_scores, name='stacking_model_cv')"
      ],
      "metadata": {
        "id": "0xHI6hUIPZo3",
        "colab": {
          "base_uri": "https://localhost:8080/",
          "height": 542
        },
        "outputId": "b5b9eaac-c03e-44ad-b345-cad1c6440794"
      }
    },
    {
      "cell_type": "markdown",
      "source": [
        "Entrenamos el modelo:"
      ],
      "metadata": {
        "collapsed": false,
        "id": "aWrkP5EDPZo3"
      }
    },
    {
      "cell_type": "code",
      "execution_count": 40,
      "outputs": [
        {
          "output_type": "stream",
          "name": "stdout",
          "text": [
            "[22:30:45] WARNING: /workspace/src/objective/regression_obj.cu:152: reg:linear is now deprecated in favor of reg:squarederror.\n"
          ]
        },
        {
          "output_type": "stream",
          "name": "stderr",
          "text": [
            "[Parallel(n_jobs=1)]: Using backend SequentialBackend with 1 concurrent workers.\n",
            "[Parallel(n_jobs=1)]: Done   1 out of   1 | elapsed:  1.2min remaining:    0.0s\n",
            "[Parallel(n_jobs=1)]: Done   5 out of   5 | elapsed:  8.0min finished\n",
            "[Parallel(n_jobs=1)]: Using backend SequentialBackend with 1 concurrent workers.\n"
          ]
        },
        {
          "output_type": "stream",
          "name": "stdout",
          "text": [
            "[22:38:59] WARNING: /workspace/src/objective/regression_obj.cu:152: reg:linear is now deprecated in favor of reg:squarederror.\n"
          ]
        },
        {
          "output_type": "stream",
          "name": "stderr",
          "text": [
            "[Parallel(n_jobs=1)]: Done   1 out of   1 | elapsed:    8.0s remaining:    0.0s\n"
          ]
        },
        {
          "output_type": "stream",
          "name": "stdout",
          "text": [
            "[22:39:07] WARNING: /workspace/src/objective/regression_obj.cu:152: reg:linear is now deprecated in favor of reg:squarederror.\n",
            "[22:39:15] WARNING: /workspace/src/objective/regression_obj.cu:152: reg:linear is now deprecated in favor of reg:squarederror.\n",
            "[22:39:25] WARNING: /workspace/src/objective/regression_obj.cu:152: reg:linear is now deprecated in favor of reg:squarederror.\n",
            "[22:39:34] WARNING: /workspace/src/objective/regression_obj.cu:152: reg:linear is now deprecated in favor of reg:squarederror.\n"
          ]
        },
        {
          "output_type": "stream",
          "name": "stderr",
          "text": [
            "[Parallel(n_jobs=1)]: Done   5 out of   5 | elapsed:   42.2s finished\n",
            "[Parallel(n_jobs=1)]: Using backend SequentialBackend with 1 concurrent workers.\n",
            "[Parallel(n_jobs=1)]: Done   1 out of   1 | elapsed:    2.6s remaining:    0.0s\n",
            "[Parallel(n_jobs=1)]: Done   5 out of   5 | elapsed:   13.8s finished\n"
          ]
        },
        {
          "output_type": "execute_result",
          "data": {
            "text/plain": [
              "StackingRegressor(cv=5,\n",
              "                  estimators=[('KNN',\n",
              "                               KNeighborsRegressor(algorithm='ball_tree',\n",
              "                                                   leaf_size=18,\n",
              "                                                   metric='manhattan',\n",
              "                                                   n_neighbors=1)),\n",
              "                              ('XGBoost',\n",
              "                               XGBRegressor(colsample_bytree=0.3, gamma=0.1,\n",
              "                                            learning_rate=0.3, max_depth=6,\n",
              "                                            min_child_weight=5, missing=nan)),\n",
              "                              ('AdaBoost',\n",
              "                               AdaBoostRegressor(learning_rate=1.03,\n",
              "                                                 n_estimators=8))],\n",
              "                  final_estimator=GradientBoostingRegressor(), passthrough=True,\n",
              "                  verbose=2)"
            ]
          },
          "metadata": {},
          "execution_count": 40
        }
      ],
      "source": [
        "stacking_model.fit(x_train_stacking, y_train_stacking)"
      ],
      "metadata": {
        "id": "8vZCAvllPZo3",
        "colab": {
          "base_uri": "https://localhost:8080/"
        },
        "outputId": "b12947a3-b0ee-4836-ed75-1f8ae11bf412"
      }
    },
    {
      "cell_type": "markdown",
      "source": [
        "Finalmente haremos la predicción:"
      ],
      "metadata": {
        "collapsed": false,
        "id": "jATILdyAPZo3"
      }
    },
    {
      "cell_type": "code",
      "execution_count": 41,
      "outputs": [],
      "source": [
        "y_pred_stacking = stacking_model.predict(x_test_stacking)"
      ],
      "metadata": {
        "id": "rFYyc97WPZo3"
      }
    },
    {
      "cell_type": "markdown",
      "source": [
        "#### Métricas"
      ],
      "metadata": {
        "collapsed": false,
        "id": "Hj3JubfsPZo3"
      }
    },
    {
      "cell_type": "markdown",
      "source": [
        "Para poder evaluar la performance que obtuvo nuestro modelo utilizaremos la métrica de evaluación del `error cuadrático medio` (MSE) como se pide por enunciado."
      ],
      "metadata": {
        "collapsed": false,
        "id": "qhlkzf1IPZo3"
      }
    },
    {
      "cell_type": "code",
      "execution_count": 45,
      "outputs": [
        {
          "output_type": "stream",
          "name": "stdout",
          "text": [
            "La métrica 'Mean Square Error' de test es: 74468989103.93723\n",
            "La métrica 'Root Mean Square Error' de test es: 272890.0678000891\n",
            "La métrica 'R2 Score' de test es: 0.41038471426711143\n"
          ]
        }
      ],
      "source": [
        "mse = metrics.mean_squared_error(\n",
        "    y_true  = y_test_stacking,\n",
        "    y_pred  = y_pred_stacking,\n",
        "    squared = True\n",
        ")\n",
        "\n",
        "print(f\"La métrica 'Mean Square Error' de test es: {mse}\")\n",
        "\n",
        "rmse = metrics.mean_squared_error(\n",
        "    y_true  = y_test_stacking,\n",
        "    y_pred  = y_pred_stacking,\n",
        "    squared = False\n",
        ")\n",
        "\n",
        "print(f\"La métrica 'Root Mean Square Error' de test es: {rmse}\")\n",
        "\n",
        "r2 = metrics.r2_score(\n",
        "    y_true  = y_test_stacking,\n",
        "    y_pred  = y_pred_stacking\n",
        ")\n",
        "\n",
        "print(f\"La métrica 'R2 Score' de test es: {r2}\")"
      ],
      "metadata": {
        "id": "DS2YOr3pPZo4",
        "colab": {
          "base_uri": "https://localhost:8080/"
        },
        "outputId": "3fa3b9c8-51ec-45ad-d8ae-f96b4a6375dc"
      }
    },
    {
      "cell_type": "markdown",
      "source": [
        "#### Exportación de Datos"
      ],
      "metadata": {
        "collapsed": false,
        "id": "aetoS539PZo4"
      }
    },
    {
      "cell_type": "markdown",
      "source": [
        "Finalmente, exportamos el modelo utilizado:"
      ],
      "metadata": {
        "collapsed": false,
        "id": "iUg5dmj5PZo4"
      }
    },
    {
      "cell_type": "code",
      "execution_count": 29,
      "outputs": [
        {
          "output_type": "execute_result",
          "data": {
            "text/plain": [
              "['/content/drive/MyDrive/Orga/MODELOS/Stacking_Regressor.joblib']"
            ]
          },
          "metadata": {},
          "execution_count": 29
        }
      ],
      "source": [
        "if IN_COLAB:\n",
        "  path = '/content/drive/MyDrive/Orga/MODELOS/Stacking_Regressor.joblib'\n",
        "else:\n",
        "  path = './MODELOS/Stacking_Regressor.joblib'\n",
        "\n",
        "dump(stacking_model, path)"
      ],
      "metadata": {
        "id": "V-IJz-kzPZo4",
        "colab": {
          "base_uri": "https://localhost:8080/"
        },
        "outputId": "8c2bc6e9-a564-4ed5-8335-e45f2ed776aa"
      }
    },
    {
      "cell_type": "markdown",
      "source": [
        "## Conclusiones"
      ],
      "metadata": {
        "collapsed": false,
        "id": "hTOsP-M-PZo4"
      }
    },
    {
      "cell_type": "markdown",
      "source": [
        "A modo de finalización de este trabajo, haremos un pequeño repaso sobre todos los puntos que analizamos y sus respectivos resultados y/o observaciones hechos por nosotros:\n",
        "\n",
        "Sobre el análisis realizado en el apartado de **procesamiento del lenguaje natural**, y en particular haciendo referencia a las métricas que obtuvimos luego del entrenamiento y predicción con el dataset producto de la ampliación, utilizando el modelo XGBoost, pudimos observar que si bien aún las métricas no nos resultan del todo satisfactorias cumplen con el objetivo de mejorar las resultantes del trabajo anterior. Más allá de que la cantidad de aciertos continúa sin incrementar, tanto el MSE como el RMSE decrecieron ofreciendo mejores resultados. Por otro lado, el coeficiente de determinación se incrementó notoriamente llegando casi a un 0.9%. En lo que respecta a *feature importance*, realizamos la misma enfocándonos en los atributos de cada uno de los aspectos elegidos como más importantes del dataset general. Cabe destacar que obtuvimos los mismos resultados con y sin optimizar los hiperparámetros del modelo de regresión.\n",
        "\n",
        "En cuanto a lo referido sobre **redes neuronales**, la comparación será directamente en base a los nuevos modelos ya que el dataset utilizado es compartido en ambos trabajos. Dicho esto, el error cometido en el modelo de regresión es significativamente pequeño. Teniendo en cuenta los resultantes del TP1, si utilizamos el menor luego de que éstos tuvieron su optimización de parámetros correspondiente, notamos que el que mejor performa es XGBoost con un MSE de 51 mil millones (al cual de todas formas le atribuímos arrastre de error en nuestro planteo). Utilizando redes neuronales cometemos tan solo un error cuadrático medio equivalente a 1.36. Por otro lado, en lo que respecta al modelo de clasificación, obtuvimos resultados bastante similares. Si bien tanto el accuracy, precisión y F1-Score dieron distintos, la diferencia es de tan solo uno/dos puntos. Con esto concluimos que para clasificación no se notan mejoras por sobre los modelos utilizados en el trabajo anterior.\n",
        "\n",
        "Como último requerimiento se pidió estudiar las métricas tanto para regresión como clasificación pero haciendo uso de **ensambles**, en particular de tipo híbridos. En lo que respecta al utilizado para clasificación (Voting) obtuvimos mejores resultados para las métricas de Accuracy, Recall y F1-Score. Sin embargo, aunque en Precisión disminuyó un poco, esta diferencia continúa siendo no significativa. Pasando al ensamble de regresión (Stacking) el MSE resultante que obtuvimos fue 106 mil millones que si bien continúa siendo alto, luego de aplicar la optimización de hiperparámetros como nos fue recomendado como corrección de esta reentrega este número se redujo a la mitad que obtenido en la entrega inicial. Mas allá de esto, al continuar siendo este bastante grosero, creemos que nuevamente estamos cometiendo involuntariamente algún arrastre de error en alguno de los incisos desarrollados, ya que este error es incluso mayor a los cometidos en los modelos individuales desarrollados en el TP1, y no estaría respetando la regla principal de ‘*La sabiduría de las multitudes*’."
      ],
      "metadata": {
        "collapsed": false,
        "id": "LdhJ9a7tPZo4"
      }
    }
  ],
  "metadata": {
    "kernelspec": {
      "display_name": "Python 3",
      "language": "python",
      "name": "python3"
    },
    "language_info": {
      "codemirror_mode": {
        "name": "ipython",
        "version": 2
      },
      "file_extension": ".py",
      "mimetype": "text/x-python",
      "name": "python",
      "nbconvert_exporter": "python",
      "pygments_lexer": "ipython2",
      "version": "2.7.6"
    },
    "colab": {
      "provenance": [],
      "collapsed_sections": [
        "EAT6HU3buhLU",
        "_kG7ZRlKuaxT",
        "D8sgMCouvLx-"
      ]
    }
  },
  "nbformat": 4,
  "nbformat_minor": 0
}