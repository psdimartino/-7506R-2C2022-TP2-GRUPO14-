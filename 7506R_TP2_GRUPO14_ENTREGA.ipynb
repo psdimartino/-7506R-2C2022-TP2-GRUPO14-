{
 "cells": [
  {
   "cell_type": "markdown",
   "source": [
    "______________________________________\n",
    "# <center>**Trabajo Practico Nº2 para la Materia *Organización de Datos***</center>\n",
    "\n",
    "*Integrantes*:\n",
    "- 103963\tCarolina Di Matteo\tcdimatteo@fi.uba.ar\n",
    "- 101231\tPablo Salvador Dimartino\tpdimartino@fi.uba.ar\n",
    "- 100113\tJuan Sebastian Burgos\tjsburgos@fi.uba.ar\n",
    "- 104415\tValentina Laura Correa\tvcorrea@fi.uba.ar\n",
    "\n",
    "*Grupo*: 14\n",
    "\n",
    "*Repositorio*: [github](https://github.com/valencorrea/7506R-2C2022-GRUPO14)\n",
    "\n",
    "*Curso*: Rodriguez\n",
    "\n",
    "*Cuatrimestre*: 2c2022\n",
    "\n",
    "Datos provistos por [properati](https://www.properati.com.ar).\n",
    "______________________________________\n"
   ],
   "metadata": {
    "collapsed": false,
    "id": "ALhQpMoS2Do2"
   }
  },
  {
   "cell_type": "markdown",
   "source": [
    "## Introducción"
   ],
   "metadata": {
    "id": "jrObdaVTw13E"
   }
  },
  {
   "cell_type": "markdown",
   "source": [
    "El presente trabajo práctico es una continuación del ‘TP1: Propiedades en Venta’. \n",
    "\n",
    "En la entrega anterior se propuso aplicar técnicas de análisis exploratorio, preprocesamiento de datos, agrupamiento, clasificación y regresión. Siguiendo esta línea, y con el objetivo de continuar resolviendo problemas reales de ciencia de datos, en esta segunda parte se implementarán nuevos modelos predictivos a partir de los anteriormente mencionados. \n",
    "\n",
    "En esta oportunidad se buscará demostrar los conocimientos adquiridos sobre procesamiento del lenguaje natural, redes neuronales y ensamble de modelos. Para esto se utilizarán tanto datasets provistos por la materia, tomados de la página de la empresa Properati, como los generados por el grupo en el trabajo anterior."
   ],
   "metadata": {
    "id": "8Tot765gvLP2"
   }
  },
  {
   "cell_type": "markdown",
   "source": [
    "## 0. Setup"
   ],
   "metadata": {
    "id": "civIgEQKvQ6A"
   }
  },
  {
   "cell_type": "markdown",
   "source": [
    "### Importación de bibliotecas"
   ],
   "metadata": {
    "id": "vrqonJJjvVay"
   }
  },
  {
   "cell_type": "code",
   "execution_count": null,
   "outputs": [],
   "source": [
    "pip install visualkeras"
   ],
   "metadata": {
    "id": "h6RrCiyq2Do7",
    "colab": {
     "base_uri": "https://localhost:8080/"
    },
    "outputId": "3e7b3e93-b112-4351-a933-5d45f291d371"
   }
  },
  {
   "cell_type": "code",
   "source": [
    "pip install unidecode"
   ],
   "metadata": {
    "id": "vdZzPMc93I-C",
    "colab": {
     "base_uri": "https://localhost:8080/"
    },
    "outputId": "045bdfc2-9805-43c2-c41d-1cd20aa7efce"
   },
   "execution_count": null,
   "outputs": []
  },
  {
   "cell_type": "code",
   "source": [
    "pip install types-all"
   ],
   "metadata": {
    "id": "7SrZ6Pvh8b_K",
    "colab": {
     "base_uri": "https://localhost:8080/"
    },
    "outputId": "2aff2586-af7e-4665-9009-c3ba548ce286"
   },
   "execution_count": null,
   "outputs": []
  },
  {
   "cell_type": "code",
   "execution_count": null,
   "outputs": [],
   "source": [
    "#Importación de librerías\n",
    "\n",
    "import numpy as np\n",
    "import matplotlib.pyplot as plt\n",
    "import seaborn as sns\n",
    "import pandas as pd\n",
    "\n",
    "from xgboost import XGBRegressor\n",
    "from xgboost import plot_importance\n",
    "from scipy.stats import zscore\n",
    "from sklearn.preprocessing import StandardScaler\n",
    "from tensorflow import keras\n",
    "from sklearn.metrics import confusion_matrix\n",
    "from sklearn.ensemble import StackingRegressor\n",
    "from sklearn.ensemble import AdaBoostRegressor\n",
    "from sklearn.neighbors import KNeighborsRegressor\n",
    "from sklearn.tree import DecisionTreeClassifier\n",
    "from sklearn.ensemble import RandomForestClassifier\n",
    "from sklearn.neighbors import KNeighborsClassifier\n",
    "from sklearn.ensemble import VotingClassifier\n",
    "from collections import Counter\n",
    "import unidecode\n",
    "import re\n",
    "from joblib import load, dump\n",
    "from sklearn.metrics import make_scorer\n",
    "from sklearn.model_selection import RandomizedSearchCV, StratifiedKFold\n",
    "from keras.metrics import MeanSquaredError\n",
    "from sklearn.metrics import recall_score, accuracy_score, f1_score, precision_score, r2_score\n",
    "from sklearn import metrics\n",
    "from sklearn.model_selection import cross_val_score, RepeatedStratifiedKFold\n",
    "from collections import defaultdict\n",
    "\n",
    "#Configuración de Warnings\n",
    "import warnings\n",
    "warnings.filterwarnings('ignore')\n",
    "warnings.simplefilter(action='ignore', category=FutureWarning)\n",
    "warnings.simplefilter(action='ignore', category=UserWarning)\n",
    "\n",
    "#Ejecución con Drive\n",
    "if 'google.colab' in str(get_ipython()):\n",
    "    IN_COLAB = True\n",
    "else:\n",
    "    IN_COLAB = False\n",
    "\n",
    "if IN_COLAB :\n",
    "    from google.colab import drive\n",
    "    drive.mount('/content/drive')\n",
    "\n",
    "    properati = pd.read_csv('/content/drive/MyDrive/📔 Organización de Datos (75.06)/TPS/TP2/1d_df_reducido.csv')\n",
    "    properati_descrip = pd.read_csv('/content/drive/MyDrive/📔 Organización de Datos (75.06)/TPS/TP1/properati_argentina_2021_decrip.csv')\n",
    "    stop_words = '/content/drive/MyDrive/📔 Organización de Datos (75.06)/TPS/TP2/stopwords.txt'\n",
    "else:\n",
    "    # properati = pd.read_csv('./1d_df_reducido.csv')\n",
    "    df_train = pd.read_csv('./DATASETS/df_train_tp1.csv')\n",
    "    df_test = pd.read_csv('./DATASETS/df_test_tp1.csv')\n",
    "    properati_descrip = pd.read_csv('properati_argentina_2021_decrip.csv')\n",
    "    stop_words = 'stopwords'"
   ],
   "metadata": {
    "collapsed": false
   }
  },
  {
   "cell_type": "markdown",
   "source": [
    "### Funciones auxiliares"
   ],
   "metadata": {
    "collapsed": false
   }
  },
  {
   "cell_type": "code",
   "execution_count": null,
   "outputs": [],
   "source": [
    "def metricas_clasificacion(y_test, y_pred):\n",
    "    print(f'Accuracy: {round(accuracy_score(y_test, y_pred),2)}')\n",
    "    print(f'Precision: {round(precision_score(y_test, y_pred, average=\"macro\"),2)}')\n",
    "    print(f'Recall: {round(recall_score(y_test, y_pred, average=\"macro\"),2)}')\n",
    "    print(f'F1 Score: {round(f1_score(y_test, y_pred, average=\"macro\"),2)}')"
   ],
   "metadata": {
    "collapsed": false
   }
  },
  {
   "cell_type": "code",
   "execution_count": null,
   "outputs": [],
   "source": [
    "def prediccion_y_metricas_regresion(regressor, x_test, y_test):\n",
    "\n",
    "  y_pred = regressor.predict(x_test)\n",
    "\n",
    "  print(f\"Se obtuvo un Score de {round(regressor.score(x_test, y_test)*100,3)}%\")\n",
    "\n",
    "  mse = metrics.mean_squared_error(\n",
    "        y_true  = y_test,\n",
    "        y_pred  = y_pred,\n",
    "        squared = True\n",
    "       )\n",
    "\n",
    "  print(f\"El error según la métrica 'Mean Square Error' de test es: {mse}\")\n",
    "\n",
    "  rmse = metrics.mean_squared_error(\n",
    "        y_true  = y_test,\n",
    "        y_pred  = y_pred,\n",
    "        squared = False\n",
    "       )\n",
    "\n",
    "  print(f\"El error según la métrica 'Root Mean Square Error' de test es: {rmse}\")\n",
    "\n",
    "  return"
   ],
   "metadata": {
    "collapsed": false
   }
  },
  {
   "cell_type": "code",
   "source": [
    "def format_aspects(line, word):\n",
    "    format = r\"\\W*([\\w]+)\"\n",
    "    n = 2\n",
    "    x = re.search(r'{}\\W*{}{}'.format(format*n, word, format*n), line)\n",
    "    if x is not None:\n",
    "        return x.group()\n",
    "    else:\n",
    "        return \"\""
   ],
   "metadata": {
    "id": "CCKsO-A5w7TQ"
   },
   "execution_count": null,
   "outputs": []
  },
  {
   "cell_type": "code",
   "source": [
    "def convert_b_m_a(x):\n",
    "    mx = max(x[0], x[1], x[2])\n",
    "    if mx == x[0]:\n",
    "        return 'bajo'\n",
    "    elif mx == x[1]:\n",
    "        return 'medio'\n",
    "    elif mx == x[2]:\n",
    "        return 'alto'"
   ],
   "metadata": {
    "id": "3suAr0ciwY91"
   },
   "execution_count": null,
   "outputs": []
  },
  {
   "cell_type": "code",
   "source": [
    "def estandarizar(df, columns):\n",
    "  sscaler = StandardScaler()\n",
    "\n",
    "  for col in columns:\n",
    "    df[col] = sscaler.fit_transform(pd.DataFrame(df[col]))"
   ],
   "metadata": {
    "id": "0LF1eyB9l4nt"
   },
   "execution_count": null,
   "outputs": []
  },
  {
   "cell_type": "code",
   "execution_count": null,
   "outputs": [],
   "source": [
    "def limpiar_values_de_aspects(df, aspects, values):\n",
    "    i = 0\n",
    "    for aspect in aspects:\n",
    "        for word in values[i]:\n",
    "            df[aspect] = df[aspect].apply(lambda line: word if word in line else line)\n",
    "        df[aspect] = df[aspect].apply(lambda line: line if len(line.split())<2 else '')\n",
    "        i = i+1"
   ],
   "metadata": {
    "id": "AAEy2PV92DpO"
   }
  },
  {
   "cell_type": "code",
   "source": [
    "def evaluate_model(model, x, y, splits, n):\n",
    "    cv = RepeatedStratifiedKFold(n_splits=splits, n_repeats=n, random_state=1)\n",
    "    scores = cross_val_score(model, x, y, scoring='neg_mean_squared_error', cv=cv, verbose=1, n_jobs=3, error_score='raise')\n",
    "    return scores"
   ],
   "metadata": {
    "id": "tDt5-bPcEn_m"
   },
   "execution_count": null,
   "outputs": []
  },
  {
   "cell_type": "code",
   "source": [
    "import plotly.graph_objects as go\n",
    "\n",
    "def plot_results(model_scores, name):\n",
    "    \n",
    "    model_names = list(model_scores.keys())\n",
    "    results = [model_scores[model] for model in model_names]\n",
    "    fig = go.Figure()\n",
    "    for model, result in zip(model_names, results):\n",
    "        fig.add_trace(go.Box(\n",
    "            y=result,\n",
    "            name=model,\n",
    "            boxpoints='all',\n",
    "            jitter=0.5,\n",
    "            whiskerwidth=0.2,\n",
    "            marker_size=2,\n",
    "            line_width=1)\n",
    "        )\n",
    "    \n",
    "    fig.update_layout(\n",
    "    title='Performance of Different Models Using 5-Fold Cross-Validation',\n",
    "    paper_bgcolor='rgb(243, 243, 243)',\n",
    "    plot_bgcolor='rgb(243, 243, 243)',\n",
    "    xaxis_title='Model',\n",
    "    yaxis_title='Error Cuadrático Medio',\n",
    "    showlegend=False)\n",
    "    fig.show()"
   ],
   "metadata": {
    "id": "NImxsouY4HaJ"
   },
   "execution_count": null,
   "outputs": []
  },
  {
   "cell_type": "markdown",
   "source": [
    "### Preparación de datasets"
   ],
   "metadata": {
    "id": "yG33nESmvkqN"
   }
  },
  {
   "cell_type": "code",
   "execution_count": null,
   "outputs": [],
   "source": [
    "df_train_x = df_train.drop([\"property_price\", \"tipo_precio_3\"], axis=\"columns\")\n",
    "df_train_y_regresion = df_train[\"property_price\"]\n",
    "df_train_y_clasificacion = df_train[\"tipo_precio_3\"]\n",
    "\n",
    "df_test_x = df_test.drop([\"property_price\", \"tipo_precio_3\"], axis=\"columns\")\n",
    "df_test_y_regresion = df_test[\"property_price\"]\n",
    "df_test_y_clasificacion = df_test[\"tipo_precio_3\"]"
   ],
   "metadata": {
    "id": "TG2e42GCvuKG"
   }
  },
  {
   "cell_type": "markdown",
   "source": [
    "## 1. Procesamiento del Lenguaje Natural"
   ],
   "metadata": {
    "collapsed": false,
    "id": "DajLENWv2DpA"
   }
  },
  {
   "cell_type": "markdown",
   "source": [
    "### 1.a Ampliación del dataset\n",
    "___"
   ],
   "metadata": {
    "id": "mmjJ3qskuJyJ"
   }
  },
  {
   "cell_type": "markdown",
   "source": [
    "Hagamos un merge del dataset original y el de descripciones, y quedémonos únicamente con las columnas `id` y `property_description`:"
   ],
   "metadata": {
    "id": "904YC-oLyddb"
   }
  },
  {
   "cell_type": "code",
   "execution_count": null,
   "outputs": [],
   "source": [
    "df_descrip = pd.merge(df_train_x, properati_descrip, on=\"id\")\n",
    "df_descrip = df_descrip[[\"id\", \"property_description\"]]\n",
    "\n",
    "df_test_descrip = pd.merge(df_test_x, properati_descrip, on=\"id\")\n",
    "df_test_descrip = df_test_descrip[[\"id\", \"property_description\"]]"
   ],
   "metadata": {
    "colab": {
     "base_uri": "https://localhost:8080/",
     "height": 363
    },
    "id": "vRbU2jpk2Do_",
    "outputId": "44fcabfb-0e8b-496a-881f-0de5fbc8f3e6"
   }
  },
  {
   "cell_type": "code",
   "execution_count": null,
   "outputs": [],
   "source": [
    "df_test_descrip"
   ],
   "metadata": {
    "collapsed": false
   }
  },
  {
   "cell_type": "markdown",
   "source": [
    "Busquemos aspectos de una propiedad utilizando la columna `property_description`."
   ],
   "metadata": {
    "id": "uCEL8YyUxYaa"
   }
  },
  {
   "cell_type": "markdown",
   "source": [
    "Veamos cuántos registros nulos existen:"
   ],
   "metadata": {
    "id": "tAEE-G_QzCXj"
   }
  },
  {
   "cell_type": "code",
   "execution_count": null,
   "outputs": [],
   "source": [
    "print(f\"Hay {df_descrip['property_description'].isna().sum()} datos nulos.\")"
   ],
   "metadata": {
    "colab": {
     "base_uri": "https://localhost:8080/"
    },
    "id": "ydHTArN62DpA",
    "outputId": "532aec7a-b0bc-4f97-d56d-80ee53135a25"
   }
  },
  {
   "cell_type": "markdown",
   "source": [
    "Veamos cuáles son las 100 palabras más comunes en el campo de descripción de propiedades:"
   ],
   "metadata": {
    "id": "t4hiRECrz3Wa"
   }
  },
  {
   "cell_type": "code",
   "execution_count": null,
   "outputs": [],
   "source": [
    "Counter(\" \".join(df_descrip[\"property_description\"]).split()).most_common(100)"
   ],
   "metadata": {
    "colab": {
     "base_uri": "https://localhost:8080/"
    },
    "id": "WpAlq6jJ2DpC",
    "outputId": "ba6d7ea0-e0b6-4446-d3e2-550d723373d2"
   }
  },
  {
   "cell_type": "markdown",
   "source": [
    "Podemos observar que podríamos optimizar el texto mediante algunas técnicas de reducción y/o transformación. Entre otras:"
   ],
   "metadata": {
    "id": "iwnQ6tgt0MRV"
   }
  },
  {
   "cell_type": "markdown",
   "source": [
    "Eliminemos la etiqueta `<br>` de html:"
   ],
   "metadata": {
    "id": "qK78Ucya0Ugr"
   }
  },
  {
   "cell_type": "code",
   "source": [
    "df_descrip[\"property_description\"] = df_descrip[\"property_description\"].apply(lambda line: line.replace(\"<br>\", \" \"))\n",
    "df_test_descrip[\"property_description\"] = df_test_descrip[\"property_description\"].apply(lambda line: line.replace(\"<br>\", \" \"))"
   ],
   "metadata": {
    "id": "_o_B51Zk0hGz"
   },
   "execution_count": null,
   "outputs": []
  },
  {
   "cell_type": "markdown",
   "source": [
    "Transformemos todas las palabras a minúsculas, de modo que el contador no realice distinciones:"
   ],
   "metadata": {
    "id": "pyNp4Y520yHS"
   }
  },
  {
   "cell_type": "code",
   "source": [
    "df_descrip[\"property_description\"] = df_descrip[\"property_description\"].apply(lambda line: line.lower())\n",
    "df_test_descrip[\"property_description\"] = df_test_descrip[\"property_description\"].apply(lambda line: line.lower())\n"
   ],
   "metadata": {
    "id": "VWBmcgfI04Ge"
   },
   "execution_count": null,
   "outputs": []
  },
  {
   "cell_type": "markdown",
   "source": [
    "Quitemos los tíldes de las letras:"
   ],
   "metadata": {
    "id": "WpSPMtks1bZz"
   }
  },
  {
   "cell_type": "code",
   "source": [
    "df_descrip[\"property_description\"] = df_descrip[\"property_description\"].apply(lambda line: unidecode.unidecode(line))\n",
    "df_test_descrip[\"property_description\"] = df_test_descrip[\"property_description\"].apply(lambda line: unidecode.unidecode(line))"
   ],
   "metadata": {
    "id": "KWHrTmAG1dGn"
   },
   "execution_count": null,
   "outputs": []
  },
  {
   "cell_type": "markdown",
   "source": [
    "Eliminemos los símbolos:"
   ],
   "metadata": {
    "id": "tpUndCZy1j2X"
   }
  },
  {
   "cell_type": "code",
   "source": [
    "df_descrip[\"property_description\"] = df_descrip[\"property_description\"].apply(lambda line: re.sub(r'[^\\w]', ' ', line))\n",
    "df_test_descrip[\"property_description\"] = df_test_descrip[\"property_description\"].apply(lambda line: re.sub(r'[^\\w]', ' ', line))"
   ],
   "metadata": {
    "id": "sWcF2SIJ1lfG"
   },
   "execution_count": null,
   "outputs": []
  },
  {
   "cell_type": "markdown",
   "source": [
    "Eliminemos los espacios múltiples entre palabras:"
   ],
   "metadata": {
    "id": "bdqDlvqN1rL1"
   }
  },
  {
   "cell_type": "code",
   "execution_count": null,
   "outputs": [],
   "source": [
    "df_descrip[\"property_description\"] = df_descrip[\"property_description\"].apply(lambda line: re.sub(\"\\s\\s+\" , \" \", line))\n",
    "df_test_descrip[\"property_description\"] = df_test_descrip[\"property_description\"].apply(lambda line: re.sub(\"\\s\\s+\" , \" \", line))"
   ],
   "metadata": {
    "id": "uQvajcwC2DpE"
   }
  },
  {
   "cell_type": "markdown",
   "source": [
    "Utilizando el contenido del archivo `stop_words.txt`, eliminemos palabras sin significado del datset y colocamos los cambios en uno nuevo:"
   ],
   "metadata": {
    "id": "BzcWZSJY4GPs"
   }
  },
  {
   "cell_type": "code",
   "execution_count": null,
   "outputs": [],
   "source": [
    "with open(stop_words) as f:\n",
    "    lines = f.read().splitlines()\n",
    "\n",
    "f = lambda x: ' '.join([item for item in x.split() if item not in lines])\n",
    "\n",
    "df_descrip[\"property_description\"] = df_descrip[\"property_description\"].apply(f)\n",
    "df_test_descrip[\"property_description\"] = df_test_descrip[\"property_description\"].apply(f)"
   ],
   "metadata": {
    "id": "FrOeCCBY2DpF"
   }
  },
  {
   "cell_type": "markdown",
   "source": [
    "Luego de estas transformaciones, veamos cuáles son las palabras más utilizadas:"
   ],
   "metadata": {
    "id": "JYXs-85EVQwx"
   }
  },
  {
   "cell_type": "code",
   "execution_count": null,
   "outputs": [],
   "source": [
    "Counter(\" \".join(df_descrip[\"property_description\"]).split()).most_common(100)"
   ],
   "metadata": {
    "colab": {
     "base_uri": "https://localhost:8080/"
    },
    "id": "FNYcv0DM2DpG",
    "outputId": "eed3ff96-3911-4d2a-a042-969e76b82e01"
   }
  },
  {
   "cell_type": "markdown",
   "source": [
    "Seleccionemos los aspectos que nos parecen relevantes, para luego buscar sus posibles valores.\n",
    "\n",
    "Para esto, elegimos: `cocina`, `pisos`, `calefaccion`, `expensas`, `lavadero`, `balcon`, `cochera` y `aire` y limpiamos cualquier tipo de formato restante en el dataset:"
   ],
   "metadata": {
    "collapsed": false,
    "id": "Ai_Odw_x2DpG"
   }
  },
  {
   "cell_type": "code",
   "source": [
    "aspectos = ['cocina', 'pisos', 'calefaccion', 'expensas', 'lavadero', 'balcon', 'cochera', 'aire']"
   ],
   "metadata": {
    "id": "BkHpD1gtB7e_"
   },
   "execution_count": null,
   "outputs": []
  },
  {
   "cell_type": "code",
   "execution_count": null,
   "outputs": [],
   "source": [
    "for word in aspectos:\n",
    "    df_descrip[word] = df_descrip[\"property_description\"].apply(lambda line: format_aspects(line, word))\n",
    "    df_test_descrip[word] = df_test_descrip[\"property_description\"].apply(lambda line: format_aspects(line, word))"
   ],
   "metadata": {
    "id": "AnaswxtR2DpH"
   }
  },
  {
   "cell_type": "markdown",
   "source": [
    "Veamos cuáles son las 15 palabras más comunes para cada uno de los aspectos elegidos:"
   ],
   "metadata": {
    "id": "EDsk7Bjgx116"
   }
  },
  {
   "cell_type": "code",
   "source": [
    "cant_val_aspectos = 15"
   ],
   "metadata": {
    "id": "eYdLqsvGyNcj"
   },
   "execution_count": null,
   "outputs": []
  },
  {
   "cell_type": "markdown",
   "source": [
    "#### Aspecto `cocina`\n",
    "\n",
    "\n"
   ],
   "metadata": {
    "id": "wWJKdB85y1l0"
   }
  },
  {
   "cell_type": "code",
   "execution_count": null,
   "outputs": [],
   "source": [
    "Counter(\" \".join(df_descrip[\"cocina\"]).split()).most_common(cant_val_aspectos)"
   ],
   "metadata": {
    "id": "l-7v9FP82DpH",
    "colab": {
     "base_uri": "https://localhost:8080/"
    },
    "outputId": "6bea24da-1ae1-4df4-eb9a-5fddb082398b"
   }
  },
  {
   "cell_type": "markdown",
   "source": [
    "Para `cocina`, los valores podrían ser: \n",
    "- integrada\n",
    "- lavadero\n",
    "- completa"
   ],
   "metadata": {
    "collapsed": false,
    "id": "6ACLlV0F2DpI"
   }
  },
  {
   "cell_type": "markdown",
   "source": [
    "#### Aspecto `pisos`"
   ],
   "metadata": {
    "id": "1XQ4TVyUzSqc"
   }
  },
  {
   "cell_type": "code",
   "execution_count": null,
   "outputs": [],
   "source": [
    "Counter(\" \".join(df_descrip[\"pisos\"]).split()).most_common(cant_val_aspectos)"
   ],
   "metadata": {
    "id": "UQQMsrnL2DpI",
    "colab": {
     "base_uri": "https://localhost:8080/"
    },
    "outputId": "a261ec0d-9cd6-4277-98b0-7b18d0b28211"
   }
  },
  {
   "cell_type": "markdown",
   "source": [
    "Para `pisos`, los valores podrían ser: \n",
    "- porcelanato\n",
    "- parquet\n",
    "- madera"
   ],
   "metadata": {
    "collapsed": false,
    "id": "l39ZahiN2DpJ"
   }
  },
  {
   "cell_type": "markdown",
   "source": [
    "#### Aspecto `calefaccion`"
   ],
   "metadata": {
    "id": "a4pG3YbW1wnt"
   }
  },
  {
   "cell_type": "code",
   "execution_count": null,
   "outputs": [],
   "source": [
    "Counter(\" \".join(df_descrip[\"calefaccion\"]).split()).most_common(cant_val_aspectos)"
   ],
   "metadata": {
    "id": "RPZApHfA2DpJ",
    "colab": {
     "base_uri": "https://localhost:8080/"
    },
    "outputId": "67f4d899-74cf-4d93-ea99-c89946b6f262"
   }
  },
  {
   "cell_type": "markdown",
   "source": [
    "Para `calefaccion`, los valores podrían ser: \n",
    "- radiadores\n",
    "- radiante\n",
    "- central\n",
    "- individual"
   ],
   "metadata": {
    "collapsed": false,
    "id": "Mt-7dfsl2DpK"
   }
  },
  {
   "cell_type": "markdown",
   "source": [
    "#### Aspecto `expensas`"
   ],
   "metadata": {
    "id": "XfzRZc861ysa"
   }
  },
  {
   "cell_type": "code",
   "execution_count": null,
   "outputs": [],
   "source": [
    "Counter(\" \".join(df_descrip[\"expensas\"]).split()).most_common(cant_val_aspectos*2)"
   ],
   "metadata": {
    "id": "iRKPdGhA2DpK",
    "colab": {
     "base_uri": "https://localhost:8080/"
    },
    "outputId": "e89ec902-f5d3-45e5-df24-45d796fd889b"
   }
  },
  {
   "cell_type": "markdown",
   "source": [
    "Para `expensas`, los valores podrían ser: \n",
    "- servicios\n",
    "- impuestos \n",
    "- bajas"
   ],
   "metadata": {
    "collapsed": false,
    "id": "C7EiojY82DpK"
   }
  },
  {
   "cell_type": "markdown",
   "source": [
    "#### Aspecto `lavadero`"
   ],
   "metadata": {
    "id": "ZVVvuLxu11U0"
   }
  },
  {
   "cell_type": "code",
   "execution_count": null,
   "outputs": [],
   "source": [
    "Counter(\" \".join(df_descrip[\"lavadero\"]).split()).most_common(cant_val_aspectos)"
   ],
   "metadata": {
    "id": "sAzBKC5c2DpK",
    "colab": {
     "base_uri": "https://localhost:8080/"
    },
    "outputId": "c811e281-914c-4804-fe87-064ada17a12d"
   }
  },
  {
   "cell_type": "markdown",
   "source": [
    "Para `lavadero`, los valores podrían ser: \n",
    "- independiente\n",
    "- cocina\n",
    "- comedor"
   ],
   "metadata": {
    "collapsed": false,
    "id": "i8zxU-Co2DpL"
   }
  },
  {
   "cell_type": "markdown",
   "source": [
    "#### Aspecto `balcon`"
   ],
   "metadata": {
    "id": "0opxhwgx122i"
   }
  },
  {
   "cell_type": "code",
   "execution_count": null,
   "outputs": [],
   "source": [
    "Counter(\" \".join(df_descrip[\"balcon\"]).split()).most_common(cant_val_aspectos)"
   ],
   "metadata": {
    "id": "geCmhGct2DpL",
    "colab": {
     "base_uri": "https://localhost:8080/"
    },
    "outputId": "7f9103b9-03aa-4035-dd78-c3a1c435e833"
   }
  },
  {
   "cell_type": "markdown",
   "source": [
    "Para `balcon`, los valores podrían ser: \n",
    "- frente\n",
    "- amplio \n",
    "- terraza \n",
    "- salida \n",
    "- corrido\n",
    "- luminoso"
   ],
   "metadata": {
    "collapsed": false,
    "id": "GUiM00PQ2DpL"
   }
  },
  {
   "cell_type": "markdown",
   "source": [
    "#### Aspecto `cochera`"
   ],
   "metadata": {
    "id": "W05qxE7f138s"
   }
  },
  {
   "cell_type": "code",
   "execution_count": null,
   "outputs": [],
   "source": [
    "Counter(\" \".join(df_descrip[\"cochera\"]).split()).most_common(cant_val_aspectos*2)"
   ],
   "metadata": {
    "id": "vF7x7sFV2DpL",
    "colab": {
     "base_uri": "https://localhost:8080/"
    },
    "outputId": "aa1e9494-2db9-48dd-8101-5987d80ccb55"
   }
  },
  {
   "cell_type": "markdown",
   "source": [
    "Para `cochera`, los valores podrían ser: \n",
    "- fija\n",
    "- cubierta"
   ],
   "metadata": {
    "collapsed": false,
    "id": "_sGYjhjF2DpM"
   }
  },
  {
   "cell_type": "markdown",
   "source": [
    "#### Aspecto `aire`"
   ],
   "metadata": {
    "id": "ehAh9leY2Lfu"
   }
  },
  {
   "cell_type": "code",
   "execution_count": null,
   "outputs": [],
   "source": [
    "Counter(\" \".join(df_descrip[\"aire\"]).split()).most_common(cant_val_aspectos)"
   ],
   "metadata": {
    "id": "eQlqeMRa2DpM",
    "colab": {
     "base_uri": "https://localhost:8080/"
    },
    "outputId": "fa0a82b5-9f5b-4ab4-80b7-f0090e746727"
   }
  },
  {
   "cell_type": "markdown",
   "source": [
    "Para `aire`, posibles valores son: \n",
    "- split \n",
    "- central \n",
    "- acondicionado"
   ],
   "metadata": {
    "collapsed": false,
    "id": "9hWHT90P2DpM"
   }
  },
  {
   "cell_type": "markdown",
   "source": [
    "#### Consolidación de valores"
   ],
   "metadata": {
    "id": "fF4R61si2RJI"
   }
  },
  {
   "cell_type": "markdown",
   "source": [
    "A continuación creamos la variable `values`, que contiene los posibles valores para cada uno de los aspectos elegidos:"
   ],
   "metadata": {
    "collapsed": false,
    "id": "ZTu9pPYV2DpN"
   }
  },
  {
   "cell_type": "code",
   "execution_count": null,
   "outputs": [],
   "source": [
    "values_cocina = ['integrada' , 'lavadero' , 'completa']\n",
    "values_pisos = ['porcelanato' , 'parquet' , 'madera']\n",
    "values_calefaccion = ['radiadores' , 'radiante' , 'central' , 'individual']\n",
    "values_expensas = ['serviocios' , 'impuestos' , 'bajas']\n",
    "values_lavadero = ['independiente' , 'cocina' , 'comedor']\n",
    "values_balcon = ['frente' , 'amplio' , 'terraza' , 'salida' , 'corrido' , 'luminoso']\n",
    "values_cochera = ['fija' , 'cubierta']\n",
    "values_aire = ['split' , 'central' , 'acondicionado']"
   ],
   "metadata": {
    "id": "8woiCcO32DpN"
   }
  },
  {
   "cell_type": "code",
   "source": [
    "values = [values_cocina, values_pisos, values_calefaccion, values_expensas, values_lavadero, values_balcon, values_cochera, values_aire]"
   ],
   "metadata": {
    "id": "CFU_0j0EGUE5"
   },
   "execution_count": null,
   "outputs": []
  },
  {
   "cell_type": "markdown",
   "source": [
    "En primer lugar, creamos un dataset auxiliar que tenga los IDs y las columnas de los aspectos:"
   ],
   "metadata": {
    "collapsed": false,
    "id": "B9JpAzOi2DpN"
   }
  },
  {
   "cell_type": "code",
   "execution_count": null,
   "outputs": [],
   "source": [
    "aux_df = df_descrip.copy()\n",
    "aux_df_test = df_test_descrip.copy()\n",
    "\n",
    "aux_df.drop('property_description', inplace=True, axis=1)\n",
    "aux_df_test.drop('property_description', inplace=True, axis=1)"
   ],
   "metadata": {
    "id": "Z617kPUE2DpN"
   }
  },
  {
   "cell_type": "markdown",
   "source": [
    "Luego creamos una función a la que -pasándole un dataset, los aspectos y el listado de valores posibles- reemplace el contenido de las columnas por los valores correspondientes."
   ],
   "metadata": {
    "collapsed": false,
    "id": "qpHzefm72DpO"
   }
  },
  {
   "cell_type": "markdown",
   "source": [
    "Modificamos las columnas de los aspectos, para que sólo queden los valores correspondientes:"
   ],
   "metadata": {
    "collapsed": false,
    "id": "8A7lmncH2DpO"
   }
  },
  {
   "cell_type": "code",
   "execution_count": null,
   "outputs": [],
   "source": [
    "limpiar_values_de_aspects(aux_df, aspectos, values)\n",
    "limpiar_values_de_aspects(aux_df_test, aspectos, values)\n",
    "aux_df.head(20)"
   ],
   "metadata": {
    "id": "WXhzGxCl2DpO",
    "colab": {
     "base_uri": "https://localhost:8080/",
     "height": 677
    },
    "outputId": "3355d0c0-87e8-4707-b349-e4d9b468bfa9"
   }
  },
  {
   "cell_type": "markdown",
   "source": [
    "Por último hacemos el merge con el dataset original, teniendo en cuenta los IDs:"
   ],
   "metadata": {
    "collapsed": false,
    "id": "Ia2LxOLq2DpP"
   }
  },
  {
   "cell_type": "code",
   "execution_count": null,
   "outputs": [],
   "source": [
    "df = df_train_x.copy()\n",
    "df = pd.merge(df,aux_df, on=\"id\")\n",
    "df.drop(\"id\", inplace=True, axis=\"columns\")\n",
    "\n",
    "df_test = df_test_x.copy()\n",
    "df_test = pd.merge(df_test,aux_df_test, on=\"id\")\n",
    "df_test.drop(\"id\", inplace=True, axis=\"columns\")\n",
    "\n",
    "df.head(20)"
   ],
   "metadata": {
    "id": "I2x-X60t2DpP",
    "colab": {
     "base_uri": "https://localhost:8080/",
     "height": 914
    },
    "outputId": "9aa74e5a-0b67-4010-a31b-a2f67689e136"
   }
  },
  {
   "cell_type": "markdown",
   "source": [
    "#### Exportación de Datos"
   ],
   "metadata": {
    "id": "rN3FutIEHrf2"
   }
  },
  {
   "cell_type": "markdown",
   "source": [
    "Exportamos los datasets generados:"
   ],
   "metadata": {
    "id": "xd-CoUsZHtL9"
   }
  },
  {
   "cell_type": "code",
   "source": [
    "if IN_COLAB:\n",
    "  path = '/content/drive/MyDrive/📔 Organización de Datos (75.06)/TPS/TP2/DATASETS/1a_df_descrip.csv'\n",
    "else:\n",
    "  path = 'DATASETS/1a_df_descrip.csv'\n",
    "\n",
    "df_descrip.to_csv(path)"
   ],
   "metadata": {
    "id": "qr1jlB8QH16Z"
   },
   "execution_count": null,
   "outputs": []
  },
  {
   "cell_type": "code",
   "source": [
    "if IN_COLAB:\n",
    "  path = '/content/drive/MyDrive/📔 Organización de Datos (75.06)/TPS/TP2/DATASETS/1a_df_ampliado.csv'\n",
    "else:\n",
    "  path = 'DATASETS/1a_df_ampliado.csv'\n",
    "\n",
    "df.to_csv(path)"
   ],
   "metadata": {
    "id": "QTsLoqr-IHOX"
   },
   "execution_count": null,
   "outputs": []
  },
  {
   "cell_type": "markdown",
   "source": [
    "### 1.b Modelos\n",
    "___"
   ],
   "metadata": {
    "collapsed": false,
    "id": "fI1Fi95S2DpP"
   }
  },
  {
   "cell_type": "markdown",
   "source": [
    "#### Sin optimización de hiperparámetros"
   ],
   "metadata": {
    "id": "ldOrNGnEaE5H"
   }
  },
  {
   "cell_type": "markdown",
   "source": [
    "Entrenemos un modelo de XGBoost con los mismos hiperparámetros utilizados en el TP1."
   ],
   "metadata": {
    "id": "a2X0YkeUUL1X"
   }
  },
  {
   "cell_type": "markdown",
   "source": [
    "Realizamos One Hot Encoding para las nuevas variables cualitativas:"
   ],
   "metadata": {
    "collapsed": false,
    "id": "WqUMr9_r2DpQ"
   }
  },
  {
   "cell_type": "code",
   "execution_count": null,
   "outputs": [],
   "source": [
    "df_dummies = pd.get_dummies(df, columns=['cocina', 'pisos', 'lavadero', 'calefaccion', 'expensas', 'balcon', 'cochera', 'aire'], drop_first=True)\n",
    "df_test_dummies = pd.get_dummies(df_test, columns=['cocina', 'pisos', 'lavadero', 'calefaccion', 'expensas', 'balcon', 'cochera', 'aire'], drop_first=True)\n",
    "df_dummies.head(5)"
   ],
   "metadata": {
    "id": "5e0r2Yj-2DpQ",
    "colab": {
     "base_uri": "https://localhost:8080/",
     "height": 300
    },
    "outputId": "9345f93a-6a15-48ed-ebd9-8004cb87637f"
   }
  },
  {
   "cell_type": "code",
   "execution_count": null,
   "outputs": [],
   "source": [
    "df_dummies"
   ],
   "metadata": {
    "collapsed": false
   }
  },
  {
   "cell_type": "markdown",
   "source": [
    "Entrenamos el modelo:"
   ],
   "metadata": {
    "id": "I6cp1CI3ZKLx"
   }
  },
  {
   "cell_type": "code",
   "source": [
    "df_test_dummies"
   ],
   "metadata": {
    "id": "kQ5AadFSfxhE",
    "colab": {
     "base_uri": "https://localhost:8080/"
    },
    "outputId": "044f7dba-5555-4d62-b84e-494ca9febd99"
   },
   "execution_count": null,
   "outputs": []
  },
  {
   "cell_type": "code",
   "execution_count": null,
   "outputs": [],
   "source": [
    "XGB_Regressor = XGBRegressor(min_child_weight = 5, max_depth = 6, learning_rate = 0.3, gamma = 0.1, colsample_bytree = 0.3)\n",
    "XGB_Regressor.fit(df_dummies, df_train_y_regresion)"
   ],
   "metadata": {
    "collapsed": false
   }
  },
  {
   "cell_type": "markdown",
   "source": [
    "Hagamos las predicciones y veamos cómo resultaron las métricas del modelo:"
   ],
   "metadata": {
    "collapsed": false
   }
  },
  {
   "cell_type": "code",
   "execution_count": null,
   "outputs": [],
   "source": [
    "prediccion_y_metricas_regresion(XGB_Regressor,df_test_dummies, df_test_y_regresion)"
   ],
   "metadata": {
    "collapsed": false
   }
  },
  {
   "cell_type": "markdown",
   "source": [
    "### Importancia de features\n",
    "Graficamos los 15 features más importantes para el modelo con los hiperparámetros del TP1"
   ],
   "metadata": {
    "collapsed": false
   }
  },
  {
   "cell_type": "code",
   "execution_count": null,
   "outputs": [],
   "source": [
    "sorted_idx = XGB_Regressor.feature_importances_.argsort()\n",
    "sorted_idx = sorted_idx[-15:]\n",
    "plt.barh(df_test_dummies.columns[sorted_idx], XGB_Regressor.feature_importances_[sorted_idx])\n",
    "plt.xlabel(\"Xgboost Feature Importance\")"
   ],
   "metadata": {
    "collapsed": false
   }
  },
  {
   "cell_type": "markdown",
   "source": [
    "Podemos observar que el feature más importante es la ubicación en Puerto Madero, seguido de cantidad de habitaciones y ubicación en Palermo Chico."
   ],
   "metadata": {
    "collapsed": false
   }
  },
  {
   "cell_type": "markdown",
   "source": [
    "## Con optimización de hiperparámetros"
   ],
   "metadata": {
    "id": "CkJCoGXnaN1y"
   }
  },
  {
   "cell_type": "markdown",
   "source": [
    "Veamos cómo se comporta el score con la optimización de hiperparámetros:"
   ],
   "metadata": {
    "collapsed": false,
    "id": "Su2wKojB2DpR"
   }
  },
  {
   "cell_type": "code",
   "execution_count": null,
   "outputs": [],
   "source": [
    "params_grid = {'learning_rate': [0.20, 0.25, 0.30],\n",
    "               'max_depth': [4, 5, 6, 8, 10],\n",
    "               'min_child_weight': [1, 3, 5, 7, 9],\n",
    "               'gamma': [0.1, 0.2 , 0.3, 0.4, 0.5],\n",
    "               'colsample_bytree' : [0.3, 0.4, 0.5, 0.7, 0.8]}\n",
    "\n",
    "randomCV = RandomizedSearchCV(estimator = XGBRegressor(),\n",
    "                              param_distributions = params_grid,\n",
    "                              scoring = make_scorer(r2_score),\n",
    "                              cv = StratifiedKFold(n_splits = 5),\n",
    "                              n_iter = 5)\n",
    "\n",
    "randomCV.fit(df_dummies, df_train_y_regresion)"
   ],
   "metadata": {
    "id": "7RTpJeq92DpS",
    "colab": {
     "base_uri": "https://localhost:8080/"
    },
    "outputId": "c628a9ba-c22a-41d7-fe70-c2cac713f798"
   }
  },
  {
   "cell_type": "code",
   "execution_count": null,
   "outputs": [],
   "source": [
    "randomCV.best_params_"
   ],
   "metadata": {
    "collapsed": false
   }
  },
  {
   "cell_type": "code",
   "execution_count": null,
   "outputs": [],
   "source": [
    "prediccion_y_metricas_regresion(randomCV.best_estimator_,df_test_dummies, df_test_y_regresion)"
   ],
   "metadata": {
    "collapsed": false
   }
  },
  {
   "cell_type": "markdown",
   "source": [
    "Observamos que, si bien las métricas mejoraron, las diferencias al optimizar los parámetros no fueron muy significativas."
   ],
   "metadata": {
    "collapsed": false
   }
  },
  {
   "cell_type": "markdown",
   "source": [
    "### Importancia de features\n",
    "Graficamos los 15 features más importantes para el modelo con los hiperparámetros optimizados"
   ],
   "metadata": {
    "collapsed": false
   }
  },
  {
   "cell_type": "code",
   "execution_count": null,
   "outputs": [],
   "source": [
    "sorted_idx = randomCV.best_estimator_.feature_importances_.argsort()\n",
    "sorted_idx = sorted_idx[-15:]\n",
    "plt.barh(df_test_dummies.columns[sorted_idx], randomCV.best_estimator_.feature_importances_[sorted_idx])\n",
    "plt.xlabel(\"Xgboost Feature Importance\")"
   ],
   "metadata": {
    "collapsed": false
   }
  },
  {
   "cell_type": "markdown",
   "source": [
    "Podemos ver que la ubicación en Puerto Madero tiene aún más peso que en el modelo anterior y también como algunos de los features con los que expandimos el dataset (calefaccion_radiante y cochera_fija) toman más protagonismo, al igual que la superficie total."
   ],
   "metadata": {
    "collapsed": false
   }
  },
  {
   "cell_type": "markdown",
   "source": [
    "#### Exportación del Modelo\n",
    "Finalmente exportamos el modelo utilizado para predecir, resultante de la optimización de hiperparámetros:"
   ],
   "metadata": {
    "id": "_f0JxWEL8GUY"
   }
  },
  {
   "cell_type": "code",
   "source": [
    "if IN_COLAB:\n",
    "  path = '/content/drive/MyDrive/📔 Organización de Datos (75.06)/TPS/TP2/MODELOS/XGB_Regressor.json'\n",
    "else:\n",
    "  path = './MODELOS/XGB_Regressor.json'\n",
    "\n",
    "randomCV.best_estimator_.save_model(path)"
   ],
   "metadata": {
    "id": "RNVI92fe8WEP",
    "colab": {
     "base_uri": "https://localhost:8080/"
    },
    "outputId": "9e1b9542-5eec-4f40-edbc-ebf7c8cecc42"
   },
   "execution_count": null,
   "outputs": []
  },
  {
   "cell_type": "markdown",
   "source": [
    "## 2. Redes Neuronales"
   ],
   "metadata": {
    "collapsed": false,
    "id": "HWpWT3GZ_TQT"
   }
  },
  {
   "cell_type": "markdown",
   "source": [
    "Trabajemos con el dataset reducido del primer TP y entrenemos dos modelos de redes neuronales para regresión y clasificación."
   ],
   "metadata": {
    "id": "o5Npv7MVLad3"
   }
  },
  {
   "cell_type": "markdown",
   "source": [
    "Aplicamos One Hot Encoding y separamos en train y test:"
   ],
   "metadata": {
    "id": "7wRCkK8XMHDb"
   }
  },
  {
   "cell_type": "code",
   "source": [
    "df_properati = pd.get_dummies(properati, columns=['place_l4', 'property_type'], drop_first=False)\n",
    "\n",
    "properati_x_train = df_properati.sample(frac=0.8, random_state=200)\n",
    "properati_y_train = properati_x_train[\"property_price\"]\n",
    "properati_x_train.drop([\"property_price\"], inplace=True, axis=1)\n",
    "\n",
    "properati_x_test = df_properati.drop(properati_x_train.index)\n",
    "properati_y_test = properati_x_test[\"property_price\"]\n",
    "properati_x_test.drop([\"property_price\"], inplace=True, axis=1)"
   ],
   "metadata": {
    "id": "2gl5TKHVjFWU"
   },
   "execution_count": null,
   "outputs": []
  },
  {
   "cell_type": "code",
   "source": [
    "x_train_regressor = properati_x_train.copy()\n",
    "y_train_regressor = properati_y_train.copy()\n",
    "x_test_regressor = properati_x_test.copy()\n",
    "y_test_regressor = properati_y_test.copy()"
   ],
   "metadata": {
    "id": "jUfurX9ZMG15"
   },
   "execution_count": null,
   "outputs": []
  },
  {
   "cell_type": "code",
   "source": [
    "x_train_regressor.drop([\"id\"], inplace=True, axis=1)\n",
    "\n",
    "x_test_regressor.drop([\"id\"], inplace=True, axis=1)"
   ],
   "metadata": {
    "id": "PSvAjpkM1avz"
   },
   "execution_count": null,
   "outputs": []
  },
  {
   "cell_type": "code",
   "source": [
    "x_train_classifier = properati_x_train.copy()\n",
    "y_train_classifier = properati_y_train.copy()\n",
    "x_test_classifier = properati_x_test.copy()\n",
    "y_test_classifier = properati_y_test.copy()"
   ],
   "metadata": {
    "id": "M6PaYzXiMVrR"
   },
   "execution_count": null,
   "outputs": []
  },
  {
   "cell_type": "code",
   "source": [
    "x_train_classifier[\"property_m2price\"] = y_train_classifier / x_train_classifier[\"property_surface_total\"]\n",
    "x_train_classifier.sort_values(by=[\"property_m2price\"], inplace=True)\n",
    "x_train_classifier['tipo_precio_3'] = pd.qcut(x=x_train_classifier.loc[properati['property_type'] == 'Departamento']['property_m2price'], q=4, labels=['bajo', 'medio', 'medio2', 'alto']).replace(\"medio2\",\"medio\")\n",
    "x_train_classifier['tipo_precio_3'].fillna(pd.qcut(x=x_train_classifier.loc[properati['property_type'] == 'Casa']['property_m2price'], q=4, labels=['bajo', 'medio', 'medio2', 'alto']).replace(\"medio2\",\"medio\"), inplace=True)\n",
    "x_train_classifier['tipo_precio_3'].fillna(pd.qcut(x=x_train_classifier.loc[properati['property_type'] == 'PH']['property_m2price'], q=4, labels=['bajo', 'medio', 'medio2', 'alto']).replace(\"medio2\",\"medio\"), inplace=True)\n",
    "\n",
    "x_test_classifier[\"property_m2price\"] = y_test_classifier / x_test_classifier[\"property_surface_total\"]\n",
    "x_test_classifier.sort_values(by=[\"property_m2price\"], inplace=True)\n",
    "x_test_classifier['tipo_precio_3'] = pd.qcut(x=x_test_classifier.loc[properati['property_type'] == 'Departamento']['property_m2price'], q=4, labels=['bajo', 'medio', 'medio2', 'alto']).replace(\"medio2\",\"medio\")\n",
    "x_test_classifier['tipo_precio_3'].fillna(pd.qcut(x=x_test_classifier.loc[properati['property_type'] == 'Casa']['property_m2price'], q=4, labels=['bajo', 'medio', 'medio2', 'alto']).replace(\"medio2\",\"medio\"), inplace=True)\n",
    "x_test_classifier['tipo_precio_3'].fillna(pd.qcut(x=x_test_classifier.loc[properati['property_type'] == 'PH']['property_m2price'], q=4, labels=['bajo', 'medio', 'medio2', 'alto']).replace(\"medio2\",\"medio\"), inplace=True)"
   ],
   "metadata": {
    "id": "lhr_SBo9OWIM"
   },
   "execution_count": null,
   "outputs": []
  },
  {
   "cell_type": "code",
   "execution_count": null,
   "outputs": [],
   "source": [
    "y_train_classifier = x_train_classifier[\"tipo_precio_3\"]\n",
    "x_train_classifier.drop([\"id\", \"tipo_precio_3\", \"property_m2price\"], inplace=True, axis=1)\n",
    "\n",
    "y_test_classifier = x_test_classifier[\"tipo_precio_3\"]\n",
    "x_test_classifier.drop([\"id\", \"tipo_precio_3\", \"property_m2price\"], inplace=True, axis=1)"
   ],
   "metadata": {
    "id": "AgsGLgI-_TQV"
   }
  },
  {
   "cell_type": "markdown",
   "source": [
    "### 2.a Regresión\n",
    "___"
   ],
   "metadata": {
    "id": "2HjJDe4W_iY-"
   }
  },
  {
   "cell_type": "markdown",
   "source": [
    "#### 2.a.1 Preparación del dataset"
   ],
   "metadata": {
    "id": "5xI2H0xyYm_B"
   }
  },
  {
   "cell_type": "markdown",
   "source": [
    "Normalizamos las entradas con StandardScaler:"
   ],
   "metadata": {
    "collapsed": false,
    "id": "PKPRQVFS_TQT"
   }
  },
  {
   "cell_type": "code",
   "source": [
    "estandarizar(x_train_regressor, ['start_date', 'end_date', 'latitud', 'longitud', 'property_rooms', 'property_surface_total'])"
   ],
   "metadata": {
    "id": "s3xTEOkRlufG"
   },
   "execution_count": null,
   "outputs": []
  },
  {
   "cell_type": "code",
   "execution_count": null,
   "outputs": [],
   "source": [
    "x_train_regressor.head(5)"
   ],
   "metadata": {
    "id": "kypRw7jF_TQT",
    "colab": {
     "base_uri": "https://localhost:8080/",
     "height": 317
    },
    "outputId": "65083d9f-0051-468d-f547-44ff133f80c7"
   }
  },
  {
   "cell_type": "markdown",
   "source": [
    "#### 2.a.2 Definición de la red"
   ],
   "metadata": {
    "id": "NjqmQr4pYrEE"
   }
  },
  {
   "cell_type": "markdown",
   "source": [
    "Creamos el modelo con 2 capas ocultas, entrada de igual cantidad de columnas que el dataset, y salida de 1 parámetro:"
   ],
   "metadata": {
    "collapsed": false,
    "id": "76ZJ71U6_TQU"
   }
  },
  {
   "cell_type": "code",
   "execution_count": null,
   "outputs": [],
   "source": [
    "d_in = x_train_regressor.shape[1]\n",
    "\n",
    "modelo = keras.Sequential([\n",
    "    keras.layers.Dense(d_in, input_shape=(d_in,), activation='relu'),\n",
    "    keras.layers.Dense(30, activation='relu'),\n",
    "    keras.layers.Dense(1)\n",
    "])\n",
    "\n",
    "modelo.summary()"
   ],
   "metadata": {
    "id": "Of791qYL_TQU",
    "colab": {
     "base_uri": "https://localhost:8080/"
    },
    "outputId": "36ad3621-7858-4935-c6ae-d77034f53b1b"
   }
  },
  {
   "cell_type": "markdown",
   "source": [
    "#### 2.a.3 Entrenamiento y Predicción"
   ],
   "metadata": {
    "id": "Ao8GekM5YxJE"
   }
  },
  {
   "cell_type": "markdown",
   "source": [
    "Compilamos el modelo utilizando RMSprop como optimizador, entrenamos y predecimos:"
   ],
   "metadata": {
    "id": "P-dGpK-MZJjK"
   }
  },
  {
   "cell_type": "code",
   "execution_count": null,
   "outputs": [],
   "source": [
    "modelo.compile(\n",
    "    optimizer=keras.optimizers.RMSprop(learning_rate=0.001),\n",
    "    loss='mse',\n",
    "    metrics=[MeanSquaredError()]\n",
    ")\n",
    "\n",
    "cant_epochs = 100\n",
    "historia = modelo.fit(x_train_regressor, \n",
    "                      y_train_regressor, \n",
    "                      epochs=cant_epochs, \n",
    "                      verbose=False, \n",
    "                      use_multiprocessing=True, \n",
    "                      workers=4)\n",
    "\n",
    "y_pred_regresion = modelo.predict(x_test_regressor)"
   ],
   "metadata": {
    "id": "lLv5SJT5_TQU",
    "colab": {
     "base_uri": "https://localhost:8080/"
    },
    "outputId": "5273abe8-c428-4dda-8bd9-d49bc7f9bb22"
   }
  },
  {
   "cell_type": "markdown",
   "source": [
    "#### 2.a.4 Métricas"
   ],
   "metadata": {
    "id": "Lm9p0azkY7Jc"
   }
  },
  {
   "cell_type": "markdown",
   "source": [
    "Veamos cómo se comporta la función de pérdida según la cantidad de épocas utilizadas:"
   ],
   "metadata": {
    "id": "vmBg6ev_ZO-e"
   }
  },
  {
   "cell_type": "code",
   "execution_count": null,
   "outputs": [],
   "source": [
    "epochs = range(cant_epochs)\n",
    "plt.plot(epochs, historia.history['loss'], color='orange', label='MSE')\n",
    "plt.xlabel(\"epochs\")\n",
    "plt.ylabel(\"MSE\")\n",
    "plt.title('Error cuadrático medio por cantidad de épocas')\n",
    "plt.legend()"
   ],
   "metadata": {
    "id": "BzNqiJex_TQU",
    "colab": {
     "base_uri": "https://localhost:8080/",
     "height": 312
    },
    "outputId": "214e1825-e3d1-4d66-f0db-9b0cdf7a2550"
   }
  },
  {
   "cell_type": "code",
   "execution_count": null,
   "outputs": [],
   "source": [
    "res = modelo.evaluate(x_test_regressor, y_test_regressor)\n",
    "error = np.absolute(np.diagonal(np.subtract(y_test_regressor.values, y_pred_regresion)))\n",
    "error_porcentual = error / y_test_regressor.values\n",
    "print('El error relativo porcentual promedio es:', round(np.mean(error_porcentual),2), 'y su mediana es:', round(np.median(error_porcentual),2))\n",
    "print('El error MSE es:', round(res[1],2))"
   ],
   "metadata": {
    "id": "I8bkgfzi_TQV",
    "colab": {
     "base_uri": "https://localhost:8080/"
    },
    "outputId": "592302a4-6a6f-4df4-ab34-495c9f4e028c"
   }
  },
  {
   "cell_type": "markdown",
   "source": [
    "#### 2.a.5 Exportación de Datos"
   ],
   "metadata": {
    "id": "BeRZVagKeKzO"
   }
  },
  {
   "cell_type": "markdown",
   "source": [
    "Finalmente, exportamos el modelo utilizado:"
   ],
   "metadata": {
    "id": "lO3v9OUzeKzP"
   }
  },
  {
   "cell_type": "code",
   "source": [
    "if IN_COLAB:\n",
    "  path = '/content/drive/MyDrive/📔 Organización de Datos (75.06)/TPS/TP2/MODELOS/Redes_Regressor.joblib'\n",
    "else:\n",
    "  path = './MODELOS/Redes_Regressor.joblib'\n",
    "\n",
    "dump(modelo, path)"
   ],
   "metadata": {
    "colab": {
     "base_uri": "https://localhost:8080/"
    },
    "outputId": "ac67727c-79b0-4c22-bb79-7bd9362015f4",
    "id": "tSuqGenveKzP"
   },
   "execution_count": null,
   "outputs": []
  },
  {
   "cell_type": "markdown",
   "source": [
    "### 2.b Clasificación\n",
    "___"
   ],
   "metadata": {
    "collapsed": false,
    "id": "dXdWW-m9_TQV"
   }
  },
  {
   "cell_type": "markdown",
   "source": [
    "#### 2.b.1 Preparación del dataset"
   ],
   "metadata": {
    "id": "b176QcPLZj9N"
   }
  },
  {
   "cell_type": "markdown",
   "source": [
    "Normalizamos mediante Z-Score:"
   ],
   "metadata": {
    "collapsed": false,
    "id": "JPjRt6tTOWIL"
   }
  },
  {
   "cell_type": "code",
   "source": [
    "x_train_classifier[['start_date', 'end_date', 'latitud', 'longitud', 'property_rooms', 'property_surface_total']] = zscore(x_train_classifier[['start_date', 'end_date', 'latitud', 'longitud', 'property_rooms', 'property_surface_total']], axis=1)\n",
    "\n",
    "x_test_classifier[['start_date', 'end_date', 'latitud', 'longitud', 'property_rooms', 'property_surface_total']] = zscore(x_test_classifier[['start_date', 'end_date', 'latitud', 'longitud', 'property_rooms', 'property_surface_total']], axis=1)"
   ],
   "metadata": {
    "id": "qDlv11yi8sR1"
   },
   "execution_count": null,
   "outputs": []
  },
  {
   "cell_type": "markdown",
   "source": [
    "Aplicamos One Hot encoding a la columna target de entrenamiento, para que tenga 3 columnas al igual que la salida del modelo:"
   ],
   "metadata": {
    "collapsed": false,
    "id": "IZ2XeEKi_TQW"
   }
  },
  {
   "cell_type": "code",
   "source": [
    "y_train_classifier = pd.get_dummies(y_train_classifier, columns=['tipo_precio_3'], drop_first=False)"
   ],
   "metadata": {
    "id": "2jzMgy7b5js1"
   },
   "execution_count": null,
   "outputs": []
  },
  {
   "cell_type": "markdown",
   "source": [
    "#### 2.b.2 Definición de la red"
   ],
   "metadata": {
    "id": "ubndHWDlZosm"
   }
  },
  {
   "cell_type": "markdown",
   "source": [
    "Modelamos con 1 capa oculta de 50 unidades, que recibe como entrada las columnas del dataset. La salida tiene 3 unidades."
   ],
   "metadata": {
    "collapsed": false,
    "id": "rVHwiNd3_TQV"
   }
  },
  {
   "cell_type": "code",
   "execution_count": null,
   "outputs": [],
   "source": [
    "d_in = x_train_classifier.shape[1]\n",
    "\n",
    "modelo = keras.Sequential([\n",
    "    keras.layers.Dense(50, input_shape=(d_in,)),\n",
    "    keras.layers.Dense(3, activation='softmax')\n",
    "])\n",
    "\n",
    "modelo.summary()"
   ],
   "metadata": {
    "id": "CO0lbjPj_TQW",
    "colab": {
     "base_uri": "https://localhost:8080/"
    },
    "outputId": "1001676c-3cba-46c2-ec5c-2037f6456e3e"
   }
  },
  {
   "cell_type": "markdown",
   "source": [
    "#### 2.b.3 Preparación del dataset"
   ],
   "metadata": {
    "id": "phaglpnGaCUe"
   }
  },
  {
   "cell_type": "markdown",
   "source": [
    "Compilamos el modelo con optimizador Adam y loss de crossentropy categórico. Procedemos a entrenar y predecir:"
   ],
   "metadata": {
    "collapsed": false,
    "id": "tP9PVcKR_TQW"
   }
  },
  {
   "cell_type": "code",
   "execution_count": null,
   "outputs": [],
   "source": [
    "modelo.compile(\n",
    "    optimizer=keras.optimizers.Adam(learning_rate=0.001),\n",
    "    loss='categorical_crossentropy',\n",
    "    metrics=['AUC', 'Accuracy', 'Recall', 'Precision'],\n",
    ")\n",
    "\n",
    "cant_epochs=100\n",
    "historia = modelo.fit(x_train_classifier, y_train_classifier, epochs=cant_epochs, verbose=False, use_multiprocessing=True, workers=4)"
   ],
   "metadata": {
    "id": "BZnWP4OU_TQX"
   }
  },
  {
   "cell_type": "code",
   "source": [
    "y_pred_clasificacion = modelo.predict(x_test_classifier)"
   ],
   "metadata": {
    "colab": {
     "base_uri": "https://localhost:8080/"
    },
    "id": "JNz3xaWK6Aca",
    "outputId": "3528ae04-109c-4e62-c26f-28a5895c9349"
   },
   "execution_count": null,
   "outputs": []
  },
  {
   "cell_type": "markdown",
   "source": [
    "#### 2.b.4 Métricas"
   ],
   "metadata": {
    "id": "W-KMjjHwaFjg"
   }
  },
  {
   "cell_type": "markdown",
   "source": [
    "En este caso, veamos cómo se comporta la métrica AUC, y -por tanto-, cómo se comprota el acierto según la cantidad de épocas utilizada:"
   ],
   "metadata": {
    "id": "ez-lm0I4aXhi"
   }
  },
  {
   "cell_type": "code",
   "execution_count": null,
   "outputs": [],
   "source": [
    "epochs = range(cant_epochs)\n",
    "\n",
    "plt.plot(epochs, historia.history['auc'], color='orange', label='AUC')\n",
    "plt.xlabel(\"Epochs\")\n",
    "plt.ylabel(\"AUC\")\n",
    "plt.title('Area bajo la curva por cantidad de épocas')\n",
    "plt.legend()"
   ],
   "metadata": {
    "id": "FY6s9jDN_TQX",
    "colab": {
     "base_uri": "https://localhost:8080/",
     "height": 312
    },
    "outputId": "92099716-14d4-4180-a056-75237cbca7ef"
   }
  },
  {
   "cell_type": "markdown",
   "source": [
    "Reorganizamos los valores predichos para que queden en una sola columna, y comparamos con el conjunto de prueba:"
   ],
   "metadata": {
    "collapsed": false,
    "id": "f_9yDT0-_TQX"
   }
  },
  {
   "cell_type": "code",
   "execution_count": null,
   "outputs": [],
   "source": [
    "y_pred_clasificacion_arr = np.apply_along_axis(convert_b_m_a, axis=1, arr=y_pred_clasificacion)"
   ],
   "metadata": {
    "id": "bKKV7SQ5_TQX"
   }
  },
  {
   "cell_type": "markdown",
   "source": [
    "Seguimos reacomodando los valores para poder calcular las métricas correspondientes, notemos que no pueden guardarse valores equivalentes al string 'medio' en el array:"
   ],
   "metadata": {
    "id": "wMY6UF4RI8Ip"
   }
  },
  {
   "cell_type": "code",
   "source": [
    "np.unique(y_pred_clasificacion_arr)"
   ],
   "metadata": {
    "colab": {
     "base_uri": "https://localhost:8080/"
    },
    "id": "qth1TiSnKsCs",
    "outputId": "81f40da8-a27b-4b55-e9ac-1ae0963a0ae7"
   },
   "execution_count": null,
   "outputs": []
  },
  {
   "cell_type": "markdown",
   "source": [
    "Aplicamos estrategias de transformación de datos:"
   ],
   "metadata": {
    "id": "CX9WD9mAJFPi"
   }
  },
  {
   "cell_type": "code",
   "source": [
    "y_pred_clasificacion_arr = np.where(y_pred_clasificacion_arr == 'medi', 'medio', y_pred_clasificacion_arr)"
   ],
   "metadata": {
    "id": "7_YbczvDLnY2"
   },
   "execution_count": null,
   "outputs": []
  },
  {
   "cell_type": "code",
   "source": [
    "np.unique(y_pred_clasificacion_arr)"
   ],
   "metadata": {
    "colab": {
     "base_uri": "https://localhost:8080/"
    },
    "id": "MjGQWoBRI6S_",
    "outputId": "e882496c-f3b8-4afc-804f-3a23261d6b09"
   },
   "execution_count": null,
   "outputs": []
  },
  {
   "cell_type": "markdown",
   "source": [
    "Finalmente, calculamos las métricas:"
   ],
   "metadata": {
    "id": "pfpYZ7DrMQXT"
   }
  },
  {
   "cell_type": "code",
   "source": [
    "metricas_clasificacion(y_test_classifier, y_pred_clasificacion_arr)"
   ],
   "metadata": {
    "colab": {
     "base_uri": "https://localhost:8080/"
    },
    "id": "hS1ZCcYyGb_i",
    "outputId": "cf8b045e-ef5c-4899-f337-a53604f12b3b"
   },
   "execution_count": null,
   "outputs": []
  },
  {
   "cell_type": "markdown",
   "source": [
    "#### 2.a.5 Exportación de Datos"
   ],
   "metadata": {
    "id": "5SsWSPw1fJYm"
   }
  },
  {
   "cell_type": "markdown",
   "source": [
    "Finalmente, exportamos el modelo utilizado:"
   ],
   "metadata": {
    "id": "IlgF2MmmfJYn"
   }
  },
  {
   "cell_type": "code",
   "source": [
    "if IN_COLAB:\n",
    "  path = '/content/drive/MyDrive/📔 Organización de Datos (75.06)/TPS/TP2/MODELOS/Redes_Classifier.joblib'\n",
    "else:\n",
    "  path = './MODELOS/Redes_Classifier.joblib'\n",
    "\n",
    "dump(modelo, path)"
   ],
   "metadata": {
    "colab": {
     "base_uri": "https://localhost:8080/"
    },
    "outputId": "48479ec0-085c-4964-aa1d-b771dc5643e4",
    "id": "yjKFj8TjfJYn"
   },
   "execution_count": null,
   "outputs": []
  },
  {
   "cell_type": "markdown",
   "metadata": {
    "id": "JDpREdwKxB6m"
   },
   "source": [
    "## 3. Ensamble de Modelos"
   ]
  },
  {
   "cell_type": "markdown",
   "metadata": {
    "id": "KvLq10beDadg"
   },
   "source": [
    "### 3.1 Ensamble Híbrido: Voting - Clasificación\n",
    "___"
   ]
  },
  {
   "cell_type": "markdown",
   "metadata": {
    "id": "EAT6HU3buhLU"
   },
   "source": [
    "#### 3.1.1 Preparación del dataset"
   ]
  },
  {
   "cell_type": "markdown",
   "metadata": {
    "id": "aZNjL2W-vZvC"
   },
   "source": [
    "Para la parte de ensambles, lo que haremos será utilizar nuevamente el dataset al cual se le aplicó una reducción de su dimensionalidad en el trabajo práctico n°1. \n",
    "\n",
    "Para esto lo que haremos será trabajar con una copia del dataset modificado al inicio del trabajo, el cual usa como base el reducido mencionado anteriormente."
   ]
  },
  {
   "cell_type": "markdown",
   "metadata": {
    "id": "fDp1eW_cHfxt"
   },
   "source": [
    "Para nuestra variable `target`, utilizaremos como convención la misma que fue planteada para el tp1. Ésta consiste en subdividir a la variable pxm2 (precio por metro cuadrado) en 3 intervalos, 25% a bajo, 50% a medio y el otro 25% restante a alto. A su vez, se hará la separación tambien por tipo de propiedad."
   ]
  },
  {
   "cell_type": "code",
   "execution_count": null,
   "metadata": {
    "id": "7T0ZW9l-dcqI"
   },
   "outputs": [],
   "source": [
    "x_train_voting = x_train_classifier\n",
    "y_train_voting = y_train_classifier\n",
    "\n",
    "x_test_voting = x_test_classifier\n",
    "y_test_voting = y_test_classifier"
   ]
  },
  {
   "cell_type": "code",
   "execution_count": null,
   "metadata": {
    "id": "sSKtHVSSgBhv",
    "colab": {
     "base_uri": "https://localhost:8080/"
    },
    "outputId": "7e1113cf-f776-44ed-aa44-8b5f1b5e75cb"
   },
   "outputs": [],
   "source": [
    "bajo = y_train_voting['bajo'].sum() + y_test_voting[y_test_voting == 'bajo'].count()\n",
    "medio = y_train_voting['medio'].sum() + y_test_voting[y_test_voting == 'medio'].count()\n",
    "alto = y_train_voting['alto'].sum() + y_test_voting[y_test_voting == 'alto'].count()\n",
    "\n",
    "print(f\"Se observaron: \\n - {round(bajo,3)} registros de tipo 'bajo'. \\n - {round(medio,3)} registros de tipo 'medio'. \\n - {round(alto,3)} registros de tipo 'alto'.\")"
   ]
  },
  {
   "cell_type": "markdown",
   "metadata": {
    "id": "_kG7ZRlKuaxT"
   },
   "source": [
    "#### 3.1.2 Definición del Ensamble"
   ]
  },
  {
   "cell_type": "markdown",
   "metadata": {
    "id": "CGYLj6zEDcf7"
   },
   "source": [
    "Para el tipo de ensamble **voting**, lo que necesitaremos será contar con `n` cantidad de modelos previamente entrenados para luego someterlos a una votación. De la misma, saldrá la clasificación para la nueva instancia en base a lo que indique la mayoría de ellos."
   ]
  },
  {
   "cell_type": "markdown",
   "metadata": {
    "id": "FTMs6ZsBDd_Y"
   },
   "source": [
    "Elegimos tomar como modelos los mismos empleados en el TP1:\n",
    "\n",
    "\n",
    "*   Árbol de Decisión\n",
    "*   Random Forest\n",
    "*   KNN\n",
    "\n"
   ]
  },
  {
   "cell_type": "code",
   "execution_count": null,
   "metadata": {
    "id": "dgIHIuvADf8f"
   },
   "outputs": [],
   "source": [
    "dcs_clf = DecisionTreeClassifier()\n",
    "rnd_clf = RandomForestClassifier()\n",
    "knn_clf = KNeighborsClassifier()"
   ]
  },
  {
   "cell_type": "markdown",
   "metadata": {
    "id": "AEgb4Z2xDon_"
   },
   "source": [
    "Una vez que contamos con los modelos que vamos a utilizar en el ensamble, procedemos a su creación. En este caso particular decidimos utilizar el tipo de votación hard el cual utilizará la regla de la mayoría. Por otro lado, utilizamos el hiperparámetro `estimators` para definir como nos vamos a referir a dichos modelos."
   ]
  },
  {
   "cell_type": "code",
   "execution_count": null,
   "metadata": {
    "id": "WlSEwC0ODq26"
   },
   "outputs": [],
   "source": [
    "vot_clf = VotingClassifier(estimators = [('dcs', dcs_clf), ('rnd', rnd_clf), ('knn', knn_clf)], voting = 'hard')"
   ]
  },
  {
   "cell_type": "markdown",
   "metadata": {
    "id": "D8sgMCouvLx-"
   },
   "source": [
    "#### 3.1.3 Entrenamiento y Predicción"
   ]
  },
  {
   "cell_type": "markdown",
   "source": [
    "Reorganizamos los valores predichos para que queden en una sola columna, y comparamos con el conjunto de prueba:"
   ],
   "metadata": {
    "collapsed": false,
    "id": "_aTA577USlsB"
   }
  },
  {
   "cell_type": "code",
   "execution_count": null,
   "outputs": [],
   "source": [
    "y_train_voting_arr = np.apply_along_axis(convert_b_m_a, axis=1, arr=y_train_voting)"
   ],
   "metadata": {
    "id": "ylyPOrZ9SlsC"
   }
  },
  {
   "cell_type": "markdown",
   "source": [
    "Seguimos reacomodando los valores para poder calcular las métricas correspondientes, notemos que no pueden guardarse valores equivalentes al string 'medio' en el array:"
   ],
   "metadata": {
    "id": "pMyijnL-SlsD"
   }
  },
  {
   "cell_type": "code",
   "source": [
    "np.unique(y_train_voting_arr)"
   ],
   "metadata": {
    "colab": {
     "base_uri": "https://localhost:8080/"
    },
    "outputId": "2c77fc73-9a4d-4580-b206-36a9e61b5c29",
    "id": "oMGsKgJLSlsE"
   },
   "execution_count": null,
   "outputs": []
  },
  {
   "cell_type": "markdown",
   "source": [
    "Aplicamos estrategias de transformación de datos:"
   ],
   "metadata": {
    "id": "mmDJFqfxSlsE"
   }
  },
  {
   "cell_type": "code",
   "source": [
    "y_train_voting_arr = np.where(y_train_voting_arr == 'medi', 'medio', y_train_voting_arr)"
   ],
   "metadata": {
    "id": "vK5dgr3SSlsE"
   },
   "execution_count": null,
   "outputs": []
  },
  {
   "cell_type": "code",
   "source": [
    "np.unique(y_train_voting_arr)"
   ],
   "metadata": {
    "colab": {
     "base_uri": "https://localhost:8080/"
    },
    "outputId": "ee0fcdf4-e5de-452b-a201-a00eac955590",
    "id": "B0Wmo-6KSlsF"
   },
   "execution_count": null,
   "outputs": []
  },
  {
   "cell_type": "markdown",
   "source": [
    "Finalmente, entrenamos el ensamle:"
   ],
   "metadata": {
    "id": "JAJbjjZ1SlsF"
   }
  },
  {
   "cell_type": "code",
   "execution_count": null,
   "metadata": {
    "id": "3yr85PLiD1vO",
    "colab": {
     "base_uri": "https://localhost:8080/"
    },
    "outputId": "8d7a3c46-504b-47cc-910a-61dcdafca1af"
   },
   "outputs": [],
   "source": [
    "vot_clf.fit(x_train_voting, y_train_voting_arr)"
   ]
  },
  {
   "cell_type": "code",
   "source": [
    "y_pred_voting = vot_clf.predict(x_test_voting)"
   ],
   "metadata": {
    "id": "0mf1Le81Ujyc"
   },
   "execution_count": null,
   "outputs": []
  },
  {
   "cell_type": "markdown",
   "metadata": {
    "id": "JTaTYoJYuv-M"
   },
   "source": [
    "#### 3.1.4 Métricas"
   ]
  },
  {
   "cell_type": "markdown",
   "metadata": {
    "id": "UoJ-lAV7Qz6M"
   },
   "source": [
    "Para poder determinar que tan bueno resulto el modelo, lo que haremos será observar las `métricas` resultantes de una predicción con los datos de test. Recordemos que nuestras funcinoes de metricas fueron definidas al inicio de este trabajo."
   ]
  },
  {
   "cell_type": "code",
   "execution_count": null,
   "metadata": {
    "id": "I1klUyeDQ3zj",
    "colab": {
     "base_uri": "https://localhost:8080/"
    },
    "outputId": "4169d9ec-d357-49ff-a018-2e5bc5b50afe"
   },
   "outputs": [],
   "source": [
    "metricas_clasificacion(y_test_voting, y_pred_voting)"
   ]
  },
  {
   "cell_type": "markdown",
   "metadata": {
    "id": "QnFftUBRQ5zk"
   },
   "source": [
    "A su vez, también podemos visualizar los mismos a través de la siguiente matriz de confusión."
   ]
  },
  {
   "cell_type": "code",
   "execution_count": null,
   "metadata": {
    "id": "I6EWIuOUQ7W7",
    "colab": {
     "base_uri": "https://localhost:8080/",
     "height": 296
    },
    "outputId": "bd3827f3-4119-424a-b408-8190687e763e"
   },
   "outputs": [],
   "source": [
    "matrix = confusion_matrix(y_test_voting, y_pred_voting)\n",
    "sns.heatmap(matrix,cmap='GnBu',annot=True,fmt='g')\n",
    "plt.xlabel('Predicted')\n",
    "plt.ylabel('True')"
   ]
  },
  {
   "cell_type": "markdown",
   "source": [
    "#### 3.1.4 Exportación de Datos"
   ],
   "metadata": {
    "id": "tm_FRzR7fvEH"
   }
  },
  {
   "cell_type": "markdown",
   "source": [
    "Finalmente, exportamos el modelo utilizado:"
   ],
   "metadata": {
    "id": "b04Kqm-IfvEI"
   }
  },
  {
   "cell_type": "code",
   "source": [
    "if IN_COLAB:\n",
    "  path = '/content/drive/MyDrive/📔 Organización de Datos (75.06)/TPS/TP2/MODELOS/Voting_Classifier.joblib'\n",
    "else:\n",
    "  path = './MODELOS/Voting_Classifier.joblib'\n",
    "\n",
    "dump(vot_clf, path)"
   ],
   "metadata": {
    "colab": {
     "base_uri": "https://localhost:8080/"
    },
    "outputId": "a5a462c0-d000-462f-9654-b9f7f87c03cc",
    "id": "flZ1yIxzfvEJ"
   },
   "execution_count": null,
   "outputs": []
  },
  {
   "cell_type": "markdown",
   "metadata": {
    "id": "3gDV2ozmQ9mb"
   },
   "source": [
    "### 3.2 Ensamble Híbrido: Stacking - Regresión\n",
    "___"
   ]
  },
  {
   "cell_type": "markdown",
   "metadata": {
    "id": "DRpAEJ7WrgeV"
   },
   "source": [
    "#### 3.1.1 Preparación del dataset"
   ]
  },
  {
   "cell_type": "markdown",
   "metadata": {
    "id": "XQwjdBg4rgeW"
   },
   "source": [
    "Nuevamente, utilizamos los datasets de train y test previamente separados:"
   ]
  },
  {
   "cell_type": "code",
   "execution_count": null,
   "metadata": {
    "id": "9obURdGWrgeW"
   },
   "outputs": [],
   "source": [
    "x_train_stacking = x_train_regressor\n",
    "y_train_stacking = y_train_regressor\n",
    "\n",
    "x_test_stacking = x_test_regressor\n",
    "y_test_stacking = y_test_regressor"
   ]
  },
  {
   "cell_type": "markdown",
   "source": [
    "#### 3.2.2 Definición del Ensamble\n"
   ],
   "metadata": {
    "id": "4FjGFid7Y7Fj"
   }
  },
  {
   "cell_type": "markdown",
   "metadata": {
    "id": "i3EG9oZ3Q_zL"
   },
   "source": [
    "Lo que haremos en esta nueva sección, será implementar un nuevo tipo de ensable híbrido con la salvedad de que esta vez utilizaremos el tipo `cascading`.\n",
    "El mismo se basa en el entrenamiento de distintos `modelos base`, y a su vez utilizará un `meta-modelo` el cual realizará su predicción en base a las predicciones de los diferentes modelos comentados anteriormente. \n",
    "\n",
    "Como es indicado por el enunciado del trabajo se utilizarán modelos de regresión. En particular, decidimos trabajar con:\n",
    "\n",
    "\n",
    "*   KNN\n",
    "*   XGBoost\n",
    "*   AdaBoost\n",
    "\n"
   ]
  },
  {
   "cell_type": "code",
   "execution_count": null,
   "metadata": {
    "id": "RABxXC92RBwq"
   },
   "outputs": [],
   "source": [
    "knn_rgs = KNeighborsRegressor()\n",
    "xgb_rgs = XGBRegressor()\n",
    "adb_rgs = AdaBoostRegressor()"
   ]
  },
  {
   "cell_type": "markdown",
   "metadata": {
    "id": "eoI5ilXVRD06"
   },
   "source": [
    "Luego utilizamos los mismos para definir nuestro modelo base, en el cual luego se basará el meta-modelo."
   ]
  },
  {
   "cell_type": "code",
   "execution_count": null,
   "metadata": {
    "id": "qK74SKO-RF4U"
   },
   "outputs": [],
   "source": [
    "base_models = [('KNN', knn_rgs),\n",
    "               ('XGBoost', xgb_rgs),\n",
    "               ('AdaBoost', adb_rgs)]"
   ]
  },
  {
   "cell_type": "markdown",
   "metadata": {
    "id": "C7j2qzBXRHd6"
   },
   "source": [
    "Como mencionamos, a continuación los utilizaremos para definir nuestro meta-modelo. Para este último, decidimos emplear el modelo de regresión logistica."
   ]
  },
  {
   "cell_type": "code",
   "execution_count": null,
   "metadata": {
    "id": "8mRJmKOSRJCy"
   },
   "outputs": [],
   "source": [
    "from sklearn.ensemble import GradientBoostingRegressor\n",
    "\n",
    "meta_model = GradientBoostingRegressor()"
   ]
  },
  {
   "cell_type": "markdown",
   "metadata": {
    "id": "PnA6P4zORKsq"
   },
   "source": [
    "Creamos nuestro ensamble indicando como modelos estimadores Knn, XGBoost y AdaBoost, y como estimador final el modelo de Regresión Lineal."
   ]
  },
  {
   "cell_type": "code",
   "source": [
    "s = 5\n",
    "n = 2"
   ],
   "metadata": {
    "id": "6j70-9G75VW2"
   },
   "execution_count": null,
   "outputs": []
  },
  {
   "cell_type": "code",
   "execution_count": null,
   "metadata": {
    "id": "YWOHgLGcRMHr"
   },
   "outputs": [],
   "source": [
    "stacking_model = StackingRegressor(estimators=base_models, \n",
    "                                    final_estimator=meta_model, \n",
    "                                    passthrough=True, \n",
    "                                    cv=s,\n",
    "                                    verbose=n)"
   ]
  },
  {
   "cell_type": "markdown",
   "source": [
    "#### 3.2.3 Entrenamiento y Predicción"
   ],
   "metadata": {
    "id": "GYCuFlWQZhlo"
   }
  },
  {
   "cell_type": "code",
   "source": [
    "model_scores = defaultdict()\n",
    "\n",
    "for name, model in base_models:\n",
    "    print('Evaluating {}'.format(name))\n",
    "    scores = evaluate_model(model, x_train_stacking, y_train_stacking, s, n)\n",
    "    model_scores[name] = scores"
   ],
   "metadata": {
    "colab": {
     "base_uri": "https://localhost:8080/"
    },
    "id": "QomGOhfXEgg7",
    "outputId": "802af35c-5845-4c92-d28b-7984416c3c4e"
   },
   "execution_count": null,
   "outputs": []
  },
  {
   "cell_type": "markdown",
   "source": [
    "Veamos cómo resultaron los scores de los modelos:"
   ],
   "metadata": {
    "id": "hyJIbF3HsxK8"
   }
  },
  {
   "cell_type": "code",
   "source": [
    "plot_results(model_scores, name='stacking_model_cv')"
   ],
   "metadata": {
    "colab": {
     "base_uri": "https://localhost:8080/",
     "height": 542
    },
    "id": "CPzQs8HBsuR4",
    "outputId": "ba891566-9a23-4fab-b9be-a7afcd81e7b6"
   },
   "execution_count": null,
   "outputs": []
  },
  {
   "cell_type": "markdown",
   "source": [
    "Entrenamos el modelo:"
   ],
   "metadata": {
    "id": "uduejW9os8-J"
   }
  },
  {
   "cell_type": "code",
   "source": [
    "stacking_model.fit(x_train_stacking, y_train_stacking)"
   ],
   "metadata": {
    "colab": {
     "base_uri": "https://localhost:8080/"
    },
    "id": "VT_HO24fk7kR",
    "outputId": "7ab9cdd6-b461-4ce7-f2c1-b4446a04a6f8"
   },
   "execution_count": null,
   "outputs": []
  },
  {
   "cell_type": "markdown",
   "source": [
    "Finalmente haremos la predicción:"
   ],
   "metadata": {
    "id": "567lujdizE8r"
   }
  },
  {
   "cell_type": "code",
   "source": [
    "y_pred_stacking = stacking_model.predict(x_test_stacking)"
   ],
   "metadata": {
    "id": "_Cw7e8GzzEFC"
   },
   "execution_count": null,
   "outputs": []
  },
  {
   "cell_type": "markdown",
   "source": [
    "#### 3.2.4 Métricas"
   ],
   "metadata": {
    "id": "mUjE089xzI7j"
   }
  },
  {
   "cell_type": "markdown",
   "source": [
    "Para poder evaluar la performance que obtuvo nuestro modelo utilizaremos la métrica de evaluación del error cuadrático medio (MSE) como se pide por enunciado."
   ],
   "metadata": {
    "id": "dLNhGzU6zNVc"
   }
  },
  {
   "cell_type": "code",
   "source": [
    "mse = metrics.mean_squared_error(\n",
    "        y_true  = y_test_stacking,\n",
    "        y_pred  = y_pred_stacking,\n",
    "        squared = True\n",
    "       )\n",
    "\n",
    "print(f\"El error según la métrica 'Mean Square Error' de test es: {mse}\")"
   ],
   "metadata": {
    "id": "ZgpouA6A0e1-",
    "colab": {
     "base_uri": "https://localhost:8080/"
    },
    "outputId": "459eb0aa-4889-45c4-869d-fc83280ddd84"
   },
   "execution_count": null,
   "outputs": []
  },
  {
   "cell_type": "markdown",
   "source": [
    "#### 3.2.4 Exportación de Datos"
   ],
   "metadata": {
    "id": "qQk2khn_gLmD"
   }
  },
  {
   "cell_type": "markdown",
   "source": [
    "Finalmente, exportamos el modelo utilizado:"
   ],
   "metadata": {
    "id": "gmlWq5XygLmE"
   }
  },
  {
   "cell_type": "code",
   "source": [
    "if IN_COLAB:\n",
    "  path = '/content/drive/MyDrive/📔 Organización de Datos (75.06)/TPS/TP2/MODELOS/Stacking_Regressor.joblib'\n",
    "else:\n",
    "  path = './MODELOS/Stacking_Regressor.joblib'\n",
    "\n",
    "dump(stacking_model, path)"
   ],
   "metadata": {
    "colab": {
     "base_uri": "https://localhost:8080/"
    },
    "outputId": "55f12e07-f440-4b03-943e-cbec60544be7",
    "id": "6ruQqkIZgLmE"
   },
   "execution_count": null,
   "outputs": []
  },
  {
   "cell_type": "markdown",
   "source": [
    "## Conclusiones"
   ],
   "metadata": {
    "id": "VFntMJUkIzEu"
   }
  },
  {
   "cell_type": "markdown",
   "source": [
    "A modo de finalización de este trabajo, haremos un pequeño repaso sobre todos los puntos que analizamos y sus respectivos resultados y/o observaciones hechos por nosotros:\n",
    "\n",
    "Sobre el análisis realizado en el apartado de **procesamiento del lenguaje natural**, y en particular haciendo referencia a las métricas que obtuvimos luego del entrenamiento y predicción con el dataset producto de la ampliación, utilizando el modelo XGBoost, pudimos observar que si bien aún las métricas no nos resultan del todo satisfactorias cumplen con el objetivo de mejorar las resultantes del trabajo anterior. Más allá de que la cantidad de aciertos continúa sin incrementar, tanto el error MSE como el RMSE decrecieron ofreciendo mejores resultados. Por otro lado, el coeficiente de determinación se incrementó notoriamente llegando casi a un 0.9%. \n",
    "\n",
    "En cuanto a lo referido sobre **redes neuronales**, la comparación será directamente en base a los nuevos modelos ya que el dataset utilizado es compartido en ambos trabajos. Dicho esto, el error cometido en el modelo de regresión es significativamente pequeño. Teniendo en cuenta los resultantes del TP1, si utilizamos el menor luego de que éstos tuvieron su optimización de parámetros correspondiente, notamos que el que mejor performa es XGBoost con un MSE de 51650994876 (al cual de todas formas le atribuímos arrastre de error en nuestro planteo). Utilizando redes neuronales cometemos tan solo un error cuadrático medio equivalente a 1.36. Por otro lado, en lo que respecta al modelo de clasificación, obtuvimos resultados bastante similares. Si bien tanto el accuracy, precisión y F1-Score dieron distintos, la diferencia es de tan solo uno/dos puntos. Con esto concluimos que para clasificación no se notan mejoras por sobre los modelos utilizados en el trabajo anterior.\n",
    "\n",
    "Como último requerimiento se pidió estudiar las métricas tanto para regresión como clasificación pero haciendo uso de **ensambles**, en particular de tipo híbridos. En lo que respecta al utilizado para clasificación (Voting) obtuvimos mejores resultados para las métricas de Accuracy, Recall y F1-Score. Sin embargo, aunque en Precisión disminuyó un poco, esta diferencia continúa siendo no significativa. Pasando al ensamble de regresión (Stacking) el MSE resultante que obtuvimos fue 238481755830. Creemos que nuevamente estamos cometiendo involuntariamente algún arrastre de error en alguno de los incisos desarrollados, ya que este error es incluso mayor a los cometidos en los modelos individuales desarrollados en el TP1, y no estaría respetando la regla principal de ‘*La sabiduría de las multitudes*’."
   ],
   "metadata": {
    "id": "CE40zH4PI4xY"
   }
  }
 ],
 "metadata": {
  "kernelspec": {
   "display_name": "Python 3",
   "language": "python",
   "name": "python3"
  },
  "language_info": {
   "codemirror_mode": {
    "name": "ipython",
    "version": 2
   },
   "file_extension": ".py",
   "mimetype": "text/x-python",
   "name": "python",
   "nbconvert_exporter": "python",
   "pygments_lexer": "ipython2",
   "version": "2.7.6"
  },
  "colab": {
   "provenance": [],
   "collapsed_sections": [
    "EAT6HU3buhLU",
    "_kG7ZRlKuaxT",
    "D8sgMCouvLx-"
   ]
  }
 },
 "nbformat": 4,
 "nbformat_minor": 0
}
